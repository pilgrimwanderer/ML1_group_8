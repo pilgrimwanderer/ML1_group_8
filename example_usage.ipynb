{
  "nbformat": 4,
  "nbformat_minor": 0,
  "metadata": {
    "colab": {
      "provenance": [],
      "authorship_tag": "ABX9TyM02IQaWefV2SEXaZrcKuh/",
      "include_colab_link": true
    },
    "kernelspec": {
      "name": "python3",
      "display_name": "Python 3"
    },
    "language_info": {
      "name": "python"
    }
  },
  "cells": [
    {
      "cell_type": "markdown",
      "metadata": {
        "id": "view-in-github",
        "colab_type": "text"
      },
      "source": [
        "<a href=\"https://colab.research.google.com/gist/pilgrimwanderer/0f868d61c33ad415b9262122c2d582af/example_usage.ipynb\" target=\"_parent\"><img src=\"https://colab.research.google.com/assets/colab-badge.svg\" alt=\"Open In Colab\"/></a>"
      ]
    },
    {
      "cell_type": "code",
      "source": [
        "!git clone https://github.com/pilgrimwanderer/ML1_group_8"
      ],
      "metadata": {
        "colab": {
          "base_uri": "https://localhost:8080/"
        },
        "id": "UQ5tOQnqzg50",
        "outputId": "56339a9f-f0d7-45be-b3c2-567217d0dbaf"
      },
      "execution_count": 1,
      "outputs": [
        {
          "output_type": "stream",
          "name": "stdout",
          "text": [
            "Cloning into 'ML1_group_8'...\n",
            "remote: Enumerating objects: 148, done.\u001b[K\n",
            "remote: Counting objects: 100% (101/101), done.\u001b[K\n",
            "remote: Compressing objects: 100% (64/64), done.\u001b[K\n",
            "remote: Total 148 (delta 28), reused 73 (delta 16), pack-reused 47 (from 1)\u001b[K\n",
            "Receiving objects: 100% (148/148), 76.27 MiB | 11.92 MiB/s, done.\n",
            "Resolving deltas: 100% (28/28), done.\n",
            "Updating files: 100% (40/40), done.\n"
          ]
        }
      ]
    },
    {
      "cell_type": "markdown",
      "source": [
        "### Declaring some global variables and importing libraries"
      ],
      "metadata": {
        "id": "uXqea05sCUBA"
      }
    },
    {
      "cell_type": "code",
      "source": [
        "%cd /content/ML1_group_8\n",
        "from src.modeling.model import DNNModel\n",
        "from src.modeling.loss import ZILNLoss, calculate_predictions\n",
        "from src.utils.early_stopping import EarlyStopping\n",
        "from src.utils.data import split_train_val, _to_torch_dataset\n",
        "from src import metrics\n",
        "from src.trainer import ModelTrainer\n",
        "from src.utils.constants import COMPANIES\n",
        "import torch\n",
        "from tqdm import tqdm\n",
        "\n",
        "import pandas as pd\n",
        "import numpy as np\n",
        "import os"
      ],
      "metadata": {
        "id": "EQbzTo45C9VY",
        "colab": {
          "base_uri": "https://localhost:8080/"
        },
        "outputId": "09292467-3673-4d74-e4f5-cb859bec7e79"
      },
      "execution_count": 2,
      "outputs": [
        {
          "output_type": "stream",
          "name": "stdout",
          "text": [
            "/content/ML1_group_8\n"
          ]
        }
      ]
    },
    {
      "cell_type": "code",
      "source": [
        "lr = 2e-4\n",
        "num_epochs = 400\n",
        "\n",
        "\n",
        "PATH = '/content/ML1_group_8/segmented_data/' #change this to your directory\n",
        "# Leave this as is if you're running on Google Colab."
      ],
      "metadata": {
        "id": "GA5FhFt3CWrv"
      },
      "execution_count": 3,
      "outputs": []
    },
    {
      "cell_type": "code",
      "source": [
        "def pipeline_ziln(company):\n",
        "    print(f\"Performing the ZILN pipeline for company {company}\")\n",
        "    df = pd.read_csv(os.path.join(PATH, f'{company}.csv'))\n",
        "\n",
        "    X_train, X_val, y_train, y_val, y0_val = split_train_val(df, random_state=11, test_size=0.2)\n",
        "    train_dataset, train_dataloader = _to_torch_dataset(X_train, y_train, train=True)\n",
        "    val_dataset, val_dataloader = _to_torch_dataset(X_val, y_val, train=False)\n",
        "    model = DNNModel(df, output_units=3)\n",
        "\n",
        "\n",
        "    optimizer = torch.optim.Adam(model.parameters(), lr=lr)\n",
        "    criterion = ZILNLoss()\n",
        "    early_stopper = EarlyStopping(patience=10, delta=0, verbose=True)\n",
        "    trainer = ModelTrainer(model, criterion, optimizer, train_dataloader, val_dataloader, epochs=num_epochs, early_stopping=early_stopper)\n",
        "    trainer.train()\n",
        "\n",
        "    y_pred = model.predict(val_dataloader)\n",
        "    report = metrics.get_metric_report(y_val, y_pred, y0_val, company=company)\n",
        "\n",
        "    return report\n",
        "\n"
      ],
      "metadata": {
        "id": "YLn3ygdnxf-1"
      },
      "execution_count": 4,
      "outputs": []
    },
    {
      "cell_type": "markdown",
      "source": [
        "### Training model"
      ],
      "metadata": {
        "id": "HSvXauOzO4N3"
      }
    },
    {
      "cell_type": "code",
      "source": [
        "COMPANIES = COMPANIES[:]\n",
        "assert len(COMPANIES) == 5"
      ],
      "metadata": {
        "id": "BjEHeQNhCBnl"
      },
      "execution_count": 5,
      "outputs": []
    },
    {
      "cell_type": "code",
      "source": [
        "for i in tqdm(range(len(COMPANIES))):\n",
        "    report = pipeline_ziln(COMPANIES[i])\n",
        "    try:\n",
        "        report.to_csv(f'ziln_reports/{COMPANIES[i]}.csv', index=False)\n",
        "    except:\n",
        "        os.mkdir('ziln_reports')\n",
        "        report.to_csv(f'ziln_reports/{COMPANIES[i]}.csv', index=False)\n"
      ],
      "metadata": {
        "id": "dI1MJ488PQpm",
        "colab": {
          "base_uri": "https://localhost:8080/"
        },
        "outputId": "38588250-4439-4ea1-da21-c901acdba12a"
      },
      "execution_count": null,
      "outputs": [
        {
          "metadata": {
            "tags": null
          },
          "name": "stderr",
          "output_type": "stream",
          "text": [
            "\r  0%|          | 0/19 [00:00<?, ?it/s]"
          ]
        },
        {
          "metadata": {
            "tags": null
          },
          "name": "stdout",
          "output_type": "stream",
          "text": [
            "Performing the ZILN pipeline for company 101200010\n"
          ]
        },
        {
          "metadata": {
            "tags": null
          },
          "name": "stderr",
          "output_type": "stream",
          "text": [
            "\n",
            "  0%|          | 0/400 [00:00<?, ?it/s]\u001b[A"
          ]
        },
        {
          "metadata": {
            "tags": null
          },
          "name": "stdout",
          "output_type": "stream",
          "text": [
            "\n",
            "\n",
            "loss: 11.501335  [50182/184023]\n",
            "loss: 8.300391  [101382/184023]\n",
            "loss: 6.880888  [152582/184023]\n"
          ]
        },
        {
          "metadata": {
            "tags": null
          },
          "name": "stderr",
          "output_type": "stream",
          "text": [
            "\n",
            "  0%|          | 1/400 [00:23<2:33:12, 23.04s/it]\u001b[A"
          ]
        },
        {
          "metadata": {
            "tags": null
          },
          "name": "stdout",
          "output_type": "stream",
          "text": [
            "Validation set: Loss: 6.05701\n",
            "Validation loss decreased (inf --> 6.057013).  Saving model ...\n",
            "\n",
            "\n",
            "loss: 5.504136  [50182/184023]\n",
            "loss: 5.062150  [101382/184023]\n",
            "loss: 5.033794  [152582/184023]\n"
          ]
        },
        {
          "metadata": {
            "tags": null
          },
          "name": "stderr",
          "output_type": "stream",
          "text": [
            "\n",
            "  0%|          | 2/400 [00:45<2:29:49, 22.59s/it]\u001b[A"
          ]
        },
        {
          "metadata": {
            "tags": null
          },
          "name": "stdout",
          "output_type": "stream",
          "text": [
            "Validation set: Loss: 4.97375\n",
            "Validation loss decreased (6.057013 --> 4.973746).  Saving model ...\n",
            "\n",
            "\n",
            "loss: 4.988103  [50182/184023]\n",
            "loss: 4.869070  [101382/184023]\n",
            "loss: 4.870393  [152582/184023]\n"
          ]
        },
        {
          "metadata": {
            "tags": null
          },
          "name": "stderr",
          "output_type": "stream",
          "text": [
            "\n",
            "  1%|          | 3/400 [01:06<2:26:34, 22.15s/it]\u001b[A"
          ]
        },
        {
          "metadata": {
            "tags": null
          },
          "name": "stdout",
          "output_type": "stream",
          "text": [
            "Validation set: Loss: 4.73400\n",
            "Validation loss decreased (4.973746 --> 4.734000).  Saving model ...\n",
            "\n",
            "\n",
            "loss: 4.643825  [50182/184023]\n",
            "loss: 4.559447  [101382/184023]\n",
            "loss: 4.492921  [152582/184023]\n"
          ]
        },
        {
          "metadata": {
            "tags": null
          },
          "name": "stderr",
          "output_type": "stream",
          "text": [
            "\n",
            "  1%|          | 4/400 [01:29<2:28:17, 22.47s/it]\u001b[A"
          ]
        },
        {
          "metadata": {
            "tags": null
          },
          "name": "stdout",
          "output_type": "stream",
          "text": [
            "Validation set: Loss: 4.56539\n",
            "Validation loss decreased (4.734000 --> 4.565388).  Saving model ...\n",
            "\n",
            "\n",
            "loss: 4.551475  [50182/184023]\n",
            "loss: 4.481278  [101382/184023]\n",
            "loss: 4.515471  [152582/184023]\n"
          ]
        },
        {
          "metadata": {
            "tags": null
          },
          "name": "stderr",
          "output_type": "stream",
          "text": [
            "\n",
            "  1%|▏         | 5/400 [01:52<2:28:03, 22.49s/it]\u001b[A"
          ]
        },
        {
          "metadata": {
            "tags": null
          },
          "name": "stdout",
          "output_type": "stream",
          "text": [
            "Validation set: Loss: 4.53199\n",
            "Validation loss decreased (4.565388 --> 4.531987).  Saving model ...\n",
            "\n",
            "\n",
            "loss: 4.549781  [50182/184023]\n",
            "loss: 4.556076  [101382/184023]\n",
            "loss: 4.521439  [152582/184023]\n"
          ]
        },
        {
          "metadata": {
            "tags": null
          },
          "name": "stderr",
          "output_type": "stream",
          "text": [
            "\n",
            "  2%|▏         | 6/400 [02:13<2:24:50, 22.06s/it]\u001b[A"
          ]
        },
        {
          "metadata": {
            "tags": null
          },
          "name": "stdout",
          "output_type": "stream",
          "text": [
            "Validation set: Loss: 4.51860\n",
            "Validation loss decreased (4.531987 --> 4.518599).  Saving model ...\n",
            "\n",
            "\n",
            "loss: 4.457721  [50182/184023]\n",
            "loss: 4.509264  [101382/184023]\n",
            "loss: 4.553358  [152582/184023]\n"
          ]
        },
        {
          "metadata": {
            "tags": null
          },
          "name": "stderr",
          "output_type": "stream",
          "text": [
            "\n",
            "  2%|▏         | 7/400 [02:36<2:25:12, 22.17s/it]\u001b[A"
          ]
        },
        {
          "metadata": {
            "tags": null
          },
          "name": "stdout",
          "output_type": "stream",
          "text": [
            "Validation set: Loss: 4.51135\n",
            "Validation loss decreased (4.518599 --> 4.511354).  Saving model ...\n",
            "\n",
            "\n",
            "loss: 4.592198  [50182/184023]\n",
            "loss: 4.462471  [101382/184023]\n",
            "loss: 4.504758  [152582/184023]\n"
          ]
        },
        {
          "metadata": {
            "tags": null
          },
          "name": "stderr",
          "output_type": "stream",
          "text": [
            "\n",
            "  2%|▏         | 8/400 [02:59<2:28:30, 22.73s/it]\u001b[A"
          ]
        },
        {
          "metadata": {
            "tags": null
          },
          "name": "stdout",
          "output_type": "stream",
          "text": [
            "Validation set: Loss: 4.50645\n",
            "Validation loss decreased (4.511354 --> 4.506452).  Saving model ...\n",
            "\n",
            "\n",
            "loss: 4.483413  [50182/184023]\n",
            "loss: 4.590662  [101382/184023]\n",
            "loss: 4.539467  [152582/184023]\n"
          ]
        },
        {
          "metadata": {
            "tags": null
          },
          "name": "stderr",
          "output_type": "stream",
          "text": [
            "\n",
            "  2%|▏         | 9/400 [03:22<2:26:59, 22.56s/it]\u001b[A"
          ]
        },
        {
          "metadata": {
            "tags": null
          },
          "name": "stdout",
          "output_type": "stream",
          "text": [
            "Validation set: Loss: 4.50316\n",
            "Validation loss decreased (4.506452 --> 4.503161).  Saving model ...\n",
            "\n",
            "\n",
            "loss: 4.455366  [50182/184023]\n",
            "loss: 4.524737  [101382/184023]\n",
            "loss: 4.434927  [152582/184023]\n"
          ]
        },
        {
          "metadata": {
            "tags": null
          },
          "name": "stderr",
          "output_type": "stream",
          "text": [
            "\n",
            "  2%|▎         | 10/400 [03:43<2:24:32, 22.24s/it]\u001b[A"
          ]
        },
        {
          "metadata": {
            "tags": null
          },
          "name": "stdout",
          "output_type": "stream",
          "text": [
            "Validation set: Loss: 4.50060\n",
            "Validation loss decreased (4.503161 --> 4.500597).  Saving model ...\n",
            "\n",
            "\n",
            "loss: 4.492617  [50182/184023]\n",
            "loss: 4.562650  [101382/184023]\n",
            "loss: 4.484067  [152582/184023]\n"
          ]
        },
        {
          "metadata": {
            "tags": null
          },
          "name": "stderr",
          "output_type": "stream",
          "text": [
            "\n",
            "  3%|▎         | 11/400 [04:06<2:24:38, 22.31s/it]\u001b[A"
          ]
        },
        {
          "metadata": {
            "tags": null
          },
          "name": "stdout",
          "output_type": "stream",
          "text": [
            "Validation set: Loss: 4.49859\n",
            "Validation loss decreased (4.500597 --> 4.498587).  Saving model ...\n",
            "\n",
            "\n",
            "loss: 4.428784  [50182/184023]\n",
            "loss: 4.477529  [101382/184023]\n",
            "loss: 4.473125  [152582/184023]\n"
          ]
        },
        {
          "metadata": {
            "tags": null
          },
          "name": "stderr",
          "output_type": "stream",
          "text": [
            "\n",
            "  3%|▎         | 12/400 [04:28<2:24:41, 22.38s/it]\u001b[A"
          ]
        },
        {
          "metadata": {
            "tags": null
          },
          "name": "stdout",
          "output_type": "stream",
          "text": [
            "Validation set: Loss: 4.49697\n",
            "Validation loss decreased (4.498587 --> 4.496971).  Saving model ...\n",
            "\n",
            "\n",
            "loss: 4.589069  [50182/184023]\n",
            "loss: 4.381851  [101382/184023]\n",
            "loss: 4.606823  [152582/184023]\n"
          ]
        },
        {
          "metadata": {
            "tags": null
          },
          "name": "stderr",
          "output_type": "stream",
          "text": [
            "\n",
            "  3%|▎         | 13/400 [04:50<2:23:09, 22.20s/it]\u001b[A"
          ]
        },
        {
          "metadata": {
            "tags": null
          },
          "name": "stdout",
          "output_type": "stream",
          "text": [
            "Validation set: Loss: 4.49545\n",
            "Validation loss decreased (4.496971 --> 4.495452).  Saving model ...\n",
            "\n",
            "\n",
            "loss: 4.545807  [50182/184023]\n",
            "loss: 4.387585  [101382/184023]\n",
            "loss: 4.596217  [152582/184023]\n"
          ]
        },
        {
          "metadata": {
            "tags": null
          },
          "name": "stderr",
          "output_type": "stream",
          "text": [
            "\n",
            "  4%|▎         | 14/400 [05:12<2:22:23, 22.13s/it]\u001b[A"
          ]
        },
        {
          "metadata": {
            "tags": null
          },
          "name": "stdout",
          "output_type": "stream",
          "text": [
            "Validation set: Loss: 4.49422\n",
            "Validation loss decreased (4.495452 --> 4.494224).  Saving model ...\n",
            "\n",
            "\n",
            "loss: 4.553049  [50182/184023]\n",
            "loss: 4.499466  [101382/184023]\n",
            "loss: 4.585716  [152582/184023]\n"
          ]
        },
        {
          "metadata": {
            "tags": null
          },
          "name": "stderr",
          "output_type": "stream",
          "text": [
            "\n",
            "  4%|▍         | 15/400 [05:35<2:22:54, 22.27s/it]\u001b[A"
          ]
        },
        {
          "metadata": {
            "tags": null
          },
          "name": "stdout",
          "output_type": "stream",
          "text": [
            "Validation set: Loss: 4.49307\n",
            "Validation loss decreased (4.494224 --> 4.493065).  Saving model ...\n",
            "\n",
            "\n",
            "loss: 4.619136  [50182/184023]\n",
            "loss: 4.367863  [101382/184023]\n",
            "loss: 4.437457  [152582/184023]\n"
          ]
        },
        {
          "metadata": {
            "tags": null
          },
          "name": "stderr",
          "output_type": "stream",
          "text": [
            "\n",
            "  4%|▍         | 16/400 [05:57<2:23:23, 22.41s/it]\u001b[A"
          ]
        },
        {
          "metadata": {
            "tags": null
          },
          "name": "stdout",
          "output_type": "stream",
          "text": [
            "Validation set: Loss: 4.49195\n",
            "Validation loss decreased (4.493065 --> 4.491950).  Saving model ...\n",
            "\n",
            "\n",
            "loss: 4.452356  [50182/184023]\n",
            "loss: 4.424780  [101382/184023]\n",
            "loss: 4.532963  [152582/184023]\n"
          ]
        },
        {
          "metadata": {
            "tags": null
          },
          "name": "stderr",
          "output_type": "stream",
          "text": [
            "\n",
            "  4%|▍         | 17/400 [06:19<2:20:58, 22.08s/it]\u001b[A"
          ]
        },
        {
          "metadata": {
            "tags": null
          },
          "name": "stdout",
          "output_type": "stream",
          "text": [
            "Validation set: Loss: 4.49092\n",
            "Validation loss decreased (4.491950 --> 4.490918).  Saving model ...\n",
            "\n",
            "\n",
            "loss: 4.404580  [50182/184023]\n",
            "loss: 4.563004  [101382/184023]\n",
            "loss: 4.437907  [152582/184023]\n"
          ]
        },
        {
          "metadata": {
            "tags": null
          },
          "name": "stderr",
          "output_type": "stream",
          "text": [
            "\n",
            "  4%|▍         | 18/400 [06:42<2:23:52, 22.60s/it]\u001b[A"
          ]
        },
        {
          "metadata": {
            "tags": null
          },
          "name": "stdout",
          "output_type": "stream",
          "text": [
            "Validation set: Loss: 4.49011\n",
            "Validation loss decreased (4.490918 --> 4.490107).  Saving model ...\n",
            "\n",
            "\n",
            "loss: 4.489979  [50182/184023]\n",
            "loss: 4.527705  [101382/184023]\n",
            "loss: 4.604604  [152582/184023]\n"
          ]
        },
        {
          "metadata": {
            "tags": null
          },
          "name": "stderr",
          "output_type": "stream",
          "text": [
            "\n",
            "  5%|▍         | 19/400 [07:05<2:23:45, 22.64s/it]\u001b[A"
          ]
        },
        {
          "metadata": {
            "tags": null
          },
          "name": "stdout",
          "output_type": "stream",
          "text": [
            "Validation set: Loss: 4.48907\n",
            "Validation loss decreased (4.490107 --> 4.489069).  Saving model ...\n",
            "\n",
            "\n",
            "loss: 4.454339  [50182/184023]\n",
            "loss: 4.547268  [101382/184023]\n",
            "loss: 4.533740  [152582/184023]\n"
          ]
        },
        {
          "metadata": {
            "tags": null
          },
          "name": "stderr",
          "output_type": "stream",
          "text": [
            "\n",
            "  5%|▌         | 20/400 [07:33<2:32:48, 24.13s/it]\u001b[A"
          ]
        },
        {
          "metadata": {
            "tags": null
          },
          "name": "stdout",
          "output_type": "stream",
          "text": [
            "Validation set: Loss: 4.48826\n",
            "Validation loss decreased (4.489069 --> 4.488262).  Saving model ...\n",
            "\n",
            "\n",
            "loss: 4.510651  [50182/184023]\n",
            "loss: 4.612296  [101382/184023]\n",
            "loss: 4.505989  [152582/184023]\n"
          ]
        },
        {
          "metadata": {
            "tags": null
          },
          "name": "stderr",
          "output_type": "stream",
          "text": [
            "\n",
            "  5%|▌         | 21/400 [07:54<2:27:52, 23.41s/it]\u001b[A"
          ]
        },
        {
          "metadata": {
            "tags": null
          },
          "name": "stdout",
          "output_type": "stream",
          "text": [
            "Validation set: Loss: 4.48757\n",
            "Validation loss decreased (4.488262 --> 4.487566).  Saving model ...\n",
            "\n",
            "\n",
            "loss: 4.495066  [50182/184023]\n",
            "loss: 4.450012  [101382/184023]\n",
            "loss: 4.508988  [152582/184023]\n"
          ]
        },
        {
          "metadata": {
            "tags": null
          },
          "name": "stderr",
          "output_type": "stream",
          "text": [
            "\n",
            "  6%|▌         | 22/400 [08:18<2:26:53, 23.32s/it]\u001b[A"
          ]
        },
        {
          "metadata": {
            "tags": null
          },
          "name": "stdout",
          "output_type": "stream",
          "text": [
            "Validation set: Loss: 4.48667\n",
            "Validation loss decreased (4.487566 --> 4.486668).  Saving model ...\n",
            "\n",
            "\n",
            "loss: 4.498987  [50182/184023]\n",
            "loss: 4.512398  [101382/184023]\n",
            "loss: 4.521637  [152582/184023]\n"
          ]
        },
        {
          "metadata": {
            "tags": null
          },
          "name": "stderr",
          "output_type": "stream",
          "text": [
            "\n",
            "  6%|▌         | 23/400 [08:40<2:25:28, 23.15s/it]\u001b[A"
          ]
        },
        {
          "metadata": {
            "tags": null
          },
          "name": "stdout",
          "output_type": "stream",
          "text": [
            "Validation set: Loss: 4.48607\n",
            "Validation loss decreased (4.486668 --> 4.486072).  Saving model ...\n",
            "\n",
            "\n",
            "loss: 4.470384  [50182/184023]\n",
            "loss: 4.459474  [101382/184023]\n",
            "loss: 4.519180  [152582/184023]\n"
          ]
        },
        {
          "metadata": {
            "tags": null
          },
          "name": "stderr",
          "output_type": "stream",
          "text": [
            "\n",
            "  6%|▌         | 24/400 [09:03<2:23:27, 22.89s/it]\u001b[A"
          ]
        },
        {
          "metadata": {
            "tags": null
          },
          "name": "stdout",
          "output_type": "stream",
          "text": [
            "Validation set: Loss: 4.48506\n",
            "Validation loss decreased (4.486072 --> 4.485060).  Saving model ...\n",
            "\n",
            "\n",
            "loss: 4.451775  [50182/184023]\n",
            "loss: 4.405967  [101382/184023]\n",
            "loss: 4.446536  [152582/184023]\n"
          ]
        },
        {
          "metadata": {
            "tags": null
          },
          "name": "stderr",
          "output_type": "stream",
          "text": [
            "\n",
            "  6%|▋         | 25/400 [09:25<2:21:59, 22.72s/it]\u001b[A"
          ]
        },
        {
          "metadata": {
            "tags": null
          },
          "name": "stdout",
          "output_type": "stream",
          "text": [
            "Validation set: Loss: 4.48444\n",
            "Validation loss decreased (4.485060 --> 4.484443).  Saving model ...\n",
            "\n",
            "\n",
            "loss: 4.480659  [50182/184023]\n",
            "loss: 4.465500  [101382/184023]\n",
            "loss: 4.411044  [152582/184023]\n"
          ]
        },
        {
          "metadata": {
            "tags": null
          },
          "name": "stderr",
          "output_type": "stream",
          "text": [
            "\n",
            "  6%|▋         | 26/400 [09:48<2:22:51, 22.92s/it]\u001b[A"
          ]
        },
        {
          "metadata": {
            "tags": null
          },
          "name": "stdout",
          "output_type": "stream",
          "text": [
            "Validation set: Loss: 4.48367\n",
            "Validation loss decreased (4.484443 --> 4.483667).  Saving model ...\n",
            "\n",
            "\n",
            "loss: 4.491147  [50182/184023]\n",
            "loss: 4.486097  [101382/184023]\n",
            "loss: 4.437447  [152582/184023]\n"
          ]
        },
        {
          "metadata": {
            "tags": null
          },
          "name": "stderr",
          "output_type": "stream",
          "text": [
            "\n",
            "  7%|▋         | 27/400 [10:11<2:22:15, 22.88s/it]\u001b[A"
          ]
        },
        {
          "metadata": {
            "tags": null
          },
          "name": "stdout",
          "output_type": "stream",
          "text": [
            "Validation set: Loss: 4.48286\n",
            "Validation loss decreased (4.483667 --> 4.482863).  Saving model ...\n",
            "\n",
            "\n",
            "loss: 4.454123  [50182/184023]\n",
            "loss: 4.534226  [101382/184023]\n",
            "loss: 4.468013  [152582/184023]\n"
          ]
        },
        {
          "metadata": {
            "tags": null
          },
          "name": "stderr",
          "output_type": "stream",
          "text": [
            "\n",
            "  7%|▋         | 28/400 [10:34<2:22:16, 22.95s/it]\u001b[A"
          ]
        },
        {
          "metadata": {
            "tags": null
          },
          "name": "stdout",
          "output_type": "stream",
          "text": [
            "Validation set: Loss: 4.48222\n",
            "Validation loss decreased (4.482863 --> 4.482219).  Saving model ...\n",
            "\n",
            "\n",
            "loss: 4.519724  [50182/184023]\n",
            "loss: 4.369912  [101382/184023]\n",
            "loss: 4.445949  [152582/184023]\n"
          ]
        },
        {
          "metadata": {
            "tags": null
          },
          "name": "stderr",
          "output_type": "stream",
          "text": [
            "\n",
            "  7%|▋         | 29/400 [10:57<2:21:28, 22.88s/it]\u001b[A"
          ]
        },
        {
          "metadata": {
            "tags": null
          },
          "name": "stdout",
          "output_type": "stream",
          "text": [
            "Validation set: Loss: 4.48174\n",
            "Validation loss decreased (4.482219 --> 4.481739).  Saving model ...\n",
            "\n",
            "\n",
            "loss: 4.387647  [50182/184023]\n",
            "loss: 4.535301  [101382/184023]\n",
            "loss: 4.542525  [152582/184023]\n"
          ]
        },
        {
          "metadata": {
            "tags": null
          },
          "name": "stderr",
          "output_type": "stream",
          "text": [
            "\n",
            "  8%|▊         | 30/400 [11:19<2:20:19, 22.75s/it]\u001b[A"
          ]
        },
        {
          "metadata": {
            "tags": null
          },
          "name": "stdout",
          "output_type": "stream",
          "text": [
            "Validation set: Loss: 4.48092\n",
            "Validation loss decreased (4.481739 --> 4.480923).  Saving model ...\n",
            "\n",
            "\n",
            "loss: 4.453823  [50182/184023]\n",
            "loss: 4.561145  [101382/184023]\n",
            "loss: 4.413033  [152582/184023]\n"
          ]
        },
        {
          "metadata": {
            "tags": null
          },
          "name": "stderr",
          "output_type": "stream",
          "text": [
            "\n",
            "  8%|▊         | 31/400 [11:52<2:38:05, 25.71s/it]\u001b[A"
          ]
        },
        {
          "metadata": {
            "tags": null
          },
          "name": "stdout",
          "output_type": "stream",
          "text": [
            "Validation set: Loss: 4.48031\n",
            "Validation loss decreased (4.480923 --> 4.480307).  Saving model ...\n",
            "\n",
            "\n",
            "loss: 4.457973  [50182/184023]\n",
            "loss: 4.456619  [101382/184023]\n",
            "loss: 4.473923  [152582/184023]\n"
          ]
        },
        {
          "metadata": {
            "tags": null
          },
          "name": "stderr",
          "output_type": "stream",
          "text": [
            "\n",
            "  8%|▊         | 32/400 [12:27<2:54:30, 28.45s/it]\u001b[A"
          ]
        },
        {
          "metadata": {
            "tags": null
          },
          "name": "stdout",
          "output_type": "stream",
          "text": [
            "Validation set: Loss: 4.47982\n",
            "Validation loss decreased (4.480307 --> 4.479821).  Saving model ...\n",
            "\n",
            "\n",
            "loss: 4.572922  [50182/184023]\n",
            "loss: 4.538205  [101382/184023]\n",
            "loss: 4.452515  [152582/184023]\n"
          ]
        },
        {
          "metadata": {
            "tags": null
          },
          "name": "stderr",
          "output_type": "stream",
          "text": [
            "\n",
            "  8%|▊         | 33/400 [12:59<3:00:06, 29.45s/it]\u001b[A"
          ]
        },
        {
          "metadata": {
            "tags": null
          },
          "name": "stdout",
          "output_type": "stream",
          "text": [
            "Validation set: Loss: 4.47938\n",
            "Validation loss decreased (4.479821 --> 4.479382).  Saving model ...\n",
            "\n",
            "\n",
            "loss: 4.651659  [50182/184023]\n",
            "loss: 4.469523  [101382/184023]\n",
            "loss: 4.409822  [152582/184023]\n"
          ]
        },
        {
          "metadata": {
            "tags": null
          },
          "name": "stderr",
          "output_type": "stream",
          "text": [
            "\n",
            "  8%|▊         | 34/400 [13:21<2:46:55, 27.37s/it]\u001b[A"
          ]
        },
        {
          "metadata": {
            "tags": null
          },
          "name": "stdout",
          "output_type": "stream",
          "text": [
            "Validation set: Loss: 4.47863\n",
            "Validation loss decreased (4.479382 --> 4.478626).  Saving model ...\n",
            "\n",
            "\n",
            "loss: 4.538985  [50182/184023]\n",
            "loss: 4.587965  [101382/184023]\n",
            "loss: 4.531450  [152582/184023]\n"
          ]
        },
        {
          "metadata": {
            "tags": null
          },
          "name": "stderr",
          "output_type": "stream",
          "text": [
            "\n",
            "  9%|▉         | 35/400 [13:43<2:37:11, 25.84s/it]\u001b[A"
          ]
        },
        {
          "metadata": {
            "tags": null
          },
          "name": "stdout",
          "output_type": "stream",
          "text": [
            "Validation set: Loss: 4.47839\n",
            "Validation loss decreased (4.478626 --> 4.478386).  Saving model ...\n",
            "\n",
            "\n",
            "loss: 4.361584  [50182/184023]\n",
            "loss: 4.445584  [101382/184023]\n",
            "loss: 4.592907  [152582/184023]\n"
          ]
        },
        {
          "metadata": {
            "tags": null
          },
          "name": "stderr",
          "output_type": "stream",
          "text": [
            "\n",
            "  9%|▉         | 36/400 [14:06<2:30:17, 24.77s/it]\u001b[A"
          ]
        },
        {
          "metadata": {
            "tags": null
          },
          "name": "stdout",
          "output_type": "stream",
          "text": [
            "Validation set: Loss: 4.47790\n",
            "Validation loss decreased (4.478386 --> 4.477900).  Saving model ...\n",
            "\n",
            "\n",
            "loss: 4.446101  [50182/184023]\n",
            "loss: 4.393512  [101382/184023]\n",
            "loss: 4.369015  [152582/184023]\n"
          ]
        },
        {
          "metadata": {
            "tags": null
          },
          "name": "stderr",
          "output_type": "stream",
          "text": [
            "\n",
            "  9%|▉         | 37/400 [14:29<2:26:42, 24.25s/it]\u001b[A"
          ]
        },
        {
          "metadata": {
            "tags": null
          },
          "name": "stdout",
          "output_type": "stream",
          "text": [
            "Validation set: Loss: 4.47745\n",
            "Validation loss decreased (4.477900 --> 4.477453).  Saving model ...\n",
            "\n",
            "\n",
            "loss: 4.456873  [50182/184023]\n",
            "loss: 4.413669  [101382/184023]\n",
            "loss: 4.581244  [152582/184023]\n"
          ]
        },
        {
          "metadata": {
            "tags": null
          },
          "name": "stderr",
          "output_type": "stream",
          "text": [
            "\n",
            " 10%|▉         | 38/400 [14:54<2:27:28, 24.44s/it]\u001b[A"
          ]
        },
        {
          "metadata": {
            "tags": null
          },
          "name": "stdout",
          "output_type": "stream",
          "text": [
            "Validation set: Loss: 4.47703\n",
            "Validation loss decreased (4.477453 --> 4.477031).  Saving model ...\n",
            "\n",
            "\n",
            "loss: 4.520694  [50182/184023]\n",
            "loss: 4.529324  [101382/184023]\n",
            "loss: 4.424314  [152582/184023]\n"
          ]
        },
        {
          "metadata": {
            "tags": null
          },
          "name": "stderr",
          "output_type": "stream",
          "text": [
            "\n",
            " 10%|▉         | 39/400 [15:18<2:27:40, 24.54s/it]\u001b[A"
          ]
        },
        {
          "metadata": {
            "tags": null
          },
          "name": "stdout",
          "output_type": "stream",
          "text": [
            "Validation set: Loss: 4.47671\n",
            "Validation loss decreased (4.477031 --> 4.476707).  Saving model ...\n",
            "\n",
            "\n",
            "loss: 4.407992  [50182/184023]\n",
            "loss: 4.496605  [101382/184023]\n",
            "loss: 4.467098  [152582/184023]\n"
          ]
        },
        {
          "metadata": {
            "tags": null
          },
          "name": "stderr",
          "output_type": "stream",
          "text": [
            "\n",
            " 10%|█         | 40/400 [15:43<2:26:53, 24.48s/it]\u001b[A"
          ]
        },
        {
          "metadata": {
            "tags": null
          },
          "name": "stdout",
          "output_type": "stream",
          "text": [
            "Validation set: Loss: 4.47654\n",
            "Validation loss decreased (4.476707 --> 4.476543).  Saving model ...\n",
            "\n",
            "\n",
            "loss: 4.569880  [50182/184023]\n",
            "loss: 4.592752  [101382/184023]\n",
            "loss: 4.522883  [152582/184023]\n"
          ]
        },
        {
          "metadata": {
            "tags": null
          },
          "name": "stderr",
          "output_type": "stream",
          "text": [
            "\n",
            " 10%|█         | 41/400 [16:08<2:27:35, 24.67s/it]\u001b[A"
          ]
        },
        {
          "metadata": {
            "tags": null
          },
          "name": "stdout",
          "output_type": "stream",
          "text": [
            "Validation set: Loss: 4.47599\n",
            "Validation loss decreased (4.476543 --> 4.475994).  Saving model ...\n",
            "\n",
            "\n",
            "loss: 4.429054  [50182/184023]\n",
            "loss: 4.509125  [101382/184023]\n",
            "loss: 4.662639  [152582/184023]\n"
          ]
        },
        {
          "metadata": {
            "tags": null
          },
          "name": "stderr",
          "output_type": "stream",
          "text": [
            "\n",
            " 10%|█         | 42/400 [16:34<2:29:09, 25.00s/it]\u001b[A"
          ]
        },
        {
          "metadata": {
            "tags": null
          },
          "name": "stdout",
          "output_type": "stream",
          "text": [
            "Validation set: Loss: 4.47604\n",
            "EarlyStopping counter: 1 out of 10\n",
            "\n",
            "\n",
            "loss: 4.415658  [50182/184023]\n",
            "loss: 4.477331  [101382/184023]\n",
            "loss: 4.564660  [152582/184023]\n"
          ]
        },
        {
          "metadata": {
            "tags": null
          },
          "name": "stderr",
          "output_type": "stream",
          "text": [
            "\n",
            " 11%|█         | 43/400 [16:58<2:27:33, 24.80s/it]\u001b[A"
          ]
        },
        {
          "metadata": {
            "tags": null
          },
          "name": "stdout",
          "output_type": "stream",
          "text": [
            "Validation set: Loss: 4.47574\n",
            "Validation loss decreased (4.475994 --> 4.475738).  Saving model ...\n",
            "\n",
            "\n",
            "loss: 4.536207  [50182/184023]\n",
            "loss: 4.530742  [101382/184023]\n",
            "loss: 4.472138  [152582/184023]\n"
          ]
        },
        {
          "metadata": {
            "tags": null
          },
          "name": "stderr",
          "output_type": "stream",
          "text": [
            "\n",
            " 11%|█         | 44/400 [17:22<2:25:22, 24.50s/it]\u001b[A"
          ]
        },
        {
          "metadata": {
            "tags": null
          },
          "name": "stdout",
          "output_type": "stream",
          "text": [
            "Validation set: Loss: 4.47535\n",
            "Validation loss decreased (4.475738 --> 4.475353).  Saving model ...\n",
            "\n",
            "\n",
            "loss: 4.498578  [50182/184023]\n",
            "loss: 4.465280  [101382/184023]\n",
            "loss: 4.563783  [152582/184023]\n"
          ]
        },
        {
          "metadata": {
            "tags": null
          },
          "name": "stderr",
          "output_type": "stream",
          "text": [
            "\n",
            " 11%|█▏        | 45/400 [17:48<2:28:44, 25.14s/it]\u001b[A"
          ]
        },
        {
          "metadata": {
            "tags": null
          },
          "name": "stdout",
          "output_type": "stream",
          "text": [
            "Validation set: Loss: 4.47516\n",
            "Validation loss decreased (4.475353 --> 4.475164).  Saving model ...\n",
            "\n",
            "\n",
            "loss: 4.481834  [50182/184023]\n",
            "loss: 4.339409  [101382/184023]\n",
            "loss: 4.464060  [152582/184023]\n"
          ]
        },
        {
          "metadata": {
            "tags": null
          },
          "name": "stderr",
          "output_type": "stream",
          "text": [
            "\n",
            " 12%|█▏        | 46/400 [18:14<2:29:13, 25.29s/it]\u001b[A"
          ]
        },
        {
          "metadata": {
            "tags": null
          },
          "name": "stdout",
          "output_type": "stream",
          "text": [
            "Validation set: Loss: 4.47484\n",
            "Validation loss decreased (4.475164 --> 4.474835).  Saving model ...\n",
            "\n",
            "\n",
            "loss: 4.469406  [50182/184023]\n",
            "loss: 4.458111  [101382/184023]\n",
            "loss: 4.445558  [152582/184023]\n"
          ]
        },
        {
          "metadata": {
            "tags": null
          },
          "name": "stderr",
          "output_type": "stream",
          "text": [
            "\n",
            " 12%|█▏        | 47/400 [18:38<2:26:11, 24.85s/it]\u001b[A"
          ]
        },
        {
          "metadata": {
            "tags": null
          },
          "name": "stdout",
          "output_type": "stream",
          "text": [
            "Validation set: Loss: 4.47465\n",
            "Validation loss decreased (4.474835 --> 4.474648).  Saving model ...\n",
            "\n",
            "\n",
            "loss: 4.429233  [50182/184023]\n",
            "loss: 4.458402  [101382/184023]\n",
            "loss: 4.565443  [152582/184023]\n"
          ]
        },
        {
          "metadata": {
            "tags": null
          },
          "name": "stderr",
          "output_type": "stream",
          "text": [
            "\n",
            " 12%|█▏        | 48/400 [19:02<2:24:06, 24.56s/it]\u001b[A"
          ]
        },
        {
          "metadata": {
            "tags": null
          },
          "name": "stdout",
          "output_type": "stream",
          "text": [
            "Validation set: Loss: 4.47468\n",
            "EarlyStopping counter: 1 out of 10\n",
            "\n",
            "\n",
            "loss: 4.532599  [50182/184023]\n",
            "loss: 4.445355  [101382/184023]\n",
            "loss: 4.447607  [152582/184023]\n"
          ]
        },
        {
          "metadata": {
            "tags": null
          },
          "name": "stderr",
          "output_type": "stream",
          "text": [
            "\n",
            " 12%|█▏        | 49/400 [19:25<2:21:16, 24.15s/it]\u001b[A"
          ]
        },
        {
          "metadata": {
            "tags": null
          },
          "name": "stdout",
          "output_type": "stream",
          "text": [
            "Validation set: Loss: 4.47430\n",
            "Validation loss decreased (4.474648 --> 4.474301).  Saving model ...\n",
            "\n",
            "\n",
            "loss: 4.464899  [50182/184023]\n",
            "loss: 4.537603  [101382/184023]\n",
            "loss: 4.388304  [152582/184023]\n"
          ]
        },
        {
          "metadata": {
            "tags": null
          },
          "name": "stderr",
          "output_type": "stream",
          "text": [
            "\n",
            " 12%|█▎        | 50/400 [19:47<2:17:25, 23.56s/it]\u001b[A"
          ]
        },
        {
          "metadata": {
            "tags": null
          },
          "name": "stdout",
          "output_type": "stream",
          "text": [
            "Validation set: Loss: 4.47411\n",
            "Validation loss decreased (4.474301 --> 4.474111).  Saving model ...\n",
            "\n",
            "\n",
            "loss: 4.523414  [50182/184023]\n",
            "loss: 4.411658  [101382/184023]\n",
            "loss: 4.477424  [152582/184023]\n"
          ]
        },
        {
          "metadata": {
            "tags": null
          },
          "name": "stderr",
          "output_type": "stream",
          "text": [
            "\n",
            " 13%|█▎        | 51/400 [20:09<2:14:45, 23.17s/it]\u001b[A"
          ]
        },
        {
          "metadata": {
            "tags": null
          },
          "name": "stdout",
          "output_type": "stream",
          "text": [
            "Validation set: Loss: 4.47407\n",
            "Validation loss decreased (4.474111 --> 4.474072).  Saving model ...\n",
            "\n",
            "\n",
            "loss: 4.427619  [50182/184023]\n",
            "loss: 4.454608  [101382/184023]\n",
            "loss: 4.363070  [152582/184023]\n"
          ]
        },
        {
          "metadata": {
            "tags": null
          },
          "name": "stderr",
          "output_type": "stream",
          "text": [
            "\n",
            " 13%|█▎        | 52/400 [20:32<2:13:55, 23.09s/it]\u001b[A"
          ]
        },
        {
          "metadata": {
            "tags": null
          },
          "name": "stdout",
          "output_type": "stream",
          "text": [
            "Validation set: Loss: 4.47435\n",
            "EarlyStopping counter: 1 out of 10\n",
            "\n",
            "\n",
            "loss: 4.466492  [50182/184023]\n",
            "loss: 4.387446  [101382/184023]\n",
            "loss: 4.427614  [152582/184023]\n"
          ]
        },
        {
          "metadata": {
            "tags": null
          },
          "name": "stderr",
          "output_type": "stream",
          "text": [
            "\n",
            " 13%|█▎        | 53/400 [20:55<2:12:42, 22.95s/it]\u001b[A"
          ]
        },
        {
          "metadata": {
            "tags": null
          },
          "name": "stdout",
          "output_type": "stream",
          "text": [
            "Validation set: Loss: 4.47376\n",
            "Validation loss decreased (4.474072 --> 4.473762).  Saving model ...\n",
            "\n",
            "\n",
            "loss: 4.402407  [50182/184023]\n",
            "loss: 4.547345  [101382/184023]\n",
            "loss: 4.498366  [152582/184023]\n"
          ]
        },
        {
          "metadata": {
            "tags": null
          },
          "name": "stderr",
          "output_type": "stream",
          "text": [
            "\n",
            " 14%|█▎        | 54/400 [21:17<2:10:21, 22.61s/it]\u001b[A"
          ]
        },
        {
          "metadata": {
            "tags": null
          },
          "name": "stdout",
          "output_type": "stream",
          "text": [
            "Validation set: Loss: 4.47340\n",
            "Validation loss decreased (4.473762 --> 4.473401).  Saving model ...\n",
            "\n",
            "\n",
            "loss: 4.521114  [50182/184023]\n",
            "loss: 4.434305  [101382/184023]\n",
            "loss: 4.491748  [152582/184023]\n"
          ]
        },
        {
          "metadata": {
            "tags": null
          },
          "name": "stderr",
          "output_type": "stream",
          "text": [
            "\n",
            " 14%|█▍        | 55/400 [21:39<2:09:50, 22.58s/it]\u001b[A"
          ]
        },
        {
          "metadata": {
            "tags": null
          },
          "name": "stdout",
          "output_type": "stream",
          "text": [
            "Validation set: Loss: 4.47384\n",
            "EarlyStopping counter: 1 out of 10\n",
            "\n",
            "\n",
            "loss: 4.489738  [50182/184023]\n",
            "loss: 4.486754  [101382/184023]\n",
            "loss: 4.497488  [152582/184023]\n"
          ]
        },
        {
          "metadata": {
            "tags": null
          },
          "name": "stderr",
          "output_type": "stream",
          "text": [
            "\n",
            " 14%|█▍        | 56/400 [22:03<2:11:22, 22.91s/it]\u001b[A"
          ]
        },
        {
          "metadata": {
            "tags": null
          },
          "name": "stdout",
          "output_type": "stream",
          "text": [
            "Validation set: Loss: 4.47331\n",
            "Validation loss decreased (4.473401 --> 4.473314).  Saving model ...\n",
            "\n",
            "\n",
            "loss: 4.423663  [50182/184023]\n",
            "loss: 4.482409  [101382/184023]\n",
            "loss: 4.519089  [152582/184023]\n"
          ]
        },
        {
          "metadata": {
            "tags": null
          },
          "name": "stderr",
          "output_type": "stream",
          "text": [
            "\n",
            " 14%|█▍        | 57/400 [22:24<2:08:30, 22.48s/it]\u001b[A"
          ]
        },
        {
          "metadata": {
            "tags": null
          },
          "name": "stdout",
          "output_type": "stream",
          "text": [
            "Validation set: Loss: 4.47356\n",
            "EarlyStopping counter: 1 out of 10\n",
            "\n",
            "\n",
            "loss: 4.553230  [50182/184023]\n",
            "loss: 4.518703  [101382/184023]\n",
            "loss: 4.529576  [152582/184023]\n"
          ]
        },
        {
          "metadata": {
            "tags": null
          },
          "name": "stderr",
          "output_type": "stream",
          "text": [
            "\n",
            " 14%|█▍        | 58/400 [22:47<2:08:24, 22.53s/it]\u001b[A"
          ]
        },
        {
          "metadata": {
            "tags": null
          },
          "name": "stdout",
          "output_type": "stream",
          "text": [
            "Validation set: Loss: 4.47295\n",
            "Validation loss decreased (4.473314 --> 4.472954).  Saving model ...\n",
            "\n",
            "\n",
            "loss: 4.528485  [50182/184023]\n",
            "loss: 4.493644  [101382/184023]\n",
            "loss: 4.387585  [152582/184023]\n"
          ]
        },
        {
          "metadata": {
            "tags": null
          },
          "name": "stderr",
          "output_type": "stream",
          "text": [
            "\n",
            " 15%|█▍        | 59/400 [23:10<2:08:39, 22.64s/it]\u001b[A"
          ]
        },
        {
          "metadata": {
            "tags": null
          },
          "name": "stdout",
          "output_type": "stream",
          "text": [
            "Validation set: Loss: 4.47305\n",
            "EarlyStopping counter: 1 out of 10\n",
            "\n",
            "\n",
            "loss: 4.523488  [50182/184023]\n",
            "loss: 4.524805  [101382/184023]\n",
            "loss: 4.429082  [152582/184023]\n"
          ]
        },
        {
          "metadata": {
            "tags": null
          },
          "name": "stderr",
          "output_type": "stream",
          "text": [
            "\n",
            " 15%|█▌        | 60/400 [23:32<2:07:31, 22.51s/it]\u001b[A"
          ]
        },
        {
          "metadata": {
            "tags": null
          },
          "name": "stdout",
          "output_type": "stream",
          "text": [
            "Validation set: Loss: 4.47352\n",
            "EarlyStopping counter: 2 out of 10\n",
            "\n",
            "\n",
            "loss: 4.561046  [50182/184023]\n",
            "loss: 4.508191  [101382/184023]\n",
            "loss: 4.492720  [152582/184023]\n"
          ]
        },
        {
          "metadata": {
            "tags": null
          },
          "name": "stderr",
          "output_type": "stream",
          "text": [
            "\n",
            " 15%|█▌        | 61/400 [23:54<2:06:04, 22.31s/it]\u001b[A"
          ]
        },
        {
          "metadata": {
            "tags": null
          },
          "name": "stdout",
          "output_type": "stream",
          "text": [
            "Validation set: Loss: 4.47295\n",
            "Validation loss decreased (4.472954 --> 4.472950).  Saving model ...\n",
            "\n",
            "\n",
            "loss: 4.546780  [50182/184023]\n",
            "loss: 4.511285  [101382/184023]\n",
            "loss: 4.526316  [152582/184023]\n"
          ]
        },
        {
          "metadata": {
            "tags": null
          },
          "name": "stderr",
          "output_type": "stream",
          "text": [
            "\n",
            " 16%|█▌        | 62/400 [24:17<2:06:12, 22.40s/it]\u001b[A"
          ]
        },
        {
          "metadata": {
            "tags": null
          },
          "name": "stdout",
          "output_type": "stream",
          "text": [
            "Validation set: Loss: 4.47280\n",
            "Validation loss decreased (4.472950 --> 4.472799).  Saving model ...\n",
            "\n",
            "\n",
            "loss: 4.563700  [50182/184023]\n",
            "loss: 4.508337  [101382/184023]\n",
            "loss: 4.511579  [152582/184023]\n"
          ]
        },
        {
          "metadata": {
            "tags": null
          },
          "name": "stderr",
          "output_type": "stream",
          "text": [
            "\n",
            " 16%|█▌        | 63/400 [24:39<2:05:55, 22.42s/it]\u001b[A"
          ]
        },
        {
          "metadata": {
            "tags": null
          },
          "name": "stdout",
          "output_type": "stream",
          "text": [
            "Validation set: Loss: 4.47297\n",
            "EarlyStopping counter: 1 out of 10\n",
            "\n",
            "\n",
            "loss: 4.523562  [50182/184023]\n",
            "loss: 4.508098  [101382/184023]\n",
            "loss: 4.465305  [152582/184023]\n"
          ]
        },
        {
          "metadata": {
            "tags": null
          },
          "name": "stderr",
          "output_type": "stream",
          "text": [
            "\n",
            " 16%|█▌        | 64/400 [25:01<2:04:56, 22.31s/it]\u001b[A"
          ]
        },
        {
          "metadata": {
            "tags": null
          },
          "name": "stdout",
          "output_type": "stream",
          "text": [
            "Validation set: Loss: 4.47292\n",
            "EarlyStopping counter: 2 out of 10\n",
            "\n",
            "\n",
            "loss: 4.551506  [50182/184023]\n",
            "loss: 4.487764  [101382/184023]\n",
            "loss: 4.467623  [152582/184023]\n"
          ]
        },
        {
          "metadata": {
            "tags": null
          },
          "name": "stderr",
          "output_type": "stream",
          "text": [
            "\n",
            " 16%|█▋        | 65/400 [25:24<2:05:10, 22.42s/it]\u001b[A"
          ]
        },
        {
          "metadata": {
            "tags": null
          },
          "name": "stdout",
          "output_type": "stream",
          "text": [
            "Validation set: Loss: 4.47316\n",
            "EarlyStopping counter: 3 out of 10\n",
            "\n",
            "\n",
            "loss: 4.419159  [50182/184023]\n",
            "loss: 4.432384  [101382/184023]\n",
            "loss: 4.468025  [152582/184023]\n"
          ]
        },
        {
          "metadata": {
            "tags": null
          },
          "name": "stderr",
          "output_type": "stream",
          "text": [
            "\n",
            " 16%|█▋        | 66/400 [25:46<2:05:19, 22.51s/it]\u001b[A"
          ]
        },
        {
          "metadata": {
            "tags": null
          },
          "name": "stdout",
          "output_type": "stream",
          "text": [
            "Validation set: Loss: 4.47230\n",
            "Validation loss decreased (4.472799 --> 4.472304).  Saving model ...\n",
            "\n",
            "\n",
            "loss: 4.441651  [50182/184023]\n",
            "loss: 4.461225  [101382/184023]\n",
            "loss: 4.461986  [152582/184023]\n"
          ]
        },
        {
          "metadata": {
            "tags": null
          },
          "name": "stderr",
          "output_type": "stream",
          "text": [
            "\n",
            " 17%|█▋        | 67/400 [26:11<2:07:49, 23.03s/it]\u001b[A"
          ]
        },
        {
          "metadata": {
            "tags": null
          },
          "name": "stdout",
          "output_type": "stream",
          "text": [
            "Validation set: Loss: 4.47228\n",
            "Validation loss decreased (4.472304 --> 4.472280).  Saving model ...\n",
            "\n",
            "\n",
            "loss: 4.548862  [50182/184023]\n",
            "loss: 4.457921  [101382/184023]\n",
            "loss: 4.520121  [152582/184023]\n"
          ]
        },
        {
          "metadata": {
            "tags": null
          },
          "name": "stderr",
          "output_type": "stream",
          "text": [
            "\n",
            " 17%|█▋        | 68/400 [26:33<2:06:23, 22.84s/it]\u001b[A"
          ]
        },
        {
          "metadata": {
            "tags": null
          },
          "name": "stdout",
          "output_type": "stream",
          "text": [
            "Validation set: Loss: 4.47238\n",
            "EarlyStopping counter: 1 out of 10\n",
            "\n",
            "\n",
            "loss: 4.446504  [50182/184023]\n",
            "loss: 4.517573  [101382/184023]\n",
            "loss: 4.573153  [152582/184023]\n"
          ]
        },
        {
          "metadata": {
            "tags": null
          },
          "name": "stderr",
          "output_type": "stream",
          "text": [
            "\n",
            " 17%|█▋        | 69/400 [26:55<2:05:03, 22.67s/it]\u001b[A"
          ]
        },
        {
          "metadata": {
            "tags": null
          },
          "name": "stdout",
          "output_type": "stream",
          "text": [
            "Validation set: Loss: 4.47204\n",
            "Validation loss decreased (4.472280 --> 4.472037).  Saving model ...\n",
            "\n",
            "\n",
            "loss: 4.586451  [50182/184023]\n",
            "loss: 4.456727  [101382/184023]\n",
            "loss: 4.388330  [152582/184023]\n"
          ]
        },
        {
          "metadata": {
            "tags": null
          },
          "name": "stderr",
          "output_type": "stream",
          "text": [
            "\n",
            " 18%|█▊        | 70/400 [27:18<2:05:13, 22.77s/it]\u001b[A"
          ]
        },
        {
          "metadata": {
            "tags": null
          },
          "name": "stdout",
          "output_type": "stream",
          "text": [
            "Validation set: Loss: 4.47188\n",
            "Validation loss decreased (4.472037 --> 4.471882).  Saving model ...\n",
            "\n",
            "\n",
            "loss: 4.484194  [50182/184023]\n",
            "loss: 4.531735  [101382/184023]\n",
            "loss: 4.531349  [152582/184023]\n"
          ]
        },
        {
          "metadata": {
            "tags": null
          },
          "name": "stderr",
          "output_type": "stream",
          "text": [
            "\n",
            " 18%|█▊        | 71/400 [27:41<2:04:41, 22.74s/it]\u001b[A"
          ]
        },
        {
          "metadata": {
            "tags": null
          },
          "name": "stdout",
          "output_type": "stream",
          "text": [
            "Validation set: Loss: 4.47188\n",
            "Validation loss decreased (4.471882 --> 4.471881).  Saving model ...\n",
            "\n",
            "\n",
            "loss: 4.439259  [50182/184023]\n",
            "loss: 4.410752  [101382/184023]\n",
            "loss: 4.328438  [152582/184023]\n"
          ]
        },
        {
          "metadata": {
            "tags": null
          },
          "name": "stderr",
          "output_type": "stream",
          "text": [
            "\n",
            " 18%|█▊        | 72/400 [28:03<2:03:38, 22.62s/it]\u001b[A"
          ]
        },
        {
          "metadata": {
            "tags": null
          },
          "name": "stdout",
          "output_type": "stream",
          "text": [
            "Validation set: Loss: 4.47191\n",
            "EarlyStopping counter: 1 out of 10\n",
            "\n",
            "\n",
            "loss: 4.388812  [50182/184023]\n",
            "loss: 4.408257  [101382/184023]\n",
            "loss: 4.552045  [152582/184023]\n"
          ]
        },
        {
          "metadata": {
            "tags": null
          },
          "name": "stderr",
          "output_type": "stream",
          "text": [
            "\n",
            " 18%|█▊        | 73/400 [28:26<2:02:57, 22.56s/it]\u001b[A"
          ]
        },
        {
          "metadata": {
            "tags": null
          },
          "name": "stdout",
          "output_type": "stream",
          "text": [
            "Validation set: Loss: 4.47167\n",
            "Validation loss decreased (4.471881 --> 4.471674).  Saving model ...\n",
            "\n",
            "\n",
            "loss: 4.359441  [50182/184023]\n",
            "loss: 4.457341  [101382/184023]\n",
            "loss: 4.477898  [152582/184023]\n"
          ]
        },
        {
          "metadata": {
            "tags": null
          },
          "name": "stderr",
          "output_type": "stream",
          "text": [
            "\n",
            " 18%|█▊        | 74/400 [28:48<2:02:40, 22.58s/it]\u001b[A"
          ]
        },
        {
          "metadata": {
            "tags": null
          },
          "name": "stdout",
          "output_type": "stream",
          "text": [
            "Validation set: Loss: 4.47191\n",
            "EarlyStopping counter: 1 out of 10\n",
            "\n",
            "\n",
            "loss: 4.436647  [50182/184023]\n",
            "loss: 4.457170  [101382/184023]\n",
            "loss: 4.427355  [152582/184023]\n"
          ]
        },
        {
          "metadata": {
            "tags": null
          },
          "name": "stderr",
          "output_type": "stream",
          "text": [
            "\n",
            " 19%|█▉        | 75/400 [29:11<2:02:20, 22.59s/it]\u001b[A"
          ]
        },
        {
          "metadata": {
            "tags": null
          },
          "name": "stdout",
          "output_type": "stream",
          "text": [
            "Validation set: Loss: 4.47160\n",
            "Validation loss decreased (4.471674 --> 4.471602).  Saving model ...\n",
            "\n",
            "\n",
            "loss: 4.400521  [50182/184023]\n",
            "loss: 4.541265  [101382/184023]\n",
            "loss: 4.440892  [152582/184023]\n"
          ]
        },
        {
          "metadata": {
            "tags": null
          },
          "name": "stderr",
          "output_type": "stream",
          "text": [
            "\n",
            " 19%|█▉        | 76/400 [29:33<2:00:15, 22.27s/it]\u001b[A"
          ]
        },
        {
          "metadata": {
            "tags": null
          },
          "name": "stdout",
          "output_type": "stream",
          "text": [
            "Validation set: Loss: 4.47176\n",
            "EarlyStopping counter: 1 out of 10\n",
            "\n",
            "\n",
            "loss: 4.495146  [50182/184023]\n",
            "loss: 4.343777  [101382/184023]\n",
            "loss: 4.524415  [152582/184023]\n"
          ]
        },
        {
          "metadata": {
            "tags": null
          },
          "name": "stderr",
          "output_type": "stream",
          "text": [
            "\n",
            " 19%|█▉        | 77/400 [29:56<2:02:17, 22.72s/it]\u001b[A"
          ]
        },
        {
          "metadata": {
            "tags": null
          },
          "name": "stdout",
          "output_type": "stream",
          "text": [
            "Validation set: Loss: 4.47176\n",
            "EarlyStopping counter: 2 out of 10\n",
            "\n",
            "\n",
            "loss: 4.456724  [50182/184023]\n",
            "loss: 4.438700  [101382/184023]\n",
            "loss: 4.487460  [152582/184023]\n"
          ]
        },
        {
          "metadata": {
            "tags": null
          },
          "name": "stderr",
          "output_type": "stream",
          "text": [
            "\n",
            " 20%|█▉        | 78/400 [30:20<2:03:24, 22.99s/it]\u001b[A"
          ]
        },
        {
          "metadata": {
            "tags": null
          },
          "name": "stdout",
          "output_type": "stream",
          "text": [
            "Validation set: Loss: 4.47144\n",
            "Validation loss decreased (4.471602 --> 4.471438).  Saving model ...\n",
            "\n",
            "\n",
            "loss: 4.446210  [50182/184023]\n",
            "loss: 4.529081  [101382/184023]\n",
            "loss: 4.409139  [152582/184023]\n"
          ]
        },
        {
          "metadata": {
            "tags": null
          },
          "name": "stderr",
          "output_type": "stream",
          "text": [
            "\n",
            " 20%|█▉        | 79/400 [30:45<2:06:57, 23.73s/it]\u001b[A"
          ]
        },
        {
          "metadata": {
            "tags": null
          },
          "name": "stdout",
          "output_type": "stream",
          "text": [
            "Validation set: Loss: 4.47161\n",
            "EarlyStopping counter: 1 out of 10\n",
            "\n",
            "\n",
            "loss: 4.434802  [50182/184023]\n",
            "loss: 4.439177  [101382/184023]\n",
            "loss: 4.462710  [152582/184023]\n"
          ]
        },
        {
          "metadata": {
            "tags": null
          },
          "name": "stderr",
          "output_type": "stream",
          "text": [
            "\n",
            " 20%|██        | 80/400 [31:11<2:08:55, 24.17s/it]\u001b[A"
          ]
        },
        {
          "metadata": {
            "tags": null
          },
          "name": "stdout",
          "output_type": "stream",
          "text": [
            "Validation set: Loss: 4.47192\n",
            "EarlyStopping counter: 2 out of 10\n",
            "\n",
            "\n",
            "loss: 4.511262  [50182/184023]\n",
            "loss: 4.511253  [101382/184023]\n",
            "loss: 4.442716  [152582/184023]\n"
          ]
        },
        {
          "metadata": {
            "tags": null
          },
          "name": "stderr",
          "output_type": "stream",
          "text": [
            "\n",
            " 20%|██        | 81/400 [31:37<2:11:18, 24.70s/it]\u001b[A"
          ]
        },
        {
          "metadata": {
            "tags": null
          },
          "name": "stdout",
          "output_type": "stream",
          "text": [
            "Validation set: Loss: 4.47141\n",
            "Validation loss decreased (4.471438 --> 4.471413).  Saving model ...\n",
            "\n",
            "\n",
            "loss: 4.435256  [50182/184023]\n",
            "loss: 4.473508  [101382/184023]\n",
            "loss: 4.422887  [152582/184023]\n"
          ]
        },
        {
          "metadata": {
            "tags": null
          },
          "name": "stderr",
          "output_type": "stream",
          "text": [
            "\n",
            " 20%|██        | 82/400 [32:03<2:13:22, 25.17s/it]\u001b[A"
          ]
        },
        {
          "metadata": {
            "tags": null
          },
          "name": "stdout",
          "output_type": "stream",
          "text": [
            "Validation set: Loss: 4.47129\n",
            "Validation loss decreased (4.471413 --> 4.471285).  Saving model ...\n",
            "\n",
            "\n",
            "loss: 4.357059  [50182/184023]\n",
            "loss: 4.578834  [101382/184023]\n",
            "loss: 4.333469  [152582/184023]\n"
          ]
        },
        {
          "metadata": {
            "tags": null
          },
          "name": "stderr",
          "output_type": "stream",
          "text": [
            "\n",
            " 21%|██        | 83/400 [32:28<2:12:45, 25.13s/it]\u001b[A"
          ]
        },
        {
          "metadata": {
            "tags": null
          },
          "name": "stdout",
          "output_type": "stream",
          "text": [
            "Validation set: Loss: 4.47152\n",
            "EarlyStopping counter: 1 out of 10\n",
            "\n",
            "\n",
            "loss: 4.579429  [50182/184023]\n",
            "loss: 4.564936  [101382/184023]\n",
            "loss: 4.542734  [152582/184023]\n"
          ]
        },
        {
          "metadata": {
            "tags": null
          },
          "name": "stderr",
          "output_type": "stream",
          "text": [
            "\n",
            " 21%|██        | 84/400 [32:55<2:16:03, 25.83s/it]\u001b[A"
          ]
        },
        {
          "metadata": {
            "tags": null
          },
          "name": "stdout",
          "output_type": "stream",
          "text": [
            "Validation set: Loss: 4.47106\n",
            "Validation loss decreased (4.471285 --> 4.471063).  Saving model ...\n",
            "\n",
            "\n",
            "loss: 4.401190  [50182/184023]\n",
            "loss: 4.471413  [101382/184023]\n",
            "loss: 4.508843  [152582/184023]\n"
          ]
        },
        {
          "metadata": {
            "tags": null
          },
          "name": "stderr",
          "output_type": "stream",
          "text": [
            "\n",
            " 21%|██▏       | 85/400 [33:22<2:17:20, 26.16s/it]\u001b[A"
          ]
        },
        {
          "metadata": {
            "tags": null
          },
          "name": "stdout",
          "output_type": "stream",
          "text": [
            "Validation set: Loss: 4.47162\n",
            "EarlyStopping counter: 1 out of 10\n",
            "\n",
            "\n",
            "loss: 4.401965  [50182/184023]\n",
            "loss: 4.519450  [101382/184023]\n",
            "loss: 4.451957  [152582/184023]\n"
          ]
        },
        {
          "metadata": {
            "tags": null
          },
          "name": "stderr",
          "output_type": "stream",
          "text": [
            "\n",
            " 22%|██▏       | 86/400 [33:50<2:18:58, 26.56s/it]\u001b[A"
          ]
        },
        {
          "metadata": {
            "tags": null
          },
          "name": "stdout",
          "output_type": "stream",
          "text": [
            "Validation set: Loss: 4.47127\n",
            "EarlyStopping counter: 2 out of 10\n",
            "\n",
            "\n",
            "loss: 4.525611  [50182/184023]\n",
            "loss: 4.528228  [101382/184023]\n",
            "loss: 4.449782  [152582/184023]\n"
          ]
        },
        {
          "metadata": {
            "tags": null
          },
          "name": "stderr",
          "output_type": "stream",
          "text": [
            "\n",
            " 22%|██▏       | 87/400 [34:18<2:21:34, 27.14s/it]\u001b[A"
          ]
        },
        {
          "metadata": {
            "tags": null
          },
          "name": "stdout",
          "output_type": "stream",
          "text": [
            "Validation set: Loss: 4.47137\n",
            "EarlyStopping counter: 3 out of 10\n",
            "\n",
            "\n",
            "loss: 4.403606  [50182/184023]\n",
            "loss: 4.509129  [101382/184023]\n",
            "loss: 4.431092  [152582/184023]\n"
          ]
        },
        {
          "metadata": {
            "tags": null
          },
          "name": "stderr",
          "output_type": "stream",
          "text": [
            "\n",
            " 22%|██▏       | 88/400 [34:44<2:19:39, 26.86s/it]\u001b[A"
          ]
        },
        {
          "metadata": {
            "tags": null
          },
          "name": "stdout",
          "output_type": "stream",
          "text": [
            "Validation set: Loss: 4.47120\n",
            "EarlyStopping counter: 4 out of 10\n",
            "\n",
            "\n",
            "loss: 4.518426  [50182/184023]\n",
            "loss: 4.429536  [101382/184023]\n",
            "loss: 4.375186  [152582/184023]\n"
          ]
        },
        {
          "metadata": {
            "tags": null
          },
          "name": "stderr",
          "output_type": "stream",
          "text": [
            "\n",
            " 22%|██▏       | 89/400 [35:12<2:19:47, 26.97s/it]\u001b[A"
          ]
        },
        {
          "metadata": {
            "tags": null
          },
          "name": "stdout",
          "output_type": "stream",
          "text": [
            "Validation set: Loss: 4.47119\n",
            "EarlyStopping counter: 5 out of 10\n",
            "\n",
            "\n",
            "loss: 4.369618  [50182/184023]\n",
            "loss: 4.417184  [101382/184023]\n",
            "loss: 4.464112  [152582/184023]\n"
          ]
        },
        {
          "metadata": {
            "tags": null
          },
          "name": "stderr",
          "output_type": "stream",
          "text": [
            "\n",
            " 22%|██▎       | 90/400 [35:38<2:18:59, 26.90s/it]\u001b[A"
          ]
        },
        {
          "metadata": {
            "tags": null
          },
          "name": "stdout",
          "output_type": "stream",
          "text": [
            "Validation set: Loss: 4.47109\n",
            "EarlyStopping counter: 6 out of 10\n",
            "\n",
            "\n",
            "loss: 4.483071  [50182/184023]\n",
            "loss: 4.371897  [101382/184023]\n",
            "loss: 4.478069  [152582/184023]\n"
          ]
        },
        {
          "metadata": {
            "tags": null
          },
          "name": "stderr",
          "output_type": "stream",
          "text": [
            "\n",
            " 23%|██▎       | 91/400 [36:05<2:18:11, 26.83s/it]\u001b[A"
          ]
        },
        {
          "metadata": {
            "tags": null
          },
          "name": "stdout",
          "output_type": "stream",
          "text": [
            "Validation set: Loss: 4.47112\n",
            "EarlyStopping counter: 7 out of 10\n",
            "\n",
            "\n",
            "loss: 4.485316  [50182/184023]\n",
            "loss: 4.482165  [101382/184023]\n",
            "loss: 4.487066  [152582/184023]\n"
          ]
        },
        {
          "metadata": {
            "tags": null
          },
          "name": "stderr",
          "output_type": "stream",
          "text": [
            "\n",
            " 23%|██▎       | 92/400 [36:32<2:17:48, 26.85s/it]\u001b[A"
          ]
        },
        {
          "metadata": {
            "tags": null
          },
          "name": "stdout",
          "output_type": "stream",
          "text": [
            "Validation set: Loss: 4.47100\n",
            "Validation loss decreased (4.471063 --> 4.471000).  Saving model ...\n",
            "\n",
            "\n",
            "loss: 4.466050  [50182/184023]\n",
            "loss: 4.471564  [101382/184023]\n",
            "loss: 4.446565  [152582/184023]\n"
          ]
        },
        {
          "metadata": {
            "tags": null
          },
          "name": "stderr",
          "output_type": "stream",
          "text": [
            "\n",
            " 23%|██▎       | 93/400 [36:58<2:16:40, 26.71s/it]\u001b[A"
          ]
        },
        {
          "metadata": {
            "tags": null
          },
          "name": "stdout",
          "output_type": "stream",
          "text": [
            "Validation set: Loss: 4.47091\n",
            "Validation loss decreased (4.471000 --> 4.470911).  Saving model ...\n",
            "\n",
            "\n",
            "loss: 4.495004  [50182/184023]\n",
            "loss: 4.550362  [101382/184023]\n",
            "loss: 4.587830  [152582/184023]\n"
          ]
        },
        {
          "metadata": {
            "tags": null
          },
          "name": "stderr",
          "output_type": "stream",
          "text": [
            "\n",
            " 24%|██▎       | 94/400 [37:25<2:16:24, 26.75s/it]\u001b[A"
          ]
        },
        {
          "metadata": {
            "tags": null
          },
          "name": "stdout",
          "output_type": "stream",
          "text": [
            "Validation set: Loss: 4.47086\n",
            "Validation loss decreased (4.470911 --> 4.470857).  Saving model ...\n",
            "\n",
            "\n",
            "loss: 4.530738  [50182/184023]\n",
            "loss: 4.591083  [101382/184023]\n",
            "loss: 4.468767  [152582/184023]\n"
          ]
        },
        {
          "metadata": {
            "tags": null
          },
          "name": "stderr",
          "output_type": "stream",
          "text": [
            "\n",
            " 24%|██▍       | 95/400 [37:52<2:16:33, 26.86s/it]\u001b[A"
          ]
        },
        {
          "metadata": {
            "tags": null
          },
          "name": "stdout",
          "output_type": "stream",
          "text": [
            "Validation set: Loss: 4.47082\n",
            "Validation loss decreased (4.470857 --> 4.470817).  Saving model ...\n",
            "\n",
            "\n",
            "loss: 4.603131  [50182/184023]\n",
            "loss: 4.349817  [101382/184023]\n",
            "loss: 4.530468  [152582/184023]\n"
          ]
        },
        {
          "metadata": {
            "tags": null
          },
          "name": "stderr",
          "output_type": "stream",
          "text": [
            "\n",
            " 24%|██▍       | 96/400 [38:21<2:18:36, 27.36s/it]\u001b[A"
          ]
        },
        {
          "metadata": {
            "tags": null
          },
          "name": "stdout",
          "output_type": "stream",
          "text": [
            "Validation set: Loss: 4.47089\n",
            "EarlyStopping counter: 1 out of 10\n",
            "\n",
            "\n",
            "loss: 4.414708  [50182/184023]\n",
            "loss: 4.467301  [101382/184023]\n",
            "loss: 4.467569  [152582/184023]\n"
          ]
        },
        {
          "metadata": {
            "tags": null
          },
          "name": "stderr",
          "output_type": "stream",
          "text": [
            "\n",
            " 24%|██▍       | 97/400 [38:48<2:17:07, 27.15s/it]\u001b[A"
          ]
        },
        {
          "metadata": {
            "tags": null
          },
          "name": "stdout",
          "output_type": "stream",
          "text": [
            "Validation set: Loss: 4.47093\n",
            "EarlyStopping counter: 2 out of 10\n",
            "\n",
            "\n",
            "loss: 4.420428  [50182/184023]\n",
            "loss: 4.546216  [101382/184023]\n",
            "loss: 4.477650  [152582/184023]\n"
          ]
        },
        {
          "metadata": {
            "tags": null
          },
          "name": "stderr",
          "output_type": "stream",
          "text": [
            "\n",
            " 24%|██▍       | 98/400 [39:14<2:15:25, 26.90s/it]\u001b[A"
          ]
        },
        {
          "metadata": {
            "tags": null
          },
          "name": "stdout",
          "output_type": "stream",
          "text": [
            "Validation set: Loss: 4.47096\n",
            "EarlyStopping counter: 3 out of 10\n",
            "\n",
            "\n",
            "loss: 4.550585  [50182/184023]\n",
            "loss: 4.508737  [101382/184023]\n",
            "loss: 4.401534  [152582/184023]\n"
          ]
        },
        {
          "metadata": {
            "tags": null
          },
          "name": "stderr",
          "output_type": "stream",
          "text": [
            "\n",
            " 25%|██▍       | 99/400 [39:40<2:14:22, 26.78s/it]\u001b[A"
          ]
        },
        {
          "metadata": {
            "tags": null
          },
          "name": "stdout",
          "output_type": "stream",
          "text": [
            "Validation set: Loss: 4.47092\n",
            "EarlyStopping counter: 4 out of 10\n",
            "\n",
            "\n",
            "loss: 4.514558  [50182/184023]\n",
            "loss: 4.370031  [101382/184023]\n",
            "loss: 4.487524  [152582/184023]\n"
          ]
        },
        {
          "metadata": {
            "tags": null
          },
          "name": "stderr",
          "output_type": "stream",
          "text": [
            "\n",
            " 25%|██▌       | 100/400 [40:07<2:13:14, 26.65s/it]\u001b[A"
          ]
        },
        {
          "metadata": {
            "tags": null
          },
          "name": "stdout",
          "output_type": "stream",
          "text": [
            "Validation set: Loss: 4.47183\n",
            "EarlyStopping counter: 5 out of 10\n",
            "\n",
            "\n",
            "loss: 4.471723  [50182/184023]\n",
            "loss: 4.430573  [101382/184023]\n",
            "loss: 4.525758  [152582/184023]\n"
          ]
        },
        {
          "metadata": {
            "tags": null
          },
          "name": "stderr",
          "output_type": "stream",
          "text": [
            "\n",
            " 25%|██▌       | 101/400 [40:32<2:11:32, 26.39s/it]\u001b[A"
          ]
        },
        {
          "metadata": {
            "tags": null
          },
          "name": "stdout",
          "output_type": "stream",
          "text": [
            "Validation set: Loss: 4.47052\n",
            "Validation loss decreased (4.470817 --> 4.470522).  Saving model ...\n",
            "\n",
            "\n",
            "loss: 4.400521  [50182/184023]\n",
            "loss: 4.480597  [101382/184023]\n",
            "loss: 4.541414  [152582/184023]\n"
          ]
        },
        {
          "metadata": {
            "tags": null
          },
          "name": "stderr",
          "output_type": "stream",
          "text": [
            "\n",
            " 26%|██▌       | 102/400 [40:59<2:11:26, 26.46s/it]\u001b[A"
          ]
        },
        {
          "metadata": {
            "tags": null
          },
          "name": "stdout",
          "output_type": "stream",
          "text": [
            "Validation set: Loss: 4.47054\n",
            "EarlyStopping counter: 1 out of 10\n",
            "\n",
            "\n",
            "loss: 4.535663  [50182/184023]\n",
            "loss: 4.411792  [101382/184023]\n",
            "loss: 4.419915  [152582/184023]\n"
          ]
        },
        {
          "metadata": {
            "tags": null
          },
          "name": "stderr",
          "output_type": "stream",
          "text": [
            "\n",
            " 26%|██▌       | 103/400 [41:26<2:11:40, 26.60s/it]\u001b[A"
          ]
        },
        {
          "metadata": {
            "tags": null
          },
          "name": "stdout",
          "output_type": "stream",
          "text": [
            "Validation set: Loss: 4.47088\n",
            "EarlyStopping counter: 2 out of 10\n",
            "\n",
            "\n",
            "loss: 4.497900  [50182/184023]\n",
            "loss: 4.482449  [101382/184023]\n",
            "loss: 4.504896  [152582/184023]\n"
          ]
        },
        {
          "metadata": {
            "tags": null
          },
          "name": "stderr",
          "output_type": "stream",
          "text": [
            "\n",
            " 26%|██▌       | 104/400 [41:52<2:10:47, 26.51s/it]\u001b[A"
          ]
        },
        {
          "metadata": {
            "tags": null
          },
          "name": "stdout",
          "output_type": "stream",
          "text": [
            "Validation set: Loss: 4.47077\n",
            "EarlyStopping counter: 3 out of 10\n",
            "\n",
            "\n",
            "loss: 4.549327  [50182/184023]\n",
            "loss: 4.518122  [101382/184023]\n",
            "loss: 4.448988  [152582/184023]\n"
          ]
        },
        {
          "metadata": {
            "tags": null
          },
          "name": "stderr",
          "output_type": "stream",
          "text": [
            "\n",
            " 26%|██▋       | 105/400 [42:20<2:12:07, 26.87s/it]\u001b[A"
          ]
        },
        {
          "metadata": {
            "tags": null
          },
          "name": "stdout",
          "output_type": "stream",
          "text": [
            "Validation set: Loss: 4.47101\n",
            "EarlyStopping counter: 4 out of 10\n",
            "\n",
            "\n",
            "loss: 4.435114  [50182/184023]\n",
            "loss: 4.473743  [101382/184023]\n",
            "loss: 4.502591  [152582/184023]\n"
          ]
        },
        {
          "metadata": {
            "tags": null
          },
          "name": "stderr",
          "output_type": "stream",
          "text": [
            "\n",
            " 26%|██▋       | 106/400 [42:47<2:12:32, 27.05s/it]\u001b[A"
          ]
        },
        {
          "metadata": {
            "tags": null
          },
          "name": "stdout",
          "output_type": "stream",
          "text": [
            "Validation set: Loss: 4.47083\n",
            "EarlyStopping counter: 5 out of 10\n",
            "\n",
            "\n",
            "loss: 4.412583  [50182/184023]\n",
            "loss: 4.508442  [101382/184023]\n",
            "loss: 4.429671  [152582/184023]\n"
          ]
        },
        {
          "metadata": {
            "tags": null
          },
          "name": "stderr",
          "output_type": "stream",
          "text": [
            "\n",
            " 27%|██▋       | 107/400 [43:14<2:10:54, 26.81s/it]\u001b[A"
          ]
        },
        {
          "metadata": {
            "tags": null
          },
          "name": "stdout",
          "output_type": "stream",
          "text": [
            "Validation set: Loss: 4.47048\n",
            "Validation loss decreased (4.470522 --> 4.470479).  Saving model ...\n",
            "\n",
            "\n",
            "loss: 4.513771  [50182/184023]\n",
            "loss: 4.514284  [101382/184023]\n",
            "loss: 4.433471  [152582/184023]\n"
          ]
        },
        {
          "metadata": {
            "tags": null
          },
          "name": "stderr",
          "output_type": "stream",
          "text": [
            "\n",
            " 27%|██▋       | 108/400 [43:39<2:08:50, 26.47s/it]\u001b[A"
          ]
        },
        {
          "metadata": {
            "tags": null
          },
          "name": "stdout",
          "output_type": "stream",
          "text": [
            "Validation set: Loss: 4.47064\n",
            "EarlyStopping counter: 1 out of 10\n",
            "\n",
            "\n",
            "loss: 4.394370  [50182/184023]\n",
            "loss: 4.520839  [101382/184023]\n",
            "loss: 4.540746  [152582/184023]\n"
          ]
        },
        {
          "metadata": {
            "tags": null
          },
          "name": "stderr",
          "output_type": "stream",
          "text": [
            "\n",
            " 27%|██▋       | 109/400 [44:07<2:09:23, 26.68s/it]\u001b[A"
          ]
        },
        {
          "metadata": {
            "tags": null
          },
          "name": "stdout",
          "output_type": "stream",
          "text": [
            "Validation set: Loss: 4.47049\n",
            "EarlyStopping counter: 2 out of 10\n",
            "\n",
            "\n",
            "loss: 4.466366  [50182/184023]\n",
            "loss: 4.529371  [101382/184023]\n",
            "loss: 4.524986  [152582/184023]\n"
          ]
        },
        {
          "metadata": {
            "tags": null
          },
          "name": "stderr",
          "output_type": "stream",
          "text": [
            "\n",
            " 28%|██▊       | 110/400 [44:33<2:08:53, 26.67s/it]\u001b[A"
          ]
        },
        {
          "metadata": {
            "tags": null
          },
          "name": "stdout",
          "output_type": "stream",
          "text": [
            "Validation set: Loss: 4.47092\n",
            "EarlyStopping counter: 3 out of 10\n",
            "\n",
            "\n",
            "loss: 4.412226  [50182/184023]\n",
            "loss: 4.462881  [101382/184023]\n",
            "loss: 4.423420  [152582/184023]\n"
          ]
        },
        {
          "metadata": {
            "tags": null
          },
          "name": "stderr",
          "output_type": "stream",
          "text": [
            "\n",
            " 28%|██▊       | 111/400 [44:59<2:07:47, 26.53s/it]\u001b[A"
          ]
        },
        {
          "metadata": {
            "tags": null
          },
          "name": "stdout",
          "output_type": "stream",
          "text": [
            "Validation set: Loss: 4.47065\n",
            "EarlyStopping counter: 4 out of 10\n",
            "\n",
            "\n",
            "loss: 4.388612  [50182/184023]\n",
            "loss: 4.475064  [101382/184023]\n",
            "loss: 4.460124  [152582/184023]\n"
          ]
        },
        {
          "metadata": {
            "tags": null
          },
          "name": "stderr",
          "output_type": "stream",
          "text": [
            "\n",
            " 28%|██▊       | 112/400 [45:25<2:06:22, 26.33s/it]\u001b[A"
          ]
        },
        {
          "metadata": {
            "tags": null
          },
          "name": "stdout",
          "output_type": "stream",
          "text": [
            "Validation set: Loss: 4.47087\n",
            "EarlyStopping counter: 5 out of 10\n",
            "\n",
            "\n",
            "loss: 4.441417  [50182/184023]\n",
            "loss: 4.534580  [101382/184023]\n",
            "loss: 4.461251  [152582/184023]\n"
          ]
        },
        {
          "metadata": {
            "tags": null
          },
          "name": "stderr",
          "output_type": "stream",
          "text": [
            "\n",
            " 28%|██▊       | 113/400 [45:52<2:05:57, 26.33s/it]\u001b[A"
          ]
        },
        {
          "metadata": {
            "tags": null
          },
          "name": "stdout",
          "output_type": "stream",
          "text": [
            "Validation set: Loss: 4.47033\n",
            "Validation loss decreased (4.470479 --> 4.470331).  Saving model ...\n",
            "\n",
            "\n",
            "loss: 4.471808  [50182/184023]\n",
            "loss: 4.513886  [101382/184023]\n",
            "loss: 4.519733  [152582/184023]\n"
          ]
        },
        {
          "metadata": {
            "tags": null
          },
          "name": "stderr",
          "output_type": "stream",
          "text": [
            "\n",
            " 28%|██▊       | 114/400 [46:18<2:06:07, 26.46s/it]\u001b[A"
          ]
        },
        {
          "metadata": {
            "tags": null
          },
          "name": "stdout",
          "output_type": "stream",
          "text": [
            "Validation set: Loss: 4.47061\n",
            "EarlyStopping counter: 1 out of 10\n",
            "\n",
            "\n",
            "loss: 4.565575  [50182/184023]\n",
            "loss: 4.513562  [101382/184023]\n",
            "loss: 4.532812  [152582/184023]\n"
          ]
        },
        {
          "metadata": {
            "tags": null
          },
          "name": "stderr",
          "output_type": "stream",
          "text": [
            "\n",
            " 29%|██▉       | 115/400 [46:45<2:06:14, 26.58s/it]\u001b[A"
          ]
        },
        {
          "metadata": {
            "tags": null
          },
          "name": "stdout",
          "output_type": "stream",
          "text": [
            "Validation set: Loss: 4.47019\n",
            "Validation loss decreased (4.470331 --> 4.470190).  Saving model ...\n",
            "\n",
            "\n",
            "loss: 4.337243  [50182/184023]\n",
            "loss: 4.426745  [101382/184023]\n",
            "loss: 4.515544  [152582/184023]\n"
          ]
        },
        {
          "metadata": {
            "tags": null
          },
          "name": "stderr",
          "output_type": "stream",
          "text": [
            "\n",
            " 29%|██▉       | 116/400 [47:10<2:03:26, 26.08s/it]\u001b[A"
          ]
        },
        {
          "metadata": {
            "tags": null
          },
          "name": "stdout",
          "output_type": "stream",
          "text": [
            "Validation set: Loss: 4.47044\n",
            "EarlyStopping counter: 1 out of 10\n",
            "\n",
            "\n",
            "loss: 4.586457  [50182/184023]\n",
            "loss: 4.403294  [101382/184023]\n",
            "loss: 4.488262  [152582/184023]\n"
          ]
        },
        {
          "metadata": {
            "tags": null
          },
          "name": "stderr",
          "output_type": "stream",
          "text": [
            "\n",
            " 29%|██▉       | 117/400 [47:36<2:02:22, 25.95s/it]\u001b[A"
          ]
        },
        {
          "metadata": {
            "tags": null
          },
          "name": "stdout",
          "output_type": "stream",
          "text": [
            "Validation set: Loss: 4.47042\n",
            "EarlyStopping counter: 2 out of 10\n",
            "\n",
            "\n",
            "loss: 4.492404  [50182/184023]\n",
            "loss: 4.513310  [101382/184023]\n",
            "loss: 4.443790  [152582/184023]\n"
          ]
        },
        {
          "metadata": {
            "tags": null
          },
          "name": "stderr",
          "output_type": "stream",
          "text": [
            "\n",
            " 30%|██▉       | 118/400 [48:01<2:00:33, 25.65s/it]\u001b[A"
          ]
        },
        {
          "metadata": {
            "tags": null
          },
          "name": "stdout",
          "output_type": "stream",
          "text": [
            "Validation set: Loss: 4.47067\n",
            "EarlyStopping counter: 3 out of 10\n",
            "\n",
            "\n",
            "loss: 4.439647  [50182/184023]\n",
            "loss: 4.565320  [101382/184023]\n",
            "loss: 4.512480  [152582/184023]\n"
          ]
        },
        {
          "metadata": {
            "tags": null
          },
          "name": "stderr",
          "output_type": "stream",
          "text": [
            "\n",
            " 30%|██▉       | 119/400 [48:26<1:59:24, 25.50s/it]\u001b[A"
          ]
        },
        {
          "metadata": {
            "tags": null
          },
          "name": "stdout",
          "output_type": "stream",
          "text": [
            "Validation set: Loss: 4.47034\n",
            "EarlyStopping counter: 4 out of 10\n",
            "\n",
            "\n",
            "loss: 4.434813  [50182/184023]\n",
            "loss: 4.312298  [101382/184023]\n",
            "loss: 4.484410  [152582/184023]\n"
          ]
        },
        {
          "metadata": {
            "tags": null
          },
          "name": "stderr",
          "output_type": "stream",
          "text": [
            "\n",
            " 30%|███       | 120/400 [48:50<1:56:58, 25.07s/it]\u001b[A"
          ]
        },
        {
          "metadata": {
            "tags": null
          },
          "name": "stdout",
          "output_type": "stream",
          "text": [
            "Validation set: Loss: 4.47030\n",
            "EarlyStopping counter: 5 out of 10\n",
            "\n",
            "\n",
            "loss: 4.540326  [50182/184023]\n",
            "loss: 4.482893  [101382/184023]\n",
            "loss: 4.516175  [152582/184023]\n"
          ]
        },
        {
          "metadata": {
            "tags": null
          },
          "name": "stderr",
          "output_type": "stream",
          "text": [
            "\n",
            " 30%|███       | 121/400 [49:13<1:53:31, 24.41s/it]\u001b[A"
          ]
        },
        {
          "metadata": {
            "tags": null
          },
          "name": "stdout",
          "output_type": "stream",
          "text": [
            "Validation set: Loss: 4.47035\n",
            "EarlyStopping counter: 6 out of 10\n",
            "\n",
            "\n",
            "loss: 4.505739  [50182/184023]\n",
            "loss: 4.505160  [101382/184023]\n",
            "loss: 4.401361  [152582/184023]\n"
          ]
        },
        {
          "metadata": {
            "tags": null
          },
          "name": "stderr",
          "output_type": "stream",
          "text": [
            "\n",
            " 30%|███       | 122/400 [49:35<1:50:06, 23.76s/it]\u001b[A"
          ]
        },
        {
          "metadata": {
            "tags": null
          },
          "name": "stdout",
          "output_type": "stream",
          "text": [
            "Validation set: Loss: 4.47035\n",
            "EarlyStopping counter: 7 out of 10\n",
            "\n",
            "\n",
            "loss: 4.509499  [50182/184023]\n",
            "loss: 4.533093  [101382/184023]\n",
            "loss: 4.452750  [152582/184023]\n"
          ]
        },
        {
          "metadata": {
            "tags": null
          },
          "name": "stderr",
          "output_type": "stream",
          "text": [
            "\n",
            " 31%|███       | 123/400 [49:57<1:47:34, 23.30s/it]\u001b[A"
          ]
        },
        {
          "metadata": {
            "tags": null
          },
          "name": "stdout",
          "output_type": "stream",
          "text": [
            "Validation set: Loss: 4.47011\n",
            "Validation loss decreased (4.470190 --> 4.470106).  Saving model ...\n",
            "\n",
            "\n",
            "loss: 4.503555  [50182/184023]\n",
            "loss: 4.409376  [101382/184023]\n",
            "loss: 4.470696  [152582/184023]\n"
          ]
        },
        {
          "metadata": {
            "tags": null
          },
          "name": "stderr",
          "output_type": "stream",
          "text": [
            "\n",
            " 31%|███       | 124/400 [50:20<1:45:52, 23.02s/it]\u001b[A"
          ]
        },
        {
          "metadata": {
            "tags": null
          },
          "name": "stdout",
          "output_type": "stream",
          "text": [
            "Validation set: Loss: 4.47022\n",
            "EarlyStopping counter: 1 out of 10\n",
            "\n",
            "\n",
            "loss: 4.414251  [50182/184023]\n",
            "loss: 4.390714  [101382/184023]\n",
            "loss: 4.453843  [152582/184023]\n"
          ]
        },
        {
          "metadata": {
            "tags": null
          },
          "name": "stderr",
          "output_type": "stream",
          "text": [
            "\n",
            " 31%|███▏      | 125/400 [50:42<1:45:03, 22.92s/it]\u001b[A"
          ]
        },
        {
          "metadata": {
            "tags": null
          },
          "name": "stdout",
          "output_type": "stream",
          "text": [
            "Validation set: Loss: 4.47033\n",
            "EarlyStopping counter: 2 out of 10\n",
            "\n",
            "\n",
            "loss: 4.467019  [50182/184023]\n",
            "loss: 4.428245  [101382/184023]\n",
            "loss: 4.389474  [152582/184023]\n"
          ]
        },
        {
          "metadata": {
            "tags": null
          },
          "name": "stderr",
          "output_type": "stream",
          "text": [
            "\n",
            " 32%|███▏      | 126/400 [51:05<1:44:54, 22.97s/it]\u001b[A"
          ]
        },
        {
          "metadata": {
            "tags": null
          },
          "name": "stdout",
          "output_type": "stream",
          "text": [
            "Validation set: Loss: 4.47023\n",
            "EarlyStopping counter: 3 out of 10\n",
            "\n",
            "\n",
            "loss: 4.449640  [50182/184023]\n",
            "loss: 4.428882  [101382/184023]\n",
            "loss: 4.380757  [152582/184023]\n"
          ]
        },
        {
          "metadata": {
            "tags": null
          },
          "name": "stderr",
          "output_type": "stream",
          "text": [
            "\n",
            " 32%|███▏      | 127/400 [51:27<1:42:44, 22.58s/it]\u001b[A"
          ]
        },
        {
          "metadata": {
            "tags": null
          },
          "name": "stdout",
          "output_type": "stream",
          "text": [
            "Validation set: Loss: 4.47065\n",
            "EarlyStopping counter: 4 out of 10\n",
            "\n",
            "\n",
            "loss: 4.552699  [50182/184023]\n",
            "loss: 4.513636  [101382/184023]\n",
            "loss: 4.483989  [152582/184023]\n"
          ]
        },
        {
          "metadata": {
            "tags": null
          },
          "name": "stderr",
          "output_type": "stream",
          "text": [
            "\n",
            " 32%|███▏      | 128/400 [51:50<1:42:32, 22.62s/it]\u001b[A"
          ]
        },
        {
          "metadata": {
            "tags": null
          },
          "name": "stdout",
          "output_type": "stream",
          "text": [
            "Validation set: Loss: 4.47036\n",
            "EarlyStopping counter: 5 out of 10\n",
            "\n",
            "\n",
            "loss: 4.535751  [50182/184023]\n",
            "loss: 4.504158  [101382/184023]\n",
            "loss: 4.508572  [152582/184023]\n"
          ]
        },
        {
          "metadata": {
            "tags": null
          },
          "name": "stderr",
          "output_type": "stream",
          "text": [
            "\n",
            " 32%|███▏      | 129/400 [52:12<1:41:56, 22.57s/it]\u001b[A"
          ]
        },
        {
          "metadata": {
            "tags": null
          },
          "name": "stdout",
          "output_type": "stream",
          "text": [
            "Validation set: Loss: 4.47023\n",
            "EarlyStopping counter: 6 out of 10\n",
            "\n",
            "\n",
            "loss: 4.545463  [50182/184023]\n",
            "loss: 4.476076  [101382/184023]\n",
            "loss: 4.518837  [152582/184023]\n"
          ]
        },
        {
          "metadata": {
            "tags": null
          },
          "name": "stderr",
          "output_type": "stream",
          "text": [
            "\n",
            " 32%|███▎      | 130/400 [52:34<1:40:32, 22.34s/it]\u001b[A"
          ]
        },
        {
          "metadata": {
            "tags": null
          },
          "name": "stdout",
          "output_type": "stream",
          "text": [
            "Validation set: Loss: 4.47008\n",
            "Validation loss decreased (4.470106 --> 4.470083).  Saving model ...\n",
            "\n",
            "\n",
            "loss: 4.497227  [50182/184023]\n",
            "loss: 4.430579  [101382/184023]\n",
            "loss: 4.445858  [152582/184023]\n"
          ]
        },
        {
          "metadata": {
            "tags": null
          },
          "name": "stderr",
          "output_type": "stream",
          "text": [
            "\n",
            " 33%|███▎      | 131/400 [52:57<1:40:27, 22.41s/it]\u001b[A"
          ]
        },
        {
          "metadata": {
            "tags": null
          },
          "name": "stdout",
          "output_type": "stream",
          "text": [
            "Validation set: Loss: 4.47021\n",
            "EarlyStopping counter: 1 out of 10\n",
            "\n",
            "\n",
            "loss: 4.619057  [50182/184023]\n",
            "loss: 4.557428  [101382/184023]\n",
            "loss: 4.508547  [152582/184023]\n"
          ]
        },
        {
          "metadata": {
            "tags": null
          },
          "name": "stderr",
          "output_type": "stream",
          "text": [
            "\n",
            " 33%|███▎      | 132/400 [53:19<1:40:29, 22.50s/it]\u001b[A"
          ]
        },
        {
          "metadata": {
            "tags": null
          },
          "name": "stdout",
          "output_type": "stream",
          "text": [
            "Validation set: Loss: 4.47011\n",
            "EarlyStopping counter: 2 out of 10\n",
            "\n",
            "\n",
            "loss: 4.501230  [50182/184023]\n",
            "loss: 4.423723  [101382/184023]\n",
            "loss: 4.444923  [152582/184023]\n"
          ]
        },
        {
          "metadata": {
            "tags": null
          },
          "name": "stderr",
          "output_type": "stream",
          "text": [
            "\n",
            " 33%|███▎      | 133/400 [53:42<1:40:44, 22.64s/it]\u001b[A"
          ]
        },
        {
          "metadata": {
            "tags": null
          },
          "name": "stdout",
          "output_type": "stream",
          "text": [
            "Validation set: Loss: 4.46991\n",
            "Validation loss decreased (4.470083 --> 4.469912).  Saving model ...\n",
            "\n",
            "\n",
            "loss: 4.423730  [50182/184023]\n",
            "loss: 4.489884  [101382/184023]\n",
            "loss: 4.430398  [152582/184023]\n"
          ]
        },
        {
          "metadata": {
            "tags": null
          },
          "name": "stderr",
          "output_type": "stream",
          "text": [
            "\n",
            " 34%|███▎      | 134/400 [54:04<1:38:34, 22.23s/it]\u001b[A"
          ]
        },
        {
          "metadata": {
            "tags": null
          },
          "name": "stdout",
          "output_type": "stream",
          "text": [
            "Validation set: Loss: 4.47039\n",
            "EarlyStopping counter: 1 out of 10\n",
            "\n",
            "\n",
            "loss: 4.416945  [50182/184023]\n",
            "loss: 4.464305  [101382/184023]\n",
            "loss: 4.411126  [152582/184023]\n"
          ]
        },
        {
          "metadata": {
            "tags": null
          },
          "name": "stderr",
          "output_type": "stream",
          "text": [
            "\n",
            " 34%|███▍      | 135/400 [54:26<1:38:14, 22.24s/it]\u001b[A"
          ]
        },
        {
          "metadata": {
            "tags": null
          },
          "name": "stdout",
          "output_type": "stream",
          "text": [
            "Validation set: Loss: 4.47006\n",
            "EarlyStopping counter: 2 out of 10\n",
            "\n",
            "\n",
            "loss: 4.464341  [50182/184023]\n",
            "loss: 4.507397  [101382/184023]\n",
            "loss: 4.491908  [152582/184023]\n"
          ]
        },
        {
          "metadata": {
            "tags": null
          },
          "name": "stderr",
          "output_type": "stream",
          "text": [
            "\n",
            " 34%|███▍      | 136/400 [54:48<1:37:58, 22.27s/it]\u001b[A"
          ]
        },
        {
          "metadata": {
            "tags": null
          },
          "name": "stdout",
          "output_type": "stream",
          "text": [
            "Validation set: Loss: 4.47018\n",
            "EarlyStopping counter: 3 out of 10\n",
            "\n",
            "\n",
            "loss: 4.513533  [50182/184023]\n",
            "loss: 4.531437  [101382/184023]\n",
            "loss: 4.539183  [152582/184023]\n"
          ]
        },
        {
          "metadata": {
            "tags": null
          },
          "name": "stderr",
          "output_type": "stream",
          "text": [
            "\n",
            " 34%|███▍      | 137/400 [55:11<1:38:12, 22.40s/it]\u001b[A"
          ]
        },
        {
          "metadata": {
            "tags": null
          },
          "name": "stdout",
          "output_type": "stream",
          "text": [
            "Validation set: Loss: 4.47042\n",
            "EarlyStopping counter: 4 out of 10\n",
            "\n",
            "\n",
            "loss: 4.441986  [50182/184023]\n",
            "loss: 4.402856  [101382/184023]\n",
            "loss: 4.517951  [152582/184023]\n"
          ]
        },
        {
          "metadata": {
            "tags": null
          },
          "name": "stderr",
          "output_type": "stream",
          "text": [
            "\n",
            " 34%|███▍      | 138/400 [55:34<1:38:08, 22.48s/it]\u001b[A"
          ]
        },
        {
          "metadata": {
            "tags": null
          },
          "name": "stdout",
          "output_type": "stream",
          "text": [
            "Validation set: Loss: 4.47030\n",
            "EarlyStopping counter: 5 out of 10\n",
            "\n",
            "\n",
            "loss: 4.508905  [50182/184023]\n",
            "loss: 4.492726  [101382/184023]\n",
            "loss: 4.395582  [152582/184023]\n"
          ]
        },
        {
          "metadata": {
            "tags": null
          },
          "name": "stderr",
          "output_type": "stream",
          "text": [
            "\n",
            " 35%|███▍      | 139/400 [55:56<1:37:53, 22.50s/it]\u001b[A"
          ]
        },
        {
          "metadata": {
            "tags": null
          },
          "name": "stdout",
          "output_type": "stream",
          "text": [
            "Validation set: Loss: 4.47043\n",
            "EarlyStopping counter: 6 out of 10\n",
            "\n",
            "\n",
            "loss: 4.383562  [50182/184023]\n",
            "loss: 4.504607  [101382/184023]\n",
            "loss: 4.444425  [152582/184023]\n"
          ]
        },
        {
          "metadata": {
            "tags": null
          },
          "name": "stderr",
          "output_type": "stream",
          "text": [
            "\n",
            " 35%|███▌      | 140/400 [56:18<1:37:13, 22.44s/it]\u001b[A"
          ]
        },
        {
          "metadata": {
            "tags": null
          },
          "name": "stdout",
          "output_type": "stream",
          "text": [
            "Validation set: Loss: 4.47020\n",
            "EarlyStopping counter: 7 out of 10\n",
            "\n",
            "\n",
            "loss: 4.461845  [50182/184023]\n",
            "loss: 4.439415  [101382/184023]\n",
            "loss: 4.441388  [152582/184023]\n"
          ]
        },
        {
          "metadata": {
            "tags": null
          },
          "name": "stderr",
          "output_type": "stream",
          "text": [
            "\n",
            " 35%|███▌      | 141/400 [56:41<1:37:10, 22.51s/it]\u001b[A"
          ]
        },
        {
          "metadata": {
            "tags": null
          },
          "name": "stdout",
          "output_type": "stream",
          "text": [
            "Validation set: Loss: 4.47003\n",
            "EarlyStopping counter: 8 out of 10\n",
            "\n",
            "\n",
            "loss: 4.481920  [50182/184023]\n",
            "loss: 4.482193  [101382/184023]\n",
            "loss: 4.441779  [152582/184023]\n"
          ]
        },
        {
          "metadata": {
            "tags": null
          },
          "name": "stderr",
          "output_type": "stream",
          "text": [
            "\n",
            " 36%|███▌      | 142/400 [57:02<1:35:13, 22.15s/it]\u001b[A"
          ]
        },
        {
          "metadata": {
            "tags": null
          },
          "name": "stdout",
          "output_type": "stream",
          "text": [
            "Validation set: Loss: 4.46992\n",
            "EarlyStopping counter: 9 out of 10\n",
            "\n",
            "\n",
            "loss: 4.487432  [50182/184023]\n",
            "loss: 4.482185  [101382/184023]\n",
            "loss: 4.439492  [152582/184023]\n"
          ]
        },
        {
          "metadata": {
            "tags": null
          },
          "name": "stderr",
          "output_type": "stream",
          "text": [
            "\r 36%|███▌      | 142/400 [57:25<1:44:20, 24.27s/it]"
          ]
        },
        {
          "metadata": {
            "tags": null
          },
          "name": "stdout",
          "output_type": "stream",
          "text": [
            "Validation set: Loss: 4.47032\n",
            "EarlyStopping counter: 10 out of 10\n",
            "Done!\n"
          ]
        },
        {
          "metadata": {
            "tags": null
          },
          "name": "stderr",
          "output_type": "stream",
          "text": [
            "\n",
            "  5%|▌         | 1/19 [57:33<17:16:09, 3453.85s/it]"
          ]
        },
        {
          "metadata": {
            "tags": null
          },
          "name": "stdout",
          "output_type": "stream",
          "text": [
            "Performing the ZILN pipeline for company 101410010\n"
          ]
        },
        {
          "metadata": {
            "tags": null
          },
          "name": "stderr",
          "output_type": "stream",
          "text": [
            "\n",
            "  0%|          | 0/400 [00:00<?, ?it/s]\u001b[A"
          ]
        },
        {
          "metadata": {
            "tags": null
          },
          "name": "stdout",
          "output_type": "stream",
          "text": [
            "\n",
            "\n",
            "loss: 7.224953  [50182/181036]\n",
            "loss: 5.925475  [101382/181036]\n",
            "loss: 4.780620  [152582/181036]\n"
          ]
        },
        {
          "metadata": {
            "tags": null
          },
          "name": "stderr",
          "output_type": "stream",
          "text": [
            "\n",
            "  0%|          | 1/400 [00:21<2:25:56, 21.95s/it]\u001b[A"
          ]
        },
        {
          "metadata": {
            "tags": null
          },
          "name": "stdout",
          "output_type": "stream",
          "text": [
            "Validation set: Loss: 4.45055\n",
            "Validation loss decreased (inf --> 4.450550).  Saving model ...\n",
            "\n",
            "\n",
            "loss: 4.139554  [50182/181036]\n",
            "loss: 4.077002  [101382/181036]\n",
            "loss: 4.126620  [152582/181036]\n"
          ]
        },
        {
          "metadata": {
            "tags": null
          },
          "name": "stderr",
          "output_type": "stream",
          "text": [
            "\n",
            "  0%|          | 2/400 [00:43<2:25:40, 21.96s/it]\u001b[A"
          ]
        },
        {
          "metadata": {
            "tags": null
          },
          "name": "stdout",
          "output_type": "stream",
          "text": [
            "Validation set: Loss: 4.02687\n",
            "Validation loss decreased (4.450550 --> 4.026865).  Saving model ...\n",
            "\n",
            "\n",
            "loss: 4.022919  [50182/181036]\n",
            "loss: 3.984133  [101382/181036]\n",
            "loss: 4.009234  [152582/181036]\n"
          ]
        },
        {
          "metadata": {
            "tags": null
          },
          "name": "stderr",
          "output_type": "stream",
          "text": [
            "\n",
            "  1%|          | 3/400 [01:05<2:23:20, 21.66s/it]\u001b[A"
          ]
        },
        {
          "metadata": {
            "tags": null
          },
          "name": "stdout",
          "output_type": "stream",
          "text": [
            "Validation set: Loss: 3.97939\n",
            "Validation loss decreased (4.026865 --> 3.979390).  Saving model ...\n",
            "\n",
            "\n",
            "loss: 3.864671  [50182/181036]\n",
            "loss: 3.959903  [101382/181036]\n",
            "loss: 3.890186  [152582/181036]\n"
          ]
        },
        {
          "metadata": {
            "tags": null
          },
          "name": "stderr",
          "output_type": "stream",
          "text": [
            "\n",
            "  1%|          | 4/400 [01:27<2:23:28, 21.74s/it]\u001b[A"
          ]
        },
        {
          "metadata": {
            "tags": null
          },
          "name": "stdout",
          "output_type": "stream",
          "text": [
            "Validation set: Loss: 3.96713\n",
            "Validation loss decreased (3.979390 --> 3.967127).  Saving model ...\n",
            "\n",
            "\n",
            "loss: 4.060110  [50182/181036]\n",
            "loss: 3.958730  [101382/181036]\n",
            "loss: 3.932754  [152582/181036]\n"
          ]
        },
        {
          "metadata": {
            "tags": null
          },
          "name": "stderr",
          "output_type": "stream",
          "text": [
            "\n",
            "  1%|▏         | 5/400 [01:49<2:23:56, 21.86s/it]\u001b[A"
          ]
        },
        {
          "metadata": {
            "tags": null
          },
          "name": "stdout",
          "output_type": "stream",
          "text": [
            "Validation set: Loss: 3.95941\n",
            "Validation loss decreased (3.967127 --> 3.959405).  Saving model ...\n",
            "\n",
            "\n",
            "loss: 4.052925  [50182/181036]\n",
            "loss: 4.027310  [101382/181036]\n",
            "loss: 4.003151  [152582/181036]\n"
          ]
        },
        {
          "metadata": {
            "tags": null
          },
          "name": "stderr",
          "output_type": "stream",
          "text": [
            "\n",
            "  2%|▏         | 6/400 [02:12<2:25:55, 22.22s/it]\u001b[A"
          ]
        },
        {
          "metadata": {
            "tags": null
          },
          "name": "stdout",
          "output_type": "stream",
          "text": [
            "Validation set: Loss: 3.95369\n",
            "Validation loss decreased (3.959405 --> 3.953690).  Saving model ...\n",
            "\n",
            "\n",
            "loss: 3.949828  [50182/181036]\n",
            "loss: 3.912456  [101382/181036]\n",
            "loss: 3.979191  [152582/181036]\n"
          ]
        },
        {
          "metadata": {
            "tags": null
          },
          "name": "stderr",
          "output_type": "stream",
          "text": [
            "\n",
            "  2%|▏         | 7/400 [02:33<2:23:21, 21.89s/it]\u001b[A"
          ]
        },
        {
          "metadata": {
            "tags": null
          },
          "name": "stdout",
          "output_type": "stream",
          "text": [
            "Validation set: Loss: 3.94936\n",
            "Validation loss decreased (3.953690 --> 3.949358).  Saving model ...\n",
            "\n",
            "\n",
            "loss: 4.026134  [50182/181036]\n",
            "loss: 3.983695  [101382/181036]\n",
            "loss: 3.878239  [152582/181036]\n"
          ]
        },
        {
          "metadata": {
            "tags": null
          },
          "name": "stderr",
          "output_type": "stream",
          "text": [
            "\n",
            "  2%|▏         | 8/400 [02:55<2:23:41, 21.99s/it]\u001b[A"
          ]
        },
        {
          "metadata": {
            "tags": null
          },
          "name": "stdout",
          "output_type": "stream",
          "text": [
            "Validation set: Loss: 3.94579\n",
            "Validation loss decreased (3.949358 --> 3.945788).  Saving model ...\n",
            "\n",
            "\n",
            "loss: 3.900630  [50182/181036]\n",
            "loss: 3.910239  [101382/181036]\n",
            "loss: 3.950660  [152582/181036]\n"
          ]
        },
        {
          "metadata": {
            "tags": null
          },
          "name": "stderr",
          "output_type": "stream",
          "text": [
            "\n",
            "  2%|▏         | 9/400 [03:17<2:23:56, 22.09s/it]\u001b[A"
          ]
        },
        {
          "metadata": {
            "tags": null
          },
          "name": "stdout",
          "output_type": "stream",
          "text": [
            "Validation set: Loss: 3.94254\n",
            "Validation loss decreased (3.945788 --> 3.942538).  Saving model ...\n",
            "\n",
            "\n",
            "loss: 3.896662  [50182/181036]\n",
            "loss: 3.945914  [101382/181036]\n",
            "loss: 3.889084  [152582/181036]\n"
          ]
        },
        {
          "metadata": {
            "tags": null
          },
          "name": "stderr",
          "output_type": "stream",
          "text": [
            "\n",
            "  2%|▎         | 10/400 [03:39<2:22:47, 21.97s/it]\u001b[A"
          ]
        },
        {
          "metadata": {
            "tags": null
          },
          "name": "stdout",
          "output_type": "stream",
          "text": [
            "Validation set: Loss: 3.93985\n",
            "Validation loss decreased (3.942538 --> 3.939846).  Saving model ...\n",
            "\n",
            "\n",
            "loss: 3.886971  [50182/181036]\n",
            "loss: 3.848380  [101382/181036]\n",
            "loss: 3.925203  [152582/181036]\n"
          ]
        },
        {
          "metadata": {
            "tags": null
          },
          "name": "stderr",
          "output_type": "stream",
          "text": [
            "\n",
            "  3%|▎         | 11/400 [04:00<2:21:28, 21.82s/it]\u001b[A"
          ]
        },
        {
          "metadata": {
            "tags": null
          },
          "name": "stdout",
          "output_type": "stream",
          "text": [
            "Validation set: Loss: 3.93708\n",
            "Validation loss decreased (3.939846 --> 3.937075).  Saving model ...\n",
            "\n",
            "\n",
            "loss: 3.956738  [50182/181036]\n",
            "loss: 3.931618  [101382/181036]\n",
            "loss: 3.874626  [152582/181036]\n"
          ]
        },
        {
          "metadata": {
            "tags": null
          },
          "name": "stderr",
          "output_type": "stream",
          "text": [
            "\n",
            "  3%|▎         | 12/400 [04:23<2:21:52, 21.94s/it]\u001b[A"
          ]
        },
        {
          "metadata": {
            "tags": null
          },
          "name": "stdout",
          "output_type": "stream",
          "text": [
            "Validation set: Loss: 3.93424\n",
            "Validation loss decreased (3.937075 --> 3.934237).  Saving model ...\n",
            "\n",
            "\n",
            "loss: 3.891056  [50182/181036]\n",
            "loss: 4.005848  [101382/181036]\n",
            "loss: 3.939228  [152582/181036]\n"
          ]
        },
        {
          "metadata": {
            "tags": null
          },
          "name": "stderr",
          "output_type": "stream",
          "text": [
            "\n",
            "  3%|▎         | 13/400 [04:45<2:21:58, 22.01s/it]\u001b[A"
          ]
        },
        {
          "metadata": {
            "tags": null
          },
          "name": "stdout",
          "output_type": "stream",
          "text": [
            "Validation set: Loss: 3.93205\n",
            "Validation loss decreased (3.934237 --> 3.932053).  Saving model ...\n",
            "\n",
            "\n",
            "loss: 3.884412  [50182/181036]\n",
            "loss: 3.868959  [101382/181036]\n",
            "loss: 3.893413  [152582/181036]\n"
          ]
        },
        {
          "metadata": {
            "tags": null
          },
          "name": "stderr",
          "output_type": "stream",
          "text": [
            "\n",
            "  4%|▎         | 14/400 [05:06<2:20:02, 21.77s/it]\u001b[A"
          ]
        },
        {
          "metadata": {
            "tags": null
          },
          "name": "stdout",
          "output_type": "stream",
          "text": [
            "Validation set: Loss: 3.92938\n",
            "Validation loss decreased (3.932053 --> 3.929376).  Saving model ...\n",
            "\n",
            "\n",
            "loss: 3.983418  [50182/181036]\n",
            "loss: 3.854327  [101382/181036]\n",
            "loss: 3.922766  [152582/181036]\n"
          ]
        },
        {
          "metadata": {
            "tags": null
          },
          "name": "stderr",
          "output_type": "stream",
          "text": [
            "\n",
            "  4%|▍         | 15/400 [05:28<2:19:44, 21.78s/it]\u001b[A"
          ]
        },
        {
          "metadata": {
            "tags": null
          },
          "name": "stdout",
          "output_type": "stream",
          "text": [
            "Validation set: Loss: 3.92681\n",
            "Validation loss decreased (3.929376 --> 3.926808).  Saving model ...\n",
            "\n",
            "\n",
            "loss: 3.901183  [50182/181036]\n",
            "loss: 3.952036  [101382/181036]\n",
            "loss: 3.885135  [152582/181036]\n"
          ]
        },
        {
          "metadata": {
            "tags": null
          },
          "name": "stderr",
          "output_type": "stream",
          "text": [
            "\n",
            "  4%|▍         | 16/400 [05:50<2:20:14, 21.91s/it]\u001b[A"
          ]
        },
        {
          "metadata": {
            "tags": null
          },
          "name": "stdout",
          "output_type": "stream",
          "text": [
            "Validation set: Loss: 3.92487\n",
            "Validation loss decreased (3.926808 --> 3.924866).  Saving model ...\n",
            "\n",
            "\n",
            "loss: 3.866310  [50182/181036]\n",
            "loss: 3.923953  [101382/181036]\n",
            "loss: 3.900813  [152582/181036]\n"
          ]
        },
        {
          "metadata": {
            "tags": null
          },
          "name": "stderr",
          "output_type": "stream",
          "text": [
            "\n",
            "  4%|▍         | 17/400 [06:13<2:21:33, 22.18s/it]\u001b[A"
          ]
        },
        {
          "metadata": {
            "tags": null
          },
          "name": "stdout",
          "output_type": "stream",
          "text": [
            "Validation set: Loss: 3.92231\n",
            "Validation loss decreased (3.924866 --> 3.922314).  Saving model ...\n",
            "\n",
            "\n",
            "loss: 3.903453  [50182/181036]\n",
            "loss: 4.008002  [101382/181036]\n",
            "loss: 3.921024  [152582/181036]\n"
          ]
        },
        {
          "metadata": {
            "tags": null
          },
          "name": "stderr",
          "output_type": "stream",
          "text": [
            "\n",
            "  4%|▍         | 18/400 [06:34<2:19:57, 21.98s/it]\u001b[A"
          ]
        },
        {
          "metadata": {
            "tags": null
          },
          "name": "stdout",
          "output_type": "stream",
          "text": [
            "Validation set: Loss: 3.92069\n",
            "Validation loss decreased (3.922314 --> 3.920691).  Saving model ...\n",
            "\n",
            "\n",
            "loss: 3.932640  [50182/181036]\n",
            "loss: 3.897770  [101382/181036]\n",
            "loss: 4.006295  [152582/181036]\n"
          ]
        },
        {
          "metadata": {
            "tags": null
          },
          "name": "stderr",
          "output_type": "stream",
          "text": [
            "\n",
            "  5%|▍         | 19/400 [06:57<2:19:48, 22.02s/it]\u001b[A"
          ]
        },
        {
          "metadata": {
            "tags": null
          },
          "name": "stdout",
          "output_type": "stream",
          "text": [
            "Validation set: Loss: 3.91880\n",
            "Validation loss decreased (3.920691 --> 3.918798).  Saving model ...\n",
            "\n",
            "\n",
            "loss: 3.931165  [50182/181036]\n",
            "loss: 3.794123  [101382/181036]\n",
            "loss: 3.967687  [152582/181036]\n"
          ]
        },
        {
          "metadata": {
            "tags": null
          },
          "name": "stderr",
          "output_type": "stream",
          "text": [
            "\n",
            "  5%|▌         | 20/400 [07:19<2:19:53, 22.09s/it]\u001b[A"
          ]
        },
        {
          "metadata": {
            "tags": null
          },
          "name": "stdout",
          "output_type": "stream",
          "text": [
            "Validation set: Loss: 3.91729\n",
            "Validation loss decreased (3.918798 --> 3.917292).  Saving model ...\n",
            "\n",
            "\n",
            "loss: 3.892652  [50182/181036]\n",
            "loss: 3.983344  [101382/181036]\n",
            "loss: 3.918398  [152582/181036]\n"
          ]
        },
        {
          "metadata": {
            "tags": null
          },
          "name": "stderr",
          "output_type": "stream",
          "text": [
            "\n",
            "  5%|▌         | 21/400 [07:40<2:17:44, 21.81s/it]\u001b[A"
          ]
        },
        {
          "metadata": {
            "tags": null
          },
          "name": "stdout",
          "output_type": "stream",
          "text": [
            "Validation set: Loss: 3.91590\n",
            "Validation loss decreased (3.917292 --> 3.915901).  Saving model ...\n",
            "\n",
            "\n",
            "loss: 4.002257  [50182/181036]\n",
            "loss: 3.902377  [101382/181036]\n",
            "loss: 3.806521  [152582/181036]\n"
          ]
        },
        {
          "metadata": {
            "tags": null
          },
          "name": "stderr",
          "output_type": "stream",
          "text": [
            "\n",
            "  6%|▌         | 22/400 [08:02<2:17:50, 21.88s/it]\u001b[A"
          ]
        },
        {
          "metadata": {
            "tags": null
          },
          "name": "stdout",
          "output_type": "stream",
          "text": [
            "Validation set: Loss: 3.91466\n",
            "Validation loss decreased (3.915901 --> 3.914662).  Saving model ...\n",
            "\n",
            "\n",
            "loss: 3.918930  [50182/181036]\n",
            "loss: 3.940429  [101382/181036]\n",
            "loss: 3.927355  [152582/181036]\n"
          ]
        },
        {
          "metadata": {
            "tags": null
          },
          "name": "stderr",
          "output_type": "stream",
          "text": [
            "\n",
            "  6%|▌         | 23/400 [08:24<2:17:47, 21.93s/it]\u001b[A"
          ]
        },
        {
          "metadata": {
            "tags": null
          },
          "name": "stdout",
          "output_type": "stream",
          "text": [
            "Validation set: Loss: 3.91373\n",
            "Validation loss decreased (3.914662 --> 3.913730).  Saving model ...\n",
            "\n",
            "\n",
            "loss: 3.923076  [50182/181036]\n",
            "loss: 3.915880  [101382/181036]\n",
            "loss: 3.871804  [152582/181036]\n"
          ]
        },
        {
          "metadata": {
            "tags": null
          },
          "name": "stderr",
          "output_type": "stream",
          "text": [
            "\n",
            "  6%|▌         | 24/400 [08:45<2:15:48, 21.67s/it]\u001b[A"
          ]
        },
        {
          "metadata": {
            "tags": null
          },
          "name": "stdout",
          "output_type": "stream",
          "text": [
            "Validation set: Loss: 3.91260\n",
            "Validation loss decreased (3.913730 --> 3.912605).  Saving model ...\n",
            "\n",
            "\n",
            "loss: 3.919287  [50182/181036]\n",
            "loss: 3.892440  [101382/181036]\n",
            "loss: 3.926545  [152582/181036]\n"
          ]
        },
        {
          "metadata": {
            "tags": null
          },
          "name": "stderr",
          "output_type": "stream",
          "text": [
            "\n",
            "  6%|▋         | 25/400 [09:07<2:15:55, 21.75s/it]\u001b[A"
          ]
        },
        {
          "metadata": {
            "tags": null
          },
          "name": "stdout",
          "output_type": "stream",
          "text": [
            "Validation set: Loss: 3.91143\n",
            "Validation loss decreased (3.912605 --> 3.911429).  Saving model ...\n",
            "\n",
            "\n",
            "loss: 3.880472  [50182/181036]\n",
            "loss: 3.938971  [101382/181036]\n",
            "loss: 3.882066  [152582/181036]\n"
          ]
        },
        {
          "metadata": {
            "tags": null
          },
          "name": "stderr",
          "output_type": "stream",
          "text": [
            "\n",
            "  6%|▋         | 26/400 [09:29<2:16:17, 21.87s/it]\u001b[A"
          ]
        },
        {
          "metadata": {
            "tags": null
          },
          "name": "stdout",
          "output_type": "stream",
          "text": [
            "Validation set: Loss: 3.91066\n",
            "Validation loss decreased (3.911429 --> 3.910660).  Saving model ...\n",
            "\n",
            "\n",
            "loss: 3.970327  [50182/181036]\n",
            "loss: 3.893853  [101382/181036]\n",
            "loss: 3.845226  [152582/181036]\n"
          ]
        },
        {
          "metadata": {
            "tags": null
          },
          "name": "stderr",
          "output_type": "stream",
          "text": [
            "\n",
            "  7%|▋         | 27/400 [09:51<2:15:04, 21.73s/it]\u001b[A"
          ]
        },
        {
          "metadata": {
            "tags": null
          },
          "name": "stdout",
          "output_type": "stream",
          "text": [
            "Validation set: Loss: 3.90986\n",
            "Validation loss decreased (3.910660 --> 3.909864).  Saving model ...\n",
            "\n",
            "\n",
            "loss: 3.802106  [50182/181036]\n",
            "loss: 3.914957  [101382/181036]\n",
            "loss: 3.811195  [152582/181036]\n"
          ]
        },
        {
          "metadata": {
            "tags": null
          },
          "name": "stderr",
          "output_type": "stream",
          "text": [
            "\n",
            "  7%|▋         | 28/400 [10:12<2:14:32, 21.70s/it]\u001b[A"
          ]
        },
        {
          "metadata": {
            "tags": null
          },
          "name": "stdout",
          "output_type": "stream",
          "text": [
            "Validation set: Loss: 3.90912\n",
            "Validation loss decreased (3.909864 --> 3.909124).  Saving model ...\n",
            "\n",
            "\n",
            "loss: 3.960471  [50182/181036]\n",
            "loss: 3.857290  [101382/181036]\n",
            "loss: 3.989492  [152582/181036]\n"
          ]
        },
        {
          "metadata": {
            "tags": null
          },
          "name": "stderr",
          "output_type": "stream",
          "text": [
            "\n",
            "  7%|▋         | 29/400 [10:36<2:17:26, 22.23s/it]\u001b[A"
          ]
        },
        {
          "metadata": {
            "tags": null
          },
          "name": "stdout",
          "output_type": "stream",
          "text": [
            "Validation set: Loss: 3.90892\n",
            "Validation loss decreased (3.909124 --> 3.908917).  Saving model ...\n",
            "\n",
            "\n",
            "loss: 3.883452  [50182/181036]\n",
            "loss: 3.914650  [101382/181036]\n",
            "loss: 3.866089  [152582/181036]\n"
          ]
        },
        {
          "metadata": {
            "tags": null
          },
          "name": "stderr",
          "output_type": "stream",
          "text": [
            "\n",
            "  8%|▊         | 30/400 [10:59<2:18:13, 22.42s/it]\u001b[A"
          ]
        },
        {
          "metadata": {
            "tags": null
          },
          "name": "stdout",
          "output_type": "stream",
          "text": [
            "Validation set: Loss: 3.90820\n",
            "Validation loss decreased (3.908917 --> 3.908204).  Saving model ...\n",
            "\n",
            "\n",
            "loss: 3.917534  [50182/181036]\n",
            "loss: 3.811199  [101382/181036]\n",
            "loss: 3.926688  [152582/181036]\n"
          ]
        },
        {
          "metadata": {
            "tags": null
          },
          "name": "stderr",
          "output_type": "stream",
          "text": [
            "\n",
            "  8%|▊         | 31/400 [11:20<2:15:29, 22.03s/it]\u001b[A"
          ]
        },
        {
          "metadata": {
            "tags": null
          },
          "name": "stdout",
          "output_type": "stream",
          "text": [
            "Validation set: Loss: 3.90762\n",
            "Validation loss decreased (3.908204 --> 3.907621).  Saving model ...\n",
            "\n",
            "\n",
            "loss: 3.855519  [50182/181036]\n",
            "loss: 3.862177  [101382/181036]\n",
            "loss: 3.898194  [152582/181036]\n"
          ]
        },
        {
          "metadata": {
            "tags": null
          },
          "name": "stderr",
          "output_type": "stream",
          "text": [
            "\n",
            "  8%|▊         | 32/400 [11:42<2:15:58, 22.17s/it]\u001b[A"
          ]
        },
        {
          "metadata": {
            "tags": null
          },
          "name": "stdout",
          "output_type": "stream",
          "text": [
            "Validation set: Loss: 3.90713\n",
            "Validation loss decreased (3.907621 --> 3.907130).  Saving model ...\n",
            "\n",
            "\n",
            "loss: 3.922468  [50182/181036]\n",
            "loss: 3.873131  [101382/181036]\n",
            "loss: 3.944835  [152582/181036]\n"
          ]
        },
        {
          "metadata": {
            "tags": null
          },
          "name": "stderr",
          "output_type": "stream",
          "text": [
            "\n",
            "  8%|▊         | 33/400 [12:04<2:15:35, 22.17s/it]\u001b[A"
          ]
        },
        {
          "metadata": {
            "tags": null
          },
          "name": "stdout",
          "output_type": "stream",
          "text": [
            "Validation set: Loss: 3.90700\n",
            "Validation loss decreased (3.907130 --> 3.906999).  Saving model ...\n",
            "\n",
            "\n",
            "loss: 3.963144  [50182/181036]\n",
            "loss: 3.886260  [101382/181036]\n",
            "loss: 3.824184  [152582/181036]\n"
          ]
        },
        {
          "metadata": {
            "tags": null
          },
          "name": "stderr",
          "output_type": "stream",
          "text": [
            "\n",
            "  8%|▊         | 34/400 [12:26<2:14:54, 22.12s/it]\u001b[A"
          ]
        },
        {
          "metadata": {
            "tags": null
          },
          "name": "stdout",
          "output_type": "stream",
          "text": [
            "Validation set: Loss: 3.90650\n",
            "Validation loss decreased (3.906999 --> 3.906501).  Saving model ...\n",
            "\n",
            "\n",
            "loss: 3.973021  [50182/181036]\n",
            "loss: 3.982347  [101382/181036]\n",
            "loss: 3.889467  [152582/181036]\n"
          ]
        },
        {
          "metadata": {
            "tags": null
          },
          "name": "stderr",
          "output_type": "stream",
          "text": [
            "\n",
            "  9%|▉         | 35/400 [12:48<2:13:10, 21.89s/it]\u001b[A"
          ]
        },
        {
          "metadata": {
            "tags": null
          },
          "name": "stdout",
          "output_type": "stream",
          "text": [
            "Validation set: Loss: 3.90595\n",
            "Validation loss decreased (3.906501 --> 3.905952).  Saving model ...\n",
            "\n",
            "\n",
            "loss: 3.911357  [50182/181036]\n",
            "loss: 3.797268  [101382/181036]\n",
            "loss: 3.890977  [152582/181036]\n"
          ]
        },
        {
          "metadata": {
            "tags": null
          },
          "name": "stderr",
          "output_type": "stream",
          "text": [
            "\n",
            "  9%|▉         | 36/400 [13:10<2:13:02, 21.93s/it]\u001b[A"
          ]
        },
        {
          "metadata": {
            "tags": null
          },
          "name": "stdout",
          "output_type": "stream",
          "text": [
            "Validation set: Loss: 3.90569\n",
            "Validation loss decreased (3.905952 --> 3.905688).  Saving model ...\n",
            "\n",
            "\n",
            "loss: 3.935796  [50182/181036]\n",
            "loss: 3.870982  [101382/181036]\n",
            "loss: 3.901018  [152582/181036]\n"
          ]
        },
        {
          "metadata": {
            "tags": null
          },
          "name": "stderr",
          "output_type": "stream",
          "text": [
            "\n",
            "  9%|▉         | 37/400 [13:32<2:12:54, 21.97s/it]\u001b[A"
          ]
        },
        {
          "metadata": {
            "tags": null
          },
          "name": "stdout",
          "output_type": "stream",
          "text": [
            "Validation set: Loss: 3.90567\n",
            "Validation loss decreased (3.905688 --> 3.905674).  Saving model ...\n",
            "\n",
            "\n",
            "loss: 3.914973  [50182/181036]\n",
            "loss: 3.890461  [101382/181036]\n",
            "loss: 3.916313  [152582/181036]\n"
          ]
        },
        {
          "metadata": {
            "tags": null
          },
          "name": "stderr",
          "output_type": "stream",
          "text": [
            "\n",
            " 10%|▉         | 38/400 [13:53<2:10:55, 21.70s/it]\u001b[A"
          ]
        },
        {
          "metadata": {
            "tags": null
          },
          "name": "stdout",
          "output_type": "stream",
          "text": [
            "Validation set: Loss: 3.90489\n",
            "Validation loss decreased (3.905674 --> 3.904892).  Saving model ...\n",
            "\n",
            "\n",
            "loss: 3.912292  [50182/181036]\n",
            "loss: 3.939586  [101382/181036]\n",
            "loss: 3.880483  [152582/181036]\n"
          ]
        },
        {
          "metadata": {
            "tags": null
          },
          "name": "stderr",
          "output_type": "stream",
          "text": [
            "\n",
            " 10%|▉         | 39/400 [14:15<2:11:44, 21.90s/it]\u001b[A"
          ]
        },
        {
          "metadata": {
            "tags": null
          },
          "name": "stdout",
          "output_type": "stream",
          "text": [
            "Validation set: Loss: 3.90460\n",
            "Validation loss decreased (3.904892 --> 3.904596).  Saving model ...\n",
            "\n",
            "\n",
            "loss: 3.903215  [50182/181036]\n",
            "loss: 3.952824  [101382/181036]\n",
            "loss: 3.987437  [152582/181036]\n"
          ]
        },
        {
          "metadata": {
            "tags": null
          },
          "name": "stderr",
          "output_type": "stream",
          "text": [
            "\n",
            " 10%|█         | 40/400 [14:39<2:14:10, 22.36s/it]\u001b[A"
          ]
        },
        {
          "metadata": {
            "tags": null
          },
          "name": "stdout",
          "output_type": "stream",
          "text": [
            "Validation set: Loss: 3.90473\n",
            "EarlyStopping counter: 1 out of 10\n",
            "\n",
            "\n",
            "loss: 3.857390  [50182/181036]\n",
            "loss: 3.934052  [101382/181036]\n",
            "loss: 3.960410  [152582/181036]\n"
          ]
        },
        {
          "metadata": {
            "tags": null
          },
          "name": "stderr",
          "output_type": "stream",
          "text": [
            "\n",
            " 10%|█         | 41/400 [15:01<2:13:03, 22.24s/it]\u001b[A"
          ]
        },
        {
          "metadata": {
            "tags": null
          },
          "name": "stdout",
          "output_type": "stream",
          "text": [
            "Validation set: Loss: 3.90419\n",
            "Validation loss decreased (3.904596 --> 3.904187).  Saving model ...\n",
            "\n",
            "\n",
            "loss: 3.827215  [50182/181036]\n",
            "loss: 3.897636  [101382/181036]\n",
            "loss: 3.968697  [152582/181036]\n"
          ]
        },
        {
          "metadata": {
            "tags": null
          },
          "name": "stderr",
          "output_type": "stream",
          "text": [
            "\n",
            " 10%|█         | 42/400 [15:22<2:10:58, 21.95s/it]\u001b[A"
          ]
        },
        {
          "metadata": {
            "tags": null
          },
          "name": "stdout",
          "output_type": "stream",
          "text": [
            "Validation set: Loss: 3.90423\n",
            "EarlyStopping counter: 1 out of 10\n",
            "\n",
            "\n",
            "loss: 3.876841  [50182/181036]\n",
            "loss: 3.958942  [101382/181036]\n",
            "loss: 3.817267  [152582/181036]\n"
          ]
        },
        {
          "metadata": {
            "tags": null
          },
          "name": "stderr",
          "output_type": "stream",
          "text": [
            "\n",
            " 11%|█         | 43/400 [15:44<2:10:41, 21.96s/it]\u001b[A"
          ]
        },
        {
          "metadata": {
            "tags": null
          },
          "name": "stdout",
          "output_type": "stream",
          "text": [
            "Validation set: Loss: 3.90370\n",
            "Validation loss decreased (3.904187 --> 3.903698).  Saving model ...\n",
            "\n",
            "\n",
            "loss: 3.937358  [50182/181036]\n",
            "loss: 3.835456  [101382/181036]\n",
            "loss: 3.885683  [152582/181036]\n"
          ]
        },
        {
          "metadata": {
            "tags": null
          },
          "name": "stderr",
          "output_type": "stream",
          "text": [
            "\n",
            " 11%|█         | 44/400 [16:07<2:11:50, 22.22s/it]\u001b[A"
          ]
        },
        {
          "metadata": {
            "tags": null
          },
          "name": "stdout",
          "output_type": "stream",
          "text": [
            "Validation set: Loss: 3.90360\n",
            "Validation loss decreased (3.903698 --> 3.903596).  Saving model ...\n",
            "\n",
            "\n",
            "loss: 4.030804  [50182/181036]\n",
            "loss: 3.900675  [101382/181036]\n",
            "loss: 3.838999  [152582/181036]\n"
          ]
        },
        {
          "metadata": {
            "tags": null
          },
          "name": "stderr",
          "output_type": "stream",
          "text": [
            "\n",
            " 11%|█▏        | 45/400 [16:28<2:10:10, 22.00s/it]\u001b[A"
          ]
        },
        {
          "metadata": {
            "tags": null
          },
          "name": "stdout",
          "output_type": "stream",
          "text": [
            "Validation set: Loss: 3.90323\n",
            "Validation loss decreased (3.903596 --> 3.903234).  Saving model ...\n",
            "\n",
            "\n",
            "loss: 3.857836  [50182/181036]\n",
            "loss: 3.934183  [101382/181036]\n",
            "loss: 3.856913  [152582/181036]\n"
          ]
        },
        {
          "metadata": {
            "tags": null
          },
          "name": "stderr",
          "output_type": "stream",
          "text": [
            "\n",
            " 12%|█▏        | 46/400 [16:49<2:08:26, 21.77s/it]\u001b[A"
          ]
        },
        {
          "metadata": {
            "tags": null
          },
          "name": "stdout",
          "output_type": "stream",
          "text": [
            "Validation set: Loss: 3.90299\n",
            "Validation loss decreased (3.903234 --> 3.902992).  Saving model ...\n",
            "\n",
            "\n",
            "loss: 3.895538  [50182/181036]\n",
            "loss: 3.867243  [101382/181036]\n",
            "loss: 3.848948  [152582/181036]\n"
          ]
        },
        {
          "metadata": {
            "tags": null
          },
          "name": "stderr",
          "output_type": "stream",
          "text": [
            "\n",
            " 12%|█▏        | 47/400 [17:12<2:08:58, 21.92s/it]\u001b[A"
          ]
        },
        {
          "metadata": {
            "tags": null
          },
          "name": "stdout",
          "output_type": "stream",
          "text": [
            "Validation set: Loss: 3.90306\n",
            "EarlyStopping counter: 1 out of 10\n",
            "\n",
            "\n",
            "loss: 3.901221  [50182/181036]\n",
            "loss: 3.909307  [101382/181036]\n",
            "loss: 3.795058  [152582/181036]\n"
          ]
        },
        {
          "metadata": {
            "tags": null
          },
          "name": "stderr",
          "output_type": "stream",
          "text": [
            "\n",
            " 12%|█▏        | 48/400 [17:34<2:09:04, 22.00s/it]\u001b[A"
          ]
        },
        {
          "metadata": {
            "tags": null
          },
          "name": "stdout",
          "output_type": "stream",
          "text": [
            "Validation set: Loss: 3.90258\n",
            "Validation loss decreased (3.902992 --> 3.902577).  Saving model ...\n",
            "\n",
            "\n",
            "loss: 3.879602  [50182/181036]\n",
            "loss: 3.887412  [101382/181036]\n",
            "loss: 3.919966  [152582/181036]\n"
          ]
        },
        {
          "metadata": {
            "tags": null
          },
          "name": "stderr",
          "output_type": "stream",
          "text": [
            "\n",
            " 12%|█▏        | 49/400 [17:55<2:07:37, 21.82s/it]\u001b[A"
          ]
        },
        {
          "metadata": {
            "tags": null
          },
          "name": "stdout",
          "output_type": "stream",
          "text": [
            "Validation set: Loss: 3.90270\n",
            "EarlyStopping counter: 1 out of 10\n",
            "\n",
            "\n",
            "loss: 3.831390  [50182/181036]\n",
            "loss: 3.823262  [101382/181036]\n",
            "loss: 3.865450  [152582/181036]\n"
          ]
        },
        {
          "metadata": {
            "tags": null
          },
          "name": "stderr",
          "output_type": "stream",
          "text": [
            "\n",
            " 12%|█▎        | 50/400 [18:18<2:08:30, 22.03s/it]\u001b[A"
          ]
        },
        {
          "metadata": {
            "tags": null
          },
          "name": "stdout",
          "output_type": "stream",
          "text": [
            "Validation set: Loss: 3.90241\n",
            "Validation loss decreased (3.902577 --> 3.902414).  Saving model ...\n",
            "\n",
            "\n",
            "loss: 3.944440  [50182/181036]\n",
            "loss: 3.995061  [101382/181036]\n",
            "loss: 3.854033  [152582/181036]\n"
          ]
        },
        {
          "metadata": {
            "tags": null
          },
          "name": "stderr",
          "output_type": "stream",
          "text": [
            "\n",
            " 13%|█▎        | 51/400 [18:41<2:09:42, 22.30s/it]\u001b[A"
          ]
        },
        {
          "metadata": {
            "tags": null
          },
          "name": "stdout",
          "output_type": "stream",
          "text": [
            "Validation set: Loss: 3.90223\n",
            "Validation loss decreased (3.902414 --> 3.902227).  Saving model ...\n",
            "\n",
            "\n",
            "loss: 3.864392  [50182/181036]\n",
            "loss: 3.957178  [101382/181036]\n",
            "loss: 3.835385  [152582/181036]\n"
          ]
        },
        {
          "metadata": {
            "tags": null
          },
          "name": "stderr",
          "output_type": "stream",
          "text": [
            "\n",
            " 13%|█▎        | 52/400 [19:02<2:07:58, 22.06s/it]\u001b[A"
          ]
        },
        {
          "metadata": {
            "tags": null
          },
          "name": "stdout",
          "output_type": "stream",
          "text": [
            "Validation set: Loss: 3.90308\n",
            "EarlyStopping counter: 1 out of 10\n",
            "\n",
            "\n",
            "loss: 3.916404  [50182/181036]\n",
            "loss: 3.866729  [101382/181036]\n",
            "loss: 3.939925  [152582/181036]\n"
          ]
        },
        {
          "metadata": {
            "tags": null
          },
          "name": "stderr",
          "output_type": "stream",
          "text": [
            "\n",
            " 13%|█▎        | 53/400 [19:24<2:06:40, 21.90s/it]\u001b[A"
          ]
        },
        {
          "metadata": {
            "tags": null
          },
          "name": "stdout",
          "output_type": "stream",
          "text": [
            "Validation set: Loss: 3.90169\n",
            "Validation loss decreased (3.902227 --> 3.901686).  Saving model ...\n",
            "\n",
            "\n",
            "loss: 3.914936  [50182/181036]\n",
            "loss: 3.921422  [101382/181036]\n",
            "loss: 3.898170  [152582/181036]\n"
          ]
        },
        {
          "metadata": {
            "tags": null
          },
          "name": "stderr",
          "output_type": "stream",
          "text": [
            "\n",
            " 14%|█▎        | 54/400 [19:46<2:06:53, 22.00s/it]\u001b[A"
          ]
        },
        {
          "metadata": {
            "tags": null
          },
          "name": "stdout",
          "output_type": "stream",
          "text": [
            "Validation set: Loss: 3.90159\n",
            "Validation loss decreased (3.901686 --> 3.901595).  Saving model ...\n",
            "\n",
            "\n",
            "loss: 3.877378  [50182/181036]\n",
            "loss: 3.909017  [101382/181036]\n",
            "loss: 3.856502  [152582/181036]\n"
          ]
        },
        {
          "metadata": {
            "tags": null
          },
          "name": "stderr",
          "output_type": "stream",
          "text": [
            "\n",
            " 14%|█▍        | 55/400 [20:08<2:06:31, 22.01s/it]\u001b[A"
          ]
        },
        {
          "metadata": {
            "tags": null
          },
          "name": "stdout",
          "output_type": "stream",
          "text": [
            "Validation set: Loss: 3.90180\n",
            "EarlyStopping counter: 1 out of 10\n",
            "\n",
            "\n",
            "loss: 3.926240  [50182/181036]\n",
            "loss: 3.921133  [101382/181036]\n",
            "loss: 3.879256  [152582/181036]\n"
          ]
        },
        {
          "metadata": {
            "tags": null
          },
          "name": "stderr",
          "output_type": "stream",
          "text": [
            "\n",
            " 14%|█▍        | 56/400 [20:29<2:04:09, 21.66s/it]\u001b[A"
          ]
        },
        {
          "metadata": {
            "tags": null
          },
          "name": "stdout",
          "output_type": "stream",
          "text": [
            "Validation set: Loss: 3.90145\n",
            "Validation loss decreased (3.901595 --> 3.901453).  Saving model ...\n",
            "\n",
            "\n",
            "loss: 3.873678  [50182/181036]\n",
            "loss: 3.907059  [101382/181036]\n",
            "loss: 3.910608  [152582/181036]\n"
          ]
        },
        {
          "metadata": {
            "tags": null
          },
          "name": "stderr",
          "output_type": "stream",
          "text": [
            "\n",
            " 14%|█▍        | 57/400 [20:51<2:04:24, 21.76s/it]\u001b[A"
          ]
        },
        {
          "metadata": {
            "tags": null
          },
          "name": "stdout",
          "output_type": "stream",
          "text": [
            "Validation set: Loss: 3.90124\n",
            "Validation loss decreased (3.901453 --> 3.901239).  Saving model ...\n",
            "\n",
            "\n",
            "loss: 3.936260  [50182/181036]\n",
            "loss: 3.879332  [101382/181036]\n",
            "loss: 3.817528  [152582/181036]\n"
          ]
        },
        {
          "metadata": {
            "tags": null
          },
          "name": "stderr",
          "output_type": "stream",
          "text": [
            "\n",
            " 14%|█▍        | 58/400 [21:13<2:04:58, 21.93s/it]\u001b[A"
          ]
        },
        {
          "metadata": {
            "tags": null
          },
          "name": "stdout",
          "output_type": "stream",
          "text": [
            "Validation set: Loss: 3.90127\n",
            "EarlyStopping counter: 1 out of 10\n",
            "\n",
            "\n",
            "loss: 3.895573  [50182/181036]\n",
            "loss: 3.873490  [101382/181036]\n",
            "loss: 3.889592  [152582/181036]\n"
          ]
        },
        {
          "metadata": {
            "tags": null
          },
          "name": "stderr",
          "output_type": "stream",
          "text": [
            "\n",
            " 15%|█▍        | 59/400 [21:35<2:05:12, 22.03s/it]\u001b[A"
          ]
        },
        {
          "metadata": {
            "tags": null
          },
          "name": "stdout",
          "output_type": "stream",
          "text": [
            "Validation set: Loss: 3.90100\n",
            "Validation loss decreased (3.901239 --> 3.901000).  Saving model ...\n",
            "\n",
            "\n",
            "loss: 3.808145  [50182/181036]\n",
            "loss: 3.875754  [101382/181036]\n",
            "loss: 3.900974  [152582/181036]\n"
          ]
        },
        {
          "metadata": {
            "tags": null
          },
          "name": "stderr",
          "output_type": "stream",
          "text": [
            "\n",
            " 15%|█▌        | 60/400 [21:57<2:04:52, 22.04s/it]\u001b[A"
          ]
        },
        {
          "metadata": {
            "tags": null
          },
          "name": "stdout",
          "output_type": "stream",
          "text": [
            "Validation set: Loss: 3.90089\n",
            "Validation loss decreased (3.901000 --> 3.900886).  Saving model ...\n",
            "\n",
            "\n",
            "loss: 3.984931  [50182/181036]\n",
            "loss: 3.911825  [101382/181036]\n",
            "loss: 3.826923  [152582/181036]\n"
          ]
        },
        {
          "metadata": {
            "tags": null
          },
          "name": "stderr",
          "output_type": "stream",
          "text": [
            "\n",
            " 15%|█▌        | 61/400 [22:20<2:05:45, 22.26s/it]\u001b[A"
          ]
        },
        {
          "metadata": {
            "tags": null
          },
          "name": "stdout",
          "output_type": "stream",
          "text": [
            "Validation set: Loss: 3.90077\n",
            "Validation loss decreased (3.900886 --> 3.900770).  Saving model ...\n",
            "\n",
            "\n",
            "loss: 3.969628  [50182/181036]\n",
            "loss: 3.786117  [101382/181036]\n",
            "loss: 3.921881  [152582/181036]\n"
          ]
        },
        {
          "metadata": {
            "tags": null
          },
          "name": "stderr",
          "output_type": "stream",
          "text": [
            "\n",
            " 16%|█▌        | 62/400 [22:43<2:06:48, 22.51s/it]\u001b[A"
          ]
        },
        {
          "metadata": {
            "tags": null
          },
          "name": "stdout",
          "output_type": "stream",
          "text": [
            "Validation set: Loss: 3.90064\n",
            "Validation loss decreased (3.900770 --> 3.900642).  Saving model ...\n",
            "\n",
            "\n",
            "loss: 3.883970  [50182/181036]\n",
            "loss: 3.811312  [101382/181036]\n",
            "loss: 3.885241  [152582/181036]\n"
          ]
        },
        {
          "metadata": {
            "tags": null
          },
          "name": "stderr",
          "output_type": "stream",
          "text": [
            "\n",
            " 16%|█▌        | 63/400 [23:05<2:04:35, 22.18s/it]\u001b[A"
          ]
        },
        {
          "metadata": {
            "tags": null
          },
          "name": "stdout",
          "output_type": "stream",
          "text": [
            "Validation set: Loss: 3.90102\n",
            "EarlyStopping counter: 1 out of 10\n",
            "\n",
            "\n",
            "loss: 3.911385  [50182/181036]\n",
            "loss: 3.921582  [101382/181036]\n",
            "loss: 3.877345  [152582/181036]\n"
          ]
        },
        {
          "metadata": {
            "tags": null
          },
          "name": "stderr",
          "output_type": "stream",
          "text": [
            "\n",
            " 16%|█▌        | 64/400 [23:27<2:04:11, 22.18s/it]\u001b[A"
          ]
        },
        {
          "metadata": {
            "tags": null
          },
          "name": "stdout",
          "output_type": "stream",
          "text": [
            "Validation set: Loss: 3.90060\n",
            "Validation loss decreased (3.900642 --> 3.900605).  Saving model ...\n",
            "\n",
            "\n",
            "loss: 3.897928  [50182/181036]\n",
            "loss: 3.980871  [101382/181036]\n",
            "loss: 3.913668  [152582/181036]\n"
          ]
        },
        {
          "metadata": {
            "tags": null
          },
          "name": "stderr",
          "output_type": "stream",
          "text": [
            "\n",
            " 16%|█▋        | 65/400 [23:50<2:04:36, 22.32s/it]\u001b[A"
          ]
        },
        {
          "metadata": {
            "tags": null
          },
          "name": "stdout",
          "output_type": "stream",
          "text": [
            "Validation set: Loss: 3.90027\n",
            "Validation loss decreased (3.900605 --> 3.900265).  Saving model ...\n",
            "\n",
            "\n",
            "loss: 3.869551  [50182/181036]\n",
            "loss: 3.827080  [101382/181036]\n",
            "loss: 3.837077  [152582/181036]\n"
          ]
        },
        {
          "metadata": {
            "tags": null
          },
          "name": "stderr",
          "output_type": "stream",
          "text": [
            "\n",
            " 16%|█▋        | 66/400 [24:11<2:02:12, 21.95s/it]\u001b[A"
          ]
        },
        {
          "metadata": {
            "tags": null
          },
          "name": "stdout",
          "output_type": "stream",
          "text": [
            "Validation set: Loss: 3.90042\n",
            "EarlyStopping counter: 1 out of 10\n",
            "\n",
            "\n",
            "loss: 3.928546  [50182/181036]\n",
            "loss: 3.838187  [101382/181036]\n",
            "loss: 3.884998  [152582/181036]\n"
          ]
        },
        {
          "metadata": {
            "tags": null
          },
          "name": "stderr",
          "output_type": "stream",
          "text": [
            "\n",
            " 17%|█▋        | 67/400 [24:33<2:02:52, 22.14s/it]\u001b[A"
          ]
        },
        {
          "metadata": {
            "tags": null
          },
          "name": "stdout",
          "output_type": "stream",
          "text": [
            "Validation set: Loss: 3.90087\n",
            "EarlyStopping counter: 2 out of 10\n",
            "\n",
            "\n",
            "loss: 3.764364  [50182/181036]\n",
            "loss: 3.988760  [101382/181036]\n",
            "loss: 3.898546  [152582/181036]\n"
          ]
        },
        {
          "metadata": {
            "tags": null
          },
          "name": "stderr",
          "output_type": "stream",
          "text": [
            "\n",
            " 17%|█▋        | 68/400 [24:55<2:02:33, 22.15s/it]\u001b[A"
          ]
        },
        {
          "metadata": {
            "tags": null
          },
          "name": "stdout",
          "output_type": "stream",
          "text": [
            "Validation set: Loss: 3.90050\n",
            "EarlyStopping counter: 3 out of 10\n",
            "\n",
            "\n",
            "loss: 3.860358  [50182/181036]\n",
            "loss: 3.823173  [101382/181036]\n",
            "loss: 3.839723  [152582/181036]\n"
          ]
        },
        {
          "metadata": {
            "tags": null
          },
          "name": "stderr",
          "output_type": "stream",
          "text": [
            "\n",
            " 17%|█▋        | 69/400 [25:17<2:01:57, 22.11s/it]\u001b[A"
          ]
        },
        {
          "metadata": {
            "tags": null
          },
          "name": "stdout",
          "output_type": "stream",
          "text": [
            "Validation set: Loss: 3.90040\n",
            "EarlyStopping counter: 4 out of 10\n",
            "\n",
            "\n",
            "loss: 3.794350  [50182/181036]\n",
            "loss: 3.934134  [101382/181036]\n",
            "loss: 3.898985  [152582/181036]\n"
          ]
        },
        {
          "metadata": {
            "tags": null
          },
          "name": "stderr",
          "output_type": "stream",
          "text": [
            "\n",
            " 18%|█▊        | 70/400 [25:39<2:00:49, 21.97s/it]\u001b[A"
          ]
        },
        {
          "metadata": {
            "tags": null
          },
          "name": "stdout",
          "output_type": "stream",
          "text": [
            "Validation set: Loss: 3.90057\n",
            "EarlyStopping counter: 5 out of 10\n",
            "\n",
            "\n",
            "loss: 3.924935  [50182/181036]\n",
            "loss: 3.922240  [101382/181036]\n",
            "loss: 3.892758  [152582/181036]\n"
          ]
        },
        {
          "metadata": {
            "tags": null
          },
          "name": "stderr",
          "output_type": "stream",
          "text": [
            "\n",
            " 18%|█▊        | 71/400 [26:01<2:00:40, 22.01s/it]\u001b[A"
          ]
        },
        {
          "metadata": {
            "tags": null
          },
          "name": "stdout",
          "output_type": "stream",
          "text": [
            "Validation set: Loss: 3.90006\n",
            "Validation loss decreased (3.900265 --> 3.900061).  Saving model ...\n",
            "\n",
            "\n",
            "loss: 3.920877  [50182/181036]\n",
            "loss: 3.932462  [101382/181036]\n",
            "loss: 3.847032  [152582/181036]\n"
          ]
        },
        {
          "metadata": {
            "tags": null
          },
          "name": "stderr",
          "output_type": "stream",
          "text": [
            "\n",
            " 18%|█▊        | 72/400 [26:24<2:01:11, 22.17s/it]\u001b[A"
          ]
        },
        {
          "metadata": {
            "tags": null
          },
          "name": "stdout",
          "output_type": "stream",
          "text": [
            "Validation set: Loss: 3.90017\n",
            "EarlyStopping counter: 1 out of 10\n",
            "\n",
            "\n",
            "loss: 3.837710  [50182/181036]\n",
            "loss: 3.922572  [101382/181036]\n",
            "loss: 3.861498  [152582/181036]\n"
          ]
        },
        {
          "metadata": {
            "tags": null
          },
          "name": "stderr",
          "output_type": "stream",
          "text": [
            "\n",
            " 18%|█▊        | 73/400 [26:46<2:00:33, 22.12s/it]\u001b[A"
          ]
        },
        {
          "metadata": {
            "tags": null
          },
          "name": "stdout",
          "output_type": "stream",
          "text": [
            "Validation set: Loss: 3.89987\n",
            "Validation loss decreased (3.900061 --> 3.899871).  Saving model ...\n",
            "\n",
            "\n",
            "loss: 3.879280  [50182/181036]\n",
            "loss: 3.797172  [101382/181036]\n",
            "loss: 3.977953  [152582/181036]\n"
          ]
        },
        {
          "metadata": {
            "tags": null
          },
          "name": "stderr",
          "output_type": "stream",
          "text": [
            "\n",
            " 18%|█▊        | 74/400 [27:09<2:01:58, 22.45s/it]\u001b[A"
          ]
        },
        {
          "metadata": {
            "tags": null
          },
          "name": "stdout",
          "output_type": "stream",
          "text": [
            "Validation set: Loss: 3.90008\n",
            "EarlyStopping counter: 1 out of 10\n",
            "\n",
            "\n",
            "loss: 3.859748  [50182/181036]\n",
            "loss: 3.951375  [101382/181036]\n",
            "loss: 3.874859  [152582/181036]\n"
          ]
        },
        {
          "metadata": {
            "tags": null
          },
          "name": "stderr",
          "output_type": "stream",
          "text": [
            "\n",
            " 19%|█▉        | 75/400 [27:31<2:00:49, 22.31s/it]\u001b[A"
          ]
        },
        {
          "metadata": {
            "tags": null
          },
          "name": "stdout",
          "output_type": "stream",
          "text": [
            "Validation set: Loss: 3.89979\n",
            "Validation loss decreased (3.899871 --> 3.899787).  Saving model ...\n",
            "\n",
            "\n",
            "loss: 3.816931  [50182/181036]\n",
            "loss: 3.911066  [101382/181036]\n",
            "loss: 3.906528  [152582/181036]\n"
          ]
        },
        {
          "metadata": {
            "tags": null
          },
          "name": "stderr",
          "output_type": "stream",
          "text": [
            "\n",
            " 19%|█▉        | 76/400 [27:53<2:00:46, 22.37s/it]\u001b[A"
          ]
        },
        {
          "metadata": {
            "tags": null
          },
          "name": "stdout",
          "output_type": "stream",
          "text": [
            "Validation set: Loss: 3.89976\n",
            "Validation loss decreased (3.899787 --> 3.899764).  Saving model ...\n",
            "\n",
            "\n",
            "loss: 3.828327  [50182/181036]\n",
            "loss: 3.935234  [101382/181036]\n",
            "loss: 3.912119  [152582/181036]\n"
          ]
        },
        {
          "metadata": {
            "tags": null
          },
          "name": "stderr",
          "output_type": "stream",
          "text": [
            "\n",
            " 19%|█▉        | 77/400 [28:15<1:59:30, 22.20s/it]\u001b[A"
          ]
        },
        {
          "metadata": {
            "tags": null
          },
          "name": "stdout",
          "output_type": "stream",
          "text": [
            "Validation set: Loss: 3.90003\n",
            "EarlyStopping counter: 1 out of 10\n",
            "\n",
            "\n",
            "loss: 3.814458  [50182/181036]\n",
            "loss: 3.897020  [101382/181036]\n",
            "loss: 3.870571  [152582/181036]\n"
          ]
        },
        {
          "metadata": {
            "tags": null
          },
          "name": "stderr",
          "output_type": "stream",
          "text": [
            "\n",
            " 20%|█▉        | 78/400 [28:37<1:58:49, 22.14s/it]\u001b[A"
          ]
        },
        {
          "metadata": {
            "tags": null
          },
          "name": "stdout",
          "output_type": "stream",
          "text": [
            "Validation set: Loss: 3.89982\n",
            "EarlyStopping counter: 2 out of 10\n",
            "\n",
            "\n",
            "loss: 3.853204  [50182/181036]\n",
            "loss: 3.808033  [101382/181036]\n",
            "loss: 3.910202  [152582/181036]\n"
          ]
        },
        {
          "metadata": {
            "tags": null
          },
          "name": "stderr",
          "output_type": "stream",
          "text": [
            "\n",
            " 20%|█▉        | 79/400 [29:00<1:59:36, 22.36s/it]\u001b[A"
          ]
        },
        {
          "metadata": {
            "tags": null
          },
          "name": "stdout",
          "output_type": "stream",
          "text": [
            "Validation set: Loss: 3.89969\n",
            "Validation loss decreased (3.899764 --> 3.899695).  Saving model ...\n",
            "\n",
            "\n",
            "loss: 3.941630  [50182/181036]\n",
            "loss: 3.820503  [101382/181036]\n",
            "loss: 3.705004  [152582/181036]\n"
          ]
        },
        {
          "metadata": {
            "tags": null
          },
          "name": "stderr",
          "output_type": "stream",
          "text": [
            "\n",
            " 20%|██        | 80/400 [29:22<1:59:04, 22.33s/it]\u001b[A"
          ]
        },
        {
          "metadata": {
            "tags": null
          },
          "name": "stdout",
          "output_type": "stream",
          "text": [
            "Validation set: Loss: 3.89927\n",
            "Validation loss decreased (3.899695 --> 3.899275).  Saving model ...\n",
            "\n",
            "\n",
            "loss: 3.921409  [50182/181036]\n",
            "loss: 3.806089  [101382/181036]\n",
            "loss: 3.868715  [152582/181036]\n"
          ]
        },
        {
          "metadata": {
            "tags": null
          },
          "name": "stderr",
          "output_type": "stream",
          "text": [
            "\n",
            " 20%|██        | 81/400 [29:44<1:57:48, 22.16s/it]\u001b[A"
          ]
        },
        {
          "metadata": {
            "tags": null
          },
          "name": "stdout",
          "output_type": "stream",
          "text": [
            "Validation set: Loss: 3.89949\n",
            "EarlyStopping counter: 1 out of 10\n",
            "\n",
            "\n",
            "loss: 3.850415  [50182/181036]\n",
            "loss: 3.909356  [101382/181036]\n",
            "loss: 3.874944  [152582/181036]\n"
          ]
        },
        {
          "metadata": {
            "tags": null
          },
          "name": "stderr",
          "output_type": "stream",
          "text": [
            "\n",
            " 20%|██        | 82/400 [30:06<1:57:47, 22.22s/it]\u001b[A"
          ]
        },
        {
          "metadata": {
            "tags": null
          },
          "name": "stdout",
          "output_type": "stream",
          "text": [
            "Validation set: Loss: 3.89933\n",
            "EarlyStopping counter: 2 out of 10\n",
            "\n",
            "\n",
            "loss: 3.938550  [50182/181036]\n",
            "loss: 3.872324  [101382/181036]\n",
            "loss: 4.003320  [152582/181036]\n"
          ]
        },
        {
          "metadata": {
            "tags": null
          },
          "name": "stderr",
          "output_type": "stream",
          "text": [
            "\n",
            " 21%|██        | 83/400 [30:29<1:57:49, 22.30s/it]\u001b[A"
          ]
        },
        {
          "metadata": {
            "tags": null
          },
          "name": "stdout",
          "output_type": "stream",
          "text": [
            "Validation set: Loss: 3.89994\n",
            "EarlyStopping counter: 3 out of 10\n",
            "\n",
            "\n",
            "loss: 3.881706  [50182/181036]\n",
            "loss: 3.860487  [101382/181036]\n",
            "loss: 3.894942  [152582/181036]\n"
          ]
        },
        {
          "metadata": {
            "tags": null
          },
          "name": "stderr",
          "output_type": "stream",
          "text": [
            "\n",
            " 21%|██        | 84/400 [30:52<1:58:28, 22.50s/it]\u001b[A"
          ]
        },
        {
          "metadata": {
            "tags": null
          },
          "name": "stdout",
          "output_type": "stream",
          "text": [
            "Validation set: Loss: 3.89921\n",
            "Validation loss decreased (3.899275 --> 3.899207).  Saving model ...\n",
            "\n",
            "\n",
            "loss: 3.913070  [50182/181036]\n",
            "loss: 3.938306  [101382/181036]\n",
            "loss: 3.938024  [152582/181036]\n"
          ]
        },
        {
          "metadata": {
            "tags": null
          },
          "name": "stderr",
          "output_type": "stream",
          "text": [
            "\n",
            " 21%|██▏       | 85/400 [31:15<1:59:26, 22.75s/it]\u001b[A"
          ]
        },
        {
          "metadata": {
            "tags": null
          },
          "name": "stdout",
          "output_type": "stream",
          "text": [
            "Validation set: Loss: 3.89948\n",
            "EarlyStopping counter: 1 out of 10\n",
            "\n",
            "\n",
            "loss: 3.832847  [50182/181036]\n",
            "loss: 3.881491  [101382/181036]\n",
            "loss: 3.874110  [152582/181036]\n"
          ]
        },
        {
          "metadata": {
            "tags": null
          },
          "name": "stderr",
          "output_type": "stream",
          "text": [
            "\n",
            " 22%|██▏       | 86/400 [31:41<2:04:10, 23.73s/it]\u001b[A"
          ]
        },
        {
          "metadata": {
            "tags": null
          },
          "name": "stdout",
          "output_type": "stream",
          "text": [
            "Validation set: Loss: 3.89997\n",
            "EarlyStopping counter: 2 out of 10\n",
            "\n",
            "\n",
            "loss: 3.819120  [50182/181036]\n",
            "loss: 3.882654  [101382/181036]\n",
            "loss: 3.876575  [152582/181036]\n"
          ]
        },
        {
          "metadata": {
            "tags": null
          },
          "name": "stderr",
          "output_type": "stream",
          "text": [
            "\n",
            " 22%|██▏       | 87/400 [32:06<2:05:52, 24.13s/it]\u001b[A"
          ]
        },
        {
          "metadata": {
            "tags": null
          },
          "name": "stdout",
          "output_type": "stream",
          "text": [
            "Validation set: Loss: 3.89931\n",
            "EarlyStopping counter: 3 out of 10\n",
            "\n",
            "\n",
            "loss: 3.853466  [50182/181036]\n",
            "loss: 3.984324  [101382/181036]\n",
            "loss: 3.854415  [152582/181036]\n"
          ]
        },
        {
          "metadata": {
            "tags": null
          },
          "name": "stderr",
          "output_type": "stream",
          "text": [
            "\n",
            " 22%|██▏       | 88/400 [32:32<2:07:22, 24.50s/it]\u001b[A"
          ]
        },
        {
          "metadata": {
            "tags": null
          },
          "name": "stdout",
          "output_type": "stream",
          "text": [
            "Validation set: Loss: 3.89941\n",
            "EarlyStopping counter: 4 out of 10\n",
            "\n",
            "\n",
            "loss: 3.947882  [50182/181036]\n",
            "loss: 3.890606  [101382/181036]\n",
            "loss: 3.932727  [152582/181036]\n"
          ]
        },
        {
          "metadata": {
            "tags": null
          },
          "name": "stderr",
          "output_type": "stream",
          "text": [
            "\n",
            " 22%|██▏       | 89/400 [32:56<2:07:04, 24.51s/it]\u001b[A"
          ]
        },
        {
          "metadata": {
            "tags": null
          },
          "name": "stdout",
          "output_type": "stream",
          "text": [
            "Validation set: Loss: 3.89977\n",
            "EarlyStopping counter: 5 out of 10\n",
            "\n",
            "\n",
            "loss: 3.895601  [50182/181036]\n",
            "loss: 3.821902  [101382/181036]\n",
            "loss: 3.888252  [152582/181036]\n"
          ]
        },
        {
          "metadata": {
            "tags": null
          },
          "name": "stderr",
          "output_type": "stream",
          "text": [
            "\n",
            " 22%|██▎       | 90/400 [33:22<2:08:11, 24.81s/it]\u001b[A"
          ]
        },
        {
          "metadata": {
            "tags": null
          },
          "name": "stdout",
          "output_type": "stream",
          "text": [
            "Validation set: Loss: 3.89943\n",
            "EarlyStopping counter: 6 out of 10\n",
            "\n",
            "\n",
            "loss: 3.738135  [50182/181036]\n",
            "loss: 3.876936  [101382/181036]\n",
            "loss: 3.903477  [152582/181036]\n"
          ]
        },
        {
          "metadata": {
            "tags": null
          },
          "name": "stderr",
          "output_type": "stream",
          "text": [
            "\n",
            " 23%|██▎       | 91/400 [33:48<2:09:15, 25.10s/it]\u001b[A"
          ]
        },
        {
          "metadata": {
            "tags": null
          },
          "name": "stdout",
          "output_type": "stream",
          "text": [
            "Validation set: Loss: 3.89915\n",
            "Validation loss decreased (3.899207 --> 3.899151).  Saving model ...\n",
            "\n",
            "\n",
            "loss: 3.865928  [50182/181036]\n",
            "loss: 3.969681  [101382/181036]\n",
            "loss: 3.941404  [152582/181036]\n"
          ]
        },
        {
          "metadata": {
            "tags": null
          },
          "name": "stderr",
          "output_type": "stream",
          "text": [
            "\n",
            " 23%|██▎       | 92/400 [34:14<2:11:24, 25.60s/it]\u001b[A"
          ]
        },
        {
          "metadata": {
            "tags": null
          },
          "name": "stdout",
          "output_type": "stream",
          "text": [
            "Validation set: Loss: 3.89892\n",
            "Validation loss decreased (3.899151 --> 3.898917).  Saving model ...\n",
            "\n",
            "\n",
            "loss: 3.894840  [50182/181036]\n",
            "loss: 3.928555  [101382/181036]\n",
            "loss: 3.817267  [152582/181036]\n"
          ]
        },
        {
          "metadata": {
            "tags": null
          },
          "name": "stderr",
          "output_type": "stream",
          "text": [
            "\n",
            " 23%|██▎       | 93/400 [34:41<2:13:23, 26.07s/it]\u001b[A"
          ]
        },
        {
          "metadata": {
            "tags": null
          },
          "name": "stdout",
          "output_type": "stream",
          "text": [
            "Validation set: Loss: 3.89920\n",
            "EarlyStopping counter: 1 out of 10\n",
            "\n",
            "\n",
            "loss: 3.896866  [50182/181036]\n",
            "loss: 3.906970  [101382/181036]\n",
            "loss: 3.898111  [152582/181036]\n"
          ]
        },
        {
          "metadata": {
            "tags": null
          },
          "name": "stderr",
          "output_type": "stream",
          "text": [
            "\n",
            " 24%|██▎       | 94/400 [35:09<2:14:32, 26.38s/it]\u001b[A"
          ]
        },
        {
          "metadata": {
            "tags": null
          },
          "name": "stdout",
          "output_type": "stream",
          "text": [
            "Validation set: Loss: 3.89925\n",
            "EarlyStopping counter: 2 out of 10\n",
            "\n",
            "\n",
            "loss: 3.920597  [50182/181036]\n",
            "loss: 3.853868  [101382/181036]\n",
            "loss: 3.974782  [152582/181036]\n"
          ]
        },
        {
          "metadata": {
            "tags": null
          },
          "name": "stderr",
          "output_type": "stream",
          "text": [
            "\n",
            " 24%|██▍       | 95/400 [35:35<2:14:40, 26.49s/it]\u001b[A"
          ]
        },
        {
          "metadata": {
            "tags": null
          },
          "name": "stdout",
          "output_type": "stream",
          "text": [
            "Validation set: Loss: 3.89878\n",
            "Validation loss decreased (3.898917 --> 3.898780).  Saving model ...\n",
            "\n",
            "\n",
            "loss: 3.888839  [50182/181036]\n",
            "loss: 3.839187  [101382/181036]\n",
            "loss: 3.917302  [152582/181036]\n"
          ]
        },
        {
          "metadata": {
            "tags": null
          },
          "name": "stderr",
          "output_type": "stream",
          "text": [
            "\n",
            " 24%|██▍       | 96/400 [36:03<2:16:35, 26.96s/it]\u001b[A"
          ]
        },
        {
          "metadata": {
            "tags": null
          },
          "name": "stdout",
          "output_type": "stream",
          "text": [
            "Validation set: Loss: 3.89876\n",
            "Validation loss decreased (3.898780 --> 3.898758).  Saving model ...\n",
            "\n",
            "\n",
            "loss: 3.978946  [50182/181036]\n",
            "loss: 3.969355  [101382/181036]\n",
            "loss: 3.838559  [152582/181036]\n"
          ]
        },
        {
          "metadata": {
            "tags": null
          },
          "name": "stderr",
          "output_type": "stream",
          "text": [
            "\n",
            " 24%|██▍       | 97/400 [36:30<2:15:44, 26.88s/it]\u001b[A"
          ]
        },
        {
          "metadata": {
            "tags": null
          },
          "name": "stdout",
          "output_type": "stream",
          "text": [
            "Validation set: Loss: 3.89940\n",
            "EarlyStopping counter: 1 out of 10\n",
            "\n",
            "\n",
            "loss: 3.936160  [50182/181036]\n",
            "loss: 3.805383  [101382/181036]\n",
            "loss: 3.864344  [152582/181036]\n"
          ]
        },
        {
          "metadata": {
            "tags": null
          },
          "name": "stderr",
          "output_type": "stream",
          "text": [
            "\n",
            " 24%|██▍       | 98/400 [36:55<2:12:53, 26.40s/it]\u001b[A"
          ]
        },
        {
          "metadata": {
            "tags": null
          },
          "name": "stdout",
          "output_type": "stream",
          "text": [
            "Validation set: Loss: 3.89873\n",
            "Validation loss decreased (3.898758 --> 3.898735).  Saving model ...\n",
            "\n",
            "\n",
            "loss: 3.983708  [50182/181036]\n",
            "loss: 3.928116  [101382/181036]\n",
            "loss: 3.819535  [152582/181036]\n"
          ]
        },
        {
          "metadata": {
            "tags": null
          },
          "name": "stderr",
          "output_type": "stream",
          "text": [
            "\n",
            " 25%|██▍       | 99/400 [37:21<2:10:53, 26.09s/it]\u001b[A"
          ]
        },
        {
          "metadata": {
            "tags": null
          },
          "name": "stdout",
          "output_type": "stream",
          "text": [
            "Validation set: Loss: 3.89860\n",
            "Validation loss decreased (3.898735 --> 3.898604).  Saving model ...\n",
            "\n",
            "\n",
            "loss: 3.826622  [50182/181036]\n",
            "loss: 3.891174  [101382/181036]\n",
            "loss: 3.879465  [152582/181036]\n"
          ]
        },
        {
          "metadata": {
            "tags": null
          },
          "name": "stderr",
          "output_type": "stream",
          "text": [
            "\n",
            " 25%|██▌       | 100/400 [37:46<2:09:32, 25.91s/it]\u001b[A"
          ]
        },
        {
          "metadata": {
            "tags": null
          },
          "name": "stdout",
          "output_type": "stream",
          "text": [
            "Validation set: Loss: 3.89895\n",
            "EarlyStopping counter: 1 out of 10\n",
            "\n",
            "\n",
            "loss: 3.869061  [50182/181036]\n",
            "loss: 3.836483  [101382/181036]\n",
            "loss: 3.904215  [152582/181036]\n"
          ]
        },
        {
          "metadata": {
            "tags": null
          },
          "name": "stderr",
          "output_type": "stream",
          "text": [
            "\n",
            " 25%|██▌       | 101/400 [38:13<2:09:46, 26.04s/it]\u001b[A"
          ]
        },
        {
          "metadata": {
            "tags": null
          },
          "name": "stdout",
          "output_type": "stream",
          "text": [
            "Validation set: Loss: 3.89875\n",
            "EarlyStopping counter: 2 out of 10\n",
            "\n",
            "\n",
            "loss: 3.906347  [50182/181036]\n",
            "loss: 3.903237  [101382/181036]\n",
            "loss: 3.912411  [152582/181036]\n"
          ]
        },
        {
          "metadata": {
            "tags": null
          },
          "name": "stderr",
          "output_type": "stream",
          "text": [
            "\n",
            " 26%|██▌       | 102/400 [38:38<2:08:45, 25.92s/it]\u001b[A"
          ]
        },
        {
          "metadata": {
            "tags": null
          },
          "name": "stdout",
          "output_type": "stream",
          "text": [
            "Validation set: Loss: 3.89897\n",
            "EarlyStopping counter: 3 out of 10\n",
            "\n",
            "\n",
            "loss: 3.907990  [50182/181036]\n",
            "loss: 3.884081  [101382/181036]\n",
            "loss: 3.709530  [152582/181036]\n"
          ]
        },
        {
          "metadata": {
            "tags": null
          },
          "name": "stderr",
          "output_type": "stream",
          "text": [
            "\n",
            " 26%|██▌       | 103/400 [39:04<2:07:55, 25.84s/it]\u001b[A"
          ]
        },
        {
          "metadata": {
            "tags": null
          },
          "name": "stdout",
          "output_type": "stream",
          "text": [
            "Validation set: Loss: 3.89888\n",
            "EarlyStopping counter: 4 out of 10\n",
            "\n",
            "\n",
            "loss: 3.928561  [50182/181036]\n",
            "loss: 3.870830  [101382/181036]\n",
            "loss: 3.819769  [152582/181036]\n"
          ]
        },
        {
          "metadata": {
            "tags": null
          },
          "name": "stderr",
          "output_type": "stream",
          "text": [
            "\n",
            " 26%|██▌       | 104/400 [39:30<2:07:14, 25.79s/it]\u001b[A"
          ]
        },
        {
          "metadata": {
            "tags": null
          },
          "name": "stdout",
          "output_type": "stream",
          "text": [
            "Validation set: Loss: 3.89842\n",
            "Validation loss decreased (3.898604 --> 3.898422).  Saving model ...\n",
            "\n",
            "\n",
            "loss: 3.853874  [50182/181036]\n",
            "loss: 3.906363  [101382/181036]\n",
            "loss: 3.840255  [152582/181036]\n"
          ]
        },
        {
          "metadata": {
            "tags": null
          },
          "name": "stderr",
          "output_type": "stream",
          "text": [
            "\n",
            " 26%|██▋       | 105/400 [39:55<2:06:59, 25.83s/it]\u001b[A"
          ]
        },
        {
          "metadata": {
            "tags": null
          },
          "name": "stdout",
          "output_type": "stream",
          "text": [
            "Validation set: Loss: 3.89869\n",
            "EarlyStopping counter: 1 out of 10\n",
            "\n",
            "\n",
            "loss: 3.810426  [50182/181036]\n",
            "loss: 3.885564  [101382/181036]\n",
            "loss: 3.877492  [152582/181036]\n"
          ]
        },
        {
          "metadata": {
            "tags": null
          },
          "name": "stderr",
          "output_type": "stream",
          "text": [
            "\n",
            " 26%|██▋       | 106/400 [40:22<2:08:13, 26.17s/it]\u001b[A"
          ]
        },
        {
          "metadata": {
            "tags": null
          },
          "name": "stdout",
          "output_type": "stream",
          "text": [
            "Validation set: Loss: 3.89863\n",
            "EarlyStopping counter: 2 out of 10\n",
            "\n",
            "\n",
            "loss: 3.897398  [50182/181036]\n",
            "loss: 3.913347  [101382/181036]\n",
            "loss: 3.975908  [152582/181036]\n"
          ]
        },
        {
          "metadata": {
            "tags": null
          },
          "name": "stderr",
          "output_type": "stream",
          "text": [
            "\n",
            " 27%|██▋       | 107/400 [40:48<2:06:36, 25.93s/it]\u001b[A"
          ]
        },
        {
          "metadata": {
            "tags": null
          },
          "name": "stdout",
          "output_type": "stream",
          "text": [
            "Validation set: Loss: 3.89847\n",
            "EarlyStopping counter: 3 out of 10\n",
            "\n",
            "\n",
            "loss: 3.869329  [50182/181036]\n",
            "loss: 3.881181  [101382/181036]\n",
            "loss: 3.870263  [152582/181036]\n"
          ]
        },
        {
          "metadata": {
            "tags": null
          },
          "name": "stderr",
          "output_type": "stream",
          "text": [
            "\n",
            " 27%|██▋       | 108/400 [41:14<2:06:05, 25.91s/it]\u001b[A"
          ]
        },
        {
          "metadata": {
            "tags": null
          },
          "name": "stdout",
          "output_type": "stream",
          "text": [
            "Validation set: Loss: 3.89984\n",
            "EarlyStopping counter: 4 out of 10\n",
            "\n",
            "\n",
            "loss: 3.898374  [50182/181036]\n",
            "loss: 3.929730  [101382/181036]\n",
            "loss: 4.011018  [152582/181036]\n"
          ]
        },
        {
          "metadata": {
            "tags": null
          },
          "name": "stderr",
          "output_type": "stream",
          "text": [
            "\n",
            " 27%|██▋       | 109/400 [41:39<2:05:15, 25.83s/it]\u001b[A"
          ]
        },
        {
          "metadata": {
            "tags": null
          },
          "name": "stdout",
          "output_type": "stream",
          "text": [
            "Validation set: Loss: 3.89849\n",
            "EarlyStopping counter: 5 out of 10\n",
            "\n",
            "\n",
            "loss: 3.856087  [50182/181036]\n",
            "loss: 3.872619  [101382/181036]\n",
            "loss: 3.913845  [152582/181036]\n"
          ]
        },
        {
          "metadata": {
            "tags": null
          },
          "name": "stderr",
          "output_type": "stream",
          "text": [
            "\n",
            " 28%|██▊       | 110/400 [42:06<2:05:38, 25.99s/it]\u001b[A"
          ]
        },
        {
          "metadata": {
            "tags": null
          },
          "name": "stdout",
          "output_type": "stream",
          "text": [
            "Validation set: Loss: 3.89814\n",
            "Validation loss decreased (3.898422 --> 3.898145).  Saving model ...\n",
            "\n",
            "\n",
            "loss: 3.981702  [50182/181036]\n",
            "loss: 3.787917  [101382/181036]\n",
            "loss: 3.865684  [152582/181036]\n"
          ]
        },
        {
          "metadata": {
            "tags": null
          },
          "name": "stderr",
          "output_type": "stream",
          "text": [
            "\n",
            " 28%|██▊       | 111/400 [42:31<2:04:48, 25.91s/it]\u001b[A"
          ]
        },
        {
          "metadata": {
            "tags": null
          },
          "name": "stdout",
          "output_type": "stream",
          "text": [
            "Validation set: Loss: 3.89815\n",
            "EarlyStopping counter: 1 out of 10\n",
            "\n",
            "\n",
            "loss: 4.034092  [50182/181036]\n",
            "loss: 3.882841  [101382/181036]\n",
            "loss: 3.885703  [152582/181036]\n"
          ]
        },
        {
          "metadata": {
            "tags": null
          },
          "name": "stderr",
          "output_type": "stream",
          "text": [
            "\n",
            " 28%|██▊       | 112/400 [42:57<2:04:12, 25.88s/it]\u001b[A"
          ]
        },
        {
          "metadata": {
            "tags": null
          },
          "name": "stdout",
          "output_type": "stream",
          "text": [
            "Validation set: Loss: 3.89832\n",
            "EarlyStopping counter: 2 out of 10\n",
            "\n",
            "\n",
            "loss: 3.962554  [50182/181036]\n",
            "loss: 3.881104  [101382/181036]\n",
            "loss: 3.986919  [152582/181036]\n"
          ]
        },
        {
          "metadata": {
            "tags": null
          },
          "name": "stderr",
          "output_type": "stream",
          "text": [
            "\n",
            " 28%|██▊       | 113/400 [43:22<2:02:54, 25.70s/it]\u001b[A"
          ]
        },
        {
          "metadata": {
            "tags": null
          },
          "name": "stdout",
          "output_type": "stream",
          "text": [
            "Validation set: Loss: 3.89851\n",
            "EarlyStopping counter: 3 out of 10\n",
            "\n",
            "\n",
            "loss: 3.858587  [50182/181036]\n",
            "loss: 3.942482  [101382/181036]\n",
            "loss: 3.825561  [152582/181036]\n"
          ]
        },
        {
          "metadata": {
            "tags": null
          },
          "name": "stderr",
          "output_type": "stream",
          "text": [
            "\n",
            " 28%|██▊       | 114/400 [43:48<2:02:46, 25.76s/it]\u001b[A"
          ]
        },
        {
          "metadata": {
            "tags": null
          },
          "name": "stdout",
          "output_type": "stream",
          "text": [
            "Validation set: Loss: 3.89819\n",
            "EarlyStopping counter: 4 out of 10\n",
            "\n",
            "\n",
            "loss: 3.809369  [50182/181036]\n",
            "loss: 3.796428  [101382/181036]\n",
            "loss: 3.909115  [152582/181036]\n"
          ]
        },
        {
          "metadata": {
            "tags": null
          },
          "name": "stderr",
          "output_type": "stream",
          "text": [
            "\n",
            " 29%|██▉       | 115/400 [44:15<2:03:48, 26.07s/it]\u001b[A"
          ]
        },
        {
          "metadata": {
            "tags": null
          },
          "name": "stdout",
          "output_type": "stream",
          "text": [
            "Validation set: Loss: 3.89804\n",
            "Validation loss decreased (3.898145 --> 3.898043).  Saving model ...\n",
            "\n",
            "\n",
            "loss: 3.893460  [50182/181036]\n",
            "loss: 3.896474  [101382/181036]\n",
            "loss: 4.008199  [152582/181036]\n"
          ]
        },
        {
          "metadata": {
            "tags": null
          },
          "name": "stderr",
          "output_type": "stream",
          "text": [
            "\n",
            " 29%|██▉       | 116/400 [44:41<2:03:00, 25.99s/it]\u001b[A"
          ]
        },
        {
          "metadata": {
            "tags": null
          },
          "name": "stdout",
          "output_type": "stream",
          "text": [
            "Validation set: Loss: 3.89860\n",
            "EarlyStopping counter: 1 out of 10\n",
            "\n",
            "\n",
            "loss: 3.895534  [50182/181036]\n",
            "loss: 3.840745  [101382/181036]\n",
            "loss: 3.914535  [152582/181036]\n"
          ]
        },
        {
          "metadata": {
            "tags": null
          },
          "name": "stderr",
          "output_type": "stream",
          "text": [
            "\n",
            " 29%|██▉       | 117/400 [45:06<2:01:30, 25.76s/it]\u001b[A"
          ]
        },
        {
          "metadata": {
            "tags": null
          },
          "name": "stdout",
          "output_type": "stream",
          "text": [
            "Validation set: Loss: 3.89859\n",
            "EarlyStopping counter: 2 out of 10\n",
            "\n",
            "\n",
            "loss: 3.810068  [50182/181036]\n",
            "loss: 3.988885  [101382/181036]\n",
            "loss: 3.911221  [152582/181036]\n"
          ]
        },
        {
          "metadata": {
            "tags": null
          },
          "name": "stderr",
          "output_type": "stream",
          "text": [
            "\n",
            " 30%|██▉       | 118/400 [45:33<2:02:17, 26.02s/it]\u001b[A"
          ]
        },
        {
          "metadata": {
            "tags": null
          },
          "name": "stdout",
          "output_type": "stream",
          "text": [
            "Validation set: Loss: 3.89868\n",
            "EarlyStopping counter: 3 out of 10\n",
            "\n",
            "\n",
            "loss: 3.850821  [50182/181036]\n",
            "loss: 3.841986  [101382/181036]\n",
            "loss: 3.877511  [152582/181036]\n"
          ]
        },
        {
          "metadata": {
            "tags": null
          },
          "name": "stderr",
          "output_type": "stream",
          "text": [
            "\n",
            " 30%|██▉       | 119/400 [45:57<1:58:45, 25.36s/it]\u001b[A"
          ]
        },
        {
          "metadata": {
            "tags": null
          },
          "name": "stdout",
          "output_type": "stream",
          "text": [
            "Validation set: Loss: 3.89849\n",
            "EarlyStopping counter: 4 out of 10\n",
            "\n",
            "\n",
            "loss: 3.850634  [50182/181036]\n",
            "loss: 3.873597  [101382/181036]\n",
            "loss: 3.868172  [152582/181036]\n"
          ]
        },
        {
          "metadata": {
            "tags": null
          },
          "name": "stderr",
          "output_type": "stream",
          "text": [
            "\n",
            " 30%|███       | 120/400 [46:22<1:58:50, 25.47s/it]\u001b[A"
          ]
        },
        {
          "metadata": {
            "tags": null
          },
          "name": "stdout",
          "output_type": "stream",
          "text": [
            "Validation set: Loss: 3.89801\n",
            "Validation loss decreased (3.898043 --> 3.898006).  Saving model ...\n",
            "\n",
            "\n",
            "loss: 3.880819  [50182/181036]\n",
            "loss: 3.806269  [101382/181036]\n",
            "loss: 3.943173  [152582/181036]\n"
          ]
        },
        {
          "metadata": {
            "tags": null
          },
          "name": "stderr",
          "output_type": "stream",
          "text": [
            "\n",
            " 30%|███       | 121/400 [46:47<1:57:11, 25.20s/it]\u001b[A"
          ]
        },
        {
          "metadata": {
            "tags": null
          },
          "name": "stdout",
          "output_type": "stream",
          "text": [
            "Validation set: Loss: 3.89806\n",
            "EarlyStopping counter: 1 out of 10\n",
            "\n",
            "\n",
            "loss: 3.902565  [50182/181036]\n",
            "loss: 3.906065  [101382/181036]\n",
            "loss: 3.877874  [152582/181036]\n"
          ]
        },
        {
          "metadata": {
            "tags": null
          },
          "name": "stderr",
          "output_type": "stream",
          "text": [
            "\n",
            " 30%|███       | 122/400 [47:13<1:58:16, 25.53s/it]\u001b[A"
          ]
        },
        {
          "metadata": {
            "tags": null
          },
          "name": "stdout",
          "output_type": "stream",
          "text": [
            "Validation set: Loss: 3.89821\n",
            "EarlyStopping counter: 2 out of 10\n",
            "\n",
            "\n",
            "loss: 3.843197  [50182/181036]\n",
            "loss: 3.865209  [101382/181036]\n",
            "loss: 3.914185  [152582/181036]\n"
          ]
        },
        {
          "metadata": {
            "tags": null
          },
          "name": "stderr",
          "output_type": "stream",
          "text": [
            "\n",
            " 31%|███       | 123/400 [47:39<1:57:33, 25.46s/it]\u001b[A"
          ]
        },
        {
          "metadata": {
            "tags": null
          },
          "name": "stdout",
          "output_type": "stream",
          "text": [
            "Validation set: Loss: 3.89849\n",
            "EarlyStopping counter: 3 out of 10\n",
            "\n",
            "\n",
            "loss: 3.862567  [50182/181036]\n",
            "loss: 3.934454  [101382/181036]\n",
            "loss: 3.914686  [152582/181036]\n"
          ]
        },
        {
          "metadata": {
            "tags": null
          },
          "name": "stderr",
          "output_type": "stream",
          "text": [
            "\n",
            " 31%|███       | 124/400 [48:04<1:56:48, 25.39s/it]\u001b[A"
          ]
        },
        {
          "metadata": {
            "tags": null
          },
          "name": "stdout",
          "output_type": "stream",
          "text": [
            "Validation set: Loss: 3.89829\n",
            "EarlyStopping counter: 4 out of 10\n",
            "\n",
            "\n",
            "loss: 3.860958  [50182/181036]\n",
            "loss: 3.995146  [101382/181036]\n",
            "loss: 3.831035  [152582/181036]\n"
          ]
        },
        {
          "metadata": {
            "tags": null
          },
          "name": "stderr",
          "output_type": "stream",
          "text": [
            "\n",
            " 31%|███▏      | 125/400 [48:30<1:57:45, 25.69s/it]\u001b[A"
          ]
        },
        {
          "metadata": {
            "tags": null
          },
          "name": "stdout",
          "output_type": "stream",
          "text": [
            "Validation set: Loss: 3.89837\n",
            "EarlyStopping counter: 5 out of 10\n",
            "\n",
            "\n",
            "loss: 3.852724  [50182/181036]\n",
            "loss: 3.928596  [101382/181036]\n",
            "loss: 3.989371  [152582/181036]\n"
          ]
        },
        {
          "metadata": {
            "tags": null
          },
          "name": "stderr",
          "output_type": "stream",
          "text": [
            "\n",
            " 32%|███▏      | 126/400 [48:56<1:57:29, 25.73s/it]\u001b[A"
          ]
        },
        {
          "metadata": {
            "tags": null
          },
          "name": "stdout",
          "output_type": "stream",
          "text": [
            "Validation set: Loss: 3.89819\n",
            "EarlyStopping counter: 6 out of 10\n",
            "\n",
            "\n",
            "loss: 3.939899  [50182/181036]\n",
            "loss: 3.846038  [101382/181036]\n",
            "loss: 3.917369  [152582/181036]\n"
          ]
        },
        {
          "metadata": {
            "tags": null
          },
          "name": "stderr",
          "output_type": "stream",
          "text": [
            "\n",
            " 32%|███▏      | 127/400 [49:21<1:56:46, 25.67s/it]\u001b[A"
          ]
        },
        {
          "metadata": {
            "tags": null
          },
          "name": "stdout",
          "output_type": "stream",
          "text": [
            "Validation set: Loss: 3.89791\n",
            "Validation loss decreased (3.898006 --> 3.897907).  Saving model ...\n",
            "\n",
            "\n",
            "loss: 3.820421  [50182/181036]\n",
            "loss: 3.913477  [101382/181036]\n",
            "loss: 3.942412  [152582/181036]\n"
          ]
        },
        {
          "metadata": {
            "tags": null
          },
          "name": "stderr",
          "output_type": "stream",
          "text": [
            "\n",
            " 32%|███▏      | 128/400 [49:47<1:55:56, 25.57s/it]\u001b[A"
          ]
        },
        {
          "metadata": {
            "tags": null
          },
          "name": "stdout",
          "output_type": "stream",
          "text": [
            "Validation set: Loss: 3.89788\n",
            "Validation loss decreased (3.897907 --> 3.897878).  Saving model ...\n",
            "\n",
            "\n",
            "loss: 3.858521  [50182/181036]\n",
            "loss: 3.871446  [101382/181036]\n",
            "loss: 3.873770  [152582/181036]\n"
          ]
        },
        {
          "metadata": {
            "tags": null
          },
          "name": "stderr",
          "output_type": "stream",
          "text": [
            "\n",
            " 32%|███▏      | 129/400 [50:11<1:53:46, 25.19s/it]\u001b[A"
          ]
        },
        {
          "metadata": {
            "tags": null
          },
          "name": "stdout",
          "output_type": "stream",
          "text": [
            "Validation set: Loss: 3.89821\n",
            "EarlyStopping counter: 1 out of 10\n",
            "\n",
            "\n",
            "loss: 3.876289  [50182/181036]\n",
            "loss: 3.958123  [101382/181036]\n",
            "loss: 3.918702  [152582/181036]\n"
          ]
        },
        {
          "metadata": {
            "tags": null
          },
          "name": "stderr",
          "output_type": "stream",
          "text": [
            "\n",
            " 32%|███▎      | 130/400 [50:37<1:54:18, 25.40s/it]\u001b[A"
          ]
        },
        {
          "metadata": {
            "tags": null
          },
          "name": "stdout",
          "output_type": "stream",
          "text": [
            "Validation set: Loss: 3.89810\n",
            "EarlyStopping counter: 2 out of 10\n",
            "\n",
            "\n",
            "loss: 3.759657  [50182/181036]\n",
            "loss: 3.845174  [101382/181036]\n",
            "loss: 3.741163  [152582/181036]\n"
          ]
        },
        {
          "metadata": {
            "tags": null
          },
          "name": "stderr",
          "output_type": "stream",
          "text": [
            "\n",
            " 33%|███▎      | 131/400 [51:03<1:54:33, 25.55s/it]\u001b[A"
          ]
        },
        {
          "metadata": {
            "tags": null
          },
          "name": "stdout",
          "output_type": "stream",
          "text": [
            "Validation set: Loss: 3.89845\n",
            "EarlyStopping counter: 3 out of 10\n",
            "\n",
            "\n",
            "loss: 3.892340  [50182/181036]\n",
            "loss: 3.869305  [101382/181036]\n",
            "loss: 3.916232  [152582/181036]\n"
          ]
        },
        {
          "metadata": {
            "tags": null
          },
          "name": "stderr",
          "output_type": "stream",
          "text": [
            "\n",
            " 33%|███▎      | 132/400 [51:29<1:54:43, 25.69s/it]\u001b[A"
          ]
        },
        {
          "metadata": {
            "tags": null
          },
          "name": "stdout",
          "output_type": "stream",
          "text": [
            "Validation set: Loss: 3.89803\n",
            "EarlyStopping counter: 4 out of 10\n",
            "\n",
            "\n",
            "loss: 3.840685  [50182/181036]\n",
            "loss: 3.961448  [101382/181036]\n",
            "loss: 3.847379  [152582/181036]\n"
          ]
        },
        {
          "metadata": {
            "tags": null
          },
          "name": "stderr",
          "output_type": "stream",
          "text": [
            "\n",
            " 33%|███▎      | 133/400 [51:54<1:53:40, 25.54s/it]\u001b[A"
          ]
        },
        {
          "metadata": {
            "tags": null
          },
          "name": "stdout",
          "output_type": "stream",
          "text": [
            "Validation set: Loss: 3.89851\n",
            "EarlyStopping counter: 5 out of 10\n",
            "\n",
            "\n",
            "loss: 3.868493  [50182/181036]\n",
            "loss: 3.900692  [101382/181036]\n",
            "loss: 3.793748  [152582/181036]\n"
          ]
        },
        {
          "metadata": {
            "tags": null
          },
          "name": "stderr",
          "output_type": "stream",
          "text": [
            "\n",
            " 34%|███▎      | 134/400 [52:19<1:52:35, 25.40s/it]\u001b[A"
          ]
        },
        {
          "metadata": {
            "tags": null
          },
          "name": "stdout",
          "output_type": "stream",
          "text": [
            "Validation set: Loss: 3.89781\n",
            "Validation loss decreased (3.897878 --> 3.897808).  Saving model ...\n",
            "\n",
            "\n",
            "loss: 3.944769  [50182/181036]\n",
            "loss: 3.918022  [101382/181036]\n",
            "loss: 3.871791  [152582/181036]\n"
          ]
        },
        {
          "metadata": {
            "tags": null
          },
          "name": "stderr",
          "output_type": "stream",
          "text": [
            "\n",
            " 34%|███▍      | 135/400 [52:45<1:52:04, 25.38s/it]\u001b[A"
          ]
        },
        {
          "metadata": {
            "tags": null
          },
          "name": "stdout",
          "output_type": "stream",
          "text": [
            "Validation set: Loss: 3.89807\n",
            "EarlyStopping counter: 1 out of 10\n",
            "\n",
            "\n",
            "loss: 3.969708  [50182/181036]\n",
            "loss: 3.768716  [101382/181036]\n",
            "loss: 3.931498  [152582/181036]\n"
          ]
        },
        {
          "metadata": {
            "tags": null
          },
          "name": "stderr",
          "output_type": "stream",
          "text": [
            "\n",
            " 34%|███▍      | 136/400 [53:11<1:53:09, 25.72s/it]\u001b[A"
          ]
        },
        {
          "metadata": {
            "tags": null
          },
          "name": "stdout",
          "output_type": "stream",
          "text": [
            "Validation set: Loss: 3.89781\n",
            "EarlyStopping counter: 2 out of 10\n",
            "\n",
            "\n",
            "loss: 3.879568  [50182/181036]\n",
            "loss: 3.848386  [101382/181036]\n",
            "loss: 3.861154  [152582/181036]\n"
          ]
        },
        {
          "metadata": {
            "tags": null
          },
          "name": "stderr",
          "output_type": "stream",
          "text": [
            "\n",
            " 34%|███▍      | 137/400 [53:36<1:51:31, 25.44s/it]\u001b[A"
          ]
        },
        {
          "metadata": {
            "tags": null
          },
          "name": "stdout",
          "output_type": "stream",
          "text": [
            "Validation set: Loss: 3.89783\n",
            "EarlyStopping counter: 3 out of 10\n",
            "\n",
            "\n",
            "loss: 3.878481  [50182/181036]\n",
            "loss: 3.874742  [101382/181036]\n",
            "loss: 3.883290  [152582/181036]\n"
          ]
        },
        {
          "metadata": {
            "tags": null
          },
          "name": "stderr",
          "output_type": "stream",
          "text": [
            "\n",
            " 34%|███▍      | 138/400 [54:02<1:51:35, 25.56s/it]\u001b[A"
          ]
        },
        {
          "metadata": {
            "tags": null
          },
          "name": "stdout",
          "output_type": "stream",
          "text": [
            "Validation set: Loss: 3.89855\n",
            "EarlyStopping counter: 4 out of 10\n",
            "\n",
            "\n",
            "loss: 3.861849  [50182/181036]\n",
            "loss: 3.928282  [101382/181036]\n",
            "loss: 3.949251  [152582/181036]\n"
          ]
        },
        {
          "metadata": {
            "tags": null
          },
          "name": "stderr",
          "output_type": "stream",
          "text": [
            "\n",
            " 35%|███▍      | 139/400 [54:28<1:51:40, 25.67s/it]\u001b[A"
          ]
        },
        {
          "metadata": {
            "tags": null
          },
          "name": "stdout",
          "output_type": "stream",
          "text": [
            "Validation set: Loss: 3.89774\n",
            "Validation loss decreased (3.897808 --> 3.897741).  Saving model ...\n",
            "\n",
            "\n",
            "loss: 3.898631  [50182/181036]\n",
            "loss: 3.838974  [101382/181036]\n",
            "loss: 3.872402  [152582/181036]\n"
          ]
        },
        {
          "metadata": {
            "tags": null
          },
          "name": "stderr",
          "output_type": "stream",
          "text": [
            "\n",
            " 35%|███▌      | 140/400 [54:53<1:51:18, 25.68s/it]\u001b[A"
          ]
        },
        {
          "metadata": {
            "tags": null
          },
          "name": "stdout",
          "output_type": "stream",
          "text": [
            "Validation set: Loss: 3.89769\n",
            "Validation loss decreased (3.897741 --> 3.897691).  Saving model ...\n",
            "\n",
            "\n",
            "loss: 3.877844  [50182/181036]\n",
            "loss: 3.814080  [101382/181036]\n",
            "loss: 3.898846  [152582/181036]\n"
          ]
        },
        {
          "metadata": {
            "tags": null
          },
          "name": "stderr",
          "output_type": "stream",
          "text": [
            "\n",
            " 35%|███▌      | 141/400 [55:20<1:51:47, 25.90s/it]\u001b[A"
          ]
        },
        {
          "metadata": {
            "tags": null
          },
          "name": "stdout",
          "output_type": "stream",
          "text": [
            "Validation set: Loss: 3.89774\n",
            "EarlyStopping counter: 1 out of 10\n",
            "\n",
            "\n",
            "loss: 3.884717  [50182/181036]\n",
            "loss: 3.846569  [101382/181036]\n",
            "loss: 3.878404  [152582/181036]\n"
          ]
        },
        {
          "metadata": {
            "tags": null
          },
          "name": "stderr",
          "output_type": "stream",
          "text": [
            "\n",
            " 36%|███▌      | 142/400 [55:45<1:50:34, 25.72s/it]\u001b[A"
          ]
        },
        {
          "metadata": {
            "tags": null
          },
          "name": "stdout",
          "output_type": "stream",
          "text": [
            "Validation set: Loss: 3.89882\n",
            "EarlyStopping counter: 2 out of 10\n",
            "\n",
            "\n",
            "loss: 3.845531  [50182/181036]\n",
            "loss: 3.895607  [101382/181036]\n",
            "loss: 3.887884  [152582/181036]\n"
          ]
        },
        {
          "metadata": {
            "tags": null
          },
          "name": "stderr",
          "output_type": "stream",
          "text": [
            "\n",
            " 36%|███▌      | 143/400 [56:11<1:50:48, 25.87s/it]\u001b[A"
          ]
        },
        {
          "metadata": {
            "tags": null
          },
          "name": "stdout",
          "output_type": "stream",
          "text": [
            "Validation set: Loss: 3.89770\n",
            "EarlyStopping counter: 3 out of 10\n",
            "\n",
            "\n",
            "loss: 3.942774  [50182/181036]\n",
            "loss: 3.849882  [101382/181036]\n",
            "loss: 3.875510  [152582/181036]\n"
          ]
        },
        {
          "metadata": {
            "tags": null
          },
          "name": "stderr",
          "output_type": "stream",
          "text": [
            "\n",
            " 36%|███▌      | 144/400 [56:35<1:47:44, 25.25s/it]\u001b[A"
          ]
        },
        {
          "metadata": {
            "tags": null
          },
          "name": "stdout",
          "output_type": "stream",
          "text": [
            "Validation set: Loss: 3.89773\n",
            "EarlyStopping counter: 4 out of 10\n",
            "\n",
            "\n",
            "loss: 3.971874  [50182/181036]\n",
            "loss: 3.869452  [101382/181036]\n",
            "loss: 3.939948  [152582/181036]\n"
          ]
        },
        {
          "metadata": {
            "tags": null
          },
          "name": "stderr",
          "output_type": "stream",
          "text": [
            "\n",
            " 36%|███▋      | 145/400 [57:01<1:47:42, 25.34s/it]\u001b[A"
          ]
        },
        {
          "metadata": {
            "tags": null
          },
          "name": "stdout",
          "output_type": "stream",
          "text": [
            "Validation set: Loss: 3.89750\n",
            "Validation loss decreased (3.897691 --> 3.897499).  Saving model ...\n",
            "\n",
            "\n",
            "loss: 3.819216  [50182/181036]\n",
            "loss: 3.935331  [101382/181036]\n",
            "loss: 3.908396  [152582/181036]\n"
          ]
        },
        {
          "metadata": {
            "tags": null
          },
          "name": "stderr",
          "output_type": "stream",
          "text": [
            "\n",
            " 36%|███▋      | 146/400 [57:24<1:45:24, 24.90s/it]\u001b[A"
          ]
        },
        {
          "metadata": {
            "tags": null
          },
          "name": "stdout",
          "output_type": "stream",
          "text": [
            "Validation set: Loss: 3.89799\n",
            "EarlyStopping counter: 1 out of 10\n",
            "\n",
            "\n",
            "loss: 3.808308  [50182/181036]\n",
            "loss: 3.920962  [101382/181036]\n",
            "loss: 3.929005  [152582/181036]\n"
          ]
        },
        {
          "metadata": {
            "tags": null
          },
          "name": "stderr",
          "output_type": "stream",
          "text": [
            "\n",
            " 37%|███▋      | 147/400 [57:52<1:48:19, 25.69s/it]\u001b[A"
          ]
        },
        {
          "metadata": {
            "tags": null
          },
          "name": "stdout",
          "output_type": "stream",
          "text": [
            "Validation set: Loss: 3.89778\n",
            "EarlyStopping counter: 2 out of 10\n",
            "\n",
            "\n",
            "loss: 3.908333  [50182/181036]\n",
            "loss: 3.944807  [101382/181036]\n",
            "loss: 3.916479  [152582/181036]\n"
          ]
        },
        {
          "metadata": {
            "tags": null
          },
          "name": "stderr",
          "output_type": "stream",
          "text": [
            "\n",
            " 37%|███▋      | 148/400 [58:20<1:51:07, 26.46s/it]\u001b[A"
          ]
        },
        {
          "metadata": {
            "tags": null
          },
          "name": "stdout",
          "output_type": "stream",
          "text": [
            "Validation set: Loss: 3.89824\n",
            "EarlyStopping counter: 3 out of 10\n",
            "\n",
            "\n",
            "loss: 3.858727  [50182/181036]\n",
            "loss: 3.806874  [101382/181036]\n",
            "loss: 3.911896  [152582/181036]\n"
          ]
        },
        {
          "metadata": {
            "tags": null
          },
          "name": "stderr",
          "output_type": "stream",
          "text": [
            "\n",
            " 37%|███▋      | 149/400 [58:45<1:49:02, 26.07s/it]\u001b[A"
          ]
        },
        {
          "metadata": {
            "tags": null
          },
          "name": "stdout",
          "output_type": "stream",
          "text": [
            "Validation set: Loss: 3.89758\n",
            "EarlyStopping counter: 4 out of 10\n",
            "\n",
            "\n",
            "loss: 3.992542  [50182/181036]\n",
            "loss: 3.848646  [101382/181036]\n",
            "loss: 3.936316  [152582/181036]\n"
          ]
        },
        {
          "metadata": {
            "tags": null
          },
          "name": "stderr",
          "output_type": "stream",
          "text": [
            "\n",
            " 38%|███▊      | 150/400 [59:10<1:47:20, 25.76s/it]\u001b[A"
          ]
        },
        {
          "metadata": {
            "tags": null
          },
          "name": "stdout",
          "output_type": "stream",
          "text": [
            "Validation set: Loss: 3.89771\n",
            "EarlyStopping counter: 5 out of 10\n",
            "\n",
            "\n",
            "loss: 3.915600  [50182/181036]\n",
            "loss: 3.861864  [101382/181036]\n",
            "loss: 3.826689  [152582/181036]\n"
          ]
        },
        {
          "metadata": {
            "tags": null
          },
          "name": "stderr",
          "output_type": "stream",
          "text": [
            "\n",
            " 38%|███▊      | 151/400 [59:34<1:44:14, 25.12s/it]\u001b[A"
          ]
        },
        {
          "metadata": {
            "tags": null
          },
          "name": "stdout",
          "output_type": "stream",
          "text": [
            "Validation set: Loss: 3.89803\n",
            "EarlyStopping counter: 6 out of 10\n",
            "\n",
            "\n",
            "loss: 3.937065  [50182/181036]\n",
            "loss: 3.917674  [101382/181036]\n",
            "loss: 3.899293  [152582/181036]\n"
          ]
        },
        {
          "metadata": {
            "tags": null
          },
          "name": "stderr",
          "output_type": "stream",
          "text": [
            "\n",
            " 38%|███▊      | 152/400 [1:00:00<1:44:26, 25.27s/it]\u001b[A"
          ]
        },
        {
          "metadata": {
            "tags": null
          },
          "name": "stdout",
          "output_type": "stream",
          "text": [
            "Validation set: Loss: 3.89802\n",
            "EarlyStopping counter: 7 out of 10\n",
            "\n",
            "\n",
            "loss: 3.908530  [50182/181036]\n",
            "loss: 3.885211  [101382/181036]\n",
            "loss: 3.892038  [152582/181036]\n"
          ]
        },
        {
          "metadata": {
            "tags": null
          },
          "name": "stderr",
          "output_type": "stream",
          "text": [
            "\n",
            " 38%|███▊      | 153/400 [1:00:26<1:45:11, 25.55s/it]\u001b[A"
          ]
        },
        {
          "metadata": {
            "tags": null
          },
          "name": "stdout",
          "output_type": "stream",
          "text": [
            "Validation set: Loss: 3.89772\n",
            "EarlyStopping counter: 8 out of 10\n",
            "\n",
            "\n",
            "loss: 3.811164  [50182/181036]\n",
            "loss: 3.962355  [101382/181036]\n",
            "loss: 3.841370  [152582/181036]\n"
          ]
        },
        {
          "metadata": {
            "tags": null
          },
          "name": "stderr",
          "output_type": "stream",
          "text": [
            "\n",
            " 38%|███▊      | 154/400 [1:00:52<1:45:35, 25.76s/it]\u001b[A"
          ]
        },
        {
          "metadata": {
            "tags": null
          },
          "name": "stdout",
          "output_type": "stream",
          "text": [
            "Validation set: Loss: 3.89785\n",
            "EarlyStopping counter: 9 out of 10\n",
            "\n",
            "\n",
            "loss: 3.836594  [50182/181036]\n",
            "loss: 3.986656  [101382/181036]\n",
            "loss: 3.902815  [152582/181036]\n"
          ]
        },
        {
          "metadata": {
            "tags": null
          },
          "name": "stderr",
          "output_type": "stream",
          "text": [
            "\r 38%|███▊      | 154/400 [1:01:16<1:37:53, 23.87s/it]"
          ]
        },
        {
          "metadata": {
            "tags": null
          },
          "name": "stdout",
          "output_type": "stream",
          "text": [
            "Validation set: Loss: 3.89781\n",
            "EarlyStopping counter: 10 out of 10\n",
            "Done!\n"
          ]
        },
        {
          "metadata": {
            "tags": null
          },
          "name": "stderr",
          "output_type": "stream",
          "text": [
            "\n",
            " 11%|█         | 2/19 [1:58:56<16:56:40, 3588.24s/it]"
          ]
        },
        {
          "metadata": {
            "tags": null
          },
          "name": "stdout",
          "output_type": "stream",
          "text": [
            "Performing the ZILN pipeline for company 101600010\n"
          ]
        },
        {
          "metadata": {
            "tags": null
          },
          "name": "stderr",
          "output_type": "stream",
          "text": [
            "\n",
            "  0%|          | 0/400 [00:00<?, ?it/s]\u001b[A"
          ]
        },
        {
          "metadata": {
            "tags": null
          },
          "name": "stdout",
          "output_type": "stream",
          "text": [
            "\n",
            "\n",
            "loss: 10.638432  [50182/222542]\n",
            "loss: 7.826914  [101382/222542]\n",
            "loss: 6.387920  [152582/222542]\n",
            "loss: 5.891924  [203782/222542]\n"
          ]
        },
        {
          "metadata": {
            "tags": null
          },
          "name": "stderr",
          "output_type": "stream",
          "text": [
            "\n",
            "  0%|          | 1/400 [00:31<3:31:19, 31.78s/it]\u001b[A"
          ]
        },
        {
          "metadata": {
            "tags": null
          },
          "name": "stdout",
          "output_type": "stream",
          "text": [
            "Validation set: Loss: 5.70386\n",
            "Validation loss decreased (inf --> 5.703858).  Saving model ...\n",
            "\n",
            "\n",
            "loss: 5.467108  [50182/222542]\n",
            "loss: 5.203382  [101382/222542]\n",
            "loss: 5.154222  [152582/222542]\n",
            "loss: 5.182297  [203782/222542]\n"
          ]
        },
        {
          "metadata": {
            "tags": null
          },
          "name": "stderr",
          "output_type": "stream",
          "text": [
            "\n",
            "  0%|          | 2/400 [01:04<3:33:20, 32.16s/it]\u001b[A"
          ]
        },
        {
          "metadata": {
            "tags": null
          },
          "name": "stdout",
          "output_type": "stream",
          "text": [
            "Validation set: Loss: 5.07963\n",
            "Validation loss decreased (5.703858 --> 5.079631).  Saving model ...\n",
            "\n",
            "\n",
            "loss: 4.926037  [50182/222542]\n",
            "loss: 4.919592  [101382/222542]\n",
            "loss: 4.924846  [152582/222542]\n",
            "loss: 4.931493  [203782/222542]\n"
          ]
        },
        {
          "metadata": {
            "tags": null
          },
          "name": "stderr",
          "output_type": "stream",
          "text": [
            "\n",
            "  1%|          | 3/400 [01:35<3:29:21, 31.64s/it]\u001b[A"
          ]
        },
        {
          "metadata": {
            "tags": null
          },
          "name": "stdout",
          "output_type": "stream",
          "text": [
            "Validation set: Loss: 4.88625\n",
            "Validation loss decreased (5.079631 --> 4.886254).  Saving model ...\n",
            "\n",
            "\n",
            "loss: 4.861261  [50182/222542]\n",
            "loss: 4.860754  [101382/222542]\n",
            "loss: 4.905938  [152582/222542]\n",
            "loss: 4.907034  [203782/222542]\n"
          ]
        },
        {
          "metadata": {
            "tags": null
          },
          "name": "stderr",
          "output_type": "stream",
          "text": [
            "\n",
            "  1%|          | 4/400 [02:03<3:20:40, 30.41s/it]\u001b[A"
          ]
        },
        {
          "metadata": {
            "tags": null
          },
          "name": "stdout",
          "output_type": "stream",
          "text": [
            "Validation set: Loss: 4.85199\n",
            "Validation loss decreased (4.886254 --> 4.851989).  Saving model ...\n",
            "\n",
            "\n",
            "loss: 4.935611  [50182/222542]\n",
            "loss: 4.904531  [101382/222542]\n",
            "loss: 4.804062  [152582/222542]\n",
            "loss: 4.719142  [203782/222542]\n"
          ]
        },
        {
          "metadata": {
            "tags": null
          },
          "name": "stderr",
          "output_type": "stream",
          "text": [
            "\n",
            "  1%|▏         | 5/400 [02:30<3:11:39, 29.11s/it]\u001b[A"
          ]
        },
        {
          "metadata": {
            "tags": null
          },
          "name": "stdout",
          "output_type": "stream",
          "text": [
            "Validation set: Loss: 4.83919\n",
            "Validation loss decreased (4.851989 --> 4.839195).  Saving model ...\n",
            "\n",
            "\n",
            "loss: 4.842609  [50182/222542]\n",
            "loss: 4.932761  [101382/222542]\n",
            "loss: 4.774988  [152582/222542]\n",
            "loss: 4.897095  [203782/222542]\n"
          ]
        },
        {
          "metadata": {
            "tags": null
          },
          "name": "stderr",
          "output_type": "stream",
          "text": [
            "\n",
            "  2%|▏         | 6/400 [02:57<3:06:55, 28.47s/it]\u001b[A"
          ]
        },
        {
          "metadata": {
            "tags": null
          },
          "name": "stdout",
          "output_type": "stream",
          "text": [
            "Validation set: Loss: 4.83244\n",
            "Validation loss decreased (4.839195 --> 4.832436).  Saving model ...\n",
            "\n",
            "\n",
            "loss: 4.928480  [50182/222542]\n",
            "loss: 4.875443  [101382/222542]\n",
            "loss: 4.825481  [152582/222542]\n",
            "loss: 4.864641  [203782/222542]\n"
          ]
        },
        {
          "metadata": {
            "tags": null
          },
          "name": "stderr",
          "output_type": "stream",
          "text": [
            "\n",
            "  2%|▏         | 7/400 [03:25<3:04:32, 28.18s/it]\u001b[A"
          ]
        },
        {
          "metadata": {
            "tags": null
          },
          "name": "stdout",
          "output_type": "stream",
          "text": [
            "Validation set: Loss: 4.82791\n",
            "Validation loss decreased (4.832436 --> 4.827911).  Saving model ...\n",
            "\n",
            "\n",
            "loss: 4.864105  [50182/222542]\n",
            "loss: 4.819226  [101382/222542]\n",
            "loss: 4.811523  [152582/222542]\n",
            "loss: 4.833739  [203782/222542]\n"
          ]
        },
        {
          "metadata": {
            "tags": null
          },
          "name": "stderr",
          "output_type": "stream",
          "text": [
            "\n",
            "  2%|▏         | 8/400 [03:52<3:00:58, 27.70s/it]\u001b[A"
          ]
        },
        {
          "metadata": {
            "tags": null
          },
          "name": "stdout",
          "output_type": "stream",
          "text": [
            "Validation set: Loss: 4.82427\n",
            "Validation loss decreased (4.827911 --> 4.824268).  Saving model ...\n",
            "\n",
            "\n",
            "loss: 4.879516  [50182/222542]\n",
            "loss: 4.827681  [101382/222542]\n",
            "loss: 4.740527  [152582/222542]\n",
            "loss: 4.774416  [203782/222542]\n"
          ]
        },
        {
          "metadata": {
            "tags": null
          },
          "name": "stderr",
          "output_type": "stream",
          "text": [
            "\n",
            "  2%|▏         | 9/400 [04:18<2:58:33, 27.40s/it]\u001b[A"
          ]
        },
        {
          "metadata": {
            "tags": null
          },
          "name": "stdout",
          "output_type": "stream",
          "text": [
            "Validation set: Loss: 4.82094\n",
            "Validation loss decreased (4.824268 --> 4.820938).  Saving model ...\n",
            "\n",
            "\n",
            "loss: 4.846752  [50182/222542]\n",
            "loss: 4.862370  [101382/222542]\n",
            "loss: 4.767985  [152582/222542]\n",
            "loss: 4.812690  [203782/222542]\n"
          ]
        },
        {
          "metadata": {
            "tags": null
          },
          "name": "stderr",
          "output_type": "stream",
          "text": [
            "\n",
            "  2%|▎         | 10/400 [04:46<2:58:29, 27.46s/it]\u001b[A"
          ]
        },
        {
          "metadata": {
            "tags": null
          },
          "name": "stdout",
          "output_type": "stream",
          "text": [
            "Validation set: Loss: 4.81749\n",
            "Validation loss decreased (4.820938 --> 4.817488).  Saving model ...\n",
            "\n",
            "\n",
            "loss: 4.924623  [50182/222542]\n",
            "loss: 4.794451  [101382/222542]\n",
            "loss: 4.863384  [152582/222542]\n",
            "loss: 4.893335  [203782/222542]\n"
          ]
        },
        {
          "metadata": {
            "tags": null
          },
          "name": "stderr",
          "output_type": "stream",
          "text": [
            "\n",
            "  3%|▎         | 11/400 [05:13<2:57:42, 27.41s/it]\u001b[A"
          ]
        },
        {
          "metadata": {
            "tags": null
          },
          "name": "stdout",
          "output_type": "stream",
          "text": [
            "Validation set: Loss: 4.81424\n",
            "Validation loss decreased (4.817488 --> 4.814240).  Saving model ...\n",
            "\n",
            "\n",
            "loss: 4.784523  [50182/222542]\n",
            "loss: 4.802492  [101382/222542]\n",
            "loss: 4.850635  [152582/222542]\n",
            "loss: 4.793587  [203782/222542]\n"
          ]
        },
        {
          "metadata": {
            "tags": null
          },
          "name": "stderr",
          "output_type": "stream",
          "text": [
            "\n",
            "  3%|▎         | 12/400 [05:40<2:56:28, 27.29s/it]\u001b[A"
          ]
        },
        {
          "metadata": {
            "tags": null
          },
          "name": "stdout",
          "output_type": "stream",
          "text": [
            "Validation set: Loss: 4.81099\n",
            "Validation loss decreased (4.814240 --> 4.810990).  Saving model ...\n",
            "\n",
            "\n",
            "loss: 4.777547  [50182/222542]\n",
            "loss: 4.780496  [101382/222542]\n",
            "loss: 4.753225  [152582/222542]\n",
            "loss: 4.828341  [203782/222542]\n"
          ]
        },
        {
          "metadata": {
            "tags": null
          },
          "name": "stderr",
          "output_type": "stream",
          "text": [
            "\n",
            "  3%|▎         | 13/400 [06:07<2:55:55, 27.28s/it]\u001b[A"
          ]
        },
        {
          "metadata": {
            "tags": null
          },
          "name": "stdout",
          "output_type": "stream",
          "text": [
            "Validation set: Loss: 4.80782\n",
            "Validation loss decreased (4.810990 --> 4.807822).  Saving model ...\n",
            "\n",
            "\n",
            "loss: 4.877211  [50182/222542]\n",
            "loss: 4.783769  [101382/222542]\n",
            "loss: 4.840040  [152582/222542]\n",
            "loss: 4.876922  [203782/222542]\n"
          ]
        },
        {
          "metadata": {
            "tags": null
          },
          "name": "stderr",
          "output_type": "stream",
          "text": [
            "\n",
            "  4%|▎         | 14/400 [06:35<2:55:28, 27.28s/it]\u001b[A"
          ]
        },
        {
          "metadata": {
            "tags": null
          },
          "name": "stdout",
          "output_type": "stream",
          "text": [
            "Validation set: Loss: 4.80470\n",
            "Validation loss decreased (4.807822 --> 4.804705).  Saving model ...\n",
            "\n",
            "\n",
            "loss: 4.769527  [50182/222542]\n",
            "loss: 4.760647  [101382/222542]\n",
            "loss: 4.762074  [152582/222542]\n",
            "loss: 4.834810  [203782/222542]\n"
          ]
        },
        {
          "metadata": {
            "tags": null
          },
          "name": "stderr",
          "output_type": "stream",
          "text": [
            "\n",
            "  4%|▍         | 15/400 [07:02<2:54:55, 27.26s/it]\u001b[A"
          ]
        },
        {
          "metadata": {
            "tags": null
          },
          "name": "stdout",
          "output_type": "stream",
          "text": [
            "Validation set: Loss: 4.80166\n",
            "Validation loss decreased (4.804705 --> 4.801658).  Saving model ...\n",
            "\n",
            "\n",
            "loss: 4.836211  [50182/222542]\n",
            "loss: 4.786177  [101382/222542]\n",
            "loss: 4.832190  [152582/222542]\n",
            "loss: 4.791153  [203782/222542]\n"
          ]
        },
        {
          "metadata": {
            "tags": null
          },
          "name": "stderr",
          "output_type": "stream",
          "text": [
            "\n",
            "  4%|▍         | 16/400 [07:29<2:53:56, 27.18s/it]\u001b[A"
          ]
        },
        {
          "metadata": {
            "tags": null
          },
          "name": "stdout",
          "output_type": "stream",
          "text": [
            "Validation set: Loss: 4.79892\n",
            "Validation loss decreased (4.801658 --> 4.798923).  Saving model ...\n",
            "\n",
            "\n",
            "loss: 4.675381  [50182/222542]\n",
            "loss: 4.749741  [101382/222542]\n",
            "loss: 4.714638  [152582/222542]\n",
            "loss: 4.863338  [203782/222542]\n"
          ]
        },
        {
          "metadata": {
            "tags": null
          },
          "name": "stderr",
          "output_type": "stream",
          "text": [
            "\n",
            "  4%|▍         | 17/400 [07:56<2:53:16, 27.15s/it]\u001b[A"
          ]
        },
        {
          "metadata": {
            "tags": null
          },
          "name": "stdout",
          "output_type": "stream",
          "text": [
            "Validation set: Loss: 4.79611\n",
            "Validation loss decreased (4.798923 --> 4.796108).  Saving model ...\n",
            "\n",
            "\n",
            "loss: 4.798120  [50182/222542]\n",
            "loss: 4.835210  [101382/222542]\n",
            "loss: 4.859484  [152582/222542]\n",
            "loss: 4.903497  [203782/222542]\n"
          ]
        },
        {
          "metadata": {
            "tags": null
          },
          "name": "stderr",
          "output_type": "stream",
          "text": [
            "\n",
            "  4%|▍         | 18/400 [08:23<2:52:22, 27.08s/it]\u001b[A"
          ]
        },
        {
          "metadata": {
            "tags": null
          },
          "name": "stdout",
          "output_type": "stream",
          "text": [
            "Validation set: Loss: 4.79335\n",
            "Validation loss decreased (4.796108 --> 4.793354).  Saving model ...\n",
            "\n",
            "\n",
            "loss: 4.781410  [50182/222542]\n",
            "loss: 4.755555  [101382/222542]\n",
            "loss: 4.741263  [152582/222542]\n",
            "loss: 4.815699  [203782/222542]\n"
          ]
        },
        {
          "metadata": {
            "tags": null
          },
          "name": "stderr",
          "output_type": "stream",
          "text": [
            "\n",
            "  5%|▍         | 19/400 [08:51<2:53:24, 27.31s/it]\u001b[A"
          ]
        },
        {
          "metadata": {
            "tags": null
          },
          "name": "stdout",
          "output_type": "stream",
          "text": [
            "Validation set: Loss: 4.79093\n",
            "Validation loss decreased (4.793354 --> 4.790932).  Saving model ...\n",
            "\n",
            "\n",
            "loss: 4.820058  [50182/222542]\n",
            "loss: 4.811738  [101382/222542]\n",
            "loss: 4.833773  [152582/222542]\n",
            "loss: 4.776432  [203782/222542]\n"
          ]
        },
        {
          "metadata": {
            "tags": null
          },
          "name": "stderr",
          "output_type": "stream",
          "text": [
            "\n",
            "  5%|▌         | 20/400 [09:18<2:52:32, 27.24s/it]\u001b[A"
          ]
        },
        {
          "metadata": {
            "tags": null
          },
          "name": "stdout",
          "output_type": "stream",
          "text": [
            "Validation set: Loss: 4.78905\n",
            "Validation loss decreased (4.790932 --> 4.789051).  Saving model ...\n",
            "\n",
            "\n",
            "loss: 4.840511  [50182/222542]\n",
            "loss: 4.759399  [101382/222542]\n",
            "loss: 4.780326  [152582/222542]\n",
            "loss: 4.779759  [203782/222542]\n"
          ]
        },
        {
          "metadata": {
            "tags": null
          },
          "name": "stderr",
          "output_type": "stream",
          "text": [
            "\n",
            "  5%|▌         | 21/400 [09:45<2:52:00, 27.23s/it]\u001b[A"
          ]
        },
        {
          "metadata": {
            "tags": null
          },
          "name": "stdout",
          "output_type": "stream",
          "text": [
            "Validation set: Loss: 4.78729\n",
            "Validation loss decreased (4.789051 --> 4.787289).  Saving model ...\n",
            "\n",
            "\n",
            "loss: 4.857236  [50182/222542]\n",
            "loss: 4.781065  [101382/222542]\n",
            "loss: 4.732621  [152582/222542]\n",
            "loss: 4.853903  [203782/222542]\n"
          ]
        },
        {
          "metadata": {
            "tags": null
          },
          "name": "stderr",
          "output_type": "stream",
          "text": [
            "\n",
            "  6%|▌         | 22/400 [10:12<2:50:23, 27.05s/it]\u001b[A"
          ]
        },
        {
          "metadata": {
            "tags": null
          },
          "name": "stdout",
          "output_type": "stream",
          "text": [
            "Validation set: Loss: 4.78530\n",
            "Validation loss decreased (4.787289 --> 4.785295).  Saving model ...\n",
            "\n",
            "\n",
            "loss: 4.777754  [50182/222542]\n",
            "loss: 4.849791  [101382/222542]\n",
            "loss: 4.843327  [152582/222542]\n",
            "loss: 4.896242  [203782/222542]\n"
          ]
        },
        {
          "metadata": {
            "tags": null
          },
          "name": "stderr",
          "output_type": "stream",
          "text": [
            "\n",
            "  6%|▌         | 23/400 [10:40<2:51:34, 27.31s/it]\u001b[A"
          ]
        },
        {
          "metadata": {
            "tags": null
          },
          "name": "stdout",
          "output_type": "stream",
          "text": [
            "Validation set: Loss: 4.78434\n",
            "Validation loss decreased (4.785295 --> 4.784336).  Saving model ...\n",
            "\n",
            "\n",
            "loss: 4.756446  [50182/222542]\n",
            "loss: 4.794901  [101382/222542]\n",
            "loss: 4.791884  [152582/222542]\n",
            "loss: 4.756195  [203782/222542]\n"
          ]
        },
        {
          "metadata": {
            "tags": null
          },
          "name": "stderr",
          "output_type": "stream",
          "text": [
            "\n",
            "  6%|▌         | 24/400 [11:08<2:52:26, 27.52s/it]\u001b[A"
          ]
        },
        {
          "metadata": {
            "tags": null
          },
          "name": "stdout",
          "output_type": "stream",
          "text": [
            "Validation set: Loss: 4.78289\n",
            "Validation loss decreased (4.784336 --> 4.782894).  Saving model ...\n",
            "\n",
            "\n",
            "loss: 4.735469  [50182/222542]\n",
            "loss: 4.790735  [101382/222542]\n",
            "loss: 4.702395  [152582/222542]\n",
            "loss: 4.803562  [203782/222542]\n"
          ]
        },
        {
          "metadata": {
            "tags": null
          },
          "name": "stderr",
          "output_type": "stream",
          "text": [
            "\n",
            "  6%|▋         | 25/400 [11:34<2:50:26, 27.27s/it]\u001b[A"
          ]
        },
        {
          "metadata": {
            "tags": null
          },
          "name": "stdout",
          "output_type": "stream",
          "text": [
            "Validation set: Loss: 4.78173\n",
            "Validation loss decreased (4.782894 --> 4.781726).  Saving model ...\n",
            "\n",
            "\n",
            "loss: 4.806241  [50182/222542]\n",
            "loss: 4.750317  [101382/222542]\n",
            "loss: 4.777632  [152582/222542]\n",
            "loss: 4.801867  [203782/222542]\n"
          ]
        },
        {
          "metadata": {
            "tags": null
          },
          "name": "stderr",
          "output_type": "stream",
          "text": [
            "\n",
            "  6%|▋         | 26/400 [12:02<2:49:59, 27.27s/it]\u001b[A"
          ]
        },
        {
          "metadata": {
            "tags": null
          },
          "name": "stdout",
          "output_type": "stream",
          "text": [
            "Validation set: Loss: 4.78109\n",
            "Validation loss decreased (4.781726 --> 4.781093).  Saving model ...\n",
            "\n",
            "\n",
            "loss: 4.747151  [50182/222542]\n",
            "loss: 4.800642  [101382/222542]\n",
            "loss: 4.767452  [152582/222542]\n",
            "loss: 4.763294  [203782/222542]\n"
          ]
        },
        {
          "metadata": {
            "tags": null
          },
          "name": "stderr",
          "output_type": "stream",
          "text": [
            "\n",
            "  7%|▋         | 27/400 [12:28<2:48:32, 27.11s/it]\u001b[A"
          ]
        },
        {
          "metadata": {
            "tags": null
          },
          "name": "stdout",
          "output_type": "stream",
          "text": [
            "Validation set: Loss: 4.78046\n",
            "Validation loss decreased (4.781093 --> 4.780456).  Saving model ...\n",
            "\n",
            "\n",
            "loss: 4.736798  [50182/222542]\n",
            "loss: 4.803736  [101382/222542]\n",
            "loss: 4.825484  [152582/222542]\n",
            "loss: 4.862816  [203782/222542]\n"
          ]
        },
        {
          "metadata": {
            "tags": null
          },
          "name": "stderr",
          "output_type": "stream",
          "text": [
            "\n",
            "  7%|▋         | 28/400 [12:55<2:47:46, 27.06s/it]\u001b[A"
          ]
        },
        {
          "metadata": {
            "tags": null
          },
          "name": "stdout",
          "output_type": "stream",
          "text": [
            "Validation set: Loss: 4.77917\n",
            "Validation loss decreased (4.780456 --> 4.779167).  Saving model ...\n",
            "\n",
            "\n",
            "loss: 4.785337  [50182/222542]\n",
            "loss: 4.806206  [101382/222542]\n",
            "loss: 4.792144  [152582/222542]\n",
            "loss: 4.723525  [203782/222542]\n"
          ]
        },
        {
          "metadata": {
            "tags": null
          },
          "name": "stderr",
          "output_type": "stream",
          "text": [
            "\n",
            "  7%|▋         | 29/400 [13:23<2:48:55, 27.32s/it]\u001b[A"
          ]
        },
        {
          "metadata": {
            "tags": null
          },
          "name": "stdout",
          "output_type": "stream",
          "text": [
            "Validation set: Loss: 4.77885\n",
            "Validation loss decreased (4.779167 --> 4.778851).  Saving model ...\n",
            "\n",
            "\n",
            "loss: 4.799098  [50182/222542]\n",
            "loss: 4.782234  [101382/222542]\n",
            "loss: 4.726562  [152582/222542]\n",
            "loss: 4.822099  [203782/222542]\n"
          ]
        },
        {
          "metadata": {
            "tags": null
          },
          "name": "stderr",
          "output_type": "stream",
          "text": [
            "\n",
            "  8%|▊         | 30/400 [13:51<2:48:51, 27.38s/it]\u001b[A"
          ]
        },
        {
          "metadata": {
            "tags": null
          },
          "name": "stdout",
          "output_type": "stream",
          "text": [
            "Validation set: Loss: 4.77822\n",
            "Validation loss decreased (4.778851 --> 4.778223).  Saving model ...\n",
            "\n",
            "\n",
            "loss: 4.811303  [50182/222542]\n",
            "loss: 4.731361  [101382/222542]\n",
            "loss: 4.853915  [152582/222542]\n",
            "loss: 4.771039  [203782/222542]\n"
          ]
        },
        {
          "metadata": {
            "tags": null
          },
          "name": "stderr",
          "output_type": "stream",
          "text": [
            "\n",
            "  8%|▊         | 31/400 [14:18<2:48:31, 27.40s/it]\u001b[A"
          ]
        },
        {
          "metadata": {
            "tags": null
          },
          "name": "stdout",
          "output_type": "stream",
          "text": [
            "Validation set: Loss: 4.77771\n",
            "Validation loss decreased (4.778223 --> 4.777706).  Saving model ...\n",
            "\n",
            "\n",
            "loss: 4.794537  [50182/222542]\n",
            "loss: 4.834944  [101382/222542]\n",
            "loss: 4.819569  [152582/222542]\n",
            "loss: 4.744254  [203782/222542]\n"
          ]
        },
        {
          "metadata": {
            "tags": null
          },
          "name": "stderr",
          "output_type": "stream",
          "text": [
            "\n",
            "  8%|▊         | 32/400 [14:45<2:47:18, 27.28s/it]\u001b[A"
          ]
        },
        {
          "metadata": {
            "tags": null
          },
          "name": "stdout",
          "output_type": "stream",
          "text": [
            "Validation set: Loss: 4.77796\n",
            "EarlyStopping counter: 1 out of 10\n",
            "\n",
            "\n",
            "loss: 4.741572  [50182/222542]\n",
            "loss: 4.703396  [101382/222542]\n",
            "loss: 4.828512  [152582/222542]\n",
            "loss: 4.793307  [203782/222542]\n"
          ]
        },
        {
          "metadata": {
            "tags": null
          },
          "name": "stderr",
          "output_type": "stream",
          "text": [
            "\n",
            "  8%|▊         | 33/400 [15:12<2:46:14, 27.18s/it]\u001b[A"
          ]
        },
        {
          "metadata": {
            "tags": null
          },
          "name": "stdout",
          "output_type": "stream",
          "text": [
            "Validation set: Loss: 4.77683\n",
            "Validation loss decreased (4.777706 --> 4.776831).  Saving model ...\n",
            "\n",
            "\n",
            "loss: 4.782513  [50182/222542]\n",
            "loss: 4.806067  [101382/222542]\n",
            "loss: 4.725859  [152582/222542]\n",
            "loss: 4.769747  [203782/222542]\n"
          ]
        },
        {
          "metadata": {
            "tags": null
          },
          "name": "stderr",
          "output_type": "stream",
          "text": [
            "\n",
            "  8%|▊         | 34/400 [15:39<2:44:57, 27.04s/it]\u001b[A"
          ]
        },
        {
          "metadata": {
            "tags": null
          },
          "name": "stdout",
          "output_type": "stream",
          "text": [
            "Validation set: Loss: 4.77664\n",
            "Validation loss decreased (4.776831 --> 4.776643).  Saving model ...\n",
            "\n",
            "\n",
            "loss: 4.759519  [50182/222542]\n",
            "loss: 4.748769  [101382/222542]\n",
            "loss: 4.796679  [152582/222542]\n",
            "loss: 4.843542  [203782/222542]\n"
          ]
        },
        {
          "metadata": {
            "tags": null
          },
          "name": "stderr",
          "output_type": "stream",
          "text": [
            "\n",
            "  9%|▉         | 35/400 [16:05<2:43:51, 26.94s/it]\u001b[A"
          ]
        },
        {
          "metadata": {
            "tags": null
          },
          "name": "stdout",
          "output_type": "stream",
          "text": [
            "Validation set: Loss: 4.77608\n",
            "Validation loss decreased (4.776643 --> 4.776081).  Saving model ...\n",
            "\n",
            "\n",
            "loss: 4.817445  [50182/222542]\n",
            "loss: 4.781231  [101382/222542]\n",
            "loss: 4.833616  [152582/222542]\n",
            "loss: 4.754323  [203782/222542]\n"
          ]
        },
        {
          "metadata": {
            "tags": null
          },
          "name": "stderr",
          "output_type": "stream",
          "text": [
            "\n",
            "  9%|▉         | 36/400 [16:33<2:44:01, 27.04s/it]\u001b[A"
          ]
        },
        {
          "metadata": {
            "tags": null
          },
          "name": "stdout",
          "output_type": "stream",
          "text": [
            "Validation set: Loss: 4.77609\n",
            "EarlyStopping counter: 1 out of 10\n",
            "\n",
            "\n",
            "loss: 4.863647  [50182/222542]\n",
            "loss: 4.783373  [101382/222542]\n",
            "loss: 4.693026  [152582/222542]\n",
            "loss: 4.762775  [203782/222542]\n"
          ]
        },
        {
          "metadata": {
            "tags": null
          },
          "name": "stderr",
          "output_type": "stream",
          "text": [
            "\n",
            "  9%|▉         | 37/400 [17:00<2:43:05, 26.96s/it]\u001b[A"
          ]
        },
        {
          "metadata": {
            "tags": null
          },
          "name": "stdout",
          "output_type": "stream",
          "text": [
            "Validation set: Loss: 4.77555\n",
            "Validation loss decreased (4.776081 --> 4.775546).  Saving model ...\n",
            "\n",
            "\n",
            "loss: 4.799820  [50182/222542]\n",
            "loss: 4.810781  [101382/222542]\n",
            "loss: 4.794000  [152582/222542]\n",
            "loss: 4.711967  [203782/222542]\n"
          ]
        },
        {
          "metadata": {
            "tags": null
          },
          "name": "stderr",
          "output_type": "stream",
          "text": [
            "\n",
            " 10%|▉         | 38/400 [17:27<2:42:54, 27.00s/it]\u001b[A"
          ]
        },
        {
          "metadata": {
            "tags": null
          },
          "name": "stdout",
          "output_type": "stream",
          "text": [
            "Validation set: Loss: 4.77549\n",
            "Validation loss decreased (4.775546 --> 4.775486).  Saving model ...\n",
            "\n",
            "\n",
            "loss: 4.739048  [50182/222542]\n",
            "loss: 4.809646  [101382/222542]\n",
            "loss: 4.819922  [152582/222542]\n",
            "loss: 4.828624  [203782/222542]\n"
          ]
        },
        {
          "metadata": {
            "tags": null
          },
          "name": "stderr",
          "output_type": "stream",
          "text": [
            "\n",
            " 10%|▉         | 39/400 [17:55<2:44:09, 27.28s/it]\u001b[A"
          ]
        },
        {
          "metadata": {
            "tags": null
          },
          "name": "stdout",
          "output_type": "stream",
          "text": [
            "Validation set: Loss: 4.77505\n",
            "Validation loss decreased (4.775486 --> 4.775051).  Saving model ...\n",
            "\n",
            "\n",
            "loss: 4.744635  [50182/222542]\n",
            "loss: 4.763436  [101382/222542]\n",
            "loss: 4.738263  [152582/222542]\n",
            "loss: 4.769840  [203782/222542]\n"
          ]
        },
        {
          "metadata": {
            "tags": null
          },
          "name": "stderr",
          "output_type": "stream",
          "text": [
            "\n",
            " 10%|█         | 40/400 [18:22<2:44:27, 27.41s/it]\u001b[A"
          ]
        },
        {
          "metadata": {
            "tags": null
          },
          "name": "stdout",
          "output_type": "stream",
          "text": [
            "Validation set: Loss: 4.77477\n",
            "Validation loss decreased (4.775051 --> 4.774767).  Saving model ...\n",
            "\n",
            "\n",
            "loss: 4.805134  [50182/222542]\n",
            "loss: 4.748644  [101382/222542]\n",
            "loss: 4.736606  [152582/222542]\n",
            "loss: 4.722189  [203782/222542]\n"
          ]
        },
        {
          "metadata": {
            "tags": null
          },
          "name": "stderr",
          "output_type": "stream",
          "text": [
            "\n",
            " 10%|█         | 41/400 [18:49<2:43:03, 27.25s/it]\u001b[A"
          ]
        },
        {
          "metadata": {
            "tags": null
          },
          "name": "stdout",
          "output_type": "stream",
          "text": [
            "Validation set: Loss: 4.77487\n",
            "EarlyStopping counter: 1 out of 10\n",
            "\n",
            "\n",
            "loss: 4.765397  [50182/222542]\n",
            "loss: 4.831185  [101382/222542]\n",
            "loss: 4.732764  [152582/222542]\n",
            "loss: 4.798197  [203782/222542]\n"
          ]
        },
        {
          "metadata": {
            "tags": null
          },
          "name": "stderr",
          "output_type": "stream",
          "text": [
            "\n",
            " 10%|█         | 42/400 [19:16<2:42:19, 27.21s/it]\u001b[A"
          ]
        },
        {
          "metadata": {
            "tags": null
          },
          "name": "stdout",
          "output_type": "stream",
          "text": [
            "Validation set: Loss: 4.77471\n",
            "Validation loss decreased (4.774767 --> 4.774705).  Saving model ...\n",
            "\n",
            "\n",
            "loss: 4.832902  [50182/222542]\n",
            "loss: 4.785465  [101382/222542]\n",
            "loss: 4.748611  [152582/222542]\n",
            "loss: 4.783982  [203782/222542]\n"
          ]
        },
        {
          "metadata": {
            "tags": null
          },
          "name": "stderr",
          "output_type": "stream",
          "text": [
            "\n",
            " 11%|█         | 43/400 [19:43<2:41:16, 27.11s/it]\u001b[A"
          ]
        },
        {
          "metadata": {
            "tags": null
          },
          "name": "stdout",
          "output_type": "stream",
          "text": [
            "Validation set: Loss: 4.77469\n",
            "Validation loss decreased (4.774705 --> 4.774686).  Saving model ...\n",
            "\n",
            "\n",
            "loss: 4.777808  [50182/222542]\n",
            "loss: 4.735858  [101382/222542]\n",
            "loss: 4.861090  [152582/222542]\n",
            "loss: 4.752522  [203782/222542]\n"
          ]
        },
        {
          "metadata": {
            "tags": null
          },
          "name": "stderr",
          "output_type": "stream",
          "text": [
            "\n",
            " 11%|█         | 44/400 [20:10<2:40:49, 27.11s/it]\u001b[A"
          ]
        },
        {
          "metadata": {
            "tags": null
          },
          "name": "stdout",
          "output_type": "stream",
          "text": [
            "Validation set: Loss: 4.77457\n",
            "Validation loss decreased (4.774686 --> 4.774568).  Saving model ...\n",
            "\n",
            "\n",
            "loss: 4.720507  [50182/222542]\n",
            "loss: 4.744921  [101382/222542]\n",
            "loss: 4.849521  [152582/222542]\n",
            "loss: 4.819012  [203782/222542]\n"
          ]
        },
        {
          "metadata": {
            "tags": null
          },
          "name": "stderr",
          "output_type": "stream",
          "text": [
            "\n",
            " 11%|█▏        | 45/400 [20:37<2:40:27, 27.12s/it]\u001b[A"
          ]
        },
        {
          "metadata": {
            "tags": null
          },
          "name": "stdout",
          "output_type": "stream",
          "text": [
            "Validation set: Loss: 4.77413\n",
            "Validation loss decreased (4.774568 --> 4.774127).  Saving model ...\n",
            "\n",
            "\n",
            "loss: 4.646306  [50182/222542]\n",
            "loss: 4.758640  [101382/222542]\n",
            "loss: 4.765472  [152582/222542]\n",
            "loss: 4.769999  [203782/222542]\n"
          ]
        },
        {
          "metadata": {
            "tags": null
          },
          "name": "stderr",
          "output_type": "stream",
          "text": [
            "\n",
            " 12%|█▏        | 46/400 [21:04<2:39:18, 27.00s/it]\u001b[A"
          ]
        },
        {
          "metadata": {
            "tags": null
          },
          "name": "stdout",
          "output_type": "stream",
          "text": [
            "Validation set: Loss: 4.77404\n",
            "Validation loss decreased (4.774127 --> 4.774036).  Saving model ...\n",
            "\n",
            "\n",
            "loss: 4.778293  [50182/222542]\n",
            "loss: 4.756609  [101382/222542]\n",
            "loss: 4.804672  [152582/222542]\n",
            "loss: 4.740930  [203782/222542]\n"
          ]
        },
        {
          "metadata": {
            "tags": null
          },
          "name": "stderr",
          "output_type": "stream",
          "text": [
            "\n",
            " 12%|█▏        | 47/400 [21:31<2:38:47, 26.99s/it]\u001b[A"
          ]
        },
        {
          "metadata": {
            "tags": null
          },
          "name": "stdout",
          "output_type": "stream",
          "text": [
            "Validation set: Loss: 4.77415\n",
            "EarlyStopping counter: 1 out of 10\n",
            "\n",
            "\n",
            "loss: 4.742560  [50182/222542]\n",
            "loss: 4.713602  [101382/222542]\n",
            "loss: 4.848415  [152582/222542]\n",
            "loss: 4.807729  [203782/222542]\n"
          ]
        },
        {
          "metadata": {
            "tags": null
          },
          "name": "stderr",
          "output_type": "stream",
          "text": [
            "\n",
            " 12%|█▏        | 48/400 [21:59<2:39:28, 27.18s/it]\u001b[A"
          ]
        },
        {
          "metadata": {
            "tags": null
          },
          "name": "stdout",
          "output_type": "stream",
          "text": [
            "Validation set: Loss: 4.77385\n",
            "Validation loss decreased (4.774036 --> 4.773847).  Saving model ...\n",
            "\n",
            "\n",
            "loss: 4.753933  [50182/222542]\n",
            "loss: 4.837603  [101382/222542]\n",
            "loss: 4.689626  [152582/222542]\n",
            "loss: 4.697222  [203782/222542]\n"
          ]
        },
        {
          "metadata": {
            "tags": null
          },
          "name": "stderr",
          "output_type": "stream",
          "text": [
            "\n",
            " 12%|█▏        | 49/400 [22:27<2:40:14, 27.39s/it]\u001b[A"
          ]
        },
        {
          "metadata": {
            "tags": null
          },
          "name": "stdout",
          "output_type": "stream",
          "text": [
            "Validation set: Loss: 4.77348\n",
            "Validation loss decreased (4.773847 --> 4.773479).  Saving model ...\n",
            "\n",
            "\n",
            "loss: 4.730646  [50182/222542]\n",
            "loss: 4.805003  [101382/222542]\n",
            "loss: 4.836964  [152582/222542]\n",
            "loss: 4.815380  [203782/222542]\n"
          ]
        },
        {
          "metadata": {
            "tags": null
          },
          "name": "stderr",
          "output_type": "stream",
          "text": [
            "\n",
            " 12%|█▎        | 50/400 [22:54<2:39:13, 27.30s/it]\u001b[A"
          ]
        },
        {
          "metadata": {
            "tags": null
          },
          "name": "stdout",
          "output_type": "stream",
          "text": [
            "Validation set: Loss: 4.77365\n",
            "EarlyStopping counter: 1 out of 10\n",
            "\n",
            "\n",
            "loss: 4.794284  [50182/222542]\n",
            "loss: 4.751259  [101382/222542]\n",
            "loss: 4.775045  [152582/222542]\n",
            "loss: 4.813997  [203782/222542]\n"
          ]
        },
        {
          "metadata": {
            "tags": null
          },
          "name": "stderr",
          "output_type": "stream",
          "text": [
            "\n",
            " 13%|█▎        | 51/400 [23:21<2:38:20, 27.22s/it]\u001b[A"
          ]
        },
        {
          "metadata": {
            "tags": null
          },
          "name": "stdout",
          "output_type": "stream",
          "text": [
            "Validation set: Loss: 4.77367\n",
            "EarlyStopping counter: 2 out of 10\n",
            "\n",
            "\n",
            "loss: 4.735061  [50182/222542]\n",
            "loss: 4.746308  [101382/222542]\n",
            "loss: 4.781622  [152582/222542]\n",
            "loss: 4.792709  [203782/222542]\n"
          ]
        },
        {
          "metadata": {
            "tags": null
          },
          "name": "stderr",
          "output_type": "stream",
          "text": [
            "\n",
            " 13%|█▎        | 52/400 [23:48<2:37:32, 27.16s/it]\u001b[A"
          ]
        },
        {
          "metadata": {
            "tags": null
          },
          "name": "stdout",
          "output_type": "stream",
          "text": [
            "Validation set: Loss: 4.77318\n",
            "Validation loss decreased (4.773479 --> 4.773181).  Saving model ...\n",
            "\n",
            "\n",
            "loss: 4.770947  [50182/222542]\n",
            "loss: 4.767350  [101382/222542]\n",
            "loss: 4.794685  [152582/222542]\n",
            "loss: 4.806242  [203782/222542]\n"
          ]
        },
        {
          "metadata": {
            "tags": null
          },
          "name": "stderr",
          "output_type": "stream",
          "text": [
            "\n",
            " 13%|█▎        | 53/400 [24:15<2:36:57, 27.14s/it]\u001b[A"
          ]
        },
        {
          "metadata": {
            "tags": null
          },
          "name": "stdout",
          "output_type": "stream",
          "text": [
            "Validation set: Loss: 4.77362\n",
            "EarlyStopping counter: 1 out of 10\n",
            "\n",
            "\n",
            "loss: 4.759770  [50182/222542]\n",
            "loss: 4.686402  [101382/222542]\n",
            "loss: 4.718152  [152582/222542]\n",
            "loss: 4.834675  [203782/222542]\n"
          ]
        },
        {
          "metadata": {
            "tags": null
          },
          "name": "stderr",
          "output_type": "stream",
          "text": [
            "\n",
            " 14%|█▎        | 54/400 [24:42<2:36:19, 27.11s/it]\u001b[A"
          ]
        },
        {
          "metadata": {
            "tags": null
          },
          "name": "stdout",
          "output_type": "stream",
          "text": [
            "Validation set: Loss: 4.77333\n",
            "EarlyStopping counter: 2 out of 10\n",
            "\n",
            "\n",
            "loss: 4.869108  [50182/222542]\n",
            "loss: 4.742852  [101382/222542]\n",
            "loss: 4.787776  [152582/222542]\n",
            "loss: 4.722165  [203782/222542]\n"
          ]
        },
        {
          "metadata": {
            "tags": null
          },
          "name": "stderr",
          "output_type": "stream",
          "text": [
            "\n",
            " 14%|█▍        | 55/400 [25:09<2:35:31, 27.05s/it]\u001b[A"
          ]
        },
        {
          "metadata": {
            "tags": null
          },
          "name": "stdout",
          "output_type": "stream",
          "text": [
            "Validation set: Loss: 4.77282\n",
            "Validation loss decreased (4.773181 --> 4.772817).  Saving model ...\n",
            "\n",
            "\n",
            "loss: 4.744471  [50182/222542]\n",
            "loss: 4.833973  [101382/222542]\n",
            "loss: 4.782629  [152582/222542]\n",
            "loss: 4.727514  [203782/222542]\n"
          ]
        },
        {
          "metadata": {
            "tags": null
          },
          "name": "stderr",
          "output_type": "stream",
          "text": [
            "\n",
            " 14%|█▍        | 56/400 [25:37<2:37:19, 27.44s/it]\u001b[A"
          ]
        },
        {
          "metadata": {
            "tags": null
          },
          "name": "stdout",
          "output_type": "stream",
          "text": [
            "Validation set: Loss: 4.77302\n",
            "EarlyStopping counter: 1 out of 10\n",
            "\n",
            "\n",
            "loss: 4.722031  [50182/222542]\n",
            "loss: 4.741580  [101382/222542]\n",
            "loss: 4.798256  [152582/222542]\n",
            "loss: 4.743827  [203782/222542]\n"
          ]
        },
        {
          "metadata": {
            "tags": null
          },
          "name": "stderr",
          "output_type": "stream",
          "text": [
            "\n",
            " 14%|█▍        | 57/400 [26:06<2:38:51, 27.79s/it]\u001b[A"
          ]
        },
        {
          "metadata": {
            "tags": null
          },
          "name": "stdout",
          "output_type": "stream",
          "text": [
            "Validation set: Loss: 4.77276\n",
            "Validation loss decreased (4.772817 --> 4.772760).  Saving model ...\n",
            "\n",
            "\n",
            "loss: 4.812299  [50182/222542]\n",
            "loss: 4.786697  [101382/222542]\n",
            "loss: 4.764047  [152582/222542]\n",
            "loss: 4.739275  [203782/222542]\n"
          ]
        },
        {
          "metadata": {
            "tags": null
          },
          "name": "stderr",
          "output_type": "stream",
          "text": [
            "\n",
            " 14%|█▍        | 58/400 [26:34<2:38:58, 27.89s/it]\u001b[A"
          ]
        },
        {
          "metadata": {
            "tags": null
          },
          "name": "stdout",
          "output_type": "stream",
          "text": [
            "Validation set: Loss: 4.77256\n",
            "Validation loss decreased (4.772760 --> 4.772558).  Saving model ...\n",
            "\n",
            "\n",
            "loss: 4.833833  [50182/222542]\n",
            "loss: 4.768752  [101382/222542]\n",
            "loss: 4.747670  [152582/222542]\n",
            "loss: 4.777840  [203782/222542]\n"
          ]
        },
        {
          "metadata": {
            "tags": null
          },
          "name": "stderr",
          "output_type": "stream",
          "text": [
            "\n",
            " 15%|█▍        | 59/400 [27:02<2:39:16, 28.03s/it]\u001b[A"
          ]
        },
        {
          "metadata": {
            "tags": null
          },
          "name": "stdout",
          "output_type": "stream",
          "text": [
            "Validation set: Loss: 4.77264\n",
            "EarlyStopping counter: 1 out of 10\n",
            "\n",
            "\n",
            "loss: 4.731038  [50182/222542]\n",
            "loss: 4.774538  [101382/222542]\n",
            "loss: 4.886054  [152582/222542]\n",
            "loss: 4.659704  [203782/222542]\n"
          ]
        },
        {
          "metadata": {
            "tags": null
          },
          "name": "stderr",
          "output_type": "stream",
          "text": [
            "\n",
            " 15%|█▌        | 60/400 [27:30<2:38:45, 28.02s/it]\u001b[A"
          ]
        },
        {
          "metadata": {
            "tags": null
          },
          "name": "stdout",
          "output_type": "stream",
          "text": [
            "Validation set: Loss: 4.77242\n",
            "Validation loss decreased (4.772558 --> 4.772424).  Saving model ...\n",
            "\n",
            "\n",
            "loss: 4.735518  [50182/222542]\n",
            "loss: 4.716595  [101382/222542]\n",
            "loss: 4.824982  [152582/222542]\n",
            "loss: 4.852824  [203782/222542]\n"
          ]
        },
        {
          "metadata": {
            "tags": null
          },
          "name": "stderr",
          "output_type": "stream",
          "text": [
            "\n",
            " 15%|█▌        | 61/400 [27:59<2:39:52, 28.30s/it]\u001b[A"
          ]
        },
        {
          "metadata": {
            "tags": null
          },
          "name": "stdout",
          "output_type": "stream",
          "text": [
            "Validation set: Loss: 4.77224\n",
            "Validation loss decreased (4.772424 --> 4.772242).  Saving model ...\n",
            "\n",
            "\n",
            "loss: 4.871598  [50182/222542]\n",
            "loss: 4.804079  [101382/222542]\n",
            "loss: 4.740290  [152582/222542]\n",
            "loss: 4.786171  [203782/222542]\n"
          ]
        },
        {
          "metadata": {
            "tags": null
          },
          "name": "stderr",
          "output_type": "stream",
          "text": [
            "\n",
            " 16%|█▌        | 62/400 [28:27<2:38:33, 28.15s/it]\u001b[A"
          ]
        },
        {
          "metadata": {
            "tags": null
          },
          "name": "stdout",
          "output_type": "stream",
          "text": [
            "Validation set: Loss: 4.77200\n",
            "Validation loss decreased (4.772242 --> 4.772002).  Saving model ...\n",
            "\n",
            "\n",
            "loss: 4.762516  [50182/222542]\n",
            "loss: 4.766838  [101382/222542]\n",
            "loss: 4.782382  [152582/222542]\n",
            "loss: 4.810081  [203782/222542]\n"
          ]
        },
        {
          "metadata": {
            "tags": null
          },
          "name": "stderr",
          "output_type": "stream",
          "text": [
            "\n",
            " 16%|█▌        | 63/400 [28:55<2:38:01, 28.13s/it]\u001b[A"
          ]
        },
        {
          "metadata": {
            "tags": null
          },
          "name": "stdout",
          "output_type": "stream",
          "text": [
            "Validation set: Loss: 4.77190\n",
            "Validation loss decreased (4.772002 --> 4.771900).  Saving model ...\n",
            "\n",
            "\n",
            "loss: 4.790859  [50182/222542]\n",
            "loss: 4.815989  [101382/222542]\n",
            "loss: 4.804948  [152582/222542]\n",
            "loss: 4.774759  [203782/222542]\n"
          ]
        },
        {
          "metadata": {
            "tags": null
          },
          "name": "stderr",
          "output_type": "stream",
          "text": [
            "\n",
            " 16%|█▌        | 64/400 [29:24<2:38:26, 28.29s/it]\u001b[A"
          ]
        },
        {
          "metadata": {
            "tags": null
          },
          "name": "stdout",
          "output_type": "stream",
          "text": [
            "Validation set: Loss: 4.77194\n",
            "EarlyStopping counter: 1 out of 10\n",
            "\n",
            "\n",
            "loss: 4.718155  [50182/222542]\n",
            "loss: 4.690298  [101382/222542]\n",
            "loss: 4.711230  [152582/222542]\n",
            "loss: 4.778201  [203782/222542]\n"
          ]
        },
        {
          "metadata": {
            "tags": null
          },
          "name": "stderr",
          "output_type": "stream",
          "text": [
            "\n",
            " 16%|█▋        | 65/400 [29:52<2:37:19, 28.18s/it]\u001b[A"
          ]
        },
        {
          "metadata": {
            "tags": null
          },
          "name": "stdout",
          "output_type": "stream",
          "text": [
            "Validation set: Loss: 4.77182\n",
            "Validation loss decreased (4.771900 --> 4.771818).  Saving model ...\n",
            "\n",
            "\n",
            "loss: 4.783668  [50182/222542]\n",
            "loss: 4.760598  [101382/222542]\n",
            "loss: 4.774179  [152582/222542]\n",
            "loss: 4.838481  [203782/222542]\n"
          ]
        },
        {
          "metadata": {
            "tags": null
          },
          "name": "stderr",
          "output_type": "stream",
          "text": [
            "\n",
            " 16%|█▋        | 66/400 [30:20<2:37:57, 28.37s/it]\u001b[A"
          ]
        },
        {
          "metadata": {
            "tags": null
          },
          "name": "stdout",
          "output_type": "stream",
          "text": [
            "Validation set: Loss: 4.77202\n",
            "EarlyStopping counter: 1 out of 10\n",
            "\n",
            "\n",
            "loss: 4.808589  [50182/222542]\n",
            "loss: 4.755465  [101382/222542]\n",
            "loss: 4.828145  [152582/222542]\n",
            "loss: 4.798145  [203782/222542]\n"
          ]
        },
        {
          "metadata": {
            "tags": null
          },
          "name": "stderr",
          "output_type": "stream",
          "text": [
            "\n",
            " 17%|█▋        | 67/400 [30:50<2:39:42, 28.78s/it]\u001b[A"
          ]
        },
        {
          "metadata": {
            "tags": null
          },
          "name": "stdout",
          "output_type": "stream",
          "text": [
            "Validation set: Loss: 4.77187\n",
            "EarlyStopping counter: 2 out of 10\n",
            "\n",
            "\n",
            "loss: 4.738592  [50182/222542]\n",
            "loss: 4.720753  [101382/222542]\n",
            "loss: 4.811207  [152582/222542]\n",
            "loss: 4.831946  [203782/222542]\n"
          ]
        },
        {
          "metadata": {
            "tags": null
          },
          "name": "stderr",
          "output_type": "stream",
          "text": [
            "\n",
            " 17%|█▋        | 68/400 [31:20<2:41:14, 29.14s/it]\u001b[A"
          ]
        },
        {
          "metadata": {
            "tags": null
          },
          "name": "stdout",
          "output_type": "stream",
          "text": [
            "Validation set: Loss: 4.77203\n",
            "EarlyStopping counter: 3 out of 10\n",
            "\n",
            "\n",
            "loss: 4.763402  [50182/222542]\n",
            "loss: 4.752976  [101382/222542]\n",
            "loss: 4.766167  [152582/222542]\n",
            "loss: 4.764709  [203782/222542]\n"
          ]
        },
        {
          "metadata": {
            "tags": null
          },
          "name": "stderr",
          "output_type": "stream",
          "text": [
            "\n",
            " 17%|█▋        | 69/400 [31:48<2:38:59, 28.82s/it]\u001b[A"
          ]
        },
        {
          "metadata": {
            "tags": null
          },
          "name": "stdout",
          "output_type": "stream",
          "text": [
            "Validation set: Loss: 4.77178\n",
            "Validation loss decreased (4.771818 --> 4.771782).  Saving model ...\n",
            "\n",
            "\n",
            "loss: 4.838851  [50182/222542]\n",
            "loss: 4.799969  [101382/222542]\n",
            "loss: 4.762725  [152582/222542]\n",
            "loss: 4.775172  [203782/222542]\n"
          ]
        },
        {
          "metadata": {
            "tags": null
          },
          "name": "stderr",
          "output_type": "stream",
          "text": [
            "\n",
            " 18%|█▊        | 70/400 [32:17<2:38:18, 28.78s/it]\u001b[A"
          ]
        },
        {
          "metadata": {
            "tags": null
          },
          "name": "stdout",
          "output_type": "stream",
          "text": [
            "Validation set: Loss: 4.77144\n",
            "Validation loss decreased (4.771782 --> 4.771436).  Saving model ...\n",
            "\n",
            "\n",
            "loss: 4.817439  [50182/222542]\n",
            "loss: 4.834932  [101382/222542]\n",
            "loss: 4.734146  [152582/222542]\n",
            "loss: 4.714089  [203782/222542]\n"
          ]
        },
        {
          "metadata": {
            "tags": null
          },
          "name": "stderr",
          "output_type": "stream",
          "text": [
            "\n",
            " 18%|█▊        | 71/400 [32:44<2:35:49, 28.42s/it]\u001b[A"
          ]
        },
        {
          "metadata": {
            "tags": null
          },
          "name": "stdout",
          "output_type": "stream",
          "text": [
            "Validation set: Loss: 4.77214\n",
            "EarlyStopping counter: 1 out of 10\n",
            "\n",
            "\n",
            "loss: 4.752769  [50182/222542]\n",
            "loss: 4.734150  [101382/222542]\n",
            "loss: 4.857665  [152582/222542]\n",
            "loss: 4.800040  [203782/222542]\n"
          ]
        },
        {
          "metadata": {
            "tags": null
          },
          "name": "stderr",
          "output_type": "stream",
          "text": [
            "\n",
            " 18%|█▊        | 72/400 [33:13<2:35:53, 28.52s/it]\u001b[A"
          ]
        },
        {
          "metadata": {
            "tags": null
          },
          "name": "stdout",
          "output_type": "stream",
          "text": [
            "Validation set: Loss: 4.77196\n",
            "EarlyStopping counter: 2 out of 10\n",
            "\n",
            "\n",
            "loss: 4.723634  [50182/222542]\n",
            "loss: 4.739760  [101382/222542]\n",
            "loss: 4.779106  [152582/222542]\n",
            "loss: 4.741615  [203782/222542]\n"
          ]
        },
        {
          "metadata": {
            "tags": null
          },
          "name": "stderr",
          "output_type": "stream",
          "text": [
            "\n",
            " 18%|█▊        | 73/400 [33:40<2:33:16, 28.12s/it]\u001b[A"
          ]
        },
        {
          "metadata": {
            "tags": null
          },
          "name": "stdout",
          "output_type": "stream",
          "text": [
            "Validation set: Loss: 4.77159\n",
            "EarlyStopping counter: 3 out of 10\n",
            "\n",
            "\n",
            "loss: 4.723561  [50182/222542]\n",
            "loss: 4.782138  [101382/222542]\n",
            "loss: 4.756196  [152582/222542]\n",
            "loss: 4.718379  [203782/222542]\n"
          ]
        },
        {
          "metadata": {
            "tags": null
          },
          "name": "stderr",
          "output_type": "stream",
          "text": [
            "\n",
            " 18%|█▊        | 74/400 [34:08<2:31:10, 27.82s/it]\u001b[A"
          ]
        },
        {
          "metadata": {
            "tags": null
          },
          "name": "stdout",
          "output_type": "stream",
          "text": [
            "Validation set: Loss: 4.77149\n",
            "EarlyStopping counter: 4 out of 10\n",
            "\n",
            "\n",
            "loss: 4.776552  [50182/222542]\n",
            "loss: 4.732934  [101382/222542]\n",
            "loss: 4.805193  [152582/222542]\n",
            "loss: 4.815384  [203782/222542]\n"
          ]
        },
        {
          "metadata": {
            "tags": null
          },
          "name": "stderr",
          "output_type": "stream",
          "text": [
            "\n",
            " 19%|█▉        | 75/400 [34:34<2:28:54, 27.49s/it]\u001b[A"
          ]
        },
        {
          "metadata": {
            "tags": null
          },
          "name": "stdout",
          "output_type": "stream",
          "text": [
            "Validation set: Loss: 4.77135\n",
            "Validation loss decreased (4.771436 --> 4.771352).  Saving model ...\n",
            "\n",
            "\n",
            "loss: 4.815805  [50182/222542]\n",
            "loss: 4.818680  [101382/222542]\n",
            "loss: 4.743604  [152582/222542]\n",
            "loss: 4.927740  [203782/222542]\n"
          ]
        },
        {
          "metadata": {
            "tags": null
          },
          "name": "stderr",
          "output_type": "stream",
          "text": [
            "\n",
            " 19%|█▉        | 76/400 [35:02<2:28:23, 27.48s/it]\u001b[A"
          ]
        },
        {
          "metadata": {
            "tags": null
          },
          "name": "stdout",
          "output_type": "stream",
          "text": [
            "Validation set: Loss: 4.77135\n",
            "EarlyStopping counter: 1 out of 10\n",
            "\n",
            "\n",
            "loss: 4.788504  [50182/222542]\n",
            "loss: 4.769850  [101382/222542]\n",
            "loss: 4.744165  [152582/222542]\n",
            "loss: 4.761092  [203782/222542]\n"
          ]
        },
        {
          "metadata": {
            "tags": null
          },
          "name": "stderr",
          "output_type": "stream",
          "text": [
            "\n",
            " 19%|█▉        | 77/400 [35:31<2:30:42, 27.99s/it]\u001b[A"
          ]
        },
        {
          "metadata": {
            "tags": null
          },
          "name": "stdout",
          "output_type": "stream",
          "text": [
            "Validation set: Loss: 4.77100\n",
            "Validation loss decreased (4.771352 --> 4.771005).  Saving model ...\n",
            "\n",
            "\n",
            "loss: 4.783875  [50182/222542]\n",
            "loss: 4.778904  [101382/222542]\n",
            "loss: 4.777843  [152582/222542]\n",
            "loss: 4.719524  [203782/222542]\n"
          ]
        },
        {
          "metadata": {
            "tags": null
          },
          "name": "stderr",
          "output_type": "stream",
          "text": [
            "\n",
            " 20%|█▉        | 78/400 [36:01<2:34:02, 28.70s/it]\u001b[A"
          ]
        },
        {
          "metadata": {
            "tags": null
          },
          "name": "stdout",
          "output_type": "stream",
          "text": [
            "Validation set: Loss: 4.77103\n",
            "EarlyStopping counter: 1 out of 10\n",
            "\n",
            "\n",
            "loss: 4.789608  [50182/222542]\n",
            "loss: 4.787744  [101382/222542]\n",
            "loss: 4.688194  [152582/222542]\n",
            "loss: 4.826542  [203782/222542]\n"
          ]
        },
        {
          "metadata": {
            "tags": null
          },
          "name": "stderr",
          "output_type": "stream",
          "text": [
            "\n",
            " 20%|█▉        | 79/400 [36:30<2:34:15, 28.83s/it]\u001b[A"
          ]
        },
        {
          "metadata": {
            "tags": null
          },
          "name": "stdout",
          "output_type": "stream",
          "text": [
            "Validation set: Loss: 4.77110\n",
            "EarlyStopping counter: 2 out of 10\n",
            "\n",
            "\n",
            "loss: 4.765421  [50182/222542]\n",
            "loss: 4.781709  [101382/222542]\n",
            "loss: 4.821334  [152582/222542]\n",
            "loss: 4.813675  [203782/222542]\n"
          ]
        },
        {
          "metadata": {
            "tags": null
          },
          "name": "stderr",
          "output_type": "stream",
          "text": [
            "\n",
            " 20%|██        | 80/400 [36:58<2:31:33, 28.42s/it]\u001b[A"
          ]
        },
        {
          "metadata": {
            "tags": null
          },
          "name": "stdout",
          "output_type": "stream",
          "text": [
            "Validation set: Loss: 4.77133\n",
            "EarlyStopping counter: 3 out of 10\n",
            "\n",
            "\n",
            "loss: 4.787402  [50182/222542]\n",
            "loss: 4.706738  [101382/222542]\n",
            "loss: 4.754416  [152582/222542]\n",
            "loss: 4.820418  [203782/222542]\n"
          ]
        },
        {
          "metadata": {
            "tags": null
          },
          "name": "stderr",
          "output_type": "stream",
          "text": [
            "\n",
            " 20%|██        | 81/400 [37:25<2:29:24, 28.10s/it]\u001b[A"
          ]
        },
        {
          "metadata": {
            "tags": null
          },
          "name": "stdout",
          "output_type": "stream",
          "text": [
            "Validation set: Loss: 4.77085\n",
            "Validation loss decreased (4.771005 --> 4.770847).  Saving model ...\n",
            "\n",
            "\n",
            "loss: 4.779143  [50182/222542]\n",
            "loss: 4.806656  [101382/222542]\n",
            "loss: 4.789458  [152582/222542]\n",
            "loss: 4.807936  [203782/222542]\n"
          ]
        },
        {
          "metadata": {
            "tags": null
          },
          "name": "stderr",
          "output_type": "stream",
          "text": [
            "\n",
            " 20%|██        | 82/400 [37:52<2:27:06, 27.76s/it]\u001b[A"
          ]
        },
        {
          "metadata": {
            "tags": null
          },
          "name": "stdout",
          "output_type": "stream",
          "text": [
            "Validation set: Loss: 4.77068\n",
            "Validation loss decreased (4.770847 --> 4.770677).  Saving model ...\n",
            "\n",
            "\n",
            "loss: 4.914482  [50182/222542]\n",
            "loss: 4.749373  [101382/222542]\n",
            "loss: 4.767396  [152582/222542]\n",
            "loss: 4.770317  [203782/222542]\n"
          ]
        },
        {
          "metadata": {
            "tags": null
          },
          "name": "stderr",
          "output_type": "stream",
          "text": [
            "\n",
            " 21%|██        | 83/400 [38:19<2:25:31, 27.54s/it]\u001b[A"
          ]
        },
        {
          "metadata": {
            "tags": null
          },
          "name": "stdout",
          "output_type": "stream",
          "text": [
            "Validation set: Loss: 4.77083\n",
            "EarlyStopping counter: 1 out of 10\n",
            "\n",
            "\n",
            "loss: 4.805270  [50182/222542]\n",
            "loss: 4.757998  [101382/222542]\n",
            "loss: 4.690516  [152582/222542]\n",
            "loss: 4.754330  [203782/222542]\n"
          ]
        },
        {
          "metadata": {
            "tags": null
          },
          "name": "stderr",
          "output_type": "stream",
          "text": [
            "\n",
            " 21%|██        | 84/400 [38:46<2:24:19, 27.41s/it]\u001b[A"
          ]
        },
        {
          "metadata": {
            "tags": null
          },
          "name": "stdout",
          "output_type": "stream",
          "text": [
            "Validation set: Loss: 4.77107\n",
            "EarlyStopping counter: 2 out of 10\n",
            "\n",
            "\n",
            "loss: 4.739115  [50182/222542]\n",
            "loss: 4.803785  [101382/222542]\n",
            "loss: 4.782830  [152582/222542]\n",
            "loss: 4.782868  [203782/222542]\n"
          ]
        },
        {
          "metadata": {
            "tags": null
          },
          "name": "stderr",
          "output_type": "stream",
          "text": [
            "\n",
            " 21%|██▏       | 85/400 [39:14<2:24:01, 27.43s/it]\u001b[A"
          ]
        },
        {
          "metadata": {
            "tags": null
          },
          "name": "stdout",
          "output_type": "stream",
          "text": [
            "Validation set: Loss: 4.77060\n",
            "Validation loss decreased (4.770677 --> 4.770599).  Saving model ...\n",
            "\n",
            "\n",
            "loss: 4.700861  [50182/222542]\n",
            "loss: 4.688334  [101382/222542]\n",
            "loss: 4.826916  [152582/222542]\n",
            "loss: 4.766570  [203782/222542]\n"
          ]
        },
        {
          "metadata": {
            "tags": null
          },
          "name": "stderr",
          "output_type": "stream",
          "text": [
            "\n",
            " 22%|██▏       | 86/400 [39:41<2:22:49, 27.29s/it]\u001b[A"
          ]
        },
        {
          "metadata": {
            "tags": null
          },
          "name": "stdout",
          "output_type": "stream",
          "text": [
            "Validation set: Loss: 4.77058\n",
            "Validation loss decreased (4.770599 --> 4.770579).  Saving model ...\n",
            "\n",
            "\n",
            "loss: 4.778459  [50182/222542]\n",
            "loss: 4.785105  [101382/222542]\n",
            "loss: 4.743639  [152582/222542]\n",
            "loss: 4.795568  [203782/222542]\n"
          ]
        },
        {
          "metadata": {
            "tags": null
          },
          "name": "stderr",
          "output_type": "stream",
          "text": [
            "\n",
            " 22%|██▏       | 87/400 [40:09<2:24:30, 27.70s/it]\u001b[A"
          ]
        },
        {
          "metadata": {
            "tags": null
          },
          "name": "stdout",
          "output_type": "stream",
          "text": [
            "Validation set: Loss: 4.77074\n",
            "EarlyStopping counter: 1 out of 10\n",
            "\n",
            "\n",
            "loss: 4.737293  [50182/222542]\n",
            "loss: 4.764821  [101382/222542]\n",
            "loss: 4.818547  [152582/222542]\n",
            "loss: 4.825885  [203782/222542]\n"
          ]
        },
        {
          "metadata": {
            "tags": null
          },
          "name": "stderr",
          "output_type": "stream",
          "text": [
            "\n",
            " 22%|██▏       | 88/400 [40:37<2:23:52, 27.67s/it]\u001b[A"
          ]
        },
        {
          "metadata": {
            "tags": null
          },
          "name": "stdout",
          "output_type": "stream",
          "text": [
            "Validation set: Loss: 4.77066\n",
            "EarlyStopping counter: 2 out of 10\n",
            "\n",
            "\n",
            "loss: 4.708858  [50182/222542]\n",
            "loss: 4.844763  [101382/222542]\n",
            "loss: 4.777054  [152582/222542]\n",
            "loss: 4.778489  [203782/222542]\n"
          ]
        },
        {
          "metadata": {
            "tags": null
          },
          "name": "stderr",
          "output_type": "stream",
          "text": [
            "\n",
            " 22%|██▏       | 89/400 [41:04<2:22:50, 27.56s/it]\u001b[A"
          ]
        },
        {
          "metadata": {
            "tags": null
          },
          "name": "stdout",
          "output_type": "stream",
          "text": [
            "Validation set: Loss: 4.77045\n",
            "Validation loss decreased (4.770579 --> 4.770446).  Saving model ...\n",
            "\n",
            "\n",
            "loss: 4.768020  [50182/222542]\n",
            "loss: 4.732166  [101382/222542]\n",
            "loss: 4.799299  [152582/222542]\n",
            "loss: 4.779924  [203782/222542]\n"
          ]
        },
        {
          "metadata": {
            "tags": null
          },
          "name": "stderr",
          "output_type": "stream",
          "text": [
            "\n",
            " 22%|██▎       | 90/400 [41:31<2:21:13, 27.33s/it]\u001b[A"
          ]
        },
        {
          "metadata": {
            "tags": null
          },
          "name": "stdout",
          "output_type": "stream",
          "text": [
            "Validation set: Loss: 4.77046\n",
            "EarlyStopping counter: 1 out of 10\n",
            "\n",
            "\n",
            "loss: 4.770222  [50182/222542]\n",
            "loss: 4.810286  [101382/222542]\n",
            "loss: 4.814912  [152582/222542]\n",
            "loss: 4.784045  [203782/222542]\n"
          ]
        },
        {
          "metadata": {
            "tags": null
          },
          "name": "stderr",
          "output_type": "stream",
          "text": [
            "\n",
            " 23%|██▎       | 91/400 [41:58<2:20:13, 27.23s/it]\u001b[A"
          ]
        },
        {
          "metadata": {
            "tags": null
          },
          "name": "stdout",
          "output_type": "stream",
          "text": [
            "Validation set: Loss: 4.77087\n",
            "EarlyStopping counter: 2 out of 10\n",
            "\n",
            "\n",
            "loss: 4.790403  [50182/222542]\n",
            "loss: 4.787967  [101382/222542]\n",
            "loss: 4.792541  [152582/222542]\n",
            "loss: 4.708773  [203782/222542]\n"
          ]
        },
        {
          "metadata": {
            "tags": null
          },
          "name": "stderr",
          "output_type": "stream",
          "text": [
            "\n",
            " 23%|██▎       | 92/400 [42:26<2:20:25, 27.35s/it]\u001b[A"
          ]
        },
        {
          "metadata": {
            "tags": null
          },
          "name": "stdout",
          "output_type": "stream",
          "text": [
            "Validation set: Loss: 4.77069\n",
            "EarlyStopping counter: 3 out of 10\n",
            "\n",
            "\n",
            "loss: 4.703836  [50182/222542]\n",
            "loss: 4.785285  [101382/222542]\n",
            "loss: 4.752889  [152582/222542]\n",
            "loss: 4.802645  [203782/222542]\n"
          ]
        },
        {
          "metadata": {
            "tags": null
          },
          "name": "stderr",
          "output_type": "stream",
          "text": [
            "\n",
            " 23%|██▎       | 93/400 [42:54<2:21:30, 27.66s/it]\u001b[A"
          ]
        },
        {
          "metadata": {
            "tags": null
          },
          "name": "stdout",
          "output_type": "stream",
          "text": [
            "Validation set: Loss: 4.77045\n",
            "EarlyStopping counter: 4 out of 10\n",
            "\n",
            "\n",
            "loss: 4.887534  [50182/222542]\n",
            "loss: 4.677057  [101382/222542]\n",
            "loss: 4.789145  [152582/222542]\n",
            "loss: 4.772990  [203782/222542]\n"
          ]
        },
        {
          "metadata": {
            "tags": null
          },
          "name": "stderr",
          "output_type": "stream",
          "text": [
            "\n",
            " 24%|██▎       | 94/400 [43:24<2:25:02, 28.44s/it]\u001b[A"
          ]
        },
        {
          "metadata": {
            "tags": null
          },
          "name": "stdout",
          "output_type": "stream",
          "text": [
            "Validation set: Loss: 4.77053\n",
            "EarlyStopping counter: 5 out of 10\n",
            "\n",
            "\n",
            "loss: 4.738186  [50182/222542]\n",
            "loss: 4.696560  [101382/222542]\n",
            "loss: 4.757677  [152582/222542]\n",
            "loss: 4.758296  [203782/222542]\n"
          ]
        },
        {
          "metadata": {
            "tags": null
          },
          "name": "stderr",
          "output_type": "stream",
          "text": [
            "\n",
            " 24%|██▍       | 95/400 [43:52<2:23:51, 28.30s/it]\u001b[A"
          ]
        },
        {
          "metadata": {
            "tags": null
          },
          "name": "stdout",
          "output_type": "stream",
          "text": [
            "Validation set: Loss: 4.77019\n",
            "Validation loss decreased (4.770446 --> 4.770193).  Saving model ...\n",
            "\n",
            "\n",
            "loss: 4.797167  [50182/222542]\n",
            "loss: 4.711092  [101382/222542]\n",
            "loss: 4.761156  [152582/222542]\n",
            "loss: 4.845623  [203782/222542]\n"
          ]
        },
        {
          "metadata": {
            "tags": null
          },
          "name": "stderr",
          "output_type": "stream",
          "text": [
            "\n",
            " 24%|██▍       | 96/400 [44:21<2:23:27, 28.31s/it]\u001b[A"
          ]
        },
        {
          "metadata": {
            "tags": null
          },
          "name": "stdout",
          "output_type": "stream",
          "text": [
            "Validation set: Loss: 4.77102\n",
            "EarlyStopping counter: 1 out of 10\n",
            "\n",
            "\n",
            "loss: 4.762651  [50182/222542]\n",
            "loss: 4.818481  [101382/222542]\n",
            "loss: 4.712092  [152582/222542]\n",
            "loss: 4.728032  [203782/222542]\n"
          ]
        },
        {
          "metadata": {
            "tags": null
          },
          "name": "stderr",
          "output_type": "stream",
          "text": [
            "\n",
            " 24%|██▍       | 97/400 [44:48<2:21:04, 27.94s/it]\u001b[A"
          ]
        },
        {
          "metadata": {
            "tags": null
          },
          "name": "stdout",
          "output_type": "stream",
          "text": [
            "Validation set: Loss: 4.77034\n",
            "EarlyStopping counter: 2 out of 10\n",
            "\n",
            "\n",
            "loss: 4.813198  [50182/222542]\n",
            "loss: 4.757966  [101382/222542]\n",
            "loss: 4.792787  [152582/222542]\n",
            "loss: 4.746352  [203782/222542]\n"
          ]
        },
        {
          "metadata": {
            "tags": null
          },
          "name": "stderr",
          "output_type": "stream",
          "text": [
            "\n",
            " 24%|██▍       | 98/400 [45:15<2:19:25, 27.70s/it]\u001b[A"
          ]
        },
        {
          "metadata": {
            "tags": null
          },
          "name": "stdout",
          "output_type": "stream",
          "text": [
            "Validation set: Loss: 4.77050\n",
            "EarlyStopping counter: 3 out of 10\n",
            "\n",
            "\n",
            "loss: 4.740170  [50182/222542]\n",
            "loss: 4.747961  [101382/222542]\n",
            "loss: 4.739920  [152582/222542]\n",
            "loss: 4.775309  [203782/222542]\n"
          ]
        },
        {
          "metadata": {
            "tags": null
          },
          "name": "stderr",
          "output_type": "stream",
          "text": [
            "\n",
            " 25%|██▍       | 99/400 [45:42<2:17:40, 27.44s/it]\u001b[A"
          ]
        },
        {
          "metadata": {
            "tags": null
          },
          "name": "stdout",
          "output_type": "stream",
          "text": [
            "Validation set: Loss: 4.77032\n",
            "EarlyStopping counter: 4 out of 10\n",
            "\n",
            "\n",
            "loss: 4.729640  [50182/222542]\n",
            "loss: 4.740408  [101382/222542]\n",
            "loss: 4.767044  [152582/222542]\n",
            "loss: 4.721895  [203782/222542]\n"
          ]
        },
        {
          "metadata": {
            "tags": null
          },
          "name": "stderr",
          "output_type": "stream",
          "text": [
            "\n",
            " 25%|██▌       | 100/400 [46:10<2:17:42, 27.54s/it]\u001b[A"
          ]
        },
        {
          "metadata": {
            "tags": null
          },
          "name": "stdout",
          "output_type": "stream",
          "text": [
            "Validation set: Loss: 4.77224\n",
            "EarlyStopping counter: 5 out of 10\n",
            "\n",
            "\n",
            "loss: 4.826218  [50182/222542]\n",
            "loss: 4.752993  [101382/222542]\n",
            "loss: 4.753662  [152582/222542]\n",
            "loss: 4.747424  [203782/222542]\n"
          ]
        },
        {
          "metadata": {
            "tags": null
          },
          "name": "stderr",
          "output_type": "stream",
          "text": [
            "\n",
            " 25%|██▌       | 101/400 [46:37<2:17:45, 27.65s/it]\u001b[A"
          ]
        },
        {
          "metadata": {
            "tags": null
          },
          "name": "stdout",
          "output_type": "stream",
          "text": [
            "Validation set: Loss: 4.77036\n",
            "EarlyStopping counter: 6 out of 10\n",
            "\n",
            "\n",
            "loss: 4.836938  [50182/222542]\n",
            "loss: 4.779948  [101382/222542]\n",
            "loss: 4.892766  [152582/222542]\n",
            "loss: 4.797524  [203782/222542]\n"
          ]
        },
        {
          "metadata": {
            "tags": null
          },
          "name": "stderr",
          "output_type": "stream",
          "text": [
            "\n",
            " 26%|██▌       | 102/400 [47:05<2:17:16, 27.64s/it]\u001b[A"
          ]
        },
        {
          "metadata": {
            "tags": null
          },
          "name": "stdout",
          "output_type": "stream",
          "text": [
            "Validation set: Loss: 4.77028\n",
            "EarlyStopping counter: 7 out of 10\n",
            "\n",
            "\n",
            "loss: 4.781331  [50182/222542]\n",
            "loss: 4.836420  [101382/222542]\n",
            "loss: 4.824071  [152582/222542]\n",
            "loss: 4.752511  [203782/222542]\n"
          ]
        },
        {
          "metadata": {
            "tags": null
          },
          "name": "stderr",
          "output_type": "stream",
          "text": [
            "\n",
            " 26%|██▌       | 103/400 [47:32<2:16:29, 27.57s/it]\u001b[A"
          ]
        },
        {
          "metadata": {
            "tags": null
          },
          "name": "stdout",
          "output_type": "stream",
          "text": [
            "Validation set: Loss: 4.76979\n",
            "Validation loss decreased (4.770193 --> 4.769794).  Saving model ...\n",
            "\n",
            "\n",
            "loss: 4.761822  [50182/222542]\n",
            "loss: 4.748238  [101382/222542]\n",
            "loss: 4.805552  [152582/222542]\n",
            "loss: 4.801726  [203782/222542]\n"
          ]
        },
        {
          "metadata": {
            "tags": null
          },
          "name": "stderr",
          "output_type": "stream",
          "text": [
            "\n",
            " 26%|██▌       | 104/400 [48:00<2:15:34, 27.48s/it]\u001b[A"
          ]
        },
        {
          "metadata": {
            "tags": null
          },
          "name": "stdout",
          "output_type": "stream",
          "text": [
            "Validation set: Loss: 4.76983\n",
            "EarlyStopping counter: 1 out of 10\n",
            "\n",
            "\n",
            "loss: 4.712162  [50182/222542]\n",
            "loss: 4.828989  [101382/222542]\n",
            "loss: 4.791788  [152582/222542]\n",
            "loss: 4.778864  [203782/222542]\n"
          ]
        },
        {
          "metadata": {
            "tags": null
          },
          "name": "stderr",
          "output_type": "stream",
          "text": [
            "\n",
            " 26%|██▋       | 105/400 [48:27<2:15:30, 27.56s/it]\u001b[A"
          ]
        },
        {
          "metadata": {
            "tags": null
          },
          "name": "stdout",
          "output_type": "stream",
          "text": [
            "Validation set: Loss: 4.77031\n",
            "EarlyStopping counter: 2 out of 10\n",
            "\n",
            "\n",
            "loss: 4.852755  [50182/222542]\n",
            "loss: 4.803845  [101382/222542]\n",
            "loss: 4.768828  [152582/222542]\n",
            "loss: 4.715106  [203782/222542]\n"
          ]
        },
        {
          "metadata": {
            "tags": null
          },
          "name": "stderr",
          "output_type": "stream",
          "text": [
            "\n",
            " 26%|██▋       | 106/400 [48:55<2:14:21, 27.42s/it]\u001b[A"
          ]
        },
        {
          "metadata": {
            "tags": null
          },
          "name": "stdout",
          "output_type": "stream",
          "text": [
            "Validation set: Loss: 4.76989\n",
            "EarlyStopping counter: 3 out of 10\n",
            "\n",
            "\n",
            "loss: 4.729912  [50182/222542]\n",
            "loss: 4.801877  [101382/222542]\n",
            "loss: 4.742134  [152582/222542]\n",
            "loss: 4.818821  [203782/222542]\n"
          ]
        },
        {
          "metadata": {
            "tags": null
          },
          "name": "stderr",
          "output_type": "stream",
          "text": [
            "\n",
            " 27%|██▋       | 107/400 [49:23<2:14:55, 27.63s/it]\u001b[A"
          ]
        },
        {
          "metadata": {
            "tags": null
          },
          "name": "stdout",
          "output_type": "stream",
          "text": [
            "Validation set: Loss: 4.76986\n",
            "EarlyStopping counter: 4 out of 10\n",
            "\n",
            "\n",
            "loss: 4.849184  [50182/222542]\n",
            "loss: 4.801014  [101382/222542]\n",
            "loss: 4.796770  [152582/222542]\n",
            "loss: 4.786388  [203782/222542]\n"
          ]
        },
        {
          "metadata": {
            "tags": null
          },
          "name": "stderr",
          "output_type": "stream",
          "text": [
            "\n",
            " 27%|██▋       | 108/400 [49:50<2:14:20, 27.61s/it]\u001b[A"
          ]
        },
        {
          "metadata": {
            "tags": null
          },
          "name": "stdout",
          "output_type": "stream",
          "text": [
            "Validation set: Loss: 4.77065\n",
            "EarlyStopping counter: 5 out of 10\n",
            "\n",
            "\n",
            "loss: 4.728279  [50182/222542]\n",
            "loss: 4.677655  [101382/222542]\n",
            "loss: 4.753995  [152582/222542]\n",
            "loss: 4.704710  [203782/222542]\n"
          ]
        },
        {
          "metadata": {
            "tags": null
          },
          "name": "stderr",
          "output_type": "stream",
          "text": [
            "\n",
            " 27%|██▋       | 109/400 [50:17<2:13:15, 27.48s/it]\u001b[A"
          ]
        },
        {
          "metadata": {
            "tags": null
          },
          "name": "stdout",
          "output_type": "stream",
          "text": [
            "Validation set: Loss: 4.76985\n",
            "EarlyStopping counter: 6 out of 10\n",
            "\n",
            "\n",
            "loss: 4.864871  [50182/222542]\n",
            "loss: 4.719347  [101382/222542]\n",
            "loss: 4.739388  [152582/222542]\n",
            "loss: 4.860981  [203782/222542]\n"
          ]
        },
        {
          "metadata": {
            "tags": null
          },
          "name": "stderr",
          "output_type": "stream",
          "text": [
            "\n",
            " 28%|██▊       | 110/400 [50:45<2:12:22, 27.39s/it]\u001b[A"
          ]
        },
        {
          "metadata": {
            "tags": null
          },
          "name": "stdout",
          "output_type": "stream",
          "text": [
            "Validation set: Loss: 4.77052\n",
            "EarlyStopping counter: 7 out of 10\n",
            "\n",
            "\n",
            "loss: 4.777630  [50182/222542]\n",
            "loss: 4.848057  [101382/222542]\n",
            "loss: 4.806567  [152582/222542]\n",
            "loss: 4.796643  [203782/222542]\n"
          ]
        },
        {
          "metadata": {
            "tags": null
          },
          "name": "stderr",
          "output_type": "stream",
          "text": [
            "\n",
            " 28%|██▊       | 111/400 [51:12<2:11:36, 27.32s/it]\u001b[A"
          ]
        },
        {
          "metadata": {
            "tags": null
          },
          "name": "stdout",
          "output_type": "stream",
          "text": [
            "Validation set: Loss: 4.76995\n",
            "EarlyStopping counter: 8 out of 10\n",
            "\n",
            "\n",
            "loss: 4.772524  [50182/222542]\n",
            "loss: 4.758667  [101382/222542]\n",
            "loss: 4.732175  [152582/222542]\n",
            "loss: 4.704314  [203782/222542]\n"
          ]
        },
        {
          "metadata": {
            "tags": null
          },
          "name": "stderr",
          "output_type": "stream",
          "text": [
            "\n",
            " 28%|██▊       | 112/400 [51:39<2:10:34, 27.20s/it]\u001b[A"
          ]
        },
        {
          "metadata": {
            "tags": null
          },
          "name": "stdout",
          "output_type": "stream",
          "text": [
            "Validation set: Loss: 4.76978\n",
            "Validation loss decreased (4.769794 --> 4.769781).  Saving model ...\n",
            "\n",
            "\n",
            "loss: 4.826068  [50182/222542]\n",
            "loss: 4.791735  [101382/222542]\n",
            "loss: 4.797205  [152582/222542]\n",
            "loss: 4.749485  [203782/222542]\n"
          ]
        },
        {
          "metadata": {
            "tags": null
          },
          "name": "stderr",
          "output_type": "stream",
          "text": [
            "\n",
            " 28%|██▊       | 113/400 [52:06<2:09:56, 27.17s/it]\u001b[A"
          ]
        },
        {
          "metadata": {
            "tags": null
          },
          "name": "stdout",
          "output_type": "stream",
          "text": [
            "Validation set: Loss: 4.76957\n",
            "Validation loss decreased (4.769781 --> 4.769568).  Saving model ...\n",
            "\n",
            "\n",
            "loss: 4.777775  [50182/222542]\n",
            "loss: 4.741020  [101382/222542]\n",
            "loss: 4.776136  [152582/222542]\n",
            "loss: 4.876515  [203782/222542]\n"
          ]
        },
        {
          "metadata": {
            "tags": null
          },
          "name": "stderr",
          "output_type": "stream",
          "text": [
            "\n",
            " 28%|██▊       | 114/400 [52:33<2:09:29, 27.17s/it]\u001b[A"
          ]
        },
        {
          "metadata": {
            "tags": null
          },
          "name": "stdout",
          "output_type": "stream",
          "text": [
            "Validation set: Loss: 4.76959\n",
            "EarlyStopping counter: 1 out of 10\n",
            "\n",
            "\n",
            "loss: 4.774682  [50182/222542]\n",
            "loss: 4.811102  [101382/222542]\n",
            "loss: 4.839053  [152582/222542]\n",
            "loss: 4.791553  [203782/222542]\n"
          ]
        },
        {
          "metadata": {
            "tags": null
          },
          "name": "stderr",
          "output_type": "stream",
          "text": [
            "\n",
            " 29%|██▉       | 115/400 [53:01<2:10:09, 27.40s/it]\u001b[A"
          ]
        },
        {
          "metadata": {
            "tags": null
          },
          "name": "stdout",
          "output_type": "stream",
          "text": [
            "Validation set: Loss: 4.76970\n",
            "EarlyStopping counter: 2 out of 10\n",
            "\n",
            "\n",
            "loss: 4.718929  [50182/222542]\n",
            "loss: 4.815099  [101382/222542]\n",
            "loss: 4.752961  [152582/222542]\n",
            "loss: 4.763106  [203782/222542]\n"
          ]
        },
        {
          "metadata": {
            "tags": null
          },
          "name": "stderr",
          "output_type": "stream",
          "text": [
            "\n",
            " 29%|██▉       | 116/400 [53:28<2:09:54, 27.45s/it]\u001b[A"
          ]
        },
        {
          "output_type": "stream",
          "name": "stdout",
          "text": [
            "Validation set: Loss: 4.76957\n",
            "EarlyStopping counter: 3 out of 10\n",
            "\n",
            "\n",
            "loss: 4.787828  [50182/222542]\n",
            "loss: 4.742928  [101382/222542]\n",
            "loss: 4.742075  [152582/222542]\n",
            "loss: 4.708373  [203782/222542]\n"
          ]
        },
        {
          "output_type": "stream",
          "name": "stderr",
          "text": [
            "\n",
            " 29%|██▉       | 117/400 [53:56<2:09:01, 27.36s/it]\u001b[A"
          ]
        },
        {
          "output_type": "stream",
          "name": "stdout",
          "text": [
            "Validation set: Loss: 4.76945\n",
            "Validation loss decreased (4.769568 --> 4.769452).  Saving model ...\n",
            "\n",
            "\n",
            "loss: 4.719560  [50182/222542]\n",
            "loss: 4.743244  [101382/222542]\n",
            "loss: 4.742907  [152582/222542]\n",
            "loss: 4.704789  [203782/222542]\n"
          ]
        },
        {
          "output_type": "stream",
          "name": "stderr",
          "text": [
            "\n",
            " 30%|██▉       | 118/400 [54:23<2:08:28, 27.34s/it]\u001b[A"
          ]
        },
        {
          "output_type": "stream",
          "name": "stdout",
          "text": [
            "Validation set: Loss: 4.76965\n",
            "EarlyStopping counter: 1 out of 10\n",
            "\n",
            "\n",
            "loss: 4.852377  [50182/222542]\n",
            "loss: 4.721295  [101382/222542]\n",
            "loss: 4.758937  [152582/222542]\n",
            "loss: 4.734724  [203782/222542]\n"
          ]
        },
        {
          "output_type": "stream",
          "name": "stderr",
          "text": [
            "\n",
            " 30%|██▉       | 119/400 [54:50<2:08:09, 27.36s/it]\u001b[A"
          ]
        },
        {
          "output_type": "stream",
          "name": "stdout",
          "text": [
            "Validation set: Loss: 4.76957\n",
            "EarlyStopping counter: 2 out of 10\n",
            "\n",
            "\n",
            "loss: 4.701722  [50182/222542]\n"
          ]
        }
      ]
    }
  ]
}