{
  "cells": [
    {
      "cell_type": "code",
      "source": [
        "!git clone https://github.com/pilgrimwanderer/ML1_group_8.git"
      ],
      "metadata": {
        "colab": {
          "base_uri": "https://localhost:8080/"
        },
        "id": "SyEL2TJgXSZ7",
        "outputId": "411b2274-fd2e-4dfc-8df7-157672899a20"
      },
      "execution_count": 1,
      "outputs": [
        {
          "output_type": "stream",
          "name": "stdout",
          "text": [
            "Cloning into 'ML1_group_8'...\n",
            "remote: Enumerating objects: 142, done.\u001b[K\n",
            "remote: Counting objects: 100% (95/95), done.\u001b[K\n",
            "remote: Compressing objects: 100% (58/58), done.\u001b[K\n",
            "remote: Total 142 (delta 25), reused 73 (delta 16), pack-reused 47 (from 1)\u001b[K\n",
            "Receiving objects: 100% (142/142), 76.25 MiB | 16.73 MiB/s, done.\n",
            "Resolving deltas: 100% (25/25), done.\n",
            "Updating files: 100% (39/39), done.\n"
          ]
        }
      ]
    },
    {
      "cell_type": "markdown",
      "metadata": {
        "id": "IcyQbdzwXQqG"
      },
      "source": [
        "### Declaring global variables"
      ]
    },
    {
      "cell_type": "code",
      "execution_count": 2,
      "metadata": {
        "id": "o6qHCFSRXQqH"
      },
      "outputs": [],
      "source": [
        "from src.modeling.model import DNNModel\n",
        "from src.modeling.loss import ZILNLoss, calculate_predictions\n",
        "from src.utils.early_stopping import EarlyStopping\n",
        "from src.utils.data import split_train_val, _to_torch_dataset\n",
        "from src import metrics\n",
        "from src.trainer import ModelTrainer\n",
        "\n",
        "import pandas as pd\n",
        "import numpy as np\n",
        "import os"
      ]
    },
    {
      "cell_type": "code",
      "execution_count": 3,
      "metadata": {
        "id": "3b2nLkkkXQqI"
      },
      "outputs": [],
      "source": [
        "company = '10000'\n",
        "lr = 2e-4\n",
        "num_epochs = 400\n",
        "PATH = 'segmented_data/' #not this"
      ]
    },
    {
      "cell_type": "code",
      "execution_count": 4,
      "metadata": {
        "colab": {
          "base_uri": "https://localhost:8080/",
          "height": 206
        },
        "id": "cCA7Enw6XQqJ",
        "outputId": "9e623907-6dc7-47e2-e58e-bbf5c8d57171"
      },
      "outputs": [
        {
          "output_type": "execute_result",
          "data": {
            "text/plain": [
              "         id  chain  dept  category  brand productmeasure  calibration_value  \\\n",
              "0     86246    205    97      9753      0             CT               0.69   \n",
              "1     86252    205     0         0      0      Not Given               4.69   \n",
              "2  12262064     95    97      9753      0             CT               0.99   \n",
              "3  12277270     95     0         0      0      Not Given               1.99   \n",
              "4  12332190     95    97      9753      0             CT               1.00   \n",
              "\n",
              "   holdout_value  log_calibration_value   label  \n",
              "0         322.73              -0.371064  322.73  \n",
              "1         310.04               1.545433  310.04  \n",
              "2          11.73              -0.010050   11.73  \n",
              "3         139.27               0.688135  139.27  \n",
              "4          11.72               0.000000   11.72  "
            ],
            "text/html": [
              "\n",
              "  <div id=\"df-1c9b7679-2036-4655-9404-71797b794d9a\" class=\"colab-df-container\">\n",
              "    <div>\n",
              "<style scoped>\n",
              "    .dataframe tbody tr th:only-of-type {\n",
              "        vertical-align: middle;\n",
              "    }\n",
              "\n",
              "    .dataframe tbody tr th {\n",
              "        vertical-align: top;\n",
              "    }\n",
              "\n",
              "    .dataframe thead th {\n",
              "        text-align: right;\n",
              "    }\n",
              "</style>\n",
              "<table border=\"1\" class=\"dataframe\">\n",
              "  <thead>\n",
              "    <tr style=\"text-align: right;\">\n",
              "      <th></th>\n",
              "      <th>id</th>\n",
              "      <th>chain</th>\n",
              "      <th>dept</th>\n",
              "      <th>category</th>\n",
              "      <th>brand</th>\n",
              "      <th>productmeasure</th>\n",
              "      <th>calibration_value</th>\n",
              "      <th>holdout_value</th>\n",
              "      <th>log_calibration_value</th>\n",
              "      <th>label</th>\n",
              "    </tr>\n",
              "  </thead>\n",
              "  <tbody>\n",
              "    <tr>\n",
              "      <th>0</th>\n",
              "      <td>86246</td>\n",
              "      <td>205</td>\n",
              "      <td>97</td>\n",
              "      <td>9753</td>\n",
              "      <td>0</td>\n",
              "      <td>CT</td>\n",
              "      <td>0.69</td>\n",
              "      <td>322.73</td>\n",
              "      <td>-0.371064</td>\n",
              "      <td>322.73</td>\n",
              "    </tr>\n",
              "    <tr>\n",
              "      <th>1</th>\n",
              "      <td>86252</td>\n",
              "      <td>205</td>\n",
              "      <td>0</td>\n",
              "      <td>0</td>\n",
              "      <td>0</td>\n",
              "      <td>Not Given</td>\n",
              "      <td>4.69</td>\n",
              "      <td>310.04</td>\n",
              "      <td>1.545433</td>\n",
              "      <td>310.04</td>\n",
              "    </tr>\n",
              "    <tr>\n",
              "      <th>2</th>\n",
              "      <td>12262064</td>\n",
              "      <td>95</td>\n",
              "      <td>97</td>\n",
              "      <td>9753</td>\n",
              "      <td>0</td>\n",
              "      <td>CT</td>\n",
              "      <td>0.99</td>\n",
              "      <td>11.73</td>\n",
              "      <td>-0.010050</td>\n",
              "      <td>11.73</td>\n",
              "    </tr>\n",
              "    <tr>\n",
              "      <th>3</th>\n",
              "      <td>12277270</td>\n",
              "      <td>95</td>\n",
              "      <td>0</td>\n",
              "      <td>0</td>\n",
              "      <td>0</td>\n",
              "      <td>Not Given</td>\n",
              "      <td>1.99</td>\n",
              "      <td>139.27</td>\n",
              "      <td>0.688135</td>\n",
              "      <td>139.27</td>\n",
              "    </tr>\n",
              "    <tr>\n",
              "      <th>4</th>\n",
              "      <td>12332190</td>\n",
              "      <td>95</td>\n",
              "      <td>97</td>\n",
              "      <td>9753</td>\n",
              "      <td>0</td>\n",
              "      <td>CT</td>\n",
              "      <td>1.00</td>\n",
              "      <td>11.72</td>\n",
              "      <td>0.000000</td>\n",
              "      <td>11.72</td>\n",
              "    </tr>\n",
              "  </tbody>\n",
              "</table>\n",
              "</div>\n",
              "    <div class=\"colab-df-buttons\">\n",
              "\n",
              "  <div class=\"colab-df-container\">\n",
              "    <button class=\"colab-df-convert\" onclick=\"convertToInteractive('df-1c9b7679-2036-4655-9404-71797b794d9a')\"\n",
              "            title=\"Convert this dataframe to an interactive table.\"\n",
              "            style=\"display:none;\">\n",
              "\n",
              "  <svg xmlns=\"http://www.w3.org/2000/svg\" height=\"24px\" viewBox=\"0 -960 960 960\">\n",
              "    <path d=\"M120-120v-720h720v720H120Zm60-500h600v-160H180v160Zm220 220h160v-160H400v160Zm0 220h160v-160H400v160ZM180-400h160v-160H180v160Zm440 0h160v-160H620v160ZM180-180h160v-160H180v160Zm440 0h160v-160H620v160Z\"/>\n",
              "  </svg>\n",
              "    </button>\n",
              "\n",
              "  <style>\n",
              "    .colab-df-container {\n",
              "      display:flex;\n",
              "      gap: 12px;\n",
              "    }\n",
              "\n",
              "    .colab-df-convert {\n",
              "      background-color: #E8F0FE;\n",
              "      border: none;\n",
              "      border-radius: 50%;\n",
              "      cursor: pointer;\n",
              "      display: none;\n",
              "      fill: #1967D2;\n",
              "      height: 32px;\n",
              "      padding: 0 0 0 0;\n",
              "      width: 32px;\n",
              "    }\n",
              "\n",
              "    .colab-df-convert:hover {\n",
              "      background-color: #E2EBFA;\n",
              "      box-shadow: 0px 1px 2px rgba(60, 64, 67, 0.3), 0px 1px 3px 1px rgba(60, 64, 67, 0.15);\n",
              "      fill: #174EA6;\n",
              "    }\n",
              "\n",
              "    .colab-df-buttons div {\n",
              "      margin-bottom: 4px;\n",
              "    }\n",
              "\n",
              "    [theme=dark] .colab-df-convert {\n",
              "      background-color: #3B4455;\n",
              "      fill: #D2E3FC;\n",
              "    }\n",
              "\n",
              "    [theme=dark] .colab-df-convert:hover {\n",
              "      background-color: #434B5C;\n",
              "      box-shadow: 0px 1px 3px 1px rgba(0, 0, 0, 0.15);\n",
              "      filter: drop-shadow(0px 1px 2px rgba(0, 0, 0, 0.3));\n",
              "      fill: #FFFFFF;\n",
              "    }\n",
              "  </style>\n",
              "\n",
              "    <script>\n",
              "      const buttonEl =\n",
              "        document.querySelector('#df-1c9b7679-2036-4655-9404-71797b794d9a button.colab-df-convert');\n",
              "      buttonEl.style.display =\n",
              "        google.colab.kernel.accessAllowed ? 'block' : 'none';\n",
              "\n",
              "      async function convertToInteractive(key) {\n",
              "        const element = document.querySelector('#df-1c9b7679-2036-4655-9404-71797b794d9a');\n",
              "        const dataTable =\n",
              "          await google.colab.kernel.invokeFunction('convertToInteractive',\n",
              "                                                    [key], {});\n",
              "        if (!dataTable) return;\n",
              "\n",
              "        const docLinkHtml = 'Like what you see? Visit the ' +\n",
              "          '<a target=\"_blank\" href=https://colab.research.google.com/notebooks/data_table.ipynb>data table notebook</a>'\n",
              "          + ' to learn more about interactive tables.';\n",
              "        element.innerHTML = '';\n",
              "        dataTable['output_type'] = 'display_data';\n",
              "        await google.colab.output.renderOutput(dataTable, element);\n",
              "        const docLink = document.createElement('div');\n",
              "        docLink.innerHTML = docLinkHtml;\n",
              "        element.appendChild(docLink);\n",
              "      }\n",
              "    </script>\n",
              "  </div>\n",
              "\n",
              "\n",
              "<div id=\"df-fdc0aae8-e19a-4475-9cd8-8bee4180012a\">\n",
              "  <button class=\"colab-df-quickchart\" onclick=\"quickchart('df-fdc0aae8-e19a-4475-9cd8-8bee4180012a')\"\n",
              "            title=\"Suggest charts\"\n",
              "            style=\"display:none;\">\n",
              "\n",
              "<svg xmlns=\"http://www.w3.org/2000/svg\" height=\"24px\"viewBox=\"0 0 24 24\"\n",
              "     width=\"24px\">\n",
              "    <g>\n",
              "        <path d=\"M19 3H5c-1.1 0-2 .9-2 2v14c0 1.1.9 2 2 2h14c1.1 0 2-.9 2-2V5c0-1.1-.9-2-2-2zM9 17H7v-7h2v7zm4 0h-2V7h2v10zm4 0h-2v-4h2v4z\"/>\n",
              "    </g>\n",
              "</svg>\n",
              "  </button>\n",
              "\n",
              "<style>\n",
              "  .colab-df-quickchart {\n",
              "      --bg-color: #E8F0FE;\n",
              "      --fill-color: #1967D2;\n",
              "      --hover-bg-color: #E2EBFA;\n",
              "      --hover-fill-color: #174EA6;\n",
              "      --disabled-fill-color: #AAA;\n",
              "      --disabled-bg-color: #DDD;\n",
              "  }\n",
              "\n",
              "  [theme=dark] .colab-df-quickchart {\n",
              "      --bg-color: #3B4455;\n",
              "      --fill-color: #D2E3FC;\n",
              "      --hover-bg-color: #434B5C;\n",
              "      --hover-fill-color: #FFFFFF;\n",
              "      --disabled-bg-color: #3B4455;\n",
              "      --disabled-fill-color: #666;\n",
              "  }\n",
              "\n",
              "  .colab-df-quickchart {\n",
              "    background-color: var(--bg-color);\n",
              "    border: none;\n",
              "    border-radius: 50%;\n",
              "    cursor: pointer;\n",
              "    display: none;\n",
              "    fill: var(--fill-color);\n",
              "    height: 32px;\n",
              "    padding: 0;\n",
              "    width: 32px;\n",
              "  }\n",
              "\n",
              "  .colab-df-quickchart:hover {\n",
              "    background-color: var(--hover-bg-color);\n",
              "    box-shadow: 0 1px 2px rgba(60, 64, 67, 0.3), 0 1px 3px 1px rgba(60, 64, 67, 0.15);\n",
              "    fill: var(--button-hover-fill-color);\n",
              "  }\n",
              "\n",
              "  .colab-df-quickchart-complete:disabled,\n",
              "  .colab-df-quickchart-complete:disabled:hover {\n",
              "    background-color: var(--disabled-bg-color);\n",
              "    fill: var(--disabled-fill-color);\n",
              "    box-shadow: none;\n",
              "  }\n",
              "\n",
              "  .colab-df-spinner {\n",
              "    border: 2px solid var(--fill-color);\n",
              "    border-color: transparent;\n",
              "    border-bottom-color: var(--fill-color);\n",
              "    animation:\n",
              "      spin 1s steps(1) infinite;\n",
              "  }\n",
              "\n",
              "  @keyframes spin {\n",
              "    0% {\n",
              "      border-color: transparent;\n",
              "      border-bottom-color: var(--fill-color);\n",
              "      border-left-color: var(--fill-color);\n",
              "    }\n",
              "    20% {\n",
              "      border-color: transparent;\n",
              "      border-left-color: var(--fill-color);\n",
              "      border-top-color: var(--fill-color);\n",
              "    }\n",
              "    30% {\n",
              "      border-color: transparent;\n",
              "      border-left-color: var(--fill-color);\n",
              "      border-top-color: var(--fill-color);\n",
              "      border-right-color: var(--fill-color);\n",
              "    }\n",
              "    40% {\n",
              "      border-color: transparent;\n",
              "      border-right-color: var(--fill-color);\n",
              "      border-top-color: var(--fill-color);\n",
              "    }\n",
              "    60% {\n",
              "      border-color: transparent;\n",
              "      border-right-color: var(--fill-color);\n",
              "    }\n",
              "    80% {\n",
              "      border-color: transparent;\n",
              "      border-right-color: var(--fill-color);\n",
              "      border-bottom-color: var(--fill-color);\n",
              "    }\n",
              "    90% {\n",
              "      border-color: transparent;\n",
              "      border-bottom-color: var(--fill-color);\n",
              "    }\n",
              "  }\n",
              "</style>\n",
              "\n",
              "  <script>\n",
              "    async function quickchart(key) {\n",
              "      const quickchartButtonEl =\n",
              "        document.querySelector('#' + key + ' button');\n",
              "      quickchartButtonEl.disabled = true;  // To prevent multiple clicks.\n",
              "      quickchartButtonEl.classList.add('colab-df-spinner');\n",
              "      try {\n",
              "        const charts = await google.colab.kernel.invokeFunction(\n",
              "            'suggestCharts', [key], {});\n",
              "      } catch (error) {\n",
              "        console.error('Error during call to suggestCharts:', error);\n",
              "      }\n",
              "      quickchartButtonEl.classList.remove('colab-df-spinner');\n",
              "      quickchartButtonEl.classList.add('colab-df-quickchart-complete');\n",
              "    }\n",
              "    (() => {\n",
              "      let quickchartButtonEl =\n",
              "        document.querySelector('#df-fdc0aae8-e19a-4475-9cd8-8bee4180012a button');\n",
              "      quickchartButtonEl.style.display =\n",
              "        google.colab.kernel.accessAllowed ? 'block' : 'none';\n",
              "    })();\n",
              "  </script>\n",
              "</div>\n",
              "\n",
              "    </div>\n",
              "  </div>\n"
            ],
            "application/vnd.google.colaboratory.intrinsic+json": {
              "type": "dataframe",
              "variable_name": "df"
            }
          },
          "metadata": {},
          "execution_count": 4
        }
      ],
      "source": [
        "df = pd.read_csv(os.path.join(PATH, f'{company}.csv'))\n",
        "df.head()"
      ]
    },
    {
      "cell_type": "markdown",
      "metadata": {
        "id": "4nb6MTF_XQqJ"
      },
      "source": [
        "### Data splitting, convert to PyTorch's dataloader"
      ]
    },
    {
      "cell_type": "code",
      "execution_count": 5,
      "metadata": {
        "id": "s7FG4O9XXQqJ"
      },
      "outputs": [],
      "source": [
        "X_train, X_val, y_train, y_val, y0_val = split_train_val(df, random_state=11, test_size=0.2)\n",
        "train_dataset, train_dataloader = _to_torch_dataset(X_train, y_train, train=True)\n",
        "val_dataset, val_dataloader = _to_torch_dataset(X_val, y_val, train=False)"
      ]
    },
    {
      "cell_type": "markdown",
      "metadata": {
        "id": "H9qM3axYXQqJ"
      },
      "source": [
        "### Training the model"
      ]
    },
    {
      "cell_type": "code",
      "execution_count": 6,
      "metadata": {
        "colab": {
          "base_uri": "https://localhost:8080/"
        },
        "id": "SDV7UV4dXQqJ",
        "outputId": "2749d5b2-2390-4839-b514-797fa074ce48"
      },
      "outputs": [
        {
          "output_type": "stream",
          "name": "stdout",
          "text": [
            "Running on cuda\n"
          ]
        }
      ],
      "source": [
        "import torch\n",
        "device = torch.device('cuda' if torch.cuda.is_available() else 'cpu')\n",
        "print(f\"Running on {device}\")"
      ]
    },
    {
      "cell_type": "code",
      "execution_count": 11,
      "metadata": {
        "colab": {
          "base_uri": "https://localhost:8080/"
        },
        "id": "2C5GRWArXQqJ",
        "outputId": "a06ddd00-1b55-4735-d259-2ebf56bfeb4c"
      },
      "outputs": [
        {
          "output_type": "stream",
          "name": "stdout",
          "text": [
            "Number of trainable parameters: 3635\n"
          ]
        }
      ],
      "source": [
        "model = DNNModel(df, output_units=3) #p, m, s\n",
        "param = (sum(p.numel() for p in model.parameters() if p.requires_grad))\n",
        "print(f\"Number of trainable parameters: {param}\")"
      ]
    },
    {
      "cell_type": "code",
      "execution_count": 12,
      "metadata": {
        "colab": {
          "base_uri": "https://localhost:8080/"
        },
        "id": "oJS9J6AcXQqK",
        "outputId": "7bac32e0-70e3-4cf2-ac25-0e8a589bb866"
      },
      "outputs": [
        {
          "output_type": "stream",
          "name": "stderr",
          "text": [
            "\r  0%|          | 0/400 [00:00<?, ?it/s]"
          ]
        },
        {
          "output_type": "stream",
          "name": "stdout",
          "text": [
            "\n",
            "\n",
            "loss: 7.962977  [50182/187508]\n",
            "loss: 6.234588  [101382/187508]\n",
            "loss: 4.798794  [152582/187508]\n"
          ]
        },
        {
          "output_type": "stream",
          "name": "stderr",
          "text": [
            "\r  0%|          | 1/400 [00:17<1:57:24, 17.66s/it]"
          ]
        },
        {
          "output_type": "stream",
          "name": "stdout",
          "text": [
            "Validation set: Loss: 4.51870\n",
            "Validation loss decreased (inf --> 4.518704).  Saving model ...\n",
            "\n",
            "\n",
            "loss: 4.334064  [50182/187508]\n",
            "loss: 4.267303  [101382/187508]\n",
            "loss: 4.171341  [152582/187508]\n"
          ]
        },
        {
          "output_type": "stream",
          "name": "stderr",
          "text": [
            "\r  0%|          | 2/400 [00:35<1:59:43, 18.05s/it]"
          ]
        },
        {
          "output_type": "stream",
          "name": "stdout",
          "text": [
            "Validation set: Loss: 4.16742\n",
            "Validation loss decreased (4.518704 --> 4.167419).  Saving model ...\n",
            "\n",
            "\n",
            "loss: 4.217095  [50182/187508]\n",
            "loss: 4.068213  [101382/187508]\n",
            "loss: 4.196398  [152582/187508]\n"
          ]
        },
        {
          "output_type": "stream",
          "name": "stderr",
          "text": [
            "\r  1%|          | 3/400 [00:53<1:56:27, 17.60s/it]"
          ]
        },
        {
          "output_type": "stream",
          "name": "stdout",
          "text": [
            "Validation set: Loss: 4.10037\n",
            "Validation loss decreased (4.167419 --> 4.100367).  Saving model ...\n",
            "\n",
            "\n",
            "loss: 4.051877  [50182/187508]\n",
            "loss: 4.021069  [101382/187508]\n",
            "loss: 4.167603  [152582/187508]\n"
          ]
        },
        {
          "output_type": "stream",
          "name": "stderr",
          "text": [
            "\r  1%|          | 4/400 [01:10<1:54:37, 17.37s/it]"
          ]
        },
        {
          "output_type": "stream",
          "name": "stdout",
          "text": [
            "Validation set: Loss: 4.08298\n",
            "Validation loss decreased (4.100367 --> 4.082980).  Saving model ...\n",
            "\n",
            "\n",
            "loss: 4.077417  [50182/187508]\n",
            "loss: 4.054598  [101382/187508]\n",
            "loss: 4.111490  [152582/187508]\n"
          ]
        },
        {
          "output_type": "stream",
          "name": "stderr",
          "text": [
            "\r  1%|▏         | 5/400 [01:28<1:55:44, 17.58s/it]"
          ]
        },
        {
          "output_type": "stream",
          "name": "stdout",
          "text": [
            "Validation set: Loss: 4.07046\n",
            "Validation loss decreased (4.082980 --> 4.070464).  Saving model ...\n",
            "\n",
            "\n",
            "loss: 3.990460  [50182/187508]\n",
            "loss: 4.025172  [101382/187508]\n",
            "loss: 4.035913  [152582/187508]\n"
          ]
        },
        {
          "output_type": "stream",
          "name": "stderr",
          "text": [
            "\r  2%|▏         | 6/400 [01:45<1:55:11, 17.54s/it]"
          ]
        },
        {
          "output_type": "stream",
          "name": "stdout",
          "text": [
            "Validation set: Loss: 4.06188\n",
            "Validation loss decreased (4.070464 --> 4.061876).  Saving model ...\n",
            "\n",
            "\n",
            "loss: 4.034015  [50182/187508]\n",
            "loss: 4.106940  [101382/187508]\n",
            "loss: 4.029196  [152582/187508]\n"
          ]
        },
        {
          "output_type": "stream",
          "name": "stderr",
          "text": [
            "\r  2%|▏         | 7/400 [02:02<1:53:49, 17.38s/it]"
          ]
        },
        {
          "output_type": "stream",
          "name": "stdout",
          "text": [
            "Validation set: Loss: 4.05587\n",
            "Validation loss decreased (4.061876 --> 4.055874).  Saving model ...\n",
            "\n",
            "\n",
            "loss: 4.050174  [50182/187508]\n",
            "loss: 4.098011  [101382/187508]\n",
            "loss: 3.952684  [152582/187508]\n"
          ]
        },
        {
          "output_type": "stream",
          "name": "stderr",
          "text": [
            "\r  2%|▏         | 8/400 [02:19<1:53:08, 17.32s/it]"
          ]
        },
        {
          "output_type": "stream",
          "name": "stdout",
          "text": [
            "Validation set: Loss: 4.05172\n",
            "Validation loss decreased (4.055874 --> 4.051725).  Saving model ...\n",
            "\n",
            "\n",
            "loss: 4.019357  [50182/187508]\n",
            "loss: 4.104008  [101382/187508]\n",
            "loss: 4.094882  [152582/187508]\n"
          ]
        },
        {
          "output_type": "stream",
          "name": "stderr",
          "text": [
            "\r  2%|▏         | 9/400 [02:37<1:54:33, 17.58s/it]"
          ]
        },
        {
          "output_type": "stream",
          "name": "stdout",
          "text": [
            "Validation set: Loss: 4.04854\n",
            "Validation loss decreased (4.051725 --> 4.048539).  Saving model ...\n",
            "\n",
            "\n",
            "loss: 4.093491  [50182/187508]\n",
            "loss: 4.046129  [101382/187508]\n",
            "loss: 4.077194  [152582/187508]\n"
          ]
        },
        {
          "output_type": "stream",
          "name": "stderr",
          "text": [
            "\r  2%|▎         | 10/400 [02:54<1:53:10, 17.41s/it]"
          ]
        },
        {
          "output_type": "stream",
          "name": "stdout",
          "text": [
            "Validation set: Loss: 4.04594\n",
            "Validation loss decreased (4.048539 --> 4.045936).  Saving model ...\n",
            "\n",
            "\n",
            "loss: 4.119672  [50182/187508]\n",
            "loss: 4.102134  [101382/187508]\n",
            "loss: 4.080363  [152582/187508]\n"
          ]
        },
        {
          "output_type": "stream",
          "name": "stderr",
          "text": [
            "\r  3%|▎         | 11/400 [03:11<1:52:09, 17.30s/it]"
          ]
        },
        {
          "output_type": "stream",
          "name": "stdout",
          "text": [
            "Validation set: Loss: 4.04359\n",
            "Validation loss decreased (4.045936 --> 4.043590).  Saving model ...\n",
            "\n",
            "\n",
            "loss: 4.013801  [50182/187508]\n",
            "loss: 4.053383  [101382/187508]\n",
            "loss: 4.045119  [152582/187508]\n"
          ]
        },
        {
          "output_type": "stream",
          "name": "stderr",
          "text": [
            "\r  3%|▎         | 12/400 [03:29<1:52:35, 17.41s/it]"
          ]
        },
        {
          "output_type": "stream",
          "name": "stdout",
          "text": [
            "Validation set: Loss: 4.04146\n",
            "Validation loss decreased (4.043590 --> 4.041463).  Saving model ...\n",
            "\n",
            "\n",
            "loss: 4.060895  [50182/187508]\n",
            "loss: 3.992280  [101382/187508]\n",
            "loss: 4.084716  [152582/187508]\n"
          ]
        },
        {
          "output_type": "stream",
          "name": "stderr",
          "text": [
            "\r  3%|▎         | 13/400 [03:47<1:52:24, 17.43s/it]"
          ]
        },
        {
          "output_type": "stream",
          "name": "stdout",
          "text": [
            "Validation set: Loss: 4.03924\n",
            "Validation loss decreased (4.041463 --> 4.039241).  Saving model ...\n",
            "\n",
            "\n",
            "loss: 4.068563  [50182/187508]\n",
            "loss: 4.146841  [101382/187508]\n",
            "loss: 4.017563  [152582/187508]\n"
          ]
        },
        {
          "output_type": "stream",
          "name": "stderr",
          "text": [
            "\r  4%|▎         | 14/400 [04:04<1:51:35, 17.35s/it]"
          ]
        },
        {
          "output_type": "stream",
          "name": "stdout",
          "text": [
            "Validation set: Loss: 4.03702\n",
            "Validation loss decreased (4.039241 --> 4.037022).  Saving model ...\n",
            "\n",
            "\n",
            "loss: 4.040064  [50182/187508]\n",
            "loss: 3.979053  [101382/187508]\n",
            "loss: 4.114510  [152582/187508]\n"
          ]
        },
        {
          "output_type": "stream",
          "name": "stderr",
          "text": [
            "\r  4%|▍         | 15/400 [04:22<1:52:39, 17.56s/it]"
          ]
        },
        {
          "output_type": "stream",
          "name": "stdout",
          "text": [
            "Validation set: Loss: 4.03504\n",
            "Validation loss decreased (4.037022 --> 4.035041).  Saving model ...\n",
            "\n",
            "\n",
            "loss: 4.085086  [50182/187508]\n",
            "loss: 4.124217  [101382/187508]\n",
            "loss: 3.982885  [152582/187508]\n"
          ]
        },
        {
          "output_type": "stream",
          "name": "stderr",
          "text": [
            "\r  4%|▍         | 16/400 [04:40<1:54:15, 17.85s/it]"
          ]
        },
        {
          "output_type": "stream",
          "name": "stdout",
          "text": [
            "Validation set: Loss: 4.03228\n",
            "Validation loss decreased (4.035041 --> 4.032282).  Saving model ...\n",
            "\n",
            "\n",
            "loss: 4.013644  [50182/187508]\n",
            "loss: 4.014910  [101382/187508]\n",
            "loss: 4.089701  [152582/187508]\n"
          ]
        },
        {
          "output_type": "stream",
          "name": "stderr",
          "text": [
            "\r  4%|▍         | 17/400 [04:57<1:52:35, 17.64s/it]"
          ]
        },
        {
          "output_type": "stream",
          "name": "stdout",
          "text": [
            "Validation set: Loss: 4.03009\n",
            "Validation loss decreased (4.032282 --> 4.030086).  Saving model ...\n",
            "\n",
            "\n",
            "loss: 4.061213  [50182/187508]\n",
            "loss: 4.025236  [101382/187508]\n",
            "loss: 4.037011  [152582/187508]\n"
          ]
        },
        {
          "output_type": "stream",
          "name": "stderr",
          "text": [
            "\r  4%|▍         | 18/400 [05:14<1:50:48, 17.41s/it]"
          ]
        },
        {
          "output_type": "stream",
          "name": "stdout",
          "text": [
            "Validation set: Loss: 4.02800\n",
            "Validation loss decreased (4.030086 --> 4.028004).  Saving model ...\n",
            "\n",
            "\n",
            "loss: 4.013438  [50182/187508]\n",
            "loss: 4.037801  [101382/187508]\n",
            "loss: 4.041911  [152582/187508]\n"
          ]
        },
        {
          "output_type": "stream",
          "name": "stderr",
          "text": [
            "\r  5%|▍         | 19/400 [05:33<1:52:05, 17.65s/it]"
          ]
        },
        {
          "output_type": "stream",
          "name": "stdout",
          "text": [
            "Validation set: Loss: 4.02558\n",
            "Validation loss decreased (4.028004 --> 4.025575).  Saving model ...\n",
            "\n",
            "\n",
            "loss: 3.995115  [50182/187508]\n",
            "loss: 3.961656  [101382/187508]\n",
            "loss: 4.030408  [152582/187508]\n"
          ]
        },
        {
          "output_type": "stream",
          "name": "stderr",
          "text": [
            "\r  5%|▌         | 20/400 [05:51<1:52:22, 17.74s/it]"
          ]
        },
        {
          "output_type": "stream",
          "name": "stdout",
          "text": [
            "Validation set: Loss: 4.02367\n",
            "Validation loss decreased (4.025575 --> 4.023668).  Saving model ...\n",
            "\n",
            "\n",
            "loss: 4.035681  [50182/187508]\n",
            "loss: 4.047688  [101382/187508]\n",
            "loss: 4.078506  [152582/187508]\n"
          ]
        },
        {
          "output_type": "stream",
          "name": "stderr",
          "text": [
            "\r  5%|▌         | 21/400 [06:08<1:51:07, 17.59s/it]"
          ]
        },
        {
          "output_type": "stream",
          "name": "stdout",
          "text": [
            "Validation set: Loss: 4.02151\n",
            "Validation loss decreased (4.023668 --> 4.021512).  Saving model ...\n",
            "\n",
            "\n",
            "loss: 4.078128  [50182/187508]\n",
            "loss: 3.989697  [101382/187508]\n",
            "loss: 4.082603  [152582/187508]\n"
          ]
        },
        {
          "output_type": "stream",
          "name": "stderr",
          "text": [
            "\r  6%|▌         | 22/400 [06:25<1:50:57, 17.61s/it]"
          ]
        },
        {
          "output_type": "stream",
          "name": "stdout",
          "text": [
            "Validation set: Loss: 4.02017\n",
            "Validation loss decreased (4.021512 --> 4.020169).  Saving model ...\n",
            "\n",
            "\n",
            "loss: 4.077254  [50182/187508]\n",
            "loss: 4.092540  [101382/187508]\n",
            "loss: 4.060611  [152582/187508]\n"
          ]
        },
        {
          "output_type": "stream",
          "name": "stderr",
          "text": [
            "\r  6%|▌         | 23/400 [06:44<1:51:59, 17.82s/it]"
          ]
        },
        {
          "output_type": "stream",
          "name": "stdout",
          "text": [
            "Validation set: Loss: 4.01808\n",
            "Validation loss decreased (4.020169 --> 4.018081).  Saving model ...\n",
            "\n",
            "\n",
            "loss: 4.007199  [50182/187508]\n",
            "loss: 3.939136  [101382/187508]\n",
            "loss: 4.072165  [152582/187508]\n"
          ]
        },
        {
          "output_type": "stream",
          "name": "stderr",
          "text": [
            "\r  6%|▌         | 24/400 [07:01<1:51:28, 17.79s/it]"
          ]
        },
        {
          "output_type": "stream",
          "name": "stdout",
          "text": [
            "Validation set: Loss: 4.01644\n",
            "Validation loss decreased (4.018081 --> 4.016445).  Saving model ...\n",
            "\n",
            "\n",
            "loss: 3.976007  [50182/187508]\n",
            "loss: 4.054817  [101382/187508]\n",
            "loss: 4.005559  [152582/187508]\n"
          ]
        },
        {
          "output_type": "stream",
          "name": "stderr",
          "text": [
            "\r  6%|▋         | 25/400 [07:19<1:50:43, 17.72s/it]"
          ]
        },
        {
          "output_type": "stream",
          "name": "stdout",
          "text": [
            "Validation set: Loss: 4.01514\n",
            "Validation loss decreased (4.016445 --> 4.015141).  Saving model ...\n",
            "\n",
            "\n",
            "loss: 4.067524  [50182/187508]\n",
            "loss: 4.011131  [101382/187508]\n",
            "loss: 4.082825  [152582/187508]\n"
          ]
        },
        {
          "output_type": "stream",
          "name": "stderr",
          "text": [
            "\r  6%|▋         | 26/400 [07:38<1:53:30, 18.21s/it]"
          ]
        },
        {
          "output_type": "stream",
          "name": "stdout",
          "text": [
            "Validation set: Loss: 4.01358\n",
            "Validation loss decreased (4.015141 --> 4.013579).  Saving model ...\n",
            "\n",
            "\n",
            "loss: 3.997931  [50182/187508]\n",
            "loss: 4.024275  [101382/187508]\n",
            "loss: 3.987002  [152582/187508]\n"
          ]
        },
        {
          "output_type": "stream",
          "name": "stderr",
          "text": [
            "\r  7%|▋         | 27/400 [07:56<1:51:35, 17.95s/it]"
          ]
        },
        {
          "output_type": "stream",
          "name": "stdout",
          "text": [
            "Validation set: Loss: 4.01216\n",
            "Validation loss decreased (4.013579 --> 4.012161).  Saving model ...\n",
            "\n",
            "\n",
            "loss: 4.002203  [50182/187508]\n",
            "loss: 4.094953  [101382/187508]\n",
            "loss: 3.983461  [152582/187508]\n"
          ]
        },
        {
          "output_type": "stream",
          "name": "stderr",
          "text": [
            "\r  7%|▋         | 28/400 [08:13<1:50:02, 17.75s/it]"
          ]
        },
        {
          "output_type": "stream",
          "name": "stdout",
          "text": [
            "Validation set: Loss: 4.01117\n",
            "Validation loss decreased (4.012161 --> 4.011167).  Saving model ...\n",
            "\n",
            "\n",
            "loss: 3.964541  [50182/187508]\n",
            "loss: 3.942211  [101382/187508]\n",
            "loss: 4.117716  [152582/187508]\n"
          ]
        },
        {
          "output_type": "stream",
          "name": "stderr",
          "text": [
            "\r  7%|▋         | 29/400 [08:32<1:51:20, 18.01s/it]"
          ]
        },
        {
          "output_type": "stream",
          "name": "stdout",
          "text": [
            "Validation set: Loss: 4.01019\n",
            "Validation loss decreased (4.011167 --> 4.010195).  Saving model ...\n",
            "\n",
            "\n",
            "loss: 3.989717  [50182/187508]\n",
            "loss: 4.090599  [101382/187508]\n",
            "loss: 4.018190  [152582/187508]\n"
          ]
        },
        {
          "output_type": "stream",
          "name": "stderr",
          "text": [
            "\r  8%|▊         | 30/400 [08:49<1:49:21, 17.73s/it]"
          ]
        },
        {
          "output_type": "stream",
          "name": "stdout",
          "text": [
            "Validation set: Loss: 4.00926\n",
            "Validation loss decreased (4.010195 --> 4.009257).  Saving model ...\n",
            "\n",
            "\n",
            "loss: 4.019967  [50182/187508]\n",
            "loss: 4.091157  [101382/187508]\n",
            "loss: 4.014163  [152582/187508]\n"
          ]
        },
        {
          "output_type": "stream",
          "name": "stderr",
          "text": [
            "\r  8%|▊         | 31/400 [09:06<1:48:16, 17.61s/it]"
          ]
        },
        {
          "output_type": "stream",
          "name": "stdout",
          "text": [
            "Validation set: Loss: 4.00842\n",
            "Validation loss decreased (4.009257 --> 4.008424).  Saving model ...\n",
            "\n",
            "\n",
            "loss: 4.056320  [50182/187508]\n",
            "loss: 3.983389  [101382/187508]\n",
            "loss: 4.040189  [152582/187508]\n"
          ]
        },
        {
          "output_type": "stream",
          "name": "stderr",
          "text": [
            "\r  8%|▊         | 32/400 [09:24<1:47:53, 17.59s/it]"
          ]
        },
        {
          "output_type": "stream",
          "name": "stdout",
          "text": [
            "Validation set: Loss: 4.00762\n",
            "Validation loss decreased (4.008424 --> 4.007622).  Saving model ...\n",
            "\n",
            "\n",
            "loss: 4.064026  [50182/187508]\n",
            "loss: 3.971022  [101382/187508]\n",
            "loss: 3.924034  [152582/187508]\n"
          ]
        },
        {
          "output_type": "stream",
          "name": "stderr",
          "text": [
            "\r  8%|▊         | 33/400 [09:43<1:51:03, 18.16s/it]"
          ]
        },
        {
          "output_type": "stream",
          "name": "stdout",
          "text": [
            "Validation set: Loss: 4.00706\n",
            "Validation loss decreased (4.007622 --> 4.007063).  Saving model ...\n",
            "\n",
            "\n",
            "loss: 4.041504  [50182/187508]\n",
            "loss: 4.032190  [101382/187508]\n",
            "loss: 3.982281  [152582/187508]\n"
          ]
        },
        {
          "output_type": "stream",
          "name": "stderr",
          "text": [
            "\r  8%|▊         | 34/400 [10:00<1:48:59, 17.87s/it]"
          ]
        },
        {
          "output_type": "stream",
          "name": "stdout",
          "text": [
            "Validation set: Loss: 4.00609\n",
            "Validation loss decreased (4.007063 --> 4.006088).  Saving model ...\n",
            "\n",
            "\n",
            "loss: 4.035126  [50182/187508]\n",
            "loss: 4.037587  [101382/187508]\n",
            "loss: 4.020561  [152582/187508]\n"
          ]
        },
        {
          "output_type": "stream",
          "name": "stderr",
          "text": [
            "\r  9%|▉         | 35/400 [10:17<1:47:37, 17.69s/it]"
          ]
        },
        {
          "output_type": "stream",
          "name": "stdout",
          "text": [
            "Validation set: Loss: 4.00554\n",
            "Validation loss decreased (4.006088 --> 4.005538).  Saving model ...\n",
            "\n",
            "\n",
            "loss: 4.062904  [50182/187508]\n",
            "loss: 4.041508  [101382/187508]\n",
            "loss: 3.985853  [152582/187508]\n"
          ]
        },
        {
          "output_type": "stream",
          "name": "stderr",
          "text": [
            "\r  9%|▉         | 36/400 [10:36<1:48:40, 17.91s/it]"
          ]
        },
        {
          "output_type": "stream",
          "name": "stdout",
          "text": [
            "Validation set: Loss: 4.00495\n",
            "Validation loss decreased (4.005538 --> 4.004947).  Saving model ...\n",
            "\n",
            "\n",
            "loss: 3.934929  [50182/187508]\n",
            "loss: 4.003922  [101382/187508]\n",
            "loss: 4.000571  [152582/187508]\n"
          ]
        },
        {
          "output_type": "stream",
          "name": "stderr",
          "text": [
            "\r  9%|▉         | 37/400 [10:54<1:49:22, 18.08s/it]"
          ]
        },
        {
          "output_type": "stream",
          "name": "stdout",
          "text": [
            "Validation set: Loss: 4.00492\n",
            "Validation loss decreased (4.004947 --> 4.004923).  Saving model ...\n",
            "\n",
            "\n",
            "loss: 3.930885  [50182/187508]\n",
            "loss: 3.962240  [101382/187508]\n",
            "loss: 4.054138  [152582/187508]\n"
          ]
        },
        {
          "output_type": "stream",
          "name": "stderr",
          "text": [
            "\r 10%|▉         | 38/400 [11:12<1:48:47, 18.03s/it]"
          ]
        },
        {
          "output_type": "stream",
          "name": "stdout",
          "text": [
            "Validation set: Loss: 4.00427\n",
            "Validation loss decreased (4.004923 --> 4.004272).  Saving model ...\n",
            "\n",
            "\n",
            "loss: 4.016001  [50182/187508]\n",
            "loss: 4.046968  [101382/187508]\n",
            "loss: 4.028339  [152582/187508]\n"
          ]
        },
        {
          "output_type": "stream",
          "name": "stderr",
          "text": [
            "\r 10%|▉         | 39/400 [11:31<1:49:49, 18.25s/it]"
          ]
        },
        {
          "output_type": "stream",
          "name": "stdout",
          "text": [
            "Validation set: Loss: 4.00358\n",
            "Validation loss decreased (4.004272 --> 4.003583).  Saving model ...\n",
            "\n",
            "\n",
            "loss: 3.938202  [50182/187508]\n",
            "loss: 4.070024  [101382/187508]\n",
            "loss: 3.967650  [152582/187508]\n"
          ]
        },
        {
          "output_type": "stream",
          "name": "stderr",
          "text": [
            "\r 10%|█         | 40/400 [11:49<1:48:18, 18.05s/it]"
          ]
        },
        {
          "output_type": "stream",
          "name": "stdout",
          "text": [
            "Validation set: Loss: 4.00329\n",
            "Validation loss decreased (4.003583 --> 4.003290).  Saving model ...\n",
            "\n",
            "\n",
            "loss: 4.000898  [50182/187508]\n",
            "loss: 3.966879  [101382/187508]\n",
            "loss: 3.999589  [152582/187508]\n"
          ]
        },
        {
          "output_type": "stream",
          "name": "stderr",
          "text": [
            "\r 10%|█         | 41/400 [12:06<1:46:45, 17.84s/it]"
          ]
        },
        {
          "output_type": "stream",
          "name": "stdout",
          "text": [
            "Validation set: Loss: 4.00295\n",
            "Validation loss decreased (4.003290 --> 4.002950).  Saving model ...\n",
            "\n",
            "\n",
            "loss: 3.985648  [50182/187508]\n",
            "loss: 4.072965  [101382/187508]\n",
            "loss: 4.071686  [152582/187508]\n"
          ]
        },
        {
          "output_type": "stream",
          "name": "stderr",
          "text": [
            "\r 10%|█         | 42/400 [12:24<1:46:30, 17.85s/it]"
          ]
        },
        {
          "output_type": "stream",
          "name": "stdout",
          "text": [
            "Validation set: Loss: 4.00257\n",
            "Validation loss decreased (4.002950 --> 4.002571).  Saving model ...\n",
            "\n",
            "\n",
            "loss: 3.999780  [50182/187508]\n",
            "loss: 4.074468  [101382/187508]\n",
            "loss: 3.973538  [152582/187508]\n"
          ]
        },
        {
          "output_type": "stream",
          "name": "stderr",
          "text": [
            "\r 11%|█         | 43/400 [12:42<1:47:28, 18.06s/it]"
          ]
        },
        {
          "output_type": "stream",
          "name": "stdout",
          "text": [
            "Validation set: Loss: 4.00233\n",
            "Validation loss decreased (4.002571 --> 4.002329).  Saving model ...\n",
            "\n",
            "\n",
            "loss: 4.015614  [50182/187508]\n",
            "loss: 3.979238  [101382/187508]\n",
            "loss: 4.039190  [152582/187508]\n"
          ]
        },
        {
          "output_type": "stream",
          "name": "stderr",
          "text": [
            "\r 11%|█         | 44/400 [13:00<1:46:40, 17.98s/it]"
          ]
        },
        {
          "output_type": "stream",
          "name": "stdout",
          "text": [
            "Validation set: Loss: 4.00209\n",
            "Validation loss decreased (4.002329 --> 4.002090).  Saving model ...\n",
            "\n",
            "\n",
            "loss: 4.117588  [50182/187508]\n",
            "loss: 4.076857  [101382/187508]\n",
            "loss: 4.036236  [152582/187508]\n"
          ]
        },
        {
          "output_type": "stream",
          "name": "stderr",
          "text": [
            "\r 11%|█▏        | 45/400 [13:18<1:46:54, 18.07s/it]"
          ]
        },
        {
          "output_type": "stream",
          "name": "stdout",
          "text": [
            "Validation set: Loss: 4.00151\n",
            "Validation loss decreased (4.002090 --> 4.001509).  Saving model ...\n",
            "\n",
            "\n",
            "loss: 3.977955  [50182/187508]\n",
            "loss: 3.997876  [101382/187508]\n",
            "loss: 4.046321  [152582/187508]\n"
          ]
        },
        {
          "output_type": "stream",
          "name": "stderr",
          "text": [
            "\r 12%|█▏        | 46/400 [13:37<1:47:28, 18.22s/it]"
          ]
        },
        {
          "output_type": "stream",
          "name": "stdout",
          "text": [
            "Validation set: Loss: 4.00126\n",
            "Validation loss decreased (4.001509 --> 4.001258).  Saving model ...\n",
            "\n",
            "\n",
            "loss: 4.076617  [50182/187508]\n",
            "loss: 4.032901  [101382/187508]\n",
            "loss: 4.040725  [152582/187508]\n"
          ]
        },
        {
          "output_type": "stream",
          "name": "stderr",
          "text": [
            "\r 12%|█▏        | 47/400 [13:55<1:46:32, 18.11s/it]"
          ]
        },
        {
          "output_type": "stream",
          "name": "stdout",
          "text": [
            "Validation set: Loss: 4.00098\n",
            "Validation loss decreased (4.001258 --> 4.000981).  Saving model ...\n",
            "\n",
            "\n",
            "loss: 4.094334  [50182/187508]\n",
            "loss: 4.031767  [101382/187508]\n",
            "loss: 4.011533  [152582/187508]\n"
          ]
        },
        {
          "output_type": "stream",
          "name": "stderr",
          "text": [
            "\r 12%|█▏        | 48/400 [14:13<1:46:25, 18.14s/it]"
          ]
        },
        {
          "output_type": "stream",
          "name": "stdout",
          "text": [
            "Validation set: Loss: 4.00113\n",
            "EarlyStopping counter: 1 out of 10\n",
            "\n",
            "\n",
            "loss: 4.022319  [50182/187508]\n",
            "loss: 4.059832  [101382/187508]\n",
            "loss: 4.004393  [152582/187508]\n"
          ]
        },
        {
          "output_type": "stream",
          "name": "stderr",
          "text": [
            "\r 12%|█▏        | 49/400 [14:31<1:46:06, 18.14s/it]"
          ]
        },
        {
          "output_type": "stream",
          "name": "stdout",
          "text": [
            "Validation set: Loss: 4.00074\n",
            "Validation loss decreased (4.000981 --> 4.000744).  Saving model ...\n",
            "\n",
            "\n",
            "loss: 4.038380  [50182/187508]\n",
            "loss: 3.969325  [101382/187508]\n",
            "loss: 4.096754  [152582/187508]\n"
          ]
        },
        {
          "output_type": "stream",
          "name": "stderr",
          "text": [
            "\r 12%|█▎        | 50/400 [14:49<1:45:02, 18.01s/it]"
          ]
        },
        {
          "output_type": "stream",
          "name": "stdout",
          "text": [
            "Validation set: Loss: 4.00049\n",
            "Validation loss decreased (4.000744 --> 4.000493).  Saving model ...\n",
            "\n",
            "\n",
            "loss: 3.994222  [50182/187508]\n",
            "loss: 4.065321  [101382/187508]\n",
            "loss: 4.030553  [152582/187508]\n"
          ]
        },
        {
          "output_type": "stream",
          "name": "stderr",
          "text": [
            "\r 13%|█▎        | 51/400 [15:09<1:48:49, 18.71s/it]"
          ]
        },
        {
          "output_type": "stream",
          "name": "stdout",
          "text": [
            "Validation set: Loss: 4.00062\n",
            "EarlyStopping counter: 1 out of 10\n",
            "\n",
            "\n",
            "loss: 3.988805  [50182/187508]\n",
            "loss: 4.004409  [101382/187508]\n",
            "loss: 4.086792  [152582/187508]\n"
          ]
        },
        {
          "output_type": "stream",
          "name": "stderr",
          "text": [
            "\r 13%|█▎        | 52/400 [15:27<1:46:59, 18.45s/it]"
          ]
        },
        {
          "output_type": "stream",
          "name": "stdout",
          "text": [
            "Validation set: Loss: 4.00004\n",
            "Validation loss decreased (4.000493 --> 4.000043).  Saving model ...\n",
            "\n",
            "\n",
            "loss: 4.056098  [50182/187508]\n",
            "loss: 3.994582  [101382/187508]\n",
            "loss: 4.077817  [152582/187508]\n"
          ]
        },
        {
          "output_type": "stream",
          "name": "stderr",
          "text": [
            "\r 13%|█▎        | 53/400 [15:45<1:45:35, 18.26s/it]"
          ]
        },
        {
          "output_type": "stream",
          "name": "stdout",
          "text": [
            "Validation set: Loss: 4.00024\n",
            "EarlyStopping counter: 1 out of 10\n",
            "\n",
            "\n",
            "loss: 4.004353  [50182/187508]\n",
            "loss: 4.017048  [101382/187508]\n",
            "loss: 3.934816  [152582/187508]\n"
          ]
        },
        {
          "output_type": "stream",
          "name": "stderr",
          "text": [
            "\r 14%|█▎        | 54/400 [16:04<1:46:21, 18.44s/it]"
          ]
        },
        {
          "output_type": "stream",
          "name": "stdout",
          "text": [
            "Validation set: Loss: 4.00006\n",
            "EarlyStopping counter: 2 out of 10\n",
            "\n",
            "\n",
            "loss: 4.004635  [50182/187508]\n",
            "loss: 4.004261  [101382/187508]\n",
            "loss: 3.897944  [152582/187508]\n"
          ]
        },
        {
          "output_type": "stream",
          "name": "stderr",
          "text": [
            "\r 14%|█▍        | 55/400 [16:22<1:45:01, 18.26s/it]"
          ]
        },
        {
          "output_type": "stream",
          "name": "stdout",
          "text": [
            "Validation set: Loss: 3.99988\n",
            "Validation loss decreased (4.000043 --> 3.999882).  Saving model ...\n",
            "\n",
            "\n",
            "loss: 4.033572  [50182/187508]\n",
            "loss: 4.004097  [101382/187508]\n",
            "loss: 3.980213  [152582/187508]\n"
          ]
        },
        {
          "output_type": "stream",
          "name": "stderr",
          "text": [
            "\r 14%|█▍        | 56/400 [16:39<1:43:47, 18.10s/it]"
          ]
        },
        {
          "output_type": "stream",
          "name": "stdout",
          "text": [
            "Validation set: Loss: 3.99941\n",
            "Validation loss decreased (3.999882 --> 3.999411).  Saving model ...\n",
            "\n",
            "\n",
            "loss: 4.030714  [50182/187508]\n",
            "loss: 4.012980  [101382/187508]\n",
            "loss: 3.978960  [152582/187508]\n"
          ]
        },
        {
          "output_type": "stream",
          "name": "stderr",
          "text": [
            "\r 14%|█▍        | 57/400 [16:59<1:45:12, 18.40s/it]"
          ]
        },
        {
          "output_type": "stream",
          "name": "stdout",
          "text": [
            "Validation set: Loss: 3.99924\n",
            "Validation loss decreased (3.999411 --> 3.999237).  Saving model ...\n",
            "\n",
            "\n",
            "loss: 3.983692  [50182/187508]\n",
            "loss: 3.977676  [101382/187508]\n",
            "loss: 4.010159  [152582/187508]\n"
          ]
        },
        {
          "output_type": "stream",
          "name": "stderr",
          "text": [
            "\r 14%|█▍        | 58/400 [17:16<1:43:33, 18.17s/it]"
          ]
        },
        {
          "output_type": "stream",
          "name": "stdout",
          "text": [
            "Validation set: Loss: 3.99921\n",
            "Validation loss decreased (3.999237 --> 3.999207).  Saving model ...\n",
            "\n",
            "\n",
            "loss: 3.985702  [50182/187508]\n",
            "loss: 4.029403  [101382/187508]\n",
            "loss: 4.036978  [152582/187508]\n"
          ]
        },
        {
          "output_type": "stream",
          "name": "stderr",
          "text": [
            "\r 15%|█▍        | 59/400 [17:34<1:42:25, 18.02s/it]"
          ]
        },
        {
          "output_type": "stream",
          "name": "stdout",
          "text": [
            "Validation set: Loss: 3.99883\n",
            "Validation loss decreased (3.999207 --> 3.998831).  Saving model ...\n",
            "\n",
            "\n",
            "loss: 3.864375  [50182/187508]\n",
            "loss: 3.963673  [101382/187508]\n",
            "loss: 3.926779  [152582/187508]\n"
          ]
        },
        {
          "output_type": "stream",
          "name": "stderr",
          "text": [
            "\r 15%|█▌        | 60/400 [17:53<1:44:12, 18.39s/it]"
          ]
        },
        {
          "output_type": "stream",
          "name": "stdout",
          "text": [
            "Validation set: Loss: 3.99868\n",
            "Validation loss decreased (3.998831 --> 3.998685).  Saving model ...\n",
            "\n",
            "\n",
            "loss: 3.912225  [50182/187508]\n",
            "loss: 3.988452  [101382/187508]\n",
            "loss: 3.977273  [152582/187508]\n"
          ]
        },
        {
          "output_type": "stream",
          "name": "stderr",
          "text": [
            "\r 15%|█▌        | 61/400 [18:11<1:42:57, 18.22s/it]"
          ]
        },
        {
          "output_type": "stream",
          "name": "stdout",
          "text": [
            "Validation set: Loss: 3.99936\n",
            "EarlyStopping counter: 1 out of 10\n",
            "\n",
            "\n",
            "loss: 4.008753  [50182/187508]\n",
            "loss: 3.996190  [101382/187508]\n",
            "loss: 3.918729  [152582/187508]\n"
          ]
        },
        {
          "output_type": "stream",
          "name": "stderr",
          "text": [
            "\r 16%|█▌        | 62/400 [18:29<1:42:24, 18.18s/it]"
          ]
        },
        {
          "output_type": "stream",
          "name": "stdout",
          "text": [
            "Validation set: Loss: 3.99843\n",
            "Validation loss decreased (3.998685 --> 3.998426).  Saving model ...\n",
            "\n",
            "\n",
            "loss: 3.951818  [50182/187508]\n",
            "loss: 4.083220  [101382/187508]\n",
            "loss: 4.023363  [152582/187508]\n"
          ]
        },
        {
          "output_type": "stream",
          "name": "stderr",
          "text": [
            "\r 16%|█▌        | 63/400 [18:48<1:44:02, 18.52s/it]"
          ]
        },
        {
          "output_type": "stream",
          "name": "stdout",
          "text": [
            "Validation set: Loss: 3.99858\n",
            "EarlyStopping counter: 1 out of 10\n",
            "\n",
            "\n",
            "loss: 4.056956  [50182/187508]\n",
            "loss: 3.971110  [101382/187508]\n",
            "loss: 4.056765  [152582/187508]\n"
          ]
        },
        {
          "output_type": "stream",
          "name": "stderr",
          "text": [
            "\r 16%|█▌        | 64/400 [19:06<1:42:11, 18.25s/it]"
          ]
        },
        {
          "output_type": "stream",
          "name": "stdout",
          "text": [
            "Validation set: Loss: 3.99831\n",
            "Validation loss decreased (3.998426 --> 3.998307).  Saving model ...\n",
            "\n",
            "\n",
            "loss: 3.974241  [50182/187508]\n",
            "loss: 4.022280  [101382/187508]\n",
            "loss: 3.920324  [152582/187508]\n"
          ]
        },
        {
          "output_type": "stream",
          "name": "stderr",
          "text": [
            "\r 16%|█▋        | 65/400 [19:24<1:41:13, 18.13s/it]"
          ]
        },
        {
          "output_type": "stream",
          "name": "stdout",
          "text": [
            "Validation set: Loss: 3.99844\n",
            "EarlyStopping counter: 1 out of 10\n",
            "\n",
            "\n",
            "loss: 3.975157  [50182/187508]\n",
            "loss: 3.917651  [101382/187508]\n",
            "loss: 3.970279  [152582/187508]\n"
          ]
        },
        {
          "output_type": "stream",
          "name": "stderr",
          "text": [
            "\r 16%|█▋        | 66/400 [19:43<1:42:17, 18.37s/it]"
          ]
        },
        {
          "output_type": "stream",
          "name": "stdout",
          "text": [
            "Validation set: Loss: 3.99793\n",
            "Validation loss decreased (3.998307 --> 3.997930).  Saving model ...\n",
            "\n",
            "\n",
            "loss: 4.082966  [50182/187508]\n",
            "loss: 4.008721  [101382/187508]\n",
            "loss: 4.034961  [152582/187508]\n"
          ]
        },
        {
          "output_type": "stream",
          "name": "stderr",
          "text": [
            "\r 17%|█▋        | 67/400 [20:00<1:40:47, 18.16s/it]"
          ]
        },
        {
          "output_type": "stream",
          "name": "stdout",
          "text": [
            "Validation set: Loss: 3.99790\n",
            "Validation loss decreased (3.997930 --> 3.997903).  Saving model ...\n",
            "\n",
            "\n",
            "loss: 3.988540  [50182/187508]\n",
            "loss: 3.932555  [101382/187508]\n",
            "loss: 4.045985  [152582/187508]\n"
          ]
        },
        {
          "output_type": "stream",
          "name": "stderr",
          "text": [
            "\r 17%|█▋        | 68/400 [20:18<1:39:51, 18.05s/it]"
          ]
        },
        {
          "output_type": "stream",
          "name": "stdout",
          "text": [
            "Validation set: Loss: 3.99847\n",
            "EarlyStopping counter: 1 out of 10\n",
            "\n",
            "\n",
            "loss: 3.941954  [50182/187508]\n",
            "loss: 4.041569  [101382/187508]\n",
            "loss: 4.024195  [152582/187508]\n"
          ]
        },
        {
          "output_type": "stream",
          "name": "stderr",
          "text": [
            "\r 17%|█▋        | 69/400 [20:39<1:43:51, 18.83s/it]"
          ]
        },
        {
          "output_type": "stream",
          "name": "stdout",
          "text": [
            "Validation set: Loss: 3.99806\n",
            "EarlyStopping counter: 2 out of 10\n",
            "\n",
            "\n",
            "loss: 4.091527  [50182/187508]\n",
            "loss: 4.026109  [101382/187508]\n",
            "loss: 4.046722  [152582/187508]\n"
          ]
        },
        {
          "output_type": "stream",
          "name": "stderr",
          "text": [
            "\r 18%|█▊        | 70/400 [20:56<1:41:14, 18.41s/it]"
          ]
        },
        {
          "output_type": "stream",
          "name": "stdout",
          "text": [
            "Validation set: Loss: 3.99772\n",
            "Validation loss decreased (3.997903 --> 3.997724).  Saving model ...\n",
            "\n",
            "\n",
            "loss: 4.061718  [50182/187508]\n",
            "loss: 4.009939  [101382/187508]\n",
            "loss: 3.953607  [152582/187508]\n"
          ]
        },
        {
          "output_type": "stream",
          "name": "stderr",
          "text": [
            "\r 18%|█▊        | 71/400 [21:13<1:39:03, 18.07s/it]"
          ]
        },
        {
          "output_type": "stream",
          "name": "stdout",
          "text": [
            "Validation set: Loss: 3.99765\n",
            "Validation loss decreased (3.997724 --> 3.997649).  Saving model ...\n",
            "\n",
            "\n",
            "loss: 4.028314  [50182/187508]\n",
            "loss: 4.053978  [101382/187508]\n",
            "loss: 3.970466  [152582/187508]\n"
          ]
        },
        {
          "output_type": "stream",
          "name": "stderr",
          "text": [
            "\r 18%|█▊        | 72/400 [21:33<1:40:26, 18.37s/it]"
          ]
        },
        {
          "output_type": "stream",
          "name": "stdout",
          "text": [
            "Validation set: Loss: 3.99740\n",
            "Validation loss decreased (3.997649 --> 3.997397).  Saving model ...\n",
            "\n",
            "\n",
            "loss: 4.039910  [50182/187508]\n",
            "loss: 3.993225  [101382/187508]\n",
            "loss: 3.934070  [152582/187508]\n"
          ]
        },
        {
          "output_type": "stream",
          "name": "stderr",
          "text": [
            "\r 18%|█▊        | 73/400 [21:50<1:39:22, 18.23s/it]"
          ]
        },
        {
          "output_type": "stream",
          "name": "stdout",
          "text": [
            "Validation set: Loss: 3.99780\n",
            "EarlyStopping counter: 1 out of 10\n",
            "\n",
            "\n",
            "loss: 4.034485  [50182/187508]\n",
            "loss: 4.009819  [101382/187508]\n",
            "loss: 4.078867  [152582/187508]\n"
          ]
        },
        {
          "output_type": "stream",
          "name": "stderr",
          "text": [
            "\r 18%|█▊        | 74/400 [22:08<1:38:33, 18.14s/it]"
          ]
        },
        {
          "output_type": "stream",
          "name": "stdout",
          "text": [
            "Validation set: Loss: 3.99770\n",
            "EarlyStopping counter: 2 out of 10\n",
            "\n",
            "\n",
            "loss: 4.043715  [50182/187508]\n",
            "loss: 4.061112  [101382/187508]\n",
            "loss: 4.008265  [152582/187508]\n"
          ]
        },
        {
          "output_type": "stream",
          "name": "stderr",
          "text": [
            "\r 19%|█▉        | 75/400 [22:28<1:40:00, 18.46s/it]"
          ]
        },
        {
          "output_type": "stream",
          "name": "stdout",
          "text": [
            "Validation set: Loss: 3.99738\n",
            "Validation loss decreased (3.997397 --> 3.997375).  Saving model ...\n",
            "\n",
            "\n",
            "loss: 4.042742  [50182/187508]\n",
            "loss: 3.987657  [101382/187508]\n",
            "loss: 3.974894  [152582/187508]\n"
          ]
        },
        {
          "output_type": "stream",
          "name": "stderr",
          "text": [
            "\r 19%|█▉        | 76/400 [22:45<1:38:33, 18.25s/it]"
          ]
        },
        {
          "output_type": "stream",
          "name": "stdout",
          "text": [
            "Validation set: Loss: 3.99699\n",
            "Validation loss decreased (3.997375 --> 3.996993).  Saving model ...\n",
            "\n",
            "\n",
            "loss: 3.959042  [50182/187508]\n",
            "loss: 3.941166  [101382/187508]\n",
            "loss: 4.068444  [152582/187508]\n"
          ]
        },
        {
          "output_type": "stream",
          "name": "stderr",
          "text": [
            "\r 19%|█▉        | 77/400 [23:03<1:37:44, 18.16s/it]"
          ]
        },
        {
          "output_type": "stream",
          "name": "stdout",
          "text": [
            "Validation set: Loss: 3.99698\n",
            "Validation loss decreased (3.996993 --> 3.996979).  Saving model ...\n",
            "\n",
            "\n",
            "loss: 4.055693  [50182/187508]\n",
            "loss: 3.905559  [101382/187508]\n",
            "loss: 4.029037  [152582/187508]\n"
          ]
        },
        {
          "output_type": "stream",
          "name": "stderr",
          "text": [
            "\r 20%|█▉        | 78/400 [23:23<1:39:22, 18.52s/it]"
          ]
        },
        {
          "output_type": "stream",
          "name": "stdout",
          "text": [
            "Validation set: Loss: 3.99739\n",
            "EarlyStopping counter: 1 out of 10\n",
            "\n",
            "\n",
            "loss: 3.929855  [50182/187508]\n",
            "loss: 3.962891  [101382/187508]\n",
            "loss: 4.011029  [152582/187508]\n"
          ]
        },
        {
          "output_type": "stream",
          "name": "stderr",
          "text": [
            "\r 20%|█▉        | 79/400 [23:41<1:38:23, 18.39s/it]"
          ]
        },
        {
          "output_type": "stream",
          "name": "stdout",
          "text": [
            "Validation set: Loss: 3.99725\n",
            "EarlyStopping counter: 2 out of 10\n",
            "\n",
            "\n",
            "loss: 4.000984  [50182/187508]\n",
            "loss: 3.999149  [101382/187508]\n",
            "loss: 4.044476  [152582/187508]\n"
          ]
        },
        {
          "output_type": "stream",
          "name": "stderr",
          "text": [
            "\r 20%|██        | 80/400 [23:59<1:37:23, 18.26s/it]"
          ]
        },
        {
          "output_type": "stream",
          "name": "stdout",
          "text": [
            "Validation set: Loss: 3.99683\n",
            "Validation loss decreased (3.996979 --> 3.996831).  Saving model ...\n",
            "\n",
            "\n",
            "loss: 3.987597  [50182/187508]\n",
            "loss: 4.072564  [101382/187508]\n",
            "loss: 3.997555  [152582/187508]\n"
          ]
        },
        {
          "output_type": "stream",
          "name": "stderr",
          "text": [
            "\r 20%|██        | 81/400 [24:17<1:37:38, 18.37s/it]"
          ]
        },
        {
          "output_type": "stream",
          "name": "stdout",
          "text": [
            "Validation set: Loss: 3.99684\n",
            "EarlyStopping counter: 1 out of 10\n",
            "\n",
            "\n",
            "loss: 3.941110  [50182/187508]\n",
            "loss: 3.920739  [101382/187508]\n",
            "loss: 3.979109  [152582/187508]\n"
          ]
        },
        {
          "output_type": "stream",
          "name": "stderr",
          "text": [
            "\r 20%|██        | 82/400 [24:35<1:35:46, 18.07s/it]"
          ]
        },
        {
          "output_type": "stream",
          "name": "stdout",
          "text": [
            "Validation set: Loss: 3.99665\n",
            "Validation loss decreased (3.996831 --> 3.996645).  Saving model ...\n",
            "\n",
            "\n",
            "loss: 4.011080  [50182/187508]\n",
            "loss: 3.997682  [101382/187508]\n",
            "loss: 3.974836  [152582/187508]\n"
          ]
        },
        {
          "output_type": "stream",
          "name": "stderr",
          "text": [
            "\r 21%|██        | 83/400 [24:53<1:35:24, 18.06s/it]"
          ]
        },
        {
          "output_type": "stream",
          "name": "stdout",
          "text": [
            "Validation set: Loss: 3.99708\n",
            "EarlyStopping counter: 1 out of 10\n",
            "\n",
            "\n",
            "loss: 3.975371  [50182/187508]\n",
            "loss: 3.876132  [101382/187508]\n",
            "loss: 3.977630  [152582/187508]\n"
          ]
        },
        {
          "output_type": "stream",
          "name": "stderr",
          "text": [
            "\r 21%|██        | 84/400 [25:13<1:37:49, 18.58s/it]"
          ]
        },
        {
          "output_type": "stream",
          "name": "stdout",
          "text": [
            "Validation set: Loss: 3.99723\n",
            "EarlyStopping counter: 2 out of 10\n",
            "\n",
            "\n",
            "loss: 4.031866  [50182/187508]\n",
            "loss: 4.002423  [101382/187508]\n",
            "loss: 4.027766  [152582/187508]\n"
          ]
        },
        {
          "output_type": "stream",
          "name": "stderr",
          "text": [
            "\r 21%|██▏       | 85/400 [25:31<1:37:09, 18.51s/it]"
          ]
        },
        {
          "output_type": "stream",
          "name": "stdout",
          "text": [
            "Validation set: Loss: 3.99653\n",
            "Validation loss decreased (3.996645 --> 3.996526).  Saving model ...\n",
            "\n",
            "\n",
            "loss: 4.096457  [50182/187508]\n",
            "loss: 3.993048  [101382/187508]\n",
            "loss: 3.957552  [152582/187508]\n"
          ]
        },
        {
          "output_type": "stream",
          "name": "stderr",
          "text": [
            "\r 22%|██▏       | 86/400 [25:51<1:39:24, 18.99s/it]"
          ]
        },
        {
          "output_type": "stream",
          "name": "stdout",
          "text": [
            "Validation set: Loss: 3.99652\n",
            "Validation loss decreased (3.996526 --> 3.996522).  Saving model ...\n",
            "\n",
            "\n",
            "loss: 3.997207  [50182/187508]\n",
            "loss: 3.968711  [101382/187508]\n",
            "loss: 3.979558  [152582/187508]\n"
          ]
        },
        {
          "output_type": "stream",
          "name": "stderr",
          "text": [
            "\r 22%|██▏       | 87/400 [26:10<1:39:19, 19.04s/it]"
          ]
        },
        {
          "output_type": "stream",
          "name": "stdout",
          "text": [
            "Validation set: Loss: 3.99635\n",
            "Validation loss decreased (3.996522 --> 3.996351).  Saving model ...\n",
            "\n",
            "\n",
            "loss: 3.973124  [50182/187508]\n",
            "loss: 4.045265  [101382/187508]\n",
            "loss: 3.930105  [152582/187508]\n"
          ]
        },
        {
          "output_type": "stream",
          "name": "stderr",
          "text": [
            "\r 22%|██▏       | 88/400 [26:28<1:37:47, 18.81s/it]"
          ]
        },
        {
          "output_type": "stream",
          "name": "stdout",
          "text": [
            "Validation set: Loss: 3.99628\n",
            "Validation loss decreased (3.996351 --> 3.996280).  Saving model ...\n",
            "\n",
            "\n",
            "loss: 3.993310  [50182/187508]\n",
            "loss: 4.070123  [101382/187508]\n",
            "loss: 4.004269  [152582/187508]\n"
          ]
        },
        {
          "output_type": "stream",
          "name": "stderr",
          "text": [
            "\r 22%|██▏       | 89/400 [26:48<1:38:31, 19.01s/it]"
          ]
        },
        {
          "output_type": "stream",
          "name": "stdout",
          "text": [
            "Validation set: Loss: 3.99616\n",
            "Validation loss decreased (3.996280 --> 3.996162).  Saving model ...\n",
            "\n",
            "\n",
            "loss: 4.082610  [50182/187508]\n",
            "loss: 4.000951  [101382/187508]\n",
            "loss: 3.926809  [152582/187508]\n"
          ]
        },
        {
          "output_type": "stream",
          "name": "stderr",
          "text": [
            "\r 22%|██▎       | 90/400 [27:06<1:36:10, 18.62s/it]"
          ]
        },
        {
          "output_type": "stream",
          "name": "stdout",
          "text": [
            "Validation set: Loss: 3.99632\n",
            "EarlyStopping counter: 1 out of 10\n",
            "\n",
            "\n",
            "loss: 4.062284  [50182/187508]\n",
            "loss: 3.984062  [101382/187508]\n",
            "loss: 4.055728  [152582/187508]\n"
          ]
        },
        {
          "output_type": "stream",
          "name": "stderr",
          "text": [
            "\r 23%|██▎       | 91/400 [27:23<1:34:34, 18.36s/it]"
          ]
        },
        {
          "output_type": "stream",
          "name": "stdout",
          "text": [
            "Validation set: Loss: 3.99633\n",
            "EarlyStopping counter: 2 out of 10\n",
            "\n",
            "\n",
            "loss: 4.056527  [50182/187508]\n",
            "loss: 4.027726  [101382/187508]\n",
            "loss: 4.026814  [152582/187508]\n"
          ]
        },
        {
          "output_type": "stream",
          "name": "stderr",
          "text": [
            "\r 23%|██▎       | 92/400 [27:42<1:33:55, 18.30s/it]"
          ]
        },
        {
          "output_type": "stream",
          "name": "stdout",
          "text": [
            "Validation set: Loss: 3.99656\n",
            "EarlyStopping counter: 3 out of 10\n",
            "\n",
            "\n",
            "loss: 3.968962  [50182/187508]\n",
            "loss: 4.037029  [101382/187508]\n",
            "loss: 3.935577  [152582/187508]\n"
          ]
        },
        {
          "output_type": "stream",
          "name": "stderr",
          "text": [
            "\r 23%|██▎       | 93/400 [28:00<1:34:15, 18.42s/it]"
          ]
        },
        {
          "output_type": "stream",
          "name": "stdout",
          "text": [
            "Validation set: Loss: 3.99607\n",
            "Validation loss decreased (3.996162 --> 3.996073).  Saving model ...\n",
            "\n",
            "\n",
            "loss: 4.044660  [50182/187508]\n",
            "loss: 3.934486  [101382/187508]\n",
            "loss: 3.972560  [152582/187508]\n"
          ]
        },
        {
          "output_type": "stream",
          "name": "stderr",
          "text": [
            "\r 24%|██▎       | 94/400 [28:18<1:33:24, 18.31s/it]"
          ]
        },
        {
          "output_type": "stream",
          "name": "stdout",
          "text": [
            "Validation set: Loss: 3.99599\n",
            "Validation loss decreased (3.996073 --> 3.995993).  Saving model ...\n",
            "\n",
            "\n",
            "loss: 3.967100  [50182/187508]\n",
            "loss: 3.981251  [101382/187508]\n",
            "loss: 3.876247  [152582/187508]\n"
          ]
        },
        {
          "output_type": "stream",
          "name": "stderr",
          "text": [
            "\r 24%|██▍       | 95/400 [28:38<1:34:33, 18.60s/it]"
          ]
        },
        {
          "output_type": "stream",
          "name": "stdout",
          "text": [
            "Validation set: Loss: 3.99612\n",
            "EarlyStopping counter: 1 out of 10\n",
            "\n",
            "\n",
            "loss: 4.012731  [50182/187508]\n",
            "loss: 3.972572  [101382/187508]\n",
            "loss: 4.009116  [152582/187508]\n"
          ]
        },
        {
          "output_type": "stream",
          "name": "stderr",
          "text": [
            "\r 24%|██▍       | 96/400 [28:55<1:32:24, 18.24s/it]"
          ]
        },
        {
          "output_type": "stream",
          "name": "stdout",
          "text": [
            "Validation set: Loss: 3.99611\n",
            "EarlyStopping counter: 2 out of 10\n",
            "\n",
            "\n",
            "loss: 3.969871  [50182/187508]\n",
            "loss: 4.100138  [101382/187508]\n",
            "loss: 3.915104  [152582/187508]\n"
          ]
        },
        {
          "output_type": "stream",
          "name": "stderr",
          "text": [
            "\r 24%|██▍       | 97/400 [29:13<1:31:04, 18.03s/it]"
          ]
        },
        {
          "output_type": "stream",
          "name": "stdout",
          "text": [
            "Validation set: Loss: 3.99590\n",
            "Validation loss decreased (3.995993 --> 3.995898).  Saving model ...\n",
            "\n",
            "\n",
            "loss: 3.955359  [50182/187508]\n",
            "loss: 3.944505  [101382/187508]\n",
            "loss: 3.951136  [152582/187508]\n"
          ]
        },
        {
          "output_type": "stream",
          "name": "stderr",
          "text": [
            "\r 24%|██▍       | 98/400 [29:31<1:31:39, 18.21s/it]"
          ]
        },
        {
          "output_type": "stream",
          "name": "stdout",
          "text": [
            "Validation set: Loss: 3.99594\n",
            "EarlyStopping counter: 1 out of 10\n",
            "\n",
            "\n",
            "loss: 3.939222  [50182/187508]\n",
            "loss: 3.994437  [101382/187508]\n",
            "loss: 4.038592  [152582/187508]\n"
          ]
        },
        {
          "output_type": "stream",
          "name": "stderr",
          "text": [
            "\r 25%|██▍       | 99/400 [29:49<1:30:52, 18.12s/it]"
          ]
        },
        {
          "output_type": "stream",
          "name": "stdout",
          "text": [
            "Validation set: Loss: 3.99588\n",
            "Validation loss decreased (3.995898 --> 3.995880).  Saving model ...\n",
            "\n",
            "\n",
            "loss: 3.960681  [50182/187508]\n",
            "loss: 3.975043  [101382/187508]\n",
            "loss: 4.023167  [152582/187508]\n"
          ]
        },
        {
          "output_type": "stream",
          "name": "stderr",
          "text": [
            "\r 25%|██▌       | 100/400 [30:06<1:29:32, 17.91s/it]"
          ]
        },
        {
          "output_type": "stream",
          "name": "stdout",
          "text": [
            "Validation set: Loss: 3.99575\n",
            "Validation loss decreased (3.995880 --> 3.995752).  Saving model ...\n",
            "\n",
            "\n",
            "loss: 3.993757  [50182/187508]\n",
            "loss: 4.017176  [101382/187508]\n",
            "loss: 3.985098  [152582/187508]\n"
          ]
        },
        {
          "output_type": "stream",
          "name": "stderr",
          "text": [
            "\r 25%|██▌       | 101/400 [30:25<1:29:48, 18.02s/it]"
          ]
        },
        {
          "output_type": "stream",
          "name": "stdout",
          "text": [
            "Validation set: Loss: 3.99582\n",
            "EarlyStopping counter: 1 out of 10\n",
            "\n",
            "\n",
            "loss: 3.884296  [50182/187508]\n",
            "loss: 4.005317  [101382/187508]\n",
            "loss: 4.035491  [152582/187508]\n"
          ]
        },
        {
          "output_type": "stream",
          "name": "stderr",
          "text": [
            "\r 26%|██▌       | 102/400 [30:43<1:29:15, 17.97s/it]"
          ]
        },
        {
          "output_type": "stream",
          "name": "stdout",
          "text": [
            "Validation set: Loss: 3.99581\n",
            "EarlyStopping counter: 2 out of 10\n",
            "\n",
            "\n",
            "loss: 4.007773  [50182/187508]\n",
            "loss: 3.957512  [101382/187508]\n",
            "loss: 3.952866  [152582/187508]\n"
          ]
        },
        {
          "output_type": "stream",
          "name": "stderr",
          "text": [
            "\r 26%|██▌       | 103/400 [31:00<1:28:11, 17.82s/it]"
          ]
        },
        {
          "output_type": "stream",
          "name": "stdout",
          "text": [
            "Validation set: Loss: 3.99606\n",
            "EarlyStopping counter: 3 out of 10\n",
            "\n",
            "\n",
            "loss: 4.024792  [50182/187508]\n",
            "loss: 3.999756  [101382/187508]\n",
            "loss: 4.027590  [152582/187508]\n"
          ]
        },
        {
          "output_type": "stream",
          "name": "stderr",
          "text": [
            "\r 26%|██▌       | 104/400 [31:20<1:31:31, 18.55s/it]"
          ]
        },
        {
          "output_type": "stream",
          "name": "stdout",
          "text": [
            "Validation set: Loss: 3.99673\n",
            "EarlyStopping counter: 4 out of 10\n",
            "\n",
            "\n",
            "loss: 4.112349  [50182/187508]\n",
            "loss: 3.989900  [101382/187508]\n",
            "loss: 3.981174  [152582/187508]\n"
          ]
        },
        {
          "output_type": "stream",
          "name": "stderr",
          "text": [
            "\r 26%|██▋       | 105/400 [31:38<1:30:10, 18.34s/it]"
          ]
        },
        {
          "output_type": "stream",
          "name": "stdout",
          "text": [
            "Validation set: Loss: 3.99594\n",
            "EarlyStopping counter: 5 out of 10\n",
            "\n",
            "\n",
            "loss: 3.994240  [50182/187508]\n",
            "loss: 3.942456  [101382/187508]\n",
            "loss: 3.981600  [152582/187508]\n"
          ]
        },
        {
          "output_type": "stream",
          "name": "stderr",
          "text": [
            "\r 26%|██▋       | 106/400 [31:56<1:29:47, 18.33s/it]"
          ]
        },
        {
          "output_type": "stream",
          "name": "stdout",
          "text": [
            "Validation set: Loss: 3.99592\n",
            "EarlyStopping counter: 6 out of 10\n",
            "\n",
            "\n",
            "loss: 3.996735  [50182/187508]\n",
            "loss: 4.018830  [101382/187508]\n",
            "loss: 3.886333  [152582/187508]\n"
          ]
        },
        {
          "output_type": "stream",
          "name": "stderr",
          "text": [
            "\r 27%|██▋       | 107/400 [32:16<1:30:54, 18.62s/it]"
          ]
        },
        {
          "output_type": "stream",
          "name": "stdout",
          "text": [
            "Validation set: Loss: 3.99561\n",
            "Validation loss decreased (3.995752 --> 3.995611).  Saving model ...\n",
            "\n",
            "\n",
            "loss: 4.076557  [50182/187508]\n",
            "loss: 3.878254  [101382/187508]\n",
            "loss: 4.088677  [152582/187508]\n"
          ]
        },
        {
          "output_type": "stream",
          "name": "stderr",
          "text": [
            "\r 27%|██▋       | 108/400 [32:34<1:29:55, 18.48s/it]"
          ]
        },
        {
          "output_type": "stream",
          "name": "stdout",
          "text": [
            "Validation set: Loss: 3.99583\n",
            "EarlyStopping counter: 1 out of 10\n",
            "\n",
            "\n",
            "loss: 3.966836  [50182/187508]\n",
            "loss: 4.054061  [101382/187508]\n",
            "loss: 3.935525  [152582/187508]\n"
          ]
        },
        {
          "output_type": "stream",
          "name": "stderr",
          "text": [
            "\r 27%|██▋       | 109/400 [32:53<1:29:58, 18.55s/it]"
          ]
        },
        {
          "output_type": "stream",
          "name": "stdout",
          "text": [
            "Validation set: Loss: 3.99574\n",
            "EarlyStopping counter: 2 out of 10\n",
            "\n",
            "\n",
            "loss: 3.992047  [50182/187508]\n",
            "loss: 3.930085  [101382/187508]\n",
            "loss: 4.001046  [152582/187508]\n"
          ]
        },
        {
          "output_type": "stream",
          "name": "stderr",
          "text": [
            "\r 28%|██▊       | 110/400 [33:12<1:30:13, 18.67s/it]"
          ]
        },
        {
          "output_type": "stream",
          "name": "stdout",
          "text": [
            "Validation set: Loss: 3.99540\n",
            "Validation loss decreased (3.995611 --> 3.995402).  Saving model ...\n",
            "\n",
            "\n",
            "loss: 3.987612  [50182/187508]\n",
            "loss: 3.953241  [101382/187508]\n",
            "loss: 3.912215  [152582/187508]\n"
          ]
        },
        {
          "output_type": "stream",
          "name": "stderr",
          "text": [
            "\r 28%|██▊       | 111/400 [33:30<1:29:10, 18.51s/it]"
          ]
        },
        {
          "output_type": "stream",
          "name": "stdout",
          "text": [
            "Validation set: Loss: 3.99545\n",
            "EarlyStopping counter: 1 out of 10\n",
            "\n",
            "\n",
            "loss: 3.989107  [50182/187508]\n",
            "loss: 4.052321  [101382/187508]\n",
            "loss: 3.994446  [152582/187508]\n"
          ]
        },
        {
          "output_type": "stream",
          "name": "stderr",
          "text": [
            "\r 28%|██▊       | 112/400 [33:48<1:29:05, 18.56s/it]"
          ]
        },
        {
          "output_type": "stream",
          "name": "stdout",
          "text": [
            "Validation set: Loss: 3.99538\n",
            "Validation loss decreased (3.995402 --> 3.995381).  Saving model ...\n",
            "\n",
            "\n",
            "loss: 4.075907  [50182/187508]\n",
            "loss: 3.988495  [101382/187508]\n",
            "loss: 3.965438  [152582/187508]\n"
          ]
        },
        {
          "output_type": "stream",
          "name": "stderr",
          "text": [
            "\r 28%|██▊       | 113/400 [34:07<1:28:32, 18.51s/it]"
          ]
        },
        {
          "output_type": "stream",
          "name": "stdout",
          "text": [
            "Validation set: Loss: 3.99575\n",
            "EarlyStopping counter: 1 out of 10\n",
            "\n",
            "\n",
            "loss: 3.999311  [50182/187508]\n",
            "loss: 4.070046  [101382/187508]\n",
            "loss: 3.969604  [152582/187508]\n"
          ]
        },
        {
          "output_type": "stream",
          "name": "stderr",
          "text": [
            "\r 28%|██▊       | 114/400 [34:25<1:27:25, 18.34s/it]"
          ]
        },
        {
          "output_type": "stream",
          "name": "stdout",
          "text": [
            "Validation set: Loss: 3.99545\n",
            "EarlyStopping counter: 2 out of 10\n",
            "\n",
            "\n",
            "loss: 4.001041  [50182/187508]\n",
            "loss: 3.991080  [101382/187508]\n",
            "loss: 4.013376  [152582/187508]\n"
          ]
        },
        {
          "output_type": "stream",
          "name": "stderr",
          "text": [
            "\r 29%|██▉       | 115/400 [34:44<1:27:48, 18.49s/it]"
          ]
        },
        {
          "output_type": "stream",
          "name": "stdout",
          "text": [
            "Validation set: Loss: 3.99534\n",
            "Validation loss decreased (3.995381 --> 3.995343).  Saving model ...\n",
            "\n",
            "\n",
            "loss: 4.096400  [50182/187508]\n",
            "loss: 4.026835  [101382/187508]\n",
            "loss: 3.952663  [152582/187508]\n"
          ]
        },
        {
          "output_type": "stream",
          "name": "stderr",
          "text": [
            "\r 29%|██▉       | 116/400 [35:01<1:25:48, 18.13s/it]"
          ]
        },
        {
          "output_type": "stream",
          "name": "stdout",
          "text": [
            "Validation set: Loss: 3.99551\n",
            "EarlyStopping counter: 1 out of 10\n",
            "\n",
            "\n",
            "loss: 3.919117  [50182/187508]\n",
            "loss: 3.978700  [101382/187508]\n",
            "loss: 3.963245  [152582/187508]\n"
          ]
        },
        {
          "output_type": "stream",
          "name": "stderr",
          "text": [
            "\r 29%|██▉       | 117/400 [35:18<1:24:26, 17.90s/it]"
          ]
        },
        {
          "output_type": "stream",
          "name": "stdout",
          "text": [
            "Validation set: Loss: 3.99544\n",
            "EarlyStopping counter: 2 out of 10\n",
            "\n",
            "\n",
            "loss: 3.934433  [50182/187508]\n",
            "loss: 4.018920  [101382/187508]\n",
            "loss: 3.953620  [152582/187508]\n"
          ]
        },
        {
          "output_type": "stream",
          "name": "stderr",
          "text": [
            "\r 30%|██▉       | 118/400 [35:37<1:24:49, 18.05s/it]"
          ]
        },
        {
          "output_type": "stream",
          "name": "stdout",
          "text": [
            "Validation set: Loss: 3.99530\n",
            "Validation loss decreased (3.995343 --> 3.995295).  Saving model ...\n",
            "\n",
            "\n",
            "loss: 4.020888  [50182/187508]\n",
            "loss: 4.004732  [101382/187508]\n",
            "loss: 4.001599  [152582/187508]\n"
          ]
        },
        {
          "output_type": "stream",
          "name": "stderr",
          "text": [
            "\r 30%|██▉       | 119/400 [35:54<1:24:06, 17.96s/it]"
          ]
        },
        {
          "output_type": "stream",
          "name": "stdout",
          "text": [
            "Validation set: Loss: 3.99528\n",
            "Validation loss decreased (3.995295 --> 3.995281).  Saving model ...\n",
            "\n",
            "\n",
            "loss: 3.934699  [50182/187508]\n",
            "loss: 4.034476  [101382/187508]\n",
            "loss: 3.919143  [152582/187508]\n"
          ]
        },
        {
          "output_type": "stream",
          "name": "stderr",
          "text": [
            "\r 30%|███       | 120/400 [36:12<1:23:13, 17.83s/it]"
          ]
        },
        {
          "output_type": "stream",
          "name": "stdout",
          "text": [
            "Validation set: Loss: 3.99528\n",
            "EarlyStopping counter: 1 out of 10\n",
            "\n",
            "\n",
            "loss: 3.918226  [50182/187508]\n",
            "loss: 3.923975  [101382/187508]\n",
            "loss: 3.995815  [152582/187508]\n"
          ]
        },
        {
          "output_type": "stream",
          "name": "stderr",
          "text": [
            "\r 30%|███       | 121/400 [36:30<1:23:12, 17.89s/it]"
          ]
        },
        {
          "output_type": "stream",
          "name": "stdout",
          "text": [
            "Validation set: Loss: 3.99543\n",
            "EarlyStopping counter: 2 out of 10\n",
            "\n",
            "\n",
            "loss: 3.971832  [50182/187508]\n",
            "loss: 3.896178  [101382/187508]\n",
            "loss: 4.031276  [152582/187508]\n"
          ]
        },
        {
          "output_type": "stream",
          "name": "stderr",
          "text": [
            "\r 30%|███       | 122/400 [36:49<1:24:50, 18.31s/it]"
          ]
        },
        {
          "output_type": "stream",
          "name": "stdout",
          "text": [
            "Validation set: Loss: 3.99500\n",
            "Validation loss decreased (3.995281 --> 3.994995).  Saving model ...\n",
            "\n",
            "\n",
            "loss: 3.955953  [50182/187508]\n",
            "loss: 4.026584  [101382/187508]\n",
            "loss: 3.926623  [152582/187508]\n"
          ]
        },
        {
          "output_type": "stream",
          "name": "stderr",
          "text": [
            "\r 31%|███       | 123/400 [37:07<1:23:26, 18.08s/it]"
          ]
        },
        {
          "output_type": "stream",
          "name": "stdout",
          "text": [
            "Validation set: Loss: 3.99523\n",
            "EarlyStopping counter: 1 out of 10\n",
            "\n",
            "\n",
            "loss: 3.993579  [50182/187508]\n",
            "loss: 3.905308  [101382/187508]\n",
            "loss: 4.005336  [152582/187508]\n"
          ]
        },
        {
          "output_type": "stream",
          "name": "stderr",
          "text": [
            "\r 31%|███       | 124/400 [37:25<1:23:25, 18.14s/it]"
          ]
        },
        {
          "output_type": "stream",
          "name": "stdout",
          "text": [
            "Validation set: Loss: 3.99541\n",
            "EarlyStopping counter: 2 out of 10\n",
            "\n",
            "\n",
            "loss: 4.008579  [50182/187508]\n",
            "loss: 4.130667  [101382/187508]\n",
            "loss: 4.077681  [152582/187508]\n"
          ]
        },
        {
          "output_type": "stream",
          "name": "stderr",
          "text": [
            "\r 31%|███▏      | 125/400 [37:43<1:22:50, 18.07s/it]"
          ]
        },
        {
          "output_type": "stream",
          "name": "stdout",
          "text": [
            "Validation set: Loss: 3.99488\n",
            "Validation loss decreased (3.994995 --> 3.994878).  Saving model ...\n",
            "\n",
            "\n",
            "loss: 3.921713  [50182/187508]\n",
            "loss: 3.972880  [101382/187508]\n",
            "loss: 3.956510  [152582/187508]\n"
          ]
        },
        {
          "output_type": "stream",
          "name": "stderr",
          "text": [
            "\r 32%|███▏      | 126/400 [38:01<1:22:03, 17.97s/it]"
          ]
        },
        {
          "output_type": "stream",
          "name": "stdout",
          "text": [
            "Validation set: Loss: 3.99536\n",
            "EarlyStopping counter: 1 out of 10\n",
            "\n",
            "\n",
            "loss: 3.994951  [50182/187508]\n",
            "loss: 4.057237  [101382/187508]\n",
            "loss: 3.974604  [152582/187508]\n"
          ]
        },
        {
          "output_type": "stream",
          "name": "stderr",
          "text": [
            "\r 32%|███▏      | 127/400 [38:19<1:21:43, 17.96s/it]"
          ]
        },
        {
          "output_type": "stream",
          "name": "stdout",
          "text": [
            "Validation set: Loss: 3.99478\n",
            "Validation loss decreased (3.994878 --> 3.994776).  Saving model ...\n",
            "\n",
            "\n",
            "loss: 4.042445  [50182/187508]\n",
            "loss: 4.057466  [101382/187508]\n",
            "loss: 3.983215  [152582/187508]\n"
          ]
        },
        {
          "output_type": "stream",
          "name": "stderr",
          "text": [
            "\r 32%|███▏      | 128/400 [38:37<1:22:03, 18.10s/it]"
          ]
        },
        {
          "output_type": "stream",
          "name": "stdout",
          "text": [
            "Validation set: Loss: 3.99496\n",
            "EarlyStopping counter: 1 out of 10\n",
            "\n",
            "\n",
            "loss: 4.008611  [50182/187508]\n",
            "loss: 3.988822  [101382/187508]\n",
            "loss: 4.030252  [152582/187508]\n"
          ]
        },
        {
          "output_type": "stream",
          "name": "stderr",
          "text": [
            "\r 32%|███▏      | 129/400 [38:54<1:20:33, 17.84s/it]"
          ]
        },
        {
          "output_type": "stream",
          "name": "stdout",
          "text": [
            "Validation set: Loss: 3.99518\n",
            "EarlyStopping counter: 2 out of 10\n",
            "\n",
            "\n",
            "loss: 4.023833  [50182/187508]\n",
            "loss: 4.045624  [101382/187508]\n",
            "loss: 4.080829  [152582/187508]\n"
          ]
        },
        {
          "output_type": "stream",
          "name": "stderr",
          "text": [
            "\r 32%|███▎      | 130/400 [39:12<1:19:35, 17.69s/it]"
          ]
        },
        {
          "output_type": "stream",
          "name": "stdout",
          "text": [
            "Validation set: Loss: 3.99487\n",
            "EarlyStopping counter: 3 out of 10\n",
            "\n",
            "\n",
            "loss: 3.989875  [50182/187508]\n",
            "loss: 4.024453  [101382/187508]\n",
            "loss: 4.055356  [152582/187508]\n"
          ]
        },
        {
          "output_type": "stream",
          "name": "stderr",
          "text": [
            "\r 33%|███▎      | 131/400 [39:30<1:20:39, 17.99s/it]"
          ]
        },
        {
          "output_type": "stream",
          "name": "stdout",
          "text": [
            "Validation set: Loss: 3.99489\n",
            "EarlyStopping counter: 4 out of 10\n",
            "\n",
            "\n",
            "loss: 3.931326  [50182/187508]\n",
            "loss: 3.941199  [101382/187508]\n",
            "loss: 4.060599  [152582/187508]\n"
          ]
        },
        {
          "output_type": "stream",
          "name": "stderr",
          "text": [
            "\r 33%|███▎      | 132/400 [39:48<1:19:43, 17.85s/it]"
          ]
        },
        {
          "output_type": "stream",
          "name": "stdout",
          "text": [
            "Validation set: Loss: 3.99520\n",
            "EarlyStopping counter: 5 out of 10\n",
            "\n",
            "\n",
            "loss: 3.964952  [50182/187508]\n",
            "loss: 4.034767  [101382/187508]\n",
            "loss: 3.909828  [152582/187508]\n"
          ]
        },
        {
          "output_type": "stream",
          "name": "stderr",
          "text": [
            "\r 33%|███▎      | 133/400 [40:05<1:19:09, 17.79s/it]"
          ]
        },
        {
          "output_type": "stream",
          "name": "stdout",
          "text": [
            "Validation set: Loss: 3.99468\n",
            "Validation loss decreased (3.994776 --> 3.994682).  Saving model ...\n",
            "\n",
            "\n",
            "loss: 3.910567  [50182/187508]\n",
            "loss: 3.910862  [101382/187508]\n",
            "loss: 4.014618  [152582/187508]\n"
          ]
        },
        {
          "output_type": "stream",
          "name": "stderr",
          "text": [
            "\r 34%|███▎      | 134/400 [40:24<1:20:09, 18.08s/it]"
          ]
        },
        {
          "output_type": "stream",
          "name": "stdout",
          "text": [
            "Validation set: Loss: 3.99484\n",
            "EarlyStopping counter: 1 out of 10\n",
            "\n",
            "\n",
            "loss: 3.983321  [50182/187508]\n",
            "loss: 3.952269  [101382/187508]\n",
            "loss: 4.005820  [152582/187508]\n"
          ]
        },
        {
          "output_type": "stream",
          "name": "stderr",
          "text": [
            "\r 34%|███▍      | 135/400 [40:42<1:18:50, 17.85s/it]"
          ]
        },
        {
          "output_type": "stream",
          "name": "stdout",
          "text": [
            "Validation set: Loss: 3.99467\n",
            "Validation loss decreased (3.994682 --> 3.994667).  Saving model ...\n",
            "\n",
            "\n",
            "loss: 3.933230  [50182/187508]\n",
            "loss: 4.024511  [101382/187508]\n",
            "loss: 3.983277  [152582/187508]\n"
          ]
        },
        {
          "output_type": "stream",
          "name": "stderr",
          "text": [
            "\r 34%|███▍      | 136/400 [40:59<1:18:05, 17.75s/it]"
          ]
        },
        {
          "output_type": "stream",
          "name": "stdout",
          "text": [
            "Validation set: Loss: 3.99463\n",
            "Validation loss decreased (3.994667 --> 3.994632).  Saving model ...\n",
            "\n",
            "\n",
            "loss: 4.049821  [50182/187508]\n",
            "loss: 3.871615  [101382/187508]\n",
            "loss: 3.938687  [152582/187508]\n"
          ]
        },
        {
          "output_type": "stream",
          "name": "stderr",
          "text": [
            "\r 34%|███▍      | 137/400 [41:18<1:18:51, 17.99s/it]"
          ]
        },
        {
          "output_type": "stream",
          "name": "stdout",
          "text": [
            "Validation set: Loss: 3.99462\n",
            "Validation loss decreased (3.994632 --> 3.994618).  Saving model ...\n",
            "\n",
            "\n",
            "loss: 4.014165  [50182/187508]\n",
            "loss: 4.007525  [101382/187508]\n",
            "loss: 4.062684  [152582/187508]\n"
          ]
        },
        {
          "output_type": "stream",
          "name": "stderr",
          "text": [
            "\r 34%|███▍      | 138/400 [41:35<1:17:29, 17.74s/it]"
          ]
        },
        {
          "output_type": "stream",
          "name": "stdout",
          "text": [
            "Validation set: Loss: 3.99452\n",
            "Validation loss decreased (3.994618 --> 3.994522).  Saving model ...\n",
            "\n",
            "\n",
            "loss: 4.018589  [50182/187508]\n",
            "loss: 4.005044  [101382/187508]\n",
            "loss: 4.036636  [152582/187508]\n"
          ]
        },
        {
          "output_type": "stream",
          "name": "stderr",
          "text": [
            "\r 35%|███▍      | 139/400 [41:52<1:16:46, 17.65s/it]"
          ]
        },
        {
          "output_type": "stream",
          "name": "stdout",
          "text": [
            "Validation set: Loss: 3.99500\n",
            "EarlyStopping counter: 1 out of 10\n",
            "\n",
            "\n",
            "loss: 3.894398  [50182/187508]\n",
            "loss: 4.010443  [101382/187508]\n",
            "loss: 3.899877  [152582/187508]\n"
          ]
        },
        {
          "output_type": "stream",
          "name": "stderr",
          "text": [
            "\r 35%|███▌      | 140/400 [42:10<1:16:51, 17.73s/it]"
          ]
        },
        {
          "output_type": "stream",
          "name": "stdout",
          "text": [
            "Validation set: Loss: 3.99476\n",
            "EarlyStopping counter: 2 out of 10\n",
            "\n",
            "\n",
            "loss: 4.073647  [50182/187508]\n",
            "loss: 4.010959  [101382/187508]\n",
            "loss: 4.098778  [152582/187508]\n"
          ]
        },
        {
          "output_type": "stream",
          "name": "stderr",
          "text": [
            "\r 35%|███▌      | 141/400 [42:30<1:19:04, 18.32s/it]"
          ]
        },
        {
          "output_type": "stream",
          "name": "stdout",
          "text": [
            "Validation set: Loss: 3.99480\n",
            "EarlyStopping counter: 3 out of 10\n",
            "\n",
            "\n",
            "loss: 3.973515  [50182/187508]\n",
            "loss: 4.032213  [101382/187508]\n",
            "loss: 4.050026  [152582/187508]\n"
          ]
        },
        {
          "output_type": "stream",
          "name": "stderr",
          "text": [
            "\r 36%|███▌      | 142/400 [42:47<1:17:33, 18.04s/it]"
          ]
        },
        {
          "output_type": "stream",
          "name": "stdout",
          "text": [
            "Validation set: Loss: 3.99461\n",
            "EarlyStopping counter: 4 out of 10\n",
            "\n",
            "\n",
            "loss: 4.015018  [50182/187508]\n",
            "loss: 4.020008  [101382/187508]\n",
            "loss: 4.051191  [152582/187508]\n"
          ]
        },
        {
          "output_type": "stream",
          "name": "stderr",
          "text": [
            "\r 36%|███▌      | 143/400 [43:05<1:17:21, 18.06s/it]"
          ]
        },
        {
          "output_type": "stream",
          "name": "stdout",
          "text": [
            "Validation set: Loss: 3.99488\n",
            "EarlyStopping counter: 5 out of 10\n",
            "\n",
            "\n",
            "loss: 3.990828  [50182/187508]\n",
            "loss: 3.969997  [101382/187508]\n",
            "loss: 4.042889  [152582/187508]\n"
          ]
        },
        {
          "output_type": "stream",
          "name": "stderr",
          "text": [
            "\r 36%|███▌      | 144/400 [43:24<1:17:45, 18.22s/it]"
          ]
        },
        {
          "output_type": "stream",
          "name": "stdout",
          "text": [
            "Validation set: Loss: 3.99457\n",
            "EarlyStopping counter: 6 out of 10\n",
            "\n",
            "\n",
            "loss: 3.892764  [50182/187508]\n",
            "loss: 3.989008  [101382/187508]\n",
            "loss: 4.018326  [152582/187508]\n"
          ]
        },
        {
          "output_type": "stream",
          "name": "stderr",
          "text": [
            "\r 36%|███▋      | 145/400 [43:42<1:16:40, 18.04s/it]"
          ]
        },
        {
          "output_type": "stream",
          "name": "stdout",
          "text": [
            "Validation set: Loss: 3.99452\n",
            "Validation loss decreased (3.994522 --> 3.994520).  Saving model ...\n",
            "\n",
            "\n",
            "loss: 3.996727  [50182/187508]\n",
            "loss: 4.004666  [101382/187508]\n",
            "loss: 3.952759  [152582/187508]\n"
          ]
        },
        {
          "output_type": "stream",
          "name": "stderr",
          "text": [
            "\r 36%|███▋      | 146/400 [44:00<1:16:25, 18.05s/it]"
          ]
        },
        {
          "output_type": "stream",
          "name": "stdout",
          "text": [
            "Validation set: Loss: 3.99481\n",
            "EarlyStopping counter: 1 out of 10\n",
            "\n",
            "\n",
            "loss: 4.033709  [50182/187508]\n",
            "loss: 3.990325  [101382/187508]\n",
            "loss: 4.139765  [152582/187508]\n"
          ]
        },
        {
          "output_type": "stream",
          "name": "stderr",
          "text": [
            "\r 37%|███▋      | 147/400 [44:18<1:16:58, 18.25s/it]"
          ]
        },
        {
          "output_type": "stream",
          "name": "stdout",
          "text": [
            "Validation set: Loss: 3.99467\n",
            "EarlyStopping counter: 2 out of 10\n",
            "\n",
            "\n",
            "loss: 4.072904  [50182/187508]\n",
            "loss: 3.955878  [101382/187508]\n",
            "loss: 3.984705  [152582/187508]\n"
          ]
        },
        {
          "output_type": "stream",
          "name": "stderr",
          "text": [
            "\r 37%|███▋      | 148/400 [44:36<1:15:41, 18.02s/it]"
          ]
        },
        {
          "output_type": "stream",
          "name": "stdout",
          "text": [
            "Validation set: Loss: 3.99465\n",
            "EarlyStopping counter: 3 out of 10\n",
            "\n",
            "\n",
            "loss: 3.986677  [50182/187508]\n",
            "loss: 4.085252  [101382/187508]\n",
            "loss: 4.056711  [152582/187508]\n"
          ]
        },
        {
          "output_type": "stream",
          "name": "stderr",
          "text": [
            "\r 37%|███▋      | 149/400 [44:54<1:15:06, 17.95s/it]"
          ]
        },
        {
          "output_type": "stream",
          "name": "stdout",
          "text": [
            "Validation set: Loss: 3.99460\n",
            "EarlyStopping counter: 4 out of 10\n",
            "\n",
            "\n",
            "loss: 3.929213  [50182/187508]\n",
            "loss: 4.080857  [101382/187508]\n",
            "loss: 4.029010  [152582/187508]\n"
          ]
        },
        {
          "output_type": "stream",
          "name": "stderr",
          "text": [
            "\r 38%|███▊      | 150/400 [45:13<1:16:01, 18.25s/it]"
          ]
        },
        {
          "output_type": "stream",
          "name": "stdout",
          "text": [
            "Validation set: Loss: 3.99449\n",
            "Validation loss decreased (3.994520 --> 3.994488).  Saving model ...\n",
            "\n",
            "\n",
            "loss: 3.997278  [50182/187508]\n",
            "loss: 4.027873  [101382/187508]\n",
            "loss: 3.907130  [152582/187508]\n"
          ]
        },
        {
          "output_type": "stream",
          "name": "stderr",
          "text": [
            "\r 38%|███▊      | 151/400 [45:32<1:17:49, 18.75s/it]"
          ]
        },
        {
          "output_type": "stream",
          "name": "stdout",
          "text": [
            "Validation set: Loss: 3.99454\n",
            "EarlyStopping counter: 1 out of 10\n",
            "\n",
            "\n",
            "loss: 4.049600  [50182/187508]\n",
            "loss: 3.898376  [101382/187508]\n",
            "loss: 3.964170  [152582/187508]\n"
          ]
        },
        {
          "output_type": "stream",
          "name": "stderr",
          "text": [
            "\r 38%|███▊      | 152/400 [45:51<1:17:10, 18.67s/it]"
          ]
        },
        {
          "output_type": "stream",
          "name": "stdout",
          "text": [
            "Validation set: Loss: 3.99430\n",
            "Validation loss decreased (3.994488 --> 3.994302).  Saving model ...\n",
            "\n",
            "\n",
            "loss: 4.061678  [50182/187508]\n",
            "loss: 4.032817  [101382/187508]\n",
            "loss: 3.985938  [152582/187508]\n"
          ]
        },
        {
          "output_type": "stream",
          "name": "stderr",
          "text": [
            "\r 38%|███▊      | 153/400 [46:09<1:16:22, 18.55s/it]"
          ]
        },
        {
          "output_type": "stream",
          "name": "stdout",
          "text": [
            "Validation set: Loss: 3.99509\n",
            "EarlyStopping counter: 1 out of 10\n",
            "\n",
            "\n",
            "loss: 4.019323  [50182/187508]\n",
            "loss: 3.927583  [101382/187508]\n",
            "loss: 3.957107  [152582/187508]\n"
          ]
        },
        {
          "output_type": "stream",
          "name": "stderr",
          "text": [
            "\r 38%|███▊      | 154/400 [46:27<1:15:23, 18.39s/it]"
          ]
        },
        {
          "output_type": "stream",
          "name": "stdout",
          "text": [
            "Validation set: Loss: 3.99483\n",
            "EarlyStopping counter: 2 out of 10\n",
            "\n",
            "\n",
            "loss: 4.015351  [50182/187508]\n",
            "loss: 3.921700  [101382/187508]\n",
            "loss: 4.004199  [152582/187508]\n"
          ]
        },
        {
          "output_type": "stream",
          "name": "stderr",
          "text": [
            "\r 39%|███▉      | 155/400 [46:46<1:15:32, 18.50s/it]"
          ]
        },
        {
          "output_type": "stream",
          "name": "stdout",
          "text": [
            "Validation set: Loss: 3.99463\n",
            "EarlyStopping counter: 3 out of 10\n",
            "\n",
            "\n",
            "loss: 3.969724  [50182/187508]\n",
            "loss: 4.030425  [101382/187508]\n",
            "loss: 3.903268  [152582/187508]\n"
          ]
        },
        {
          "output_type": "stream",
          "name": "stderr",
          "text": [
            "\r 39%|███▉      | 156/400 [47:04<1:15:00, 18.44s/it]"
          ]
        },
        {
          "output_type": "stream",
          "name": "stdout",
          "text": [
            "Validation set: Loss: 3.99451\n",
            "EarlyStopping counter: 4 out of 10\n",
            "\n",
            "\n",
            "loss: 3.946585  [50182/187508]\n",
            "loss: 4.019098  [101382/187508]\n",
            "loss: 3.976002  [152582/187508]\n"
          ]
        },
        {
          "output_type": "stream",
          "name": "stderr",
          "text": [
            "\r 39%|███▉      | 157/400 [47:22<1:13:55, 18.25s/it]"
          ]
        },
        {
          "output_type": "stream",
          "name": "stdout",
          "text": [
            "Validation set: Loss: 3.99433\n",
            "EarlyStopping counter: 5 out of 10\n",
            "\n",
            "\n",
            "loss: 4.032968  [50182/187508]\n",
            "loss: 4.046836  [101382/187508]\n",
            "loss: 4.078657  [152582/187508]\n"
          ]
        },
        {
          "output_type": "stream",
          "name": "stderr",
          "text": [
            "\r 40%|███▉      | 158/400 [47:41<1:14:32, 18.48s/it]"
          ]
        },
        {
          "output_type": "stream",
          "name": "stdout",
          "text": [
            "Validation set: Loss: 3.99475\n",
            "EarlyStopping counter: 6 out of 10\n",
            "\n",
            "\n",
            "loss: 4.061797  [50182/187508]\n",
            "loss: 3.921258  [101382/187508]\n",
            "loss: 4.002159  [152582/187508]\n"
          ]
        },
        {
          "output_type": "stream",
          "name": "stderr",
          "text": [
            "\r 40%|███▉      | 159/400 [47:59<1:13:02, 18.18s/it]"
          ]
        },
        {
          "output_type": "stream",
          "name": "stdout",
          "text": [
            "Validation set: Loss: 3.99420\n",
            "Validation loss decreased (3.994302 --> 3.994201).  Saving model ...\n",
            "\n",
            "\n",
            "loss: 4.028780  [50182/187508]\n",
            "loss: 3.893763  [101382/187508]\n",
            "loss: 3.989824  [152582/187508]\n"
          ]
        },
        {
          "output_type": "stream",
          "name": "stderr",
          "text": [
            "\r 40%|████      | 160/400 [48:16<1:11:59, 18.00s/it]"
          ]
        },
        {
          "output_type": "stream",
          "name": "stdout",
          "text": [
            "Validation set: Loss: 3.99433\n",
            "EarlyStopping counter: 1 out of 10\n",
            "\n",
            "\n",
            "loss: 3.969176  [50182/187508]\n",
            "loss: 4.053377  [101382/187508]\n",
            "loss: 3.999090  [152582/187508]\n"
          ]
        },
        {
          "output_type": "stream",
          "name": "stderr",
          "text": [
            "\r 40%|████      | 161/400 [48:35<1:12:29, 18.20s/it]"
          ]
        },
        {
          "output_type": "stream",
          "name": "stdout",
          "text": [
            "Validation set: Loss: 3.99445\n",
            "EarlyStopping counter: 2 out of 10\n",
            "\n",
            "\n",
            "loss: 3.927775  [50182/187508]\n",
            "loss: 3.964295  [101382/187508]\n",
            "loss: 3.992101  [152582/187508]\n"
          ]
        },
        {
          "output_type": "stream",
          "name": "stderr",
          "text": [
            "\r 40%|████      | 162/400 [48:52<1:11:18, 17.98s/it]"
          ]
        },
        {
          "output_type": "stream",
          "name": "stdout",
          "text": [
            "Validation set: Loss: 3.99423\n",
            "EarlyStopping counter: 3 out of 10\n",
            "\n",
            "\n",
            "loss: 3.968950  [50182/187508]\n",
            "loss: 4.047122  [101382/187508]\n",
            "loss: 4.062632  [152582/187508]\n"
          ]
        },
        {
          "output_type": "stream",
          "name": "stderr",
          "text": [
            "\r 41%|████      | 163/400 [49:10<1:10:33, 17.86s/it]"
          ]
        },
        {
          "output_type": "stream",
          "name": "stdout",
          "text": [
            "Validation set: Loss: 3.99413\n",
            "Validation loss decreased (3.994201 --> 3.994128).  Saving model ...\n",
            "\n",
            "\n",
            "loss: 4.063271  [50182/187508]\n",
            "loss: 4.075945  [101382/187508]\n",
            "loss: 4.048302  [152582/187508]\n"
          ]
        },
        {
          "output_type": "stream",
          "name": "stderr",
          "text": [
            "\r 41%|████      | 164/400 [49:28<1:11:05, 18.07s/it]"
          ]
        },
        {
          "output_type": "stream",
          "name": "stdout",
          "text": [
            "Validation set: Loss: 3.99408\n",
            "Validation loss decreased (3.994128 --> 3.994084).  Saving model ...\n",
            "\n",
            "\n",
            "loss: 4.094481  [50182/187508]\n",
            "loss: 3.950614  [101382/187508]\n",
            "loss: 3.930289  [152582/187508]\n"
          ]
        },
        {
          "output_type": "stream",
          "name": "stderr",
          "text": [
            "\r 41%|████▏     | 165/400 [49:46<1:09:52, 17.84s/it]"
          ]
        },
        {
          "output_type": "stream",
          "name": "stdout",
          "text": [
            "Validation set: Loss: 3.99427\n",
            "EarlyStopping counter: 1 out of 10\n",
            "\n",
            "\n",
            "loss: 4.058183  [50182/187508]\n",
            "loss: 3.987635  [101382/187508]\n",
            "loss: 4.010454  [152582/187508]\n"
          ]
        },
        {
          "output_type": "stream",
          "name": "stderr",
          "text": [
            "\r 42%|████▏     | 166/400 [50:04<1:09:26, 17.80s/it]"
          ]
        },
        {
          "output_type": "stream",
          "name": "stdout",
          "text": [
            "Validation set: Loss: 3.99422\n",
            "EarlyStopping counter: 2 out of 10\n",
            "\n",
            "\n",
            "loss: 3.958240  [50182/187508]\n",
            "loss: 4.053839  [101382/187508]\n",
            "loss: 3.988962  [152582/187508]\n"
          ]
        },
        {
          "output_type": "stream",
          "name": "stderr",
          "text": [
            "\r 42%|████▏     | 167/400 [50:22<1:09:28, 17.89s/it]"
          ]
        },
        {
          "output_type": "stream",
          "name": "stdout",
          "text": [
            "Validation set: Loss: 3.99422\n",
            "EarlyStopping counter: 3 out of 10\n",
            "\n",
            "\n",
            "loss: 4.051941  [50182/187508]\n",
            "loss: 4.055695  [101382/187508]\n",
            "loss: 3.983063  [152582/187508]\n"
          ]
        },
        {
          "output_type": "stream",
          "name": "stderr",
          "text": [
            "\r 42%|████▏     | 168/400 [50:40<1:09:22, 17.94s/it]"
          ]
        },
        {
          "output_type": "stream",
          "name": "stdout",
          "text": [
            "Validation set: Loss: 3.99419\n",
            "EarlyStopping counter: 4 out of 10\n",
            "\n",
            "\n",
            "loss: 4.037167  [50182/187508]\n",
            "loss: 4.015363  [101382/187508]\n",
            "loss: 4.072412  [152582/187508]\n"
          ]
        },
        {
          "output_type": "stream",
          "name": "stderr",
          "text": [
            "\r 42%|████▏     | 169/400 [50:58<1:09:54, 18.16s/it]"
          ]
        },
        {
          "output_type": "stream",
          "name": "stdout",
          "text": [
            "Validation set: Loss: 3.99402\n",
            "Validation loss decreased (3.994084 --> 3.994015).  Saving model ...\n",
            "\n",
            "\n",
            "loss: 4.019133  [50182/187508]\n",
            "loss: 3.976633  [101382/187508]\n",
            "loss: 3.999764  [152582/187508]\n"
          ]
        },
        {
          "output_type": "stream",
          "name": "stderr",
          "text": [
            "\r 42%|████▎     | 170/400 [51:17<1:09:43, 18.19s/it]"
          ]
        },
        {
          "output_type": "stream",
          "name": "stdout",
          "text": [
            "Validation set: Loss: 3.99467\n",
            "EarlyStopping counter: 1 out of 10\n",
            "\n",
            "\n",
            "loss: 3.922290  [50182/187508]\n",
            "loss: 3.980647  [101382/187508]\n",
            "loss: 4.036679  [152582/187508]\n"
          ]
        },
        {
          "output_type": "stream",
          "name": "stderr",
          "text": [
            "\r 43%|████▎     | 171/400 [51:35<1:09:11, 18.13s/it]"
          ]
        },
        {
          "output_type": "stream",
          "name": "stdout",
          "text": [
            "Validation set: Loss: 3.99412\n",
            "EarlyStopping counter: 2 out of 10\n",
            "\n",
            "\n",
            "loss: 4.053465  [50182/187508]\n",
            "loss: 4.036737  [101382/187508]\n",
            "loss: 3.978380  [152582/187508]\n"
          ]
        },
        {
          "output_type": "stream",
          "name": "stderr",
          "text": [
            "\r 43%|████▎     | 172/400 [51:52<1:08:06, 17.92s/it]"
          ]
        },
        {
          "output_type": "stream",
          "name": "stdout",
          "text": [
            "Validation set: Loss: 3.99424\n",
            "EarlyStopping counter: 3 out of 10\n",
            "\n",
            "\n",
            "loss: 3.891827  [50182/187508]\n",
            "loss: 3.984695  [101382/187508]\n",
            "loss: 4.031529  [152582/187508]\n"
          ]
        },
        {
          "output_type": "stream",
          "name": "stderr",
          "text": [
            "\r 43%|████▎     | 173/400 [52:10<1:07:52, 17.94s/it]"
          ]
        },
        {
          "output_type": "stream",
          "name": "stdout",
          "text": [
            "Validation set: Loss: 3.99391\n",
            "Validation loss decreased (3.994015 --> 3.993911).  Saving model ...\n",
            "\n",
            "\n",
            "loss: 3.976689  [50182/187508]\n",
            "loss: 4.103769  [101382/187508]\n",
            "loss: 3.967169  [152582/187508]\n"
          ]
        },
        {
          "output_type": "stream",
          "name": "stderr",
          "text": [
            "\r 44%|████▎     | 174/400 [52:28<1:08:00, 18.06s/it]"
          ]
        },
        {
          "output_type": "stream",
          "name": "stdout",
          "text": [
            "Validation set: Loss: 3.99402\n",
            "EarlyStopping counter: 1 out of 10\n",
            "\n",
            "\n",
            "loss: 3.984154  [50182/187508]\n",
            "loss: 4.030326  [101382/187508]\n",
            "loss: 3.946220  [152582/187508]\n"
          ]
        },
        {
          "output_type": "stream",
          "name": "stderr",
          "text": [
            "\r 44%|████▍     | 175/400 [52:46<1:06:53, 17.84s/it]"
          ]
        },
        {
          "output_type": "stream",
          "name": "stdout",
          "text": [
            "Validation set: Loss: 3.99424\n",
            "EarlyStopping counter: 2 out of 10\n",
            "\n",
            "\n",
            "loss: 4.057824  [50182/187508]\n",
            "loss: 3.986270  [101382/187508]\n",
            "loss: 3.976414  [152582/187508]\n"
          ]
        },
        {
          "output_type": "stream",
          "name": "stderr",
          "text": [
            "\r 44%|████▍     | 176/400 [53:03<1:06:16, 17.75s/it]"
          ]
        },
        {
          "output_type": "stream",
          "name": "stdout",
          "text": [
            "Validation set: Loss: 3.99418\n",
            "EarlyStopping counter: 3 out of 10\n",
            "\n",
            "\n",
            "loss: 4.034408  [50182/187508]\n",
            "loss: 3.958148  [101382/187508]\n",
            "loss: 3.960210  [152582/187508]\n"
          ]
        },
        {
          "output_type": "stream",
          "name": "stderr",
          "text": [
            "\r 44%|████▍     | 177/400 [53:22<1:06:43, 17.95s/it]"
          ]
        },
        {
          "output_type": "stream",
          "name": "stdout",
          "text": [
            "Validation set: Loss: 3.99415\n",
            "EarlyStopping counter: 4 out of 10\n",
            "\n",
            "\n",
            "loss: 3.996181  [50182/187508]\n",
            "loss: 4.054911  [101382/187508]\n",
            "loss: 3.992809  [152582/187508]\n"
          ]
        },
        {
          "output_type": "stream",
          "name": "stderr",
          "text": [
            "\r 44%|████▍     | 178/400 [53:39<1:05:54, 17.81s/it]"
          ]
        },
        {
          "output_type": "stream",
          "name": "stdout",
          "text": [
            "Validation set: Loss: 3.99430\n",
            "EarlyStopping counter: 5 out of 10\n",
            "\n",
            "\n",
            "loss: 3.998375  [50182/187508]\n",
            "loss: 3.964538  [101382/187508]\n",
            "loss: 4.055902  [152582/187508]\n"
          ]
        },
        {
          "output_type": "stream",
          "name": "stderr",
          "text": [
            "\r 45%|████▍     | 179/400 [53:56<1:05:06, 17.68s/it]"
          ]
        },
        {
          "output_type": "stream",
          "name": "stdout",
          "text": [
            "Validation set: Loss: 3.99406\n",
            "EarlyStopping counter: 6 out of 10\n",
            "\n",
            "\n",
            "loss: 4.010431  [50182/187508]\n",
            "loss: 3.970504  [101382/187508]\n",
            "loss: 4.013668  [152582/187508]\n"
          ]
        },
        {
          "output_type": "stream",
          "name": "stderr",
          "text": [
            "\r 45%|████▌     | 180/400 [54:15<1:05:55, 17.98s/it]"
          ]
        },
        {
          "output_type": "stream",
          "name": "stdout",
          "text": [
            "Validation set: Loss: 3.99379\n",
            "Validation loss decreased (3.993911 --> 3.993789).  Saving model ...\n",
            "\n",
            "\n",
            "loss: 4.018125  [50182/187508]\n",
            "loss: 3.987714  [101382/187508]\n",
            "loss: 3.966502  [152582/187508]\n"
          ]
        },
        {
          "output_type": "stream",
          "name": "stderr",
          "text": [
            "\r 45%|████▌     | 181/400 [54:32<1:04:51, 17.77s/it]"
          ]
        },
        {
          "output_type": "stream",
          "name": "stdout",
          "text": [
            "Validation set: Loss: 3.99438\n",
            "EarlyStopping counter: 1 out of 10\n",
            "\n",
            "\n",
            "loss: 3.985432  [50182/187508]\n",
            "loss: 4.049277  [101382/187508]\n",
            "loss: 4.021930  [152582/187508]\n"
          ]
        },
        {
          "output_type": "stream",
          "name": "stderr",
          "text": [
            "\r 46%|████▌     | 182/400 [54:50<1:04:12, 17.67s/it]"
          ]
        },
        {
          "output_type": "stream",
          "name": "stdout",
          "text": [
            "Validation set: Loss: 3.99484\n",
            "EarlyStopping counter: 2 out of 10\n",
            "\n",
            "\n",
            "loss: 3.955272  [50182/187508]\n",
            "loss: 4.014791  [101382/187508]\n",
            "loss: 4.094781  [152582/187508]\n"
          ]
        },
        {
          "output_type": "stream",
          "name": "stderr",
          "text": [
            "\r 46%|████▌     | 183/400 [55:09<1:05:10, 18.02s/it]"
          ]
        },
        {
          "output_type": "stream",
          "name": "stdout",
          "text": [
            "Validation set: Loss: 3.99428\n",
            "EarlyStopping counter: 3 out of 10\n",
            "\n",
            "\n",
            "loss: 3.968592  [50182/187508]\n",
            "loss: 3.951384  [101382/187508]\n",
            "loss: 3.998766  [152582/187508]\n"
          ]
        },
        {
          "output_type": "stream",
          "name": "stderr",
          "text": [
            "\r 46%|████▌     | 184/400 [55:26<1:04:00, 17.78s/it]"
          ]
        },
        {
          "output_type": "stream",
          "name": "stdout",
          "text": [
            "Validation set: Loss: 3.99393\n",
            "EarlyStopping counter: 4 out of 10\n",
            "\n",
            "\n",
            "loss: 4.148394  [50182/187508]\n",
            "loss: 3.946702  [101382/187508]\n",
            "loss: 3.959443  [152582/187508]\n"
          ]
        },
        {
          "output_type": "stream",
          "name": "stderr",
          "text": [
            "\r 46%|████▋     | 185/400 [55:44<1:03:36, 17.75s/it]"
          ]
        },
        {
          "output_type": "stream",
          "name": "stdout",
          "text": [
            "Validation set: Loss: 3.99414\n",
            "EarlyStopping counter: 5 out of 10\n",
            "\n",
            "\n",
            "loss: 3.979780  [50182/187508]\n",
            "loss: 4.051384  [101382/187508]\n",
            "loss: 4.037834  [152582/187508]\n"
          ]
        },
        {
          "output_type": "stream",
          "name": "stderr",
          "text": [
            "\r 46%|████▋     | 186/400 [56:03<1:04:45, 18.16s/it]"
          ]
        },
        {
          "output_type": "stream",
          "name": "stdout",
          "text": [
            "Validation set: Loss: 3.99391\n",
            "EarlyStopping counter: 6 out of 10\n",
            "\n",
            "\n",
            "loss: 3.954607  [50182/187508]\n",
            "loss: 3.935412  [101382/187508]\n",
            "loss: 3.966633  [152582/187508]\n"
          ]
        },
        {
          "output_type": "stream",
          "name": "stderr",
          "text": [
            "\r 47%|████▋     | 187/400 [56:22<1:05:49, 18.54s/it]"
          ]
        },
        {
          "output_type": "stream",
          "name": "stdout",
          "text": [
            "Validation set: Loss: 3.99421\n",
            "EarlyStopping counter: 7 out of 10\n",
            "\n",
            "\n",
            "loss: 4.008827  [50182/187508]\n",
            "loss: 4.032092  [101382/187508]\n",
            "loss: 4.016308  [152582/187508]\n"
          ]
        },
        {
          "output_type": "stream",
          "name": "stderr",
          "text": [
            "\r 47%|████▋     | 188/400 [56:40<1:04:36, 18.28s/it]"
          ]
        },
        {
          "output_type": "stream",
          "name": "stdout",
          "text": [
            "Validation set: Loss: 3.99401\n",
            "EarlyStopping counter: 8 out of 10\n",
            "\n",
            "\n",
            "loss: 3.962711  [50182/187508]\n",
            "loss: 3.927487  [101382/187508]\n",
            "loss: 4.085480  [152582/187508]\n"
          ]
        },
        {
          "output_type": "stream",
          "name": "stderr",
          "text": [
            "\r 47%|████▋     | 189/400 [56:58<1:04:35, 18.37s/it]"
          ]
        },
        {
          "output_type": "stream",
          "name": "stdout",
          "text": [
            "Validation set: Loss: 3.99399\n",
            "EarlyStopping counter: 9 out of 10\n",
            "\n",
            "\n",
            "loss: 3.917972  [50182/187508]\n",
            "loss: 4.008034  [101382/187508]\n",
            "loss: 4.060697  [152582/187508]\n"
          ]
        },
        {
          "output_type": "stream",
          "name": "stderr",
          "text": [
            "\r 47%|████▋     | 189/400 [57:16<1:03:56, 18.18s/it]"
          ]
        },
        {
          "output_type": "stream",
          "name": "stdout",
          "text": [
            "Validation set: Loss: 3.99411\n",
            "EarlyStopping counter: 10 out of 10\n",
            "Done!\n"
          ]
        },
        {
          "output_type": "stream",
          "name": "stderr",
          "text": [
            "\n"
          ]
        }
      ],
      "source": [
        "criterion = ZILNLoss()\n",
        "optimizer = torch.optim.Adam(model.parameters(), lr=lr)\n",
        "early_stopper = EarlyStopping(patience=10, delta=0, verbose=True)\n",
        "trainer = ModelTrainer(model, criterion, optimizer, train_dataloader, val_dataloader, epochs=num_epochs, early_stopping=early_stopper)\n",
        "trainer.train()"
      ]
    },
    {
      "cell_type": "markdown",
      "metadata": {
        "id": "v_iJ0f2OXQqK"
      },
      "source": [
        "### Inference"
      ]
    },
    {
      "cell_type": "code",
      "execution_count": 13,
      "metadata": {
        "id": "HHM0a_noXQqK",
        "colab": {
          "base_uri": "https://localhost:8080/",
          "height": 81
        },
        "outputId": "2f2c547c-ed5f-41b9-b9a8-65f4d1e9653d"
      },
      "outputs": [
        {
          "output_type": "execute_result",
          "data": {
            "text/plain": [
              "  company  label_mean  pred_mean  label_positive  decile_mape  baseline_gini  \\\n",
              "0   10000   37.320732   35.29916        0.851505     0.083072       0.539581   \n",
              "\n",
              "       gini  spearman_corr  \n",
              "0  0.665985       0.322709  "
            ],
            "text/html": [
              "\n",
              "  <div id=\"df-9735d44f-e41d-49f1-92cd-c8189bb95e78\" class=\"colab-df-container\">\n",
              "    <div>\n",
              "<style scoped>\n",
              "    .dataframe tbody tr th:only-of-type {\n",
              "        vertical-align: middle;\n",
              "    }\n",
              "\n",
              "    .dataframe tbody tr th {\n",
              "        vertical-align: top;\n",
              "    }\n",
              "\n",
              "    .dataframe thead th {\n",
              "        text-align: right;\n",
              "    }\n",
              "</style>\n",
              "<table border=\"1\" class=\"dataframe\">\n",
              "  <thead>\n",
              "    <tr style=\"text-align: right;\">\n",
              "      <th></th>\n",
              "      <th>company</th>\n",
              "      <th>label_mean</th>\n",
              "      <th>pred_mean</th>\n",
              "      <th>label_positive</th>\n",
              "      <th>decile_mape</th>\n",
              "      <th>baseline_gini</th>\n",
              "      <th>gini</th>\n",
              "      <th>spearman_corr</th>\n",
              "    </tr>\n",
              "  </thead>\n",
              "  <tbody>\n",
              "    <tr>\n",
              "      <th>0</th>\n",
              "      <td>10000</td>\n",
              "      <td>37.320732</td>\n",
              "      <td>35.29916</td>\n",
              "      <td>0.851505</td>\n",
              "      <td>0.083072</td>\n",
              "      <td>0.539581</td>\n",
              "      <td>0.665985</td>\n",
              "      <td>0.322709</td>\n",
              "    </tr>\n",
              "  </tbody>\n",
              "</table>\n",
              "</div>\n",
              "    <div class=\"colab-df-buttons\">\n",
              "\n",
              "  <div class=\"colab-df-container\">\n",
              "    <button class=\"colab-df-convert\" onclick=\"convertToInteractive('df-9735d44f-e41d-49f1-92cd-c8189bb95e78')\"\n",
              "            title=\"Convert this dataframe to an interactive table.\"\n",
              "            style=\"display:none;\">\n",
              "\n",
              "  <svg xmlns=\"http://www.w3.org/2000/svg\" height=\"24px\" viewBox=\"0 -960 960 960\">\n",
              "    <path d=\"M120-120v-720h720v720H120Zm60-500h600v-160H180v160Zm220 220h160v-160H400v160Zm0 220h160v-160H400v160ZM180-400h160v-160H180v160Zm440 0h160v-160H620v160ZM180-180h160v-160H180v160Zm440 0h160v-160H620v160Z\"/>\n",
              "  </svg>\n",
              "    </button>\n",
              "\n",
              "  <style>\n",
              "    .colab-df-container {\n",
              "      display:flex;\n",
              "      gap: 12px;\n",
              "    }\n",
              "\n",
              "    .colab-df-convert {\n",
              "      background-color: #E8F0FE;\n",
              "      border: none;\n",
              "      border-radius: 50%;\n",
              "      cursor: pointer;\n",
              "      display: none;\n",
              "      fill: #1967D2;\n",
              "      height: 32px;\n",
              "      padding: 0 0 0 0;\n",
              "      width: 32px;\n",
              "    }\n",
              "\n",
              "    .colab-df-convert:hover {\n",
              "      background-color: #E2EBFA;\n",
              "      box-shadow: 0px 1px 2px rgba(60, 64, 67, 0.3), 0px 1px 3px 1px rgba(60, 64, 67, 0.15);\n",
              "      fill: #174EA6;\n",
              "    }\n",
              "\n",
              "    .colab-df-buttons div {\n",
              "      margin-bottom: 4px;\n",
              "    }\n",
              "\n",
              "    [theme=dark] .colab-df-convert {\n",
              "      background-color: #3B4455;\n",
              "      fill: #D2E3FC;\n",
              "    }\n",
              "\n",
              "    [theme=dark] .colab-df-convert:hover {\n",
              "      background-color: #434B5C;\n",
              "      box-shadow: 0px 1px 3px 1px rgba(0, 0, 0, 0.15);\n",
              "      filter: drop-shadow(0px 1px 2px rgba(0, 0, 0, 0.3));\n",
              "      fill: #FFFFFF;\n",
              "    }\n",
              "  </style>\n",
              "\n",
              "    <script>\n",
              "      const buttonEl =\n",
              "        document.querySelector('#df-9735d44f-e41d-49f1-92cd-c8189bb95e78 button.colab-df-convert');\n",
              "      buttonEl.style.display =\n",
              "        google.colab.kernel.accessAllowed ? 'block' : 'none';\n",
              "\n",
              "      async function convertToInteractive(key) {\n",
              "        const element = document.querySelector('#df-9735d44f-e41d-49f1-92cd-c8189bb95e78');\n",
              "        const dataTable =\n",
              "          await google.colab.kernel.invokeFunction('convertToInteractive',\n",
              "                                                    [key], {});\n",
              "        if (!dataTable) return;\n",
              "\n",
              "        const docLinkHtml = 'Like what you see? Visit the ' +\n",
              "          '<a target=\"_blank\" href=https://colab.research.google.com/notebooks/data_table.ipynb>data table notebook</a>'\n",
              "          + ' to learn more about interactive tables.';\n",
              "        element.innerHTML = '';\n",
              "        dataTable['output_type'] = 'display_data';\n",
              "        await google.colab.output.renderOutput(dataTable, element);\n",
              "        const docLink = document.createElement('div');\n",
              "        docLink.innerHTML = docLinkHtml;\n",
              "        element.appendChild(docLink);\n",
              "      }\n",
              "    </script>\n",
              "  </div>\n",
              "\n",
              "\n",
              "    </div>\n",
              "  </div>\n"
            ],
            "application/vnd.google.colaboratory.intrinsic+json": {
              "type": "dataframe",
              "summary": "{\n  \"name\": \"metrics\",\n  \"rows\": 1,\n  \"fields\": [\n    {\n      \"column\": \"company\",\n      \"properties\": {\n        \"dtype\": \"string\",\n        \"num_unique_values\": 1,\n        \"samples\": [\n          \"10000\"\n        ],\n        \"semantic_type\": \"\",\n        \"description\": \"\"\n      }\n    },\n    {\n      \"column\": \"label_mean\",\n      \"properties\": {\n        \"dtype\": \"number\",\n        \"std\": null,\n        \"min\": 37.32073212876251,\n        \"max\": 37.32073212876251,\n        \"num_unique_values\": 1,\n        \"samples\": [\n          37.32073212876251\n        ],\n        \"semantic_type\": \"\",\n        \"description\": \"\"\n      }\n    },\n    {\n      \"column\": \"pred_mean\",\n      \"properties\": {\n        \"dtype\": \"float32\",\n        \"num_unique_values\": 1,\n        \"samples\": [\n          35.29916000366211\n        ],\n        \"semantic_type\": \"\",\n        \"description\": \"\"\n      }\n    },\n    {\n      \"column\": \"label_positive\",\n      \"properties\": {\n        \"dtype\": \"number\",\n        \"std\": null,\n        \"min\": 0.8515050024532287,\n        \"max\": 0.8515050024532287,\n        \"num_unique_values\": 1,\n        \"samples\": [\n          0.8515050024532287\n        ],\n        \"semantic_type\": \"\",\n        \"description\": \"\"\n      }\n    },\n    {\n      \"column\": \"decile_mape\",\n      \"properties\": {\n        \"dtype\": \"number\",\n        \"std\": null,\n        \"min\": 0.08307153516458679,\n        \"max\": 0.08307153516458679,\n        \"num_unique_values\": 1,\n        \"samples\": [\n          0.08307153516458679\n        ],\n        \"semantic_type\": \"\",\n        \"description\": \"\"\n      }\n    },\n    {\n      \"column\": \"baseline_gini\",\n      \"properties\": {\n        \"dtype\": \"number\",\n        \"std\": null,\n        \"min\": 0.5395808841553011,\n        \"max\": 0.5395808841553011,\n        \"num_unique_values\": 1,\n        \"samples\": [\n          0.5395808841553011\n        ],\n        \"semantic_type\": \"\",\n        \"description\": \"\"\n      }\n    },\n    {\n      \"column\": \"gini\",\n      \"properties\": {\n        \"dtype\": \"number\",\n        \"std\": null,\n        \"min\": 0.6659846349310973,\n        \"max\": 0.6659846349310973,\n        \"num_unique_values\": 1,\n        \"samples\": [\n          0.6659846349310973\n        ],\n        \"semantic_type\": \"\",\n        \"description\": \"\"\n      }\n    },\n    {\n      \"column\": \"spearman_corr\",\n      \"properties\": {\n        \"dtype\": \"number\",\n        \"std\": null,\n        \"min\": 0.3227089509276332,\n        \"max\": 0.3227089509276332,\n        \"num_unique_values\": 1,\n        \"samples\": [\n          0.3227089509276332\n        ],\n        \"semantic_type\": \"\",\n        \"description\": \"\"\n      }\n    }\n  ]\n}"
            }
          },
          "metadata": {},
          "execution_count": 13
        }
      ],
      "source": [
        "y_pred = model.predict(val_dataloader)\n",
        "metrics.get_metric_report(y_val, y_pred, y0_val, company=company)"
      ]
    }
  ],
  "metadata": {
    "kernelspec": {
      "display_name": "Python 3",
      "name": "python3"
    },
    "language_info": {
      "name": "python",
      "version": "3.11.6"
    },
    "colab": {
      "provenance": [],
      "gpuType": "T4"
    },
    "accelerator": "GPU"
  },
  "nbformat": 4,
  "nbformat_minor": 0
}