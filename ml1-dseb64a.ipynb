{
 "cells": [
  {
   "cell_type": "markdown",
   "id": "51c17850",
   "metadata": {
    "id": "view-in-github",
    "papermill": {
     "duration": 0.003514,
     "end_time": "2024-10-18T07:57:11.830532",
     "exception": false,
     "start_time": "2024-10-18T07:57:11.827018",
     "status": "completed"
    },
    "tags": []
   },
   "source": [
    "<a href=\"https://colab.research.google.com/gist/pilgrimwanderer/0f868d61c33ad415b9262122c2d582af/example_usage.ipynb\" target=\"_parent\"><img src=\"https://colab.research.google.com/assets/colab-badge.svg\" alt=\"Open In Colab\"/></a>"
   ]
  },
  {
   "cell_type": "code",
   "execution_count": 1,
   "id": "03d8b78f",
   "metadata": {
    "execution": {
     "iopub.execute_input": "2024-10-18T07:57:11.838605Z",
     "iopub.status.busy": "2024-10-18T07:57:11.837975Z",
     "iopub.status.idle": "2024-10-18T07:57:18.496369Z",
     "shell.execute_reply": "2024-10-18T07:57:18.495409Z"
    },
    "id": "UQ5tOQnqzg50",
    "outputId": "56339a9f-f0d7-45be-b3c2-567217d0dbaf",
    "papermill": {
     "duration": 6.66469,
     "end_time": "2024-10-18T07:57:18.498560",
     "exception": false,
     "start_time": "2024-10-18T07:57:11.833870",
     "status": "completed"
    },
    "tags": []
   },
   "outputs": [
    {
     "name": "stdout",
     "output_type": "stream",
     "text": [
      "Cloning into 'ML1_group_8'...\r\n",
      "remote: Enumerating objects: 156, done.\u001b[K\r\n",
      "remote: Counting objects: 100% (109/109), done.\u001b[K\r\n",
      "remote: Compressing objects: 100% (72/72), done.\u001b[K\r\n",
      "remote: Total 156 (delta 33), reused 73 (delta 16), pack-reused 47 (from 1)\u001b[K\r\n",
      "Receiving objects: 100% (156/156), 76.29 MiB | 22.64 MiB/s, done.\r\n",
      "Resolving deltas: 100% (33/33), done.\r\n",
      "Updating files: 100% (40/40), done.\r\n"
     ]
    }
   ],
   "source": [
    "!git clone https://github.com/pilgrimwanderer/ML1_group_8"
   ]
  },
  {
   "cell_type": "markdown",
   "id": "a6e95a53",
   "metadata": {
    "id": "uXqea05sCUBA",
    "papermill": {
     "duration": 0.005106,
     "end_time": "2024-10-18T07:57:18.509461",
     "exception": false,
     "start_time": "2024-10-18T07:57:18.504355",
     "status": "completed"
    },
    "tags": []
   },
   "source": [
    "### Declaring some global variables and importing libraries"
   ]
  },
  {
   "cell_type": "code",
   "execution_count": 2,
   "id": "16e18a01",
   "metadata": {
    "execution": {
     "iopub.execute_input": "2024-10-18T07:57:18.521969Z",
     "iopub.status.busy": "2024-10-18T07:57:18.521580Z",
     "iopub.status.idle": "2024-10-18T07:57:23.765617Z",
     "shell.execute_reply": "2024-10-18T07:57:23.764559Z"
    },
    "id": "EQbzTo45C9VY",
    "outputId": "09292467-3673-4d74-e4f5-cb859bec7e79",
    "papermill": {
     "duration": 5.252933,
     "end_time": "2024-10-18T07:57:23.767862",
     "exception": false,
     "start_time": "2024-10-18T07:57:18.514929",
     "status": "completed"
    },
    "tags": []
   },
   "outputs": [
    {
     "name": "stdout",
     "output_type": "stream",
     "text": [
      "/kaggle/working/ML1_group_8\n"
     ]
    }
   ],
   "source": [
    "%cd /kaggle/working/ML1_group_8\n",
    "\n",
    "from src.modeling.model import DNNModel\n",
    "\n",
    "from src.modeling.loss import ZILNLoss, calculate_predictions\n",
    "\n",
    "from src.utils.early_stopping import EarlyStopping\n",
    "\n",
    "from src.utils.data import split_train_val, _to_torch_dataset\n",
    "\n",
    "from src import metrics\n",
    "\n",
    "from src.trainer import ModelTrainer\n",
    "\n",
    "from src.utils.constants import COMPANIES\n",
    "\n",
    "import torch\n",
    "\n",
    "from tqdm import tqdm\n",
    "\n",
    "\n",
    "\n",
    "import pandas as pd\n",
    "\n",
    "import numpy as np\n",
    "\n",
    "import os"
   ]
  },
  {
   "cell_type": "code",
   "execution_count": 3,
   "id": "ccd67239",
   "metadata": {
    "execution": {
     "iopub.execute_input": "2024-10-18T07:57:23.779801Z",
     "iopub.status.busy": "2024-10-18T07:57:23.779347Z",
     "iopub.status.idle": "2024-10-18T07:57:23.783659Z",
     "shell.execute_reply": "2024-10-18T07:57:23.782778Z"
    },
    "id": "GA5FhFt3CWrv",
    "papermill": {
     "duration": 0.012249,
     "end_time": "2024-10-18T07:57:23.785510",
     "exception": false,
     "start_time": "2024-10-18T07:57:23.773261",
     "status": "completed"
    },
    "tags": []
   },
   "outputs": [],
   "source": [
    "lr = 2e-4\n",
    "\n",
    "num_epochs = 400\n",
    "\n",
    "\n",
    "\n",
    "\n",
    "\n",
    "PATH = '/kaggle/working/ML1_group_8/segmented_data/' #change this to your directory\n",
    "\n",
    "# Leave this as is if you're running on Google Colab."
   ]
  },
  {
   "cell_type": "code",
   "execution_count": 4,
   "id": "b2be0994",
   "metadata": {
    "execution": {
     "iopub.execute_input": "2024-10-18T07:57:23.798584Z",
     "iopub.status.busy": "2024-10-18T07:57:23.798299Z",
     "iopub.status.idle": "2024-10-18T07:57:23.806408Z",
     "shell.execute_reply": "2024-10-18T07:57:23.805539Z"
    },
    "id": "YLn3ygdnxf-1",
    "papermill": {
     "duration": 0.017322,
     "end_time": "2024-10-18T07:57:23.808215",
     "exception": false,
     "start_time": "2024-10-18T07:57:23.790893",
     "status": "completed"
    },
    "tags": []
   },
   "outputs": [],
   "source": [
    "def pipeline_ziln(company):\n",
    "\n",
    "    print(f\"Performing the ZILN pipeline for company {company}\")\n",
    "\n",
    "    df = pd.read_csv(os.path.join(PATH, f'{company}.csv'))\n",
    "\n",
    "\n",
    "\n",
    "    X_train, X_val, y_train, y_val, y0_val = split_train_val(df, random_state=11, test_size=0.2)\n",
    "\n",
    "    train_dataset, train_dataloader = _to_torch_dataset(X_train, y_train, train=True)\n",
    "\n",
    "    val_dataset, val_dataloader = _to_torch_dataset(X_val, y_val, train=False)\n",
    "\n",
    "    model = DNNModel(df, output_units=3)\n",
    "\n",
    "\n",
    "\n",
    "\n",
    "\n",
    "    optimizer = torch.optim.Adam(model.parameters(), lr=lr)\n",
    "\n",
    "    criterion = ZILNLoss()\n",
    "\n",
    "    early_stopper = EarlyStopping(patience=10, delta=0, verbose=True)\n",
    "\n",
    "    trainer = ModelTrainer(model, criterion, optimizer, train_dataloader, val_dataloader, epochs=num_epochs, early_stopping=early_stopper)\n",
    "\n",
    "    trainer.train()\n",
    "\n",
    "\n",
    "\n",
    "    y_pred = model.predict(val_dataloader)\n",
    "\n",
    "    report = metrics.get_metric_report(y_val, y_pred, y0_val, company=company)\n",
    "\n",
    "\n",
    "\n",
    "    return report\n",
    "\n",
    "\n"
   ]
  },
  {
   "cell_type": "markdown",
   "id": "81f7a59b",
   "metadata": {
    "id": "HSvXauOzO4N3",
    "papermill": {
     "duration": 0.00485,
     "end_time": "2024-10-18T07:57:23.818223",
     "exception": false,
     "start_time": "2024-10-18T07:57:23.813373",
     "status": "completed"
    },
    "tags": []
   },
   "source": [
    "### Training model"
   ]
  },
  {
   "cell_type": "code",
   "execution_count": 5,
   "id": "404decb9",
   "metadata": {
    "execution": {
     "iopub.execute_input": "2024-10-18T07:57:23.829541Z",
     "iopub.status.busy": "2024-10-18T07:57:23.829264Z",
     "iopub.status.idle": "2024-10-18T07:57:23.833241Z",
     "shell.execute_reply": "2024-10-18T07:57:23.832291Z"
    },
    "id": "BjEHeQNhCBnl",
    "papermill": {
     "duration": 0.011837,
     "end_time": "2024-10-18T07:57:23.835271",
     "exception": false,
     "start_time": "2024-10-18T07:57:23.823434",
     "status": "completed"
    },
    "tags": []
   },
   "outputs": [],
   "source": [
    "COMPANIES = COMPANIES[15:]\n",
    "\n",
    "assert len(COMPANIES) == 5"
   ]
  },
  {
   "cell_type": "code",
   "execution_count": 6,
   "id": "8efa9123",
   "metadata": {
    "execution": {
     "iopub.execute_input": "2024-10-18T07:57:23.846709Z",
     "iopub.status.busy": "2024-10-18T07:57:23.846407Z",
     "iopub.status.idle": "2024-10-18T12:12:37.471002Z",
     "shell.execute_reply": "2024-10-18T12:12:37.470021Z"
    },
    "id": "dI1MJ488PQpm",
    "outputId": "38588250-4439-4ea1-da21-c901acdba12a",
    "papermill": {
     "duration": 15313.632835,
     "end_time": "2024-10-18T12:12:37.473323",
     "exception": false,
     "start_time": "2024-10-18T07:57:23.840488",
     "status": "completed"
    },
    "tags": []
   },
   "outputs": [
    {
     "name": "stderr",
     "output_type": "stream",
     "text": [
      "  0%|          | 0/5 [00:00<?, ?it/s]"
     ]
    },
    {
     "name": "stdout",
     "output_type": "stream",
     "text": [
      "Performing the ZILN pipeline for company 104470040\n"
     ]
    },
    {
     "name": "stderr",
     "output_type": "stream",
     "text": [
      "\n",
      "  0%|          | 0/400 [00:00<?, ?it/s]\u001b[A"
     ]
    },
    {
     "name": "stdout",
     "output_type": "stream",
     "text": [
      "\n",
      "\n",
      "loss: 9.256846  [50182/182284]\n",
      "loss: 6.160936  [101382/182284]\n",
      "loss: 5.248165  [152582/182284]\n"
     ]
    },
    {
     "name": "stderr",
     "output_type": "stream",
     "text": [
      "\n",
      "  0%|          | 1/400 [00:19<2:09:19, 19.45s/it]\u001b[A"
     ]
    },
    {
     "name": "stdout",
     "output_type": "stream",
     "text": [
      "Validation set: Loss: 4.87766\n",
      "Validation loss decreased (inf --> 4.877660).  Saving model ...\n",
      "\n",
      "\n",
      "loss: 4.563091  [50182/182284]\n",
      "loss: 4.582250  [101382/182284]\n",
      "loss: 4.403702  [152582/182284]\n"
     ]
    },
    {
     "name": "stderr",
     "output_type": "stream",
     "text": [
      "\n",
      "  0%|          | 2/400 [00:39<2:10:59, 19.75s/it]\u001b[A"
     ]
    },
    {
     "name": "stdout",
     "output_type": "stream",
     "text": [
      "Validation set: Loss: 4.43360\n",
      "Validation loss decreased (4.877660 --> 4.433605).  Saving model ...\n",
      "\n",
      "\n",
      "loss: 4.451890  [50182/182284]\n",
      "loss: 4.390919  [101382/182284]\n",
      "loss: 4.329953  [152582/182284]\n"
     ]
    },
    {
     "name": "stderr",
     "output_type": "stream",
     "text": [
      "\n",
      "  1%|          | 3/400 [00:59<2:10:44, 19.76s/it]\u001b[A"
     ]
    },
    {
     "name": "stdout",
     "output_type": "stream",
     "text": [
      "Validation set: Loss: 4.32979\n",
      "Validation loss decreased (4.433605 --> 4.329786).  Saving model ...\n",
      "\n",
      "\n",
      "loss: 4.334464  [50182/182284]\n",
      "loss: 4.213087  [101382/182284]\n",
      "loss: 4.347806  [152582/182284]\n"
     ]
    },
    {
     "name": "stderr",
     "output_type": "stream",
     "text": [
      "\n",
      "  1%|          | 4/400 [01:18<2:09:23, 19.61s/it]\u001b[A"
     ]
    },
    {
     "name": "stdout",
     "output_type": "stream",
     "text": [
      "Validation set: Loss: 4.31910\n",
      "Validation loss decreased (4.329786 --> 4.319099).  Saving model ...\n",
      "\n",
      "\n",
      "loss: 4.415593  [50182/182284]\n",
      "loss: 4.294967  [101382/182284]\n",
      "loss: 4.347425  [152582/182284]\n"
     ]
    },
    {
     "name": "stderr",
     "output_type": "stream",
     "text": [
      "\n",
      "  1%|▏         | 5/400 [01:38<2:08:59, 19.59s/it]\u001b[A"
     ]
    },
    {
     "name": "stdout",
     "output_type": "stream",
     "text": [
      "Validation set: Loss: 4.31286\n",
      "Validation loss decreased (4.319099 --> 4.312862).  Saving model ...\n",
      "\n",
      "\n",
      "loss: 4.240079  [50182/182284]\n",
      "loss: 4.212783  [101382/182284]\n",
      "loss: 4.316935  [152582/182284]\n"
     ]
    },
    {
     "name": "stderr",
     "output_type": "stream",
     "text": [
      "\n",
      "  2%|▏         | 6/400 [01:57<2:07:55, 19.48s/it]\u001b[A"
     ]
    },
    {
     "name": "stdout",
     "output_type": "stream",
     "text": [
      "Validation set: Loss: 4.30868\n",
      "Validation loss decreased (4.312862 --> 4.308681).  Saving model ...\n",
      "\n",
      "\n",
      "loss: 4.291639  [50182/182284]\n",
      "loss: 4.204746  [101382/182284]\n",
      "loss: 4.203424  [152582/182284]\n"
     ]
    },
    {
     "name": "stderr",
     "output_type": "stream",
     "text": [
      "\n",
      "  2%|▏         | 7/400 [02:16<2:07:44, 19.50s/it]\u001b[A"
     ]
    },
    {
     "name": "stdout",
     "output_type": "stream",
     "text": [
      "Validation set: Loss: 4.30576\n",
      "Validation loss decreased (4.308681 --> 4.305763).  Saving model ...\n",
      "\n",
      "\n",
      "loss: 4.292487  [50182/182284]\n",
      "loss: 4.349387  [101382/182284]\n",
      "loss: 4.356889  [152582/182284]\n"
     ]
    },
    {
     "name": "stderr",
     "output_type": "stream",
     "text": [
      "\n",
      "  2%|▏         | 8/400 [02:36<2:07:27, 19.51s/it]\u001b[A"
     ]
    },
    {
     "name": "stdout",
     "output_type": "stream",
     "text": [
      "Validation set: Loss: 4.30336\n",
      "Validation loss decreased (4.305763 --> 4.303364).  Saving model ...\n",
      "\n",
      "\n",
      "loss: 4.357766  [50182/182284]\n",
      "loss: 4.359319  [101382/182284]\n",
      "loss: 4.308504  [152582/182284]\n"
     ]
    },
    {
     "name": "stderr",
     "output_type": "stream",
     "text": [
      "\n",
      "  2%|▏         | 9/400 [02:55<2:06:07, 19.35s/it]\u001b[A"
     ]
    },
    {
     "name": "stdout",
     "output_type": "stream",
     "text": [
      "Validation set: Loss: 4.30158\n",
      "Validation loss decreased (4.303364 --> 4.301583).  Saving model ...\n",
      "\n",
      "\n",
      "loss: 4.284814  [50182/182284]\n",
      "loss: 4.302104  [101382/182284]\n",
      "loss: 4.270833  [152582/182284]\n"
     ]
    },
    {
     "name": "stderr",
     "output_type": "stream",
     "text": [
      "\n",
      "  2%|▎         | 10/400 [03:14<2:05:52, 19.37s/it]\u001b[A"
     ]
    },
    {
     "name": "stdout",
     "output_type": "stream",
     "text": [
      "Validation set: Loss: 4.30026\n",
      "Validation loss decreased (4.301583 --> 4.300262).  Saving model ...\n",
      "\n",
      "\n",
      "loss: 4.341875  [50182/182284]\n",
      "loss: 4.278475  [101382/182284]\n",
      "loss: 4.249408  [152582/182284]\n"
     ]
    },
    {
     "name": "stderr",
     "output_type": "stream",
     "text": [
      "\n",
      "  3%|▎         | 11/400 [03:34<2:05:18, 19.33s/it]\u001b[A"
     ]
    },
    {
     "name": "stdout",
     "output_type": "stream",
     "text": [
      "Validation set: Loss: 4.29881\n",
      "Validation loss decreased (4.300262 --> 4.298807).  Saving model ...\n",
      "\n",
      "\n",
      "loss: 4.290235  [50182/182284]\n",
      "loss: 4.309268  [101382/182284]\n",
      "loss: 4.319935  [152582/182284]\n"
     ]
    },
    {
     "name": "stderr",
     "output_type": "stream",
     "text": [
      "\n",
      "  3%|▎         | 12/400 [03:53<2:05:02, 19.34s/it]\u001b[A"
     ]
    },
    {
     "name": "stdout",
     "output_type": "stream",
     "text": [
      "Validation set: Loss: 4.29785\n",
      "Validation loss decreased (4.298807 --> 4.297854).  Saving model ...\n",
      "\n",
      "\n",
      "loss: 4.332765  [50182/182284]\n",
      "loss: 4.355597  [101382/182284]\n",
      "loss: 4.278396  [152582/182284]\n"
     ]
    },
    {
     "name": "stderr",
     "output_type": "stream",
     "text": [
      "\n",
      "  3%|▎         | 13/400 [04:12<2:04:29, 19.30s/it]\u001b[A"
     ]
    },
    {
     "name": "stdout",
     "output_type": "stream",
     "text": [
      "Validation set: Loss: 4.29677\n",
      "Validation loss decreased (4.297854 --> 4.296773).  Saving model ...\n",
      "\n",
      "\n",
      "loss: 4.256653  [50182/182284]\n",
      "loss: 4.239008  [101382/182284]\n",
      "loss: 4.322407  [152582/182284]\n"
     ]
    },
    {
     "name": "stderr",
     "output_type": "stream",
     "text": [
      "\n",
      "  4%|▎         | 14/400 [04:31<2:03:46, 19.24s/it]\u001b[A"
     ]
    },
    {
     "name": "stdout",
     "output_type": "stream",
     "text": [
      "Validation set: Loss: 4.29599\n",
      "Validation loss decreased (4.296773 --> 4.295987).  Saving model ...\n",
      "\n",
      "\n",
      "loss: 4.371967  [50182/182284]\n",
      "loss: 4.375969  [101382/182284]\n",
      "loss: 4.350620  [152582/182284]\n"
     ]
    },
    {
     "name": "stderr",
     "output_type": "stream",
     "text": [
      "\n",
      "  4%|▍         | 15/400 [04:50<2:03:15, 19.21s/it]\u001b[A"
     ]
    },
    {
     "name": "stdout",
     "output_type": "stream",
     "text": [
      "Validation set: Loss: 4.29536\n",
      "Validation loss decreased (4.295987 --> 4.295356).  Saving model ...\n",
      "\n",
      "\n",
      "loss: 4.248487  [50182/182284]\n",
      "loss: 4.214910  [101382/182284]\n",
      "loss: 4.284265  [152582/182284]\n"
     ]
    },
    {
     "name": "stderr",
     "output_type": "stream",
     "text": [
      "\n",
      "  4%|▍         | 16/400 [05:09<2:02:27, 19.13s/it]\u001b[A"
     ]
    },
    {
     "name": "stdout",
     "output_type": "stream",
     "text": [
      "Validation set: Loss: 4.29439\n",
      "Validation loss decreased (4.295356 --> 4.294392).  Saving model ...\n",
      "\n",
      "\n",
      "loss: 4.349397  [50182/182284]\n",
      "loss: 4.302673  [101382/182284]\n",
      "loss: 4.348698  [152582/182284]\n"
     ]
    },
    {
     "name": "stderr",
     "output_type": "stream",
     "text": [
      "\n",
      "  4%|▍         | 17/400 [05:29<2:02:35, 19.20s/it]\u001b[A"
     ]
    },
    {
     "name": "stdout",
     "output_type": "stream",
     "text": [
      "Validation set: Loss: 4.29376\n",
      "Validation loss decreased (4.294392 --> 4.293757).  Saving model ...\n",
      "\n",
      "\n",
      "loss: 4.087356  [50182/182284]\n",
      "loss: 4.300276  [101382/182284]\n",
      "loss: 4.281988  [152582/182284]\n"
     ]
    },
    {
     "name": "stderr",
     "output_type": "stream",
     "text": [
      "\n",
      "  4%|▍         | 18/400 [05:48<2:02:17, 19.21s/it]\u001b[A"
     ]
    },
    {
     "name": "stdout",
     "output_type": "stream",
     "text": [
      "Validation set: Loss: 4.29299\n",
      "Validation loss decreased (4.293757 --> 4.292993).  Saving model ...\n",
      "\n",
      "\n",
      "loss: 4.328699  [50182/182284]\n",
      "loss: 4.352996  [101382/182284]\n",
      "loss: 4.308244  [152582/182284]\n"
     ]
    },
    {
     "name": "stderr",
     "output_type": "stream",
     "text": [
      "\n",
      "  5%|▍         | 19/400 [06:07<2:01:43, 19.17s/it]\u001b[A"
     ]
    },
    {
     "name": "stdout",
     "output_type": "stream",
     "text": [
      "Validation set: Loss: 4.29204\n",
      "Validation loss decreased (4.292993 --> 4.292043).  Saving model ...\n",
      "\n",
      "\n",
      "loss: 4.248108  [50182/182284]\n",
      "loss: 4.150105  [101382/182284]\n",
      "loss: 4.302373  [152582/182284]\n"
     ]
    },
    {
     "name": "stderr",
     "output_type": "stream",
     "text": [
      "\n",
      "  5%|▌         | 20/400 [06:26<2:01:54, 19.25s/it]\u001b[A"
     ]
    },
    {
     "name": "stdout",
     "output_type": "stream",
     "text": [
      "Validation set: Loss: 4.29121\n",
      "Validation loss decreased (4.292043 --> 4.291207).  Saving model ...\n",
      "\n",
      "\n",
      "loss: 4.341139  [50182/182284]\n",
      "loss: 4.319358  [101382/182284]\n",
      "loss: 4.217806  [152582/182284]\n"
     ]
    },
    {
     "name": "stderr",
     "output_type": "stream",
     "text": [
      "\n",
      "  5%|▌         | 21/400 [06:46<2:01:23, 19.22s/it]\u001b[A"
     ]
    },
    {
     "name": "stdout",
     "output_type": "stream",
     "text": [
      "Validation set: Loss: 4.29030\n",
      "Validation loss decreased (4.291207 --> 4.290302).  Saving model ...\n",
      "\n",
      "\n",
      "loss: 4.259825  [50182/182284]\n",
      "loss: 4.297517  [101382/182284]\n",
      "loss: 4.218180  [152582/182284]\n"
     ]
    },
    {
     "name": "stderr",
     "output_type": "stream",
     "text": [
      "\n",
      "  6%|▌         | 22/400 [07:05<2:01:03, 19.21s/it]\u001b[A"
     ]
    },
    {
     "name": "stdout",
     "output_type": "stream",
     "text": [
      "Validation set: Loss: 4.28945\n",
      "Validation loss decreased (4.290302 --> 4.289445).  Saving model ...\n",
      "\n",
      "\n",
      "loss: 4.343616  [50182/182284]\n",
      "loss: 4.177585  [101382/182284]\n",
      "loss: 4.227410  [152582/182284]\n"
     ]
    },
    {
     "name": "stderr",
     "output_type": "stream",
     "text": [
      "\n",
      "  6%|▌         | 23/400 [07:24<2:00:40, 19.21s/it]\u001b[A"
     ]
    },
    {
     "name": "stdout",
     "output_type": "stream",
     "text": [
      "Validation set: Loss: 4.28938\n",
      "Validation loss decreased (4.289445 --> 4.289383).  Saving model ...\n",
      "\n",
      "\n",
      "loss: 4.262371  [50182/182284]\n",
      "loss: 4.124432  [101382/182284]\n",
      "loss: 4.288284  [152582/182284]\n"
     ]
    },
    {
     "name": "stderr",
     "output_type": "stream",
     "text": [
      "\n",
      "  6%|▌         | 24/400 [07:43<2:00:07, 19.17s/it]\u001b[A"
     ]
    },
    {
     "name": "stdout",
     "output_type": "stream",
     "text": [
      "Validation set: Loss: 4.28827\n",
      "Validation loss decreased (4.289383 --> 4.288271).  Saving model ...\n",
      "\n",
      "\n",
      "loss: 4.411963  [50182/182284]\n",
      "loss: 4.241809  [101382/182284]\n",
      "loss: 4.312589  [152582/182284]\n"
     ]
    },
    {
     "name": "stderr",
     "output_type": "stream",
     "text": [
      "\n",
      "  6%|▋         | 25/400 [08:02<1:59:37, 19.14s/it]\u001b[A"
     ]
    },
    {
     "name": "stdout",
     "output_type": "stream",
     "text": [
      "Validation set: Loss: 4.28738\n",
      "Validation loss decreased (4.288271 --> 4.287380).  Saving model ...\n",
      "\n",
      "\n",
      "loss: 4.293459  [50182/182284]\n",
      "loss: 4.302727  [101382/182284]\n",
      "loss: 4.308943  [152582/182284]\n"
     ]
    },
    {
     "name": "stderr",
     "output_type": "stream",
     "text": [
      "\n",
      "  6%|▋         | 26/400 [08:21<1:59:00, 19.09s/it]\u001b[A"
     ]
    },
    {
     "name": "stdout",
     "output_type": "stream",
     "text": [
      "Validation set: Loss: 4.28742\n",
      "EarlyStopping counter: 1 out of 10\n",
      "\n",
      "\n",
      "loss: 4.284765  [50182/182284]\n",
      "loss: 4.343274  [101382/182284]\n",
      "loss: 4.273787  [152582/182284]\n"
     ]
    },
    {
     "name": "stderr",
     "output_type": "stream",
     "text": [
      "\n",
      "  7%|▋         | 27/400 [08:41<1:59:14, 19.18s/it]\u001b[A"
     ]
    },
    {
     "name": "stdout",
     "output_type": "stream",
     "text": [
      "Validation set: Loss: 4.28614\n",
      "Validation loss decreased (4.287380 --> 4.286143).  Saving model ...\n",
      "\n",
      "\n",
      "loss: 4.254197  [50182/182284]\n",
      "loss: 4.275863  [101382/182284]\n",
      "loss: 4.347504  [152582/182284]\n"
     ]
    },
    {
     "name": "stderr",
     "output_type": "stream",
     "text": [
      "\n",
      "  7%|▋         | 28/400 [09:00<1:59:26, 19.27s/it]\u001b[A"
     ]
    },
    {
     "name": "stdout",
     "output_type": "stream",
     "text": [
      "Validation set: Loss: 4.28558\n",
      "Validation loss decreased (4.286143 --> 4.285580).  Saving model ...\n",
      "\n",
      "\n",
      "loss: 4.297300  [50182/182284]\n",
      "loss: 4.366405  [101382/182284]\n",
      "loss: 4.158898  [152582/182284]\n"
     ]
    },
    {
     "name": "stderr",
     "output_type": "stream",
     "text": [
      "\n",
      "  7%|▋         | 29/400 [09:19<1:58:59, 19.24s/it]\u001b[A"
     ]
    },
    {
     "name": "stdout",
     "output_type": "stream",
     "text": [
      "Validation set: Loss: 4.28512\n",
      "Validation loss decreased (4.285580 --> 4.285122).  Saving model ...\n",
      "\n",
      "\n",
      "loss: 4.303517  [50182/182284]\n",
      "loss: 4.326557  [101382/182284]\n",
      "loss: 4.245502  [152582/182284]\n"
     ]
    },
    {
     "name": "stderr",
     "output_type": "stream",
     "text": [
      "\n",
      "  8%|▊         | 30/400 [09:38<1:58:43, 19.25s/it]\u001b[A"
     ]
    },
    {
     "name": "stdout",
     "output_type": "stream",
     "text": [
      "Validation set: Loss: 4.28442\n",
      "Validation loss decreased (4.285122 --> 4.284422).  Saving model ...\n",
      "\n",
      "\n",
      "loss: 4.219000  [50182/182284]\n",
      "loss: 4.198806  [101382/182284]\n",
      "loss: 4.251704  [152582/182284]\n"
     ]
    },
    {
     "name": "stderr",
     "output_type": "stream",
     "text": [
      "\n",
      "  8%|▊         | 31/400 [09:58<1:58:11, 19.22s/it]\u001b[A"
     ]
    },
    {
     "name": "stdout",
     "output_type": "stream",
     "text": [
      "Validation set: Loss: 4.28370\n",
      "Validation loss decreased (4.284422 --> 4.283698).  Saving model ...\n",
      "\n",
      "\n",
      "loss: 4.279693  [50182/182284]\n",
      "loss: 4.182281  [101382/182284]\n",
      "loss: 4.278317  [152582/182284]\n"
     ]
    },
    {
     "name": "stderr",
     "output_type": "stream",
     "text": [
      "\n",
      "  8%|▊         | 32/400 [10:17<1:57:30, 19.16s/it]\u001b[A"
     ]
    },
    {
     "name": "stdout",
     "output_type": "stream",
     "text": [
      "Validation set: Loss: 4.28337\n",
      "Validation loss decreased (4.283698 --> 4.283374).  Saving model ...\n",
      "\n",
      "\n",
      "loss: 4.344308  [50182/182284]\n",
      "loss: 4.255523  [101382/182284]\n",
      "loss: 4.216176  [152582/182284]\n"
     ]
    },
    {
     "name": "stderr",
     "output_type": "stream",
     "text": [
      "\n",
      "  8%|▊         | 33/400 [10:36<1:57:12, 19.16s/it]\u001b[A"
     ]
    },
    {
     "name": "stdout",
     "output_type": "stream",
     "text": [
      "Validation set: Loss: 4.28255\n",
      "Validation loss decreased (4.283374 --> 4.282555).  Saving model ...\n",
      "\n",
      "\n",
      "loss: 4.283288  [50182/182284]\n",
      "loss: 4.330165  [101382/182284]\n",
      "loss: 4.334748  [152582/182284]\n"
     ]
    },
    {
     "name": "stderr",
     "output_type": "stream",
     "text": [
      "\n",
      "  8%|▊         | 34/400 [10:55<1:56:37, 19.12s/it]\u001b[A"
     ]
    },
    {
     "name": "stdout",
     "output_type": "stream",
     "text": [
      "Validation set: Loss: 4.28204\n",
      "Validation loss decreased (4.282555 --> 4.282040).  Saving model ...\n",
      "\n",
      "\n",
      "loss: 4.241104  [50182/182284]\n",
      "loss: 4.232232  [101382/182284]\n",
      "loss: 4.268826  [152582/182284]\n"
     ]
    },
    {
     "name": "stderr",
     "output_type": "stream",
     "text": [
      "\n",
      "  9%|▉         | 35/400 [11:14<1:56:45, 19.19s/it]\u001b[A"
     ]
    },
    {
     "name": "stdout",
     "output_type": "stream",
     "text": [
      "Validation set: Loss: 4.28153\n",
      "Validation loss decreased (4.282040 --> 4.281526).  Saving model ...\n",
      "\n",
      "\n",
      "loss: 4.201598  [50182/182284]\n",
      "loss: 4.293608  [101382/182284]\n",
      "loss: 4.292588  [152582/182284]\n"
     ]
    },
    {
     "name": "stderr",
     "output_type": "stream",
     "text": [
      "\n",
      "  9%|▉         | 36/400 [11:34<1:56:44, 19.24s/it]\u001b[A"
     ]
    },
    {
     "name": "stdout",
     "output_type": "stream",
     "text": [
      "Validation set: Loss: 4.28185\n",
      "EarlyStopping counter: 1 out of 10\n",
      "\n",
      "\n",
      "loss: 4.298638  [50182/182284]\n",
      "loss: 4.347469  [101382/182284]\n",
      "loss: 4.324850  [152582/182284]\n"
     ]
    },
    {
     "name": "stderr",
     "output_type": "stream",
     "text": [
      "\n",
      "  9%|▉         | 37/400 [11:52<1:55:53, 19.15s/it]\u001b[A"
     ]
    },
    {
     "name": "stdout",
     "output_type": "stream",
     "text": [
      "Validation set: Loss: 4.28078\n",
      "Validation loss decreased (4.281526 --> 4.280782).  Saving model ...\n",
      "\n",
      "\n",
      "loss: 4.247911  [50182/182284]\n",
      "loss: 4.280862  [101382/182284]\n",
      "loss: 4.230330  [152582/182284]\n"
     ]
    },
    {
     "name": "stderr",
     "output_type": "stream",
     "text": [
      "\n",
      " 10%|▉         | 38/400 [12:12<1:56:06, 19.24s/it]\u001b[A"
     ]
    },
    {
     "name": "stdout",
     "output_type": "stream",
     "text": [
      "Validation set: Loss: 4.28039\n",
      "Validation loss decreased (4.280782 --> 4.280391).  Saving model ...\n",
      "\n",
      "\n",
      "loss: 4.373705  [50182/182284]\n",
      "loss: 4.215626  [101382/182284]\n",
      "loss: 4.195391  [152582/182284]\n"
     ]
    },
    {
     "name": "stderr",
     "output_type": "stream",
     "text": [
      "\n",
      " 10%|▉         | 39/400 [12:31<1:55:06, 19.13s/it]\u001b[A"
     ]
    },
    {
     "name": "stdout",
     "output_type": "stream",
     "text": [
      "Validation set: Loss: 4.28029\n",
      "Validation loss decreased (4.280391 --> 4.280287).  Saving model ...\n",
      "\n",
      "\n",
      "loss: 4.274558  [50182/182284]\n",
      "loss: 4.294409  [101382/182284]\n",
      "loss: 4.375346  [152582/182284]\n"
     ]
    },
    {
     "name": "stderr",
     "output_type": "stream",
     "text": [
      "\n",
      " 10%|█         | 40/400 [12:50<1:55:06, 19.18s/it]\u001b[A"
     ]
    },
    {
     "name": "stdout",
     "output_type": "stream",
     "text": [
      "Validation set: Loss: 4.27975\n",
      "Validation loss decreased (4.280287 --> 4.279749).  Saving model ...\n",
      "\n",
      "\n",
      "loss: 4.172947  [50182/182284]\n",
      "loss: 4.194087  [101382/182284]\n",
      "loss: 4.301976  [152582/182284]\n"
     ]
    },
    {
     "name": "stderr",
     "output_type": "stream",
     "text": [
      "\n",
      " 10%|█         | 41/400 [13:09<1:54:38, 19.16s/it]\u001b[A"
     ]
    },
    {
     "name": "stdout",
     "output_type": "stream",
     "text": [
      "Validation set: Loss: 4.27994\n",
      "EarlyStopping counter: 1 out of 10\n",
      "\n",
      "\n",
      "loss: 4.297340  [50182/182284]\n",
      "loss: 4.253077  [101382/182284]\n",
      "loss: 4.326830  [152582/182284]\n"
     ]
    },
    {
     "name": "stderr",
     "output_type": "stream",
     "text": [
      "\n",
      " 10%|█         | 42/400 [13:28<1:53:46, 19.07s/it]\u001b[A"
     ]
    },
    {
     "name": "stdout",
     "output_type": "stream",
     "text": [
      "Validation set: Loss: 4.27955\n",
      "Validation loss decreased (4.279749 --> 4.279553).  Saving model ...\n",
      "\n",
      "\n",
      "loss: 4.290849  [50182/182284]\n",
      "loss: 4.265567  [101382/182284]\n",
      "loss: 4.334598  [152582/182284]\n"
     ]
    },
    {
     "name": "stderr",
     "output_type": "stream",
     "text": [
      "\n",
      " 11%|█         | 43/400 [13:47<1:53:50, 19.13s/it]\u001b[A"
     ]
    },
    {
     "name": "stdout",
     "output_type": "stream",
     "text": [
      "Validation set: Loss: 4.27866\n",
      "Validation loss decreased (4.279553 --> 4.278663).  Saving model ...\n",
      "\n",
      "\n",
      "loss: 4.204795  [50182/182284]\n",
      "loss: 4.156119  [101382/182284]\n",
      "loss: 4.194911  [152582/182284]\n"
     ]
    },
    {
     "name": "stderr",
     "output_type": "stream",
     "text": [
      "\n",
      " 11%|█         | 44/400 [14:06<1:53:30, 19.13s/it]\u001b[A"
     ]
    },
    {
     "name": "stdout",
     "output_type": "stream",
     "text": [
      "Validation set: Loss: 4.27861\n",
      "Validation loss decreased (4.278663 --> 4.278613).  Saving model ...\n",
      "\n",
      "\n",
      "loss: 4.222078  [50182/182284]\n",
      "loss: 4.333673  [101382/182284]\n",
      "loss: 4.279707  [152582/182284]\n"
     ]
    },
    {
     "name": "stderr",
     "output_type": "stream",
     "text": [
      "\n",
      " 11%|█▏        | 45/400 [14:26<1:53:24, 19.17s/it]\u001b[A"
     ]
    },
    {
     "name": "stdout",
     "output_type": "stream",
     "text": [
      "Validation set: Loss: 4.27821\n",
      "Validation loss decreased (4.278613 --> 4.278210).  Saving model ...\n",
      "\n",
      "\n",
      "loss: 4.273913  [50182/182284]\n",
      "loss: 4.173229  [101382/182284]\n",
      "loss: 4.238806  [152582/182284]\n"
     ]
    },
    {
     "name": "stderr",
     "output_type": "stream",
     "text": [
      "\n",
      " 12%|█▏        | 46/400 [14:45<1:53:10, 19.18s/it]\u001b[A"
     ]
    },
    {
     "name": "stdout",
     "output_type": "stream",
     "text": [
      "Validation set: Loss: 4.27777\n",
      "Validation loss decreased (4.278210 --> 4.277765).  Saving model ...\n",
      "\n",
      "\n",
      "loss: 4.289907  [50182/182284]\n",
      "loss: 4.233267  [101382/182284]\n",
      "loss: 4.293557  [152582/182284]\n"
     ]
    },
    {
     "name": "stderr",
     "output_type": "stream",
     "text": [
      "\n",
      " 12%|█▏        | 47/400 [15:04<1:52:43, 19.16s/it]\u001b[A"
     ]
    },
    {
     "name": "stdout",
     "output_type": "stream",
     "text": [
      "Validation set: Loss: 4.27818\n",
      "EarlyStopping counter: 1 out of 10\n",
      "\n",
      "\n",
      "loss: 4.286332  [50182/182284]\n",
      "loss: 4.272098  [101382/182284]\n",
      "loss: 4.282364  [152582/182284]\n"
     ]
    },
    {
     "name": "stderr",
     "output_type": "stream",
     "text": [
      "\n",
      " 12%|█▏        | 48/400 [15:23<1:52:18, 19.14s/it]\u001b[A"
     ]
    },
    {
     "name": "stdout",
     "output_type": "stream",
     "text": [
      "Validation set: Loss: 4.27735\n",
      "Validation loss decreased (4.277765 --> 4.277348).  Saving model ...\n",
      "\n",
      "\n",
      "loss: 4.283158  [50182/182284]\n",
      "loss: 4.344717  [101382/182284]\n",
      "loss: 4.223741  [152582/182284]\n"
     ]
    },
    {
     "name": "stderr",
     "output_type": "stream",
     "text": [
      "\n",
      " 12%|█▏        | 49/400 [15:42<1:51:35, 19.07s/it]\u001b[A"
     ]
    },
    {
     "name": "stdout",
     "output_type": "stream",
     "text": [
      "Validation set: Loss: 4.27742\n",
      "EarlyStopping counter: 1 out of 10\n",
      "\n",
      "\n",
      "loss: 4.261426  [50182/182284]\n",
      "loss: 4.285680  [101382/182284]\n",
      "loss: 4.301767  [152582/182284]\n"
     ]
    },
    {
     "name": "stderr",
     "output_type": "stream",
     "text": [
      "\n",
      " 12%|█▎        | 50/400 [16:02<1:52:08, 19.23s/it]\u001b[A"
     ]
    },
    {
     "name": "stdout",
     "output_type": "stream",
     "text": [
      "Validation set: Loss: 4.27725\n",
      "Validation loss decreased (4.277348 --> 4.277246).  Saving model ...\n",
      "\n",
      "\n",
      "loss: 4.301572  [50182/182284]\n",
      "loss: 4.286837  [101382/182284]\n",
      "loss: 4.312450  [152582/182284]\n"
     ]
    },
    {
     "name": "stderr",
     "output_type": "stream",
     "text": [
      "\n",
      " 13%|█▎        | 51/400 [16:21<1:51:57, 19.25s/it]\u001b[A"
     ]
    },
    {
     "name": "stdout",
     "output_type": "stream",
     "text": [
      "Validation set: Loss: 4.27720\n",
      "Validation loss decreased (4.277246 --> 4.277198).  Saving model ...\n",
      "\n",
      "\n",
      "loss: 4.267455  [50182/182284]\n",
      "loss: 4.292517  [101382/182284]\n",
      "loss: 4.356747  [152582/182284]\n"
     ]
    },
    {
     "name": "stderr",
     "output_type": "stream",
     "text": [
      "\n",
      " 13%|█▎        | 52/400 [16:40<1:51:12, 19.17s/it]\u001b[A"
     ]
    },
    {
     "name": "stdout",
     "output_type": "stream",
     "text": [
      "Validation set: Loss: 4.27666\n",
      "Validation loss decreased (4.277198 --> 4.276664).  Saving model ...\n",
      "\n",
      "\n",
      "loss: 4.228799  [50182/182284]\n",
      "loss: 4.298977  [101382/182284]\n",
      "loss: 4.310482  [152582/182284]\n"
     ]
    },
    {
     "name": "stderr",
     "output_type": "stream",
     "text": [
      "\n",
      " 13%|█▎        | 53/400 [16:59<1:51:14, 19.23s/it]\u001b[A"
     ]
    },
    {
     "name": "stdout",
     "output_type": "stream",
     "text": [
      "Validation set: Loss: 4.27638\n",
      "Validation loss decreased (4.276664 --> 4.276383).  Saving model ...\n",
      "\n",
      "\n",
      "loss: 4.218011  [50182/182284]\n",
      "loss: 4.362590  [101382/182284]\n",
      "loss: 4.205641  [152582/182284]\n"
     ]
    },
    {
     "name": "stderr",
     "output_type": "stream",
     "text": [
      "\n",
      " 14%|█▎        | 54/400 [17:18<1:50:17, 19.13s/it]\u001b[A"
     ]
    },
    {
     "name": "stdout",
     "output_type": "stream",
     "text": [
      "Validation set: Loss: 4.27643\n",
      "EarlyStopping counter: 1 out of 10\n",
      "\n",
      "\n",
      "loss: 4.282513  [50182/182284]\n",
      "loss: 4.250393  [101382/182284]\n",
      "loss: 4.243088  [152582/182284]\n"
     ]
    },
    {
     "name": "stderr",
     "output_type": "stream",
     "text": [
      "\n",
      " 14%|█▍        | 55/400 [17:37<1:50:11, 19.16s/it]\u001b[A"
     ]
    },
    {
     "name": "stdout",
     "output_type": "stream",
     "text": [
      "Validation set: Loss: 4.27612\n",
      "Validation loss decreased (4.276383 --> 4.276120).  Saving model ...\n",
      "\n",
      "\n",
      "loss: 4.147660  [50182/182284]\n",
      "loss: 4.193138  [101382/182284]\n",
      "loss: 4.270858  [152582/182284]\n"
     ]
    },
    {
     "name": "stderr",
     "output_type": "stream",
     "text": [
      "\n",
      " 14%|█▍        | 56/400 [17:57<1:49:41, 19.13s/it]\u001b[A"
     ]
    },
    {
     "name": "stdout",
     "output_type": "stream",
     "text": [
      "Validation set: Loss: 4.27601\n",
      "Validation loss decreased (4.276120 --> 4.276012).  Saving model ...\n",
      "\n",
      "\n",
      "loss: 4.265030  [50182/182284]\n",
      "loss: 4.266311  [101382/182284]\n",
      "loss: 4.344059  [152582/182284]\n"
     ]
    },
    {
     "name": "stderr",
     "output_type": "stream",
     "text": [
      "\n",
      " 14%|█▍        | 57/400 [18:15<1:48:55, 19.05s/it]\u001b[A"
     ]
    },
    {
     "name": "stdout",
     "output_type": "stream",
     "text": [
      "Validation set: Loss: 4.27617\n",
      "EarlyStopping counter: 1 out of 10\n",
      "\n",
      "\n",
      "loss: 4.258389  [50182/182284]\n",
      "loss: 4.290071  [101382/182284]\n",
      "loss: 4.298326  [152582/182284]\n"
     ]
    },
    {
     "name": "stderr",
     "output_type": "stream",
     "text": [
      "\n",
      " 14%|█▍        | 58/400 [18:35<1:48:45, 19.08s/it]\u001b[A"
     ]
    },
    {
     "name": "stdout",
     "output_type": "stream",
     "text": [
      "Validation set: Loss: 4.27578\n",
      "Validation loss decreased (4.276012 --> 4.275777).  Saving model ...\n",
      "\n",
      "\n",
      "loss: 4.226037  [50182/182284]\n",
      "loss: 4.351170  [101382/182284]\n",
      "loss: 4.305604  [152582/182284]\n"
     ]
    },
    {
     "name": "stderr",
     "output_type": "stream",
     "text": [
      "\n",
      " 15%|█▍        | 59/400 [18:54<1:48:33, 19.10s/it]\u001b[A"
     ]
    },
    {
     "name": "stdout",
     "output_type": "stream",
     "text": [
      "Validation set: Loss: 4.27571\n",
      "Validation loss decreased (4.275777 --> 4.275714).  Saving model ...\n",
      "\n",
      "\n",
      "loss: 4.409705  [50182/182284]\n",
      "loss: 4.288292  [101382/182284]\n",
      "loss: 4.309483  [152582/182284]\n"
     ]
    },
    {
     "name": "stderr",
     "output_type": "stream",
     "text": [
      "\n",
      " 15%|█▌        | 60/400 [19:13<1:48:26, 19.14s/it]\u001b[A"
     ]
    },
    {
     "name": "stdout",
     "output_type": "stream",
     "text": [
      "Validation set: Loss: 4.27579\n",
      "EarlyStopping counter: 1 out of 10\n",
      "\n",
      "\n",
      "loss: 4.302717  [50182/182284]\n",
      "loss: 4.246982  [101382/182284]\n",
      "loss: 4.292942  [152582/182284]\n"
     ]
    },
    {
     "name": "stderr",
     "output_type": "stream",
     "text": [
      "\n",
      " 15%|█▌        | 61/400 [19:32<1:48:17, 19.17s/it]\u001b[A"
     ]
    },
    {
     "name": "stdout",
     "output_type": "stream",
     "text": [
      "Validation set: Loss: 4.27602\n",
      "EarlyStopping counter: 2 out of 10\n",
      "\n",
      "\n",
      "loss: 4.368750  [50182/182284]\n",
      "loss: 4.314184  [101382/182284]\n",
      "loss: 4.318321  [152582/182284]\n"
     ]
    },
    {
     "name": "stderr",
     "output_type": "stream",
     "text": [
      "\n",
      " 16%|█▌        | 62/400 [19:51<1:47:40, 19.11s/it]\u001b[A"
     ]
    },
    {
     "name": "stdout",
     "output_type": "stream",
     "text": [
      "Validation set: Loss: 4.27527\n",
      "Validation loss decreased (4.275714 --> 4.275269).  Saving model ...\n",
      "\n",
      "\n",
      "loss: 4.300696  [50182/182284]\n",
      "loss: 4.254015  [101382/182284]\n",
      "loss: 4.255839  [152582/182284]\n"
     ]
    },
    {
     "name": "stderr",
     "output_type": "stream",
     "text": [
      "\n",
      " 16%|█▌        | 63/400 [20:10<1:47:37, 19.16s/it]\u001b[A"
     ]
    },
    {
     "name": "stdout",
     "output_type": "stream",
     "text": [
      "Validation set: Loss: 4.27559\n",
      "EarlyStopping counter: 1 out of 10\n",
      "\n",
      "\n",
      "loss: 4.362863  [50182/182284]\n",
      "loss: 4.374983  [101382/182284]\n",
      "loss: 4.259416  [152582/182284]\n"
     ]
    },
    {
     "name": "stderr",
     "output_type": "stream",
     "text": [
      "\n",
      " 16%|█▌        | 64/400 [20:29<1:46:45, 19.06s/it]\u001b[A"
     ]
    },
    {
     "name": "stdout",
     "output_type": "stream",
     "text": [
      "Validation set: Loss: 4.27530\n",
      "EarlyStopping counter: 2 out of 10\n",
      "\n",
      "\n",
      "loss: 4.285610  [50182/182284]\n",
      "loss: 4.247840  [101382/182284]\n",
      "loss: 4.231633  [152582/182284]\n"
     ]
    },
    {
     "name": "stderr",
     "output_type": "stream",
     "text": [
      "\n",
      " 16%|█▋        | 65/400 [20:48<1:46:37, 19.10s/it]\u001b[A"
     ]
    },
    {
     "name": "stdout",
     "output_type": "stream",
     "text": [
      "Validation set: Loss: 4.27571\n",
      "EarlyStopping counter: 3 out of 10\n",
      "\n",
      "\n",
      "loss: 4.238181  [50182/182284]\n",
      "loss: 4.321720  [101382/182284]\n",
      "loss: 4.268711  [152582/182284]\n"
     ]
    },
    {
     "name": "stderr",
     "output_type": "stream",
     "text": [
      "\n",
      " 16%|█▋        | 66/400 [21:07<1:46:17, 19.09s/it]\u001b[A"
     ]
    },
    {
     "name": "stdout",
     "output_type": "stream",
     "text": [
      "Validation set: Loss: 4.27616\n",
      "EarlyStopping counter: 4 out of 10\n",
      "\n",
      "\n",
      "loss: 4.248908  [50182/182284]\n",
      "loss: 4.240438  [101382/182284]\n",
      "loss: 4.219917  [152582/182284]\n"
     ]
    },
    {
     "name": "stderr",
     "output_type": "stream",
     "text": [
      "\n",
      " 17%|█▋        | 67/400 [21:26<1:45:49, 19.07s/it]\u001b[A"
     ]
    },
    {
     "name": "stdout",
     "output_type": "stream",
     "text": [
      "Validation set: Loss: 4.27519\n",
      "Validation loss decreased (4.275269 --> 4.275186).  Saving model ...\n",
      "\n",
      "\n",
      "loss: 4.238931  [50182/182284]\n",
      "loss: 4.409798  [101382/182284]\n",
      "loss: 4.284874  [152582/182284]\n"
     ]
    },
    {
     "name": "stderr",
     "output_type": "stream",
     "text": [
      "\n",
      " 17%|█▋        | 68/400 [21:46<1:45:51, 19.13s/it]\u001b[A"
     ]
    },
    {
     "name": "stdout",
     "output_type": "stream",
     "text": [
      "Validation set: Loss: 4.27528\n",
      "EarlyStopping counter: 1 out of 10\n",
      "\n",
      "\n",
      "loss: 4.200972  [50182/182284]\n",
      "loss: 4.289200  [101382/182284]\n",
      "loss: 4.202245  [152582/182284]\n"
     ]
    },
    {
     "name": "stderr",
     "output_type": "stream",
     "text": [
      "\n",
      " 17%|█▋        | 69/400 [22:05<1:45:15, 19.08s/it]\u001b[A"
     ]
    },
    {
     "name": "stdout",
     "output_type": "stream",
     "text": [
      "Validation set: Loss: 4.27457\n",
      "Validation loss decreased (4.275186 --> 4.274571).  Saving model ...\n",
      "\n",
      "\n",
      "loss: 4.156706  [50182/182284]\n",
      "loss: 4.242785  [101382/182284]\n",
      "loss: 4.318634  [152582/182284]\n"
     ]
    },
    {
     "name": "stderr",
     "output_type": "stream",
     "text": [
      "\n",
      " 18%|█▊        | 70/400 [22:24<1:44:59, 19.09s/it]\u001b[A"
     ]
    },
    {
     "name": "stdout",
     "output_type": "stream",
     "text": [
      "Validation set: Loss: 4.27476\n",
      "EarlyStopping counter: 1 out of 10\n",
      "\n",
      "\n",
      "loss: 4.284075  [50182/182284]\n",
      "loss: 4.267918  [101382/182284]\n",
      "loss: 4.344817  [152582/182284]\n"
     ]
    },
    {
     "name": "stderr",
     "output_type": "stream",
     "text": [
      "\n",
      " 18%|█▊        | 71/400 [22:43<1:45:27, 19.23s/it]\u001b[A"
     ]
    },
    {
     "name": "stdout",
     "output_type": "stream",
     "text": [
      "Validation set: Loss: 4.27473\n",
      "EarlyStopping counter: 2 out of 10\n",
      "\n",
      "\n",
      "loss: 4.218454  [50182/182284]\n",
      "loss: 4.187809  [101382/182284]\n",
      "loss: 4.235848  [152582/182284]\n"
     ]
    },
    {
     "name": "stderr",
     "output_type": "stream",
     "text": [
      "\n",
      " 18%|█▊        | 72/400 [23:02<1:44:51, 19.18s/it]\u001b[A"
     ]
    },
    {
     "name": "stdout",
     "output_type": "stream",
     "text": [
      "Validation set: Loss: 4.27514\n",
      "EarlyStopping counter: 3 out of 10\n",
      "\n",
      "\n",
      "loss: 4.247709  [50182/182284]\n",
      "loss: 4.250549  [101382/182284]\n",
      "loss: 4.296458  [152582/182284]\n"
     ]
    },
    {
     "name": "stderr",
     "output_type": "stream",
     "text": [
      "\n",
      " 18%|█▊        | 73/400 [23:22<1:44:39, 19.20s/it]\u001b[A"
     ]
    },
    {
     "name": "stdout",
     "output_type": "stream",
     "text": [
      "Validation set: Loss: 4.27445\n",
      "Validation loss decreased (4.274571 --> 4.274446).  Saving model ...\n",
      "\n",
      "\n",
      "loss: 4.204974  [50182/182284]\n",
      "loss: 4.251785  [101382/182284]\n",
      "loss: 4.353582  [152582/182284]\n"
     ]
    },
    {
     "name": "stderr",
     "output_type": "stream",
     "text": [
      "\n",
      " 18%|█▊        | 74/400 [23:41<1:44:28, 19.23s/it]\u001b[A"
     ]
    },
    {
     "name": "stdout",
     "output_type": "stream",
     "text": [
      "Validation set: Loss: 4.27422\n",
      "Validation loss decreased (4.274446 --> 4.274221).  Saving model ...\n",
      "\n",
      "\n",
      "loss: 4.324202  [50182/182284]\n",
      "loss: 4.300284  [101382/182284]\n",
      "loss: 4.272064  [152582/182284]\n"
     ]
    },
    {
     "name": "stderr",
     "output_type": "stream",
     "text": [
      "\n",
      " 19%|█▉        | 75/400 [24:01<1:44:34, 19.31s/it]\u001b[A"
     ]
    },
    {
     "name": "stdout",
     "output_type": "stream",
     "text": [
      "Validation set: Loss: 4.27441\n",
      "EarlyStopping counter: 1 out of 10\n",
      "\n",
      "\n",
      "loss: 4.192598  [50182/182284]\n",
      "loss: 4.250524  [101382/182284]\n",
      "loss: 4.314441  [152582/182284]\n"
     ]
    },
    {
     "name": "stderr",
     "output_type": "stream",
     "text": [
      "\n",
      " 19%|█▉        | 76/400 [24:20<1:44:19, 19.32s/it]\u001b[A"
     ]
    },
    {
     "name": "stdout",
     "output_type": "stream",
     "text": [
      "Validation set: Loss: 4.27462\n",
      "EarlyStopping counter: 2 out of 10\n",
      "\n",
      "\n",
      "loss: 4.163388  [50182/182284]\n",
      "loss: 4.186808  [101382/182284]\n",
      "loss: 4.360031  [152582/182284]\n"
     ]
    },
    {
     "name": "stderr",
     "output_type": "stream",
     "text": [
      "\n",
      " 19%|█▉        | 77/400 [24:39<1:43:58, 19.31s/it]\u001b[A"
     ]
    },
    {
     "name": "stdout",
     "output_type": "stream",
     "text": [
      "Validation set: Loss: 4.27411\n",
      "Validation loss decreased (4.274221 --> 4.274112).  Saving model ...\n",
      "\n",
      "\n",
      "loss: 4.245732  [50182/182284]\n",
      "loss: 4.275543  [101382/182284]\n",
      "loss: 4.387370  [152582/182284]\n"
     ]
    },
    {
     "name": "stderr",
     "output_type": "stream",
     "text": [
      "\n",
      " 20%|█▉        | 78/400 [24:59<1:44:10, 19.41s/it]\u001b[A"
     ]
    },
    {
     "name": "stdout",
     "output_type": "stream",
     "text": [
      "Validation set: Loss: 4.27467\n",
      "EarlyStopping counter: 1 out of 10\n",
      "\n",
      "\n",
      "loss: 4.279418  [50182/182284]\n",
      "loss: 4.200565  [101382/182284]\n",
      "loss: 4.389020  [152582/182284]\n"
     ]
    },
    {
     "name": "stderr",
     "output_type": "stream",
     "text": [
      "\n",
      " 20%|█▉        | 79/400 [25:18<1:43:22, 19.32s/it]\u001b[A"
     ]
    },
    {
     "name": "stdout",
     "output_type": "stream",
     "text": [
      "Validation set: Loss: 4.27401\n",
      "Validation loss decreased (4.274112 --> 4.274010).  Saving model ...\n",
      "\n",
      "\n",
      "loss: 4.236594  [50182/182284]\n",
      "loss: 4.262212  [101382/182284]\n",
      "loss: 4.360188  [152582/182284]\n"
     ]
    },
    {
     "name": "stderr",
     "output_type": "stream",
     "text": [
      "\n",
      " 20%|██        | 80/400 [25:37<1:42:41, 19.26s/it]\u001b[A"
     ]
    },
    {
     "name": "stdout",
     "output_type": "stream",
     "text": [
      "Validation set: Loss: 4.27468\n",
      "EarlyStopping counter: 1 out of 10\n",
      "\n",
      "\n",
      "loss: 4.316528  [50182/182284]\n",
      "loss: 4.318100  [101382/182284]\n",
      "loss: 4.259342  [152582/182284]\n"
     ]
    },
    {
     "name": "stderr",
     "output_type": "stream",
     "text": [
      "\n",
      " 20%|██        | 81/400 [25:56<1:42:03, 19.20s/it]\u001b[A"
     ]
    },
    {
     "name": "stdout",
     "output_type": "stream",
     "text": [
      "Validation set: Loss: 4.27431\n",
      "EarlyStopping counter: 2 out of 10\n",
      "\n",
      "\n",
      "loss: 4.256900  [50182/182284]\n",
      "loss: 4.374593  [101382/182284]\n",
      "loss: 4.268839  [152582/182284]\n"
     ]
    },
    {
     "name": "stderr",
     "output_type": "stream",
     "text": [
      "\n",
      " 20%|██        | 82/400 [26:15<1:41:23, 19.13s/it]\u001b[A"
     ]
    },
    {
     "name": "stdout",
     "output_type": "stream",
     "text": [
      "Validation set: Loss: 4.27441\n",
      "EarlyStopping counter: 3 out of 10\n",
      "\n",
      "\n",
      "loss: 4.277434  [50182/182284]\n",
      "loss: 4.209999  [101382/182284]\n",
      "loss: 4.210285  [152582/182284]\n"
     ]
    },
    {
     "name": "stderr",
     "output_type": "stream",
     "text": [
      "\n",
      " 21%|██        | 83/400 [26:34<1:41:11, 19.15s/it]\u001b[A"
     ]
    },
    {
     "name": "stdout",
     "output_type": "stream",
     "text": [
      "Validation set: Loss: 4.27387\n",
      "Validation loss decreased (4.274010 --> 4.273873).  Saving model ...\n",
      "\n",
      "\n",
      "loss: 4.368619  [50182/182284]\n",
      "loss: 4.085705  [101382/182284]\n",
      "loss: 4.229102  [152582/182284]\n"
     ]
    },
    {
     "name": "stderr",
     "output_type": "stream",
     "text": [
      "\n",
      " 21%|██        | 84/400 [26:54<1:41:15, 19.23s/it]\u001b[A"
     ]
    },
    {
     "name": "stdout",
     "output_type": "stream",
     "text": [
      "Validation set: Loss: 4.27431\n",
      "EarlyStopping counter: 1 out of 10\n",
      "\n",
      "\n",
      "loss: 4.272160  [50182/182284]\n",
      "loss: 4.191850  [101382/182284]\n",
      "loss: 4.250557  [152582/182284]\n"
     ]
    },
    {
     "name": "stderr",
     "output_type": "stream",
     "text": [
      "\n",
      " 21%|██▏       | 85/400 [27:13<1:40:27, 19.13s/it]\u001b[A"
     ]
    },
    {
     "name": "stdout",
     "output_type": "stream",
     "text": [
      "Validation set: Loss: 4.27374\n",
      "Validation loss decreased (4.273873 --> 4.273739).  Saving model ...\n",
      "\n",
      "\n",
      "loss: 4.180263  [50182/182284]\n",
      "loss: 4.167294  [101382/182284]\n",
      "loss: 4.239796  [152582/182284]\n"
     ]
    },
    {
     "name": "stderr",
     "output_type": "stream",
     "text": [
      "\n",
      " 22%|██▏       | 86/400 [27:32<1:40:48, 19.26s/it]\u001b[A"
     ]
    },
    {
     "name": "stdout",
     "output_type": "stream",
     "text": [
      "Validation set: Loss: 4.27400\n",
      "EarlyStopping counter: 1 out of 10\n",
      "\n",
      "\n",
      "loss: 4.309558  [50182/182284]\n",
      "loss: 4.312847  [101382/182284]\n",
      "loss: 4.273459  [152582/182284]\n"
     ]
    },
    {
     "name": "stderr",
     "output_type": "stream",
     "text": [
      "\n",
      " 22%|██▏       | 87/400 [27:51<1:39:49, 19.13s/it]\u001b[A"
     ]
    },
    {
     "name": "stdout",
     "output_type": "stream",
     "text": [
      "Validation set: Loss: 4.27442\n",
      "EarlyStopping counter: 2 out of 10\n",
      "\n",
      "\n",
      "loss: 4.279636  [50182/182284]\n",
      "loss: 4.250742  [101382/182284]\n",
      "loss: 4.203990  [152582/182284]\n"
     ]
    },
    {
     "name": "stderr",
     "output_type": "stream",
     "text": [
      "\n",
      " 22%|██▏       | 88/400 [28:10<1:39:33, 19.14s/it]\u001b[A"
     ]
    },
    {
     "name": "stdout",
     "output_type": "stream",
     "text": [
      "Validation set: Loss: 4.27382\n",
      "EarlyStopping counter: 3 out of 10\n",
      "\n",
      "\n",
      "loss: 4.173589  [50182/182284]\n",
      "loss: 4.266211  [101382/182284]\n",
      "loss: 4.301209  [152582/182284]\n"
     ]
    },
    {
     "name": "stderr",
     "output_type": "stream",
     "text": [
      "\n",
      " 22%|██▏       | 89/400 [28:29<1:39:34, 19.21s/it]\u001b[A"
     ]
    },
    {
     "name": "stdout",
     "output_type": "stream",
     "text": [
      "Validation set: Loss: 4.27538\n",
      "EarlyStopping counter: 4 out of 10\n",
      "\n",
      "\n",
      "loss: 4.294452  [50182/182284]\n",
      "loss: 4.269973  [101382/182284]\n",
      "loss: 4.246528  [152582/182284]\n"
     ]
    },
    {
     "name": "stderr",
     "output_type": "stream",
     "text": [
      "\n",
      " 22%|██▎       | 90/400 [28:48<1:38:45, 19.11s/it]\u001b[A"
     ]
    },
    {
     "name": "stdout",
     "output_type": "stream",
     "text": [
      "Validation set: Loss: 4.27389\n",
      "EarlyStopping counter: 5 out of 10\n",
      "\n",
      "\n",
      "loss: 4.220045  [50182/182284]\n",
      "loss: 4.280561  [101382/182284]\n",
      "loss: 4.299188  [152582/182284]\n"
     ]
    },
    {
     "name": "stderr",
     "output_type": "stream",
     "text": [
      "\n",
      " 23%|██▎       | 91/400 [29:08<1:38:31, 19.13s/it]\u001b[A"
     ]
    },
    {
     "name": "stdout",
     "output_type": "stream",
     "text": [
      "Validation set: Loss: 4.27352\n",
      "Validation loss decreased (4.273739 --> 4.273523).  Saving model ...\n",
      "\n",
      "\n",
      "loss: 4.256967  [50182/182284]\n",
      "loss: 4.261605  [101382/182284]\n",
      "loss: 4.186129  [152582/182284]\n"
     ]
    },
    {
     "name": "stderr",
     "output_type": "stream",
     "text": [
      "\n",
      " 23%|██▎       | 92/400 [29:27<1:38:15, 19.14s/it]\u001b[A"
     ]
    },
    {
     "name": "stdout",
     "output_type": "stream",
     "text": [
      "Validation set: Loss: 4.27402\n",
      "EarlyStopping counter: 1 out of 10\n",
      "\n",
      "\n",
      "loss: 4.332380  [50182/182284]\n",
      "loss: 4.315604  [101382/182284]\n",
      "loss: 4.323209  [152582/182284]\n"
     ]
    },
    {
     "name": "stderr",
     "output_type": "stream",
     "text": [
      "\n",
      " 23%|██▎       | 93/400 [29:46<1:38:21, 19.22s/it]\u001b[A"
     ]
    },
    {
     "name": "stdout",
     "output_type": "stream",
     "text": [
      "Validation set: Loss: 4.27369\n",
      "EarlyStopping counter: 2 out of 10\n",
      "\n",
      "\n",
      "loss: 4.207682  [50182/182284]\n",
      "loss: 4.363266  [101382/182284]\n",
      "loss: 4.231751  [152582/182284]\n"
     ]
    },
    {
     "name": "stderr",
     "output_type": "stream",
     "text": [
      "\n",
      " 24%|██▎       | 94/400 [30:05<1:37:59, 19.21s/it]\u001b[A"
     ]
    },
    {
     "name": "stdout",
     "output_type": "stream",
     "text": [
      "Validation set: Loss: 4.27356\n",
      "EarlyStopping counter: 3 out of 10\n",
      "\n",
      "\n",
      "loss: 4.216481  [50182/182284]\n",
      "loss: 4.197738  [101382/182284]\n",
      "loss: 4.158690  [152582/182284]\n"
     ]
    },
    {
     "name": "stderr",
     "output_type": "stream",
     "text": [
      "\n",
      " 24%|██▍       | 95/400 [30:24<1:37:25, 19.17s/it]\u001b[A"
     ]
    },
    {
     "name": "stdout",
     "output_type": "stream",
     "text": [
      "Validation set: Loss: 4.27460\n",
      "EarlyStopping counter: 4 out of 10\n",
      "\n",
      "\n",
      "loss: 4.302684  [50182/182284]\n",
      "loss: 4.294898  [101382/182284]\n",
      "loss: 4.231005  [152582/182284]\n"
     ]
    },
    {
     "name": "stderr",
     "output_type": "stream",
     "text": [
      "\n",
      " 24%|██▍       | 96/400 [30:44<1:37:19, 19.21s/it]\u001b[A"
     ]
    },
    {
     "name": "stdout",
     "output_type": "stream",
     "text": [
      "Validation set: Loss: 4.27412\n",
      "EarlyStopping counter: 5 out of 10\n",
      "\n",
      "\n",
      "loss: 4.324857  [50182/182284]\n",
      "loss: 4.323983  [101382/182284]\n",
      "loss: 4.270340  [152582/182284]\n"
     ]
    },
    {
     "name": "stderr",
     "output_type": "stream",
     "text": [
      "\n",
      " 24%|██▍       | 97/400 [31:03<1:36:34, 19.12s/it]\u001b[A"
     ]
    },
    {
     "name": "stdout",
     "output_type": "stream",
     "text": [
      "Validation set: Loss: 4.27342\n",
      "Validation loss decreased (4.273523 --> 4.273415).  Saving model ...\n",
      "\n",
      "\n",
      "loss: 4.277636  [50182/182284]\n",
      "loss: 4.184281  [101382/182284]\n",
      "loss: 4.361852  [152582/182284]\n"
     ]
    },
    {
     "name": "stderr",
     "output_type": "stream",
     "text": [
      "\n",
      " 24%|██▍       | 98/400 [31:22<1:36:24, 19.15s/it]\u001b[A"
     ]
    },
    {
     "name": "stdout",
     "output_type": "stream",
     "text": [
      "Validation set: Loss: 4.27384\n",
      "EarlyStopping counter: 1 out of 10\n",
      "\n",
      "\n",
      "loss: 4.210183  [50182/182284]\n",
      "loss: 4.391592  [101382/182284]\n",
      "loss: 4.329302  [152582/182284]\n"
     ]
    },
    {
     "name": "stderr",
     "output_type": "stream",
     "text": [
      "\n",
      " 25%|██▍       | 99/400 [31:41<1:36:12, 19.18s/it]\u001b[A"
     ]
    },
    {
     "name": "stdout",
     "output_type": "stream",
     "text": [
      "Validation set: Loss: 4.27387\n",
      "EarlyStopping counter: 2 out of 10\n",
      "\n",
      "\n",
      "loss: 4.370754  [50182/182284]\n",
      "loss: 4.263407  [101382/182284]\n",
      "loss: 4.283155  [152582/182284]\n"
     ]
    },
    {
     "name": "stderr",
     "output_type": "stream",
     "text": [
      "\n",
      " 25%|██▌       | 100/400 [32:00<1:35:15, 19.05s/it]\u001b[A"
     ]
    },
    {
     "name": "stdout",
     "output_type": "stream",
     "text": [
      "Validation set: Loss: 4.27375\n",
      "EarlyStopping counter: 3 out of 10\n",
      "\n",
      "\n",
      "loss: 4.332233  [50182/182284]\n",
      "loss: 4.266587  [101382/182284]\n",
      "loss: 4.282330  [152582/182284]\n"
     ]
    },
    {
     "name": "stderr",
     "output_type": "stream",
     "text": [
      "\n",
      " 25%|██▌       | 101/400 [32:19<1:35:08, 19.09s/it]\u001b[A"
     ]
    },
    {
     "name": "stdout",
     "output_type": "stream",
     "text": [
      "Validation set: Loss: 4.27393\n",
      "EarlyStopping counter: 4 out of 10\n",
      "\n",
      "\n",
      "loss: 4.249916  [50182/182284]\n",
      "loss: 4.175425  [101382/182284]\n",
      "loss: 4.270532  [152582/182284]\n"
     ]
    },
    {
     "name": "stderr",
     "output_type": "stream",
     "text": [
      "\n",
      " 26%|██▌       | 102/400 [32:38<1:34:24, 19.01s/it]\u001b[A"
     ]
    },
    {
     "name": "stdout",
     "output_type": "stream",
     "text": [
      "Validation set: Loss: 4.27369\n",
      "EarlyStopping counter: 5 out of 10\n",
      "\n",
      "\n",
      "loss: 4.301098  [50182/182284]\n",
      "loss: 4.246865  [101382/182284]\n",
      "loss: 4.265662  [152582/182284]\n"
     ]
    },
    {
     "name": "stderr",
     "output_type": "stream",
     "text": [
      "\n",
      " 26%|██▌       | 103/400 [32:57<1:34:25, 19.07s/it]\u001b[A"
     ]
    },
    {
     "name": "stdout",
     "output_type": "stream",
     "text": [
      "Validation set: Loss: 4.27454\n",
      "EarlyStopping counter: 6 out of 10\n",
      "\n",
      "\n",
      "loss: 4.283525  [50182/182284]\n",
      "loss: 4.304908  [101382/182284]\n",
      "loss: 4.256613  [152582/182284]\n"
     ]
    },
    {
     "name": "stderr",
     "output_type": "stream",
     "text": [
      "\n",
      " 26%|██▌       | 104/400 [33:16<1:34:23, 19.13s/it]\u001b[A"
     ]
    },
    {
     "name": "stdout",
     "output_type": "stream",
     "text": [
      "Validation set: Loss: 4.27338\n",
      "Validation loss decreased (4.273415 --> 4.273384).  Saving model ...\n",
      "\n",
      "\n",
      "loss: 4.276402  [50182/182284]\n",
      "loss: 4.227776  [101382/182284]\n",
      "loss: 4.361760  [152582/182284]\n"
     ]
    },
    {
     "name": "stderr",
     "output_type": "stream",
     "text": [
      "\n",
      " 26%|██▋       | 105/400 [33:35<1:33:41, 19.06s/it]\u001b[A"
     ]
    },
    {
     "name": "stdout",
     "output_type": "stream",
     "text": [
      "Validation set: Loss: 4.27350\n",
      "EarlyStopping counter: 1 out of 10\n",
      "\n",
      "\n",
      "loss: 4.323997  [50182/182284]\n",
      "loss: 4.478907  [101382/182284]\n",
      "loss: 4.260550  [152582/182284]\n"
     ]
    },
    {
     "name": "stderr",
     "output_type": "stream",
     "text": [
      "\n",
      " 26%|██▋       | 106/400 [33:55<1:33:45, 19.13s/it]\u001b[A"
     ]
    },
    {
     "name": "stdout",
     "output_type": "stream",
     "text": [
      "Validation set: Loss: 4.27390\n",
      "EarlyStopping counter: 2 out of 10\n",
      "\n",
      "\n",
      "loss: 4.286777  [50182/182284]\n",
      "loss: 4.228072  [101382/182284]\n",
      "loss: 4.235337  [152582/182284]\n"
     ]
    },
    {
     "name": "stderr",
     "output_type": "stream",
     "text": [
      "\n",
      " 27%|██▋       | 107/400 [34:14<1:33:26, 19.13s/it]\u001b[A"
     ]
    },
    {
     "name": "stdout",
     "output_type": "stream",
     "text": [
      "Validation set: Loss: 4.27321\n",
      "Validation loss decreased (4.273384 --> 4.273214).  Saving model ...\n",
      "\n",
      "\n",
      "loss: 4.273160  [50182/182284]\n",
      "loss: 4.306687  [101382/182284]\n",
      "loss: 4.125555  [152582/182284]\n"
     ]
    },
    {
     "name": "stderr",
     "output_type": "stream",
     "text": [
      "\n",
      " 27%|██▋       | 108/400 [34:33<1:33:30, 19.21s/it]\u001b[A"
     ]
    },
    {
     "name": "stdout",
     "output_type": "stream",
     "text": [
      "Validation set: Loss: 4.27320\n",
      "Validation loss decreased (4.273214 --> 4.273202).  Saving model ...\n",
      "\n",
      "\n",
      "loss: 4.226147  [50182/182284]\n",
      "loss: 4.194768  [101382/182284]\n",
      "loss: 4.130209  [152582/182284]\n"
     ]
    },
    {
     "name": "stderr",
     "output_type": "stream",
     "text": [
      "\n",
      " 27%|██▋       | 109/400 [34:52<1:33:15, 19.23s/it]\u001b[A"
     ]
    },
    {
     "name": "stdout",
     "output_type": "stream",
     "text": [
      "Validation set: Loss: 4.27332\n",
      "EarlyStopping counter: 1 out of 10\n",
      "\n",
      "\n",
      "loss: 4.183072  [50182/182284]\n",
      "loss: 4.324698  [101382/182284]\n",
      "loss: 4.227749  [152582/182284]\n"
     ]
    },
    {
     "name": "stderr",
     "output_type": "stream",
     "text": [
      "\n",
      " 28%|██▊       | 110/400 [35:11<1:32:37, 19.16s/it]\u001b[A"
     ]
    },
    {
     "name": "stdout",
     "output_type": "stream",
     "text": [
      "Validation set: Loss: 4.27304\n",
      "Validation loss decreased (4.273202 --> 4.273036).  Saving model ...\n",
      "\n",
      "\n",
      "loss: 4.207327  [50182/182284]\n",
      "loss: 4.233774  [101382/182284]\n",
      "loss: 4.241858  [152582/182284]\n"
     ]
    },
    {
     "name": "stderr",
     "output_type": "stream",
     "text": [
      "\n",
      " 28%|██▊       | 111/400 [35:30<1:32:08, 19.13s/it]\u001b[A"
     ]
    },
    {
     "name": "stdout",
     "output_type": "stream",
     "text": [
      "Validation set: Loss: 4.27316\n",
      "EarlyStopping counter: 1 out of 10\n",
      "\n",
      "\n",
      "loss: 4.287939  [50182/182284]\n",
      "loss: 4.275476  [101382/182284]\n",
      "loss: 4.269172  [152582/182284]\n"
     ]
    },
    {
     "name": "stderr",
     "output_type": "stream",
     "text": [
      "\n",
      " 28%|██▊       | 112/400 [35:49<1:31:22, 19.04s/it]\u001b[A"
     ]
    },
    {
     "name": "stdout",
     "output_type": "stream",
     "text": [
      "Validation set: Loss: 4.27349\n",
      "EarlyStopping counter: 2 out of 10\n",
      "\n",
      "\n",
      "loss: 4.312038  [50182/182284]\n",
      "loss: 4.272269  [101382/182284]\n",
      "loss: 4.237488  [152582/182284]\n"
     ]
    },
    {
     "name": "stderr",
     "output_type": "stream",
     "text": [
      "\n",
      " 28%|██▊       | 113/400 [36:09<1:31:33, 19.14s/it]\u001b[A"
     ]
    },
    {
     "name": "stdout",
     "output_type": "stream",
     "text": [
      "Validation set: Loss: 4.27297\n",
      "Validation loss decreased (4.273036 --> 4.272968).  Saving model ...\n",
      "\n",
      "\n",
      "loss: 4.274115  [50182/182284]\n",
      "loss: 4.260512  [101382/182284]\n",
      "loss: 4.286569  [152582/182284]\n"
     ]
    },
    {
     "name": "stderr",
     "output_type": "stream",
     "text": [
      "\n",
      " 28%|██▊       | 114/400 [36:28<1:31:33, 19.21s/it]\u001b[A"
     ]
    },
    {
     "name": "stdout",
     "output_type": "stream",
     "text": [
      "Validation set: Loss: 4.27367\n",
      "EarlyStopping counter: 1 out of 10\n",
      "\n",
      "\n",
      "loss: 4.267776  [50182/182284]\n",
      "loss: 4.228343  [101382/182284]\n",
      "loss: 4.240071  [152582/182284]\n"
     ]
    },
    {
     "name": "stderr",
     "output_type": "stream",
     "text": [
      "\n",
      " 29%|██▉       | 115/400 [36:47<1:30:50, 19.12s/it]\u001b[A"
     ]
    },
    {
     "name": "stdout",
     "output_type": "stream",
     "text": [
      "Validation set: Loss: 4.27339\n",
      "EarlyStopping counter: 2 out of 10\n",
      "\n",
      "\n",
      "loss: 4.281372  [50182/182284]\n",
      "loss: 4.288012  [101382/182284]\n",
      "loss: 4.259911  [152582/182284]\n"
     ]
    },
    {
     "name": "stderr",
     "output_type": "stream",
     "text": [
      "\n",
      " 29%|██▉       | 116/400 [37:06<1:30:50, 19.19s/it]\u001b[A"
     ]
    },
    {
     "name": "stdout",
     "output_type": "stream",
     "text": [
      "Validation set: Loss: 4.27314\n",
      "EarlyStopping counter: 3 out of 10\n",
      "\n",
      "\n",
      "loss: 4.351316  [50182/182284]\n",
      "loss: 4.189334  [101382/182284]\n",
      "loss: 4.179941  [152582/182284]\n"
     ]
    },
    {
     "name": "stderr",
     "output_type": "stream",
     "text": [
      "\n",
      " 29%|██▉       | 117/400 [37:25<1:30:09, 19.11s/it]\u001b[A"
     ]
    },
    {
     "name": "stdout",
     "output_type": "stream",
     "text": [
      "Validation set: Loss: 4.27297\n",
      "EarlyStopping counter: 4 out of 10\n",
      "\n",
      "\n",
      "loss: 4.296475  [50182/182284]\n",
      "loss: 4.331758  [101382/182284]\n",
      "loss: 4.330664  [152582/182284]\n"
     ]
    },
    {
     "name": "stderr",
     "output_type": "stream",
     "text": [
      "\n",
      " 30%|██▉       | 118/400 [37:45<1:30:14, 19.20s/it]\u001b[A"
     ]
    },
    {
     "name": "stdout",
     "output_type": "stream",
     "text": [
      "Validation set: Loss: 4.27311\n",
      "EarlyStopping counter: 5 out of 10\n",
      "\n",
      "\n",
      "loss: 4.256638  [50182/182284]\n",
      "loss: 4.228818  [101382/182284]\n",
      "loss: 4.294105  [152582/182284]\n"
     ]
    },
    {
     "name": "stderr",
     "output_type": "stream",
     "text": [
      "\n",
      " 30%|██▉       | 119/400 [38:04<1:30:20, 19.29s/it]\u001b[A"
     ]
    },
    {
     "name": "stdout",
     "output_type": "stream",
     "text": [
      "Validation set: Loss: 4.27276\n",
      "Validation loss decreased (4.272968 --> 4.272755).  Saving model ...\n",
      "\n",
      "\n",
      "loss: 4.271771  [50182/182284]\n",
      "loss: 4.273118  [101382/182284]\n",
      "loss: 4.189321  [152582/182284]\n"
     ]
    },
    {
     "name": "stderr",
     "output_type": "stream",
     "text": [
      "\n",
      " 30%|███       | 120/400 [38:23<1:29:35, 19.20s/it]\u001b[A"
     ]
    },
    {
     "name": "stdout",
     "output_type": "stream",
     "text": [
      "Validation set: Loss: 4.27322\n",
      "EarlyStopping counter: 1 out of 10\n",
      "\n",
      "\n",
      "loss: 4.207187  [50182/182284]\n",
      "loss: 4.304698  [101382/182284]\n",
      "loss: 4.260392  [152582/182284]\n"
     ]
    },
    {
     "name": "stderr",
     "output_type": "stream",
     "text": [
      "\n",
      " 30%|███       | 121/400 [38:42<1:29:12, 19.19s/it]\u001b[A"
     ]
    },
    {
     "name": "stdout",
     "output_type": "stream",
     "text": [
      "Validation set: Loss: 4.27273\n",
      "Validation loss decreased (4.272755 --> 4.272725).  Saving model ...\n",
      "\n",
      "\n",
      "loss: 4.282934  [50182/182284]\n",
      "loss: 4.299200  [101382/182284]\n",
      "loss: 4.299851  [152582/182284]\n"
     ]
    },
    {
     "name": "stderr",
     "output_type": "stream",
     "text": [
      "\n",
      " 30%|███       | 122/400 [39:01<1:28:53, 19.19s/it]\u001b[A"
     ]
    },
    {
     "name": "stdout",
     "output_type": "stream",
     "text": [
      "Validation set: Loss: 4.27313\n",
      "EarlyStopping counter: 1 out of 10\n",
      "\n",
      "\n",
      "loss: 4.236819  [50182/182284]\n",
      "loss: 4.278561  [101382/182284]\n",
      "loss: 4.230458  [152582/182284]\n"
     ]
    },
    {
     "name": "stderr",
     "output_type": "stream",
     "text": [
      "\n",
      " 31%|███       | 123/400 [39:21<1:28:34, 19.18s/it]\u001b[A"
     ]
    },
    {
     "name": "stdout",
     "output_type": "stream",
     "text": [
      "Validation set: Loss: 4.27265\n",
      "Validation loss decreased (4.272725 --> 4.272646).  Saving model ...\n",
      "\n",
      "\n",
      "loss: 4.288332  [50182/182284]\n",
      "loss: 4.215674  [101382/182284]\n",
      "loss: 4.202576  [152582/182284]\n"
     ]
    },
    {
     "name": "stderr",
     "output_type": "stream",
     "text": [
      "\n",
      " 31%|███       | 124/400 [39:40<1:28:21, 19.21s/it]\u001b[A"
     ]
    },
    {
     "name": "stdout",
     "output_type": "stream",
     "text": [
      "Validation set: Loss: 4.27344\n",
      "EarlyStopping counter: 1 out of 10\n",
      "\n",
      "\n",
      "loss: 4.218406  [50182/182284]\n",
      "loss: 4.318952  [101382/182284]\n",
      "loss: 4.340694  [152582/182284]\n"
     ]
    },
    {
     "name": "stderr",
     "output_type": "stream",
     "text": [
      "\n",
      " 31%|███▏      | 125/400 [39:59<1:28:12, 19.25s/it]\u001b[A"
     ]
    },
    {
     "name": "stdout",
     "output_type": "stream",
     "text": [
      "Validation set: Loss: 4.27291\n",
      "EarlyStopping counter: 2 out of 10\n",
      "\n",
      "\n",
      "loss: 4.263227  [50182/182284]\n",
      "loss: 4.261660  [101382/182284]\n",
      "loss: 4.283089  [152582/182284]\n"
     ]
    },
    {
     "name": "stderr",
     "output_type": "stream",
     "text": [
      "\n",
      " 32%|███▏      | 126/400 [40:18<1:27:45, 19.22s/it]\u001b[A"
     ]
    },
    {
     "name": "stdout",
     "output_type": "stream",
     "text": [
      "Validation set: Loss: 4.27341\n",
      "EarlyStopping counter: 3 out of 10\n",
      "\n",
      "\n",
      "loss: 4.328609  [50182/182284]\n",
      "loss: 4.192765  [101382/182284]\n",
      "loss: 4.280797  [152582/182284]\n"
     ]
    },
    {
     "name": "stderr",
     "output_type": "stream",
     "text": [
      "\n",
      " 32%|███▏      | 127/400 [40:38<1:27:34, 19.25s/it]\u001b[A"
     ]
    },
    {
     "name": "stdout",
     "output_type": "stream",
     "text": [
      "Validation set: Loss: 4.27256\n",
      "Validation loss decreased (4.272646 --> 4.272558).  Saving model ...\n",
      "\n",
      "\n",
      "loss: 4.220272  [50182/182284]\n",
      "loss: 4.257604  [101382/182284]\n",
      "loss: 4.250222  [152582/182284]\n"
     ]
    },
    {
     "name": "stderr",
     "output_type": "stream",
     "text": [
      "\n",
      " 32%|███▏      | 128/400 [40:57<1:27:18, 19.26s/it]\u001b[A"
     ]
    },
    {
     "name": "stdout",
     "output_type": "stream",
     "text": [
      "Validation set: Loss: 4.27253\n",
      "Validation loss decreased (4.272558 --> 4.272527).  Saving model ...\n",
      "\n",
      "\n",
      "loss: 4.324642  [50182/182284]\n",
      "loss: 4.384309  [101382/182284]\n",
      "loss: 4.243483  [152582/182284]\n"
     ]
    },
    {
     "name": "stderr",
     "output_type": "stream",
     "text": [
      "\n",
      " 32%|███▏      | 129/400 [41:16<1:27:14, 19.31s/it]\u001b[A"
     ]
    },
    {
     "name": "stdout",
     "output_type": "stream",
     "text": [
      "Validation set: Loss: 4.27276\n",
      "EarlyStopping counter: 1 out of 10\n",
      "\n",
      "\n",
      "loss: 4.230666  [50182/182284]\n",
      "loss: 4.308990  [101382/182284]\n",
      "loss: 4.278750  [152582/182284]\n"
     ]
    },
    {
     "name": "stderr",
     "output_type": "stream",
     "text": [
      "\n",
      " 32%|███▎      | 130/400 [41:35<1:26:26, 19.21s/it]\u001b[A"
     ]
    },
    {
     "name": "stdout",
     "output_type": "stream",
     "text": [
      "Validation set: Loss: 4.27290\n",
      "EarlyStopping counter: 2 out of 10\n",
      "\n",
      "\n",
      "loss: 4.300909  [50182/182284]\n",
      "loss: 4.290932  [101382/182284]\n",
      "loss: 4.184431  [152582/182284]\n"
     ]
    },
    {
     "name": "stderr",
     "output_type": "stream",
     "text": [
      "\n",
      " 33%|███▎      | 131/400 [41:55<1:26:18, 19.25s/it]\u001b[A"
     ]
    },
    {
     "name": "stdout",
     "output_type": "stream",
     "text": [
      "Validation set: Loss: 4.27284\n",
      "EarlyStopping counter: 3 out of 10\n",
      "\n",
      "\n",
      "loss: 4.284273  [50182/182284]\n",
      "loss: 4.237400  [101382/182284]\n",
      "loss: 4.201937  [152582/182284]\n"
     ]
    },
    {
     "name": "stderr",
     "output_type": "stream",
     "text": [
      "\n",
      " 33%|███▎      | 132/400 [42:14<1:26:12, 19.30s/it]\u001b[A"
     ]
    },
    {
     "name": "stdout",
     "output_type": "stream",
     "text": [
      "Validation set: Loss: 4.27284\n",
      "EarlyStopping counter: 4 out of 10\n",
      "\n",
      "\n",
      "loss: 4.306759  [50182/182284]\n",
      "loss: 4.283573  [101382/182284]\n",
      "loss: 4.214505  [152582/182284]\n"
     ]
    },
    {
     "name": "stderr",
     "output_type": "stream",
     "text": [
      "\n",
      " 33%|███▎      | 133/400 [42:33<1:25:23, 19.19s/it]\u001b[A"
     ]
    },
    {
     "name": "stdout",
     "output_type": "stream",
     "text": [
      "Validation set: Loss: 4.27288\n",
      "EarlyStopping counter: 5 out of 10\n",
      "\n",
      "\n",
      "loss: 4.259619  [50182/182284]\n",
      "loss: 4.273606  [101382/182284]\n",
      "loss: 4.276868  [152582/182284]\n"
     ]
    },
    {
     "name": "stderr",
     "output_type": "stream",
     "text": [
      "\n",
      " 34%|███▎      | 134/400 [42:53<1:25:32, 19.30s/it]\u001b[A"
     ]
    },
    {
     "name": "stdout",
     "output_type": "stream",
     "text": [
      "Validation set: Loss: 4.27290\n",
      "EarlyStopping counter: 6 out of 10\n",
      "\n",
      "\n",
      "loss: 4.267662  [50182/182284]\n",
      "loss: 4.229651  [101382/182284]\n",
      "loss: 4.217594  [152582/182284]\n"
     ]
    },
    {
     "name": "stderr",
     "output_type": "stream",
     "text": [
      "\n",
      " 34%|███▍      | 135/400 [43:11<1:24:40, 19.17s/it]\u001b[A"
     ]
    },
    {
     "name": "stdout",
     "output_type": "stream",
     "text": [
      "Validation set: Loss: 4.27297\n",
      "EarlyStopping counter: 7 out of 10\n",
      "\n",
      "\n",
      "loss: 4.244692  [50182/182284]\n",
      "loss: 4.211945  [101382/182284]\n",
      "loss: 4.355618  [152582/182284]\n"
     ]
    },
    {
     "name": "stderr",
     "output_type": "stream",
     "text": [
      "\n",
      " 34%|███▍      | 136/400 [43:30<1:24:07, 19.12s/it]\u001b[A"
     ]
    },
    {
     "name": "stdout",
     "output_type": "stream",
     "text": [
      "Validation set: Loss: 4.27227\n",
      "Validation loss decreased (4.272527 --> 4.272272).  Saving model ...\n",
      "\n",
      "\n",
      "loss: 4.195776  [50182/182284]\n",
      "loss: 4.276780  [101382/182284]\n",
      "loss: 4.362466  [152582/182284]\n"
     ]
    },
    {
     "name": "stderr",
     "output_type": "stream",
     "text": [
      "\n",
      " 34%|███▍      | 137/400 [43:50<1:23:47, 19.12s/it]\u001b[A"
     ]
    },
    {
     "name": "stdout",
     "output_type": "stream",
     "text": [
      "Validation set: Loss: 4.27237\n",
      "EarlyStopping counter: 1 out of 10\n",
      "\n",
      "\n",
      "loss: 4.267060  [50182/182284]\n",
      "loss: 4.274140  [101382/182284]\n",
      "loss: 4.273082  [152582/182284]\n"
     ]
    },
    {
     "name": "stderr",
     "output_type": "stream",
     "text": [
      "\n",
      " 34%|███▍      | 138/400 [44:08<1:23:11, 19.05s/it]\u001b[A"
     ]
    },
    {
     "name": "stdout",
     "output_type": "stream",
     "text": [
      "Validation set: Loss: 4.27422\n",
      "EarlyStopping counter: 2 out of 10\n",
      "\n",
      "\n",
      "loss: 4.362654  [50182/182284]\n",
      "loss: 4.245867  [101382/182284]\n",
      "loss: 4.214665  [152582/182284]\n"
     ]
    },
    {
     "name": "stderr",
     "output_type": "stream",
     "text": [
      "\n",
      " 35%|███▍      | 139/400 [44:28<1:22:57, 19.07s/it]\u001b[A"
     ]
    },
    {
     "name": "stdout",
     "output_type": "stream",
     "text": [
      "Validation set: Loss: 4.27246\n",
      "EarlyStopping counter: 3 out of 10\n",
      "\n",
      "\n",
      "loss: 4.327829  [50182/182284]\n",
      "loss: 4.204576  [101382/182284]\n",
      "loss: 4.277684  [152582/182284]\n"
     ]
    },
    {
     "name": "stderr",
     "output_type": "stream",
     "text": [
      "\n",
      " 35%|███▌      | 140/400 [44:47<1:22:32, 19.05s/it]\u001b[A"
     ]
    },
    {
     "name": "stdout",
     "output_type": "stream",
     "text": [
      "Validation set: Loss: 4.27301\n",
      "EarlyStopping counter: 4 out of 10\n",
      "\n",
      "\n",
      "loss: 4.228620  [50182/182284]\n",
      "loss: 4.275772  [101382/182284]\n",
      "loss: 4.277572  [152582/182284]\n"
     ]
    },
    {
     "name": "stderr",
     "output_type": "stream",
     "text": [
      "\n",
      " 35%|███▌      | 141/400 [45:06<1:22:26, 19.10s/it]\u001b[A"
     ]
    },
    {
     "name": "stdout",
     "output_type": "stream",
     "text": [
      "Validation set: Loss: 4.27234\n",
      "EarlyStopping counter: 5 out of 10\n",
      "\n",
      "\n",
      "loss: 4.272645  [50182/182284]\n",
      "loss: 4.169937  [101382/182284]\n",
      "loss: 4.263480  [152582/182284]\n"
     ]
    },
    {
     "name": "stderr",
     "output_type": "stream",
     "text": [
      "\n",
      " 36%|███▌      | 142/400 [45:25<1:22:10, 19.11s/it]\u001b[A"
     ]
    },
    {
     "name": "stdout",
     "output_type": "stream",
     "text": [
      "Validation set: Loss: 4.27313\n",
      "EarlyStopping counter: 6 out of 10\n",
      "\n",
      "\n",
      "loss: 4.300298  [50182/182284]\n",
      "loss: 4.318973  [101382/182284]\n",
      "loss: 4.305810  [152582/182284]\n"
     ]
    },
    {
     "name": "stderr",
     "output_type": "stream",
     "text": [
      "\n",
      " 36%|███▌      | 143/400 [45:44<1:21:53, 19.12s/it]\u001b[A"
     ]
    },
    {
     "name": "stdout",
     "output_type": "stream",
     "text": [
      "Validation set: Loss: 4.27328\n",
      "EarlyStopping counter: 7 out of 10\n",
      "\n",
      "\n",
      "loss: 4.224329  [50182/182284]\n",
      "loss: 4.224805  [101382/182284]\n",
      "loss: 4.218405  [152582/182284]\n"
     ]
    },
    {
     "name": "stderr",
     "output_type": "stream",
     "text": [
      "\n",
      " 36%|███▌      | 144/400 [46:03<1:21:51, 19.19s/it]\u001b[A"
     ]
    },
    {
     "name": "stdout",
     "output_type": "stream",
     "text": [
      "Validation set: Loss: 4.27236\n",
      "EarlyStopping counter: 8 out of 10\n",
      "\n",
      "\n",
      "loss: 4.291540  [50182/182284]\n",
      "loss: 4.336541  [101382/182284]\n",
      "loss: 4.330900  [152582/182284]\n"
     ]
    },
    {
     "name": "stderr",
     "output_type": "stream",
     "text": [
      "\n",
      " 36%|███▋      | 145/400 [46:22<1:21:05, 19.08s/it]\u001b[A"
     ]
    },
    {
     "name": "stdout",
     "output_type": "stream",
     "text": [
      "Validation set: Loss: 4.27265\n",
      "EarlyStopping counter: 9 out of 10\n",
      "\n",
      "\n",
      "loss: 4.222575  [50182/182284]\n",
      "loss: 4.228202  [101382/182284]\n",
      "loss: 4.287646  [152582/182284]\n"
     ]
    },
    {
     "name": "stderr",
     "output_type": "stream",
     "text": [
      " 36%|███▋      | 145/400 [46:42<1:22:07, 19.32s/it]"
     ]
    },
    {
     "name": "stdout",
     "output_type": "stream",
     "text": [
      "Validation set: Loss: 4.27245\n",
      "EarlyStopping counter: 10 out of 10\n",
      "Done!\n"
     ]
    },
    {
     "name": "stderr",
     "output_type": "stream",
     "text": [
      "\n",
      " 20%|██        | 1/5 [46:47<3:07:09, 2807.50s/it]"
     ]
    },
    {
     "name": "stdout",
     "output_type": "stream",
     "text": [
      "Performing the ZILN pipeline for company 104900040\n"
     ]
    },
    {
     "name": "stderr",
     "output_type": "stream",
     "text": [
      "\n",
      "  0%|          | 0/400 [00:00<?, ?it/s]\u001b[A"
     ]
    },
    {
     "name": "stdout",
     "output_type": "stream",
     "text": [
      "\n",
      "\n",
      "loss: 10.584262  [50182/199428]\n",
      "loss: 8.175058  [101382/199428]\n",
      "loss: 6.570881  [152582/199428]\n"
     ]
    },
    {
     "name": "stderr",
     "output_type": "stream",
     "text": [
      "\n",
      "  0%|          | 1/400 [00:21<2:21:20, 21.25s/it]\u001b[A"
     ]
    },
    {
     "name": "stdout",
     "output_type": "stream",
     "text": [
      "Validation set: Loss: 5.73917\n",
      "Validation loss decreased (inf --> 5.739170).  Saving model ...\n",
      "\n",
      "\n",
      "loss: 5.368784  [50182/199428]\n",
      "loss: 5.209504  [101382/199428]\n",
      "loss: 4.982076  [152582/199428]\n"
     ]
    },
    {
     "name": "stderr",
     "output_type": "stream",
     "text": [
      "\n",
      "  0%|          | 2/400 [00:41<2:18:49, 20.93s/it]\u001b[A"
     ]
    },
    {
     "name": "stdout",
     "output_type": "stream",
     "text": [
      "Validation set: Loss: 4.93560\n",
      "Validation loss decreased (5.739170 --> 4.935599).  Saving model ...\n",
      "\n",
      "\n",
      "loss: 4.824546  [50182/199428]\n",
      "loss: 4.757086  [101382/199428]\n",
      "loss: 4.630585  [152582/199428]\n"
     ]
    },
    {
     "name": "stderr",
     "output_type": "stream",
     "text": [
      "\n",
      "  1%|          | 3/400 [01:02<2:18:14, 20.89s/it]\u001b[A"
     ]
    },
    {
     "name": "stdout",
     "output_type": "stream",
     "text": [
      "Validation set: Loss: 4.72248\n",
      "Validation loss decreased (4.935599 --> 4.722483).  Saving model ...\n",
      "\n",
      "\n",
      "loss: 4.723902  [50182/199428]\n",
      "loss: 4.614126  [101382/199428]\n",
      "loss: 4.692638  [152582/199428]\n"
     ]
    },
    {
     "name": "stderr",
     "output_type": "stream",
     "text": [
      "\n",
      "  1%|          | 4/400 [01:23<2:18:38, 21.01s/it]\u001b[A"
     ]
    },
    {
     "name": "stdout",
     "output_type": "stream",
     "text": [
      "Validation set: Loss: 4.65490\n",
      "Validation loss decreased (4.722483 --> 4.654898).  Saving model ...\n",
      "\n",
      "\n",
      "loss: 4.717170  [50182/199428]\n",
      "loss: 4.668713  [101382/199428]\n",
      "loss: 4.669798  [152582/199428]\n"
     ]
    },
    {
     "name": "stderr",
     "output_type": "stream",
     "text": [
      "\n",
      "  1%|▏         | 5/400 [01:44<2:17:52, 20.94s/it]\u001b[A"
     ]
    },
    {
     "name": "stdout",
     "output_type": "stream",
     "text": [
      "Validation set: Loss: 4.64252\n",
      "Validation loss decreased (4.654898 --> 4.642516).  Saving model ...\n",
      "\n",
      "\n",
      "loss: 4.610874  [50182/199428]\n",
      "loss: 4.592491  [101382/199428]\n",
      "loss: 4.616636  [152582/199428]\n"
     ]
    },
    {
     "name": "stderr",
     "output_type": "stream",
     "text": [
      "\n",
      "  2%|▏         | 6/400 [02:05<2:17:35, 20.95s/it]\u001b[A"
     ]
    },
    {
     "name": "stdout",
     "output_type": "stream",
     "text": [
      "Validation set: Loss: 4.63627\n",
      "Validation loss decreased (4.642516 --> 4.636272).  Saving model ...\n",
      "\n",
      "\n",
      "loss: 4.545903  [50182/199428]\n",
      "loss: 4.679924  [101382/199428]\n",
      "loss: 4.642354  [152582/199428]\n"
     ]
    },
    {
     "name": "stderr",
     "output_type": "stream",
     "text": [
      "\n",
      "  2%|▏         | 7/400 [02:26<2:17:37, 21.01s/it]\u001b[A"
     ]
    },
    {
     "name": "stdout",
     "output_type": "stream",
     "text": [
      "Validation set: Loss: 4.63241\n",
      "Validation loss decreased (4.636272 --> 4.632408).  Saving model ...\n",
      "\n",
      "\n",
      "loss: 4.752739  [50182/199428]\n",
      "loss: 4.608528  [101382/199428]\n",
      "loss: 4.683845  [152582/199428]\n"
     ]
    },
    {
     "name": "stderr",
     "output_type": "stream",
     "text": [
      "\n",
      "  2%|▏         | 8/400 [02:47<2:16:34, 20.90s/it]\u001b[A"
     ]
    },
    {
     "name": "stdout",
     "output_type": "stream",
     "text": [
      "Validation set: Loss: 4.62978\n",
      "Validation loss decreased (4.632408 --> 4.629781).  Saving model ...\n",
      "\n",
      "\n",
      "loss: 4.604236  [50182/199428]\n",
      "loss: 4.696072  [101382/199428]\n",
      "loss: 4.499929  [152582/199428]\n"
     ]
    },
    {
     "name": "stderr",
     "output_type": "stream",
     "text": [
      "\n",
      "  2%|▏         | 9/400 [03:08<2:16:27, 20.94s/it]\u001b[A"
     ]
    },
    {
     "name": "stdout",
     "output_type": "stream",
     "text": [
      "Validation set: Loss: 4.62781\n",
      "Validation loss decreased (4.629781 --> 4.627811).  Saving model ...\n",
      "\n",
      "\n",
      "loss: 4.664715  [50182/199428]\n",
      "loss: 4.723406  [101382/199428]\n",
      "loss: 4.631834  [152582/199428]\n"
     ]
    },
    {
     "name": "stderr",
     "output_type": "stream",
     "text": [
      "\n",
      "  2%|▎         | 10/400 [03:29<2:15:55, 20.91s/it]\u001b[A"
     ]
    },
    {
     "name": "stdout",
     "output_type": "stream",
     "text": [
      "Validation set: Loss: 4.62625\n",
      "Validation loss decreased (4.627811 --> 4.626252).  Saving model ...\n",
      "\n",
      "\n",
      "loss: 4.553609  [50182/199428]\n",
      "loss: 4.549254  [101382/199428]\n",
      "loss: 4.467852  [152582/199428]\n"
     ]
    },
    {
     "name": "stderr",
     "output_type": "stream",
     "text": [
      "\n",
      "  3%|▎         | 11/400 [03:49<2:14:44, 20.78s/it]\u001b[A"
     ]
    },
    {
     "name": "stdout",
     "output_type": "stream",
     "text": [
      "Validation set: Loss: 4.62500\n",
      "Validation loss decreased (4.626252 --> 4.625002).  Saving model ...\n",
      "\n",
      "\n",
      "loss: 4.709826  [50182/199428]\n",
      "loss: 4.656641  [101382/199428]\n",
      "loss: 4.576797  [152582/199428]\n"
     ]
    },
    {
     "name": "stderr",
     "output_type": "stream",
     "text": [
      "\n",
      "  3%|▎         | 12/400 [04:10<2:14:50, 20.85s/it]\u001b[A"
     ]
    },
    {
     "name": "stdout",
     "output_type": "stream",
     "text": [
      "Validation set: Loss: 4.62378\n",
      "Validation loss decreased (4.625002 --> 4.623781).  Saving model ...\n",
      "\n",
      "\n",
      "loss: 4.647201  [50182/199428]\n",
      "loss: 4.679961  [101382/199428]\n",
      "loss: 4.592278  [152582/199428]\n"
     ]
    },
    {
     "name": "stderr",
     "output_type": "stream",
     "text": [
      "\n",
      "  3%|▎         | 13/400 [04:31<2:14:39, 20.88s/it]\u001b[A"
     ]
    },
    {
     "name": "stdout",
     "output_type": "stream",
     "text": [
      "Validation set: Loss: 4.62261\n",
      "Validation loss decreased (4.623781 --> 4.622608).  Saving model ...\n",
      "\n",
      "\n",
      "loss: 4.620105  [50182/199428]\n",
      "loss: 4.591142  [101382/199428]\n",
      "loss: 4.674414  [152582/199428]\n"
     ]
    },
    {
     "name": "stderr",
     "output_type": "stream",
     "text": [
      "\n",
      "  4%|▎         | 14/400 [04:52<2:14:04, 20.84s/it]\u001b[A"
     ]
    },
    {
     "name": "stdout",
     "output_type": "stream",
     "text": [
      "Validation set: Loss: 4.62136\n",
      "Validation loss decreased (4.622608 --> 4.621361).  Saving model ...\n",
      "\n",
      "\n",
      "loss: 4.614487  [50182/199428]\n",
      "loss: 4.616171  [101382/199428]\n",
      "loss: 4.579925  [152582/199428]\n"
     ]
    },
    {
     "name": "stderr",
     "output_type": "stream",
     "text": [
      "\n",
      "  4%|▍         | 15/400 [05:13<2:13:31, 20.81s/it]\u001b[A"
     ]
    },
    {
     "name": "stdout",
     "output_type": "stream",
     "text": [
      "Validation set: Loss: 4.62030\n",
      "Validation loss decreased (4.621361 --> 4.620302).  Saving model ...\n",
      "\n",
      "\n",
      "loss: 4.658299  [50182/199428]\n",
      "loss: 4.604424  [101382/199428]\n",
      "loss: 4.685803  [152582/199428]\n"
     ]
    },
    {
     "name": "stderr",
     "output_type": "stream",
     "text": [
      "\n",
      "  4%|▍         | 16/400 [05:34<2:13:18, 20.83s/it]\u001b[A"
     ]
    },
    {
     "name": "stdout",
     "output_type": "stream",
     "text": [
      "Validation set: Loss: 4.61930\n",
      "Validation loss decreased (4.620302 --> 4.619297).  Saving model ...\n",
      "\n",
      "\n",
      "loss: 4.620388  [50182/199428]\n",
      "loss: 4.648614  [101382/199428]\n",
      "loss: 4.621779  [152582/199428]\n"
     ]
    },
    {
     "name": "stderr",
     "output_type": "stream",
     "text": [
      "\n",
      "  4%|▍         | 17/400 [05:54<2:12:38, 20.78s/it]\u001b[A"
     ]
    },
    {
     "name": "stdout",
     "output_type": "stream",
     "text": [
      "Validation set: Loss: 4.61838\n",
      "Validation loss decreased (4.619297 --> 4.618382).  Saving model ...\n",
      "\n",
      "\n",
      "loss: 4.643342  [50182/199428]\n",
      "loss: 4.597030  [101382/199428]\n",
      "loss: 4.583488  [152582/199428]\n"
     ]
    },
    {
     "name": "stderr",
     "output_type": "stream",
     "text": [
      "\n",
      "  4%|▍         | 18/400 [06:15<2:12:36, 20.83s/it]\u001b[A"
     ]
    },
    {
     "name": "stdout",
     "output_type": "stream",
     "text": [
      "Validation set: Loss: 4.61733\n",
      "Validation loss decreased (4.618382 --> 4.617329).  Saving model ...\n",
      "\n",
      "\n",
      "loss: 4.637272  [50182/199428]\n",
      "loss: 4.612235  [101382/199428]\n",
      "loss: 4.531702  [152582/199428]\n"
     ]
    },
    {
     "name": "stderr",
     "output_type": "stream",
     "text": [
      "\n",
      "  5%|▍         | 19/400 [06:36<2:12:42, 20.90s/it]\u001b[A"
     ]
    },
    {
     "name": "stdout",
     "output_type": "stream",
     "text": [
      "Validation set: Loss: 4.61645\n",
      "Validation loss decreased (4.617329 --> 4.616452).  Saving model ...\n",
      "\n",
      "\n",
      "loss: 4.658292  [50182/199428]\n",
      "loss: 4.656020  [101382/199428]\n",
      "loss: 4.699397  [152582/199428]\n"
     ]
    },
    {
     "name": "stderr",
     "output_type": "stream",
     "text": [
      "\n",
      "  5%|▌         | 20/400 [06:57<2:12:19, 20.89s/it]\u001b[A"
     ]
    },
    {
     "name": "stdout",
     "output_type": "stream",
     "text": [
      "Validation set: Loss: 4.61559\n",
      "Validation loss decreased (4.616452 --> 4.615588).  Saving model ...\n",
      "\n",
      "\n",
      "loss: 4.660364  [50182/199428]\n",
      "loss: 4.709341  [101382/199428]\n",
      "loss: 4.643876  [152582/199428]\n"
     ]
    },
    {
     "name": "stderr",
     "output_type": "stream",
     "text": [
      "\n",
      "  5%|▌         | 21/400 [07:18<2:11:55, 20.88s/it]\u001b[A"
     ]
    },
    {
     "name": "stdout",
     "output_type": "stream",
     "text": [
      "Validation set: Loss: 4.61430\n",
      "Validation loss decreased (4.615588 --> 4.614296).  Saving model ...\n",
      "\n",
      "\n",
      "loss: 4.659476  [50182/199428]\n",
      "loss: 4.679581  [101382/199428]\n",
      "loss: 4.644836  [152582/199428]\n"
     ]
    },
    {
     "name": "stderr",
     "output_type": "stream",
     "text": [
      "\n",
      "  6%|▌         | 22/400 [07:39<2:11:39, 20.90s/it]\u001b[A"
     ]
    },
    {
     "name": "stdout",
     "output_type": "stream",
     "text": [
      "Validation set: Loss: 4.61338\n",
      "Validation loss decreased (4.614296 --> 4.613377).  Saving model ...\n",
      "\n",
      "\n",
      "loss: 4.599160  [50182/199428]\n",
      "loss: 4.650281  [101382/199428]\n",
      "loss: 4.726749  [152582/199428]\n"
     ]
    },
    {
     "name": "stderr",
     "output_type": "stream",
     "text": [
      "\n",
      "  6%|▌         | 23/400 [08:00<2:10:46, 20.81s/it]\u001b[A"
     ]
    },
    {
     "name": "stdout",
     "output_type": "stream",
     "text": [
      "Validation set: Loss: 4.61210\n",
      "Validation loss decreased (4.613377 --> 4.612097).  Saving model ...\n",
      "\n",
      "\n",
      "loss: 4.690420  [50182/199428]\n",
      "loss: 4.566978  [101382/199428]\n",
      "loss: 4.697175  [152582/199428]\n"
     ]
    },
    {
     "name": "stderr",
     "output_type": "stream",
     "text": [
      "\n",
      "  6%|▌         | 24/400 [08:21<2:10:50, 20.88s/it]\u001b[A"
     ]
    },
    {
     "name": "stdout",
     "output_type": "stream",
     "text": [
      "Validation set: Loss: 4.61118\n",
      "Validation loss decreased (4.612097 --> 4.611180).  Saving model ...\n",
      "\n",
      "\n",
      "loss: 4.593250  [50182/199428]\n",
      "loss: 4.622214  [101382/199428]\n",
      "loss: 4.684583  [152582/199428]\n"
     ]
    },
    {
     "name": "stderr",
     "output_type": "stream",
     "text": [
      "\n",
      "  6%|▋         | 25/400 [08:42<2:10:52, 20.94s/it]\u001b[A"
     ]
    },
    {
     "name": "stdout",
     "output_type": "stream",
     "text": [
      "Validation set: Loss: 4.60986\n",
      "Validation loss decreased (4.611180 --> 4.609856).  Saving model ...\n",
      "\n",
      "\n",
      "loss: 4.644624  [50182/199428]\n",
      "loss: 4.685286  [101382/199428]\n",
      "loss: 4.689886  [152582/199428]\n"
     ]
    },
    {
     "name": "stderr",
     "output_type": "stream",
     "text": [
      "\n",
      "  6%|▋         | 26/400 [09:03<2:10:14, 20.89s/it]\u001b[A"
     ]
    },
    {
     "name": "stdout",
     "output_type": "stream",
     "text": [
      "Validation set: Loss: 4.60873\n",
      "Validation loss decreased (4.609856 --> 4.608731).  Saving model ...\n",
      "\n",
      "\n",
      "loss: 4.627750  [50182/199428]\n",
      "loss: 4.673069  [101382/199428]\n",
      "loss: 4.593516  [152582/199428]\n"
     ]
    },
    {
     "name": "stderr",
     "output_type": "stream",
     "text": [
      "\n",
      "  7%|▋         | 27/400 [09:24<2:10:07, 20.93s/it]\u001b[A"
     ]
    },
    {
     "name": "stdout",
     "output_type": "stream",
     "text": [
      "Validation set: Loss: 4.60774\n",
      "Validation loss decreased (4.608731 --> 4.607737).  Saving model ...\n",
      "\n",
      "\n",
      "loss: 4.597191  [50182/199428]\n",
      "loss: 4.646108  [101382/199428]\n",
      "loss: 4.730770  [152582/199428]\n"
     ]
    },
    {
     "name": "stderr",
     "output_type": "stream",
     "text": [
      "\n",
      "  7%|▋         | 28/400 [09:45<2:10:20, 21.02s/it]\u001b[A"
     ]
    },
    {
     "name": "stdout",
     "output_type": "stream",
     "text": [
      "Validation set: Loss: 4.60701\n",
      "Validation loss decreased (4.607737 --> 4.607011).  Saving model ...\n",
      "\n",
      "\n",
      "loss: 4.713893  [50182/199428]\n",
      "loss: 4.693680  [101382/199428]\n",
      "loss: 4.645796  [152582/199428]\n"
     ]
    },
    {
     "name": "stderr",
     "output_type": "stream",
     "text": [
      "\n",
      "  7%|▋         | 29/400 [10:06<2:09:35, 20.96s/it]\u001b[A"
     ]
    },
    {
     "name": "stdout",
     "output_type": "stream",
     "text": [
      "Validation set: Loss: 4.60632\n",
      "Validation loss decreased (4.607011 --> 4.606324).  Saving model ...\n",
      "\n",
      "\n",
      "loss: 4.619406  [50182/199428]\n",
      "loss: 4.554885  [101382/199428]\n",
      "loss: 4.622417  [152582/199428]\n"
     ]
    },
    {
     "name": "stderr",
     "output_type": "stream",
     "text": [
      "\n",
      "  8%|▊         | 30/400 [10:27<2:09:53, 21.06s/it]\u001b[A"
     ]
    },
    {
     "name": "stdout",
     "output_type": "stream",
     "text": [
      "Validation set: Loss: 4.60542\n",
      "Validation loss decreased (4.606324 --> 4.605419).  Saving model ...\n",
      "\n",
      "\n",
      "loss: 4.588737  [50182/199428]\n",
      "loss: 4.718037  [101382/199428]\n",
      "loss: 4.634303  [152582/199428]\n"
     ]
    },
    {
     "name": "stderr",
     "output_type": "stream",
     "text": [
      "\n",
      "  8%|▊         | 31/400 [10:48<2:09:13, 21.01s/it]\u001b[A"
     ]
    },
    {
     "name": "stdout",
     "output_type": "stream",
     "text": [
      "Validation set: Loss: 4.60498\n",
      "Validation loss decreased (4.605419 --> 4.604982).  Saving model ...\n",
      "\n",
      "\n",
      "loss: 4.710352  [50182/199428]\n",
      "loss: 4.626743  [101382/199428]\n",
      "loss: 4.603681  [152582/199428]\n"
     ]
    },
    {
     "name": "stderr",
     "output_type": "stream",
     "text": [
      "\n",
      "  8%|▊         | 32/400 [11:09<2:08:31, 20.95s/it]\u001b[A"
     ]
    },
    {
     "name": "stdout",
     "output_type": "stream",
     "text": [
      "Validation set: Loss: 4.60481\n",
      "Validation loss decreased (4.604982 --> 4.604812).  Saving model ...\n",
      "\n",
      "\n",
      "loss: 4.639143  [50182/199428]\n",
      "loss: 4.577725  [101382/199428]\n",
      "loss: 4.785044  [152582/199428]\n"
     ]
    },
    {
     "name": "stderr",
     "output_type": "stream",
     "text": [
      "\n",
      "  8%|▊         | 33/400 [11:30<2:08:25, 21.00s/it]\u001b[A"
     ]
    },
    {
     "name": "stdout",
     "output_type": "stream",
     "text": [
      "Validation set: Loss: 4.60347\n",
      "Validation loss decreased (4.604812 --> 4.603472).  Saving model ...\n",
      "\n",
      "\n",
      "loss: 4.580284  [50182/199428]\n",
      "loss: 4.562292  [101382/199428]\n",
      "loss: 4.478060  [152582/199428]\n"
     ]
    },
    {
     "name": "stderr",
     "output_type": "stream",
     "text": [
      "\n",
      "  8%|▊         | 34/400 [11:51<2:08:22, 21.05s/it]\u001b[A"
     ]
    },
    {
     "name": "stdout",
     "output_type": "stream",
     "text": [
      "Validation set: Loss: 4.60311\n",
      "Validation loss decreased (4.603472 --> 4.603109).  Saving model ...\n",
      "\n",
      "\n",
      "loss: 4.497545  [50182/199428]\n",
      "loss: 4.641844  [101382/199428]\n",
      "loss: 4.591363  [152582/199428]\n"
     ]
    },
    {
     "name": "stderr",
     "output_type": "stream",
     "text": [
      "\n",
      "  9%|▉         | 35/400 [12:12<2:07:44, 21.00s/it]\u001b[A"
     ]
    },
    {
     "name": "stdout",
     "output_type": "stream",
     "text": [
      "Validation set: Loss: 4.60278\n",
      "Validation loss decreased (4.603109 --> 4.602781).  Saving model ...\n",
      "\n",
      "\n",
      "loss: 4.510530  [50182/199428]\n",
      "loss: 4.597086  [101382/199428]\n",
      "loss: 4.654769  [152582/199428]\n"
     ]
    },
    {
     "name": "stderr",
     "output_type": "stream",
     "text": [
      "\n",
      "  9%|▉         | 36/400 [12:33<2:07:43, 21.05s/it]\u001b[A"
     ]
    },
    {
     "name": "stdout",
     "output_type": "stream",
     "text": [
      "Validation set: Loss: 4.60241\n",
      "Validation loss decreased (4.602781 --> 4.602411).  Saving model ...\n",
      "\n",
      "\n",
      "loss: 4.681418  [50182/199428]\n",
      "loss: 4.545014  [101382/199428]\n",
      "loss: 4.730518  [152582/199428]\n"
     ]
    },
    {
     "name": "stderr",
     "output_type": "stream",
     "text": [
      "\n",
      "  9%|▉         | 37/400 [12:54<2:07:34, 21.09s/it]\u001b[A"
     ]
    },
    {
     "name": "stdout",
     "output_type": "stream",
     "text": [
      "Validation set: Loss: 4.60215\n",
      "Validation loss decreased (4.602411 --> 4.602147).  Saving model ...\n",
      "\n",
      "\n",
      "loss: 4.701891  [50182/199428]\n",
      "loss: 4.744139  [101382/199428]\n",
      "loss: 4.647228  [152582/199428]\n"
     ]
    },
    {
     "name": "stderr",
     "output_type": "stream",
     "text": [
      "\n",
      " 10%|▉         | 38/400 [13:15<2:06:43, 21.00s/it]\u001b[A"
     ]
    },
    {
     "name": "stdout",
     "output_type": "stream",
     "text": [
      "Validation set: Loss: 4.60160\n",
      "Validation loss decreased (4.602147 --> 4.601601).  Saving model ...\n",
      "\n",
      "\n",
      "loss: 4.681131  [50182/199428]\n",
      "loss: 4.587931  [101382/199428]\n",
      "loss: 4.612716  [152582/199428]\n"
     ]
    },
    {
     "name": "stderr",
     "output_type": "stream",
     "text": [
      "\n",
      " 10%|▉         | 39/400 [13:36<2:06:38, 21.05s/it]\u001b[A"
     ]
    },
    {
     "name": "stdout",
     "output_type": "stream",
     "text": [
      "Validation set: Loss: 4.60166\n",
      "EarlyStopping counter: 1 out of 10\n",
      "\n",
      "\n",
      "loss: 4.542826  [50182/199428]\n",
      "loss: 4.641791  [101382/199428]\n",
      "loss: 4.525966  [152582/199428]\n"
     ]
    },
    {
     "name": "stderr",
     "output_type": "stream",
     "text": [
      "\n",
      " 10%|█         | 40/400 [13:57<2:06:35, 21.10s/it]\u001b[A"
     ]
    },
    {
     "name": "stdout",
     "output_type": "stream",
     "text": [
      "Validation set: Loss: 4.60111\n",
      "Validation loss decreased (4.601601 --> 4.601105).  Saving model ...\n",
      "\n",
      "\n",
      "loss: 4.680143  [50182/199428]\n",
      "loss: 4.522635  [101382/199428]\n",
      "loss: 4.624798  [152582/199428]\n"
     ]
    },
    {
     "name": "stderr",
     "output_type": "stream",
     "text": [
      "\n",
      " 10%|█         | 41/400 [14:18<2:05:43, 21.01s/it]\u001b[A"
     ]
    },
    {
     "name": "stdout",
     "output_type": "stream",
     "text": [
      "Validation set: Loss: 4.60114\n",
      "EarlyStopping counter: 1 out of 10\n",
      "\n",
      "\n",
      "loss: 4.637825  [50182/199428]\n",
      "loss: 4.581127  [101382/199428]\n",
      "loss: 4.679884  [152582/199428]\n"
     ]
    },
    {
     "name": "stderr",
     "output_type": "stream",
     "text": [
      "\n",
      " 10%|█         | 42/400 [14:39<2:05:34, 21.05s/it]\u001b[A"
     ]
    },
    {
     "name": "stdout",
     "output_type": "stream",
     "text": [
      "Validation set: Loss: 4.60052\n",
      "Validation loss decreased (4.601105 --> 4.600516).  Saving model ...\n",
      "\n",
      "\n",
      "loss: 4.610997  [50182/199428]\n",
      "loss: 4.570805  [101382/199428]\n",
      "loss: 4.657328  [152582/199428]\n"
     ]
    },
    {
     "name": "stderr",
     "output_type": "stream",
     "text": [
      "\n",
      " 11%|█         | 43/400 [15:00<2:05:08, 21.03s/it]\u001b[A"
     ]
    },
    {
     "name": "stdout",
     "output_type": "stream",
     "text": [
      "Validation set: Loss: 4.60047\n",
      "Validation loss decreased (4.600516 --> 4.600469).  Saving model ...\n",
      "\n",
      "\n",
      "loss: 4.654774  [50182/199428]\n",
      "loss: 4.623072  [101382/199428]\n",
      "loss: 4.663157  [152582/199428]\n"
     ]
    },
    {
     "name": "stderr",
     "output_type": "stream",
     "text": [
      "\n",
      " 11%|█         | 44/400 [15:21<2:04:19, 20.95s/it]\u001b[A"
     ]
    },
    {
     "name": "stdout",
     "output_type": "stream",
     "text": [
      "Validation set: Loss: 4.60078\n",
      "EarlyStopping counter: 1 out of 10\n",
      "\n",
      "\n",
      "loss: 4.635247  [50182/199428]\n",
      "loss: 4.614026  [101382/199428]\n",
      "loss: 4.665666  [152582/199428]\n"
     ]
    },
    {
     "name": "stderr",
     "output_type": "stream",
     "text": [
      "\n",
      " 11%|█▏        | 45/400 [15:42<2:03:48, 20.93s/it]\u001b[A"
     ]
    },
    {
     "name": "stdout",
     "output_type": "stream",
     "text": [
      "Validation set: Loss: 4.60004\n",
      "Validation loss decreased (4.600469 --> 4.600038).  Saving model ...\n",
      "\n",
      "\n",
      "loss: 4.719188  [50182/199428]\n",
      "loss: 4.692585  [101382/199428]\n",
      "loss: 4.642652  [152582/199428]\n"
     ]
    },
    {
     "name": "stderr",
     "output_type": "stream",
     "text": [
      "\n",
      " 12%|█▏        | 46/400 [16:03<2:03:42, 20.97s/it]\u001b[A"
     ]
    },
    {
     "name": "stdout",
     "output_type": "stream",
     "text": [
      "Validation set: Loss: 4.60026\n",
      "EarlyStopping counter: 1 out of 10\n",
      "\n",
      "\n",
      "loss: 4.536884  [50182/199428]\n",
      "loss: 4.736247  [101382/199428]\n",
      "loss: 4.550117  [152582/199428]\n"
     ]
    },
    {
     "name": "stderr",
     "output_type": "stream",
     "text": [
      "\n",
      " 12%|█▏        | 47/400 [16:24<2:02:48, 20.87s/it]\u001b[A"
     ]
    },
    {
     "name": "stdout",
     "output_type": "stream",
     "text": [
      "Validation set: Loss: 4.59998\n",
      "Validation loss decreased (4.600038 --> 4.599976).  Saving model ...\n",
      "\n",
      "\n",
      "loss: 4.674937  [50182/199428]\n",
      "loss: 4.619433  [101382/199428]\n",
      "loss: 4.644323  [152582/199428]\n"
     ]
    },
    {
     "name": "stderr",
     "output_type": "stream",
     "text": [
      "\n",
      " 12%|█▏        | 48/400 [16:45<2:03:03, 20.98s/it]\u001b[A"
     ]
    },
    {
     "name": "stdout",
     "output_type": "stream",
     "text": [
      "Validation set: Loss: 4.60008\n",
      "EarlyStopping counter: 1 out of 10\n",
      "\n",
      "\n",
      "loss: 4.721701  [50182/199428]\n",
      "loss: 4.644509  [101382/199428]\n",
      "loss: 4.566017  [152582/199428]\n"
     ]
    },
    {
     "name": "stderr",
     "output_type": "stream",
     "text": [
      "\n",
      " 12%|█▏        | 49/400 [17:06<2:02:19, 20.91s/it]\u001b[A"
     ]
    },
    {
     "name": "stdout",
     "output_type": "stream",
     "text": [
      "Validation set: Loss: 4.59941\n",
      "Validation loss decreased (4.599976 --> 4.599411).  Saving model ...\n",
      "\n",
      "\n",
      "loss: 4.649964  [50182/199428]\n",
      "loss: 4.699945  [101382/199428]\n",
      "loss: 4.617244  [152582/199428]\n"
     ]
    },
    {
     "name": "stderr",
     "output_type": "stream",
     "text": [
      "\n",
      " 12%|█▎        | 50/400 [17:27<2:02:00, 20.92s/it]\u001b[A"
     ]
    },
    {
     "name": "stdout",
     "output_type": "stream",
     "text": [
      "Validation set: Loss: 4.59950\n",
      "EarlyStopping counter: 1 out of 10\n",
      "\n",
      "\n",
      "loss: 4.589180  [50182/199428]\n",
      "loss: 4.564287  [101382/199428]\n",
      "loss: 4.567716  [152582/199428]\n"
     ]
    },
    {
     "name": "stderr",
     "output_type": "stream",
     "text": [
      "\n",
      " 13%|█▎        | 51/400 [17:48<2:01:44, 20.93s/it]\u001b[A"
     ]
    },
    {
     "name": "stdout",
     "output_type": "stream",
     "text": [
      "Validation set: Loss: 4.59945\n",
      "EarlyStopping counter: 2 out of 10\n",
      "\n",
      "\n",
      "loss: 4.614655  [50182/199428]\n",
      "loss: 4.570236  [101382/199428]\n",
      "loss: 4.654068  [152582/199428]\n"
     ]
    },
    {
     "name": "stderr",
     "output_type": "stream",
     "text": [
      "\n",
      " 13%|█▎        | 52/400 [18:08<2:01:03, 20.87s/it]\u001b[A"
     ]
    },
    {
     "name": "stdout",
     "output_type": "stream",
     "text": [
      "Validation set: Loss: 4.59928\n",
      "Validation loss decreased (4.599411 --> 4.599281).  Saving model ...\n",
      "\n",
      "\n",
      "loss: 4.581591  [50182/199428]\n",
      "loss: 4.654936  [101382/199428]\n",
      "loss: 4.580121  [152582/199428]\n"
     ]
    },
    {
     "name": "stderr",
     "output_type": "stream",
     "text": [
      "\n",
      " 13%|█▎        | 53/400 [18:29<2:00:10, 20.78s/it]\u001b[A"
     ]
    },
    {
     "name": "stdout",
     "output_type": "stream",
     "text": [
      "Validation set: Loss: 4.59907\n",
      "Validation loss decreased (4.599281 --> 4.599073).  Saving model ...\n",
      "\n",
      "\n",
      "loss: 4.601599  [50182/199428]\n",
      "loss: 4.568126  [101382/199428]\n",
      "loss: 4.599446  [152582/199428]\n"
     ]
    },
    {
     "name": "stderr",
     "output_type": "stream",
     "text": [
      "\n",
      " 14%|█▎        | 54/400 [18:50<1:59:54, 20.79s/it]\u001b[A"
     ]
    },
    {
     "name": "stdout",
     "output_type": "stream",
     "text": [
      "Validation set: Loss: 4.59889\n",
      "Validation loss decreased (4.599073 --> 4.598891).  Saving model ...\n",
      "\n",
      "\n",
      "loss: 4.525389  [50182/199428]\n",
      "loss: 4.522659  [101382/199428]\n",
      "loss: 4.633801  [152582/199428]\n"
     ]
    },
    {
     "name": "stderr",
     "output_type": "stream",
     "text": [
      "\n",
      " 14%|█▍        | 55/400 [19:10<1:59:29, 20.78s/it]\u001b[A"
     ]
    },
    {
     "name": "stdout",
     "output_type": "stream",
     "text": [
      "Validation set: Loss: 4.59890\n",
      "EarlyStopping counter: 1 out of 10\n",
      "\n",
      "\n",
      "loss: 4.534191  [50182/199428]\n",
      "loss: 4.632230  [101382/199428]\n",
      "loss: 4.695183  [152582/199428]\n"
     ]
    },
    {
     "name": "stderr",
     "output_type": "stream",
     "text": [
      "\n",
      " 14%|█▍        | 56/400 [19:31<1:59:28, 20.84s/it]\u001b[A"
     ]
    },
    {
     "name": "stdout",
     "output_type": "stream",
     "text": [
      "Validation set: Loss: 4.59872\n",
      "Validation loss decreased (4.598891 --> 4.598723).  Saving model ...\n",
      "\n",
      "\n",
      "loss: 4.556890  [50182/199428]\n",
      "loss: 4.620409  [101382/199428]\n",
      "loss: 4.390246  [152582/199428]\n"
     ]
    },
    {
     "name": "stderr",
     "output_type": "stream",
     "text": [
      "\n",
      " 14%|█▍        | 57/400 [19:52<1:59:36, 20.92s/it]\u001b[A"
     ]
    },
    {
     "name": "stdout",
     "output_type": "stream",
     "text": [
      "Validation set: Loss: 4.59858\n",
      "Validation loss decreased (4.598723 --> 4.598577).  Saving model ...\n",
      "\n",
      "\n",
      "loss: 4.662961  [50182/199428]\n",
      "loss: 4.668225  [101382/199428]\n",
      "loss: 4.665949  [152582/199428]\n"
     ]
    },
    {
     "name": "stderr",
     "output_type": "stream",
     "text": [
      "\n",
      " 14%|█▍        | 58/400 [20:13<1:58:50, 20.85s/it]\u001b[A"
     ]
    },
    {
     "name": "stdout",
     "output_type": "stream",
     "text": [
      "Validation set: Loss: 4.59858\n",
      "Validation loss decreased (4.598577 --> 4.598575).  Saving model ...\n",
      "\n",
      "\n",
      "loss: 4.563428  [50182/199428]\n",
      "loss: 4.614871  [101382/199428]\n",
      "loss: 4.671876  [152582/199428]\n"
     ]
    },
    {
     "name": "stderr",
     "output_type": "stream",
     "text": [
      "\n",
      " 15%|█▍        | 59/400 [20:34<1:58:09, 20.79s/it]\u001b[A"
     ]
    },
    {
     "name": "stdout",
     "output_type": "stream",
     "text": [
      "Validation set: Loss: 4.59842\n",
      "Validation loss decreased (4.598575 --> 4.598423).  Saving model ...\n",
      "\n",
      "\n",
      "loss: 4.582810  [50182/199428]\n",
      "loss: 4.605869  [101382/199428]\n",
      "loss: 4.618084  [152582/199428]\n"
     ]
    },
    {
     "name": "stderr",
     "output_type": "stream",
     "text": [
      "\n",
      " 15%|█▌        | 60/400 [20:55<1:57:59, 20.82s/it]\u001b[A"
     ]
    },
    {
     "name": "stdout",
     "output_type": "stream",
     "text": [
      "Validation set: Loss: 4.59839\n",
      "Validation loss decreased (4.598423 --> 4.598389).  Saving model ...\n",
      "\n",
      "\n",
      "loss: 4.622334  [50182/199428]\n",
      "loss: 4.563655  [101382/199428]\n",
      "loss: 4.556575  [152582/199428]\n"
     ]
    },
    {
     "name": "stderr",
     "output_type": "stream",
     "text": [
      "\n",
      " 15%|█▌        | 61/400 [21:15<1:57:09, 20.74s/it]\u001b[A"
     ]
    },
    {
     "name": "stdout",
     "output_type": "stream",
     "text": [
      "Validation set: Loss: 4.59827\n",
      "Validation loss decreased (4.598389 --> 4.598274).  Saving model ...\n",
      "\n",
      "\n",
      "loss: 4.632221  [50182/199428]\n",
      "loss: 4.712837  [101382/199428]\n",
      "loss: 4.550550  [152582/199428]\n"
     ]
    },
    {
     "name": "stderr",
     "output_type": "stream",
     "text": [
      "\n",
      " 16%|█▌        | 62/400 [21:36<1:57:18, 20.82s/it]\u001b[A"
     ]
    },
    {
     "name": "stdout",
     "output_type": "stream",
     "text": [
      "Validation set: Loss: 4.59813\n",
      "Validation loss decreased (4.598274 --> 4.598132).  Saving model ...\n",
      "\n",
      "\n",
      "loss: 4.622996  [50182/199428]\n",
      "loss: 4.680642  [101382/199428]\n",
      "loss: 4.642465  [152582/199428]\n"
     ]
    },
    {
     "name": "stderr",
     "output_type": "stream",
     "text": [
      "\n",
      " 16%|█▌        | 63/400 [21:57<1:56:53, 20.81s/it]\u001b[A"
     ]
    },
    {
     "name": "stdout",
     "output_type": "stream",
     "text": [
      "Validation set: Loss: 4.59823\n",
      "EarlyStopping counter: 1 out of 10\n",
      "\n",
      "\n",
      "loss: 4.563561  [50182/199428]\n",
      "loss: 4.579874  [101382/199428]\n",
      "loss: 4.646906  [152582/199428]\n"
     ]
    },
    {
     "name": "stderr",
     "output_type": "stream",
     "text": [
      "\n",
      " 16%|█▌        | 64/400 [22:18<1:56:14, 20.76s/it]\u001b[A"
     ]
    },
    {
     "name": "stdout",
     "output_type": "stream",
     "text": [
      "Validation set: Loss: 4.59808\n",
      "Validation loss decreased (4.598132 --> 4.598084).  Saving model ...\n",
      "\n",
      "\n",
      "loss: 4.646644  [50182/199428]\n",
      "loss: 4.616082  [101382/199428]\n",
      "loss: 4.604816  [152582/199428]\n"
     ]
    },
    {
     "name": "stderr",
     "output_type": "stream",
     "text": [
      "\n",
      " 16%|█▋        | 65/400 [22:39<1:56:15, 20.82s/it]\u001b[A"
     ]
    },
    {
     "name": "stdout",
     "output_type": "stream",
     "text": [
      "Validation set: Loss: 4.59834\n",
      "EarlyStopping counter: 1 out of 10\n",
      "\n",
      "\n",
      "loss: 4.451593  [50182/199428]\n",
      "loss: 4.611010  [101382/199428]\n",
      "loss: 4.644833  [152582/199428]\n"
     ]
    },
    {
     "name": "stderr",
     "output_type": "stream",
     "text": [
      "\n",
      " 16%|█▋        | 66/400 [22:59<1:55:50, 20.81s/it]\u001b[A"
     ]
    },
    {
     "name": "stdout",
     "output_type": "stream",
     "text": [
      "Validation set: Loss: 4.59805\n",
      "Validation loss decreased (4.598084 --> 4.598050).  Saving model ...\n",
      "\n",
      "\n",
      "loss: 4.615326  [50182/199428]\n",
      "loss: 4.670928  [101382/199428]\n",
      "loss: 4.556120  [152582/199428]\n"
     ]
    },
    {
     "name": "stderr",
     "output_type": "stream",
     "text": [
      "\n",
      " 17%|█▋        | 67/400 [23:20<1:55:11, 20.75s/it]\u001b[A"
     ]
    },
    {
     "name": "stdout",
     "output_type": "stream",
     "text": [
      "Validation set: Loss: 4.59798\n",
      "Validation loss decreased (4.598050 --> 4.597978).  Saving model ...\n",
      "\n",
      "\n",
      "loss: 4.684625  [50182/199428]\n",
      "loss: 4.581204  [101382/199428]\n",
      "loss: 4.526213  [152582/199428]\n"
     ]
    },
    {
     "name": "stderr",
     "output_type": "stream",
     "text": [
      "\n",
      " 17%|█▋        | 68/400 [23:41<1:55:18, 20.84s/it]\u001b[A"
     ]
    },
    {
     "name": "stdout",
     "output_type": "stream",
     "text": [
      "Validation set: Loss: 4.59794\n",
      "Validation loss decreased (4.597978 --> 4.597935).  Saving model ...\n",
      "\n",
      "\n",
      "loss: 4.525058  [50182/199428]\n",
      "loss: 4.524712  [101382/199428]\n",
      "loss: 4.513795  [152582/199428]\n"
     ]
    },
    {
     "name": "stderr",
     "output_type": "stream",
     "text": [
      "\n",
      " 17%|█▋        | 69/400 [24:02<1:55:06, 20.87s/it]\u001b[A"
     ]
    },
    {
     "name": "stdout",
     "output_type": "stream",
     "text": [
      "Validation set: Loss: 4.59815\n",
      "EarlyStopping counter: 1 out of 10\n",
      "\n",
      "\n",
      "loss: 4.615446  [50182/199428]\n",
      "loss: 4.562396  [101382/199428]\n",
      "loss: 4.563726  [152582/199428]\n"
     ]
    },
    {
     "name": "stderr",
     "output_type": "stream",
     "text": [
      "\n",
      " 18%|█▊        | 70/400 [24:23<1:54:54, 20.89s/it]\u001b[A"
     ]
    },
    {
     "name": "stdout",
     "output_type": "stream",
     "text": [
      "Validation set: Loss: 4.59787\n",
      "Validation loss decreased (4.597935 --> 4.597867).  Saving model ...\n",
      "\n",
      "\n",
      "loss: 4.612248  [50182/199428]\n",
      "loss: 4.670866  [101382/199428]\n",
      "loss: 4.698091  [152582/199428]\n"
     ]
    },
    {
     "name": "stderr",
     "output_type": "stream",
     "text": [
      "\n",
      " 18%|█▊        | 71/400 [24:44<1:54:52, 20.95s/it]\u001b[A"
     ]
    },
    {
     "name": "stdout",
     "output_type": "stream",
     "text": [
      "Validation set: Loss: 4.59777\n",
      "Validation loss decreased (4.597867 --> 4.597771).  Saving model ...\n",
      "\n",
      "\n",
      "loss: 4.668699  [50182/199428]\n",
      "loss: 4.526589  [101382/199428]\n",
      "loss: 4.532245  [152582/199428]\n"
     ]
    },
    {
     "name": "stderr",
     "output_type": "stream",
     "text": [
      "\n",
      " 18%|█▊        | 72/400 [25:05<1:54:44, 20.99s/it]\u001b[A"
     ]
    },
    {
     "name": "stdout",
     "output_type": "stream",
     "text": [
      "Validation set: Loss: 4.59770\n",
      "Validation loss decreased (4.597771 --> 4.597703).  Saving model ...\n",
      "\n",
      "\n",
      "loss: 4.617831  [50182/199428]\n",
      "loss: 4.632111  [101382/199428]\n",
      "loss: 4.595175  [152582/199428]\n"
     ]
    },
    {
     "name": "stderr",
     "output_type": "stream",
     "text": [
      "\n",
      " 18%|█▊        | 73/400 [25:26<1:53:56, 20.91s/it]\u001b[A"
     ]
    },
    {
     "name": "stdout",
     "output_type": "stream",
     "text": [
      "Validation set: Loss: 4.59773\n",
      "EarlyStopping counter: 1 out of 10\n",
      "\n",
      "\n",
      "loss: 4.661410  [50182/199428]\n",
      "loss: 4.643459  [101382/199428]\n",
      "loss: 4.641070  [152582/199428]\n"
     ]
    },
    {
     "name": "stderr",
     "output_type": "stream",
     "text": [
      "\n",
      " 18%|█▊        | 74/400 [25:47<1:53:34, 20.90s/it]\u001b[A"
     ]
    },
    {
     "name": "stdout",
     "output_type": "stream",
     "text": [
      "Validation set: Loss: 4.59757\n",
      "Validation loss decreased (4.597703 --> 4.597568).  Saving model ...\n",
      "\n",
      "\n",
      "loss: 4.663312  [50182/199428]\n",
      "loss: 4.616957  [101382/199428]\n",
      "loss: 4.652477  [152582/199428]\n"
     ]
    },
    {
     "name": "stderr",
     "output_type": "stream",
     "text": [
      "\n",
      " 19%|█▉        | 75/400 [26:08<1:53:11, 20.90s/it]\u001b[A"
     ]
    },
    {
     "name": "stdout",
     "output_type": "stream",
     "text": [
      "Validation set: Loss: 4.59805\n",
      "EarlyStopping counter: 1 out of 10\n",
      "\n",
      "\n",
      "loss: 4.611547  [50182/199428]\n",
      "loss: 4.636488  [101382/199428]\n",
      "loss: 4.597786  [152582/199428]\n"
     ]
    },
    {
     "name": "stderr",
     "output_type": "stream",
     "text": [
      "\n",
      " 19%|█▉        | 76/400 [26:28<1:52:30, 20.84s/it]\u001b[A"
     ]
    },
    {
     "name": "stdout",
     "output_type": "stream",
     "text": [
      "Validation set: Loss: 4.59767\n",
      "EarlyStopping counter: 2 out of 10\n",
      "\n",
      "\n",
      "loss: 4.548792  [50182/199428]\n",
      "loss: 4.459110  [101382/199428]\n",
      "loss: 4.595536  [152582/199428]\n"
     ]
    },
    {
     "name": "stderr",
     "output_type": "stream",
     "text": [
      "\n",
      " 19%|█▉        | 77/400 [26:49<1:52:24, 20.88s/it]\u001b[A"
     ]
    },
    {
     "name": "stdout",
     "output_type": "stream",
     "text": [
      "Validation set: Loss: 4.59744\n",
      "Validation loss decreased (4.597568 --> 4.597444).  Saving model ...\n",
      "\n",
      "\n",
      "loss: 4.585307  [50182/199428]\n",
      "loss: 4.523991  [101382/199428]\n",
      "loss: 4.634522  [152582/199428]\n"
     ]
    },
    {
     "name": "stderr",
     "output_type": "stream",
     "text": [
      "\n",
      " 20%|█▉        | 78/400 [27:10<1:52:00, 20.87s/it]\u001b[A"
     ]
    },
    {
     "name": "stdout",
     "output_type": "stream",
     "text": [
      "Validation set: Loss: 4.59755\n",
      "EarlyStopping counter: 1 out of 10\n",
      "\n",
      "\n",
      "loss: 4.544873  [50182/199428]\n",
      "loss: 4.585641  [101382/199428]\n",
      "loss: 4.693319  [152582/199428]\n"
     ]
    },
    {
     "name": "stderr",
     "output_type": "stream",
     "text": [
      "\n",
      " 20%|█▉        | 79/400 [27:31<1:51:23, 20.82s/it]\u001b[A"
     ]
    },
    {
     "name": "stdout",
     "output_type": "stream",
     "text": [
      "Validation set: Loss: 4.59748\n",
      "EarlyStopping counter: 2 out of 10\n",
      "\n",
      "\n",
      "loss: 4.671606  [50182/199428]\n",
      "loss: 4.577984  [101382/199428]\n",
      "loss: 4.686362  [152582/199428]\n"
     ]
    },
    {
     "name": "stderr",
     "output_type": "stream",
     "text": [
      "\n",
      " 20%|██        | 80/400 [27:52<1:51:09, 20.84s/it]\u001b[A"
     ]
    },
    {
     "name": "stdout",
     "output_type": "stream",
     "text": [
      "Validation set: Loss: 4.59759\n",
      "EarlyStopping counter: 3 out of 10\n",
      "\n",
      "\n",
      "loss: 4.599082  [50182/199428]\n",
      "loss: 4.605048  [101382/199428]\n",
      "loss: 4.634089  [152582/199428]\n"
     ]
    },
    {
     "name": "stderr",
     "output_type": "stream",
     "text": [
      "\n",
      " 20%|██        | 81/400 [28:12<1:50:27, 20.77s/it]\u001b[A"
     ]
    },
    {
     "name": "stdout",
     "output_type": "stream",
     "text": [
      "Validation set: Loss: 4.59747\n",
      "EarlyStopping counter: 4 out of 10\n",
      "\n",
      "\n",
      "loss: 4.700301  [50182/199428]\n",
      "loss: 4.591674  [101382/199428]\n",
      "loss: 4.509663  [152582/199428]\n"
     ]
    },
    {
     "name": "stderr",
     "output_type": "stream",
     "text": [
      "\n",
      " 20%|██        | 82/400 [28:33<1:50:00, 20.76s/it]\u001b[A"
     ]
    },
    {
     "name": "stdout",
     "output_type": "stream",
     "text": [
      "Validation set: Loss: 4.59756\n",
      "EarlyStopping counter: 5 out of 10\n",
      "\n",
      "\n",
      "loss: 4.654791  [50182/199428]\n",
      "loss: 4.668292  [101382/199428]\n",
      "loss: 4.636247  [152582/199428]\n"
     ]
    },
    {
     "name": "stderr",
     "output_type": "stream",
     "text": [
      "\n",
      " 21%|██        | 83/400 [28:54<1:50:00, 20.82s/it]\u001b[A"
     ]
    },
    {
     "name": "stdout",
     "output_type": "stream",
     "text": [
      "Validation set: Loss: 4.59797\n",
      "EarlyStopping counter: 6 out of 10\n",
      "\n",
      "\n",
      "loss: 4.621108  [50182/199428]\n",
      "loss: 4.735638  [101382/199428]\n",
      "loss: 4.688472  [152582/199428]\n"
     ]
    },
    {
     "name": "stderr",
     "output_type": "stream",
     "text": [
      "\n",
      " 21%|██        | 84/400 [29:15<1:49:49, 20.85s/it]\u001b[A"
     ]
    },
    {
     "name": "stdout",
     "output_type": "stream",
     "text": [
      "Validation set: Loss: 4.59741\n",
      "Validation loss decreased (4.597444 --> 4.597409).  Saving model ...\n",
      "\n",
      "\n",
      "loss: 4.559815  [50182/199428]\n",
      "loss: 4.540207  [101382/199428]\n",
      "loss: 4.637137  [152582/199428]\n"
     ]
    },
    {
     "name": "stderr",
     "output_type": "stream",
     "text": [
      "\n",
      " 21%|██▏       | 85/400 [29:36<1:49:24, 20.84s/it]\u001b[A"
     ]
    },
    {
     "name": "stdout",
     "output_type": "stream",
     "text": [
      "Validation set: Loss: 4.59749\n",
      "EarlyStopping counter: 1 out of 10\n",
      "\n",
      "\n",
      "loss: 4.626934  [50182/199428]\n",
      "loss: 4.574174  [101382/199428]\n",
      "loss: 4.610859  [152582/199428]\n"
     ]
    },
    {
     "name": "stderr",
     "output_type": "stream",
     "text": [
      "\n",
      " 22%|██▏       | 86/400 [29:57<1:48:59, 20.83s/it]\u001b[A"
     ]
    },
    {
     "name": "stdout",
     "output_type": "stream",
     "text": [
      "Validation set: Loss: 4.59733\n",
      "Validation loss decreased (4.597409 --> 4.597333).  Saving model ...\n",
      "\n",
      "\n",
      "loss: 4.648725  [50182/199428]\n",
      "loss: 4.590438  [101382/199428]\n",
      "loss: 4.601997  [152582/199428]\n"
     ]
    },
    {
     "name": "stderr",
     "output_type": "stream",
     "text": [
      "\n",
      " 22%|██▏       | 87/400 [30:17<1:48:24, 20.78s/it]\u001b[A"
     ]
    },
    {
     "name": "stdout",
     "output_type": "stream",
     "text": [
      "Validation set: Loss: 4.59734\n",
      "EarlyStopping counter: 1 out of 10\n",
      "\n",
      "\n",
      "loss: 4.610641  [50182/199428]\n",
      "loss: 4.588823  [101382/199428]\n",
      "loss: 4.609573  [152582/199428]\n"
     ]
    },
    {
     "name": "stderr",
     "output_type": "stream",
     "text": [
      "\n",
      " 22%|██▏       | 88/400 [30:38<1:48:22, 20.84s/it]\u001b[A"
     ]
    },
    {
     "name": "stdout",
     "output_type": "stream",
     "text": [
      "Validation set: Loss: 4.59695\n",
      "Validation loss decreased (4.597333 --> 4.596950).  Saving model ...\n",
      "\n",
      "\n",
      "loss: 4.645557  [50182/199428]\n",
      "loss: 4.557074  [101382/199428]\n",
      "loss: 4.623150  [152582/199428]\n"
     ]
    },
    {
     "name": "stderr",
     "output_type": "stream",
     "text": [
      "\n",
      " 22%|██▏       | 89/400 [30:59<1:47:39, 20.77s/it]\u001b[A"
     ]
    },
    {
     "name": "stdout",
     "output_type": "stream",
     "text": [
      "Validation set: Loss: 4.59715\n",
      "EarlyStopping counter: 1 out of 10\n",
      "\n",
      "\n",
      "loss: 4.638639  [50182/199428]\n",
      "loss: 4.575527  [101382/199428]\n",
      "loss: 4.595101  [152582/199428]\n"
     ]
    },
    {
     "name": "stderr",
     "output_type": "stream",
     "text": [
      "\n",
      " 22%|██▎       | 90/400 [31:20<1:47:08, 20.74s/it]\u001b[A"
     ]
    },
    {
     "name": "stdout",
     "output_type": "stream",
     "text": [
      "Validation set: Loss: 4.59746\n",
      "EarlyStopping counter: 2 out of 10\n",
      "\n",
      "\n",
      "loss: 4.670964  [50182/199428]\n",
      "loss: 4.576437  [101382/199428]\n",
      "loss: 4.609948  [152582/199428]\n"
     ]
    },
    {
     "name": "stderr",
     "output_type": "stream",
     "text": [
      "\n",
      " 23%|██▎       | 91/400 [31:40<1:46:39, 20.71s/it]\u001b[A"
     ]
    },
    {
     "name": "stdout",
     "output_type": "stream",
     "text": [
      "Validation set: Loss: 4.59712\n",
      "EarlyStopping counter: 3 out of 10\n",
      "\n",
      "\n",
      "loss: 4.620374  [50182/199428]\n",
      "loss: 4.701166  [101382/199428]\n",
      "loss: 4.716075  [152582/199428]\n"
     ]
    },
    {
     "name": "stderr",
     "output_type": "stream",
     "text": [
      "\n",
      " 23%|██▎       | 92/400 [32:01<1:46:39, 20.78s/it]\u001b[A"
     ]
    },
    {
     "name": "stdout",
     "output_type": "stream",
     "text": [
      "Validation set: Loss: 4.59709\n",
      "EarlyStopping counter: 4 out of 10\n",
      "\n",
      "\n",
      "loss: 4.589171  [50182/199428]\n",
      "loss: 4.570616  [101382/199428]\n",
      "loss: 4.522916  [152582/199428]\n"
     ]
    },
    {
     "name": "stderr",
     "output_type": "stream",
     "text": [
      "\n",
      " 23%|██▎       | 93/400 [32:22<1:46:14, 20.77s/it]\u001b[A"
     ]
    },
    {
     "name": "stdout",
     "output_type": "stream",
     "text": [
      "Validation set: Loss: 4.59685\n",
      "Validation loss decreased (4.596950 --> 4.596847).  Saving model ...\n",
      "\n",
      "\n",
      "loss: 4.503667  [50182/199428]\n",
      "loss: 4.579218  [101382/199428]\n",
      "loss: 4.590588  [152582/199428]\n"
     ]
    },
    {
     "name": "stderr",
     "output_type": "stream",
     "text": [
      "\n",
      " 24%|██▎       | 94/400 [32:43<1:46:06, 20.81s/it]\u001b[A"
     ]
    },
    {
     "name": "stdout",
     "output_type": "stream",
     "text": [
      "Validation set: Loss: 4.59701\n",
      "EarlyStopping counter: 1 out of 10\n",
      "\n",
      "\n",
      "loss: 4.567198  [50182/199428]\n",
      "loss: 4.633642  [101382/199428]\n",
      "loss: 4.577319  [152582/199428]\n"
     ]
    },
    {
     "name": "stderr",
     "output_type": "stream",
     "text": [
      "\n",
      " 24%|██▍       | 95/400 [33:03<1:45:38, 20.78s/it]\u001b[A"
     ]
    },
    {
     "name": "stdout",
     "output_type": "stream",
     "text": [
      "Validation set: Loss: 4.59709\n",
      "EarlyStopping counter: 2 out of 10\n",
      "\n",
      "\n",
      "loss: 4.633119  [50182/199428]\n",
      "loss: 4.662631  [101382/199428]\n",
      "loss: 4.632154  [152582/199428]\n"
     ]
    },
    {
     "name": "stderr",
     "output_type": "stream",
     "text": [
      "\n",
      " 24%|██▍       | 96/400 [33:24<1:45:16, 20.78s/it]\u001b[A"
     ]
    },
    {
     "name": "stdout",
     "output_type": "stream",
     "text": [
      "Validation set: Loss: 4.59689\n",
      "EarlyStopping counter: 3 out of 10\n",
      "\n",
      "\n",
      "loss: 4.606441  [50182/199428]\n",
      "loss: 4.494277  [101382/199428]\n",
      "loss: 4.735248  [152582/199428]\n"
     ]
    },
    {
     "name": "stderr",
     "output_type": "stream",
     "text": [
      "\n",
      " 24%|██▍       | 97/400 [33:45<1:45:06, 20.81s/it]\u001b[A"
     ]
    },
    {
     "name": "stdout",
     "output_type": "stream",
     "text": [
      "Validation set: Loss: 4.59700\n",
      "EarlyStopping counter: 4 out of 10\n",
      "\n",
      "\n",
      "loss: 4.616562  [50182/199428]\n",
      "loss: 4.658261  [101382/199428]\n",
      "loss: 4.628670  [152582/199428]\n"
     ]
    },
    {
     "name": "stderr",
     "output_type": "stream",
     "text": [
      "\n",
      " 24%|██▍       | 98/400 [34:06<1:45:28, 20.96s/it]\u001b[A"
     ]
    },
    {
     "name": "stdout",
     "output_type": "stream",
     "text": [
      "Validation set: Loss: 4.59676\n",
      "Validation loss decreased (4.596847 --> 4.596762).  Saving model ...\n",
      "\n",
      "\n",
      "loss: 4.553673  [50182/199428]\n",
      "loss: 4.579451  [101382/199428]\n",
      "loss: 4.528568  [152582/199428]\n"
     ]
    },
    {
     "name": "stderr",
     "output_type": "stream",
     "text": [
      "\n",
      " 25%|██▍       | 99/400 [34:27<1:44:26, 20.82s/it]\u001b[A"
     ]
    },
    {
     "name": "stdout",
     "output_type": "stream",
     "text": [
      "Validation set: Loss: 4.59726\n",
      "EarlyStopping counter: 1 out of 10\n",
      "\n",
      "\n",
      "loss: 4.597051  [50182/199428]\n",
      "loss: 4.647750  [101382/199428]\n",
      "loss: 4.628037  [152582/199428]\n"
     ]
    },
    {
     "name": "stderr",
     "output_type": "stream",
     "text": [
      "\n",
      " 25%|██▌       | 100/400 [34:48<1:44:23, 20.88s/it]\u001b[A"
     ]
    },
    {
     "name": "stdout",
     "output_type": "stream",
     "text": [
      "Validation set: Loss: 4.59694\n",
      "EarlyStopping counter: 2 out of 10\n",
      "\n",
      "\n",
      "loss: 4.530249  [50182/199428]\n",
      "loss: 4.638120  [101382/199428]\n",
      "loss: 4.632558  [152582/199428]\n"
     ]
    },
    {
     "name": "stderr",
     "output_type": "stream",
     "text": [
      "\n",
      " 25%|██▌       | 101/400 [35:09<1:43:44, 20.82s/it]\u001b[A"
     ]
    },
    {
     "name": "stdout",
     "output_type": "stream",
     "text": [
      "Validation set: Loss: 4.59680\n",
      "EarlyStopping counter: 3 out of 10\n",
      "\n",
      "\n",
      "loss: 4.552124  [50182/199428]\n",
      "loss: 4.603960  [101382/199428]\n",
      "loss: 4.486301  [152582/199428]\n"
     ]
    },
    {
     "name": "stderr",
     "output_type": "stream",
     "text": [
      "\n",
      " 26%|██▌       | 102/400 [35:29<1:43:14, 20.79s/it]\u001b[A"
     ]
    },
    {
     "name": "stdout",
     "output_type": "stream",
     "text": [
      "Validation set: Loss: 4.59709\n",
      "EarlyStopping counter: 4 out of 10\n",
      "\n",
      "\n",
      "loss: 4.453954  [50182/199428]\n",
      "loss: 4.806302  [101382/199428]\n",
      "loss: 4.693784  [152582/199428]\n"
     ]
    },
    {
     "name": "stderr",
     "output_type": "stream",
     "text": [
      "\n",
      " 26%|██▌       | 103/400 [35:50<1:43:05, 20.83s/it]\u001b[A"
     ]
    },
    {
     "name": "stdout",
     "output_type": "stream",
     "text": [
      "Validation set: Loss: 4.59687\n",
      "EarlyStopping counter: 5 out of 10\n",
      "\n",
      "\n",
      "loss: 4.572042  [50182/199428]\n",
      "loss: 4.603216  [101382/199428]\n",
      "loss: 4.552088  [152582/199428]\n"
     ]
    },
    {
     "name": "stderr",
     "output_type": "stream",
     "text": [
      "\n",
      " 26%|██▌       | 104/400 [36:11<1:42:55, 20.86s/it]\u001b[A"
     ]
    },
    {
     "name": "stdout",
     "output_type": "stream",
     "text": [
      "Validation set: Loss: 4.59707\n",
      "EarlyStopping counter: 6 out of 10\n",
      "\n",
      "\n",
      "loss: 4.657279  [50182/199428]\n",
      "loss: 4.541886  [101382/199428]\n",
      "loss: 4.643336  [152582/199428]\n"
     ]
    },
    {
     "name": "stderr",
     "output_type": "stream",
     "text": [
      "\n",
      " 26%|██▋       | 105/400 [36:32<1:42:08, 20.78s/it]\u001b[A"
     ]
    },
    {
     "name": "stdout",
     "output_type": "stream",
     "text": [
      "Validation set: Loss: 4.59670\n",
      "Validation loss decreased (4.596762 --> 4.596696).  Saving model ...\n",
      "\n",
      "\n",
      "loss: 4.620793  [50182/199428]\n",
      "loss: 4.627542  [101382/199428]\n",
      "loss: 4.564306  [152582/199428]\n"
     ]
    },
    {
     "name": "stderr",
     "output_type": "stream",
     "text": [
      "\n",
      " 26%|██▋       | 106/400 [36:53<1:42:07, 20.84s/it]\u001b[A"
     ]
    },
    {
     "name": "stdout",
     "output_type": "stream",
     "text": [
      "Validation set: Loss: 4.59683\n",
      "EarlyStopping counter: 1 out of 10\n",
      "\n",
      "\n",
      "loss: 4.569406  [50182/199428]\n",
      "loss: 4.525939  [101382/199428]\n",
      "loss: 4.664638  [152582/199428]\n"
     ]
    },
    {
     "name": "stderr",
     "output_type": "stream",
     "text": [
      "\n",
      " 27%|██▋       | 107/400 [37:14<1:42:04, 20.90s/it]\u001b[A"
     ]
    },
    {
     "name": "stdout",
     "output_type": "stream",
     "text": [
      "Validation set: Loss: 4.59663\n",
      "Validation loss decreased (4.596696 --> 4.596627).  Saving model ...\n",
      "\n",
      "\n",
      "loss: 4.629564  [50182/199428]\n",
      "loss: 4.526277  [101382/199428]\n",
      "loss: 4.587073  [152582/199428]\n"
     ]
    },
    {
     "name": "stderr",
     "output_type": "stream",
     "text": [
      "\n",
      " 27%|██▋       | 108/400 [37:34<1:41:16, 20.81s/it]\u001b[A"
     ]
    },
    {
     "name": "stdout",
     "output_type": "stream",
     "text": [
      "Validation set: Loss: 4.59673\n",
      "EarlyStopping counter: 1 out of 10\n",
      "\n",
      "\n",
      "loss: 4.577228  [50182/199428]\n",
      "loss: 4.651125  [101382/199428]\n",
      "loss: 4.625811  [152582/199428]\n"
     ]
    },
    {
     "name": "stderr",
     "output_type": "stream",
     "text": [
      "\n",
      " 27%|██▋       | 109/400 [37:55<1:40:58, 20.82s/it]\u001b[A"
     ]
    },
    {
     "name": "stdout",
     "output_type": "stream",
     "text": [
      "Validation set: Loss: 4.59663\n",
      "EarlyStopping counter: 2 out of 10\n",
      "\n",
      "\n",
      "loss: 4.614431  [50182/199428]\n",
      "loss: 4.585702  [101382/199428]\n",
      "loss: 4.487157  [152582/199428]\n"
     ]
    },
    {
     "name": "stderr",
     "output_type": "stream",
     "text": [
      "\n",
      " 28%|██▊       | 110/400 [38:16<1:40:54, 20.88s/it]\u001b[A"
     ]
    },
    {
     "name": "stdout",
     "output_type": "stream",
     "text": [
      "Validation set: Loss: 4.59705\n",
      "EarlyStopping counter: 3 out of 10\n",
      "\n",
      "\n",
      "loss: 4.580466  [50182/199428]\n",
      "loss: 4.612957  [101382/199428]\n",
      "loss: 4.675434  [152582/199428]\n"
     ]
    },
    {
     "name": "stderr",
     "output_type": "stream",
     "text": [
      "\n",
      " 28%|██▊       | 111/400 [38:37<1:39:57, 20.75s/it]\u001b[A"
     ]
    },
    {
     "name": "stdout",
     "output_type": "stream",
     "text": [
      "Validation set: Loss: 4.59686\n",
      "EarlyStopping counter: 4 out of 10\n",
      "\n",
      "\n",
      "loss: 4.505166  [50182/199428]\n",
      "loss: 4.514890  [101382/199428]\n",
      "loss: 4.660165  [152582/199428]\n"
     ]
    },
    {
     "name": "stderr",
     "output_type": "stream",
     "text": [
      "\n",
      " 28%|██▊       | 112/400 [38:58<1:40:05, 20.85s/it]\u001b[A"
     ]
    },
    {
     "name": "stdout",
     "output_type": "stream",
     "text": [
      "Validation set: Loss: 4.59731\n",
      "EarlyStopping counter: 5 out of 10\n",
      "\n",
      "\n",
      "loss: 4.514235  [50182/199428]\n",
      "loss: 4.604614  [101382/199428]\n",
      "loss: 4.607320  [152582/199428]\n"
     ]
    },
    {
     "name": "stderr",
     "output_type": "stream",
     "text": [
      "\n",
      " 28%|██▊       | 113/400 [39:18<1:39:20, 20.77s/it]\u001b[A"
     ]
    },
    {
     "name": "stdout",
     "output_type": "stream",
     "text": [
      "Validation set: Loss: 4.59677\n",
      "EarlyStopping counter: 6 out of 10\n",
      "\n",
      "\n",
      "loss: 4.568631  [50182/199428]\n",
      "loss: 4.555522  [101382/199428]\n",
      "loss: 4.614851  [152582/199428]\n"
     ]
    },
    {
     "name": "stderr",
     "output_type": "stream",
     "text": [
      "\n",
      " 28%|██▊       | 114/400 [39:39<1:39:19, 20.84s/it]\u001b[A"
     ]
    },
    {
     "name": "stdout",
     "output_type": "stream",
     "text": [
      "Validation set: Loss: 4.59666\n",
      "EarlyStopping counter: 7 out of 10\n",
      "\n",
      "\n",
      "loss: 4.568040  [50182/199428]\n",
      "loss: 4.613924  [101382/199428]\n",
      "loss: 4.632494  [152582/199428]\n"
     ]
    },
    {
     "name": "stderr",
     "output_type": "stream",
     "text": [
      "\n",
      " 29%|██▉       | 115/400 [40:00<1:38:58, 20.84s/it]\u001b[A"
     ]
    },
    {
     "name": "stdout",
     "output_type": "stream",
     "text": [
      "Validation set: Loss: 4.59661\n",
      "Validation loss decreased (4.596627 --> 4.596612).  Saving model ...\n",
      "\n",
      "\n",
      "loss: 4.578736  [50182/199428]\n",
      "loss: 4.530921  [101382/199428]\n",
      "loss: 4.473749  [152582/199428]\n"
     ]
    },
    {
     "name": "stderr",
     "output_type": "stream",
     "text": [
      "\n",
      " 29%|██▉       | 116/400 [40:21<1:38:29, 20.81s/it]\u001b[A"
     ]
    },
    {
     "name": "stdout",
     "output_type": "stream",
     "text": [
      "Validation set: Loss: 4.59653\n",
      "Validation loss decreased (4.596612 --> 4.596529).  Saving model ...\n",
      "\n",
      "\n",
      "loss: 4.723791  [50182/199428]\n",
      "loss: 4.679651  [101382/199428]\n",
      "loss: 4.599702  [152582/199428]\n"
     ]
    },
    {
     "name": "stderr",
     "output_type": "stream",
     "text": [
      "\n",
      " 29%|██▉       | 117/400 [40:42<1:37:58, 20.77s/it]\u001b[A"
     ]
    },
    {
     "name": "stdout",
     "output_type": "stream",
     "text": [
      "Validation set: Loss: 4.59654\n",
      "EarlyStopping counter: 1 out of 10\n",
      "\n",
      "\n",
      "loss: 4.725202  [50182/199428]\n",
      "loss: 4.610547  [101382/199428]\n",
      "loss: 4.621084  [152582/199428]\n"
     ]
    },
    {
     "name": "stderr",
     "output_type": "stream",
     "text": [
      "\n",
      " 30%|██▉       | 118/400 [41:03<1:37:48, 20.81s/it]\u001b[A"
     ]
    },
    {
     "name": "stdout",
     "output_type": "stream",
     "text": [
      "Validation set: Loss: 4.59661\n",
      "EarlyStopping counter: 2 out of 10\n",
      "\n",
      "\n",
      "loss: 4.608848  [50182/199428]\n",
      "loss: 4.615152  [101382/199428]\n",
      "loss: 4.637952  [152582/199428]\n"
     ]
    },
    {
     "name": "stderr",
     "output_type": "stream",
     "text": [
      "\n",
      " 30%|██▉       | 119/400 [41:23<1:37:07, 20.74s/it]\u001b[A"
     ]
    },
    {
     "name": "stdout",
     "output_type": "stream",
     "text": [
      "Validation set: Loss: 4.59670\n",
      "EarlyStopping counter: 3 out of 10\n",
      "\n",
      "\n",
      "loss: 4.562467  [50182/199428]\n",
      "loss: 4.673315  [101382/199428]\n",
      "loss: 4.585007  [152582/199428]\n"
     ]
    },
    {
     "name": "stderr",
     "output_type": "stream",
     "text": [
      "\n",
      " 30%|███       | 120/400 [41:44<1:36:48, 20.74s/it]\u001b[A"
     ]
    },
    {
     "name": "stdout",
     "output_type": "stream",
     "text": [
      "Validation set: Loss: 4.59676\n",
      "EarlyStopping counter: 4 out of 10\n",
      "\n",
      "\n",
      "loss: 4.574878  [50182/199428]\n",
      "loss: 4.539066  [101382/199428]\n",
      "loss: 4.588534  [152582/199428]\n"
     ]
    },
    {
     "name": "stderr",
     "output_type": "stream",
     "text": [
      "\n",
      " 30%|███       | 121/400 [42:05<1:36:22, 20.73s/it]\u001b[A"
     ]
    },
    {
     "name": "stdout",
     "output_type": "stream",
     "text": [
      "Validation set: Loss: 4.59729\n",
      "EarlyStopping counter: 5 out of 10\n",
      "\n",
      "\n",
      "loss: 4.637824  [50182/199428]\n",
      "loss: 4.617818  [101382/199428]\n",
      "loss: 4.677927  [152582/199428]\n"
     ]
    },
    {
     "name": "stderr",
     "output_type": "stream",
     "text": [
      "\n",
      " 30%|███       | 122/400 [42:25<1:35:51, 20.69s/it]\u001b[A"
     ]
    },
    {
     "name": "stdout",
     "output_type": "stream",
     "text": [
      "Validation set: Loss: 4.59685\n",
      "EarlyStopping counter: 6 out of 10\n",
      "\n",
      "\n",
      "loss: 4.598076  [50182/199428]\n",
      "loss: 4.653180  [101382/199428]\n",
      "loss: 4.698387  [152582/199428]\n"
     ]
    },
    {
     "name": "stderr",
     "output_type": "stream",
     "text": [
      "\n",
      " 31%|███       | 123/400 [42:46<1:35:51, 20.76s/it]\u001b[A"
     ]
    },
    {
     "name": "stdout",
     "output_type": "stream",
     "text": [
      "Validation set: Loss: 4.59647\n",
      "Validation loss decreased (4.596529 --> 4.596466).  Saving model ...\n",
      "\n",
      "\n",
      "loss: 4.583337  [50182/199428]\n",
      "loss: 4.676339  [101382/199428]\n",
      "loss: 4.617771  [152582/199428]\n"
     ]
    },
    {
     "name": "stderr",
     "output_type": "stream",
     "text": [
      "\n",
      " 31%|███       | 124/400 [43:07<1:35:30, 20.76s/it]\u001b[A"
     ]
    },
    {
     "name": "stdout",
     "output_type": "stream",
     "text": [
      "Validation set: Loss: 4.59660\n",
      "EarlyStopping counter: 1 out of 10\n",
      "\n",
      "\n",
      "loss: 4.577355  [50182/199428]\n",
      "loss: 4.597582  [101382/199428]\n",
      "loss: 4.590445  [152582/199428]\n"
     ]
    },
    {
     "name": "stderr",
     "output_type": "stream",
     "text": [
      "\n",
      " 31%|███▏      | 125/400 [43:27<1:34:51, 20.70s/it]\u001b[A"
     ]
    },
    {
     "name": "stdout",
     "output_type": "stream",
     "text": [
      "Validation set: Loss: 4.59656\n",
      "EarlyStopping counter: 2 out of 10\n",
      "\n",
      "\n",
      "loss: 4.542498  [50182/199428]\n",
      "loss: 4.439785  [101382/199428]\n",
      "loss: 4.516605  [152582/199428]\n"
     ]
    },
    {
     "name": "stderr",
     "output_type": "stream",
     "text": [
      "\n",
      " 32%|███▏      | 126/400 [43:48<1:34:47, 20.76s/it]\u001b[A"
     ]
    },
    {
     "name": "stdout",
     "output_type": "stream",
     "text": [
      "Validation set: Loss: 4.59650\n",
      "EarlyStopping counter: 3 out of 10\n",
      "\n",
      "\n",
      "loss: 4.635058  [50182/199428]\n",
      "loss: 4.586938  [101382/199428]\n",
      "loss: 4.613229  [152582/199428]\n"
     ]
    },
    {
     "name": "stderr",
     "output_type": "stream",
     "text": [
      "\n",
      " 32%|███▏      | 127/400 [44:09<1:34:36, 20.79s/it]\u001b[A"
     ]
    },
    {
     "name": "stdout",
     "output_type": "stream",
     "text": [
      "Validation set: Loss: 4.59644\n",
      "Validation loss decreased (4.596466 --> 4.596443).  Saving model ...\n",
      "\n",
      "\n",
      "loss: 4.562634  [50182/199428]\n",
      "loss: 4.703765  [101382/199428]\n",
      "loss: 4.588549  [152582/199428]\n"
     ]
    },
    {
     "name": "stderr",
     "output_type": "stream",
     "text": [
      "\n",
      " 32%|███▏      | 128/400 [44:30<1:34:11, 20.78s/it]\u001b[A"
     ]
    },
    {
     "name": "stdout",
     "output_type": "stream",
     "text": [
      "Validation set: Loss: 4.59640\n",
      "Validation loss decreased (4.596443 --> 4.596397).  Saving model ...\n",
      "\n",
      "\n",
      "loss: 4.606089  [50182/199428]\n",
      "loss: 4.594049  [101382/199428]\n",
      "loss: 4.568182  [152582/199428]\n"
     ]
    },
    {
     "name": "stderr",
     "output_type": "stream",
     "text": [
      "\n",
      " 32%|███▏      | 129/400 [44:51<1:33:41, 20.74s/it]\u001b[A"
     ]
    },
    {
     "name": "stdout",
     "output_type": "stream",
     "text": [
      "Validation set: Loss: 4.59642\n",
      "EarlyStopping counter: 1 out of 10\n",
      "\n",
      "\n",
      "loss: 4.589313  [50182/199428]\n",
      "loss: 4.641001  [101382/199428]\n",
      "loss: 4.651717  [152582/199428]\n"
     ]
    },
    {
     "name": "stderr",
     "output_type": "stream",
     "text": [
      "\n",
      " 32%|███▎      | 130/400 [45:12<1:33:59, 20.89s/it]\u001b[A"
     ]
    },
    {
     "name": "stdout",
     "output_type": "stream",
     "text": [
      "Validation set: Loss: 4.59666\n",
      "EarlyStopping counter: 2 out of 10\n",
      "\n",
      "\n",
      "loss: 4.567245  [50182/199428]\n",
      "loss: 4.567689  [101382/199428]\n",
      "loss: 4.656692  [152582/199428]\n"
     ]
    },
    {
     "name": "stderr",
     "output_type": "stream",
     "text": [
      "\n",
      " 33%|███▎      | 131/400 [45:32<1:33:06, 20.77s/it]\u001b[A"
     ]
    },
    {
     "name": "stdout",
     "output_type": "stream",
     "text": [
      "Validation set: Loss: 4.59677\n",
      "EarlyStopping counter: 3 out of 10\n",
      "\n",
      "\n",
      "loss: 4.574563  [50182/199428]\n",
      "loss: 4.678026  [101382/199428]\n",
      "loss: 4.617509  [152582/199428]\n"
     ]
    },
    {
     "name": "stderr",
     "output_type": "stream",
     "text": [
      "\n",
      " 33%|███▎      | 132/400 [45:53<1:32:58, 20.81s/it]\u001b[A"
     ]
    },
    {
     "name": "stdout",
     "output_type": "stream",
     "text": [
      "Validation set: Loss: 4.59659\n",
      "EarlyStopping counter: 4 out of 10\n",
      "\n",
      "\n",
      "loss: 4.638456  [50182/199428]\n",
      "loss: 4.686691  [101382/199428]\n",
      "loss: 4.602824  [152582/199428]\n"
     ]
    },
    {
     "name": "stderr",
     "output_type": "stream",
     "text": [
      "\n",
      " 33%|███▎      | 133/400 [46:14<1:32:52, 20.87s/it]\u001b[A"
     ]
    },
    {
     "name": "stdout",
     "output_type": "stream",
     "text": [
      "Validation set: Loss: 4.59671\n",
      "EarlyStopping counter: 5 out of 10\n",
      "\n",
      "\n",
      "loss: 4.567226  [50182/199428]\n",
      "loss: 4.518361  [101382/199428]\n",
      "loss: 4.557493  [152582/199428]\n"
     ]
    },
    {
     "name": "stderr",
     "output_type": "stream",
     "text": [
      "\n",
      " 34%|███▎      | 134/400 [46:35<1:32:11, 20.79s/it]\u001b[A"
     ]
    },
    {
     "name": "stdout",
     "output_type": "stream",
     "text": [
      "Validation set: Loss: 4.59655\n",
      "EarlyStopping counter: 6 out of 10\n",
      "\n",
      "\n",
      "loss: 4.586033  [50182/199428]\n",
      "loss: 4.494608  [101382/199428]\n",
      "loss: 4.559539  [152582/199428]\n"
     ]
    },
    {
     "name": "stderr",
     "output_type": "stream",
     "text": [
      "\n",
      " 34%|███▍      | 135/400 [46:56<1:31:58, 20.82s/it]\u001b[A"
     ]
    },
    {
     "name": "stdout",
     "output_type": "stream",
     "text": [
      "Validation set: Loss: 4.59684\n",
      "EarlyStopping counter: 7 out of 10\n",
      "\n",
      "\n",
      "loss: 4.647254  [50182/199428]\n",
      "loss: 4.569764  [101382/199428]\n",
      "loss: 4.640756  [152582/199428]\n"
     ]
    },
    {
     "name": "stderr",
     "output_type": "stream",
     "text": [
      "\n",
      " 34%|███▍      | 136/400 [47:17<1:31:59, 20.91s/it]\u001b[A"
     ]
    },
    {
     "name": "stdout",
     "output_type": "stream",
     "text": [
      "Validation set: Loss: 4.59636\n",
      "Validation loss decreased (4.596397 --> 4.596358).  Saving model ...\n",
      "\n",
      "\n",
      "loss: 4.571898  [50182/199428]\n",
      "loss: 4.716865  [101382/199428]\n",
      "loss: 4.561907  [152582/199428]\n"
     ]
    },
    {
     "name": "stderr",
     "output_type": "stream",
     "text": [
      "\n",
      " 34%|███▍      | 137/400 [47:37<1:31:14, 20.82s/it]\u001b[A"
     ]
    },
    {
     "name": "stdout",
     "output_type": "stream",
     "text": [
      "Validation set: Loss: 4.59663\n",
      "EarlyStopping counter: 1 out of 10\n",
      "\n",
      "\n",
      "loss: 4.633488  [50182/199428]\n",
      "loss: 4.540954  [101382/199428]\n",
      "loss: 4.551788  [152582/199428]\n"
     ]
    },
    {
     "name": "stderr",
     "output_type": "stream",
     "text": [
      "\n",
      " 34%|███▍      | 138/400 [47:59<1:31:18, 20.91s/it]\u001b[A"
     ]
    },
    {
     "name": "stdout",
     "output_type": "stream",
     "text": [
      "Validation set: Loss: 4.59650\n",
      "EarlyStopping counter: 2 out of 10\n",
      "\n",
      "\n",
      "loss: 4.605999  [50182/199428]\n",
      "loss: 4.483737  [101382/199428]\n",
      "loss: 4.605512  [152582/199428]\n"
     ]
    },
    {
     "name": "stderr",
     "output_type": "stream",
     "text": [
      "\n",
      " 35%|███▍      | 139/400 [48:19<1:30:44, 20.86s/it]\u001b[A"
     ]
    },
    {
     "name": "stdout",
     "output_type": "stream",
     "text": [
      "Validation set: Loss: 4.59639\n",
      "EarlyStopping counter: 3 out of 10\n",
      "\n",
      "\n",
      "loss: 4.714645  [50182/199428]\n",
      "loss: 4.605443  [101382/199428]\n",
      "loss: 4.566517  [152582/199428]\n"
     ]
    },
    {
     "name": "stderr",
     "output_type": "stream",
     "text": [
      "\n",
      " 35%|███▌      | 140/400 [48:40<1:30:01, 20.77s/it]\u001b[A"
     ]
    },
    {
     "name": "stdout",
     "output_type": "stream",
     "text": [
      "Validation set: Loss: 4.59639\n",
      "EarlyStopping counter: 4 out of 10\n",
      "\n",
      "\n",
      "loss: 4.462631  [50182/199428]\n",
      "loss: 4.467986  [101382/199428]\n",
      "loss: 4.733027  [152582/199428]\n"
     ]
    },
    {
     "name": "stderr",
     "output_type": "stream",
     "text": [
      "\n",
      " 35%|███▌      | 141/400 [49:01<1:29:57, 20.84s/it]\u001b[A"
     ]
    },
    {
     "name": "stdout",
     "output_type": "stream",
     "text": [
      "Validation set: Loss: 4.59639\n",
      "EarlyStopping counter: 5 out of 10\n",
      "\n",
      "\n",
      "loss: 4.619779  [50182/199428]\n",
      "loss: 4.695082  [101382/199428]\n",
      "loss: 4.581483  [152582/199428]\n"
     ]
    },
    {
     "name": "stderr",
     "output_type": "stream",
     "text": [
      "\n",
      " 36%|███▌      | 142/400 [49:22<1:29:31, 20.82s/it]\u001b[A"
     ]
    },
    {
     "name": "stdout",
     "output_type": "stream",
     "text": [
      "Validation set: Loss: 4.59658\n",
      "EarlyStopping counter: 6 out of 10\n",
      "\n",
      "\n",
      "loss: 4.528015  [50182/199428]\n",
      "loss: 4.532809  [101382/199428]\n",
      "loss: 4.723158  [152582/199428]\n"
     ]
    },
    {
     "name": "stderr",
     "output_type": "stream",
     "text": [
      "\n",
      " 36%|███▌      | 143/400 [49:42<1:28:47, 20.73s/it]\u001b[A"
     ]
    },
    {
     "name": "stdout",
     "output_type": "stream",
     "text": [
      "Validation set: Loss: 4.59637\n",
      "EarlyStopping counter: 7 out of 10\n",
      "\n",
      "\n",
      "loss: 4.551611  [50182/199428]\n",
      "loss: 4.643126  [101382/199428]\n",
      "loss: 4.625545  [152582/199428]\n"
     ]
    },
    {
     "name": "stderr",
     "output_type": "stream",
     "text": [
      "\n",
      " 36%|███▌      | 144/400 [50:03<1:28:30, 20.74s/it]\u001b[A"
     ]
    },
    {
     "name": "stdout",
     "output_type": "stream",
     "text": [
      "Validation set: Loss: 4.59653\n",
      "EarlyStopping counter: 8 out of 10\n",
      "\n",
      "\n",
      "loss: 4.632538  [50182/199428]\n",
      "loss: 4.576121  [101382/199428]\n",
      "loss: 4.609984  [152582/199428]\n"
     ]
    },
    {
     "name": "stderr",
     "output_type": "stream",
     "text": [
      "\n",
      " 36%|███▋      | 145/400 [50:24<1:27:57, 20.70s/it]\u001b[A"
     ]
    },
    {
     "name": "stdout",
     "output_type": "stream",
     "text": [
      "Validation set: Loss: 4.59679\n",
      "EarlyStopping counter: 9 out of 10\n",
      "\n",
      "\n",
      "loss: 4.525667  [50182/199428]\n",
      "loss: 4.724440  [101382/199428]\n",
      "loss: 4.555370  [152582/199428]\n"
     ]
    },
    {
     "name": "stderr",
     "output_type": "stream",
     "text": [
      " 36%|███▋      | 145/400 [50:44<1:29:14, 21.00s/it]"
     ]
    },
    {
     "name": "stdout",
     "output_type": "stream",
     "text": [
      "Validation set: Loss: 4.59641\n",
      "EarlyStopping counter: 10 out of 10\n",
      "Done!\n"
     ]
    },
    {
     "name": "stderr",
     "output_type": "stream",
     "text": [
      "\n",
      " 40%|████      | 2/5 [1:37:36<2:27:29, 2949.76s/it]"
     ]
    },
    {
     "name": "stdout",
     "output_type": "stream",
     "text": [
      "Performing the ZILN pipeline for company 105100050\n"
     ]
    },
    {
     "name": "stderr",
     "output_type": "stream",
     "text": [
      "\n",
      "  0%|          | 0/400 [00:00<?, ?it/s]\u001b[A"
     ]
    },
    {
     "name": "stdout",
     "output_type": "stream",
     "text": [
      "\n",
      "\n",
      "loss: 13.224409  [50182/212015]\n",
      "loss: 10.374416  [101382/212015]\n",
      "loss: 8.229610  [152582/212015]\n",
      "loss: 6.822959  [203782/212015]\n"
     ]
    },
    {
     "name": "stderr",
     "output_type": "stream",
     "text": [
      "\n",
      "  0%|          | 1/400 [00:21<2:25:55, 21.94s/it]\u001b[A"
     ]
    },
    {
     "name": "stdout",
     "output_type": "stream",
     "text": [
      "Validation set: Loss: 6.57585\n",
      "Validation loss decreased (inf --> 6.575847).  Saving model ...\n",
      "\n",
      "\n",
      "loss: 5.974098  [50182/212015]\n",
      "loss: 5.541286  [101382/212015]\n",
      "loss: 5.461074  [152582/212015]\n",
      "loss: 5.270391  [203782/212015]\n"
     ]
    },
    {
     "name": "stderr",
     "output_type": "stream",
     "text": [
      "\n",
      "  0%|          | 2/400 [00:44<2:26:42, 22.12s/it]\u001b[A"
     ]
    },
    {
     "name": "stdout",
     "output_type": "stream",
     "text": [
      "Validation set: Loss: 5.26708\n",
      "Validation loss decreased (6.575847 --> 5.267080).  Saving model ...\n",
      "\n",
      "\n",
      "loss: 5.173734  [50182/212015]\n",
      "loss: 5.072158  [101382/212015]\n",
      "loss: 4.934182  [152582/212015]\n",
      "loss: 4.886160  [203782/212015]\n"
     ]
    },
    {
     "name": "stderr",
     "output_type": "stream",
     "text": [
      "\n",
      "  1%|          | 3/400 [01:06<2:25:43, 22.02s/it]\u001b[A"
     ]
    },
    {
     "name": "stdout",
     "output_type": "stream",
     "text": [
      "Validation set: Loss: 4.79332\n",
      "Validation loss decreased (5.267080 --> 4.793322).  Saving model ...\n",
      "\n",
      "\n",
      "loss: 4.704739  [50182/212015]\n",
      "loss: 4.568477  [101382/212015]\n",
      "loss: 4.554080  [152582/212015]\n",
      "loss: 4.539904  [203782/212015]\n"
     ]
    },
    {
     "name": "stderr",
     "output_type": "stream",
     "text": [
      "\n",
      "  1%|          | 4/400 [01:28<2:25:58, 22.12s/it]\u001b[A"
     ]
    },
    {
     "name": "stdout",
     "output_type": "stream",
     "text": [
      "Validation set: Loss: 4.55849\n",
      "Validation loss decreased (4.793322 --> 4.558485).  Saving model ...\n",
      "\n",
      "\n",
      "loss: 4.540262  [50182/212015]\n",
      "loss: 4.558751  [101382/212015]\n",
      "loss: 4.533656  [152582/212015]\n",
      "loss: 4.548334  [203782/212015]\n"
     ]
    },
    {
     "name": "stderr",
     "output_type": "stream",
     "text": [
      "\n",
      "  1%|▏         | 5/400 [01:50<2:25:07, 22.04s/it]\u001b[A"
     ]
    },
    {
     "name": "stdout",
     "output_type": "stream",
     "text": [
      "Validation set: Loss: 4.54628\n",
      "Validation loss decreased (4.558485 --> 4.546281).  Saving model ...\n",
      "\n",
      "\n",
      "loss: 4.590624  [50182/212015]\n",
      "loss: 4.599842  [101382/212015]\n",
      "loss: 4.485715  [152582/212015]\n",
      "loss: 4.538737  [203782/212015]\n"
     ]
    },
    {
     "name": "stderr",
     "output_type": "stream",
     "text": [
      "\n",
      "  2%|▏         | 6/400 [02:12<2:24:31, 22.01s/it]\u001b[A"
     ]
    },
    {
     "name": "stdout",
     "output_type": "stream",
     "text": [
      "Validation set: Loss: 4.53976\n",
      "Validation loss decreased (4.546281 --> 4.539757).  Saving model ...\n",
      "\n",
      "\n",
      "loss: 4.554430  [50182/212015]\n",
      "loss: 4.438577  [101382/212015]\n",
      "loss: 4.600400  [152582/212015]\n",
      "loss: 4.537139  [203782/212015]\n"
     ]
    },
    {
     "name": "stderr",
     "output_type": "stream",
     "text": [
      "\n",
      "  2%|▏         | 7/400 [02:34<2:24:12, 22.02s/it]\u001b[A"
     ]
    },
    {
     "name": "stdout",
     "output_type": "stream",
     "text": [
      "Validation set: Loss: 4.53533\n",
      "Validation loss decreased (4.539757 --> 4.535331).  Saving model ...\n",
      "\n",
      "\n",
      "loss: 4.465075  [50182/212015]\n",
      "loss: 4.537808  [101382/212015]\n",
      "loss: 4.527097  [152582/212015]\n",
      "loss: 4.548661  [203782/212015]\n"
     ]
    },
    {
     "name": "stderr",
     "output_type": "stream",
     "text": [
      "\n",
      "  2%|▏         | 8/400 [02:56<2:24:27, 22.11s/it]\u001b[A"
     ]
    },
    {
     "name": "stdout",
     "output_type": "stream",
     "text": [
      "Validation set: Loss: 4.53194\n",
      "Validation loss decreased (4.535331 --> 4.531942).  Saving model ...\n",
      "\n",
      "\n",
      "loss: 4.577634  [50182/212015]\n",
      "loss: 4.563163  [101382/212015]\n",
      "loss: 4.608750  [152582/212015]\n",
      "loss: 4.608272  [203782/212015]\n"
     ]
    },
    {
     "name": "stderr",
     "output_type": "stream",
     "text": [
      "\n",
      "  2%|▏         | 9/400 [03:18<2:23:46, 22.06s/it]\u001b[A"
     ]
    },
    {
     "name": "stdout",
     "output_type": "stream",
     "text": [
      "Validation set: Loss: 4.52923\n",
      "Validation loss decreased (4.531942 --> 4.529230).  Saving model ...\n",
      "\n",
      "\n",
      "loss: 4.504240  [50182/212015]\n",
      "loss: 4.527581  [101382/212015]\n",
      "loss: 4.523345  [152582/212015]\n",
      "loss: 4.454322  [203782/212015]\n"
     ]
    },
    {
     "name": "stderr",
     "output_type": "stream",
     "text": [
      "\n",
      "  2%|▎         | 10/400 [03:40<2:23:18, 22.05s/it]\u001b[A"
     ]
    },
    {
     "name": "stdout",
     "output_type": "stream",
     "text": [
      "Validation set: Loss: 4.52672\n",
      "Validation loss decreased (4.529230 --> 4.526717).  Saving model ...\n",
      "\n",
      "\n",
      "loss: 4.551877  [50182/212015]\n",
      "loss: 4.551171  [101382/212015]\n",
      "loss: 4.550567  [152582/212015]\n",
      "loss: 4.518764  [203782/212015]\n"
     ]
    },
    {
     "name": "stderr",
     "output_type": "stream",
     "text": [
      "\n",
      "  3%|▎         | 11/400 [04:02<2:22:21, 21.96s/it]\u001b[A"
     ]
    },
    {
     "name": "stdout",
     "output_type": "stream",
     "text": [
      "Validation set: Loss: 4.52459\n",
      "Validation loss decreased (4.526717 --> 4.524588).  Saving model ...\n",
      "\n",
      "\n",
      "loss: 4.513487  [50182/212015]\n",
      "loss: 4.546419  [101382/212015]\n",
      "loss: 4.440385  [152582/212015]\n",
      "loss: 4.556798  [203782/212015]\n"
     ]
    },
    {
     "name": "stderr",
     "output_type": "stream",
     "text": [
      "\n",
      "  3%|▎         | 12/400 [04:24<2:22:39, 22.06s/it]\u001b[A"
     ]
    },
    {
     "name": "stdout",
     "output_type": "stream",
     "text": [
      "Validation set: Loss: 4.52229\n",
      "Validation loss decreased (4.524588 --> 4.522287).  Saving model ...\n",
      "\n",
      "\n",
      "loss: 4.548634  [50182/212015]\n",
      "loss: 4.534065  [101382/212015]\n",
      "loss: 4.524983  [152582/212015]\n",
      "loss: 4.618379  [203782/212015]\n"
     ]
    },
    {
     "name": "stderr",
     "output_type": "stream",
     "text": [
      "\n",
      "  3%|▎         | 13/400 [04:46<2:21:55, 22.00s/it]\u001b[A"
     ]
    },
    {
     "name": "stdout",
     "output_type": "stream",
     "text": [
      "Validation set: Loss: 4.52013\n",
      "Validation loss decreased (4.522287 --> 4.520129).  Saving model ...\n",
      "\n",
      "\n",
      "loss: 4.540344  [50182/212015]\n",
      "loss: 4.575595  [101382/212015]\n",
      "loss: 4.564021  [152582/212015]\n",
      "loss: 4.539185  [203782/212015]\n"
     ]
    },
    {
     "name": "stderr",
     "output_type": "stream",
     "text": [
      "\n",
      "  4%|▎         | 14/400 [05:08<2:22:30, 22.15s/it]\u001b[A"
     ]
    },
    {
     "name": "stdout",
     "output_type": "stream",
     "text": [
      "Validation set: Loss: 4.51811\n",
      "Validation loss decreased (4.520129 --> 4.518114).  Saving model ...\n",
      "\n",
      "\n",
      "loss: 4.499930  [50182/212015]\n",
      "loss: 4.472349  [101382/212015]\n",
      "loss: 4.557932  [152582/212015]\n",
      "loss: 4.541207  [203782/212015]\n"
     ]
    },
    {
     "name": "stderr",
     "output_type": "stream",
     "text": [
      "\n",
      "  4%|▍         | 15/400 [05:30<2:21:55, 22.12s/it]\u001b[A"
     ]
    },
    {
     "name": "stdout",
     "output_type": "stream",
     "text": [
      "Validation set: Loss: 4.51573\n",
      "Validation loss decreased (4.518114 --> 4.515732).  Saving model ...\n",
      "\n",
      "\n",
      "loss: 4.507456  [50182/212015]\n",
      "loss: 4.549562  [101382/212015]\n",
      "loss: 4.600308  [152582/212015]\n",
      "loss: 4.570319  [203782/212015]\n"
     ]
    },
    {
     "name": "stderr",
     "output_type": "stream",
     "text": [
      "\n",
      "  4%|▍         | 16/400 [05:53<2:21:26, 22.10s/it]\u001b[A"
     ]
    },
    {
     "name": "stdout",
     "output_type": "stream",
     "text": [
      "Validation set: Loss: 4.51359\n",
      "Validation loss decreased (4.515732 --> 4.513587).  Saving model ...\n",
      "\n",
      "\n",
      "loss: 4.470163  [50182/212015]\n",
      "loss: 4.478856  [101382/212015]\n",
      "loss: 4.514693  [152582/212015]\n",
      "loss: 4.473621  [203782/212015]\n"
     ]
    },
    {
     "name": "stderr",
     "output_type": "stream",
     "text": [
      "\n",
      "  4%|▍         | 17/400 [06:15<2:21:03, 22.10s/it]\u001b[A"
     ]
    },
    {
     "name": "stdout",
     "output_type": "stream",
     "text": [
      "Validation set: Loss: 4.51142\n",
      "Validation loss decreased (4.513587 --> 4.511421).  Saving model ...\n",
      "\n",
      "\n",
      "loss: 4.486955  [50182/212015]\n",
      "loss: 4.478017  [101382/212015]\n",
      "loss: 4.439068  [152582/212015]\n",
      "loss: 4.425576  [203782/212015]\n"
     ]
    },
    {
     "name": "stderr",
     "output_type": "stream",
     "text": [
      "\n",
      "  4%|▍         | 18/400 [06:37<2:21:00, 22.15s/it]\u001b[A"
     ]
    },
    {
     "name": "stdout",
     "output_type": "stream",
     "text": [
      "Validation set: Loss: 4.50889\n",
      "Validation loss decreased (4.511421 --> 4.508893).  Saving model ...\n",
      "\n",
      "\n",
      "loss: 4.540679  [50182/212015]\n",
      "loss: 4.518235  [101382/212015]\n",
      "loss: 4.580153  [152582/212015]\n",
      "loss: 4.511250  [203782/212015]\n"
     ]
    },
    {
     "name": "stderr",
     "output_type": "stream",
     "text": [
      "\n",
      "  5%|▍         | 19/400 [06:59<2:20:12, 22.08s/it]\u001b[A"
     ]
    },
    {
     "name": "stdout",
     "output_type": "stream",
     "text": [
      "Validation set: Loss: 4.50693\n",
      "Validation loss decreased (4.508893 --> 4.506928).  Saving model ...\n",
      "\n",
      "\n",
      "loss: 4.579854  [50182/212015]\n",
      "loss: 4.522130  [101382/212015]\n",
      "loss: 4.529631  [152582/212015]\n",
      "loss: 4.606562  [203782/212015]\n"
     ]
    },
    {
     "name": "stderr",
     "output_type": "stream",
     "text": [
      "\n",
      "  5%|▌         | 20/400 [07:21<2:19:41, 22.06s/it]\u001b[A"
     ]
    },
    {
     "name": "stdout",
     "output_type": "stream",
     "text": [
      "Validation set: Loss: 4.50455\n",
      "Validation loss decreased (4.506928 --> 4.504548).  Saving model ...\n",
      "\n",
      "\n",
      "loss: 4.491051  [50182/212015]\n",
      "loss: 4.511172  [101382/212015]\n",
      "loss: 4.582082  [152582/212015]\n",
      "loss: 4.549397  [203782/212015]\n"
     ]
    },
    {
     "name": "stderr",
     "output_type": "stream",
     "text": [
      "\n",
      "  5%|▌         | 21/400 [07:43<2:19:38, 22.11s/it]\u001b[A"
     ]
    },
    {
     "name": "stdout",
     "output_type": "stream",
     "text": [
      "Validation set: Loss: 4.50192\n",
      "Validation loss decreased (4.504548 --> 4.501924).  Saving model ...\n",
      "\n",
      "\n",
      "loss: 4.518581  [50182/212015]\n",
      "loss: 4.472189  [101382/212015]\n",
      "loss: 4.459980  [152582/212015]\n",
      "loss: 4.508635  [203782/212015]\n"
     ]
    },
    {
     "name": "stderr",
     "output_type": "stream",
     "text": [
      "\n",
      "  6%|▌         | 22/400 [08:05<2:19:34, 22.15s/it]\u001b[A"
     ]
    },
    {
     "name": "stdout",
     "output_type": "stream",
     "text": [
      "Validation set: Loss: 4.49962\n",
      "Validation loss decreased (4.501924 --> 4.499619).  Saving model ...\n",
      "\n",
      "\n",
      "loss: 4.513176  [50182/212015]\n",
      "loss: 4.553751  [101382/212015]\n",
      "loss: 4.532050  [152582/212015]\n",
      "loss: 4.497101  [203782/212015]\n"
     ]
    },
    {
     "name": "stderr",
     "output_type": "stream",
     "text": [
      "\n",
      "  6%|▌         | 23/400 [08:27<2:18:46, 22.09s/it]\u001b[A"
     ]
    },
    {
     "name": "stdout",
     "output_type": "stream",
     "text": [
      "Validation set: Loss: 4.49774\n",
      "Validation loss decreased (4.499619 --> 4.497737).  Saving model ...\n",
      "\n",
      "\n",
      "loss: 4.523028  [50182/212015]\n",
      "loss: 4.404267  [101382/212015]\n",
      "loss: 4.562445  [152582/212015]\n",
      "loss: 4.481195  [203782/212015]\n"
     ]
    },
    {
     "name": "stderr",
     "output_type": "stream",
     "text": [
      "\n",
      "  6%|▌         | 24/400 [08:49<2:18:16, 22.07s/it]\u001b[A"
     ]
    },
    {
     "name": "stdout",
     "output_type": "stream",
     "text": [
      "Validation set: Loss: 4.49559\n",
      "Validation loss decreased (4.497737 --> 4.495592).  Saving model ...\n",
      "\n",
      "\n",
      "loss: 4.474440  [50182/212015]\n",
      "loss: 4.446975  [101382/212015]\n",
      "loss: 4.461258  [152582/212015]\n",
      "loss: 4.508901  [203782/212015]\n"
     ]
    },
    {
     "name": "stderr",
     "output_type": "stream",
     "text": [
      "\n",
      "  6%|▋         | 25/400 [09:11<2:18:11, 22.11s/it]\u001b[A"
     ]
    },
    {
     "name": "stdout",
     "output_type": "stream",
     "text": [
      "Validation set: Loss: 4.49393\n",
      "Validation loss decreased (4.495592 --> 4.493931).  Saving model ...\n",
      "\n",
      "\n",
      "loss: 4.552540  [50182/212015]\n",
      "loss: 4.490883  [101382/212015]\n",
      "loss: 4.572981  [152582/212015]\n",
      "loss: 4.454208  [203782/212015]\n"
     ]
    },
    {
     "name": "stderr",
     "output_type": "stream",
     "text": [
      "\n",
      "  6%|▋         | 26/400 [09:34<2:17:49, 22.11s/it]\u001b[A"
     ]
    },
    {
     "name": "stdout",
     "output_type": "stream",
     "text": [
      "Validation set: Loss: 4.49218\n",
      "Validation loss decreased (4.493931 --> 4.492184).  Saving model ...\n",
      "\n",
      "\n",
      "loss: 4.442177  [50182/212015]\n",
      "loss: 4.536309  [101382/212015]\n",
      "loss: 4.547062  [152582/212015]\n",
      "loss: 4.452854  [203782/212015]\n"
     ]
    },
    {
     "name": "stderr",
     "output_type": "stream",
     "text": [
      "\n",
      "  7%|▋         | 27/400 [09:56<2:17:43, 22.15s/it]\u001b[A"
     ]
    },
    {
     "name": "stdout",
     "output_type": "stream",
     "text": [
      "Validation set: Loss: 4.49061\n",
      "Validation loss decreased (4.492184 --> 4.490606).  Saving model ...\n",
      "\n",
      "\n",
      "loss: 4.502606  [50182/212015]\n",
      "loss: 4.527921  [101382/212015]\n",
      "loss: 4.441462  [152582/212015]\n",
      "loss: 4.492940  [203782/212015]\n"
     ]
    },
    {
     "name": "stderr",
     "output_type": "stream",
     "text": [
      "\n",
      "  7%|▋         | 28/400 [10:18<2:17:40, 22.21s/it]\u001b[A"
     ]
    },
    {
     "name": "stdout",
     "output_type": "stream",
     "text": [
      "Validation set: Loss: 4.48947\n",
      "Validation loss decreased (4.490606 --> 4.489465).  Saving model ...\n",
      "\n",
      "\n",
      "loss: 4.490488  [50182/212015]\n",
      "loss: 4.496108  [101382/212015]\n",
      "loss: 4.484859  [152582/212015]\n",
      "loss: 4.466258  [203782/212015]\n"
     ]
    },
    {
     "name": "stderr",
     "output_type": "stream",
     "text": [
      "\n",
      "  7%|▋         | 29/400 [10:40<2:17:07, 22.18s/it]\u001b[A"
     ]
    },
    {
     "name": "stdout",
     "output_type": "stream",
     "text": [
      "Validation set: Loss: 4.48823\n",
      "Validation loss decreased (4.489465 --> 4.488234).  Saving model ...\n",
      "\n",
      "\n",
      "loss: 4.526410  [50182/212015]\n",
      "loss: 4.493523  [101382/212015]\n",
      "loss: 4.538758  [152582/212015]\n",
      "loss: 4.504056  [203782/212015]\n"
     ]
    },
    {
     "name": "stderr",
     "output_type": "stream",
     "text": [
      "\n",
      "  8%|▊         | 30/400 [11:02<2:16:04, 22.07s/it]\u001b[A"
     ]
    },
    {
     "name": "stdout",
     "output_type": "stream",
     "text": [
      "Validation set: Loss: 4.48734\n",
      "Validation loss decreased (4.488234 --> 4.487344).  Saving model ...\n",
      "\n",
      "\n",
      "loss: 4.432559  [50182/212015]\n",
      "loss: 4.407574  [101382/212015]\n",
      "loss: 4.533969  [152582/212015]\n",
      "loss: 4.542626  [203782/212015]\n"
     ]
    },
    {
     "name": "stderr",
     "output_type": "stream",
     "text": [
      "\n",
      "  8%|▊         | 31/400 [11:24<2:16:00, 22.12s/it]\u001b[A"
     ]
    },
    {
     "name": "stdout",
     "output_type": "stream",
     "text": [
      "Validation set: Loss: 4.48670\n",
      "Validation loss decreased (4.487344 --> 4.486699).  Saving model ...\n",
      "\n",
      "\n",
      "loss: 4.518892  [50182/212015]\n",
      "loss: 4.401452  [101382/212015]\n",
      "loss: 4.550890  [152582/212015]\n",
      "loss: 4.482926  [203782/212015]\n"
     ]
    },
    {
     "name": "stderr",
     "output_type": "stream",
     "text": [
      "\n",
      "  8%|▊         | 32/400 [11:47<2:16:28, 22.25s/it]\u001b[A"
     ]
    },
    {
     "name": "stdout",
     "output_type": "stream",
     "text": [
      "Validation set: Loss: 4.48537\n",
      "Validation loss decreased (4.486699 --> 4.485371).  Saving model ...\n",
      "\n",
      "\n",
      "loss: 4.435169  [50182/212015]\n",
      "loss: 4.491344  [101382/212015]\n",
      "loss: 4.493709  [152582/212015]\n",
      "loss: 4.474761  [203782/212015]\n"
     ]
    },
    {
     "name": "stderr",
     "output_type": "stream",
     "text": [
      "\n",
      "  8%|▊         | 33/400 [12:09<2:14:59, 22.07s/it]\u001b[A"
     ]
    },
    {
     "name": "stdout",
     "output_type": "stream",
     "text": [
      "Validation set: Loss: 4.48458\n",
      "Validation loss decreased (4.485371 --> 4.484580).  Saving model ...\n",
      "\n",
      "\n",
      "loss: 4.451762  [50182/212015]\n",
      "loss: 4.508515  [101382/212015]\n",
      "loss: 4.465032  [152582/212015]\n",
      "loss: 4.461237  [203782/212015]\n"
     ]
    },
    {
     "name": "stderr",
     "output_type": "stream",
     "text": [
      "\n",
      "  8%|▊         | 34/400 [12:31<2:14:58, 22.13s/it]\u001b[A"
     ]
    },
    {
     "name": "stdout",
     "output_type": "stream",
     "text": [
      "Validation set: Loss: 4.48439\n",
      "Validation loss decreased (4.484580 --> 4.484392).  Saving model ...\n",
      "\n",
      "\n",
      "loss: 4.460872  [50182/212015]\n",
      "loss: 4.484323  [101382/212015]\n",
      "loss: 4.429334  [152582/212015]\n",
      "loss: 4.571917  [203782/212015]\n"
     ]
    },
    {
     "name": "stderr",
     "output_type": "stream",
     "text": [
      "\n",
      "  9%|▉         | 35/400 [12:53<2:14:17, 22.07s/it]\u001b[A"
     ]
    },
    {
     "name": "stdout",
     "output_type": "stream",
     "text": [
      "Validation set: Loss: 4.48348\n",
      "Validation loss decreased (4.484392 --> 4.483480).  Saving model ...\n",
      "\n",
      "\n",
      "loss: 4.498841  [50182/212015]\n",
      "loss: 4.460317  [101382/212015]\n",
      "loss: 4.531794  [152582/212015]\n",
      "loss: 4.497095  [203782/212015]\n"
     ]
    },
    {
     "name": "stderr",
     "output_type": "stream",
     "text": [
      "\n",
      "  9%|▉         | 36/400 [13:15<2:13:31, 22.01s/it]\u001b[A"
     ]
    },
    {
     "name": "stdout",
     "output_type": "stream",
     "text": [
      "Validation set: Loss: 4.48288\n",
      "Validation loss decreased (4.483480 --> 4.482878).  Saving model ...\n",
      "\n",
      "\n",
      "loss: 4.500361  [50182/212015]\n",
      "loss: 4.532752  [101382/212015]\n",
      "loss: 4.427630  [152582/212015]\n",
      "loss: 4.536280  [203782/212015]\n"
     ]
    },
    {
     "name": "stderr",
     "output_type": "stream",
     "text": [
      "\n",
      "  9%|▉         | 37/400 [13:37<2:13:45, 22.11s/it]\u001b[A"
     ]
    },
    {
     "name": "stdout",
     "output_type": "stream",
     "text": [
      "Validation set: Loss: 4.48253\n",
      "Validation loss decreased (4.482878 --> 4.482534).  Saving model ...\n",
      "\n",
      "\n",
      "loss: 4.528788  [50182/212015]\n",
      "loss: 4.531651  [101382/212015]\n",
      "loss: 4.564795  [152582/212015]\n",
      "loss: 4.469844  [203782/212015]\n"
     ]
    },
    {
     "name": "stderr",
     "output_type": "stream",
     "text": [
      "\n",
      " 10%|▉         | 38/400 [13:59<2:13:44, 22.17s/it]\u001b[A"
     ]
    },
    {
     "name": "stdout",
     "output_type": "stream",
     "text": [
      "Validation set: Loss: 4.48232\n",
      "Validation loss decreased (4.482534 --> 4.482324).  Saving model ...\n",
      "\n",
      "\n",
      "loss: 4.496328  [50182/212015]\n",
      "loss: 4.499517  [101382/212015]\n",
      "loss: 4.439603  [152582/212015]\n",
      "loss: 4.521452  [203782/212015]\n"
     ]
    },
    {
     "name": "stderr",
     "output_type": "stream",
     "text": [
      "\n",
      " 10%|▉         | 39/400 [14:21<2:12:24, 22.01s/it]\u001b[A"
     ]
    },
    {
     "name": "stdout",
     "output_type": "stream",
     "text": [
      "Validation set: Loss: 4.48176\n",
      "Validation loss decreased (4.482324 --> 4.481758).  Saving model ...\n",
      "\n",
      "\n",
      "loss: 4.412831  [50182/212015]\n",
      "loss: 4.531680  [101382/212015]\n",
      "loss: 4.435860  [152582/212015]\n",
      "loss: 4.565015  [203782/212015]\n"
     ]
    },
    {
     "name": "stderr",
     "output_type": "stream",
     "text": [
      "\n",
      " 10%|█         | 40/400 [14:44<2:13:14, 22.21s/it]\u001b[A"
     ]
    },
    {
     "name": "stdout",
     "output_type": "stream",
     "text": [
      "Validation set: Loss: 4.48144\n",
      "Validation loss decreased (4.481758 --> 4.481444).  Saving model ...\n",
      "\n",
      "\n",
      "loss: 4.465910  [50182/212015]\n",
      "loss: 4.486964  [101382/212015]\n",
      "loss: 4.543065  [152582/212015]\n",
      "loss: 4.560567  [203782/212015]\n"
     ]
    },
    {
     "name": "stderr",
     "output_type": "stream",
     "text": [
      "\n",
      " 10%|█         | 41/400 [15:06<2:12:51, 22.20s/it]\u001b[A"
     ]
    },
    {
     "name": "stdout",
     "output_type": "stream",
     "text": [
      "Validation set: Loss: 4.48115\n",
      "Validation loss decreased (4.481444 --> 4.481151).  Saving model ...\n",
      "\n",
      "\n",
      "loss: 4.477715  [50182/212015]\n",
      "loss: 4.488662  [101382/212015]\n",
      "loss: 4.529490  [152582/212015]\n",
      "loss: 4.564193  [203782/212015]\n"
     ]
    },
    {
     "name": "stderr",
     "output_type": "stream",
     "text": [
      "\n",
      " 10%|█         | 42/400 [15:28<2:12:40, 22.24s/it]\u001b[A"
     ]
    },
    {
     "name": "stdout",
     "output_type": "stream",
     "text": [
      "Validation set: Loss: 4.48062\n",
      "Validation loss decreased (4.481151 --> 4.480618).  Saving model ...\n",
      "\n",
      "\n",
      "loss: 4.550220  [50182/212015]\n",
      "loss: 4.559032  [101382/212015]\n",
      "loss: 4.486949  [152582/212015]\n",
      "loss: 4.504095  [203782/212015]\n"
     ]
    },
    {
     "name": "stderr",
     "output_type": "stream",
     "text": [
      "\n",
      " 11%|█         | 43/400 [15:50<2:11:39, 22.13s/it]\u001b[A"
     ]
    },
    {
     "name": "stdout",
     "output_type": "stream",
     "text": [
      "Validation set: Loss: 4.48037\n",
      "Validation loss decreased (4.480618 --> 4.480366).  Saving model ...\n",
      "\n",
      "\n",
      "loss: 4.536048  [50182/212015]\n",
      "loss: 4.424076  [101382/212015]\n",
      "loss: 4.506807  [152582/212015]\n",
      "loss: 4.480840  [203782/212015]\n"
     ]
    },
    {
     "name": "stderr",
     "output_type": "stream",
     "text": [
      "\n",
      " 11%|█         | 44/400 [16:12<2:11:55, 22.23s/it]\u001b[A"
     ]
    },
    {
     "name": "stdout",
     "output_type": "stream",
     "text": [
      "Validation set: Loss: 4.48023\n",
      "Validation loss decreased (4.480366 --> 4.480227).  Saving model ...\n",
      "\n",
      "\n",
      "loss: 4.572595  [50182/212015]\n",
      "loss: 4.404764  [101382/212015]\n",
      "loss: 4.474906  [152582/212015]\n",
      "loss: 4.508197  [203782/212015]\n"
     ]
    },
    {
     "name": "stderr",
     "output_type": "stream",
     "text": [
      "\n",
      " 11%|█▏        | 45/400 [16:34<2:10:55, 22.13s/it]\u001b[A"
     ]
    },
    {
     "name": "stdout",
     "output_type": "stream",
     "text": [
      "Validation set: Loss: 4.47991\n",
      "Validation loss decreased (4.480227 --> 4.479910).  Saving model ...\n",
      "\n",
      "\n",
      "loss: 4.496694  [50182/212015]\n",
      "loss: 4.475076  [101382/212015]\n",
      "loss: 4.509308  [152582/212015]\n",
      "loss: 4.472162  [203782/212015]\n"
     ]
    },
    {
     "name": "stderr",
     "output_type": "stream",
     "text": [
      "\n",
      " 12%|█▏        | 46/400 [16:56<2:10:25, 22.11s/it]\u001b[A"
     ]
    },
    {
     "name": "stdout",
     "output_type": "stream",
     "text": [
      "Validation set: Loss: 4.47973\n",
      "Validation loss decreased (4.479910 --> 4.479727).  Saving model ...\n",
      "\n",
      "\n",
      "loss: 4.508971  [50182/212015]\n",
      "loss: 4.494609  [101382/212015]\n",
      "loss: 4.466201  [152582/212015]\n",
      "loss: 4.459542  [203782/212015]\n"
     ]
    },
    {
     "name": "stderr",
     "output_type": "stream",
     "text": [
      "\n",
      " 12%|█▏        | 47/400 [17:18<2:10:07, 22.12s/it]\u001b[A"
     ]
    },
    {
     "name": "stdout",
     "output_type": "stream",
     "text": [
      "Validation set: Loss: 4.47958\n",
      "Validation loss decreased (4.479727 --> 4.479579).  Saving model ...\n",
      "\n",
      "\n",
      "loss: 4.511930  [50182/212015]\n",
      "loss: 4.474861  [101382/212015]\n",
      "loss: 4.464256  [152582/212015]\n",
      "loss: 4.491468  [203782/212015]\n"
     ]
    },
    {
     "name": "stderr",
     "output_type": "stream",
     "text": [
      "\n",
      " 12%|█▏        | 48/400 [17:41<2:10:14, 22.20s/it]\u001b[A"
     ]
    },
    {
     "name": "stdout",
     "output_type": "stream",
     "text": [
      "Validation set: Loss: 4.47922\n",
      "Validation loss decreased (4.479579 --> 4.479217).  Saving model ...\n",
      "\n",
      "\n",
      "loss: 4.456422  [50182/212015]\n",
      "loss: 4.426393  [101382/212015]\n",
      "loss: 4.539756  [152582/212015]\n",
      "loss: 4.524937  [203782/212015]\n"
     ]
    },
    {
     "name": "stderr",
     "output_type": "stream",
     "text": [
      "\n",
      " 12%|█▏        | 49/400 [18:03<2:09:14, 22.09s/it]\u001b[A"
     ]
    },
    {
     "name": "stdout",
     "output_type": "stream",
     "text": [
      "Validation set: Loss: 4.47909\n",
      "Validation loss decreased (4.479217 --> 4.479089).  Saving model ...\n",
      "\n",
      "\n",
      "loss: 4.522856  [50182/212015]\n",
      "loss: 4.416556  [101382/212015]\n",
      "loss: 4.541709  [152582/212015]\n",
      "loss: 4.463835  [203782/212015]\n"
     ]
    },
    {
     "name": "stderr",
     "output_type": "stream",
     "text": [
      "\n",
      " 12%|█▎        | 50/400 [18:25<2:09:32, 22.21s/it]\u001b[A"
     ]
    },
    {
     "name": "stdout",
     "output_type": "stream",
     "text": [
      "Validation set: Loss: 4.47885\n",
      "Validation loss decreased (4.479089 --> 4.478847).  Saving model ...\n",
      "\n",
      "\n",
      "loss: 4.462804  [50182/212015]\n",
      "loss: 4.475351  [101382/212015]\n",
      "loss: 4.483295  [152582/212015]\n",
      "loss: 4.514092  [203782/212015]\n"
     ]
    },
    {
     "name": "stderr",
     "output_type": "stream",
     "text": [
      "\n",
      " 13%|█▎        | 51/400 [18:47<2:08:55, 22.16s/it]\u001b[A"
     ]
    },
    {
     "name": "stdout",
     "output_type": "stream",
     "text": [
      "Validation set: Loss: 4.47860\n",
      "Validation loss decreased (4.478847 --> 4.478602).  Saving model ...\n",
      "\n",
      "\n",
      "loss: 4.486042  [50182/212015]\n",
      "loss: 4.473651  [101382/212015]\n",
      "loss: 4.514326  [152582/212015]\n",
      "loss: 4.449719  [203782/212015]\n"
     ]
    },
    {
     "name": "stderr",
     "output_type": "stream",
     "text": [
      "\n",
      " 13%|█▎        | 52/400 [19:09<2:08:25, 22.14s/it]\u001b[A"
     ]
    },
    {
     "name": "stdout",
     "output_type": "stream",
     "text": [
      "Validation set: Loss: 4.47876\n",
      "EarlyStopping counter: 1 out of 10\n",
      "\n",
      "\n",
      "loss: 4.403748  [50182/212015]\n",
      "loss: 4.463870  [101382/212015]\n",
      "loss: 4.600674  [152582/212015]\n",
      "loss: 4.572434  [203782/212015]\n"
     ]
    },
    {
     "name": "stderr",
     "output_type": "stream",
     "text": [
      "\n",
      " 13%|█▎        | 53/400 [19:31<2:07:39, 22.07s/it]\u001b[A"
     ]
    },
    {
     "name": "stdout",
     "output_type": "stream",
     "text": [
      "Validation set: Loss: 4.47812\n",
      "Validation loss decreased (4.478602 --> 4.478123).  Saving model ...\n",
      "\n",
      "\n",
      "loss: 4.552926  [50182/212015]\n",
      "loss: 4.529105  [101382/212015]\n",
      "loss: 4.495390  [152582/212015]\n",
      "loss: 4.553288  [203782/212015]\n"
     ]
    },
    {
     "name": "stderr",
     "output_type": "stream",
     "text": [
      "\n",
      " 14%|█▎        | 54/400 [19:54<2:07:46, 22.16s/it]\u001b[A"
     ]
    },
    {
     "name": "stdout",
     "output_type": "stream",
     "text": [
      "Validation set: Loss: 4.47808\n",
      "Validation loss decreased (4.478123 --> 4.478082).  Saving model ...\n",
      "\n",
      "\n",
      "loss: 4.530664  [50182/212015]\n",
      "loss: 4.472024  [101382/212015]\n",
      "loss: 4.481329  [152582/212015]\n",
      "loss: 4.474509  [203782/212015]\n"
     ]
    },
    {
     "name": "stderr",
     "output_type": "stream",
     "text": [
      "\n",
      " 14%|█▍        | 55/400 [20:16<2:07:35, 22.19s/it]\u001b[A"
     ]
    },
    {
     "name": "stdout",
     "output_type": "stream",
     "text": [
      "Validation set: Loss: 4.47816\n",
      "EarlyStopping counter: 1 out of 10\n",
      "\n",
      "\n",
      "loss: 4.480688  [50182/212015]\n",
      "loss: 4.413847  [101382/212015]\n",
      "loss: 4.417663  [152582/212015]\n",
      "loss: 4.450057  [203782/212015]\n"
     ]
    },
    {
     "name": "stderr",
     "output_type": "stream",
     "text": [
      "\n",
      " 14%|█▍        | 56/400 [20:38<2:07:19, 22.21s/it]\u001b[A"
     ]
    },
    {
     "name": "stdout",
     "output_type": "stream",
     "text": [
      "Validation set: Loss: 4.47784\n",
      "Validation loss decreased (4.478082 --> 4.477841).  Saving model ...\n",
      "\n",
      "\n",
      "loss: 4.557698  [50182/212015]\n",
      "loss: 4.397471  [101382/212015]\n",
      "loss: 4.500895  [152582/212015]\n",
      "loss: 4.451292  [203782/212015]\n"
     ]
    },
    {
     "name": "stderr",
     "output_type": "stream",
     "text": [
      "\n",
      " 14%|█▍        | 57/400 [21:00<2:07:06, 22.23s/it]\u001b[A"
     ]
    },
    {
     "name": "stdout",
     "output_type": "stream",
     "text": [
      "Validation set: Loss: 4.47777\n",
      "Validation loss decreased (4.477841 --> 4.477772).  Saving model ...\n",
      "\n",
      "\n",
      "loss: 4.499736  [50182/212015]\n",
      "loss: 4.451116  [101382/212015]\n",
      "loss: 4.479167  [152582/212015]\n",
      "loss: 4.543147  [203782/212015]\n"
     ]
    },
    {
     "name": "stderr",
     "output_type": "stream",
     "text": [
      "\n",
      " 14%|█▍        | 58/400 [21:23<2:07:03, 22.29s/it]\u001b[A"
     ]
    },
    {
     "name": "stdout",
     "output_type": "stream",
     "text": [
      "Validation set: Loss: 4.47765\n",
      "Validation loss decreased (4.477772 --> 4.477650).  Saving model ...\n",
      "\n",
      "\n",
      "loss: 4.488542  [50182/212015]\n",
      "loss: 4.438877  [101382/212015]\n",
      "loss: 4.465166  [152582/212015]\n",
      "loss: 4.400380  [203782/212015]\n"
     ]
    },
    {
     "name": "stderr",
     "output_type": "stream",
     "text": [
      "\n",
      " 15%|█▍        | 59/400 [21:45<2:06:19, 22.23s/it]\u001b[A"
     ]
    },
    {
     "name": "stdout",
     "output_type": "stream",
     "text": [
      "Validation set: Loss: 4.47770\n",
      "EarlyStopping counter: 1 out of 10\n",
      "\n",
      "\n",
      "loss: 4.550886  [50182/212015]\n",
      "loss: 4.482799  [101382/212015]\n",
      "loss: 4.445198  [152582/212015]\n",
      "loss: 4.454588  [203782/212015]\n"
     ]
    },
    {
     "name": "stderr",
     "output_type": "stream",
     "text": [
      "\n",
      " 15%|█▌        | 60/400 [22:07<2:05:57, 22.23s/it]\u001b[A"
     ]
    },
    {
     "name": "stdout",
     "output_type": "stream",
     "text": [
      "Validation set: Loss: 4.47724\n",
      "Validation loss decreased (4.477650 --> 4.477237).  Saving model ...\n",
      "\n",
      "\n",
      "loss: 4.554099  [50182/212015]\n",
      "loss: 4.467003  [101382/212015]\n",
      "loss: 4.569459  [152582/212015]\n",
      "loss: 4.478107  [203782/212015]\n"
     ]
    },
    {
     "name": "stderr",
     "output_type": "stream",
     "text": [
      "\n",
      " 15%|█▌        | 61/400 [22:30<2:05:56, 22.29s/it]\u001b[A"
     ]
    },
    {
     "name": "stdout",
     "output_type": "stream",
     "text": [
      "Validation set: Loss: 4.47688\n",
      "Validation loss decreased (4.477237 --> 4.476880).  Saving model ...\n",
      "\n",
      "\n",
      "loss: 4.486595  [50182/212015]\n",
      "loss: 4.509253  [101382/212015]\n",
      "loss: 4.472559  [152582/212015]\n",
      "loss: 4.503267  [203782/212015]\n"
     ]
    },
    {
     "name": "stderr",
     "output_type": "stream",
     "text": [
      "\n",
      " 16%|█▌        | 62/400 [22:52<2:06:30, 22.46s/it]\u001b[A"
     ]
    },
    {
     "name": "stdout",
     "output_type": "stream",
     "text": [
      "Validation set: Loss: 4.47771\n",
      "EarlyStopping counter: 1 out of 10\n",
      "\n",
      "\n",
      "loss: 4.554517  [50182/212015]\n",
      "loss: 4.557221  [101382/212015]\n",
      "loss: 4.514142  [152582/212015]\n",
      "loss: 4.445205  [203782/212015]\n"
     ]
    },
    {
     "name": "stderr",
     "output_type": "stream",
     "text": [
      "\n",
      " 16%|█▌        | 63/400 [23:14<2:05:14, 22.30s/it]\u001b[A"
     ]
    },
    {
     "name": "stdout",
     "output_type": "stream",
     "text": [
      "Validation set: Loss: 4.47721\n",
      "EarlyStopping counter: 2 out of 10\n",
      "\n",
      "\n",
      "loss: 4.507871  [50182/212015]\n",
      "loss: 4.415761  [101382/212015]\n",
      "loss: 4.462220  [152582/212015]\n",
      "loss: 4.515353  [203782/212015]\n"
     ]
    },
    {
     "name": "stderr",
     "output_type": "stream",
     "text": [
      "\n",
      " 16%|█▌        | 64/400 [23:36<2:04:30, 22.23s/it]\u001b[A"
     ]
    },
    {
     "name": "stdout",
     "output_type": "stream",
     "text": [
      "Validation set: Loss: 4.47699\n",
      "EarlyStopping counter: 3 out of 10\n",
      "\n",
      "\n",
      "loss: 4.510378  [50182/212015]\n",
      "loss: 4.434761  [101382/212015]\n",
      "loss: 4.483571  [152582/212015]\n",
      "loss: 4.451552  [203782/212015]\n"
     ]
    },
    {
     "name": "stderr",
     "output_type": "stream",
     "text": [
      "\n",
      " 16%|█▋        | 65/400 [23:59<2:04:00, 22.21s/it]\u001b[A"
     ]
    },
    {
     "name": "stdout",
     "output_type": "stream",
     "text": [
      "Validation set: Loss: 4.47738\n",
      "EarlyStopping counter: 4 out of 10\n",
      "\n",
      "\n",
      "loss: 4.535033  [50182/212015]\n",
      "loss: 4.484239  [101382/212015]\n",
      "loss: 4.425101  [152582/212015]\n",
      "loss: 4.443346  [203782/212015]\n"
     ]
    },
    {
     "name": "stderr",
     "output_type": "stream",
     "text": [
      "\n",
      " 16%|█▋        | 66/400 [24:21<2:03:27, 22.18s/it]\u001b[A"
     ]
    },
    {
     "name": "stdout",
     "output_type": "stream",
     "text": [
      "Validation set: Loss: 4.47673\n",
      "Validation loss decreased (4.476880 --> 4.476730).  Saving model ...\n",
      "\n",
      "\n",
      "loss: 4.439755  [50182/212015]\n",
      "loss: 4.537090  [101382/212015]\n",
      "loss: 4.477410  [152582/212015]\n",
      "loss: 4.516153  [203782/212015]\n"
     ]
    },
    {
     "name": "stderr",
     "output_type": "stream",
     "text": [
      "\n",
      " 17%|█▋        | 67/400 [24:43<2:02:47, 22.12s/it]\u001b[A"
     ]
    },
    {
     "name": "stdout",
     "output_type": "stream",
     "text": [
      "Validation set: Loss: 4.47623\n",
      "Validation loss decreased (4.476730 --> 4.476227).  Saving model ...\n",
      "\n",
      "\n",
      "loss: 4.512684  [50182/212015]\n",
      "loss: 4.548066  [101382/212015]\n",
      "loss: 4.480908  [152582/212015]\n",
      "loss: 4.578617  [203782/212015]\n"
     ]
    },
    {
     "name": "stderr",
     "output_type": "stream",
     "text": [
      "\n",
      " 17%|█▋        | 68/400 [25:05<2:03:07, 22.25s/it]\u001b[A"
     ]
    },
    {
     "name": "stdout",
     "output_type": "stream",
     "text": [
      "Validation set: Loss: 4.47639\n",
      "EarlyStopping counter: 1 out of 10\n",
      "\n",
      "\n",
      "loss: 4.488917  [50182/212015]\n",
      "loss: 4.441323  [101382/212015]\n",
      "loss: 4.449806  [152582/212015]\n",
      "loss: 4.426715  [203782/212015]\n"
     ]
    },
    {
     "name": "stderr",
     "output_type": "stream",
     "text": [
      "\n",
      " 17%|█▋        | 69/400 [25:27<2:02:18, 22.17s/it]\u001b[A"
     ]
    },
    {
     "name": "stdout",
     "output_type": "stream",
     "text": [
      "Validation set: Loss: 4.47619\n",
      "Validation loss decreased (4.476227 --> 4.476187).  Saving model ...\n",
      "\n",
      "\n",
      "loss: 4.547090  [50182/212015]\n",
      "loss: 4.370507  [101382/212015]\n",
      "loss: 4.442717  [152582/212015]\n",
      "loss: 4.462024  [203782/212015]\n"
     ]
    },
    {
     "name": "stderr",
     "output_type": "stream",
     "text": [
      "\n",
      " 18%|█▊        | 70/400 [25:49<2:01:56, 22.17s/it]\u001b[A"
     ]
    },
    {
     "name": "stdout",
     "output_type": "stream",
     "text": [
      "Validation set: Loss: 4.47629\n",
      "EarlyStopping counter: 1 out of 10\n",
      "\n",
      "\n",
      "loss: 4.458561  [50182/212015]\n",
      "loss: 4.516670  [101382/212015]\n",
      "loss: 4.497830  [152582/212015]\n",
      "loss: 4.496463  [203782/212015]\n"
     ]
    },
    {
     "name": "stderr",
     "output_type": "stream",
     "text": [
      "\n",
      " 18%|█▊        | 71/400 [26:11<2:01:10, 22.10s/it]\u001b[A"
     ]
    },
    {
     "name": "stdout",
     "output_type": "stream",
     "text": [
      "Validation set: Loss: 4.47606\n",
      "Validation loss decreased (4.476187 --> 4.476064).  Saving model ...\n",
      "\n",
      "\n",
      "loss: 4.566029  [50182/212015]\n",
      "loss: 4.415277  [101382/212015]\n",
      "loss: 4.526818  [152582/212015]\n",
      "loss: 4.438865  [203782/212015]\n"
     ]
    },
    {
     "name": "stderr",
     "output_type": "stream",
     "text": [
      "\n",
      " 18%|█▊        | 72/400 [26:34<2:01:10, 22.17s/it]\u001b[A"
     ]
    },
    {
     "name": "stdout",
     "output_type": "stream",
     "text": [
      "Validation set: Loss: 4.47587\n",
      "Validation loss decreased (4.476064 --> 4.475870).  Saving model ...\n",
      "\n",
      "\n",
      "loss: 4.488150  [50182/212015]\n",
      "loss: 4.498918  [101382/212015]\n",
      "loss: 4.547719  [152582/212015]\n",
      "loss: 4.491724  [203782/212015]\n"
     ]
    },
    {
     "name": "stderr",
     "output_type": "stream",
     "text": [
      "\n",
      " 18%|█▊        | 73/400 [26:56<2:00:30, 22.11s/it]\u001b[A"
     ]
    },
    {
     "name": "stdout",
     "output_type": "stream",
     "text": [
      "Validation set: Loss: 4.47584\n",
      "Validation loss decreased (4.475870 --> 4.475839).  Saving model ...\n",
      "\n",
      "\n",
      "loss: 4.497619  [50182/212015]\n",
      "loss: 4.559296  [101382/212015]\n",
      "loss: 4.410164  [152582/212015]\n",
      "loss: 4.475091  [203782/212015]\n"
     ]
    },
    {
     "name": "stderr",
     "output_type": "stream",
     "text": [
      "\n",
      " 18%|█▊        | 74/400 [27:18<2:00:20, 22.15s/it]\u001b[A"
     ]
    },
    {
     "name": "stdout",
     "output_type": "stream",
     "text": [
      "Validation set: Loss: 4.47609\n",
      "EarlyStopping counter: 1 out of 10\n",
      "\n",
      "\n",
      "loss: 4.509385  [50182/212015]\n",
      "loss: 4.519068  [101382/212015]\n",
      "loss: 4.500621  [152582/212015]\n",
      "loss: 4.426831  [203782/212015]\n"
     ]
    },
    {
     "name": "stderr",
     "output_type": "stream",
     "text": [
      "\n",
      " 19%|█▉        | 75/400 [27:40<2:00:19, 22.21s/it]\u001b[A"
     ]
    },
    {
     "name": "stdout",
     "output_type": "stream",
     "text": [
      "Validation set: Loss: 4.47570\n",
      "Validation loss decreased (4.475839 --> 4.475697).  Saving model ...\n",
      "\n",
      "\n",
      "loss: 4.502272  [50182/212015]\n",
      "loss: 4.483961  [101382/212015]\n",
      "loss: 4.466930  [152582/212015]\n",
      "loss: 4.482656  [203782/212015]\n"
     ]
    },
    {
     "name": "stderr",
     "output_type": "stream",
     "text": [
      "\n",
      " 19%|█▉        | 76/400 [28:02<1:59:50, 22.19s/it]\u001b[A"
     ]
    },
    {
     "name": "stdout",
     "output_type": "stream",
     "text": [
      "Validation set: Loss: 4.47534\n",
      "Validation loss decreased (4.475697 --> 4.475340).  Saving model ...\n",
      "\n",
      "\n",
      "loss: 4.463049  [50182/212015]\n",
      "loss: 4.500350  [101382/212015]\n",
      "loss: 4.518622  [152582/212015]\n",
      "loss: 4.497389  [203782/212015]\n"
     ]
    },
    {
     "name": "stderr",
     "output_type": "stream",
     "text": [
      "\n",
      " 19%|█▉        | 77/400 [28:24<1:59:04, 22.12s/it]\u001b[A"
     ]
    },
    {
     "name": "stdout",
     "output_type": "stream",
     "text": [
      "Validation set: Loss: 4.47594\n",
      "EarlyStopping counter: 1 out of 10\n",
      "\n",
      "\n",
      "loss: 4.459683  [50182/212015]\n",
      "loss: 4.548665  [101382/212015]\n",
      "loss: 4.491249  [152582/212015]\n",
      "loss: 4.422425  [203782/212015]\n"
     ]
    },
    {
     "name": "stderr",
     "output_type": "stream",
     "text": [
      "\n",
      " 20%|█▉        | 78/400 [28:46<1:58:42, 22.12s/it]\u001b[A"
     ]
    },
    {
     "name": "stdout",
     "output_type": "stream",
     "text": [
      "Validation set: Loss: 4.47537\n",
      "EarlyStopping counter: 2 out of 10\n",
      "\n",
      "\n",
      "loss: 4.467762  [50182/212015]\n",
      "loss: 4.590491  [101382/212015]\n",
      "loss: 4.513707  [152582/212015]\n",
      "loss: 4.484679  [203782/212015]\n"
     ]
    },
    {
     "name": "stderr",
     "output_type": "stream",
     "text": [
      "\n",
      " 20%|█▉        | 79/400 [29:08<1:58:09, 22.09s/it]\u001b[A"
     ]
    },
    {
     "name": "stdout",
     "output_type": "stream",
     "text": [
      "Validation set: Loss: 4.47562\n",
      "EarlyStopping counter: 3 out of 10\n",
      "\n",
      "\n",
      "loss: 4.526573  [50182/212015]\n",
      "loss: 4.534611  [101382/212015]\n",
      "loss: 4.488830  [152582/212015]\n",
      "loss: 4.527447  [203782/212015]\n"
     ]
    },
    {
     "name": "stderr",
     "output_type": "stream",
     "text": [
      "\n",
      " 20%|██        | 80/400 [29:31<1:57:44, 22.08s/it]\u001b[A"
     ]
    },
    {
     "name": "stdout",
     "output_type": "stream",
     "text": [
      "Validation set: Loss: 4.47567\n",
      "EarlyStopping counter: 4 out of 10\n",
      "\n",
      "\n",
      "loss: 4.437725  [50182/212015]\n",
      "loss: 4.484349  [101382/212015]\n",
      "loss: 4.494374  [152582/212015]\n",
      "loss: 4.471488  [203782/212015]\n"
     ]
    },
    {
     "name": "stderr",
     "output_type": "stream",
     "text": [
      "\n",
      " 20%|██        | 81/400 [29:52<1:57:02, 22.01s/it]\u001b[A"
     ]
    },
    {
     "name": "stdout",
     "output_type": "stream",
     "text": [
      "Validation set: Loss: 4.47555\n",
      "EarlyStopping counter: 5 out of 10\n",
      "\n",
      "\n",
      "loss: 4.493922  [50182/212015]\n",
      "loss: 4.563942  [101382/212015]\n",
      "loss: 4.476906  [152582/212015]\n",
      "loss: 4.482445  [203782/212015]\n"
     ]
    },
    {
     "name": "stderr",
     "output_type": "stream",
     "text": [
      "\n",
      " 20%|██        | 82/400 [30:15<1:57:00, 22.08s/it]\u001b[A"
     ]
    },
    {
     "name": "stdout",
     "output_type": "stream",
     "text": [
      "Validation set: Loss: 4.47510\n",
      "Validation loss decreased (4.475340 --> 4.475101).  Saving model ...\n",
      "\n",
      "\n",
      "loss: 4.485311  [50182/212015]\n",
      "loss: 4.550997  [101382/212015]\n",
      "loss: 4.485060  [152582/212015]\n",
      "loss: 4.507399  [203782/212015]\n"
     ]
    },
    {
     "name": "stderr",
     "output_type": "stream",
     "text": [
      "\n",
      " 21%|██        | 83/400 [30:36<1:56:15, 22.00s/it]\u001b[A"
     ]
    },
    {
     "name": "stdout",
     "output_type": "stream",
     "text": [
      "Validation set: Loss: 4.47512\n",
      "EarlyStopping counter: 1 out of 10\n",
      "\n",
      "\n",
      "loss: 4.456294  [50182/212015]\n",
      "loss: 4.496650  [101382/212015]\n",
      "loss: 4.484174  [152582/212015]\n",
      "loss: 4.452932  [203782/212015]\n"
     ]
    },
    {
     "name": "stderr",
     "output_type": "stream",
     "text": [
      "\n",
      " 21%|██        | 84/400 [30:59<1:56:13, 22.07s/it]\u001b[A"
     ]
    },
    {
     "name": "stdout",
     "output_type": "stream",
     "text": [
      "Validation set: Loss: 4.47547\n",
      "EarlyStopping counter: 2 out of 10\n",
      "\n",
      "\n",
      "loss: 4.416686  [50182/212015]\n",
      "loss: 4.545315  [101382/212015]\n",
      "loss: 4.519691  [152582/212015]\n",
      "loss: 4.495084  [203782/212015]\n"
     ]
    },
    {
     "name": "stderr",
     "output_type": "stream",
     "text": [
      "\n",
      " 21%|██▏       | 85/400 [31:21<1:56:02, 22.10s/it]\u001b[A"
     ]
    },
    {
     "name": "stdout",
     "output_type": "stream",
     "text": [
      "Validation set: Loss: 4.47519\n",
      "EarlyStopping counter: 3 out of 10\n",
      "\n",
      "\n",
      "loss: 4.588602  [50182/212015]\n",
      "loss: 4.413213  [101382/212015]\n",
      "loss: 4.537506  [152582/212015]\n",
      "loss: 4.493312  [203782/212015]\n"
     ]
    },
    {
     "name": "stderr",
     "output_type": "stream",
     "text": [
      "\n",
      " 22%|██▏       | 86/400 [31:43<1:55:10, 22.01s/it]\u001b[A"
     ]
    },
    {
     "name": "stdout",
     "output_type": "stream",
     "text": [
      "Validation set: Loss: 4.47485\n",
      "Validation loss decreased (4.475101 --> 4.474852).  Saving model ...\n",
      "\n",
      "\n",
      "loss: 4.415659  [50182/212015]\n",
      "loss: 4.525884  [101382/212015]\n",
      "loss: 4.551546  [152582/212015]\n",
      "loss: 4.481417  [203782/212015]\n"
     ]
    },
    {
     "name": "stderr",
     "output_type": "stream",
     "text": [
      "\n",
      " 22%|██▏       | 87/400 [32:05<1:54:46, 22.00s/it]\u001b[A"
     ]
    },
    {
     "name": "stdout",
     "output_type": "stream",
     "text": [
      "Validation set: Loss: 4.47507\n",
      "EarlyStopping counter: 1 out of 10\n",
      "\n",
      "\n",
      "loss: 4.469387  [50182/212015]\n",
      "loss: 4.474376  [101382/212015]\n",
      "loss: 4.475707  [152582/212015]\n",
      "loss: 4.543773  [203782/212015]\n"
     ]
    },
    {
     "name": "stderr",
     "output_type": "stream",
     "text": [
      "\n",
      " 22%|██▏       | 88/400 [32:27<1:54:39, 22.05s/it]\u001b[A"
     ]
    },
    {
     "name": "stdout",
     "output_type": "stream",
     "text": [
      "Validation set: Loss: 4.47494\n",
      "EarlyStopping counter: 2 out of 10\n",
      "\n",
      "\n",
      "loss: 4.492516  [50182/212015]\n",
      "loss: 4.482875  [101382/212015]\n",
      "loss: 4.518524  [152582/212015]\n",
      "loss: 4.464239  [203782/212015]\n"
     ]
    },
    {
     "name": "stderr",
     "output_type": "stream",
     "text": [
      "\n",
      " 22%|██▏       | 89/400 [32:49<1:53:52, 21.97s/it]\u001b[A"
     ]
    },
    {
     "name": "stdout",
     "output_type": "stream",
     "text": [
      "Validation set: Loss: 4.47512\n",
      "EarlyStopping counter: 3 out of 10\n",
      "\n",
      "\n",
      "loss: 4.473405  [50182/212015]\n",
      "loss: 4.489765  [101382/212015]\n",
      "loss: 4.502176  [152582/212015]\n",
      "loss: 4.464777  [203782/212015]\n"
     ]
    },
    {
     "name": "stderr",
     "output_type": "stream",
     "text": [
      "\n",
      " 22%|██▎       | 90/400 [33:11<1:53:39, 22.00s/it]\u001b[A"
     ]
    },
    {
     "name": "stdout",
     "output_type": "stream",
     "text": [
      "Validation set: Loss: 4.47489\n",
      "EarlyStopping counter: 4 out of 10\n",
      "\n",
      "\n",
      "loss: 4.547277  [50182/212015]\n",
      "loss: 4.526070  [101382/212015]\n",
      "loss: 4.520861  [152582/212015]\n",
      "loss: 4.488351  [203782/212015]\n"
     ]
    },
    {
     "name": "stderr",
     "output_type": "stream",
     "text": [
      "\n",
      " 23%|██▎       | 91/400 [33:33<1:53:16, 22.00s/it]\u001b[A"
     ]
    },
    {
     "name": "stdout",
     "output_type": "stream",
     "text": [
      "Validation set: Loss: 4.47479\n",
      "Validation loss decreased (4.474852 --> 4.474785).  Saving model ...\n",
      "\n",
      "\n",
      "loss: 4.522933  [50182/212015]\n",
      "loss: 4.512431  [101382/212015]\n",
      "loss: 4.525283  [152582/212015]\n",
      "loss: 4.400130  [203782/212015]\n"
     ]
    },
    {
     "name": "stderr",
     "output_type": "stream",
     "text": [
      "\n",
      " 23%|██▎       | 92/400 [33:55<1:52:52, 21.99s/it]\u001b[A"
     ]
    },
    {
     "name": "stdout",
     "output_type": "stream",
     "text": [
      "Validation set: Loss: 4.47491\n",
      "EarlyStopping counter: 1 out of 10\n",
      "\n",
      "\n",
      "loss: 4.512851  [50182/212015]\n",
      "loss: 4.487633  [101382/212015]\n",
      "loss: 4.516480  [152582/212015]\n",
      "loss: 4.538949  [203782/212015]\n"
     ]
    },
    {
     "name": "stderr",
     "output_type": "stream",
     "text": [
      "\n",
      " 23%|██▎       | 93/400 [34:16<1:52:16, 21.94s/it]\u001b[A"
     ]
    },
    {
     "name": "stdout",
     "output_type": "stream",
     "text": [
      "Validation set: Loss: 4.47463\n",
      "Validation loss decreased (4.474785 --> 4.474632).  Saving model ...\n",
      "\n",
      "\n",
      "loss: 4.508039  [50182/212015]\n",
      "loss: 4.530091  [101382/212015]\n",
      "loss: 4.544126  [152582/212015]\n",
      "loss: 4.469088  [203782/212015]\n"
     ]
    },
    {
     "name": "stderr",
     "output_type": "stream",
     "text": [
      "\n",
      " 24%|██▎       | 94/400 [34:39<1:52:38, 22.09s/it]\u001b[A"
     ]
    },
    {
     "name": "stdout",
     "output_type": "stream",
     "text": [
      "Validation set: Loss: 4.47496\n",
      "EarlyStopping counter: 1 out of 10\n",
      "\n",
      "\n",
      "loss: 4.490530  [50182/212015]\n",
      "loss: 4.416260  [101382/212015]\n",
      "loss: 4.434173  [152582/212015]\n",
      "loss: 4.494061  [203782/212015]\n"
     ]
    },
    {
     "name": "stderr",
     "output_type": "stream",
     "text": [
      "\n",
      " 24%|██▍       | 95/400 [35:01<1:52:34, 22.14s/it]\u001b[A"
     ]
    },
    {
     "name": "stdout",
     "output_type": "stream",
     "text": [
      "Validation set: Loss: 4.47434\n",
      "Validation loss decreased (4.474632 --> 4.474341).  Saving model ...\n",
      "\n",
      "\n",
      "loss: 4.476817  [50182/212015]\n",
      "loss: 4.480533  [101382/212015]\n",
      "loss: 4.423564  [152582/212015]\n",
      "loss: 4.547691  [203782/212015]\n"
     ]
    },
    {
     "name": "stderr",
     "output_type": "stream",
     "text": [
      "\n",
      " 24%|██▍       | 96/400 [35:23<1:51:59, 22.10s/it]\u001b[A"
     ]
    },
    {
     "name": "stdout",
     "output_type": "stream",
     "text": [
      "Validation set: Loss: 4.47468\n",
      "EarlyStopping counter: 1 out of 10\n",
      "\n",
      "\n",
      "loss: 4.432293  [50182/212015]\n",
      "loss: 4.439949  [101382/212015]\n",
      "loss: 4.555099  [152582/212015]\n",
      "loss: 4.468081  [203782/212015]\n"
     ]
    },
    {
     "name": "stderr",
     "output_type": "stream",
     "text": [
      "\n",
      " 24%|██▍       | 97/400 [35:45<1:51:45, 22.13s/it]\u001b[A"
     ]
    },
    {
     "name": "stdout",
     "output_type": "stream",
     "text": [
      "Validation set: Loss: 4.47463\n",
      "EarlyStopping counter: 2 out of 10\n",
      "\n",
      "\n",
      "loss: 4.472915  [50182/212015]\n",
      "loss: 4.454455  [101382/212015]\n",
      "loss: 4.530545  [152582/212015]\n",
      "loss: 4.477121  [203782/212015]\n"
     ]
    },
    {
     "name": "stderr",
     "output_type": "stream",
     "text": [
      "\n",
      " 24%|██▍       | 98/400 [36:08<1:51:37, 22.18s/it]\u001b[A"
     ]
    },
    {
     "name": "stdout",
     "output_type": "stream",
     "text": [
      "Validation set: Loss: 4.47448\n",
      "EarlyStopping counter: 3 out of 10\n",
      "\n",
      "\n",
      "loss: 4.482160  [50182/212015]\n",
      "loss: 4.467510  [101382/212015]\n",
      "loss: 4.598310  [152582/212015]\n",
      "loss: 4.407097  [203782/212015]\n"
     ]
    },
    {
     "name": "stderr",
     "output_type": "stream",
     "text": [
      "\n",
      " 25%|██▍       | 99/400 [36:29<1:50:31, 22.03s/it]\u001b[A"
     ]
    },
    {
     "name": "stdout",
     "output_type": "stream",
     "text": [
      "Validation set: Loss: 4.47428\n",
      "Validation loss decreased (4.474341 --> 4.474280).  Saving model ...\n",
      "\n",
      "\n",
      "loss: 4.562947  [50182/212015]\n",
      "loss: 4.518651  [101382/212015]\n",
      "loss: 4.451874  [152582/212015]\n",
      "loss: 4.474132  [203782/212015]\n"
     ]
    },
    {
     "name": "stderr",
     "output_type": "stream",
     "text": [
      "\n",
      " 25%|██▌       | 100/400 [36:52<1:50:30, 22.10s/it]\u001b[A"
     ]
    },
    {
     "name": "stdout",
     "output_type": "stream",
     "text": [
      "Validation set: Loss: 4.47428\n",
      "Validation loss decreased (4.474280 --> 4.474279).  Saving model ...\n",
      "\n",
      "\n",
      "loss: 4.493915  [50182/212015]\n",
      "loss: 4.478910  [101382/212015]\n",
      "loss: 4.438725  [152582/212015]\n",
      "loss: 4.575382  [203782/212015]\n"
     ]
    },
    {
     "name": "stderr",
     "output_type": "stream",
     "text": [
      "\n",
      " 25%|██▌       | 101/400 [37:14<1:50:03, 22.08s/it]\u001b[A"
     ]
    },
    {
     "name": "stdout",
     "output_type": "stream",
     "text": [
      "Validation set: Loss: 4.47442\n",
      "EarlyStopping counter: 1 out of 10\n",
      "\n",
      "\n",
      "loss: 4.509358  [50182/212015]\n",
      "loss: 4.481125  [101382/212015]\n",
      "loss: 4.445958  [152582/212015]\n",
      "loss: 4.487816  [203782/212015]\n"
     ]
    },
    {
     "name": "stderr",
     "output_type": "stream",
     "text": [
      "\n",
      " 26%|██▌       | 102/400 [37:35<1:49:14, 22.00s/it]\u001b[A"
     ]
    },
    {
     "name": "stdout",
     "output_type": "stream",
     "text": [
      "Validation set: Loss: 4.47423\n",
      "Validation loss decreased (4.474279 --> 4.474229).  Saving model ...\n",
      "\n",
      "\n",
      "loss: 4.537940  [50182/212015]\n",
      "loss: 4.467393  [101382/212015]\n",
      "loss: 4.610016  [152582/212015]\n",
      "loss: 4.419483  [203782/212015]\n"
     ]
    },
    {
     "name": "stderr",
     "output_type": "stream",
     "text": [
      "\n",
      " 26%|██▌       | 103/400 [37:58<1:49:04, 22.03s/it]\u001b[A"
     ]
    },
    {
     "name": "stdout",
     "output_type": "stream",
     "text": [
      "Validation set: Loss: 4.47456\n",
      "EarlyStopping counter: 1 out of 10\n",
      "\n",
      "\n",
      "loss: 4.528559  [50182/212015]\n",
      "loss: 4.529613  [101382/212015]\n",
      "loss: 4.482635  [152582/212015]\n",
      "loss: 4.490077  [203782/212015]\n"
     ]
    },
    {
     "name": "stderr",
     "output_type": "stream",
     "text": [
      "\n",
      " 26%|██▌       | 104/400 [38:20<1:49:01, 22.10s/it]\u001b[A"
     ]
    },
    {
     "name": "stdout",
     "output_type": "stream",
     "text": [
      "Validation set: Loss: 4.47415\n",
      "Validation loss decreased (4.474229 --> 4.474154).  Saving model ...\n",
      "\n",
      "\n",
      "loss: 4.471085  [50182/212015]\n",
      "loss: 4.485041  [101382/212015]\n",
      "loss: 4.456483  [152582/212015]\n",
      "loss: 4.459016  [203782/212015]\n"
     ]
    },
    {
     "name": "stderr",
     "output_type": "stream",
     "text": [
      "\n",
      " 26%|██▋       | 105/400 [38:42<1:48:25, 22.05s/it]\u001b[A"
     ]
    },
    {
     "name": "stdout",
     "output_type": "stream",
     "text": [
      "Validation set: Loss: 4.47408\n",
      "Validation loss decreased (4.474154 --> 4.474084).  Saving model ...\n",
      "\n",
      "\n",
      "loss: 4.469056  [50182/212015]\n",
      "loss: 4.523827  [101382/212015]\n",
      "loss: 4.470584  [152582/212015]\n",
      "loss: 4.500743  [203782/212015]\n"
     ]
    },
    {
     "name": "stderr",
     "output_type": "stream",
     "text": [
      "\n",
      " 26%|██▋       | 106/400 [39:04<1:47:47, 22.00s/it]\u001b[A"
     ]
    },
    {
     "name": "stdout",
     "output_type": "stream",
     "text": [
      "Validation set: Loss: 4.47421\n",
      "EarlyStopping counter: 1 out of 10\n",
      "\n",
      "\n",
      "loss: 4.438253  [50182/212015]\n",
      "loss: 4.450839  [101382/212015]\n",
      "loss: 4.475829  [152582/212015]\n",
      "loss: 4.497742  [203782/212015]\n"
     ]
    },
    {
     "name": "stderr",
     "output_type": "stream",
     "text": [
      "\n",
      " 27%|██▋       | 107/400 [39:26<1:47:27, 22.01s/it]\u001b[A"
     ]
    },
    {
     "name": "stdout",
     "output_type": "stream",
     "text": [
      "Validation set: Loss: 4.47409\n",
      "EarlyStopping counter: 2 out of 10\n",
      "\n",
      "\n",
      "loss: 4.525690  [50182/212015]\n",
      "loss: 4.475778  [101382/212015]\n",
      "loss: 4.475450  [152582/212015]\n",
      "loss: 4.436985  [203782/212015]\n"
     ]
    },
    {
     "name": "stderr",
     "output_type": "stream",
     "text": [
      "\n",
      " 27%|██▋       | 108/400 [39:48<1:47:22, 22.06s/it]\u001b[A"
     ]
    },
    {
     "name": "stdout",
     "output_type": "stream",
     "text": [
      "Validation set: Loss: 4.47431\n",
      "EarlyStopping counter: 3 out of 10\n",
      "\n",
      "\n",
      "loss: 4.467821  [50182/212015]\n",
      "loss: 4.411541  [101382/212015]\n",
      "loss: 4.419162  [152582/212015]\n",
      "loss: 4.443499  [203782/212015]\n"
     ]
    },
    {
     "name": "stderr",
     "output_type": "stream",
     "text": [
      "\n",
      " 27%|██▋       | 109/400 [40:10<1:46:51, 22.03s/it]\u001b[A"
     ]
    },
    {
     "name": "stdout",
     "output_type": "stream",
     "text": [
      "Validation set: Loss: 4.47419\n",
      "EarlyStopping counter: 4 out of 10\n",
      "\n",
      "\n",
      "loss: 4.520143  [50182/212015]\n",
      "loss: 4.487293  [101382/212015]\n",
      "loss: 4.517097  [152582/212015]\n",
      "loss: 4.483340  [203782/212015]\n"
     ]
    },
    {
     "name": "stderr",
     "output_type": "stream",
     "text": [
      "\n",
      " 28%|██▊       | 110/400 [40:32<1:46:47, 22.10s/it]\u001b[A"
     ]
    },
    {
     "name": "stdout",
     "output_type": "stream",
     "text": [
      "Validation set: Loss: 4.47428\n",
      "EarlyStopping counter: 5 out of 10\n",
      "\n",
      "\n",
      "loss: 4.502021  [50182/212015]\n",
      "loss: 4.454999  [101382/212015]\n",
      "loss: 4.583783  [152582/212015]\n",
      "loss: 4.512953  [203782/212015]\n"
     ]
    },
    {
     "name": "stderr",
     "output_type": "stream",
     "text": [
      "\n",
      " 28%|██▊       | 111/400 [40:54<1:46:21, 22.08s/it]\u001b[A"
     ]
    },
    {
     "name": "stdout",
     "output_type": "stream",
     "text": [
      "Validation set: Loss: 4.47428\n",
      "EarlyStopping counter: 6 out of 10\n",
      "\n",
      "\n",
      "loss: 4.430097  [50182/212015]\n",
      "loss: 4.553484  [101382/212015]\n",
      "loss: 4.493785  [152582/212015]\n",
      "loss: 4.548926  [203782/212015]\n"
     ]
    },
    {
     "name": "stderr",
     "output_type": "stream",
     "text": [
      "\n",
      " 28%|██▊       | 112/400 [41:16<1:45:55, 22.07s/it]\u001b[A"
     ]
    },
    {
     "name": "stdout",
     "output_type": "stream",
     "text": [
      "Validation set: Loss: 4.47398\n",
      "Validation loss decreased (4.474084 --> 4.473978).  Saving model ...\n",
      "\n",
      "\n",
      "loss: 4.499730  [50182/212015]\n",
      "loss: 4.553116  [101382/212015]\n",
      "loss: 4.494387  [152582/212015]\n",
      "loss: 4.435945  [203782/212015]\n"
     ]
    },
    {
     "name": "stderr",
     "output_type": "stream",
     "text": [
      "\n",
      " 28%|██▊       | 113/400 [41:38<1:45:55, 22.14s/it]\u001b[A"
     ]
    },
    {
     "name": "stdout",
     "output_type": "stream",
     "text": [
      "Validation set: Loss: 4.47406\n",
      "EarlyStopping counter: 1 out of 10\n",
      "\n",
      "\n",
      "loss: 4.449989  [50182/212015]\n",
      "loss: 4.556241  [101382/212015]\n",
      "loss: 4.461770  [152582/212015]\n",
      "loss: 4.452421  [203782/212015]\n"
     ]
    },
    {
     "name": "stderr",
     "output_type": "stream",
     "text": [
      "\n",
      " 28%|██▊       | 114/400 [42:01<1:45:40, 22.17s/it]\u001b[A"
     ]
    },
    {
     "name": "stdout",
     "output_type": "stream",
     "text": [
      "Validation set: Loss: 4.47409\n",
      "EarlyStopping counter: 2 out of 10\n",
      "\n",
      "\n",
      "loss: 4.468623  [50182/212015]\n",
      "loss: 4.480966  [101382/212015]\n",
      "loss: 4.497065  [152582/212015]\n",
      "loss: 4.473611  [203782/212015]\n"
     ]
    },
    {
     "name": "stderr",
     "output_type": "stream",
     "text": [
      "\n",
      " 29%|██▉       | 115/400 [42:23<1:45:34, 22.23s/it]\u001b[A"
     ]
    },
    {
     "name": "stdout",
     "output_type": "stream",
     "text": [
      "Validation set: Loss: 4.47380\n",
      "Validation loss decreased (4.473978 --> 4.473800).  Saving model ...\n",
      "\n",
      "\n",
      "loss: 4.622769  [50182/212015]\n",
      "loss: 4.438374  [101382/212015]\n",
      "loss: 4.453552  [152582/212015]\n",
      "loss: 4.503389  [203782/212015]\n"
     ]
    },
    {
     "name": "stderr",
     "output_type": "stream",
     "text": [
      "\n",
      " 29%|██▉       | 116/400 [42:45<1:44:52, 22.16s/it]\u001b[A"
     ]
    },
    {
     "name": "stdout",
     "output_type": "stream",
     "text": [
      "Validation set: Loss: 4.47417\n",
      "EarlyStopping counter: 1 out of 10\n",
      "\n",
      "\n",
      "loss: 4.539414  [50182/212015]\n",
      "loss: 4.524566  [101382/212015]\n",
      "loss: 4.499595  [152582/212015]\n",
      "loss: 4.383085  [203782/212015]\n"
     ]
    },
    {
     "name": "stderr",
     "output_type": "stream",
     "text": [
      "\n",
      " 29%|██▉       | 117/400 [43:07<1:44:22, 22.13s/it]\u001b[A"
     ]
    },
    {
     "name": "stdout",
     "output_type": "stream",
     "text": [
      "Validation set: Loss: 4.47381\n",
      "EarlyStopping counter: 2 out of 10\n",
      "\n",
      "\n",
      "loss: 4.516813  [50182/212015]\n",
      "loss: 4.491856  [101382/212015]\n",
      "loss: 4.478992  [152582/212015]\n",
      "loss: 4.568599  [203782/212015]\n"
     ]
    },
    {
     "name": "stderr",
     "output_type": "stream",
     "text": [
      "\n",
      " 30%|██▉       | 118/400 [43:29<1:44:05, 22.15s/it]\u001b[A"
     ]
    },
    {
     "name": "stdout",
     "output_type": "stream",
     "text": [
      "Validation set: Loss: 4.47405\n",
      "EarlyStopping counter: 3 out of 10\n",
      "\n",
      "\n",
      "loss: 4.490730  [50182/212015]\n",
      "loss: 4.514904  [101382/212015]\n",
      "loss: 4.468814  [152582/212015]\n",
      "loss: 4.484293  [203782/212015]\n"
     ]
    },
    {
     "name": "stderr",
     "output_type": "stream",
     "text": [
      "\n",
      " 30%|██▉       | 119/400 [43:51<1:43:16, 22.05s/it]\u001b[A"
     ]
    },
    {
     "name": "stdout",
     "output_type": "stream",
     "text": [
      "Validation set: Loss: 4.47421\n",
      "EarlyStopping counter: 4 out of 10\n",
      "\n",
      "\n",
      "loss: 4.459888  [50182/212015]\n",
      "loss: 4.397416  [101382/212015]\n",
      "loss: 4.459404  [152582/212015]\n",
      "loss: 4.480289  [203782/212015]\n"
     ]
    },
    {
     "name": "stderr",
     "output_type": "stream",
     "text": [
      "\n",
      " 30%|███       | 120/400 [44:13<1:43:08, 22.10s/it]\u001b[A"
     ]
    },
    {
     "name": "stdout",
     "output_type": "stream",
     "text": [
      "Validation set: Loss: 4.47408\n",
      "EarlyStopping counter: 5 out of 10\n",
      "\n",
      "\n",
      "loss: 4.539715  [50182/212015]\n",
      "loss: 4.470210  [101382/212015]\n",
      "loss: 4.535307  [152582/212015]\n",
      "loss: 4.460744  [203782/212015]\n"
     ]
    },
    {
     "name": "stderr",
     "output_type": "stream",
     "text": [
      "\n",
      " 30%|███       | 121/400 [44:35<1:42:32, 22.05s/it]\u001b[A"
     ]
    },
    {
     "name": "stdout",
     "output_type": "stream",
     "text": [
      "Validation set: Loss: 4.47410\n",
      "EarlyStopping counter: 6 out of 10\n",
      "\n",
      "\n",
      "loss: 4.412283  [50182/212015]\n",
      "loss: 4.428505  [101382/212015]\n",
      "loss: 4.573866  [152582/212015]\n",
      "loss: 4.478756  [203782/212015]\n"
     ]
    },
    {
     "name": "stderr",
     "output_type": "stream",
     "text": [
      "\n",
      " 30%|███       | 122/400 [44:57<1:42:09, 22.05s/it]\u001b[A"
     ]
    },
    {
     "name": "stdout",
     "output_type": "stream",
     "text": [
      "Validation set: Loss: 4.47408\n",
      "EarlyStopping counter: 7 out of 10\n",
      "\n",
      "\n",
      "loss: 4.420635  [50182/212015]\n",
      "loss: 4.403763  [101382/212015]\n",
      "loss: 4.602770  [152582/212015]\n",
      "loss: 4.447735  [203782/212015]\n"
     ]
    },
    {
     "name": "stderr",
     "output_type": "stream",
     "text": [
      "\n",
      " 31%|███       | 123/400 [45:19<1:41:38, 22.01s/it]\u001b[A"
     ]
    },
    {
     "name": "stdout",
     "output_type": "stream",
     "text": [
      "Validation set: Loss: 4.47386\n",
      "EarlyStopping counter: 8 out of 10\n",
      "\n",
      "\n",
      "loss: 4.492831  [50182/212015]\n",
      "loss: 4.488567  [101382/212015]\n",
      "loss: 4.392725  [152582/212015]\n",
      "loss: 4.497698  [203782/212015]\n"
     ]
    },
    {
     "name": "stderr",
     "output_type": "stream",
     "text": [
      "\n",
      " 31%|███       | 124/400 [45:41<1:41:31, 22.07s/it]\u001b[A"
     ]
    },
    {
     "name": "stdout",
     "output_type": "stream",
     "text": [
      "Validation set: Loss: 4.47385\n",
      "EarlyStopping counter: 9 out of 10\n",
      "\n",
      "\n",
      "loss: 4.522091  [50182/212015]\n",
      "loss: 4.469937  [101382/212015]\n",
      "loss: 4.497085  [152582/212015]\n",
      "loss: 4.535632  [203782/212015]\n"
     ]
    },
    {
     "name": "stderr",
     "output_type": "stream",
     "text": [
      "\n",
      " 31%|███▏      | 125/400 [46:03<1:40:50, 22.00s/it]\u001b[A"
     ]
    },
    {
     "name": "stdout",
     "output_type": "stream",
     "text": [
      "Validation set: Loss: 4.47379\n",
      "Validation loss decreased (4.473800 --> 4.473794).  Saving model ...\n",
      "\n",
      "\n",
      "loss: 4.479979  [50182/212015]\n",
      "loss: 4.463000  [101382/212015]\n",
      "loss: 4.592380  [152582/212015]\n",
      "loss: 4.503705  [203782/212015]\n"
     ]
    },
    {
     "name": "stderr",
     "output_type": "stream",
     "text": [
      "\n",
      " 32%|███▏      | 126/400 [46:26<1:41:12, 22.16s/it]\u001b[A"
     ]
    },
    {
     "name": "stdout",
     "output_type": "stream",
     "text": [
      "Validation set: Loss: 4.47398\n",
      "EarlyStopping counter: 1 out of 10\n",
      "\n",
      "\n",
      "loss: 4.522391  [50182/212015]\n",
      "loss: 4.466041  [101382/212015]\n",
      "loss: 4.493158  [152582/212015]\n",
      "loss: 4.518657  [203782/212015]\n"
     ]
    },
    {
     "name": "stderr",
     "output_type": "stream",
     "text": [
      "\n",
      " 32%|███▏      | 127/400 [46:48<1:40:35, 22.11s/it]\u001b[A"
     ]
    },
    {
     "name": "stdout",
     "output_type": "stream",
     "text": [
      "Validation set: Loss: 4.47379\n",
      "Validation loss decreased (4.473794 --> 4.473788).  Saving model ...\n",
      "\n",
      "\n",
      "loss: 4.487262  [50182/212015]\n",
      "loss: 4.472089  [101382/212015]\n",
      "loss: 4.538190  [152582/212015]\n",
      "loss: 4.450259  [203782/212015]\n"
     ]
    },
    {
     "name": "stderr",
     "output_type": "stream",
     "text": [
      "\n",
      " 32%|███▏      | 128/400 [47:10<1:40:31, 22.17s/it]\u001b[A"
     ]
    },
    {
     "name": "stdout",
     "output_type": "stream",
     "text": [
      "Validation set: Loss: 4.47439\n",
      "EarlyStopping counter: 1 out of 10\n",
      "\n",
      "\n",
      "loss: 4.359201  [50182/212015]\n",
      "loss: 4.460087  [101382/212015]\n",
      "loss: 4.523326  [152582/212015]\n",
      "loss: 4.493494  [203782/212015]\n"
     ]
    },
    {
     "name": "stderr",
     "output_type": "stream",
     "text": [
      "\n",
      " 32%|███▏      | 129/400 [47:32<1:39:36, 22.05s/it]\u001b[A"
     ]
    },
    {
     "name": "stdout",
     "output_type": "stream",
     "text": [
      "Validation set: Loss: 4.47363\n",
      "Validation loss decreased (4.473788 --> 4.473633).  Saving model ...\n",
      "\n",
      "\n",
      "loss: 4.436379  [50182/212015]\n",
      "loss: 4.502964  [101382/212015]\n",
      "loss: 4.418239  [152582/212015]\n",
      "loss: 4.432499  [203782/212015]\n"
     ]
    },
    {
     "name": "stderr",
     "output_type": "stream",
     "text": [
      "\n",
      " 32%|███▎      | 130/400 [47:54<1:39:35, 22.13s/it]\u001b[A"
     ]
    },
    {
     "name": "stdout",
     "output_type": "stream",
     "text": [
      "Validation set: Loss: 4.47472\n",
      "EarlyStopping counter: 1 out of 10\n",
      "\n",
      "\n",
      "loss: 4.424221  [50182/212015]\n",
      "loss: 4.555066  [101382/212015]\n",
      "loss: 4.421846  [152582/212015]\n",
      "loss: 4.470095  [203782/212015]\n"
     ]
    },
    {
     "name": "stderr",
     "output_type": "stream",
     "text": [
      "\n",
      " 33%|███▎      | 131/400 [48:17<1:39:38, 22.23s/it]\u001b[A"
     ]
    },
    {
     "name": "stdout",
     "output_type": "stream",
     "text": [
      "Validation set: Loss: 4.47381\n",
      "EarlyStopping counter: 2 out of 10\n",
      "\n",
      "\n",
      "loss: 4.508362  [50182/212015]\n",
      "loss: 4.449573  [101382/212015]\n",
      "loss: 4.471894  [152582/212015]\n",
      "loss: 4.531279  [203782/212015]\n"
     ]
    },
    {
     "name": "stderr",
     "output_type": "stream",
     "text": [
      "\n",
      " 33%|███▎      | 132/400 [48:39<1:39:10, 22.20s/it]\u001b[A"
     ]
    },
    {
     "name": "stdout",
     "output_type": "stream",
     "text": [
      "Validation set: Loss: 4.47361\n",
      "Validation loss decreased (4.473633 --> 4.473608).  Saving model ...\n",
      "\n",
      "\n",
      "loss: 4.478126  [50182/212015]\n",
      "loss: 4.483024  [101382/212015]\n",
      "loss: 4.460115  [152582/212015]\n",
      "loss: 4.542554  [203782/212015]\n"
     ]
    },
    {
     "name": "stderr",
     "output_type": "stream",
     "text": [
      "\n",
      " 33%|███▎      | 133/400 [49:01<1:38:43, 22.18s/it]\u001b[A"
     ]
    },
    {
     "name": "stdout",
     "output_type": "stream",
     "text": [
      "Validation set: Loss: 4.47419\n",
      "EarlyStopping counter: 1 out of 10\n",
      "\n",
      "\n",
      "loss: 4.471203  [50182/212015]\n",
      "loss: 4.415630  [101382/212015]\n",
      "loss: 4.503630  [152582/212015]\n",
      "loss: 4.436661  [203782/212015]\n"
     ]
    },
    {
     "name": "stderr",
     "output_type": "stream",
     "text": [
      "\n",
      " 34%|███▎      | 134/400 [49:23<1:38:20, 22.18s/it]\u001b[A"
     ]
    },
    {
     "name": "stdout",
     "output_type": "stream",
     "text": [
      "Validation set: Loss: 4.47379\n",
      "EarlyStopping counter: 2 out of 10\n",
      "\n",
      "\n",
      "loss: 4.482438  [50182/212015]\n",
      "loss: 4.478236  [101382/212015]\n",
      "loss: 4.527748  [152582/212015]\n",
      "loss: 4.449939  [203782/212015]\n"
     ]
    },
    {
     "name": "stderr",
     "output_type": "stream",
     "text": [
      "\n",
      " 34%|███▍      | 135/400 [49:45<1:37:29, 22.07s/it]\u001b[A"
     ]
    },
    {
     "name": "stdout",
     "output_type": "stream",
     "text": [
      "Validation set: Loss: 4.47415\n",
      "EarlyStopping counter: 3 out of 10\n",
      "\n",
      "\n",
      "loss: 4.511653  [50182/212015]\n",
      "loss: 4.463402  [101382/212015]\n",
      "loss: 4.509556  [152582/212015]\n",
      "loss: 4.483552  [203782/212015]\n"
     ]
    },
    {
     "name": "stderr",
     "output_type": "stream",
     "text": [
      "\n",
      " 34%|███▍      | 136/400 [50:07<1:37:41, 22.20s/it]\u001b[A"
     ]
    },
    {
     "name": "stdout",
     "output_type": "stream",
     "text": [
      "Validation set: Loss: 4.47400\n",
      "EarlyStopping counter: 4 out of 10\n",
      "\n",
      "\n",
      "loss: 4.454080  [50182/212015]\n",
      "loss: 4.453598  [101382/212015]\n",
      "loss: 4.495439  [152582/212015]\n",
      "loss: 4.401610  [203782/212015]\n"
     ]
    },
    {
     "name": "stderr",
     "output_type": "stream",
     "text": [
      "\n",
      " 34%|███▍      | 137/400 [50:29<1:36:39, 22.05s/it]\u001b[A"
     ]
    },
    {
     "name": "stdout",
     "output_type": "stream",
     "text": [
      "Validation set: Loss: 4.47392\n",
      "EarlyStopping counter: 5 out of 10\n",
      "\n",
      "\n",
      "loss: 4.499307  [50182/212015]\n",
      "loss: 4.476515  [101382/212015]\n",
      "loss: 4.404058  [152582/212015]\n",
      "loss: 4.425151  [203782/212015]\n"
     ]
    },
    {
     "name": "stderr",
     "output_type": "stream",
     "text": [
      "\n",
      " 34%|███▍      | 138/400 [50:51<1:36:29, 22.10s/it]\u001b[A"
     ]
    },
    {
     "name": "stdout",
     "output_type": "stream",
     "text": [
      "Validation set: Loss: 4.47398\n",
      "EarlyStopping counter: 6 out of 10\n",
      "\n",
      "\n",
      "loss: 4.516589  [50182/212015]\n",
      "loss: 4.510890  [101382/212015]\n",
      "loss: 4.509368  [152582/212015]\n",
      "loss: 4.539972  [203782/212015]\n"
     ]
    },
    {
     "name": "stderr",
     "output_type": "stream",
     "text": [
      "\n",
      " 35%|███▍      | 139/400 [51:13<1:35:48, 22.02s/it]\u001b[A"
     ]
    },
    {
     "name": "stdout",
     "output_type": "stream",
     "text": [
      "Validation set: Loss: 4.47352\n",
      "Validation loss decreased (4.473608 --> 4.473517).  Saving model ...\n",
      "\n",
      "\n",
      "loss: 4.475421  [50182/212015]\n",
      "loss: 4.502567  [101382/212015]\n",
      "loss: 4.455491  [152582/212015]\n",
      "loss: 4.449987  [203782/212015]\n"
     ]
    },
    {
     "name": "stderr",
     "output_type": "stream",
     "text": [
      "\n",
      " 35%|███▌      | 140/400 [51:36<1:35:51, 22.12s/it]\u001b[A"
     ]
    },
    {
     "name": "stdout",
     "output_type": "stream",
     "text": [
      "Validation set: Loss: 4.47384\n",
      "EarlyStopping counter: 1 out of 10\n",
      "\n",
      "\n",
      "loss: 4.442914  [50182/212015]\n",
      "loss: 4.502755  [101382/212015]\n",
      "loss: 4.460300  [152582/212015]\n",
      "loss: 4.545379  [203782/212015]\n"
     ]
    },
    {
     "name": "stderr",
     "output_type": "stream",
     "text": [
      "\n",
      " 35%|███▌      | 141/400 [51:58<1:35:28, 22.12s/it]\u001b[A"
     ]
    },
    {
     "name": "stdout",
     "output_type": "stream",
     "text": [
      "Validation set: Loss: 4.47409\n",
      "EarlyStopping counter: 2 out of 10\n",
      "\n",
      "\n",
      "loss: 4.428133  [50182/212015]\n",
      "loss: 4.484609  [101382/212015]\n",
      "loss: 4.360747  [152582/212015]\n",
      "loss: 4.508619  [203782/212015]\n"
     ]
    },
    {
     "name": "stderr",
     "output_type": "stream",
     "text": [
      "\n",
      " 36%|███▌      | 142/400 [52:20<1:35:10, 22.13s/it]\u001b[A"
     ]
    },
    {
     "name": "stdout",
     "output_type": "stream",
     "text": [
      "Validation set: Loss: 4.47392\n",
      "EarlyStopping counter: 3 out of 10\n",
      "\n",
      "\n",
      "loss: 4.524573  [50182/212015]\n",
      "loss: 4.480647  [101382/212015]\n",
      "loss: 4.531637  [152582/212015]\n",
      "loss: 4.489134  [203782/212015]\n"
     ]
    },
    {
     "name": "stderr",
     "output_type": "stream",
     "text": [
      "\n",
      " 36%|███▌      | 143/400 [52:42<1:34:35, 22.09s/it]\u001b[A"
     ]
    },
    {
     "name": "stdout",
     "output_type": "stream",
     "text": [
      "Validation set: Loss: 4.47378\n",
      "EarlyStopping counter: 4 out of 10\n",
      "\n",
      "\n",
      "loss: 4.515699  [50182/212015]\n",
      "loss: 4.416793  [101382/212015]\n",
      "loss: 4.521841  [152582/212015]\n",
      "loss: 4.558509  [203782/212015]\n"
     ]
    },
    {
     "name": "stderr",
     "output_type": "stream",
     "text": [
      "\n",
      " 36%|███▌      | 144/400 [53:04<1:34:39, 22.18s/it]\u001b[A"
     ]
    },
    {
     "name": "stdout",
     "output_type": "stream",
     "text": [
      "Validation set: Loss: 4.47382\n",
      "EarlyStopping counter: 5 out of 10\n",
      "\n",
      "\n",
      "loss: 4.511751  [50182/212015]\n",
      "loss: 4.492906  [101382/212015]\n",
      "loss: 4.515566  [152582/212015]\n",
      "loss: 4.504706  [203782/212015]\n"
     ]
    },
    {
     "name": "stderr",
     "output_type": "stream",
     "text": [
      "\n",
      " 36%|███▋      | 145/400 [53:26<1:33:45, 22.06s/it]\u001b[A"
     ]
    },
    {
     "name": "stdout",
     "output_type": "stream",
     "text": [
      "Validation set: Loss: 4.47375\n",
      "EarlyStopping counter: 6 out of 10\n",
      "\n",
      "\n",
      "loss: 4.544490  [50182/212015]\n",
      "loss: 4.405082  [101382/212015]\n",
      "loss: 4.508991  [152582/212015]\n",
      "loss: 4.451693  [203782/212015]\n"
     ]
    },
    {
     "name": "stderr",
     "output_type": "stream",
     "text": [
      "\n",
      " 36%|███▋      | 146/400 [53:48<1:33:18, 22.04s/it]\u001b[A"
     ]
    },
    {
     "name": "stdout",
     "output_type": "stream",
     "text": [
      "Validation set: Loss: 4.47370\n",
      "EarlyStopping counter: 7 out of 10\n",
      "\n",
      "\n",
      "loss: 4.456745  [50182/212015]\n",
      "loss: 4.484421  [101382/212015]\n",
      "loss: 4.568774  [152582/212015]\n",
      "loss: 4.490333  [203782/212015]\n"
     ]
    },
    {
     "name": "stderr",
     "output_type": "stream",
     "text": [
      "\n",
      " 37%|███▋      | 147/400 [54:10<1:33:18, 22.13s/it]\u001b[A"
     ]
    },
    {
     "name": "stdout",
     "output_type": "stream",
     "text": [
      "Validation set: Loss: 4.47385\n",
      "EarlyStopping counter: 8 out of 10\n",
      "\n",
      "\n",
      "loss: 4.470320  [50182/212015]\n",
      "loss: 4.513045  [101382/212015]\n",
      "loss: 4.514317  [152582/212015]\n",
      "loss: 4.571062  [203782/212015]\n"
     ]
    },
    {
     "name": "stderr",
     "output_type": "stream",
     "text": [
      "\n",
      " 37%|███▋      | 148/400 [54:33<1:33:15, 22.21s/it]\u001b[A"
     ]
    },
    {
     "name": "stdout",
     "output_type": "stream",
     "text": [
      "Validation set: Loss: 4.47354\n",
      "EarlyStopping counter: 9 out of 10\n",
      "\n",
      "\n",
      "loss: 4.512741  [50182/212015]\n",
      "loss: 4.549551  [101382/212015]\n",
      "loss: 4.510749  [152582/212015]\n",
      "loss: 4.434548  [203782/212015]\n"
     ]
    },
    {
     "name": "stderr",
     "output_type": "stream",
     "text": [
      " 37%|███▋      | 148/400 [54:55<1:33:30, 22.27s/it]"
     ]
    },
    {
     "name": "stdout",
     "output_type": "stream",
     "text": [
      "Validation set: Loss: 4.47374\n",
      "EarlyStopping counter: 10 out of 10\n",
      "Done!\n"
     ]
    },
    {
     "name": "stderr",
     "output_type": "stream",
     "text": [
      "\n",
      " 60%|██████    | 3/5 [2:32:36<1:43:39, 3109.64s/it]"
     ]
    },
    {
     "name": "stdout",
     "output_type": "stream",
     "text": [
      "Performing the ZILN pipeline for company 105150050\n"
     ]
    },
    {
     "name": "stderr",
     "output_type": "stream",
     "text": [
      "\n",
      "  0%|          | 0/400 [00:00<?, ?it/s]\u001b[A"
     ]
    },
    {
     "name": "stdout",
     "output_type": "stream",
     "text": [
      "\n",
      "\n",
      "loss: 7.739119  [50182/194147]\n",
      "loss: 6.136489  [101382/194147]\n",
      "loss: 4.746333  [152582/194147]\n"
     ]
    },
    {
     "name": "stderr",
     "output_type": "stream",
     "text": [
      "\n",
      "  0%|          | 1/400 [00:20<2:14:37, 20.24s/it]\u001b[A"
     ]
    },
    {
     "name": "stdout",
     "output_type": "stream",
     "text": [
      "Validation set: Loss: 4.56455\n",
      "Validation loss decreased (inf --> 4.564549).  Saving model ...\n",
      "\n",
      "\n",
      "loss: 4.412591  [50182/194147]\n",
      "loss: 4.130566  [101382/194147]\n",
      "loss: 4.041801  [152582/194147]\n"
     ]
    },
    {
     "name": "stderr",
     "output_type": "stream",
     "text": [
      "\n",
      "  0%|          | 2/400 [00:40<2:14:19, 20.25s/it]\u001b[A"
     ]
    },
    {
     "name": "stdout",
     "output_type": "stream",
     "text": [
      "Validation set: Loss: 4.00369\n",
      "Validation loss decreased (4.564549 --> 4.003689).  Saving model ...\n",
      "\n",
      "\n",
      "loss: 3.930094  [50182/194147]\n",
      "loss: 3.919419  [101382/194147]\n",
      "loss: 3.842965  [152582/194147]\n"
     ]
    },
    {
     "name": "stderr",
     "output_type": "stream",
     "text": [
      "\n",
      "  1%|          | 3/400 [01:00<2:13:19, 20.15s/it]\u001b[A"
     ]
    },
    {
     "name": "stdout",
     "output_type": "stream",
     "text": [
      "Validation set: Loss: 3.76649\n",
      "Validation loss decreased (4.003689 --> 3.766485).  Saving model ...\n",
      "\n",
      "\n",
      "loss: 3.752609  [50182/194147]\n",
      "loss: 3.718234  [101382/194147]\n",
      "loss: 3.741863  [152582/194147]\n"
     ]
    },
    {
     "name": "stderr",
     "output_type": "stream",
     "text": [
      "\n",
      "  1%|          | 4/400 [01:20<2:13:49, 20.28s/it]\u001b[A"
     ]
    },
    {
     "name": "stdout",
     "output_type": "stream",
     "text": [
      "Validation set: Loss: 3.74809\n",
      "Validation loss decreased (3.766485 --> 3.748090).  Saving model ...\n",
      "\n",
      "\n",
      "loss: 3.718803  [50182/194147]\n",
      "loss: 3.749756  [101382/194147]\n",
      "loss: 3.725718  [152582/194147]\n"
     ]
    },
    {
     "name": "stderr",
     "output_type": "stream",
     "text": [
      "\n",
      "  1%|▏         | 5/400 [01:41<2:13:16, 20.24s/it]\u001b[A"
     ]
    },
    {
     "name": "stdout",
     "output_type": "stream",
     "text": [
      "Validation set: Loss: 3.74162\n",
      "Validation loss decreased (3.748090 --> 3.741623).  Saving model ...\n",
      "\n",
      "\n",
      "loss: 3.726756  [50182/194147]\n",
      "loss: 3.695616  [101382/194147]\n",
      "loss: 3.707593  [152582/194147]\n"
     ]
    },
    {
     "name": "stderr",
     "output_type": "stream",
     "text": [
      "\n",
      "  2%|▏         | 6/400 [02:01<2:12:27, 20.17s/it]\u001b[A"
     ]
    },
    {
     "name": "stdout",
     "output_type": "stream",
     "text": [
      "Validation set: Loss: 3.73740\n",
      "Validation loss decreased (3.741623 --> 3.737401).  Saving model ...\n",
      "\n",
      "\n",
      "loss: 3.722643  [50182/194147]\n",
      "loss: 3.773151  [101382/194147]\n",
      "loss: 3.674300  [152582/194147]\n"
     ]
    },
    {
     "name": "stderr",
     "output_type": "stream",
     "text": [
      "\n",
      "  2%|▏         | 7/400 [02:21<2:12:21, 20.21s/it]\u001b[A"
     ]
    },
    {
     "name": "stdout",
     "output_type": "stream",
     "text": [
      "Validation set: Loss: 3.73414\n",
      "Validation loss decreased (3.737401 --> 3.734142).  Saving model ...\n",
      "\n",
      "\n",
      "loss: 3.710807  [50182/194147]\n",
      "loss: 3.711984  [101382/194147]\n",
      "loss: 3.736050  [152582/194147]\n"
     ]
    },
    {
     "name": "stderr",
     "output_type": "stream",
     "text": [
      "\n",
      "  2%|▏         | 8/400 [02:41<2:12:19, 20.25s/it]\u001b[A"
     ]
    },
    {
     "name": "stdout",
     "output_type": "stream",
     "text": [
      "Validation set: Loss: 3.73147\n",
      "Validation loss decreased (3.734142 --> 3.731474).  Saving model ...\n",
      "\n",
      "\n",
      "loss: 3.795865  [50182/194147]\n",
      "loss: 3.729758  [101382/194147]\n",
      "loss: 3.700731  [152582/194147]\n"
     ]
    },
    {
     "name": "stderr",
     "output_type": "stream",
     "text": [
      "\n",
      "  2%|▏         | 9/400 [03:02<2:12:01, 20.26s/it]\u001b[A"
     ]
    },
    {
     "name": "stdout",
     "output_type": "stream",
     "text": [
      "Validation set: Loss: 3.72919\n",
      "Validation loss decreased (3.731474 --> 3.729191).  Saving model ...\n",
      "\n",
      "\n",
      "loss: 3.721891  [50182/194147]\n",
      "loss: 3.769538  [101382/194147]\n",
      "loss: 3.771203  [152582/194147]\n"
     ]
    },
    {
     "name": "stderr",
     "output_type": "stream",
     "text": [
      "\n",
      "  2%|▎         | 10/400 [03:22<2:12:05, 20.32s/it]\u001b[A"
     ]
    },
    {
     "name": "stdout",
     "output_type": "stream",
     "text": [
      "Validation set: Loss: 3.72718\n",
      "Validation loss decreased (3.729191 --> 3.727179).  Saving model ...\n",
      "\n",
      "\n",
      "loss: 3.692191  [50182/194147]\n",
      "loss: 3.651251  [101382/194147]\n",
      "loss: 3.673507  [152582/194147]\n"
     ]
    },
    {
     "name": "stderr",
     "output_type": "stream",
     "text": [
      "\n",
      "  3%|▎         | 11/400 [03:42<2:11:32, 20.29s/it]\u001b[A"
     ]
    },
    {
     "name": "stdout",
     "output_type": "stream",
     "text": [
      "Validation set: Loss: 3.72557\n",
      "Validation loss decreased (3.727179 --> 3.725569).  Saving model ...\n",
      "\n",
      "\n",
      "loss: 3.811117  [50182/194147]\n",
      "loss: 3.745518  [101382/194147]\n",
      "loss: 3.696085  [152582/194147]\n"
     ]
    },
    {
     "name": "stderr",
     "output_type": "stream",
     "text": [
      "\n",
      "  3%|▎         | 12/400 [04:03<2:12:12, 20.44s/it]\u001b[A"
     ]
    },
    {
     "name": "stdout",
     "output_type": "stream",
     "text": [
      "Validation set: Loss: 3.72417\n",
      "Validation loss decreased (3.725569 --> 3.724170).  Saving model ...\n",
      "\n",
      "\n",
      "loss: 3.708992  [50182/194147]\n",
      "loss: 3.705224  [101382/194147]\n",
      "loss: 3.771350  [152582/194147]\n"
     ]
    },
    {
     "name": "stderr",
     "output_type": "stream",
     "text": [
      "\n",
      "  3%|▎         | 13/400 [04:24<2:11:54, 20.45s/it]\u001b[A"
     ]
    },
    {
     "name": "stdout",
     "output_type": "stream",
     "text": [
      "Validation set: Loss: 3.72274\n",
      "Validation loss decreased (3.724170 --> 3.722742).  Saving model ...\n",
      "\n",
      "\n",
      "loss: 3.692012  [50182/194147]\n",
      "loss: 3.764958  [101382/194147]\n",
      "loss: 3.598296  [152582/194147]\n"
     ]
    },
    {
     "name": "stderr",
     "output_type": "stream",
     "text": [
      "\n",
      "  4%|▎         | 14/400 [04:44<2:11:13, 20.40s/it]\u001b[A"
     ]
    },
    {
     "name": "stdout",
     "output_type": "stream",
     "text": [
      "Validation set: Loss: 3.72155\n",
      "Validation loss decreased (3.722742 --> 3.721551).  Saving model ...\n",
      "\n",
      "\n",
      "loss: 3.712106  [50182/194147]\n",
      "loss: 3.686663  [101382/194147]\n",
      "loss: 3.777766  [152582/194147]\n"
     ]
    },
    {
     "name": "stderr",
     "output_type": "stream",
     "text": [
      "\n",
      "  4%|▍         | 15/400 [05:04<2:11:20, 20.47s/it]\u001b[A"
     ]
    },
    {
     "name": "stdout",
     "output_type": "stream",
     "text": [
      "Validation set: Loss: 3.72021\n",
      "Validation loss decreased (3.721551 --> 3.720207).  Saving model ...\n",
      "\n",
      "\n",
      "loss: 3.662373  [50182/194147]\n",
      "loss: 3.753460  [101382/194147]\n",
      "loss: 3.774970  [152582/194147]\n"
     ]
    },
    {
     "name": "stderr",
     "output_type": "stream",
     "text": [
      "\n",
      "  4%|▍         | 16/400 [05:25<2:11:19, 20.52s/it]\u001b[A"
     ]
    },
    {
     "name": "stdout",
     "output_type": "stream",
     "text": [
      "Validation set: Loss: 3.71907\n",
      "Validation loss decreased (3.720207 --> 3.719071).  Saving model ...\n",
      "\n",
      "\n",
      "loss: 3.642737  [50182/194147]\n",
      "loss: 3.747821  [101382/194147]\n",
      "loss: 3.701064  [152582/194147]\n"
     ]
    },
    {
     "name": "stderr",
     "output_type": "stream",
     "text": [
      "\n",
      "  4%|▍         | 17/400 [05:45<2:10:25, 20.43s/it]\u001b[A"
     ]
    },
    {
     "name": "stdout",
     "output_type": "stream",
     "text": [
      "Validation set: Loss: 3.71817\n",
      "Validation loss decreased (3.719071 --> 3.718170).  Saving model ...\n",
      "\n",
      "\n",
      "loss: 3.751850  [50182/194147]\n",
      "loss: 3.819266  [101382/194147]\n",
      "loss: 3.716528  [152582/194147]\n"
     ]
    },
    {
     "name": "stderr",
     "output_type": "stream",
     "text": [
      "\n",
      "  4%|▍         | 18/400 [06:06<2:10:22, 20.48s/it]\u001b[A"
     ]
    },
    {
     "name": "stdout",
     "output_type": "stream",
     "text": [
      "Validation set: Loss: 3.71703\n",
      "Validation loss decreased (3.718170 --> 3.717025).  Saving model ...\n",
      "\n",
      "\n",
      "loss: 3.747659  [50182/194147]\n",
      "loss: 3.681008  [101382/194147]\n",
      "loss: 3.724893  [152582/194147]\n"
     ]
    },
    {
     "name": "stderr",
     "output_type": "stream",
     "text": [
      "\n",
      "  5%|▍         | 19/400 [06:26<2:10:13, 20.51s/it]\u001b[A"
     ]
    },
    {
     "name": "stdout",
     "output_type": "stream",
     "text": [
      "Validation set: Loss: 3.71583\n",
      "Validation loss decreased (3.717025 --> 3.715828).  Saving model ...\n",
      "\n",
      "\n",
      "loss: 3.785014  [50182/194147]\n",
      "loss: 3.742079  [101382/194147]\n",
      "loss: 3.740083  [152582/194147]\n"
     ]
    },
    {
     "name": "stderr",
     "output_type": "stream",
     "text": [
      "\n",
      "  5%|▌         | 20/400 [06:47<2:09:23, 20.43s/it]\u001b[A"
     ]
    },
    {
     "name": "stdout",
     "output_type": "stream",
     "text": [
      "Validation set: Loss: 3.71515\n",
      "Validation loss decreased (3.715828 --> 3.715148).  Saving model ...\n",
      "\n",
      "\n",
      "loss: 3.707281  [50182/194147]\n",
      "loss: 3.805919  [101382/194147]\n",
      "loss: 3.755432  [152582/194147]\n"
     ]
    },
    {
     "name": "stderr",
     "output_type": "stream",
     "text": [
      "\n",
      "  5%|▌         | 21/400 [07:07<2:08:59, 20.42s/it]\u001b[A"
     ]
    },
    {
     "name": "stdout",
     "output_type": "stream",
     "text": [
      "Validation set: Loss: 3.71398\n",
      "Validation loss decreased (3.715148 --> 3.713978).  Saving model ...\n",
      "\n",
      "\n",
      "loss: 3.623630  [50182/194147]\n",
      "loss: 3.689147  [101382/194147]\n",
      "loss: 3.764464  [152582/194147]\n"
     ]
    },
    {
     "name": "stderr",
     "output_type": "stream",
     "text": [
      "\n",
      "  6%|▌         | 22/400 [07:28<2:08:53, 20.46s/it]\u001b[A"
     ]
    },
    {
     "name": "stdout",
     "output_type": "stream",
     "text": [
      "Validation set: Loss: 3.71313\n",
      "Validation loss decreased (3.713978 --> 3.713130).  Saving model ...\n",
      "\n",
      "\n",
      "loss: 3.691441  [50182/194147]\n",
      "loss: 3.735029  [101382/194147]\n",
      "loss: 3.623021  [152582/194147]\n"
     ]
    },
    {
     "name": "stderr",
     "output_type": "stream",
     "text": [
      "\n",
      "  6%|▌         | 23/400 [07:48<2:07:35, 20.31s/it]\u001b[A"
     ]
    },
    {
     "name": "stdout",
     "output_type": "stream",
     "text": [
      "Validation set: Loss: 3.71250\n",
      "Validation loss decreased (3.713130 --> 3.712496).  Saving model ...\n",
      "\n",
      "\n",
      "loss: 3.750341  [50182/194147]\n",
      "loss: 3.702821  [101382/194147]\n",
      "loss: 3.785466  [152582/194147]\n"
     ]
    },
    {
     "name": "stderr",
     "output_type": "stream",
     "text": [
      "\n",
      "  6%|▌         | 24/400 [08:08<2:07:31, 20.35s/it]\u001b[A"
     ]
    },
    {
     "name": "stdout",
     "output_type": "stream",
     "text": [
      "Validation set: Loss: 3.71166\n",
      "Validation loss decreased (3.712496 --> 3.711659).  Saving model ...\n",
      "\n",
      "\n",
      "loss: 3.676012  [50182/194147]\n",
      "loss: 3.714365  [101382/194147]\n",
      "loss: 3.737527  [152582/194147]\n"
     ]
    },
    {
     "name": "stderr",
     "output_type": "stream",
     "text": [
      "\n",
      "  6%|▋         | 25/400 [08:28<2:06:41, 20.27s/it]\u001b[A"
     ]
    },
    {
     "name": "stdout",
     "output_type": "stream",
     "text": [
      "Validation set: Loss: 3.71080\n",
      "Validation loss decreased (3.711659 --> 3.710801).  Saving model ...\n",
      "\n",
      "\n",
      "loss: 3.638136  [50182/194147]\n",
      "loss: 3.744051  [101382/194147]\n",
      "loss: 3.661069  [152582/194147]\n"
     ]
    },
    {
     "name": "stderr",
     "output_type": "stream",
     "text": [
      "\n",
      "  6%|▋         | 26/400 [08:49<2:06:41, 20.32s/it]\u001b[A"
     ]
    },
    {
     "name": "stdout",
     "output_type": "stream",
     "text": [
      "Validation set: Loss: 3.71031\n",
      "Validation loss decreased (3.710801 --> 3.710313).  Saving model ...\n",
      "\n",
      "\n",
      "loss: 3.738870  [50182/194147]\n",
      "loss: 3.756407  [101382/194147]\n",
      "loss: 3.689325  [152582/194147]\n"
     ]
    },
    {
     "name": "stderr",
     "output_type": "stream",
     "text": [
      "\n",
      "  7%|▋         | 27/400 [09:09<2:06:20, 20.32s/it]\u001b[A"
     ]
    },
    {
     "name": "stdout",
     "output_type": "stream",
     "text": [
      "Validation set: Loss: 3.71000\n",
      "Validation loss decreased (3.710313 --> 3.710003).  Saving model ...\n",
      "\n",
      "\n",
      "loss: 3.670724  [50182/194147]\n",
      "loss: 3.743856  [101382/194147]\n",
      "loss: 3.671709  [152582/194147]\n"
     ]
    },
    {
     "name": "stderr",
     "output_type": "stream",
     "text": [
      "\n",
      "  7%|▋         | 28/400 [09:29<2:05:51, 20.30s/it]\u001b[A"
     ]
    },
    {
     "name": "stdout",
     "output_type": "stream",
     "text": [
      "Validation set: Loss: 3.70931\n",
      "Validation loss decreased (3.710003 --> 3.709312).  Saving model ...\n",
      "\n",
      "\n",
      "loss: 3.646196  [50182/194147]\n",
      "loss: 3.682986  [101382/194147]\n",
      "loss: 3.711868  [152582/194147]\n"
     ]
    },
    {
     "name": "stderr",
     "output_type": "stream",
     "text": [
      "\n",
      "  7%|▋         | 29/400 [09:50<2:06:00, 20.38s/it]\u001b[A"
     ]
    },
    {
     "name": "stdout",
     "output_type": "stream",
     "text": [
      "Validation set: Loss: 3.70869\n",
      "Validation loss decreased (3.709312 --> 3.708694).  Saving model ...\n",
      "\n",
      "\n",
      "loss: 3.681756  [50182/194147]\n",
      "loss: 3.659576  [101382/194147]\n",
      "loss: 3.728320  [152582/194147]\n"
     ]
    },
    {
     "name": "stderr",
     "output_type": "stream",
     "text": [
      "\n",
      "  8%|▊         | 30/400 [10:10<2:05:12, 20.30s/it]\u001b[A"
     ]
    },
    {
     "name": "stdout",
     "output_type": "stream",
     "text": [
      "Validation set: Loss: 3.70809\n",
      "Validation loss decreased (3.708694 --> 3.708090).  Saving model ...\n",
      "\n",
      "\n",
      "loss: 3.619001  [50182/194147]\n",
      "loss: 3.684599  [101382/194147]\n",
      "loss: 3.727380  [152582/194147]\n"
     ]
    },
    {
     "name": "stderr",
     "output_type": "stream",
     "text": [
      "\n",
      "  8%|▊         | 31/400 [10:30<2:04:39, 20.27s/it]\u001b[A"
     ]
    },
    {
     "name": "stdout",
     "output_type": "stream",
     "text": [
      "Validation set: Loss: 3.70772\n",
      "Validation loss decreased (3.708090 --> 3.707715).  Saving model ...\n",
      "\n",
      "\n",
      "loss: 3.671868  [50182/194147]\n",
      "loss: 3.793103  [101382/194147]\n",
      "loss: 3.788415  [152582/194147]\n"
     ]
    },
    {
     "name": "stderr",
     "output_type": "stream",
     "text": [
      "\n",
      "  8%|▊         | 32/400 [10:51<2:04:42, 20.33s/it]\u001b[A"
     ]
    },
    {
     "name": "stdout",
     "output_type": "stream",
     "text": [
      "Validation set: Loss: 3.70799\n",
      "EarlyStopping counter: 1 out of 10\n",
      "\n",
      "\n",
      "loss: 3.730334  [50182/194147]\n",
      "loss: 3.711833  [101382/194147]\n",
      "loss: 3.771696  [152582/194147]\n"
     ]
    },
    {
     "name": "stderr",
     "output_type": "stream",
     "text": [
      "\n",
      "  8%|▊         | 33/400 [11:11<2:04:13, 20.31s/it]\u001b[A"
     ]
    },
    {
     "name": "stdout",
     "output_type": "stream",
     "text": [
      "Validation set: Loss: 3.70703\n",
      "Validation loss decreased (3.707715 --> 3.707026).  Saving model ...\n",
      "\n",
      "\n",
      "loss: 3.758231  [50182/194147]\n",
      "loss: 3.779162  [101382/194147]\n",
      "loss: 3.755654  [152582/194147]\n"
     ]
    },
    {
     "name": "stderr",
     "output_type": "stream",
     "text": [
      "\n",
      "  8%|▊         | 34/400 [11:31<2:03:20, 20.22s/it]\u001b[A"
     ]
    },
    {
     "name": "stdout",
     "output_type": "stream",
     "text": [
      "Validation set: Loss: 3.70705\n",
      "EarlyStopping counter: 1 out of 10\n",
      "\n",
      "\n",
      "loss: 3.721414  [50182/194147]\n",
      "loss: 3.695433  [101382/194147]\n",
      "loss: 3.778754  [152582/194147]\n"
     ]
    },
    {
     "name": "stderr",
     "output_type": "stream",
     "text": [
      "\n",
      "  9%|▉         | 35/400 [11:51<2:02:54, 20.20s/it]\u001b[A"
     ]
    },
    {
     "name": "stdout",
     "output_type": "stream",
     "text": [
      "Validation set: Loss: 3.70632\n",
      "Validation loss decreased (3.707026 --> 3.706323).  Saving model ...\n",
      "\n",
      "\n",
      "loss: 3.654645  [50182/194147]\n",
      "loss: 3.718536  [101382/194147]\n",
      "loss: 3.736327  [152582/194147]\n"
     ]
    },
    {
     "name": "stderr",
     "output_type": "stream",
     "text": [
      "\n",
      "  9%|▉         | 36/400 [12:11<2:02:10, 20.14s/it]\u001b[A"
     ]
    },
    {
     "name": "stdout",
     "output_type": "stream",
     "text": [
      "Validation set: Loss: 3.70589\n",
      "Validation loss decreased (3.706323 --> 3.705894).  Saving model ...\n",
      "\n",
      "\n",
      "loss: 3.693970  [50182/194147]\n",
      "loss: 3.727463  [101382/194147]\n",
      "loss: 3.734561  [152582/194147]\n"
     ]
    },
    {
     "name": "stderr",
     "output_type": "stream",
     "text": [
      "\n",
      "  9%|▉         | 37/400 [12:31<2:01:57, 20.16s/it]\u001b[A"
     ]
    },
    {
     "name": "stdout",
     "output_type": "stream",
     "text": [
      "Validation set: Loss: 3.70543\n",
      "Validation loss decreased (3.705894 --> 3.705435).  Saving model ...\n",
      "\n",
      "\n",
      "loss: 3.684486  [50182/194147]\n",
      "loss: 3.678796  [101382/194147]\n",
      "loss: 3.654498  [152582/194147]\n"
     ]
    },
    {
     "name": "stderr",
     "output_type": "stream",
     "text": [
      "\n",
      " 10%|▉         | 38/400 [12:51<2:01:49, 20.19s/it]\u001b[A"
     ]
    },
    {
     "name": "stdout",
     "output_type": "stream",
     "text": [
      "Validation set: Loss: 3.70550\n",
      "EarlyStopping counter: 1 out of 10\n",
      "\n",
      "\n",
      "loss: 3.718815  [50182/194147]\n",
      "loss: 3.703903  [101382/194147]\n",
      "loss: 3.639176  [152582/194147]\n"
     ]
    },
    {
     "name": "stderr",
     "output_type": "stream",
     "text": [
      "\n",
      " 10%|▉         | 39/400 [13:12<2:01:15, 20.15s/it]\u001b[A"
     ]
    },
    {
     "name": "stdout",
     "output_type": "stream",
     "text": [
      "Validation set: Loss: 3.70477\n",
      "Validation loss decreased (3.705435 --> 3.704769).  Saving model ...\n",
      "\n",
      "\n",
      "loss: 3.762259  [50182/194147]\n",
      "loss: 3.701962  [101382/194147]\n",
      "loss: 3.714974  [152582/194147]\n"
     ]
    },
    {
     "name": "stderr",
     "output_type": "stream",
     "text": [
      "\n",
      " 10%|█         | 40/400 [13:32<2:00:55, 20.16s/it]\u001b[A"
     ]
    },
    {
     "name": "stdout",
     "output_type": "stream",
     "text": [
      "Validation set: Loss: 3.70480\n",
      "EarlyStopping counter: 1 out of 10\n",
      "\n",
      "\n",
      "loss: 3.748594  [50182/194147]\n",
      "loss: 3.675557  [101382/194147]\n",
      "loss: 3.744734  [152582/194147]\n"
     ]
    },
    {
     "name": "stderr",
     "output_type": "stream",
     "text": [
      "\n",
      " 10%|█         | 41/400 [13:52<2:00:55, 20.21s/it]\u001b[A"
     ]
    },
    {
     "name": "stdout",
     "output_type": "stream",
     "text": [
      "Validation set: Loss: 3.70456\n",
      "Validation loss decreased (3.704769 --> 3.704558).  Saving model ...\n",
      "\n",
      "\n",
      "loss: 3.552389  [50182/194147]\n",
      "loss: 3.690309  [101382/194147]\n",
      "loss: 3.674970  [152582/194147]\n"
     ]
    },
    {
     "name": "stderr",
     "output_type": "stream",
     "text": [
      "\n",
      " 10%|█         | 42/400 [14:12<2:00:00, 20.11s/it]\u001b[A"
     ]
    },
    {
     "name": "stdout",
     "output_type": "stream",
     "text": [
      "Validation set: Loss: 3.70426\n",
      "Validation loss decreased (3.704558 --> 3.704264).  Saving model ...\n",
      "\n",
      "\n",
      "loss: 3.685879  [50182/194147]\n",
      "loss: 3.702497  [101382/194147]\n",
      "loss: 3.679286  [152582/194147]\n"
     ]
    },
    {
     "name": "stderr",
     "output_type": "stream",
     "text": [
      "\n",
      " 11%|█         | 43/400 [14:32<1:59:44, 20.12s/it]\u001b[A"
     ]
    },
    {
     "name": "stdout",
     "output_type": "stream",
     "text": [
      "Validation set: Loss: 3.70422\n",
      "Validation loss decreased (3.704264 --> 3.704219).  Saving model ...\n",
      "\n",
      "\n",
      "loss: 3.762798  [50182/194147]\n",
      "loss: 3.742313  [101382/194147]\n",
      "loss: 3.683476  [152582/194147]\n"
     ]
    },
    {
     "name": "stderr",
     "output_type": "stream",
     "text": [
      "\n",
      " 11%|█         | 44/400 [14:52<1:59:09, 20.08s/it]\u001b[A"
     ]
    },
    {
     "name": "stdout",
     "output_type": "stream",
     "text": [
      "Validation set: Loss: 3.70365\n",
      "Validation loss decreased (3.704219 --> 3.703648).  Saving model ...\n",
      "\n",
      "\n",
      "loss: 3.679289  [50182/194147]\n",
      "loss: 3.717288  [101382/194147]\n",
      "loss: 3.660753  [152582/194147]\n"
     ]
    },
    {
     "name": "stderr",
     "output_type": "stream",
     "text": [
      "\n",
      " 11%|█▏        | 45/400 [15:12<1:58:38, 20.05s/it]\u001b[A"
     ]
    },
    {
     "name": "stdout",
     "output_type": "stream",
     "text": [
      "Validation set: Loss: 3.70343\n",
      "Validation loss decreased (3.703648 --> 3.703425).  Saving model ...\n",
      "\n",
      "\n",
      "loss: 3.712729  [50182/194147]\n",
      "loss: 3.739985  [101382/194147]\n",
      "loss: 3.694140  [152582/194147]\n"
     ]
    },
    {
     "name": "stderr",
     "output_type": "stream",
     "text": [
      "\n",
      " 12%|█▏        | 46/400 [15:32<1:58:34, 20.10s/it]\u001b[A"
     ]
    },
    {
     "name": "stdout",
     "output_type": "stream",
     "text": [
      "Validation set: Loss: 3.70339\n",
      "Validation loss decreased (3.703425 --> 3.703389).  Saving model ...\n",
      "\n",
      "\n",
      "loss: 3.685932  [50182/194147]\n",
      "loss: 3.656483  [101382/194147]\n",
      "loss: 3.741019  [152582/194147]\n"
     ]
    },
    {
     "name": "stderr",
     "output_type": "stream",
     "text": [
      "\n",
      " 12%|█▏        | 47/400 [15:52<1:58:06, 20.07s/it]\u001b[A"
     ]
    },
    {
     "name": "stdout",
     "output_type": "stream",
     "text": [
      "Validation set: Loss: 3.70324\n",
      "Validation loss decreased (3.703389 --> 3.703235).  Saving model ...\n",
      "\n",
      "\n",
      "loss: 3.673474  [50182/194147]\n",
      "loss: 3.694942  [101382/194147]\n",
      "loss: 3.748048  [152582/194147]\n"
     ]
    },
    {
     "name": "stderr",
     "output_type": "stream",
     "text": [
      "\n",
      " 12%|█▏        | 48/400 [16:13<1:58:06, 20.13s/it]\u001b[A"
     ]
    },
    {
     "name": "stdout",
     "output_type": "stream",
     "text": [
      "Validation set: Loss: 3.70336\n",
      "EarlyStopping counter: 1 out of 10\n",
      "\n",
      "\n",
      "loss: 3.743225  [50182/194147]\n",
      "loss: 3.665048  [101382/194147]\n",
      "loss: 3.679749  [152582/194147]\n"
     ]
    },
    {
     "name": "stderr",
     "output_type": "stream",
     "text": [
      "\n",
      " 12%|█▏        | 49/400 [16:33<1:58:18, 20.22s/it]\u001b[A"
     ]
    },
    {
     "name": "stdout",
     "output_type": "stream",
     "text": [
      "Validation set: Loss: 3.70287\n",
      "Validation loss decreased (3.703235 --> 3.702872).  Saving model ...\n",
      "\n",
      "\n",
      "loss: 3.769393  [50182/194147]\n",
      "loss: 3.691408  [101382/194147]\n",
      "loss: 3.654320  [152582/194147]\n"
     ]
    },
    {
     "name": "stderr",
     "output_type": "stream",
     "text": [
      "\n",
      " 12%|█▎        | 50/400 [16:53<1:57:35, 20.16s/it]\u001b[A"
     ]
    },
    {
     "name": "stdout",
     "output_type": "stream",
     "text": [
      "Validation set: Loss: 3.70278\n",
      "Validation loss decreased (3.702872 --> 3.702778).  Saving model ...\n",
      "\n",
      "\n",
      "loss: 3.667153  [50182/194147]\n",
      "loss: 3.707593  [101382/194147]\n",
      "loss: 3.715491  [152582/194147]\n"
     ]
    },
    {
     "name": "stderr",
     "output_type": "stream",
     "text": [
      "\n",
      " 13%|█▎        | 51/400 [17:13<1:57:45, 20.25s/it]\u001b[A"
     ]
    },
    {
     "name": "stdout",
     "output_type": "stream",
     "text": [
      "Validation set: Loss: 3.70253\n",
      "Validation loss decreased (3.702778 --> 3.702528).  Saving model ...\n",
      "\n",
      "\n",
      "loss: 3.651024  [50182/194147]\n",
      "loss: 3.714234  [101382/194147]\n",
      "loss: 3.668183  [152582/194147]\n"
     ]
    },
    {
     "name": "stderr",
     "output_type": "stream",
     "text": [
      "\n",
      " 13%|█▎        | 52/400 [17:34<1:57:27, 20.25s/it]\u001b[A"
     ]
    },
    {
     "name": "stdout",
     "output_type": "stream",
     "text": [
      "Validation set: Loss: 3.70214\n",
      "Validation loss decreased (3.702528 --> 3.702142).  Saving model ...\n",
      "\n",
      "\n",
      "loss: 3.781261  [50182/194147]\n",
      "loss: 3.711994  [101382/194147]\n",
      "loss: 3.693984  [152582/194147]\n"
     ]
    },
    {
     "name": "stderr",
     "output_type": "stream",
     "text": [
      "\n",
      " 13%|█▎        | 53/400 [17:54<1:56:43, 20.18s/it]\u001b[A"
     ]
    },
    {
     "name": "stdout",
     "output_type": "stream",
     "text": [
      "Validation set: Loss: 3.70230\n",
      "EarlyStopping counter: 1 out of 10\n",
      "\n",
      "\n",
      "loss: 3.666668  [50182/194147]\n",
      "loss: 3.666520  [101382/194147]\n",
      "loss: 3.634015  [152582/194147]\n"
     ]
    },
    {
     "name": "stderr",
     "output_type": "stream",
     "text": [
      "\n",
      " 14%|█▎        | 54/400 [18:14<1:56:26, 20.19s/it]\u001b[A"
     ]
    },
    {
     "name": "stdout",
     "output_type": "stream",
     "text": [
      "Validation set: Loss: 3.70220\n",
      "EarlyStopping counter: 2 out of 10\n",
      "\n",
      "\n",
      "loss: 3.769478  [50182/194147]\n",
      "loss: 3.691886  [101382/194147]\n",
      "loss: 3.633982  [152582/194147]\n"
     ]
    },
    {
     "name": "stderr",
     "output_type": "stream",
     "text": [
      "\n",
      " 14%|█▍        | 55/400 [18:34<1:56:32, 20.27s/it]\u001b[A"
     ]
    },
    {
     "name": "stdout",
     "output_type": "stream",
     "text": [
      "Validation set: Loss: 3.70201\n",
      "Validation loss decreased (3.702142 --> 3.702014).  Saving model ...\n",
      "\n",
      "\n",
      "loss: 3.779641  [50182/194147]\n",
      "loss: 3.642809  [101382/194147]\n",
      "loss: 3.688923  [152582/194147]\n"
     ]
    },
    {
     "name": "stderr",
     "output_type": "stream",
     "text": [
      "\n",
      " 14%|█▍        | 56/400 [18:55<1:56:12, 20.27s/it]\u001b[A"
     ]
    },
    {
     "name": "stdout",
     "output_type": "stream",
     "text": [
      "Validation set: Loss: 3.70195\n",
      "Validation loss decreased (3.702014 --> 3.701950).  Saving model ...\n",
      "\n",
      "\n",
      "loss: 3.833732  [50182/194147]\n",
      "loss: 3.626583  [101382/194147]\n",
      "loss: 3.689078  [152582/194147]\n"
     ]
    },
    {
     "name": "stderr",
     "output_type": "stream",
     "text": [
      "\n",
      " 14%|█▍        | 57/400 [19:15<1:56:18, 20.34s/it]\u001b[A"
     ]
    },
    {
     "name": "stdout",
     "output_type": "stream",
     "text": [
      "Validation set: Loss: 3.70196\n",
      "EarlyStopping counter: 1 out of 10\n",
      "\n",
      "\n",
      "loss: 3.661864  [50182/194147]\n",
      "loss: 3.701102  [101382/194147]\n",
      "loss: 3.635072  [152582/194147]\n"
     ]
    },
    {
     "name": "stderr",
     "output_type": "stream",
     "text": [
      "\n",
      " 14%|█▍        | 58/400 [19:35<1:55:38, 20.29s/it]\u001b[A"
     ]
    },
    {
     "name": "stdout",
     "output_type": "stream",
     "text": [
      "Validation set: Loss: 3.70211\n",
      "EarlyStopping counter: 2 out of 10\n",
      "\n",
      "\n",
      "loss: 3.742846  [50182/194147]\n",
      "loss: 3.676553  [101382/194147]\n",
      "loss: 3.628935  [152582/194147]\n"
     ]
    },
    {
     "name": "stderr",
     "output_type": "stream",
     "text": [
      "\n",
      " 15%|█▍        | 59/400 [19:56<1:55:14, 20.28s/it]\u001b[A"
     ]
    },
    {
     "name": "stdout",
     "output_type": "stream",
     "text": [
      "Validation set: Loss: 3.70165\n",
      "Validation loss decreased (3.701950 --> 3.701654).  Saving model ...\n",
      "\n",
      "\n",
      "loss: 3.657212  [50182/194147]\n",
      "loss: 3.690499  [101382/194147]\n",
      "loss: 3.675900  [152582/194147]\n"
     ]
    },
    {
     "name": "stderr",
     "output_type": "stream",
     "text": [
      "\n",
      " 15%|█▌        | 60/400 [20:16<1:55:09, 20.32s/it]\u001b[A"
     ]
    },
    {
     "name": "stdout",
     "output_type": "stream",
     "text": [
      "Validation set: Loss: 3.70125\n",
      "Validation loss decreased (3.701654 --> 3.701255).  Saving model ...\n",
      "\n",
      "\n",
      "loss: 3.695469  [50182/194147]\n",
      "loss: 3.690786  [101382/194147]\n",
      "loss: 3.683961  [152582/194147]\n"
     ]
    },
    {
     "name": "stderr",
     "output_type": "stream",
     "text": [
      "\n",
      " 15%|█▌        | 61/400 [20:36<1:54:36, 20.29s/it]\u001b[A"
     ]
    },
    {
     "name": "stdout",
     "output_type": "stream",
     "text": [
      "Validation set: Loss: 3.70149\n",
      "EarlyStopping counter: 1 out of 10\n",
      "\n",
      "\n",
      "loss: 3.686473  [50182/194147]\n",
      "loss: 3.770010  [101382/194147]\n",
      "loss: 3.714354  [152582/194147]\n"
     ]
    },
    {
     "name": "stderr",
     "output_type": "stream",
     "text": [
      "\n",
      " 16%|█▌        | 62/400 [20:56<1:53:51, 20.21s/it]\u001b[A"
     ]
    },
    {
     "name": "stdout",
     "output_type": "stream",
     "text": [
      "Validation set: Loss: 3.70142\n",
      "EarlyStopping counter: 2 out of 10\n",
      "\n",
      "\n",
      "loss: 3.739825  [50182/194147]\n",
      "loss: 3.721737  [101382/194147]\n",
      "loss: 3.778924  [152582/194147]\n"
     ]
    },
    {
     "name": "stderr",
     "output_type": "stream",
     "text": [
      "\n",
      " 16%|█▌        | 63/400 [21:17<1:53:44, 20.25s/it]\u001b[A"
     ]
    },
    {
     "name": "stdout",
     "output_type": "stream",
     "text": [
      "Validation set: Loss: 3.70113\n",
      "Validation loss decreased (3.701255 --> 3.701132).  Saving model ...\n",
      "\n",
      "\n",
      "loss: 3.718637  [50182/194147]\n",
      "loss: 3.736151  [101382/194147]\n",
      "loss: 3.712941  [152582/194147]\n"
     ]
    },
    {
     "name": "stderr",
     "output_type": "stream",
     "text": [
      "\n",
      " 16%|█▌        | 64/400 [21:36<1:52:52, 20.16s/it]\u001b[A"
     ]
    },
    {
     "name": "stdout",
     "output_type": "stream",
     "text": [
      "Validation set: Loss: 3.70095\n",
      "Validation loss decreased (3.701132 --> 3.700948).  Saving model ...\n",
      "\n",
      "\n",
      "loss: 3.661670  [50182/194147]\n",
      "loss: 3.671846  [101382/194147]\n",
      "loss: 3.696324  [152582/194147]\n"
     ]
    },
    {
     "name": "stderr",
     "output_type": "stream",
     "text": [
      "\n",
      " 16%|█▋        | 65/400 [21:57<1:53:11, 20.27s/it]\u001b[A"
     ]
    },
    {
     "name": "stdout",
     "output_type": "stream",
     "text": [
      "Validation set: Loss: 3.70175\n",
      "EarlyStopping counter: 1 out of 10\n",
      "\n",
      "\n",
      "loss: 3.649609  [50182/194147]\n",
      "loss: 3.659038  [101382/194147]\n",
      "loss: 3.758294  [152582/194147]\n"
     ]
    },
    {
     "name": "stderr",
     "output_type": "stream",
     "text": [
      "\n",
      " 16%|█▋        | 66/400 [22:18<1:53:22, 20.37s/it]\u001b[A"
     ]
    },
    {
     "name": "stdout",
     "output_type": "stream",
     "text": [
      "Validation set: Loss: 3.70090\n",
      "Validation loss decreased (3.700948 --> 3.700895).  Saving model ...\n",
      "\n",
      "\n",
      "loss: 3.648681  [50182/194147]\n",
      "loss: 3.688719  [101382/194147]\n",
      "loss: 3.718415  [152582/194147]\n"
     ]
    },
    {
     "name": "stderr",
     "output_type": "stream",
     "text": [
      "\n",
      " 17%|█▋        | 67/400 [22:38<1:52:27, 20.26s/it]\u001b[A"
     ]
    },
    {
     "name": "stdout",
     "output_type": "stream",
     "text": [
      "Validation set: Loss: 3.70119\n",
      "EarlyStopping counter: 1 out of 10\n",
      "\n",
      "\n",
      "loss: 3.725134  [50182/194147]\n",
      "loss: 3.684457  [101382/194147]\n",
      "loss: 3.654886  [152582/194147]\n"
     ]
    },
    {
     "name": "stderr",
     "output_type": "stream",
     "text": [
      "\n",
      " 17%|█▋        | 68/400 [22:58<1:52:36, 20.35s/it]\u001b[A"
     ]
    },
    {
     "name": "stdout",
     "output_type": "stream",
     "text": [
      "Validation set: Loss: 3.70056\n",
      "Validation loss decreased (3.700895 --> 3.700564).  Saving model ...\n",
      "\n",
      "\n",
      "loss: 3.592007  [50182/194147]\n",
      "loss: 3.690690  [101382/194147]\n",
      "loss: 3.705461  [152582/194147]\n"
     ]
    },
    {
     "name": "stderr",
     "output_type": "stream",
     "text": [
      "\n",
      " 17%|█▋        | 69/400 [23:19<1:52:16, 20.35s/it]\u001b[A"
     ]
    },
    {
     "name": "stdout",
     "output_type": "stream",
     "text": [
      "Validation set: Loss: 3.70079\n",
      "EarlyStopping counter: 1 out of 10\n",
      "\n",
      "\n",
      "loss: 3.711696  [50182/194147]\n",
      "loss: 3.737861  [101382/194147]\n",
      "loss: 3.672693  [152582/194147]\n"
     ]
    },
    {
     "name": "stderr",
     "output_type": "stream",
     "text": [
      "\n",
      " 18%|█▊        | 70/400 [23:39<1:51:25, 20.26s/it]\u001b[A"
     ]
    },
    {
     "name": "stdout",
     "output_type": "stream",
     "text": [
      "Validation set: Loss: 3.70075\n",
      "EarlyStopping counter: 2 out of 10\n",
      "\n",
      "\n",
      "loss: 3.684661  [50182/194147]\n",
      "loss: 3.690300  [101382/194147]\n",
      "loss: 3.774336  [152582/194147]\n"
     ]
    },
    {
     "name": "stderr",
     "output_type": "stream",
     "text": [
      "\n",
      " 18%|█▊        | 71/400 [23:59<1:51:31, 20.34s/it]\u001b[A"
     ]
    },
    {
     "name": "stdout",
     "output_type": "stream",
     "text": [
      "Validation set: Loss: 3.70042\n",
      "Validation loss decreased (3.700564 --> 3.700417).  Saving model ...\n",
      "\n",
      "\n",
      "loss: 3.728851  [50182/194147]\n",
      "loss: 3.661062  [101382/194147]\n",
      "loss: 3.637727  [152582/194147]\n"
     ]
    },
    {
     "name": "stderr",
     "output_type": "stream",
     "text": [
      "\n",
      " 18%|█▊        | 72/400 [24:19<1:50:53, 20.28s/it]\u001b[A"
     ]
    },
    {
     "name": "stdout",
     "output_type": "stream",
     "text": [
      "Validation set: Loss: 3.70034\n",
      "Validation loss decreased (3.700417 --> 3.700345).  Saving model ...\n",
      "\n",
      "\n",
      "loss: 3.708900  [50182/194147]\n",
      "loss: 3.657411  [101382/194147]\n",
      "loss: 3.662992  [152582/194147]\n"
     ]
    },
    {
     "name": "stderr",
     "output_type": "stream",
     "text": [
      "\n",
      " 18%|█▊        | 73/400 [24:40<1:50:40, 20.31s/it]\u001b[A"
     ]
    },
    {
     "name": "stdout",
     "output_type": "stream",
     "text": [
      "Validation set: Loss: 3.70035\n",
      "EarlyStopping counter: 1 out of 10\n",
      "\n",
      "\n",
      "loss: 3.673853  [50182/194147]\n",
      "loss: 3.656404  [101382/194147]\n",
      "loss: 3.697126  [152582/194147]\n"
     ]
    },
    {
     "name": "stderr",
     "output_type": "stream",
     "text": [
      "\n",
      " 18%|█▊        | 74/400 [25:00<1:50:29, 20.34s/it]\u001b[A"
     ]
    },
    {
     "name": "stdout",
     "output_type": "stream",
     "text": [
      "Validation set: Loss: 3.70017\n",
      "Validation loss decreased (3.700345 --> 3.700170).  Saving model ...\n",
      "\n",
      "\n",
      "loss: 3.715818  [50182/194147]\n",
      "loss: 3.675083  [101382/194147]\n",
      "loss: 3.660262  [152582/194147]\n"
     ]
    },
    {
     "name": "stderr",
     "output_type": "stream",
     "text": [
      "\n",
      " 19%|█▉        | 75/400 [25:20<1:49:45, 20.26s/it]\u001b[A"
     ]
    },
    {
     "name": "stdout",
     "output_type": "stream",
     "text": [
      "Validation set: Loss: 3.70068\n",
      "EarlyStopping counter: 1 out of 10\n",
      "\n",
      "\n",
      "loss: 3.728709  [50182/194147]\n",
      "loss: 3.634189  [101382/194147]\n",
      "loss: 3.683903  [152582/194147]\n"
     ]
    },
    {
     "name": "stderr",
     "output_type": "stream",
     "text": [
      "\n",
      " 19%|█▉        | 76/400 [25:40<1:49:26, 20.27s/it]\u001b[A"
     ]
    },
    {
     "name": "stdout",
     "output_type": "stream",
     "text": [
      "Validation set: Loss: 3.70021\n",
      "EarlyStopping counter: 2 out of 10\n",
      "\n",
      "\n",
      "loss: 3.690406  [50182/194147]\n",
      "loss: 3.786671  [101382/194147]\n",
      "loss: 3.713534  [152582/194147]\n"
     ]
    },
    {
     "name": "stderr",
     "output_type": "stream",
     "text": [
      "\n",
      " 19%|█▉        | 77/400 [26:01<1:49:05, 20.27s/it]\u001b[A"
     ]
    },
    {
     "name": "stdout",
     "output_type": "stream",
     "text": [
      "Validation set: Loss: 3.70014\n",
      "Validation loss decreased (3.700170 --> 3.700143).  Saving model ...\n",
      "\n",
      "\n",
      "loss: 3.687858  [50182/194147]\n",
      "loss: 3.719864  [101382/194147]\n",
      "loss: 3.625236  [152582/194147]\n"
     ]
    },
    {
     "name": "stderr",
     "output_type": "stream",
     "text": [
      "\n",
      " 20%|█▉        | 78/400 [26:21<1:48:39, 20.25s/it]\u001b[A"
     ]
    },
    {
     "name": "stdout",
     "output_type": "stream",
     "text": [
      "Validation set: Loss: 3.70016\n",
      "EarlyStopping counter: 1 out of 10\n",
      "\n",
      "\n",
      "loss: 3.727194  [50182/194147]\n",
      "loss: 3.662862  [101382/194147]\n",
      "loss: 3.667921  [152582/194147]\n"
     ]
    },
    {
     "name": "stderr",
     "output_type": "stream",
     "text": [
      "\n",
      " 20%|█▉        | 79/400 [26:41<1:48:51, 20.35s/it]\u001b[A"
     ]
    },
    {
     "name": "stdout",
     "output_type": "stream",
     "text": [
      "Validation set: Loss: 3.70010\n",
      "Validation loss decreased (3.700143 --> 3.700099).  Saving model ...\n",
      "\n",
      "\n",
      "loss: 3.669934  [50182/194147]\n",
      "loss: 3.644285  [101382/194147]\n",
      "loss: 3.725650  [152582/194147]\n"
     ]
    },
    {
     "name": "stderr",
     "output_type": "stream",
     "text": [
      "\n",
      " 20%|██        | 80/400 [27:02<1:48:48, 20.40s/it]\u001b[A"
     ]
    },
    {
     "name": "stdout",
     "output_type": "stream",
     "text": [
      "Validation set: Loss: 3.70081\n",
      "EarlyStopping counter: 1 out of 10\n",
      "\n",
      "\n",
      "loss: 3.663859  [50182/194147]\n",
      "loss: 3.738210  [101382/194147]\n",
      "loss: 3.691974  [152582/194147]\n"
     ]
    },
    {
     "name": "stderr",
     "output_type": "stream",
     "text": [
      "\n",
      " 20%|██        | 81/400 [27:22<1:48:15, 20.36s/it]\u001b[A"
     ]
    },
    {
     "name": "stdout",
     "output_type": "stream",
     "text": [
      "Validation set: Loss: 3.70030\n",
      "EarlyStopping counter: 2 out of 10\n",
      "\n",
      "\n",
      "loss: 3.722413  [50182/194147]\n",
      "loss: 3.647100  [101382/194147]\n",
      "loss: 3.690367  [152582/194147]\n"
     ]
    },
    {
     "name": "stderr",
     "output_type": "stream",
     "text": [
      "\n",
      " 20%|██        | 82/400 [27:43<1:48:28, 20.47s/it]\u001b[A"
     ]
    },
    {
     "name": "stdout",
     "output_type": "stream",
     "text": [
      "Validation set: Loss: 3.70037\n",
      "EarlyStopping counter: 3 out of 10\n",
      "\n",
      "\n",
      "loss: 3.744478  [50182/194147]\n",
      "loss: 3.635195  [101382/194147]\n",
      "loss: 3.675294  [152582/194147]\n"
     ]
    },
    {
     "name": "stderr",
     "output_type": "stream",
     "text": [
      "\n",
      " 21%|██        | 83/400 [28:04<1:49:09, 20.66s/it]\u001b[A"
     ]
    },
    {
     "name": "stdout",
     "output_type": "stream",
     "text": [
      "Validation set: Loss: 3.69992\n",
      "Validation loss decreased (3.700099 --> 3.699915).  Saving model ...\n",
      "\n",
      "\n",
      "loss: 3.711761  [50182/194147]\n",
      "loss: 3.714585  [101382/194147]\n",
      "loss: 3.684700  [152582/194147]\n"
     ]
    },
    {
     "name": "stderr",
     "output_type": "stream",
     "text": [
      "\n",
      " 21%|██        | 84/400 [28:24<1:48:20, 20.57s/it]\u001b[A"
     ]
    },
    {
     "name": "stdout",
     "output_type": "stream",
     "text": [
      "Validation set: Loss: 3.70002\n",
      "EarlyStopping counter: 1 out of 10\n",
      "\n",
      "\n",
      "loss: 3.791502  [50182/194147]\n",
      "loss: 3.662352  [101382/194147]\n",
      "loss: 3.718040  [152582/194147]\n"
     ]
    },
    {
     "name": "stderr",
     "output_type": "stream",
     "text": [
      "\n",
      " 21%|██▏       | 85/400 [28:45<1:47:40, 20.51s/it]\u001b[A"
     ]
    },
    {
     "name": "stdout",
     "output_type": "stream",
     "text": [
      "Validation set: Loss: 3.69973\n",
      "Validation loss decreased (3.699915 --> 3.699731).  Saving model ...\n",
      "\n",
      "\n",
      "loss: 3.676157  [50182/194147]\n",
      "loss: 3.727522  [101382/194147]\n",
      "loss: 3.703116  [152582/194147]\n"
     ]
    },
    {
     "name": "stderr",
     "output_type": "stream",
     "text": [
      "\n",
      " 22%|██▏       | 86/400 [29:05<1:47:07, 20.47s/it]\u001b[A"
     ]
    },
    {
     "name": "stdout",
     "output_type": "stream",
     "text": [
      "Validation set: Loss: 3.69960\n",
      "Validation loss decreased (3.699731 --> 3.699597).  Saving model ...\n",
      "\n",
      "\n",
      "loss: 3.671379  [50182/194147]\n",
      "loss: 3.684911  [101382/194147]\n",
      "loss: 3.654886  [152582/194147]\n"
     ]
    },
    {
     "name": "stderr",
     "output_type": "stream",
     "text": [
      "\n",
      " 22%|██▏       | 87/400 [29:25<1:46:28, 20.41s/it]\u001b[A"
     ]
    },
    {
     "name": "stdout",
     "output_type": "stream",
     "text": [
      "Validation set: Loss: 3.70006\n",
      "EarlyStopping counter: 1 out of 10\n",
      "\n",
      "\n",
      "loss: 3.716027  [50182/194147]\n",
      "loss: 3.690966  [101382/194147]\n",
      "loss: 3.776142  [152582/194147]\n"
     ]
    },
    {
     "name": "stderr",
     "output_type": "stream",
     "text": [
      "\n",
      " 22%|██▏       | 88/400 [29:46<1:46:17, 20.44s/it]\u001b[A"
     ]
    },
    {
     "name": "stdout",
     "output_type": "stream",
     "text": [
      "Validation set: Loss: 3.69967\n",
      "EarlyStopping counter: 2 out of 10\n",
      "\n",
      "\n",
      "loss: 3.697785  [50182/194147]\n",
      "loss: 3.747272  [101382/194147]\n",
      "loss: 3.678538  [152582/194147]\n"
     ]
    },
    {
     "name": "stderr",
     "output_type": "stream",
     "text": [
      "\n",
      " 22%|██▏       | 89/400 [30:06<1:45:30, 20.35s/it]\u001b[A"
     ]
    },
    {
     "name": "stdout",
     "output_type": "stream",
     "text": [
      "Validation set: Loss: 3.69983\n",
      "EarlyStopping counter: 3 out of 10\n",
      "\n",
      "\n",
      "loss: 3.712599  [50182/194147]\n",
      "loss: 3.723867  [101382/194147]\n",
      "loss: 3.685879  [152582/194147]\n"
     ]
    },
    {
     "name": "stderr",
     "output_type": "stream",
     "text": [
      "\n",
      " 22%|██▎       | 90/400 [30:26<1:44:59, 20.32s/it]\u001b[A"
     ]
    },
    {
     "name": "stdout",
     "output_type": "stream",
     "text": [
      "Validation set: Loss: 3.69961\n",
      "EarlyStopping counter: 4 out of 10\n",
      "\n",
      "\n",
      "loss: 3.706470  [50182/194147]\n",
      "loss: 3.695291  [101382/194147]\n",
      "loss: 3.711924  [152582/194147]\n"
     ]
    },
    {
     "name": "stderr",
     "output_type": "stream",
     "text": [
      "\n",
      " 23%|██▎       | 91/400 [30:47<1:45:07, 20.41s/it]\u001b[A"
     ]
    },
    {
     "name": "stdout",
     "output_type": "stream",
     "text": [
      "Validation set: Loss: 3.69945\n",
      "Validation loss decreased (3.699597 --> 3.699455).  Saving model ...\n",
      "\n",
      "\n",
      "loss: 3.759777  [50182/194147]\n",
      "loss: 3.773880  [101382/194147]\n",
      "loss: 3.722365  [152582/194147]\n"
     ]
    },
    {
     "name": "stderr",
     "output_type": "stream",
     "text": [
      "\n",
      " 23%|██▎       | 92/400 [31:07<1:44:12, 20.30s/it]\u001b[A"
     ]
    },
    {
     "name": "stdout",
     "output_type": "stream",
     "text": [
      "Validation set: Loss: 3.69944\n",
      "Validation loss decreased (3.699455 --> 3.699437).  Saving model ...\n",
      "\n",
      "\n",
      "loss: 3.704263  [50182/194147]\n",
      "loss: 3.753697  [101382/194147]\n",
      "loss: 3.733451  [152582/194147]\n"
     ]
    },
    {
     "name": "stderr",
     "output_type": "stream",
     "text": [
      "\n",
      " 23%|██▎       | 93/400 [31:28<1:44:18, 20.39s/it]\u001b[A"
     ]
    },
    {
     "name": "stdout",
     "output_type": "stream",
     "text": [
      "Validation set: Loss: 3.69952\n",
      "EarlyStopping counter: 1 out of 10\n",
      "\n",
      "\n",
      "loss: 3.771107  [50182/194147]\n",
      "loss: 3.767977  [101382/194147]\n",
      "loss: 3.717758  [152582/194147]\n"
     ]
    },
    {
     "name": "stderr",
     "output_type": "stream",
     "text": [
      "\n",
      " 24%|██▎       | 94/400 [31:48<1:44:31, 20.49s/it]\u001b[A"
     ]
    },
    {
     "name": "stdout",
     "output_type": "stream",
     "text": [
      "Validation set: Loss: 3.69973\n",
      "EarlyStopping counter: 2 out of 10\n",
      "\n",
      "\n",
      "loss: 3.718242  [50182/194147]\n",
      "loss: 3.623803  [101382/194147]\n",
      "loss: 3.737737  [152582/194147]\n"
     ]
    },
    {
     "name": "stderr",
     "output_type": "stream",
     "text": [
      "\n",
      " 24%|██▍       | 95/400 [32:09<1:43:54, 20.44s/it]\u001b[A"
     ]
    },
    {
     "name": "stdout",
     "output_type": "stream",
     "text": [
      "Validation set: Loss: 3.69922\n",
      "Validation loss decreased (3.699437 --> 3.699220).  Saving model ...\n",
      "\n",
      "\n",
      "loss: 3.815840  [50182/194147]\n",
      "loss: 3.760997  [101382/194147]\n",
      "loss: 3.709300  [152582/194147]\n"
     ]
    },
    {
     "name": "stderr",
     "output_type": "stream",
     "text": [
      "\n",
      " 24%|██▍       | 96/400 [32:29<1:43:43, 20.47s/it]\u001b[A"
     ]
    },
    {
     "name": "stdout",
     "output_type": "stream",
     "text": [
      "Validation set: Loss: 3.69942\n",
      "EarlyStopping counter: 1 out of 10\n",
      "\n",
      "\n",
      "loss: 3.732801  [50182/194147]\n",
      "loss: 3.689292  [101382/194147]\n",
      "loss: 3.719493  [152582/194147]\n"
     ]
    },
    {
     "name": "stderr",
     "output_type": "stream",
     "text": [
      "\n",
      " 24%|██▍       | 97/400 [32:50<1:43:43, 20.54s/it]\u001b[A"
     ]
    },
    {
     "name": "stdout",
     "output_type": "stream",
     "text": [
      "Validation set: Loss: 3.69937\n",
      "EarlyStopping counter: 2 out of 10\n",
      "\n",
      "\n",
      "loss: 3.712668  [50182/194147]\n",
      "loss: 3.657891  [101382/194147]\n",
      "loss: 3.676618  [152582/194147]\n"
     ]
    },
    {
     "name": "stderr",
     "output_type": "stream",
     "text": [
      "\n",
      " 24%|██▍       | 98/400 [33:10<1:43:02, 20.47s/it]\u001b[A"
     ]
    },
    {
     "name": "stdout",
     "output_type": "stream",
     "text": [
      "Validation set: Loss: 3.69922\n",
      "Validation loss decreased (3.699220 --> 3.699220).  Saving model ...\n",
      "\n",
      "\n",
      "loss: 3.711802  [50182/194147]\n",
      "loss: 3.649264  [101382/194147]\n",
      "loss: 3.778039  [152582/194147]\n"
     ]
    },
    {
     "name": "stderr",
     "output_type": "stream",
     "text": [
      "\n",
      " 25%|██▍       | 99/400 [33:31<1:43:12, 20.57s/it]\u001b[A"
     ]
    },
    {
     "name": "stdout",
     "output_type": "stream",
     "text": [
      "Validation set: Loss: 3.69916\n",
      "Validation loss decreased (3.699220 --> 3.699159).  Saving model ...\n",
      "\n",
      "\n",
      "loss: 3.702052  [50182/194147]\n",
      "loss: 3.701713  [101382/194147]\n",
      "loss: 3.650009  [152582/194147]\n"
     ]
    },
    {
     "name": "stderr",
     "output_type": "stream",
     "text": [
      "\n",
      " 25%|██▌       | 100/400 [33:51<1:42:37, 20.53s/it]\u001b[A"
     ]
    },
    {
     "name": "stdout",
     "output_type": "stream",
     "text": [
      "Validation set: Loss: 3.69936\n",
      "EarlyStopping counter: 1 out of 10\n",
      "\n",
      "\n",
      "loss: 3.661186  [50182/194147]\n",
      "loss: 3.602701  [101382/194147]\n",
      "loss: 3.699886  [152582/194147]\n"
     ]
    },
    {
     "name": "stderr",
     "output_type": "stream",
     "text": [
      "\n",
      " 25%|██▌       | 101/400 [34:12<1:42:12, 20.51s/it]\u001b[A"
     ]
    },
    {
     "name": "stdout",
     "output_type": "stream",
     "text": [
      "Validation set: Loss: 3.69920\n",
      "EarlyStopping counter: 2 out of 10\n",
      "\n",
      "\n",
      "loss: 3.665636  [50182/194147]\n",
      "loss: 3.630539  [101382/194147]\n",
      "loss: 3.699127  [152582/194147]\n"
     ]
    },
    {
     "name": "stderr",
     "output_type": "stream",
     "text": [
      "\n",
      " 26%|██▌       | 102/400 [34:32<1:41:41, 20.48s/it]\u001b[A"
     ]
    },
    {
     "name": "stdout",
     "output_type": "stream",
     "text": [
      "Validation set: Loss: 3.69917\n",
      "EarlyStopping counter: 3 out of 10\n",
      "\n",
      "\n",
      "loss: 3.678483  [50182/194147]\n",
      "loss: 3.702718  [101382/194147]\n",
      "loss: 3.720709  [152582/194147]\n"
     ]
    },
    {
     "name": "stderr",
     "output_type": "stream",
     "text": [
      "\n",
      " 26%|██▌       | 103/400 [34:53<1:41:16, 20.46s/it]\u001b[A"
     ]
    },
    {
     "name": "stdout",
     "output_type": "stream",
     "text": [
      "Validation set: Loss: 3.69949\n",
      "EarlyStopping counter: 4 out of 10\n",
      "\n",
      "\n",
      "loss: 3.717327  [50182/194147]\n",
      "loss: 3.754048  [101382/194147]\n",
      "loss: 3.663051  [152582/194147]\n"
     ]
    },
    {
     "name": "stderr",
     "output_type": "stream",
     "text": [
      "\n",
      " 26%|██▌       | 104/400 [35:13<1:40:39, 20.40s/it]\u001b[A"
     ]
    },
    {
     "name": "stdout",
     "output_type": "stream",
     "text": [
      "Validation set: Loss: 3.69934\n",
      "EarlyStopping counter: 5 out of 10\n",
      "\n",
      "\n",
      "loss: 3.689656  [50182/194147]\n",
      "loss: 3.717505  [101382/194147]\n",
      "loss: 3.658976  [152582/194147]\n"
     ]
    },
    {
     "name": "stderr",
     "output_type": "stream",
     "text": [
      "\n",
      " 26%|██▋       | 105/400 [35:33<1:40:11, 20.38s/it]\u001b[A"
     ]
    },
    {
     "name": "stdout",
     "output_type": "stream",
     "text": [
      "Validation set: Loss: 3.69914\n",
      "Validation loss decreased (3.699159 --> 3.699136).  Saving model ...\n",
      "\n",
      "\n",
      "loss: 3.647412  [50182/194147]\n",
      "loss: 3.614013  [101382/194147]\n",
      "loss: 3.650976  [152582/194147]\n"
     ]
    },
    {
     "name": "stderr",
     "output_type": "stream",
     "text": [
      "\n",
      " 26%|██▋       | 106/400 [35:54<1:39:45, 20.36s/it]\u001b[A"
     ]
    },
    {
     "name": "stdout",
     "output_type": "stream",
     "text": [
      "Validation set: Loss: 3.69916\n",
      "EarlyStopping counter: 1 out of 10\n",
      "\n",
      "\n",
      "loss: 3.709618  [50182/194147]\n",
      "loss: 3.638665  [101382/194147]\n",
      "loss: 3.665787  [152582/194147]\n"
     ]
    },
    {
     "name": "stderr",
     "output_type": "stream",
     "text": [
      "\n",
      " 27%|██▋       | 107/400 [36:14<1:40:00, 20.48s/it]\u001b[A"
     ]
    },
    {
     "name": "stdout",
     "output_type": "stream",
     "text": [
      "Validation set: Loss: 3.69916\n",
      "EarlyStopping counter: 2 out of 10\n",
      "\n",
      "\n",
      "loss: 3.779978  [50182/194147]\n",
      "loss: 3.629498  [101382/194147]\n",
      "loss: 3.660295  [152582/194147]\n"
     ]
    },
    {
     "name": "stderr",
     "output_type": "stream",
     "text": [
      "\n",
      " 27%|██▋       | 108/400 [36:35<1:40:10, 20.58s/it]\u001b[A"
     ]
    },
    {
     "name": "stdout",
     "output_type": "stream",
     "text": [
      "Validation set: Loss: 3.69957\n",
      "EarlyStopping counter: 3 out of 10\n",
      "\n",
      "\n",
      "loss: 3.738435  [50182/194147]\n",
      "loss: 3.697999  [101382/194147]\n",
      "loss: 3.657865  [152582/194147]\n"
     ]
    },
    {
     "name": "stderr",
     "output_type": "stream",
     "text": [
      "\n",
      " 27%|██▋       | 109/400 [36:56<1:39:25, 20.50s/it]\u001b[A"
     ]
    },
    {
     "name": "stdout",
     "output_type": "stream",
     "text": [
      "Validation set: Loss: 3.69907\n",
      "Validation loss decreased (3.699136 --> 3.699072).  Saving model ...\n",
      "\n",
      "\n",
      "loss: 3.717737  [50182/194147]\n",
      "loss: 3.657870  [101382/194147]\n",
      "loss: 3.673927  [152582/194147]\n"
     ]
    },
    {
     "name": "stderr",
     "output_type": "stream",
     "text": [
      "\n",
      " 28%|██▊       | 110/400 [37:16<1:39:14, 20.53s/it]\u001b[A"
     ]
    },
    {
     "name": "stdout",
     "output_type": "stream",
     "text": [
      "Validation set: Loss: 3.69906\n",
      "Validation loss decreased (3.699072 --> 3.699065).  Saving model ...\n",
      "\n",
      "\n",
      "loss: 3.731931  [50182/194147]\n",
      "loss: 3.665699  [101382/194147]\n",
      "loss: 3.779863  [152582/194147]\n"
     ]
    },
    {
     "name": "stderr",
     "output_type": "stream",
     "text": [
      "\n",
      " 28%|██▊       | 111/400 [37:37<1:38:47, 20.51s/it]\u001b[A"
     ]
    },
    {
     "name": "stdout",
     "output_type": "stream",
     "text": [
      "Validation set: Loss: 3.69931\n",
      "EarlyStopping counter: 1 out of 10\n",
      "\n",
      "\n",
      "loss: 3.727630  [50182/194147]\n",
      "loss: 3.689228  [101382/194147]\n",
      "loss: 3.608325  [152582/194147]\n"
     ]
    },
    {
     "name": "stderr",
     "output_type": "stream",
     "text": [
      "\n",
      " 28%|██▊       | 112/400 [37:57<1:37:44, 20.36s/it]\u001b[A"
     ]
    },
    {
     "name": "stdout",
     "output_type": "stream",
     "text": [
      "Validation set: Loss: 3.69932\n",
      "EarlyStopping counter: 2 out of 10\n",
      "\n",
      "\n",
      "loss: 3.700377  [50182/194147]\n",
      "loss: 3.791348  [101382/194147]\n",
      "loss: 3.636883  [152582/194147]\n"
     ]
    },
    {
     "name": "stderr",
     "output_type": "stream",
     "text": [
      "\n",
      " 28%|██▊       | 113/400 [38:17<1:37:28, 20.38s/it]\u001b[A"
     ]
    },
    {
     "name": "stdout",
     "output_type": "stream",
     "text": [
      "Validation set: Loss: 3.69890\n",
      "Validation loss decreased (3.699065 --> 3.698902).  Saving model ...\n",
      "\n",
      "\n",
      "loss: 3.675237  [50182/194147]\n",
      "loss: 3.717920  [101382/194147]\n",
      "loss: 3.766539  [152582/194147]\n"
     ]
    },
    {
     "name": "stderr",
     "output_type": "stream",
     "text": [
      "\n",
      " 28%|██▊       | 114/400 [38:38<1:37:31, 20.46s/it]\u001b[A"
     ]
    },
    {
     "name": "stdout",
     "output_type": "stream",
     "text": [
      "Validation set: Loss: 3.69910\n",
      "EarlyStopping counter: 1 out of 10\n",
      "\n",
      "\n",
      "loss: 3.618810  [50182/194147]\n",
      "loss: 3.720094  [101382/194147]\n",
      "loss: 3.741529  [152582/194147]\n"
     ]
    },
    {
     "name": "stderr",
     "output_type": "stream",
     "text": [
      "\n",
      " 29%|██▉       | 115/400 [38:58<1:36:24, 20.30s/it]\u001b[A"
     ]
    },
    {
     "name": "stdout",
     "output_type": "stream",
     "text": [
      "Validation set: Loss: 3.69897\n",
      "EarlyStopping counter: 2 out of 10\n",
      "\n",
      "\n",
      "loss: 3.760498  [50182/194147]\n",
      "loss: 3.629443  [101382/194147]\n",
      "loss: 3.671908  [152582/194147]\n"
     ]
    },
    {
     "name": "stderr",
     "output_type": "stream",
     "text": [
      "\n",
      " 29%|██▉       | 116/400 [39:18<1:36:53, 20.47s/it]\u001b[A"
     ]
    },
    {
     "name": "stdout",
     "output_type": "stream",
     "text": [
      "Validation set: Loss: 3.69922\n",
      "EarlyStopping counter: 3 out of 10\n",
      "\n",
      "\n",
      "loss: 3.742997  [50182/194147]\n",
      "loss: 3.664311  [101382/194147]\n",
      "loss: 3.712982  [152582/194147]\n"
     ]
    },
    {
     "name": "stderr",
     "output_type": "stream",
     "text": [
      "\n",
      " 29%|██▉       | 117/400 [39:39<1:37:00, 20.57s/it]\u001b[A"
     ]
    },
    {
     "name": "stdout",
     "output_type": "stream",
     "text": [
      "Validation set: Loss: 3.69872\n",
      "Validation loss decreased (3.698902 --> 3.698724).  Saving model ...\n",
      "\n",
      "\n",
      "loss: 3.712633  [50182/194147]\n",
      "loss: 3.695559  [101382/194147]\n",
      "loss: 3.629332  [152582/194147]\n"
     ]
    },
    {
     "name": "stderr",
     "output_type": "stream",
     "text": [
      "\n",
      " 30%|██▉       | 118/400 [40:00<1:36:35, 20.55s/it]\u001b[A"
     ]
    },
    {
     "name": "stdout",
     "output_type": "stream",
     "text": [
      "Validation set: Loss: 3.69938\n",
      "EarlyStopping counter: 1 out of 10\n",
      "\n",
      "\n",
      "loss: 3.747158  [50182/194147]\n",
      "loss: 3.756187  [101382/194147]\n",
      "loss: 3.682128  [152582/194147]\n"
     ]
    },
    {
     "name": "stderr",
     "output_type": "stream",
     "text": [
      "\n",
      " 30%|██▉       | 119/400 [40:20<1:35:38, 20.42s/it]\u001b[A"
     ]
    },
    {
     "name": "stdout",
     "output_type": "stream",
     "text": [
      "Validation set: Loss: 3.69883\n",
      "EarlyStopping counter: 2 out of 10\n",
      "\n",
      "\n",
      "loss: 3.713407  [50182/194147]\n",
      "loss: 3.736850  [101382/194147]\n",
      "loss: 3.595974  [152582/194147]\n"
     ]
    },
    {
     "name": "stderr",
     "output_type": "stream",
     "text": [
      "\n",
      " 30%|███       | 120/400 [40:40<1:34:44, 20.30s/it]\u001b[A"
     ]
    },
    {
     "name": "stdout",
     "output_type": "stream",
     "text": [
      "Validation set: Loss: 3.69887\n",
      "EarlyStopping counter: 3 out of 10\n",
      "\n",
      "\n",
      "loss: 3.662538  [50182/194147]\n",
      "loss: 3.710440  [101382/194147]\n",
      "loss: 3.757907  [152582/194147]\n"
     ]
    },
    {
     "name": "stderr",
     "output_type": "stream",
     "text": [
      "\n",
      " 30%|███       | 121/400 [41:01<1:34:51, 20.40s/it]\u001b[A"
     ]
    },
    {
     "name": "stdout",
     "output_type": "stream",
     "text": [
      "Validation set: Loss: 3.69882\n",
      "EarlyStopping counter: 4 out of 10\n",
      "\n",
      "\n",
      "loss: 3.796717  [50182/194147]\n",
      "loss: 3.625861  [101382/194147]\n",
      "loss: 3.703507  [152582/194147]\n"
     ]
    },
    {
     "name": "stderr",
     "output_type": "stream",
     "text": [
      "\n",
      " 30%|███       | 122/400 [41:21<1:34:17, 20.35s/it]\u001b[A"
     ]
    },
    {
     "name": "stdout",
     "output_type": "stream",
     "text": [
      "Validation set: Loss: 3.69870\n",
      "Validation loss decreased (3.698724 --> 3.698701).  Saving model ...\n",
      "\n",
      "\n",
      "loss: 3.623466  [50182/194147]\n",
      "loss: 3.662340  [101382/194147]\n",
      "loss: 3.697773  [152582/194147]\n"
     ]
    },
    {
     "name": "stderr",
     "output_type": "stream",
     "text": [
      "\n",
      " 31%|███       | 123/400 [41:41<1:33:30, 20.25s/it]\u001b[A"
     ]
    },
    {
     "name": "stdout",
     "output_type": "stream",
     "text": [
      "Validation set: Loss: 3.69862\n",
      "Validation loss decreased (3.698701 --> 3.698618).  Saving model ...\n",
      "\n",
      "\n",
      "loss: 3.700554  [50182/194147]\n",
      "loss: 3.695806  [101382/194147]\n",
      "loss: 3.675744  [152582/194147]\n"
     ]
    },
    {
     "name": "stderr",
     "output_type": "stream",
     "text": [
      "\n",
      " 31%|███       | 124/400 [42:01<1:33:03, 20.23s/it]\u001b[A"
     ]
    },
    {
     "name": "stdout",
     "output_type": "stream",
     "text": [
      "Validation set: Loss: 3.69917\n",
      "EarlyStopping counter: 1 out of 10\n",
      "\n",
      "\n",
      "loss: 3.700241  [50182/194147]\n",
      "loss: 3.700318  [101382/194147]\n",
      "loss: 3.688211  [152582/194147]\n"
     ]
    },
    {
     "name": "stderr",
     "output_type": "stream",
     "text": [
      "\n",
      " 31%|███▏      | 125/400 [42:21<1:32:43, 20.23s/it]\u001b[A"
     ]
    },
    {
     "name": "stdout",
     "output_type": "stream",
     "text": [
      "Validation set: Loss: 3.69886\n",
      "EarlyStopping counter: 2 out of 10\n",
      "\n",
      "\n",
      "loss: 3.714736  [50182/194147]\n",
      "loss: 3.675996  [101382/194147]\n",
      "loss: 3.683350  [152582/194147]\n"
     ]
    },
    {
     "name": "stderr",
     "output_type": "stream",
     "text": [
      "\n",
      " 32%|███▏      | 126/400 [42:41<1:32:03, 20.16s/it]\u001b[A"
     ]
    },
    {
     "name": "stdout",
     "output_type": "stream",
     "text": [
      "Validation set: Loss: 3.69866\n",
      "EarlyStopping counter: 3 out of 10\n",
      "\n",
      "\n",
      "loss: 3.771559  [50182/194147]\n",
      "loss: 3.752985  [101382/194147]\n",
      "loss: 3.703032  [152582/194147]\n"
     ]
    },
    {
     "name": "stderr",
     "output_type": "stream",
     "text": [
      "\n",
      " 32%|███▏      | 127/400 [43:02<1:32:13, 20.27s/it]\u001b[A"
     ]
    },
    {
     "name": "stdout",
     "output_type": "stream",
     "text": [
      "Validation set: Loss: 3.69884\n",
      "EarlyStopping counter: 4 out of 10\n",
      "\n",
      "\n",
      "loss: 3.676251  [50182/194147]\n",
      "loss: 3.687445  [101382/194147]\n",
      "loss: 3.692909  [152582/194147]\n"
     ]
    },
    {
     "name": "stderr",
     "output_type": "stream",
     "text": [
      "\n",
      " 32%|███▏      | 128/400 [43:22<1:31:47, 20.25s/it]\u001b[A"
     ]
    },
    {
     "name": "stdout",
     "output_type": "stream",
     "text": [
      "Validation set: Loss: 3.69887\n",
      "EarlyStopping counter: 5 out of 10\n",
      "\n",
      "\n",
      "loss: 3.807713  [50182/194147]\n",
      "loss: 3.693648  [101382/194147]\n",
      "loss: 3.695068  [152582/194147]\n"
     ]
    },
    {
     "name": "stderr",
     "output_type": "stream",
     "text": [
      "\n",
      " 32%|███▏      | 129/400 [43:42<1:31:23, 20.23s/it]\u001b[A"
     ]
    },
    {
     "name": "stdout",
     "output_type": "stream",
     "text": [
      "Validation set: Loss: 3.69887\n",
      "EarlyStopping counter: 6 out of 10\n",
      "\n",
      "\n",
      "loss: 3.693872  [50182/194147]\n",
      "loss: 3.762667  [101382/194147]\n",
      "loss: 3.650909  [152582/194147]\n"
     ]
    },
    {
     "name": "stderr",
     "output_type": "stream",
     "text": [
      "\n",
      " 32%|███▎      | 130/400 [44:02<1:30:59, 20.22s/it]\u001b[A"
     ]
    },
    {
     "name": "stdout",
     "output_type": "stream",
     "text": [
      "Validation set: Loss: 3.69855\n",
      "Validation loss decreased (3.698618 --> 3.698552).  Saving model ...\n",
      "\n",
      "\n",
      "loss: 3.676177  [50182/194147]\n",
      "loss: 3.756464  [101382/194147]\n",
      "loss: 3.769868  [152582/194147]\n"
     ]
    },
    {
     "name": "stderr",
     "output_type": "stream",
     "text": [
      "\n",
      " 33%|███▎      | 131/400 [44:22<1:30:18, 20.14s/it]\u001b[A"
     ]
    },
    {
     "name": "stdout",
     "output_type": "stream",
     "text": [
      "Validation set: Loss: 3.69870\n",
      "EarlyStopping counter: 1 out of 10\n",
      "\n",
      "\n",
      "loss: 3.693790  [50182/194147]\n",
      "loss: 3.767313  [101382/194147]\n",
      "loss: 3.650422  [152582/194147]\n"
     ]
    },
    {
     "name": "stderr",
     "output_type": "stream",
     "text": [
      "\n",
      " 33%|███▎      | 132/400 [44:43<1:30:10, 20.19s/it]\u001b[A"
     ]
    },
    {
     "name": "stdout",
     "output_type": "stream",
     "text": [
      "Validation set: Loss: 3.69867\n",
      "EarlyStopping counter: 2 out of 10\n",
      "\n",
      "\n",
      "loss: 3.749485  [50182/194147]\n",
      "loss: 3.658105  [101382/194147]\n",
      "loss: 3.605049  [152582/194147]\n"
     ]
    },
    {
     "name": "stderr",
     "output_type": "stream",
     "text": [
      "\n",
      " 33%|███▎      | 133/400 [45:03<1:29:44, 20.17s/it]\u001b[A"
     ]
    },
    {
     "name": "stdout",
     "output_type": "stream",
     "text": [
      "Validation set: Loss: 3.69845\n",
      "Validation loss decreased (3.698552 --> 3.698448).  Saving model ...\n",
      "\n",
      "\n",
      "loss: 3.684899  [50182/194147]\n",
      "loss: 3.740548  [101382/194147]\n",
      "loss: 3.681347  [152582/194147]\n"
     ]
    },
    {
     "name": "stderr",
     "output_type": "stream",
     "text": [
      "\n",
      " 34%|███▎      | 134/400 [45:23<1:29:10, 20.11s/it]\u001b[A"
     ]
    },
    {
     "name": "stdout",
     "output_type": "stream",
     "text": [
      "Validation set: Loss: 3.69852\n",
      "EarlyStopping counter: 1 out of 10\n",
      "\n",
      "\n",
      "loss: 3.601855  [50182/194147]\n",
      "loss: 3.736730  [101382/194147]\n",
      "loss: 3.740803  [152582/194147]\n"
     ]
    },
    {
     "name": "stderr",
     "output_type": "stream",
     "text": [
      "\n",
      " 34%|███▍      | 135/400 [45:43<1:29:02, 20.16s/it]\u001b[A"
     ]
    },
    {
     "name": "stdout",
     "output_type": "stream",
     "text": [
      "Validation set: Loss: 3.69840\n",
      "Validation loss decreased (3.698448 --> 3.698398).  Saving model ...\n",
      "\n",
      "\n",
      "loss: 3.705218  [50182/194147]\n",
      "loss: 3.708092  [101382/194147]\n",
      "loss: 3.767627  [152582/194147]\n"
     ]
    },
    {
     "name": "stderr",
     "output_type": "stream",
     "text": [
      "\n",
      " 34%|███▍      | 136/400 [46:03<1:29:06, 20.25s/it]\u001b[A"
     ]
    },
    {
     "name": "stdout",
     "output_type": "stream",
     "text": [
      "Validation set: Loss: 3.69865\n",
      "EarlyStopping counter: 1 out of 10\n",
      "\n",
      "\n",
      "loss: 3.585676  [50182/194147]\n",
      "loss: 3.694800  [101382/194147]\n",
      "loss: 3.704654  [152582/194147]\n"
     ]
    },
    {
     "name": "stderr",
     "output_type": "stream",
     "text": [
      "\n",
      " 34%|███▍      | 137/400 [46:23<1:28:11, 20.12s/it]\u001b[A"
     ]
    },
    {
     "name": "stdout",
     "output_type": "stream",
     "text": [
      "Validation set: Loss: 3.69851\n",
      "EarlyStopping counter: 2 out of 10\n",
      "\n",
      "\n",
      "loss: 3.673380  [50182/194147]\n",
      "loss: 3.663907  [101382/194147]\n",
      "loss: 3.687761  [152582/194147]\n"
     ]
    },
    {
     "name": "stderr",
     "output_type": "stream",
     "text": [
      "\n",
      " 34%|███▍      | 138/400 [46:43<1:27:57, 20.14s/it]\u001b[A"
     ]
    },
    {
     "name": "stdout",
     "output_type": "stream",
     "text": [
      "Validation set: Loss: 3.69860\n",
      "EarlyStopping counter: 3 out of 10\n",
      "\n",
      "\n",
      "loss: 3.761466  [50182/194147]\n",
      "loss: 3.590600  [101382/194147]\n",
      "loss: 3.643181  [152582/194147]\n"
     ]
    },
    {
     "name": "stderr",
     "output_type": "stream",
     "text": [
      "\n",
      " 35%|███▍      | 139/400 [47:04<1:27:39, 20.15s/it]\u001b[A"
     ]
    },
    {
     "name": "stdout",
     "output_type": "stream",
     "text": [
      "Validation set: Loss: 3.69837\n",
      "Validation loss decreased (3.698398 --> 3.698371).  Saving model ...\n",
      "\n",
      "\n",
      "loss: 3.624359  [50182/194147]\n",
      "loss: 3.663306  [101382/194147]\n",
      "loss: 3.672821  [152582/194147]\n"
     ]
    },
    {
     "name": "stderr",
     "output_type": "stream",
     "text": [
      "\n",
      " 35%|███▌      | 140/400 [47:24<1:27:25, 20.17s/it]\u001b[A"
     ]
    },
    {
     "name": "stdout",
     "output_type": "stream",
     "text": [
      "Validation set: Loss: 3.69835\n",
      "Validation loss decreased (3.698371 --> 3.698354).  Saving model ...\n",
      "\n",
      "\n",
      "loss: 3.685183  [50182/194147]\n",
      "loss: 3.760371  [101382/194147]\n",
      "loss: 3.742876  [152582/194147]\n"
     ]
    },
    {
     "name": "stderr",
     "output_type": "stream",
     "text": [
      "\n",
      " 35%|███▌      | 141/400 [47:44<1:27:13, 20.21s/it]\u001b[A"
     ]
    },
    {
     "name": "stdout",
     "output_type": "stream",
     "text": [
      "Validation set: Loss: 3.69831\n",
      "Validation loss decreased (3.698354 --> 3.698311).  Saving model ...\n",
      "\n",
      "\n",
      "loss: 3.794347  [50182/194147]\n",
      "loss: 3.733879  [101382/194147]\n",
      "loss: 3.669852  [152582/194147]\n"
     ]
    },
    {
     "name": "stderr",
     "output_type": "stream",
     "text": [
      "\n",
      " 36%|███▌      | 142/400 [48:04<1:26:23, 20.09s/it]\u001b[A"
     ]
    },
    {
     "name": "stdout",
     "output_type": "stream",
     "text": [
      "Validation set: Loss: 3.69917\n",
      "EarlyStopping counter: 1 out of 10\n",
      "\n",
      "\n",
      "loss: 3.739475  [50182/194147]\n",
      "loss: 3.654343  [101382/194147]\n",
      "loss: 3.703725  [152582/194147]\n"
     ]
    },
    {
     "name": "stderr",
     "output_type": "stream",
     "text": [
      "\n",
      " 36%|███▌      | 143/400 [48:24<1:26:17, 20.14s/it]\u001b[A"
     ]
    },
    {
     "name": "stdout",
     "output_type": "stream",
     "text": [
      "Validation set: Loss: 3.69830\n",
      "Validation loss decreased (3.698311 --> 3.698302).  Saving model ...\n",
      "\n",
      "\n",
      "loss: 3.754070  [50182/194147]\n",
      "loss: 3.708897  [101382/194147]\n",
      "loss: 3.737860  [152582/194147]\n"
     ]
    },
    {
     "name": "stderr",
     "output_type": "stream",
     "text": [
      "\n",
      " 36%|███▌      | 144/400 [48:44<1:25:56, 20.14s/it]\u001b[A"
     ]
    },
    {
     "name": "stdout",
     "output_type": "stream",
     "text": [
      "Validation set: Loss: 3.69851\n",
      "EarlyStopping counter: 1 out of 10\n",
      "\n",
      "\n",
      "loss: 3.674875  [50182/194147]\n",
      "loss: 3.667503  [101382/194147]\n",
      "loss: 3.675706  [152582/194147]\n"
     ]
    },
    {
     "name": "stderr",
     "output_type": "stream",
     "text": [
      "\n",
      " 36%|███▋      | 145/400 [49:04<1:25:21, 20.08s/it]\u001b[A"
     ]
    },
    {
     "name": "stdout",
     "output_type": "stream",
     "text": [
      "Validation set: Loss: 3.69876\n",
      "EarlyStopping counter: 2 out of 10\n",
      "\n",
      "\n",
      "loss: 3.674372  [50182/194147]\n",
      "loss: 3.724793  [101382/194147]\n",
      "loss: 3.661459  [152582/194147]\n"
     ]
    },
    {
     "name": "stderr",
     "output_type": "stream",
     "text": [
      "\n",
      " 36%|███▋      | 146/400 [49:25<1:25:16, 20.14s/it]\u001b[A"
     ]
    },
    {
     "name": "stdout",
     "output_type": "stream",
     "text": [
      "Validation set: Loss: 3.69887\n",
      "EarlyStopping counter: 3 out of 10\n",
      "\n",
      "\n",
      "loss: 3.732177  [50182/194147]\n",
      "loss: 3.677974  [101382/194147]\n",
      "loss: 3.807704  [152582/194147]\n"
     ]
    },
    {
     "name": "stderr",
     "output_type": "stream",
     "text": [
      "\n",
      " 37%|███▋      | 147/400 [49:45<1:25:15, 20.22s/it]\u001b[A"
     ]
    },
    {
     "name": "stdout",
     "output_type": "stream",
     "text": [
      "Validation set: Loss: 3.69849\n",
      "EarlyStopping counter: 4 out of 10\n",
      "\n",
      "\n",
      "loss: 3.652222  [50182/194147]\n",
      "loss: 3.732182  [101382/194147]\n",
      "loss: 3.633201  [152582/194147]\n"
     ]
    },
    {
     "name": "stderr",
     "output_type": "stream",
     "text": [
      "\n",
      " 37%|███▋      | 148/400 [50:05<1:24:41, 20.17s/it]\u001b[A"
     ]
    },
    {
     "name": "stdout",
     "output_type": "stream",
     "text": [
      "Validation set: Loss: 3.69870\n",
      "EarlyStopping counter: 5 out of 10\n",
      "\n",
      "\n",
      "loss: 3.690629  [50182/194147]\n",
      "loss: 3.688112  [101382/194147]\n",
      "loss: 3.694691  [152582/194147]\n"
     ]
    },
    {
     "name": "stderr",
     "output_type": "stream",
     "text": [
      "\n",
      " 37%|███▋      | 149/400 [50:25<1:24:14, 20.14s/it]\u001b[A"
     ]
    },
    {
     "name": "stdout",
     "output_type": "stream",
     "text": [
      "Validation set: Loss: 3.69829\n",
      "Validation loss decreased (3.698302 --> 3.698295).  Saving model ...\n",
      "\n",
      "\n",
      "loss: 3.696743  [50182/194147]\n",
      "loss: 3.770845  [101382/194147]\n",
      "loss: 3.739230  [152582/194147]\n"
     ]
    },
    {
     "name": "stderr",
     "output_type": "stream",
     "text": [
      "\n",
      " 38%|███▊      | 150/400 [50:45<1:23:45, 20.10s/it]\u001b[A"
     ]
    },
    {
     "name": "stdout",
     "output_type": "stream",
     "text": [
      "Validation set: Loss: 3.69822\n",
      "Validation loss decreased (3.698295 --> 3.698221).  Saving model ...\n",
      "\n",
      "\n",
      "loss: 3.690641  [50182/194147]\n",
      "loss: 3.643608  [101382/194147]\n",
      "loss: 3.677760  [152582/194147]\n"
     ]
    },
    {
     "name": "stderr",
     "output_type": "stream",
     "text": [
      "\n",
      " 38%|███▊      | 151/400 [51:06<1:23:46, 20.18s/it]\u001b[A"
     ]
    },
    {
     "name": "stdout",
     "output_type": "stream",
     "text": [
      "Validation set: Loss: 3.69826\n",
      "EarlyStopping counter: 1 out of 10\n",
      "\n",
      "\n",
      "loss: 3.680114  [50182/194147]\n",
      "loss: 3.715325  [101382/194147]\n",
      "loss: 3.645067  [152582/194147]\n"
     ]
    },
    {
     "name": "stderr",
     "output_type": "stream",
     "text": [
      "\n",
      " 38%|███▊      | 152/400 [51:26<1:23:25, 20.18s/it]\u001b[A"
     ]
    },
    {
     "name": "stdout",
     "output_type": "stream",
     "text": [
      "Validation set: Loss: 3.69830\n",
      "EarlyStopping counter: 2 out of 10\n",
      "\n",
      "\n",
      "loss: 3.684385  [50182/194147]\n",
      "loss: 3.728166  [101382/194147]\n",
      "loss: 3.743466  [152582/194147]\n"
     ]
    },
    {
     "name": "stderr",
     "output_type": "stream",
     "text": [
      "\n",
      " 38%|███▊      | 153/400 [51:46<1:22:52, 20.13s/it]\u001b[A"
     ]
    },
    {
     "name": "stdout",
     "output_type": "stream",
     "text": [
      "Validation set: Loss: 3.69902\n",
      "EarlyStopping counter: 3 out of 10\n",
      "\n",
      "\n",
      "loss: 3.703021  [50182/194147]\n",
      "loss: 3.716720  [101382/194147]\n",
      "loss: 3.696018  [152582/194147]\n"
     ]
    },
    {
     "name": "stderr",
     "output_type": "stream",
     "text": [
      "\n",
      " 38%|███▊      | 154/400 [52:06<1:23:08, 20.28s/it]\u001b[A"
     ]
    },
    {
     "name": "stdout",
     "output_type": "stream",
     "text": [
      "Validation set: Loss: 3.69850\n",
      "EarlyStopping counter: 4 out of 10\n",
      "\n",
      "\n",
      "loss: 3.693096  [50182/194147]\n",
      "loss: 3.687912  [101382/194147]\n",
      "loss: 3.648618  [152582/194147]\n"
     ]
    },
    {
     "name": "stderr",
     "output_type": "stream",
     "text": [
      "\n",
      " 39%|███▉      | 155/400 [52:26<1:22:31, 20.21s/it]\u001b[A"
     ]
    },
    {
     "name": "stdout",
     "output_type": "stream",
     "text": [
      "Validation set: Loss: 3.69839\n",
      "EarlyStopping counter: 5 out of 10\n",
      "\n",
      "\n",
      "loss: 3.702068  [50182/194147]\n",
      "loss: 3.761043  [101382/194147]\n",
      "loss: 3.713294  [152582/194147]\n"
     ]
    },
    {
     "name": "stderr",
     "output_type": "stream",
     "text": [
      "\n",
      " 39%|███▉      | 156/400 [52:47<1:22:10, 20.21s/it]\u001b[A"
     ]
    },
    {
     "name": "stdout",
     "output_type": "stream",
     "text": [
      "Validation set: Loss: 3.69808\n",
      "Validation loss decreased (3.698221 --> 3.698084).  Saving model ...\n",
      "\n",
      "\n",
      "loss: 3.678877  [50182/194147]\n",
      "loss: 3.714476  [101382/194147]\n",
      "loss: 3.706943  [152582/194147]\n"
     ]
    },
    {
     "name": "stderr",
     "output_type": "stream",
     "text": [
      "\n",
      " 39%|███▉      | 157/400 [53:07<1:22:04, 20.27s/it]\u001b[A"
     ]
    },
    {
     "name": "stdout",
     "output_type": "stream",
     "text": [
      "Validation set: Loss: 3.69821\n",
      "EarlyStopping counter: 1 out of 10\n",
      "\n",
      "\n",
      "loss: 3.672176  [50182/194147]\n",
      "loss: 3.680944  [101382/194147]\n",
      "loss: 3.714335  [152582/194147]\n"
     ]
    },
    {
     "name": "stderr",
     "output_type": "stream",
     "text": [
      "\n",
      " 40%|███▉      | 158/400 [53:27<1:21:34, 20.23s/it]\u001b[A"
     ]
    },
    {
     "name": "stdout",
     "output_type": "stream",
     "text": [
      "Validation set: Loss: 3.69829\n",
      "EarlyStopping counter: 2 out of 10\n",
      "\n",
      "\n",
      "loss: 3.687358  [50182/194147]\n",
      "loss: 3.721591  [101382/194147]\n",
      "loss: 3.639754  [152582/194147]\n"
     ]
    },
    {
     "name": "stderr",
     "output_type": "stream",
     "text": [
      "\n",
      " 40%|███▉      | 159/400 [53:47<1:21:19, 20.25s/it]\u001b[A"
     ]
    },
    {
     "name": "stdout",
     "output_type": "stream",
     "text": [
      "Validation set: Loss: 3.69808\n",
      "Validation loss decreased (3.698084 --> 3.698082).  Saving model ...\n",
      "\n",
      "\n",
      "loss: 3.699292  [50182/194147]\n",
      "loss: 3.685127  [101382/194147]\n",
      "loss: 3.647872  [152582/194147]\n"
     ]
    },
    {
     "name": "stderr",
     "output_type": "stream",
     "text": [
      "\n",
      " 40%|████      | 160/400 [54:08<1:21:20, 20.33s/it]\u001b[A"
     ]
    },
    {
     "name": "stdout",
     "output_type": "stream",
     "text": [
      "Validation set: Loss: 3.69815\n",
      "EarlyStopping counter: 1 out of 10\n",
      "\n",
      "\n",
      "loss: 3.712462  [50182/194147]\n",
      "loss: 3.714279  [101382/194147]\n",
      "loss: 3.674588  [152582/194147]\n"
     ]
    },
    {
     "name": "stderr",
     "output_type": "stream",
     "text": [
      "\n",
      " 40%|████      | 161/400 [54:28<1:20:51, 20.30s/it]\u001b[A"
     ]
    },
    {
     "name": "stdout",
     "output_type": "stream",
     "text": [
      "Validation set: Loss: 3.69810\n",
      "EarlyStopping counter: 2 out of 10\n",
      "\n",
      "\n",
      "loss: 3.784601  [50182/194147]\n",
      "loss: 3.650431  [101382/194147]\n",
      "loss: 3.679583  [152582/194147]\n"
     ]
    },
    {
     "name": "stderr",
     "output_type": "stream",
     "text": [
      "\n",
      " 40%|████      | 162/400 [54:48<1:20:29, 20.29s/it]\u001b[A"
     ]
    },
    {
     "name": "stdout",
     "output_type": "stream",
     "text": [
      "Validation set: Loss: 3.69808\n",
      "Validation loss decreased (3.698082 --> 3.698082).  Saving model ...\n",
      "\n",
      "\n",
      "loss: 3.698267  [50182/194147]\n",
      "loss: 3.713662  [101382/194147]\n",
      "loss: 3.723176  [152582/194147]\n"
     ]
    },
    {
     "name": "stderr",
     "output_type": "stream",
     "text": [
      "\n",
      " 41%|████      | 163/400 [55:09<1:20:07, 20.29s/it]\u001b[A"
     ]
    },
    {
     "name": "stdout",
     "output_type": "stream",
     "text": [
      "Validation set: Loss: 3.69835\n",
      "EarlyStopping counter: 1 out of 10\n",
      "\n",
      "\n",
      "loss: 3.732244  [50182/194147]\n",
      "loss: 3.699561  [101382/194147]\n",
      "loss: 3.660333  [152582/194147]\n"
     ]
    },
    {
     "name": "stderr",
     "output_type": "stream",
     "text": [
      "\n",
      " 41%|████      | 164/400 [55:29<1:19:28, 20.21s/it]\u001b[A"
     ]
    },
    {
     "name": "stdout",
     "output_type": "stream",
     "text": [
      "Validation set: Loss: 3.69828\n",
      "EarlyStopping counter: 2 out of 10\n",
      "\n",
      "\n",
      "loss: 3.688401  [50182/194147]\n",
      "loss: 3.711505  [101382/194147]\n",
      "loss: 3.719897  [152582/194147]\n"
     ]
    },
    {
     "name": "stderr",
     "output_type": "stream",
     "text": [
      "\n",
      " 41%|████▏     | 165/400 [55:49<1:19:13, 20.23s/it]\u001b[A"
     ]
    },
    {
     "name": "stdout",
     "output_type": "stream",
     "text": [
      "Validation set: Loss: 3.69800\n",
      "Validation loss decreased (3.698082 --> 3.697995).  Saving model ...\n",
      "\n",
      "\n",
      "loss: 3.695908  [50182/194147]\n",
      "loss: 3.600936  [101382/194147]\n",
      "loss: 3.720027  [152582/194147]\n"
     ]
    },
    {
     "name": "stderr",
     "output_type": "stream",
     "text": [
      "\n",
      " 42%|████▏     | 166/400 [56:10<1:19:25, 20.36s/it]\u001b[A"
     ]
    },
    {
     "name": "stdout",
     "output_type": "stream",
     "text": [
      "Validation set: Loss: 3.69809\n",
      "EarlyStopping counter: 1 out of 10\n",
      "\n",
      "\n",
      "loss: 3.644881  [50182/194147]\n",
      "loss: 3.650419  [101382/194147]\n",
      "loss: 3.694108  [152582/194147]\n"
     ]
    },
    {
     "name": "stderr",
     "output_type": "stream",
     "text": [
      "\n",
      " 42%|████▏     | 167/400 [56:30<1:18:32, 20.23s/it]\u001b[A"
     ]
    },
    {
     "name": "stdout",
     "output_type": "stream",
     "text": [
      "Validation set: Loss: 3.69848\n",
      "EarlyStopping counter: 2 out of 10\n",
      "\n",
      "\n",
      "loss: 3.664114  [50182/194147]\n",
      "loss: 3.744619  [101382/194147]\n",
      "loss: 3.559517  [152582/194147]\n"
     ]
    },
    {
     "name": "stderr",
     "output_type": "stream",
     "text": [
      "\n",
      " 42%|████▏     | 168/400 [56:50<1:18:19, 20.26s/it]\u001b[A"
     ]
    },
    {
     "name": "stdout",
     "output_type": "stream",
     "text": [
      "Validation set: Loss: 3.69821\n",
      "EarlyStopping counter: 3 out of 10\n",
      "\n",
      "\n",
      "loss: 3.637157  [50182/194147]\n",
      "loss: 3.749092  [101382/194147]\n",
      "loss: 3.641283  [152582/194147]\n"
     ]
    },
    {
     "name": "stderr",
     "output_type": "stream",
     "text": [
      "\n",
      " 42%|████▏     | 169/400 [57:10<1:18:06, 20.29s/it]\u001b[A"
     ]
    },
    {
     "name": "stdout",
     "output_type": "stream",
     "text": [
      "Validation set: Loss: 3.69804\n",
      "EarlyStopping counter: 4 out of 10\n",
      "\n",
      "\n",
      "loss: 3.746296  [50182/194147]\n",
      "loss: 3.768747  [101382/194147]\n",
      "loss: 3.655540  [152582/194147]\n"
     ]
    },
    {
     "name": "stderr",
     "output_type": "stream",
     "text": [
      "\n",
      " 42%|████▎     | 170/400 [57:30<1:17:33, 20.23s/it]\u001b[A"
     ]
    },
    {
     "name": "stdout",
     "output_type": "stream",
     "text": [
      "Validation set: Loss: 3.69813\n",
      "EarlyStopping counter: 5 out of 10\n",
      "\n",
      "\n",
      "loss: 3.736783  [50182/194147]\n",
      "loss: 3.752479  [101382/194147]\n",
      "loss: 3.721691  [152582/194147]\n"
     ]
    },
    {
     "name": "stderr",
     "output_type": "stream",
     "text": [
      "\n",
      " 43%|████▎     | 171/400 [57:51<1:17:07, 20.21s/it]\u001b[A"
     ]
    },
    {
     "name": "stdout",
     "output_type": "stream",
     "text": [
      "Validation set: Loss: 3.69837\n",
      "EarlyStopping counter: 6 out of 10\n",
      "\n",
      "\n",
      "loss: 3.740242  [50182/194147]\n",
      "loss: 3.715493  [101382/194147]\n",
      "loss: 3.682746  [152582/194147]\n"
     ]
    },
    {
     "name": "stderr",
     "output_type": "stream",
     "text": [
      "\n",
      " 43%|████▎     | 172/400 [58:11<1:16:44, 20.20s/it]\u001b[A"
     ]
    },
    {
     "name": "stdout",
     "output_type": "stream",
     "text": [
      "Validation set: Loss: 3.69802\n",
      "EarlyStopping counter: 7 out of 10\n",
      "\n",
      "\n",
      "loss: 3.623120  [50182/194147]\n",
      "loss: 3.684337  [101382/194147]\n",
      "loss: 3.755893  [152582/194147]\n"
     ]
    },
    {
     "name": "stderr",
     "output_type": "stream",
     "text": [
      "\n",
      " 43%|████▎     | 173/400 [58:31<1:16:15, 20.15s/it]\u001b[A"
     ]
    },
    {
     "name": "stdout",
     "output_type": "stream",
     "text": [
      "Validation set: Loss: 3.69857\n",
      "EarlyStopping counter: 8 out of 10\n",
      "\n",
      "\n",
      "loss: 3.639536  [50182/194147]\n",
      "loss: 3.696474  [101382/194147]\n",
      "loss: 3.693434  [152582/194147]\n"
     ]
    },
    {
     "name": "stderr",
     "output_type": "stream",
     "text": [
      "\n",
      " 44%|████▎     | 174/400 [58:51<1:16:14, 20.24s/it]\u001b[A"
     ]
    },
    {
     "name": "stdout",
     "output_type": "stream",
     "text": [
      "Validation set: Loss: 3.69820\n",
      "EarlyStopping counter: 9 out of 10\n",
      "\n",
      "\n",
      "loss: 3.727555  [50182/194147]\n",
      "loss: 3.662810  [101382/194147]\n",
      "loss: 3.665909  [152582/194147]\n"
     ]
    },
    {
     "name": "stderr",
     "output_type": "stream",
     "text": [
      " 44%|████▎     | 174/400 [59:11<1:16:53, 20.41s/it]"
     ]
    },
    {
     "name": "stdout",
     "output_type": "stream",
     "text": [
      "Validation set: Loss: 3.69814\n",
      "EarlyStopping counter: 10 out of 10\n",
      "Done!\n"
     ]
    },
    {
     "name": "stderr",
     "output_type": "stream",
     "text": [
      "\n",
      " 80%|████████  | 4/5 [3:31:52<54:45, 3285.91s/it]  "
     ]
    },
    {
     "name": "stdout",
     "output_type": "stream",
     "text": [
      "Performing the ZILN pipeline for company 107800070\n"
     ]
    },
    {
     "name": "stderr",
     "output_type": "stream",
     "text": [
      "\n",
      "  0%|          | 0/400 [00:00<?, ?it/s]\u001b[A"
     ]
    },
    {
     "name": "stdout",
     "output_type": "stream",
     "text": [
      "\n",
      "\n",
      "loss: 8.277282  [50182/183007]\n",
      "loss: 6.496872  [101382/183007]\n",
      "loss: 5.345971  [152582/183007]\n"
     ]
    },
    {
     "name": "stderr",
     "output_type": "stream",
     "text": [
      "\n",
      "  0%|          | 1/400 [00:18<2:04:09, 18.67s/it]\u001b[A"
     ]
    },
    {
     "name": "stdout",
     "output_type": "stream",
     "text": [
      "Validation set: Loss: 4.97333\n",
      "Validation loss decreased (inf --> 4.973331).  Saving model ...\n",
      "\n",
      "\n",
      "loss: 4.580931  [50182/183007]\n",
      "loss: 4.526821  [101382/183007]\n",
      "loss: 4.492913  [152582/183007]\n"
     ]
    },
    {
     "name": "stderr",
     "output_type": "stream",
     "text": [
      "\n",
      "  0%|          | 2/400 [00:37<2:06:03, 19.00s/it]\u001b[A"
     ]
    },
    {
     "name": "stdout",
     "output_type": "stream",
     "text": [
      "Validation set: Loss: 4.43443\n",
      "Validation loss decreased (4.973331 --> 4.434426).  Saving model ...\n",
      "\n",
      "\n",
      "loss: 4.303841  [50182/183007]\n",
      "loss: 4.208626  [101382/183007]\n",
      "loss: 4.225764  [152582/183007]\n"
     ]
    },
    {
     "name": "stderr",
     "output_type": "stream",
     "text": [
      "\n",
      "  1%|          | 3/400 [00:56<2:05:01, 18.90s/it]\u001b[A"
     ]
    },
    {
     "name": "stdout",
     "output_type": "stream",
     "text": [
      "Validation set: Loss: 4.06405\n",
      "Validation loss decreased (4.434426 --> 4.064048).  Saving model ...\n",
      "\n",
      "\n",
      "loss: 4.178337  [50182/183007]\n",
      "loss: 4.046118  [101382/183007]\n",
      "loss: 3.944572  [152582/183007]\n"
     ]
    },
    {
     "name": "stderr",
     "output_type": "stream",
     "text": [
      "\n",
      "  1%|          | 4/400 [01:15<2:05:38, 19.04s/it]\u001b[A"
     ]
    },
    {
     "name": "stdout",
     "output_type": "stream",
     "text": [
      "Validation set: Loss: 4.01014\n",
      "Validation loss decreased (4.064048 --> 4.010139).  Saving model ...\n",
      "\n",
      "\n",
      "loss: 4.006280  [50182/183007]\n",
      "loss: 4.121493  [101382/183007]\n",
      "loss: 3.974946  [152582/183007]\n"
     ]
    },
    {
     "name": "stderr",
     "output_type": "stream",
     "text": [
      "\n",
      "  1%|▏         | 5/400 [01:35<2:05:38, 19.08s/it]\u001b[A"
     ]
    },
    {
     "name": "stdout",
     "output_type": "stream",
     "text": [
      "Validation set: Loss: 3.99885\n",
      "Validation loss decreased (4.010139 --> 3.998852).  Saving model ...\n",
      "\n",
      "\n",
      "loss: 4.049769  [50182/183007]\n",
      "loss: 3.961172  [101382/183007]\n",
      "loss: 4.009742  [152582/183007]\n"
     ]
    },
    {
     "name": "stderr",
     "output_type": "stream",
     "text": [
      "\n",
      "  2%|▏         | 6/400 [01:54<2:05:11, 19.06s/it]\u001b[A"
     ]
    },
    {
     "name": "stdout",
     "output_type": "stream",
     "text": [
      "Validation set: Loss: 3.99229\n",
      "Validation loss decreased (3.998852 --> 3.992287).  Saving model ...\n",
      "\n",
      "\n",
      "loss: 3.976431  [50182/183007]\n",
      "loss: 3.973388  [101382/183007]\n",
      "loss: 3.972043  [152582/183007]\n"
     ]
    },
    {
     "name": "stderr",
     "output_type": "stream",
     "text": [
      "\n",
      "  2%|▏         | 7/400 [02:13<2:05:00, 19.09s/it]\u001b[A"
     ]
    },
    {
     "name": "stdout",
     "output_type": "stream",
     "text": [
      "Validation set: Loss: 3.98866\n",
      "Validation loss decreased (3.992287 --> 3.988659).  Saving model ...\n",
      "\n",
      "\n",
      "loss: 4.039383  [50182/183007]\n",
      "loss: 3.999567  [101382/183007]\n",
      "loss: 4.048992  [152582/183007]\n"
     ]
    },
    {
     "name": "stderr",
     "output_type": "stream",
     "text": [
      "\n",
      "  2%|▏         | 8/400 [02:32<2:04:13, 19.01s/it]\u001b[A"
     ]
    },
    {
     "name": "stdout",
     "output_type": "stream",
     "text": [
      "Validation set: Loss: 3.98637\n",
      "Validation loss decreased (3.988659 --> 3.986365).  Saving model ...\n",
      "\n",
      "\n",
      "loss: 4.064106  [50182/183007]\n",
      "loss: 4.086186  [101382/183007]\n",
      "loss: 3.938867  [152582/183007]\n"
     ]
    },
    {
     "name": "stderr",
     "output_type": "stream",
     "text": [
      "\n",
      "  2%|▏         | 9/400 [02:51<2:04:02, 19.03s/it]\u001b[A"
     ]
    },
    {
     "name": "stdout",
     "output_type": "stream",
     "text": [
      "Validation set: Loss: 3.98494\n",
      "Validation loss decreased (3.986365 --> 3.984938).  Saving model ...\n",
      "\n",
      "\n",
      "loss: 3.989697  [50182/183007]\n",
      "loss: 4.044527  [101382/183007]\n",
      "loss: 3.968434  [152582/183007]\n"
     ]
    },
    {
     "name": "stderr",
     "output_type": "stream",
     "text": [
      "\n",
      "  2%|▎         | 10/400 [03:10<2:03:38, 19.02s/it]\u001b[A"
     ]
    },
    {
     "name": "stdout",
     "output_type": "stream",
     "text": [
      "Validation set: Loss: 3.98381\n",
      "Validation loss decreased (3.984938 --> 3.983814).  Saving model ...\n",
      "\n",
      "\n",
      "loss: 4.067925  [50182/183007]\n",
      "loss: 3.949346  [101382/183007]\n",
      "loss: 4.131765  [152582/183007]\n"
     ]
    },
    {
     "name": "stderr",
     "output_type": "stream",
     "text": [
      "\n",
      "  3%|▎         | 11/400 [03:29<2:03:09, 19.00s/it]\u001b[A"
     ]
    },
    {
     "name": "stdout",
     "output_type": "stream",
     "text": [
      "Validation set: Loss: 3.98308\n",
      "Validation loss decreased (3.983814 --> 3.983077).  Saving model ...\n",
      "\n",
      "\n",
      "loss: 4.011136  [50182/183007]\n",
      "loss: 3.968119  [101382/183007]\n",
      "loss: 3.982467  [152582/183007]\n"
     ]
    },
    {
     "name": "stderr",
     "output_type": "stream",
     "text": [
      "\n",
      "  3%|▎         | 12/400 [03:48<2:02:41, 18.97s/it]\u001b[A"
     ]
    },
    {
     "name": "stdout",
     "output_type": "stream",
     "text": [
      "Validation set: Loss: 3.98219\n",
      "Validation loss decreased (3.983077 --> 3.982191).  Saving model ...\n",
      "\n",
      "\n",
      "loss: 4.012824  [50182/183007]\n",
      "loss: 4.035407  [101382/183007]\n",
      "loss: 3.962680  [152582/183007]\n"
     ]
    },
    {
     "name": "stderr",
     "output_type": "stream",
     "text": [
      "\n",
      "  3%|▎         | 13/400 [04:06<2:01:58, 18.91s/it]\u001b[A"
     ]
    },
    {
     "name": "stdout",
     "output_type": "stream",
     "text": [
      "Validation set: Loss: 3.98183\n",
      "Validation loss decreased (3.982191 --> 3.981830).  Saving model ...\n",
      "\n",
      "\n",
      "loss: 4.050665  [50182/183007]\n",
      "loss: 4.010776  [101382/183007]\n",
      "loss: 4.034042  [152582/183007]\n"
     ]
    },
    {
     "name": "stderr",
     "output_type": "stream",
     "text": [
      "\n",
      "  4%|▎         | 14/400 [04:26<2:02:13, 19.00s/it]\u001b[A"
     ]
    },
    {
     "name": "stdout",
     "output_type": "stream",
     "text": [
      "Validation set: Loss: 3.98085\n",
      "Validation loss decreased (3.981830 --> 3.980850).  Saving model ...\n",
      "\n",
      "\n",
      "loss: 4.000261  [50182/183007]\n",
      "loss: 3.935543  [101382/183007]\n",
      "loss: 3.948360  [152582/183007]\n"
     ]
    },
    {
     "name": "stderr",
     "output_type": "stream",
     "text": [
      "\n",
      "  4%|▍         | 15/400 [04:45<2:02:30, 19.09s/it]\u001b[A"
     ]
    },
    {
     "name": "stdout",
     "output_type": "stream",
     "text": [
      "Validation set: Loss: 3.98005\n",
      "Validation loss decreased (3.980850 --> 3.980049).  Saving model ...\n",
      "\n",
      "\n",
      "loss: 4.039024  [50182/183007]\n",
      "loss: 3.942889  [101382/183007]\n",
      "loss: 4.030017  [152582/183007]\n"
     ]
    },
    {
     "name": "stderr",
     "output_type": "stream",
     "text": [
      "\n",
      "  4%|▍         | 16/400 [05:04<2:02:09, 19.09s/it]\u001b[A"
     ]
    },
    {
     "name": "stdout",
     "output_type": "stream",
     "text": [
      "Validation set: Loss: 3.97940\n",
      "Validation loss decreased (3.980049 --> 3.979400).  Saving model ...\n",
      "\n",
      "\n",
      "loss: 4.028610  [50182/183007]\n",
      "loss: 3.962108  [101382/183007]\n",
      "loss: 3.963238  [152582/183007]\n"
     ]
    },
    {
     "name": "stderr",
     "output_type": "stream",
     "text": [
      "\n",
      "  4%|▍         | 17/400 [05:23<2:02:02, 19.12s/it]\u001b[A"
     ]
    },
    {
     "name": "stdout",
     "output_type": "stream",
     "text": [
      "Validation set: Loss: 3.97875\n",
      "Validation loss decreased (3.979400 --> 3.978749).  Saving model ...\n",
      "\n",
      "\n",
      "loss: 3.924195  [50182/183007]\n",
      "loss: 3.999363  [101382/183007]\n",
      "loss: 4.059936  [152582/183007]\n"
     ]
    },
    {
     "name": "stderr",
     "output_type": "stream",
     "text": [
      "\n",
      "  4%|▍         | 18/400 [05:42<2:01:24, 19.07s/it]\u001b[A"
     ]
    },
    {
     "name": "stdout",
     "output_type": "stream",
     "text": [
      "Validation set: Loss: 3.97830\n",
      "Validation loss decreased (3.978749 --> 3.978295).  Saving model ...\n",
      "\n",
      "\n",
      "loss: 3.988158  [50182/183007]\n",
      "loss: 3.995634  [101382/183007]\n",
      "loss: 3.954587  [152582/183007]\n"
     ]
    },
    {
     "name": "stderr",
     "output_type": "stream",
     "text": [
      "\n",
      "  5%|▍         | 19/400 [06:01<2:01:21, 19.11s/it]\u001b[A"
     ]
    },
    {
     "name": "stdout",
     "output_type": "stream",
     "text": [
      "Validation set: Loss: 3.97762\n",
      "Validation loss decreased (3.978295 --> 3.977622).  Saving model ...\n",
      "\n",
      "\n",
      "loss: 3.942341  [50182/183007]\n",
      "loss: 4.011334  [101382/183007]\n",
      "loss: 4.043787  [152582/183007]\n"
     ]
    },
    {
     "name": "stderr",
     "output_type": "stream",
     "text": [
      "\n",
      "  5%|▌         | 20/400 [06:20<2:01:00, 19.11s/it]\u001b[A"
     ]
    },
    {
     "name": "stdout",
     "output_type": "stream",
     "text": [
      "Validation set: Loss: 3.97676\n",
      "Validation loss decreased (3.977622 --> 3.976758).  Saving model ...\n",
      "\n",
      "\n",
      "loss: 4.024942  [50182/183007]\n",
      "loss: 3.982827  [101382/183007]\n",
      "loss: 4.073091  [152582/183007]\n"
     ]
    },
    {
     "name": "stderr",
     "output_type": "stream",
     "text": [
      "\n",
      "  5%|▌         | 21/400 [06:39<2:00:11, 19.03s/it]\u001b[A"
     ]
    },
    {
     "name": "stdout",
     "output_type": "stream",
     "text": [
      "Validation set: Loss: 3.97630\n",
      "Validation loss decreased (3.976758 --> 3.976305).  Saving model ...\n",
      "\n",
      "\n",
      "loss: 4.042382  [50182/183007]\n",
      "loss: 4.023658  [101382/183007]\n",
      "loss: 3.980450  [152582/183007]\n"
     ]
    },
    {
     "name": "stderr",
     "output_type": "stream",
     "text": [
      "\n",
      "  6%|▌         | 22/400 [06:58<1:59:57, 19.04s/it]\u001b[A"
     ]
    },
    {
     "name": "stdout",
     "output_type": "stream",
     "text": [
      "Validation set: Loss: 3.97549\n",
      "Validation loss decreased (3.976305 --> 3.975486).  Saving model ...\n",
      "\n",
      "\n",
      "loss: 3.979614  [50182/183007]\n",
      "loss: 4.061126  [101382/183007]\n",
      "loss: 4.035553  [152582/183007]\n"
     ]
    },
    {
     "name": "stderr",
     "output_type": "stream",
     "text": [
      "\n",
      "  6%|▌         | 23/400 [07:17<1:59:22, 19.00s/it]\u001b[A"
     ]
    },
    {
     "name": "stdout",
     "output_type": "stream",
     "text": [
      "Validation set: Loss: 3.97514\n",
      "Validation loss decreased (3.975486 --> 3.975137).  Saving model ...\n",
      "\n",
      "\n",
      "loss: 3.882601  [50182/183007]\n",
      "loss: 3.973224  [101382/183007]\n",
      "loss: 4.045575  [152582/183007]\n"
     ]
    },
    {
     "name": "stderr",
     "output_type": "stream",
     "text": [
      "\n",
      "  6%|▌         | 24/400 [07:36<1:59:36, 19.09s/it]\u001b[A"
     ]
    },
    {
     "name": "stdout",
     "output_type": "stream",
     "text": [
      "Validation set: Loss: 3.97401\n",
      "Validation loss decreased (3.975137 --> 3.974009).  Saving model ...\n",
      "\n",
      "\n",
      "loss: 3.953012  [50182/183007]\n",
      "loss: 3.928114  [101382/183007]\n",
      "loss: 3.915548  [152582/183007]\n"
     ]
    },
    {
     "name": "stderr",
     "output_type": "stream",
     "text": [
      "\n",
      "  6%|▋         | 25/400 [07:56<1:59:18, 19.09s/it]\u001b[A"
     ]
    },
    {
     "name": "stdout",
     "output_type": "stream",
     "text": [
      "Validation set: Loss: 3.97342\n",
      "Validation loss decreased (3.974009 --> 3.973419).  Saving model ...\n",
      "\n",
      "\n",
      "loss: 3.951409  [50182/183007]\n",
      "loss: 3.971620  [101382/183007]\n",
      "loss: 3.909710  [152582/183007]\n"
     ]
    },
    {
     "name": "stderr",
     "output_type": "stream",
     "text": [
      "\n",
      "  6%|▋         | 26/400 [08:14<1:58:24, 19.00s/it]\u001b[A"
     ]
    },
    {
     "name": "stdout",
     "output_type": "stream",
     "text": [
      "Validation set: Loss: 3.97256\n",
      "Validation loss decreased (3.973419 --> 3.972562).  Saving model ...\n",
      "\n",
      "\n",
      "loss: 4.016149  [50182/183007]\n",
      "loss: 3.927707  [101382/183007]\n",
      "loss: 3.852136  [152582/183007]\n"
     ]
    },
    {
     "name": "stderr",
     "output_type": "stream",
     "text": [
      "\n",
      "  7%|▋         | 27/400 [08:33<1:58:02, 18.99s/it]\u001b[A"
     ]
    },
    {
     "name": "stdout",
     "output_type": "stream",
     "text": [
      "Validation set: Loss: 3.97174\n",
      "Validation loss decreased (3.972562 --> 3.971740).  Saving model ...\n",
      "\n",
      "\n",
      "loss: 3.970631  [50182/183007]\n",
      "loss: 3.921731  [101382/183007]\n",
      "loss: 3.975906  [152582/183007]\n"
     ]
    },
    {
     "name": "stderr",
     "output_type": "stream",
     "text": [
      "\n",
      "  7%|▋         | 28/400 [08:52<1:57:29, 18.95s/it]\u001b[A"
     ]
    },
    {
     "name": "stdout",
     "output_type": "stream",
     "text": [
      "Validation set: Loss: 3.97104\n",
      "Validation loss decreased (3.971740 --> 3.971036).  Saving model ...\n",
      "\n",
      "\n",
      "loss: 3.950572  [50182/183007]\n",
      "loss: 4.089388  [101382/183007]\n",
      "loss: 3.986284  [152582/183007]\n"
     ]
    },
    {
     "name": "stderr",
     "output_type": "stream",
     "text": [
      "\n",
      "  7%|▋         | 29/400 [09:11<1:57:44, 19.04s/it]\u001b[A"
     ]
    },
    {
     "name": "stdout",
     "output_type": "stream",
     "text": [
      "Validation set: Loss: 3.97012\n",
      "Validation loss decreased (3.971036 --> 3.970124).  Saving model ...\n",
      "\n",
      "\n",
      "loss: 4.049452  [50182/183007]\n",
      "loss: 3.863655  [101382/183007]\n",
      "loss: 3.976788  [152582/183007]\n"
     ]
    },
    {
     "name": "stderr",
     "output_type": "stream",
     "text": [
      "\n",
      "  8%|▊         | 30/400 [09:31<1:57:34, 19.07s/it]\u001b[A"
     ]
    },
    {
     "name": "stdout",
     "output_type": "stream",
     "text": [
      "Validation set: Loss: 3.96974\n",
      "Validation loss decreased (3.970124 --> 3.969742).  Saving model ...\n",
      "\n",
      "\n",
      "loss: 4.068209  [50182/183007]\n",
      "loss: 4.020008  [101382/183007]\n",
      "loss: 3.994360  [152582/183007]\n"
     ]
    },
    {
     "name": "stderr",
     "output_type": "stream",
     "text": [
      "\n",
      "  8%|▊         | 31/400 [09:49<1:57:00, 19.03s/it]\u001b[A"
     ]
    },
    {
     "name": "stdout",
     "output_type": "stream",
     "text": [
      "Validation set: Loss: 3.96879\n",
      "Validation loss decreased (3.969742 --> 3.968791).  Saving model ...\n",
      "\n",
      "\n",
      "loss: 3.869609  [50182/183007]\n",
      "loss: 3.914313  [101382/183007]\n",
      "loss: 3.882971  [152582/183007]\n"
     ]
    },
    {
     "name": "stderr",
     "output_type": "stream",
     "text": [
      "\n",
      "  8%|▊         | 32/400 [10:09<1:57:18, 19.13s/it]\u001b[A"
     ]
    },
    {
     "name": "stdout",
     "output_type": "stream",
     "text": [
      "Validation set: Loss: 3.96828\n",
      "Validation loss decreased (3.968791 --> 3.968278).  Saving model ...\n",
      "\n",
      "\n",
      "loss: 4.061154  [50182/183007]\n",
      "loss: 3.920601  [101382/183007]\n",
      "loss: 4.003937  [152582/183007]\n"
     ]
    },
    {
     "name": "stderr",
     "output_type": "stream",
     "text": [
      "\n",
      "  8%|▊         | 33/400 [10:28<1:56:34, 19.06s/it]\u001b[A"
     ]
    },
    {
     "name": "stdout",
     "output_type": "stream",
     "text": [
      "Validation set: Loss: 3.96737\n",
      "Validation loss decreased (3.968278 --> 3.967365).  Saving model ...\n",
      "\n",
      "\n",
      "loss: 3.951225  [50182/183007]\n",
      "loss: 4.013514  [101382/183007]\n",
      "loss: 4.024311  [152582/183007]\n"
     ]
    },
    {
     "name": "stderr",
     "output_type": "stream",
     "text": [
      "\n",
      "  8%|▊         | 34/400 [10:47<1:56:34, 19.11s/it]\u001b[A"
     ]
    },
    {
     "name": "stdout",
     "output_type": "stream",
     "text": [
      "Validation set: Loss: 3.96720\n",
      "Validation loss decreased (3.967365 --> 3.967204).  Saving model ...\n",
      "\n",
      "\n",
      "loss: 3.914966  [50182/183007]\n",
      "loss: 3.884320  [101382/183007]\n",
      "loss: 3.962736  [152582/183007]\n"
     ]
    },
    {
     "name": "stderr",
     "output_type": "stream",
     "text": [
      "\n",
      "  9%|▉         | 35/400 [11:06<1:56:14, 19.11s/it]\u001b[A"
     ]
    },
    {
     "name": "stdout",
     "output_type": "stream",
     "text": [
      "Validation set: Loss: 3.96616\n",
      "Validation loss decreased (3.967204 --> 3.966164).  Saving model ...\n",
      "\n",
      "\n",
      "loss: 3.960979  [50182/183007]\n",
      "loss: 3.933583  [101382/183007]\n",
      "loss: 3.921705  [152582/183007]\n"
     ]
    },
    {
     "name": "stderr",
     "output_type": "stream",
     "text": [
      "\n",
      "  9%|▉         | 36/400 [11:25<1:55:28, 19.03s/it]\u001b[A"
     ]
    },
    {
     "name": "stdout",
     "output_type": "stream",
     "text": [
      "Validation set: Loss: 3.96554\n",
      "Validation loss decreased (3.966164 --> 3.965535).  Saving model ...\n",
      "\n",
      "\n",
      "loss: 3.961800  [50182/183007]\n",
      "loss: 4.062230  [101382/183007]\n",
      "loss: 3.947163  [152582/183007]\n"
     ]
    },
    {
     "name": "stderr",
     "output_type": "stream",
     "text": [
      "\n",
      "  9%|▉         | 37/400 [11:44<1:55:34, 19.10s/it]\u001b[A"
     ]
    },
    {
     "name": "stdout",
     "output_type": "stream",
     "text": [
      "Validation set: Loss: 3.96499\n",
      "Validation loss decreased (3.965535 --> 3.964995).  Saving model ...\n",
      "\n",
      "\n",
      "loss: 4.004208  [50182/183007]\n",
      "loss: 3.955173  [101382/183007]\n",
      "loss: 3.887977  [152582/183007]\n"
     ]
    },
    {
     "name": "stderr",
     "output_type": "stream",
     "text": [
      "\n",
      " 10%|▉         | 38/400 [12:03<1:55:07, 19.08s/it]\u001b[A"
     ]
    },
    {
     "name": "stdout",
     "output_type": "stream",
     "text": [
      "Validation set: Loss: 3.96441\n",
      "Validation loss decreased (3.964995 --> 3.964414).  Saving model ...\n",
      "\n",
      "\n",
      "loss: 3.975541  [50182/183007]\n",
      "loss: 4.039177  [101382/183007]\n",
      "loss: 3.991274  [152582/183007]\n"
     ]
    },
    {
     "name": "stderr",
     "output_type": "stream",
     "text": [
      "\n",
      " 10%|▉         | 39/400 [12:23<1:55:12, 19.15s/it]\u001b[A"
     ]
    },
    {
     "name": "stdout",
     "output_type": "stream",
     "text": [
      "Validation set: Loss: 3.96422\n",
      "Validation loss decreased (3.964414 --> 3.964221).  Saving model ...\n",
      "\n",
      "\n",
      "loss: 3.999124  [50182/183007]\n",
      "loss: 4.009404  [101382/183007]\n",
      "loss: 3.845042  [152582/183007]\n"
     ]
    },
    {
     "name": "stderr",
     "output_type": "stream",
     "text": [
      "\n",
      " 10%|█         | 40/400 [12:42<1:54:35, 19.10s/it]\u001b[A"
     ]
    },
    {
     "name": "stdout",
     "output_type": "stream",
     "text": [
      "Validation set: Loss: 3.96387\n",
      "Validation loss decreased (3.964221 --> 3.963865).  Saving model ...\n",
      "\n",
      "\n",
      "loss: 3.984042  [50182/183007]\n",
      "loss: 4.024282  [101382/183007]\n",
      "loss: 3.997777  [152582/183007]\n"
     ]
    },
    {
     "name": "stderr",
     "output_type": "stream",
     "text": [
      "\n",
      " 10%|█         | 41/400 [13:01<1:54:12, 19.09s/it]\u001b[A"
     ]
    },
    {
     "name": "stdout",
     "output_type": "stream",
     "text": [
      "Validation set: Loss: 3.96320\n",
      "Validation loss decreased (3.963865 --> 3.963205).  Saving model ...\n",
      "\n",
      "\n",
      "loss: 3.959989  [50182/183007]\n",
      "loss: 3.911151  [101382/183007]\n",
      "loss: 3.962959  [152582/183007]\n"
     ]
    },
    {
     "name": "stderr",
     "output_type": "stream",
     "text": [
      "\n",
      " 10%|█         | 42/400 [13:20<1:54:08, 19.13s/it]\u001b[A"
     ]
    },
    {
     "name": "stdout",
     "output_type": "stream",
     "text": [
      "Validation set: Loss: 3.96319\n",
      "Validation loss decreased (3.963205 --> 3.963193).  Saving model ...\n",
      "\n",
      "\n",
      "loss: 3.979146  [50182/183007]\n",
      "loss: 3.976214  [101382/183007]\n",
      "loss: 3.882277  [152582/183007]\n"
     ]
    },
    {
     "name": "stderr",
     "output_type": "stream",
     "text": [
      "\n",
      " 11%|█         | 43/400 [13:39<1:53:07, 19.01s/it]\u001b[A"
     ]
    },
    {
     "name": "stdout",
     "output_type": "stream",
     "text": [
      "Validation set: Loss: 3.96318\n",
      "Validation loss decreased (3.963193 --> 3.963183).  Saving model ...\n",
      "\n",
      "\n",
      "loss: 3.938355  [50182/183007]\n",
      "loss: 4.032053  [101382/183007]\n",
      "loss: 4.009431  [152582/183007]\n"
     ]
    },
    {
     "name": "stderr",
     "output_type": "stream",
     "text": [
      "\n",
      " 11%|█         | 44/400 [13:58<1:53:15, 19.09s/it]\u001b[A"
     ]
    },
    {
     "name": "stdout",
     "output_type": "stream",
     "text": [
      "Validation set: Loss: 3.96234\n",
      "Validation loss decreased (3.963183 --> 3.962343).  Saving model ...\n",
      "\n",
      "\n",
      "loss: 3.974694  [50182/183007]\n",
      "loss: 3.964392  [101382/183007]\n",
      "loss: 4.029914  [152582/183007]\n"
     ]
    },
    {
     "name": "stderr",
     "output_type": "stream",
     "text": [
      "\n",
      " 11%|█▏        | 45/400 [14:17<1:53:12, 19.13s/it]\u001b[A"
     ]
    },
    {
     "name": "stdout",
     "output_type": "stream",
     "text": [
      "Validation set: Loss: 3.96224\n",
      "Validation loss decreased (3.962343 --> 3.962240).  Saving model ...\n",
      "\n",
      "\n",
      "loss: 3.896820  [50182/183007]\n",
      "loss: 3.894506  [101382/183007]\n",
      "loss: 3.932759  [152582/183007]\n"
     ]
    },
    {
     "name": "stderr",
     "output_type": "stream",
     "text": [
      "\n",
      " 12%|█▏        | 46/400 [14:36<1:52:26, 19.06s/it]\u001b[A"
     ]
    },
    {
     "name": "stdout",
     "output_type": "stream",
     "text": [
      "Validation set: Loss: 3.96195\n",
      "Validation loss decreased (3.962240 --> 3.961947).  Saving model ...\n",
      "\n",
      "\n",
      "loss: 3.863857  [50182/183007]\n",
      "loss: 4.092922  [101382/183007]\n",
      "loss: 3.903377  [152582/183007]\n"
     ]
    },
    {
     "name": "stderr",
     "output_type": "stream",
     "text": [
      "\n",
      " 12%|█▏        | 47/400 [14:55<1:52:23, 19.10s/it]\u001b[A"
     ]
    },
    {
     "name": "stdout",
     "output_type": "stream",
     "text": [
      "Validation set: Loss: 3.96143\n",
      "Validation loss decreased (3.961947 --> 3.961434).  Saving model ...\n",
      "\n",
      "\n",
      "loss: 4.079821  [50182/183007]\n",
      "loss: 3.944033  [101382/183007]\n",
      "loss: 4.031490  [152582/183007]\n"
     ]
    },
    {
     "name": "stderr",
     "output_type": "stream",
     "text": [
      "\n",
      " 12%|█▏        | 48/400 [15:14<1:51:39, 19.03s/it]\u001b[A"
     ]
    },
    {
     "name": "stdout",
     "output_type": "stream",
     "text": [
      "Validation set: Loss: 3.96103\n",
      "Validation loss decreased (3.961434 --> 3.961028).  Saving model ...\n",
      "\n",
      "\n",
      "loss: 3.909142  [50182/183007]\n",
      "loss: 3.931028  [101382/183007]\n",
      "loss: 3.947994  [152582/183007]\n"
     ]
    },
    {
     "name": "stderr",
     "output_type": "stream",
     "text": [
      "\n",
      " 12%|█▏        | 49/400 [15:33<1:51:36, 19.08s/it]\u001b[A"
     ]
    },
    {
     "name": "stdout",
     "output_type": "stream",
     "text": [
      "Validation set: Loss: 3.96120\n",
      "EarlyStopping counter: 1 out of 10\n",
      "\n",
      "\n",
      "loss: 3.939841  [50182/183007]\n",
      "loss: 3.904585  [101382/183007]\n",
      "loss: 3.980979  [152582/183007]\n"
     ]
    },
    {
     "name": "stderr",
     "output_type": "stream",
     "text": [
      "\n",
      " 12%|█▎        | 50/400 [15:52<1:51:23, 19.10s/it]\u001b[A"
     ]
    },
    {
     "name": "stdout",
     "output_type": "stream",
     "text": [
      "Validation set: Loss: 3.96063\n",
      "Validation loss decreased (3.961028 --> 3.960629).  Saving model ...\n",
      "\n",
      "\n",
      "loss: 3.881752  [50182/183007]\n",
      "loss: 3.930536  [101382/183007]\n",
      "loss: 4.043867  [152582/183007]\n"
     ]
    },
    {
     "name": "stderr",
     "output_type": "stream",
     "text": [
      "\n",
      " 13%|█▎        | 51/400 [16:11<1:51:04, 19.10s/it]\u001b[A"
     ]
    },
    {
     "name": "stdout",
     "output_type": "stream",
     "text": [
      "Validation set: Loss: 3.96060\n",
      "Validation loss decreased (3.960629 --> 3.960598).  Saving model ...\n",
      "\n",
      "\n",
      "loss: 3.913025  [50182/183007]\n",
      "loss: 4.011910  [101382/183007]\n",
      "loss: 4.026734  [152582/183007]\n"
     ]
    },
    {
     "name": "stderr",
     "output_type": "stream",
     "text": [
      "\n",
      " 13%|█▎        | 52/400 [16:30<1:50:36, 19.07s/it]\u001b[A"
     ]
    },
    {
     "name": "stdout",
     "output_type": "stream",
     "text": [
      "Validation set: Loss: 3.96056\n",
      "Validation loss decreased (3.960598 --> 3.960556).  Saving model ...\n",
      "\n",
      "\n",
      "loss: 4.012267  [50182/183007]\n",
      "loss: 3.990302  [101382/183007]\n",
      "loss: 3.858960  [152582/183007]\n"
     ]
    },
    {
     "name": "stderr",
     "output_type": "stream",
     "text": [
      "\n",
      " 13%|█▎        | 53/400 [16:49<1:49:52, 19.00s/it]\u001b[A"
     ]
    },
    {
     "name": "stdout",
     "output_type": "stream",
     "text": [
      "Validation set: Loss: 3.96034\n",
      "Validation loss decreased (3.960556 --> 3.960340).  Saving model ...\n",
      "\n",
      "\n",
      "loss: 4.050574  [50182/183007]\n",
      "loss: 4.008100  [101382/183007]\n",
      "loss: 3.873697  [152582/183007]\n"
     ]
    },
    {
     "name": "stderr",
     "output_type": "stream",
     "text": [
      "\n",
      " 14%|█▎        | 54/400 [17:09<1:50:16, 19.12s/it]\u001b[A"
     ]
    },
    {
     "name": "stdout",
     "output_type": "stream",
     "text": [
      "Validation set: Loss: 3.95985\n",
      "Validation loss decreased (3.960340 --> 3.959850).  Saving model ...\n",
      "\n",
      "\n",
      "loss: 4.005334  [50182/183007]\n",
      "loss: 3.880010  [101382/183007]\n",
      "loss: 3.918369  [152582/183007]\n"
     ]
    },
    {
     "name": "stderr",
     "output_type": "stream",
     "text": [
      "\n",
      " 14%|█▍        | 55/400 [17:28<1:50:10, 19.16s/it]\u001b[A"
     ]
    },
    {
     "name": "stdout",
     "output_type": "stream",
     "text": [
      "Validation set: Loss: 3.96005\n",
      "EarlyStopping counter: 1 out of 10\n",
      "\n",
      "\n",
      "loss: 3.976762  [50182/183007]\n",
      "loss: 3.933582  [101382/183007]\n",
      "loss: 4.161704  [152582/183007]\n"
     ]
    },
    {
     "name": "stderr",
     "output_type": "stream",
     "text": [
      "\n",
      " 14%|█▍        | 56/400 [17:47<1:49:27, 19.09s/it]\u001b[A"
     ]
    },
    {
     "name": "stdout",
     "output_type": "stream",
     "text": [
      "Validation set: Loss: 3.95963\n",
      "Validation loss decreased (3.959850 --> 3.959628).  Saving model ...\n",
      "\n",
      "\n",
      "loss: 3.827652  [50182/183007]\n",
      "loss: 3.935739  [101382/183007]\n",
      "loss: 3.931144  [152582/183007]\n"
     ]
    },
    {
     "name": "stderr",
     "output_type": "stream",
     "text": [
      "\n",
      " 14%|█▍        | 57/400 [18:06<1:49:03, 19.08s/it]\u001b[A"
     ]
    },
    {
     "name": "stdout",
     "output_type": "stream",
     "text": [
      "Validation set: Loss: 3.95963\n",
      "Validation loss decreased (3.959628 --> 3.959627).  Saving model ...\n",
      "\n",
      "\n",
      "loss: 3.902914  [50182/183007]\n",
      "loss: 4.044865  [101382/183007]\n",
      "loss: 4.004920  [152582/183007]\n"
     ]
    },
    {
     "name": "stderr",
     "output_type": "stream",
     "text": [
      "\n",
      " 14%|█▍        | 58/400 [18:25<1:48:37, 19.06s/it]\u001b[A"
     ]
    },
    {
     "name": "stdout",
     "output_type": "stream",
     "text": [
      "Validation set: Loss: 3.95957\n",
      "Validation loss decreased (3.959627 --> 3.959568).  Saving model ...\n",
      "\n",
      "\n",
      "loss: 3.924556  [50182/183007]\n",
      "loss: 3.874855  [101382/183007]\n",
      "loss: 4.043767  [152582/183007]\n"
     ]
    },
    {
     "name": "stderr",
     "output_type": "stream",
     "text": [
      "\n",
      " 15%|█▍        | 59/400 [18:44<1:48:23, 19.07s/it]\u001b[A"
     ]
    },
    {
     "name": "stdout",
     "output_type": "stream",
     "text": [
      "Validation set: Loss: 3.95949\n",
      "Validation loss decreased (3.959568 --> 3.959488).  Saving model ...\n",
      "\n",
      "\n",
      "loss: 3.943076  [50182/183007]\n",
      "loss: 4.033950  [101382/183007]\n",
      "loss: 3.989674  [152582/183007]\n"
     ]
    },
    {
     "name": "stderr",
     "output_type": "stream",
     "text": [
      "\n",
      " 15%|█▌        | 60/400 [19:03<1:48:38, 19.17s/it]\u001b[A"
     ]
    },
    {
     "name": "stdout",
     "output_type": "stream",
     "text": [
      "Validation set: Loss: 3.95924\n",
      "Validation loss decreased (3.959488 --> 3.959244).  Saving model ...\n",
      "\n",
      "\n",
      "loss: 3.856488  [50182/183007]\n",
      "loss: 3.887208  [101382/183007]\n",
      "loss: 3.889984  [152582/183007]\n"
     ]
    },
    {
     "name": "stderr",
     "output_type": "stream",
     "text": [
      "\n",
      " 15%|█▌        | 61/400 [19:22<1:48:02, 19.12s/it]\u001b[A"
     ]
    },
    {
     "name": "stdout",
     "output_type": "stream",
     "text": [
      "Validation set: Loss: 3.95895\n",
      "Validation loss decreased (3.959244 --> 3.958948).  Saving model ...\n",
      "\n",
      "\n",
      "loss: 3.968210  [50182/183007]\n",
      "loss: 4.007003  [101382/183007]\n",
      "loss: 3.921777  [152582/183007]\n"
     ]
    },
    {
     "name": "stderr",
     "output_type": "stream",
     "text": [
      "\n",
      " 16%|█▌        | 62/400 [19:42<1:48:20, 19.23s/it]\u001b[A"
     ]
    },
    {
     "name": "stdout",
     "output_type": "stream",
     "text": [
      "Validation set: Loss: 3.95930\n",
      "EarlyStopping counter: 1 out of 10\n",
      "\n",
      "\n",
      "loss: 4.066558  [50182/183007]\n",
      "loss: 3.919445  [101382/183007]\n",
      "loss: 3.981744  [152582/183007]\n"
     ]
    },
    {
     "name": "stderr",
     "output_type": "stream",
     "text": [
      "\n",
      " 16%|█▌        | 63/400 [20:01<1:47:26, 19.13s/it]\u001b[A"
     ]
    },
    {
     "name": "stdout",
     "output_type": "stream",
     "text": [
      "Validation set: Loss: 3.95874\n",
      "Validation loss decreased (3.958948 --> 3.958745).  Saving model ...\n",
      "\n",
      "\n",
      "loss: 3.941249  [50182/183007]\n",
      "loss: 4.049231  [101382/183007]\n",
      "loss: 3.949743  [152582/183007]\n"
     ]
    },
    {
     "name": "stderr",
     "output_type": "stream",
     "text": [
      "\n",
      " 16%|█▌        | 64/400 [20:20<1:47:13, 19.15s/it]\u001b[A"
     ]
    },
    {
     "name": "stdout",
     "output_type": "stream",
     "text": [
      "Validation set: Loss: 3.95883\n",
      "EarlyStopping counter: 1 out of 10\n",
      "\n",
      "\n",
      "loss: 3.933408  [50182/183007]\n",
      "loss: 3.847428  [101382/183007]\n",
      "loss: 3.973875  [152582/183007]\n"
     ]
    },
    {
     "name": "stderr",
     "output_type": "stream",
     "text": [
      "\n",
      " 16%|█▋        | 65/400 [20:39<1:47:13, 19.20s/it]\u001b[A"
     ]
    },
    {
     "name": "stdout",
     "output_type": "stream",
     "text": [
      "Validation set: Loss: 3.95861\n",
      "Validation loss decreased (3.958745 --> 3.958608).  Saving model ...\n",
      "\n",
      "\n",
      "loss: 4.083359  [50182/183007]\n",
      "loss: 4.091869  [101382/183007]\n",
      "loss: 3.888759  [152582/183007]\n"
     ]
    },
    {
     "name": "stderr",
     "output_type": "stream",
     "text": [
      "\n",
      " 16%|█▋        | 66/400 [20:58<1:46:37, 19.15s/it]\u001b[A"
     ]
    },
    {
     "name": "stdout",
     "output_type": "stream",
     "text": [
      "Validation set: Loss: 3.95856\n",
      "Validation loss decreased (3.958608 --> 3.958559).  Saving model ...\n",
      "\n",
      "\n",
      "loss: 3.909530  [50182/183007]\n",
      "loss: 3.940554  [101382/183007]\n",
      "loss: 3.960634  [152582/183007]\n"
     ]
    },
    {
     "name": "stderr",
     "output_type": "stream",
     "text": [
      "\n",
      " 17%|█▋        | 67/400 [21:18<1:46:19, 19.16s/it]\u001b[A"
     ]
    },
    {
     "name": "stdout",
     "output_type": "stream",
     "text": [
      "Validation set: Loss: 3.95913\n",
      "EarlyStopping counter: 1 out of 10\n",
      "\n",
      "\n",
      "loss: 3.952503  [50182/183007]\n",
      "loss: 3.829145  [101382/183007]\n",
      "loss: 3.954856  [152582/183007]\n"
     ]
    },
    {
     "name": "stderr",
     "output_type": "stream",
     "text": [
      "\n",
      " 17%|█▋        | 68/400 [21:36<1:45:34, 19.08s/it]\u001b[A"
     ]
    },
    {
     "name": "stdout",
     "output_type": "stream",
     "text": [
      "Validation set: Loss: 3.95837\n",
      "Validation loss decreased (3.958559 --> 3.958370).  Saving model ...\n",
      "\n",
      "\n",
      "loss: 3.875921  [50182/183007]\n",
      "loss: 3.962006  [101382/183007]\n",
      "loss: 3.992463  [152582/183007]\n"
     ]
    },
    {
     "name": "stderr",
     "output_type": "stream",
     "text": [
      "\n",
      " 17%|█▋        | 69/400 [21:56<1:45:29, 19.12s/it]\u001b[A"
     ]
    },
    {
     "name": "stdout",
     "output_type": "stream",
     "text": [
      "Validation set: Loss: 3.95805\n",
      "Validation loss decreased (3.958370 --> 3.958047).  Saving model ...\n",
      "\n",
      "\n",
      "loss: 4.032764  [50182/183007]\n",
      "loss: 3.894647  [101382/183007]\n",
      "loss: 3.991820  [152582/183007]\n"
     ]
    },
    {
     "name": "stderr",
     "output_type": "stream",
     "text": [
      "\n",
      " 18%|█▊        | 70/400 [22:15<1:45:29, 19.18s/it]\u001b[A"
     ]
    },
    {
     "name": "stdout",
     "output_type": "stream",
     "text": [
      "Validation set: Loss: 3.95809\n",
      "EarlyStopping counter: 1 out of 10\n",
      "\n",
      "\n",
      "loss: 3.922903  [50182/183007]\n",
      "loss: 3.995484  [101382/183007]\n",
      "loss: 3.969265  [152582/183007]\n"
     ]
    },
    {
     "name": "stderr",
     "output_type": "stream",
     "text": [
      "\n",
      " 18%|█▊        | 71/400 [22:34<1:44:37, 19.08s/it]\u001b[A"
     ]
    },
    {
     "name": "stdout",
     "output_type": "stream",
     "text": [
      "Validation set: Loss: 3.95828\n",
      "EarlyStopping counter: 2 out of 10\n",
      "\n",
      "\n",
      "loss: 3.862048  [50182/183007]\n",
      "loss: 3.986659  [101382/183007]\n",
      "loss: 4.044978  [152582/183007]\n"
     ]
    },
    {
     "name": "stderr",
     "output_type": "stream",
     "text": [
      "\n",
      " 18%|█▊        | 72/400 [22:53<1:44:49, 19.17s/it]\u001b[A"
     ]
    },
    {
     "name": "stdout",
     "output_type": "stream",
     "text": [
      "Validation set: Loss: 3.95802\n",
      "Validation loss decreased (3.958047 --> 3.958021).  Saving model ...\n",
      "\n",
      "\n",
      "loss: 3.891569  [50182/183007]\n",
      "loss: 3.959266  [101382/183007]\n",
      "loss: 3.956244  [152582/183007]\n"
     ]
    },
    {
     "name": "stderr",
     "output_type": "stream",
     "text": [
      "\n",
      " 18%|█▊        | 73/400 [23:12<1:44:33, 19.19s/it]\u001b[A"
     ]
    },
    {
     "name": "stdout",
     "output_type": "stream",
     "text": [
      "Validation set: Loss: 3.95789\n",
      "Validation loss decreased (3.958021 --> 3.957888).  Saving model ...\n",
      "\n",
      "\n",
      "loss: 4.000376  [50182/183007]\n",
      "loss: 3.875900  [101382/183007]\n",
      "loss: 3.966889  [152582/183007]\n"
     ]
    },
    {
     "name": "stderr",
     "output_type": "stream",
     "text": [
      "\n",
      " 18%|█▊        | 74/400 [23:32<1:44:13, 19.18s/it]\u001b[A"
     ]
    },
    {
     "name": "stdout",
     "output_type": "stream",
     "text": [
      "Validation set: Loss: 3.95777\n",
      "Validation loss decreased (3.957888 --> 3.957773).  Saving model ...\n",
      "\n",
      "\n",
      "loss: 4.004419  [50182/183007]\n",
      "loss: 3.959638  [101382/183007]\n",
      "loss: 3.948526  [152582/183007]\n"
     ]
    },
    {
     "name": "stderr",
     "output_type": "stream",
     "text": [
      "\n",
      " 19%|█▉        | 75/400 [23:51<1:43:33, 19.12s/it]\u001b[A"
     ]
    },
    {
     "name": "stdout",
     "output_type": "stream",
     "text": [
      "Validation set: Loss: 3.95819\n",
      "EarlyStopping counter: 1 out of 10\n",
      "\n",
      "\n",
      "loss: 3.942804  [50182/183007]\n",
      "loss: 3.992961  [101382/183007]\n",
      "loss: 3.911146  [152582/183007]\n"
     ]
    },
    {
     "name": "stderr",
     "output_type": "stream",
     "text": [
      "\n",
      " 19%|█▉        | 76/400 [24:09<1:42:49, 19.04s/it]\u001b[A"
     ]
    },
    {
     "name": "stdout",
     "output_type": "stream",
     "text": [
      "Validation set: Loss: 3.95771\n",
      "Validation loss decreased (3.957773 --> 3.957712).  Saving model ...\n",
      "\n",
      "\n",
      "loss: 3.949341  [50182/183007]\n",
      "loss: 4.060674  [101382/183007]\n",
      "loss: 3.997868  [152582/183007]\n"
     ]
    },
    {
     "name": "stderr",
     "output_type": "stream",
     "text": [
      "\n",
      " 19%|█▉        | 77/400 [24:28<1:42:24, 19.02s/it]\u001b[A"
     ]
    },
    {
     "name": "stdout",
     "output_type": "stream",
     "text": [
      "Validation set: Loss: 3.95757\n",
      "Validation loss decreased (3.957712 --> 3.957574).  Saving model ...\n",
      "\n",
      "\n",
      "loss: 4.006200  [50182/183007]\n",
      "loss: 4.021782  [101382/183007]\n",
      "loss: 3.946935  [152582/183007]\n"
     ]
    },
    {
     "name": "stderr",
     "output_type": "stream",
     "text": [
      "\n",
      " 20%|█▉        | 78/400 [24:47<1:42:03, 19.02s/it]\u001b[A"
     ]
    },
    {
     "name": "stdout",
     "output_type": "stream",
     "text": [
      "Validation set: Loss: 3.95784\n",
      "EarlyStopping counter: 1 out of 10\n",
      "\n",
      "\n",
      "loss: 4.057669  [50182/183007]\n",
      "loss: 3.930625  [101382/183007]\n",
      "loss: 3.995160  [152582/183007]\n"
     ]
    },
    {
     "name": "stderr",
     "output_type": "stream",
     "text": [
      "\n",
      " 20%|█▉        | 79/400 [25:07<1:41:57, 19.06s/it]\u001b[A"
     ]
    },
    {
     "name": "stdout",
     "output_type": "stream",
     "text": [
      "Validation set: Loss: 3.95738\n",
      "Validation loss decreased (3.957574 --> 3.957378).  Saving model ...\n",
      "\n",
      "\n",
      "loss: 3.880864  [50182/183007]\n",
      "loss: 3.948887  [101382/183007]\n",
      "loss: 3.914832  [152582/183007]\n"
     ]
    },
    {
     "name": "stderr",
     "output_type": "stream",
     "text": [
      "\n",
      " 20%|██        | 80/400 [25:25<1:41:25, 19.02s/it]\u001b[A"
     ]
    },
    {
     "name": "stdout",
     "output_type": "stream",
     "text": [
      "Validation set: Loss: 3.95733\n",
      "Validation loss decreased (3.957378 --> 3.957330).  Saving model ...\n",
      "\n",
      "\n",
      "loss: 3.947587  [50182/183007]\n",
      "loss: 3.914379  [101382/183007]\n",
      "loss: 3.959718  [152582/183007]\n"
     ]
    },
    {
     "name": "stderr",
     "output_type": "stream",
     "text": [
      "\n",
      " 20%|██        | 81/400 [25:45<1:41:27, 19.08s/it]\u001b[A"
     ]
    },
    {
     "name": "stdout",
     "output_type": "stream",
     "text": [
      "Validation set: Loss: 3.95729\n",
      "Validation loss decreased (3.957330 --> 3.957293).  Saving model ...\n",
      "\n",
      "\n",
      "loss: 3.982177  [50182/183007]\n",
      "loss: 4.006124  [101382/183007]\n",
      "loss: 3.958581  [152582/183007]\n"
     ]
    },
    {
     "name": "stderr",
     "output_type": "stream",
     "text": [
      "\n",
      " 20%|██        | 82/400 [26:04<1:41:16, 19.11s/it]\u001b[A"
     ]
    },
    {
     "name": "stdout",
     "output_type": "stream",
     "text": [
      "Validation set: Loss: 3.95783\n",
      "EarlyStopping counter: 1 out of 10\n",
      "\n",
      "\n",
      "loss: 3.904933  [50182/183007]\n",
      "loss: 3.847354  [101382/183007]\n",
      "loss: 3.968761  [152582/183007]\n"
     ]
    },
    {
     "name": "stderr",
     "output_type": "stream",
     "text": [
      "\n",
      " 21%|██        | 83/400 [26:23<1:41:03, 19.13s/it]\u001b[A"
     ]
    },
    {
     "name": "stdout",
     "output_type": "stream",
     "text": [
      "Validation set: Loss: 3.95726\n",
      "Validation loss decreased (3.957293 --> 3.957265).  Saving model ...\n",
      "\n",
      "\n",
      "loss: 4.032661  [50182/183007]\n",
      "loss: 3.981527  [101382/183007]\n",
      "loss: 3.952514  [152582/183007]\n"
     ]
    },
    {
     "name": "stderr",
     "output_type": "stream",
     "text": [
      "\n",
      " 21%|██        | 84/400 [26:42<1:40:37, 19.11s/it]\u001b[A"
     ]
    },
    {
     "name": "stdout",
     "output_type": "stream",
     "text": [
      "Validation set: Loss: 3.95718\n",
      "Validation loss decreased (3.957265 --> 3.957180).  Saving model ...\n",
      "\n",
      "\n",
      "loss: 3.870256  [50182/183007]\n",
      "loss: 3.942148  [101382/183007]\n",
      "loss: 3.992324  [152582/183007]\n"
     ]
    },
    {
     "name": "stderr",
     "output_type": "stream",
     "text": [
      "\n",
      " 21%|██▏       | 85/400 [27:01<1:40:23, 19.12s/it]\u001b[A"
     ]
    },
    {
     "name": "stdout",
     "output_type": "stream",
     "text": [
      "Validation set: Loss: 3.95722\n",
      "EarlyStopping counter: 1 out of 10\n",
      "\n",
      "\n",
      "loss: 4.004038  [50182/183007]\n",
      "loss: 3.992491  [101382/183007]\n",
      "loss: 3.817456  [152582/183007]\n"
     ]
    },
    {
     "name": "stderr",
     "output_type": "stream",
     "text": [
      "\n",
      " 22%|██▏       | 86/400 [27:20<1:39:38, 19.04s/it]\u001b[A"
     ]
    },
    {
     "name": "stdout",
     "output_type": "stream",
     "text": [
      "Validation set: Loss: 3.95743\n",
      "EarlyStopping counter: 2 out of 10\n",
      "\n",
      "\n",
      "loss: 3.905444  [50182/183007]\n",
      "loss: 3.984376  [101382/183007]\n",
      "loss: 3.849989  [152582/183007]\n"
     ]
    },
    {
     "name": "stderr",
     "output_type": "stream",
     "text": [
      "\n",
      " 22%|██▏       | 87/400 [27:39<1:39:41, 19.11s/it]\u001b[A"
     ]
    },
    {
     "name": "stdout",
     "output_type": "stream",
     "text": [
      "Validation set: Loss: 3.95740\n",
      "EarlyStopping counter: 3 out of 10\n",
      "\n",
      "\n",
      "loss: 4.058465  [50182/183007]\n",
      "loss: 3.927709  [101382/183007]\n",
      "loss: 3.784110  [152582/183007]\n"
     ]
    },
    {
     "name": "stderr",
     "output_type": "stream",
     "text": [
      "\n",
      " 22%|██▏       | 88/400 [27:58<1:39:15, 19.09s/it]\u001b[A"
     ]
    },
    {
     "name": "stdout",
     "output_type": "stream",
     "text": [
      "Validation set: Loss: 3.95685\n",
      "Validation loss decreased (3.957180 --> 3.956850).  Saving model ...\n",
      "\n",
      "\n",
      "loss: 3.969195  [50182/183007]\n",
      "loss: 4.013329  [101382/183007]\n",
      "loss: 3.881460  [152582/183007]\n"
     ]
    },
    {
     "name": "stderr",
     "output_type": "stream",
     "text": [
      "\n",
      " 22%|██▏       | 89/400 [28:18<1:39:28, 19.19s/it]\u001b[A"
     ]
    },
    {
     "name": "stdout",
     "output_type": "stream",
     "text": [
      "Validation set: Loss: 3.95737\n",
      "EarlyStopping counter: 1 out of 10\n",
      "\n",
      "\n",
      "loss: 3.893133  [50182/183007]\n",
      "loss: 3.866097  [101382/183007]\n",
      "loss: 3.945601  [152582/183007]\n"
     ]
    },
    {
     "name": "stderr",
     "output_type": "stream",
     "text": [
      "\n",
      " 22%|██▎       | 90/400 [28:37<1:39:17, 19.22s/it]\u001b[A"
     ]
    },
    {
     "name": "stdout",
     "output_type": "stream",
     "text": [
      "Validation set: Loss: 3.95766\n",
      "EarlyStopping counter: 2 out of 10\n",
      "\n",
      "\n",
      "loss: 3.932182  [50182/183007]\n",
      "loss: 3.942532  [101382/183007]\n",
      "loss: 3.862224  [152582/183007]\n"
     ]
    },
    {
     "name": "stderr",
     "output_type": "stream",
     "text": [
      "\n",
      " 23%|██▎       | 91/400 [28:56<1:38:15, 19.08s/it]\u001b[A"
     ]
    },
    {
     "name": "stdout",
     "output_type": "stream",
     "text": [
      "Validation set: Loss: 3.95673\n",
      "Validation loss decreased (3.956850 --> 3.956729).  Saving model ...\n",
      "\n",
      "\n",
      "loss: 3.916754  [50182/183007]\n",
      "loss: 3.925479  [101382/183007]\n",
      "loss: 4.005776  [152582/183007]\n"
     ]
    },
    {
     "name": "stderr",
     "output_type": "stream",
     "text": [
      "\n",
      " 23%|██▎       | 92/400 [29:15<1:37:37, 19.02s/it]\u001b[A"
     ]
    },
    {
     "name": "stdout",
     "output_type": "stream",
     "text": [
      "Validation set: Loss: 3.95714\n",
      "EarlyStopping counter: 1 out of 10\n",
      "\n",
      "\n",
      "loss: 4.010668  [50182/183007]\n",
      "loss: 3.965692  [101382/183007]\n",
      "loss: 3.912267  [152582/183007]\n"
     ]
    },
    {
     "name": "stderr",
     "output_type": "stream",
     "text": [
      "\n",
      " 23%|██▎       | 93/400 [29:34<1:37:19, 19.02s/it]\u001b[A"
     ]
    },
    {
     "name": "stdout",
     "output_type": "stream",
     "text": [
      "Validation set: Loss: 3.95676\n",
      "EarlyStopping counter: 2 out of 10\n",
      "\n",
      "\n",
      "loss: 3.966476  [50182/183007]\n",
      "loss: 4.054727  [101382/183007]\n",
      "loss: 3.928778  [152582/183007]\n"
     ]
    },
    {
     "name": "stderr",
     "output_type": "stream",
     "text": [
      "\n",
      " 24%|██▎       | 94/400 [29:53<1:37:17, 19.08s/it]\u001b[A"
     ]
    },
    {
     "name": "stdout",
     "output_type": "stream",
     "text": [
      "Validation set: Loss: 3.95681\n",
      "EarlyStopping counter: 3 out of 10\n",
      "\n",
      "\n",
      "loss: 4.037687  [50182/183007]\n",
      "loss: 4.100583  [101382/183007]\n",
      "loss: 4.027562  [152582/183007]\n"
     ]
    },
    {
     "name": "stderr",
     "output_type": "stream",
     "text": [
      "\n",
      " 24%|██▍       | 95/400 [30:13<1:37:35, 19.20s/it]\u001b[A"
     ]
    },
    {
     "name": "stdout",
     "output_type": "stream",
     "text": [
      "Validation set: Loss: 3.95739\n",
      "EarlyStopping counter: 4 out of 10\n",
      "\n",
      "\n",
      "loss: 3.937320  [50182/183007]\n",
      "loss: 3.955913  [101382/183007]\n",
      "loss: 4.111480  [152582/183007]\n"
     ]
    },
    {
     "name": "stderr",
     "output_type": "stream",
     "text": [
      "\n",
      " 24%|██▍       | 96/400 [30:31<1:36:46, 19.10s/it]\u001b[A"
     ]
    },
    {
     "name": "stdout",
     "output_type": "stream",
     "text": [
      "Validation set: Loss: 3.95674\n",
      "EarlyStopping counter: 5 out of 10\n",
      "\n",
      "\n",
      "loss: 4.035035  [50182/183007]\n",
      "loss: 3.952791  [101382/183007]\n",
      "loss: 3.979376  [152582/183007]\n"
     ]
    },
    {
     "name": "stderr",
     "output_type": "stream",
     "text": [
      "\n",
      " 24%|██▍       | 97/400 [30:51<1:36:48, 19.17s/it]\u001b[A"
     ]
    },
    {
     "name": "stdout",
     "output_type": "stream",
     "text": [
      "Validation set: Loss: 3.95659\n",
      "Validation loss decreased (3.956729 --> 3.956585).  Saving model ...\n",
      "\n",
      "\n",
      "loss: 3.891363  [50182/183007]\n",
      "loss: 4.029126  [101382/183007]\n",
      "loss: 3.923108  [152582/183007]\n"
     ]
    },
    {
     "name": "stderr",
     "output_type": "stream",
     "text": [
      "\n",
      " 24%|██▍       | 98/400 [31:10<1:36:35, 19.19s/it]\u001b[A"
     ]
    },
    {
     "name": "stdout",
     "output_type": "stream",
     "text": [
      "Validation set: Loss: 3.95674\n",
      "EarlyStopping counter: 1 out of 10\n",
      "\n",
      "\n",
      "loss: 3.947278  [50182/183007]\n",
      "loss: 3.991211  [101382/183007]\n",
      "loss: 4.044666  [152582/183007]\n"
     ]
    },
    {
     "name": "stderr",
     "output_type": "stream",
     "text": [
      "\n",
      " 25%|██▍       | 99/400 [31:29<1:35:49, 19.10s/it]\u001b[A"
     ]
    },
    {
     "name": "stdout",
     "output_type": "stream",
     "text": [
      "Validation set: Loss: 3.95687\n",
      "EarlyStopping counter: 2 out of 10\n",
      "\n",
      "\n",
      "loss: 4.049217  [50182/183007]\n",
      "loss: 3.892900  [101382/183007]\n",
      "loss: 4.040501  [152582/183007]\n"
     ]
    },
    {
     "name": "stderr",
     "output_type": "stream",
     "text": [
      "\n",
      " 25%|██▌       | 100/400 [31:48<1:35:48, 19.16s/it]\u001b[A"
     ]
    },
    {
     "name": "stdout",
     "output_type": "stream",
     "text": [
      "Validation set: Loss: 3.95672\n",
      "EarlyStopping counter: 3 out of 10\n",
      "\n",
      "\n",
      "loss: 4.019247  [50182/183007]\n",
      "loss: 3.851327  [101382/183007]\n",
      "loss: 3.893477  [152582/183007]\n"
     ]
    },
    {
     "name": "stderr",
     "output_type": "stream",
     "text": [
      "\n",
      " 25%|██▌       | 101/400 [32:07<1:35:01, 19.07s/it]\u001b[A"
     ]
    },
    {
     "name": "stdout",
     "output_type": "stream",
     "text": [
      "Validation set: Loss: 3.95655\n",
      "Validation loss decreased (3.956585 --> 3.956553).  Saving model ...\n",
      "\n",
      "\n",
      "loss: 3.964231  [50182/183007]\n",
      "loss: 3.967258  [101382/183007]\n",
      "loss: 4.067801  [152582/183007]\n"
     ]
    },
    {
     "name": "stderr",
     "output_type": "stream",
     "text": [
      "\n",
      " 26%|██▌       | 102/400 [32:26<1:35:21, 19.20s/it]\u001b[A"
     ]
    },
    {
     "name": "stdout",
     "output_type": "stream",
     "text": [
      "Validation set: Loss: 3.95667\n",
      "EarlyStopping counter: 1 out of 10\n",
      "\n",
      "\n",
      "loss: 3.857371  [50182/183007]\n",
      "loss: 3.960099  [101382/183007]\n",
      "loss: 3.991980  [152582/183007]\n"
     ]
    },
    {
     "name": "stderr",
     "output_type": "stream",
     "text": [
      "\n",
      " 26%|██▌       | 103/400 [32:45<1:34:40, 19.13s/it]\u001b[A"
     ]
    },
    {
     "name": "stdout",
     "output_type": "stream",
     "text": [
      "Validation set: Loss: 3.95692\n",
      "EarlyStopping counter: 2 out of 10\n",
      "\n",
      "\n",
      "loss: 4.066361  [50182/183007]\n",
      "loss: 3.947431  [101382/183007]\n",
      "loss: 3.946667  [152582/183007]\n"
     ]
    },
    {
     "name": "stderr",
     "output_type": "stream",
     "text": [
      "\n",
      " 26%|██▌       | 104/400 [33:04<1:33:43, 19.00s/it]\u001b[A"
     ]
    },
    {
     "name": "stdout",
     "output_type": "stream",
     "text": [
      "Validation set: Loss: 3.95641\n",
      "Validation loss decreased (3.956553 --> 3.956405).  Saving model ...\n",
      "\n",
      "\n",
      "loss: 3.947381  [50182/183007]\n",
      "loss: 3.923694  [101382/183007]\n",
      "loss: 3.887598  [152582/183007]\n"
     ]
    },
    {
     "name": "stderr",
     "output_type": "stream",
     "text": [
      "\n",
      " 26%|██▋       | 105/400 [33:23<1:33:19, 18.98s/it]\u001b[A"
     ]
    },
    {
     "name": "stdout",
     "output_type": "stream",
     "text": [
      "Validation set: Loss: 3.95633\n",
      "Validation loss decreased (3.956405 --> 3.956330).  Saving model ...\n",
      "\n",
      "\n",
      "loss: 4.012967  [50182/183007]\n",
      "loss: 4.038445  [101382/183007]\n",
      "loss: 3.878216  [152582/183007]\n"
     ]
    },
    {
     "name": "stderr",
     "output_type": "stream",
     "text": [
      "\n",
      " 26%|██▋       | 106/400 [33:42<1:33:05, 19.00s/it]\u001b[A"
     ]
    },
    {
     "name": "stdout",
     "output_type": "stream",
     "text": [
      "Validation set: Loss: 3.95664\n",
      "EarlyStopping counter: 1 out of 10\n",
      "\n",
      "\n",
      "loss: 3.907805  [50182/183007]\n",
      "loss: 3.934347  [101382/183007]\n",
      "loss: 3.964264  [152582/183007]\n"
     ]
    },
    {
     "name": "stderr",
     "output_type": "stream",
     "text": [
      "\n",
      " 27%|██▋       | 107/400 [34:01<1:32:55, 19.03s/it]\u001b[A"
     ]
    },
    {
     "name": "stdout",
     "output_type": "stream",
     "text": [
      "Validation set: Loss: 3.95623\n",
      "Validation loss decreased (3.956330 --> 3.956229).  Saving model ...\n",
      "\n",
      "\n",
      "loss: 4.033808  [50182/183007]\n",
      "loss: 3.996177  [101382/183007]\n",
      "loss: 3.925631  [152582/183007]\n"
     ]
    },
    {
     "name": "stderr",
     "output_type": "stream",
     "text": [
      "\n",
      " 27%|██▋       | 108/400 [34:20<1:32:23, 18.98s/it]\u001b[A"
     ]
    },
    {
     "name": "stdout",
     "output_type": "stream",
     "text": [
      "Validation set: Loss: 3.95687\n",
      "EarlyStopping counter: 1 out of 10\n",
      "\n",
      "\n",
      "loss: 3.979897  [50182/183007]\n",
      "loss: 3.970878  [101382/183007]\n",
      "loss: 3.965458  [152582/183007]\n"
     ]
    },
    {
     "name": "stderr",
     "output_type": "stream",
     "text": [
      "\n",
      " 27%|██▋       | 109/400 [34:39<1:31:52, 18.94s/it]\u001b[A"
     ]
    },
    {
     "name": "stdout",
     "output_type": "stream",
     "text": [
      "Validation set: Loss: 3.95643\n",
      "EarlyStopping counter: 2 out of 10\n",
      "\n",
      "\n",
      "loss: 3.940401  [50182/183007]\n",
      "loss: 4.021322  [101382/183007]\n",
      "loss: 4.035188  [152582/183007]\n"
     ]
    },
    {
     "name": "stderr",
     "output_type": "stream",
     "text": [
      "\n",
      " 28%|██▊       | 110/400 [34:58<1:31:58, 19.03s/it]\u001b[A"
     ]
    },
    {
     "name": "stdout",
     "output_type": "stream",
     "text": [
      "Validation set: Loss: 3.95654\n",
      "EarlyStopping counter: 3 out of 10\n",
      "\n",
      "\n",
      "loss: 3.908475  [50182/183007]\n",
      "loss: 4.041130  [101382/183007]\n",
      "loss: 3.996466  [152582/183007]\n"
     ]
    },
    {
     "name": "stderr",
     "output_type": "stream",
     "text": [
      "\n",
      " 28%|██▊       | 111/400 [35:17<1:31:45, 19.05s/it]\u001b[A"
     ]
    },
    {
     "name": "stdout",
     "output_type": "stream",
     "text": [
      "Validation set: Loss: 3.95627\n",
      "EarlyStopping counter: 4 out of 10\n",
      "\n",
      "\n",
      "loss: 3.906659  [50182/183007]\n",
      "loss: 3.959659  [101382/183007]\n",
      "loss: 3.906001  [152582/183007]\n"
     ]
    },
    {
     "name": "stderr",
     "output_type": "stream",
     "text": [
      "\n",
      " 28%|██▊       | 112/400 [35:36<1:31:13, 19.01s/it]\u001b[A"
     ]
    },
    {
     "name": "stdout",
     "output_type": "stream",
     "text": [
      "Validation set: Loss: 3.95619\n",
      "Validation loss decreased (3.956229 --> 3.956190).  Saving model ...\n",
      "\n",
      "\n",
      "loss: 3.961002  [50182/183007]\n",
      "loss: 3.954701  [101382/183007]\n",
      "loss: 3.937556  [152582/183007]\n"
     ]
    },
    {
     "name": "stderr",
     "output_type": "stream",
     "text": [
      "\n",
      " 28%|██▊       | 113/400 [35:55<1:31:02, 19.03s/it]\u001b[A"
     ]
    },
    {
     "name": "stdout",
     "output_type": "stream",
     "text": [
      "Validation set: Loss: 3.95641\n",
      "EarlyStopping counter: 1 out of 10\n",
      "\n",
      "\n",
      "loss: 3.955204  [50182/183007]\n",
      "loss: 3.915244  [101382/183007]\n",
      "loss: 4.057394  [152582/183007]\n"
     ]
    },
    {
     "name": "stderr",
     "output_type": "stream",
     "text": [
      "\n",
      " 28%|██▊       | 114/400 [36:14<1:30:23, 18.96s/it]\u001b[A"
     ]
    },
    {
     "name": "stdout",
     "output_type": "stream",
     "text": [
      "Validation set: Loss: 3.95628\n",
      "EarlyStopping counter: 2 out of 10\n",
      "\n",
      "\n",
      "loss: 3.949026  [50182/183007]\n",
      "loss: 4.024692  [101382/183007]\n",
      "loss: 3.936677  [152582/183007]\n"
     ]
    },
    {
     "name": "stderr",
     "output_type": "stream",
     "text": [
      "\n",
      " 29%|██▉       | 115/400 [36:33<1:30:32, 19.06s/it]\u001b[A"
     ]
    },
    {
     "name": "stdout",
     "output_type": "stream",
     "text": [
      "Validation set: Loss: 3.95655\n",
      "EarlyStopping counter: 3 out of 10\n",
      "\n",
      "\n",
      "loss: 3.957060  [50182/183007]\n",
      "loss: 3.993598  [101382/183007]\n",
      "loss: 3.930983  [152582/183007]\n"
     ]
    },
    {
     "name": "stderr",
     "output_type": "stream",
     "text": [
      "\n",
      " 29%|██▉       | 116/400 [36:52<1:29:56, 19.00s/it]\u001b[A"
     ]
    },
    {
     "name": "stdout",
     "output_type": "stream",
     "text": [
      "Validation set: Loss: 3.95617\n",
      "Validation loss decreased (3.956190 --> 3.956166).  Saving model ...\n",
      "\n",
      "\n",
      "loss: 3.953803  [50182/183007]\n",
      "loss: 4.007668  [101382/183007]\n",
      "loss: 3.943750  [152582/183007]\n"
     ]
    },
    {
     "name": "stderr",
     "output_type": "stream",
     "text": [
      "\n",
      " 29%|██▉       | 117/400 [37:11<1:29:43, 19.02s/it]\u001b[A"
     ]
    },
    {
     "name": "stdout",
     "output_type": "stream",
     "text": [
      "Validation set: Loss: 3.95641\n",
      "EarlyStopping counter: 1 out of 10\n",
      "\n",
      "\n",
      "loss: 3.939592  [50182/183007]\n",
      "loss: 4.001541  [101382/183007]\n",
      "loss: 3.972287  [152582/183007]\n"
     ]
    },
    {
     "name": "stderr",
     "output_type": "stream",
     "text": [
      "\n",
      " 30%|██▉       | 118/400 [37:31<1:29:54, 19.13s/it]\u001b[A"
     ]
    },
    {
     "name": "stdout",
     "output_type": "stream",
     "text": [
      "Validation set: Loss: 3.95613\n",
      "Validation loss decreased (3.956166 --> 3.956128).  Saving model ...\n",
      "\n",
      "\n",
      "loss: 3.946081  [50182/183007]\n",
      "loss: 3.948984  [101382/183007]\n",
      "loss: 4.007582  [152582/183007]\n"
     ]
    },
    {
     "name": "stderr",
     "output_type": "stream",
     "text": [
      "\n",
      " 30%|██▉       | 119/400 [37:49<1:29:07, 19.03s/it]\u001b[A"
     ]
    },
    {
     "name": "stdout",
     "output_type": "stream",
     "text": [
      "Validation set: Loss: 3.95598\n",
      "Validation loss decreased (3.956128 --> 3.955979).  Saving model ...\n",
      "\n",
      "\n",
      "loss: 3.950856  [50182/183007]\n",
      "loss: 3.930238  [101382/183007]\n",
      "loss: 3.970116  [152582/183007]\n"
     ]
    },
    {
     "name": "stderr",
     "output_type": "stream",
     "text": [
      "\n",
      " 30%|███       | 120/400 [38:09<1:29:17, 19.13s/it]\u001b[A"
     ]
    },
    {
     "name": "stdout",
     "output_type": "stream",
     "text": [
      "Validation set: Loss: 3.95616\n",
      "EarlyStopping counter: 1 out of 10\n",
      "\n",
      "\n",
      "loss: 3.867970  [50182/183007]\n",
      "loss: 4.075315  [101382/183007]\n",
      "loss: 4.049702  [152582/183007]\n"
     ]
    },
    {
     "name": "stderr",
     "output_type": "stream",
     "text": [
      "\n",
      " 30%|███       | 121/400 [38:28<1:28:51, 19.11s/it]\u001b[A"
     ]
    },
    {
     "name": "stdout",
     "output_type": "stream",
     "text": [
      "Validation set: Loss: 3.95624\n",
      "EarlyStopping counter: 2 out of 10\n",
      "\n",
      "\n",
      "loss: 3.953552  [50182/183007]\n",
      "loss: 3.968395  [101382/183007]\n",
      "loss: 4.053319  [152582/183007]\n"
     ]
    },
    {
     "name": "stderr",
     "output_type": "stream",
     "text": [
      "\n",
      " 30%|███       | 122/400 [38:47<1:28:32, 19.11s/it]\u001b[A"
     ]
    },
    {
     "name": "stdout",
     "output_type": "stream",
     "text": [
      "Validation set: Loss: 3.95620\n",
      "EarlyStopping counter: 3 out of 10\n",
      "\n",
      "\n",
      "loss: 3.986022  [50182/183007]\n",
      "loss: 4.018895  [101382/183007]\n",
      "loss: 4.008515  [152582/183007]\n"
     ]
    },
    {
     "name": "stderr",
     "output_type": "stream",
     "text": [
      "\n",
      " 31%|███       | 123/400 [39:07<1:28:49, 19.24s/it]\u001b[A"
     ]
    },
    {
     "name": "stdout",
     "output_type": "stream",
     "text": [
      "Validation set: Loss: 3.95599\n",
      "EarlyStopping counter: 4 out of 10\n",
      "\n",
      "\n",
      "loss: 3.999629  [50182/183007]\n",
      "loss: 4.046623  [101382/183007]\n",
      "loss: 4.092831  [152582/183007]\n"
     ]
    },
    {
     "name": "stderr",
     "output_type": "stream",
     "text": [
      "\n",
      " 31%|███       | 124/400 [39:25<1:27:48, 19.09s/it]\u001b[A"
     ]
    },
    {
     "name": "stdout",
     "output_type": "stream",
     "text": [
      "Validation set: Loss: 3.95604\n",
      "EarlyStopping counter: 5 out of 10\n",
      "\n",
      "\n",
      "loss: 3.992874  [50182/183007]\n",
      "loss: 3.987669  [101382/183007]\n",
      "loss: 3.950775  [152582/183007]\n"
     ]
    },
    {
     "name": "stderr",
     "output_type": "stream",
     "text": [
      "\n",
      " 31%|███▏      | 125/400 [39:45<1:27:46, 19.15s/it]\u001b[A"
     ]
    },
    {
     "name": "stdout",
     "output_type": "stream",
     "text": [
      "Validation set: Loss: 3.95624\n",
      "EarlyStopping counter: 6 out of 10\n",
      "\n",
      "\n",
      "loss: 3.889519  [50182/183007]\n",
      "loss: 3.974328  [101382/183007]\n",
      "loss: 3.874527  [152582/183007]\n"
     ]
    },
    {
     "name": "stderr",
     "output_type": "stream",
     "text": [
      "\n",
      " 32%|███▏      | 126/400 [40:03<1:27:04, 19.07s/it]\u001b[A"
     ]
    },
    {
     "name": "stdout",
     "output_type": "stream",
     "text": [
      "Validation set: Loss: 3.95594\n",
      "Validation loss decreased (3.955979 --> 3.955943).  Saving model ...\n",
      "\n",
      "\n",
      "loss: 4.002567  [50182/183007]\n",
      "loss: 3.945735  [101382/183007]\n",
      "loss: 3.920624  [152582/183007]\n"
     ]
    },
    {
     "name": "stderr",
     "output_type": "stream",
     "text": [
      "\n",
      " 32%|███▏      | 127/400 [40:23<1:27:28, 19.22s/it]\u001b[A"
     ]
    },
    {
     "name": "stdout",
     "output_type": "stream",
     "text": [
      "Validation set: Loss: 3.95605\n",
      "EarlyStopping counter: 1 out of 10\n",
      "\n",
      "\n",
      "loss: 3.983442  [50182/183007]\n",
      "loss: 4.008904  [101382/183007]\n",
      "loss: 3.947050  [152582/183007]\n"
     ]
    },
    {
     "name": "stderr",
     "output_type": "stream",
     "text": [
      "\n",
      " 32%|███▏      | 128/400 [40:42<1:27:03, 19.20s/it]\u001b[A"
     ]
    },
    {
     "name": "stdout",
     "output_type": "stream",
     "text": [
      "Validation set: Loss: 3.95617\n",
      "EarlyStopping counter: 2 out of 10\n",
      "\n",
      "\n",
      "loss: 3.883065  [50182/183007]\n",
      "loss: 3.914085  [101382/183007]\n",
      "loss: 3.921888  [152582/183007]\n"
     ]
    },
    {
     "name": "stderr",
     "output_type": "stream",
     "text": [
      "\n",
      " 32%|███▏      | 129/400 [41:01<1:26:20, 19.12s/it]\u001b[A"
     ]
    },
    {
     "name": "stdout",
     "output_type": "stream",
     "text": [
      "Validation set: Loss: 3.95614\n",
      "EarlyStopping counter: 3 out of 10\n",
      "\n",
      "\n",
      "loss: 3.966269  [50182/183007]\n",
      "loss: 4.006022  [101382/183007]\n",
      "loss: 4.004138  [152582/183007]\n"
     ]
    },
    {
     "name": "stderr",
     "output_type": "stream",
     "text": [
      "\n",
      " 32%|███▎      | 130/400 [41:21<1:26:38, 19.25s/it]\u001b[A"
     ]
    },
    {
     "name": "stdout",
     "output_type": "stream",
     "text": [
      "Validation set: Loss: 3.95597\n",
      "EarlyStopping counter: 4 out of 10\n",
      "\n",
      "\n",
      "loss: 3.934136  [50182/183007]\n",
      "loss: 3.874421  [101382/183007]\n",
      "loss: 3.916733  [152582/183007]\n"
     ]
    },
    {
     "name": "stderr",
     "output_type": "stream",
     "text": [
      "\n",
      " 33%|███▎      | 131/400 [41:40<1:25:50, 19.15s/it]\u001b[A"
     ]
    },
    {
     "name": "stdout",
     "output_type": "stream",
     "text": [
      "Validation set: Loss: 3.95602\n",
      "EarlyStopping counter: 5 out of 10\n",
      "\n",
      "\n",
      "loss: 4.037175  [50182/183007]\n",
      "loss: 3.930507  [101382/183007]\n",
      "loss: 4.015987  [152582/183007]\n"
     ]
    },
    {
     "name": "stderr",
     "output_type": "stream",
     "text": [
      "\n",
      " 33%|███▎      | 132/400 [41:59<1:25:37, 19.17s/it]\u001b[A"
     ]
    },
    {
     "name": "stdout",
     "output_type": "stream",
     "text": [
      "Validation set: Loss: 3.95631\n",
      "EarlyStopping counter: 6 out of 10\n",
      "\n",
      "\n",
      "loss: 4.083472  [50182/183007]\n",
      "loss: 3.995203  [101382/183007]\n",
      "loss: 3.883491  [152582/183007]\n"
     ]
    },
    {
     "name": "stderr",
     "output_type": "stream",
     "text": [
      "\n",
      " 33%|███▎      | 133/400 [42:18<1:25:20, 19.18s/it]\u001b[A"
     ]
    },
    {
     "name": "stdout",
     "output_type": "stream",
     "text": [
      "Validation set: Loss: 3.95601\n",
      "EarlyStopping counter: 7 out of 10\n",
      "\n",
      "\n",
      "loss: 3.990537  [50182/183007]\n",
      "loss: 3.989414  [101382/183007]\n",
      "loss: 3.967125  [152582/183007]\n"
     ]
    },
    {
     "name": "stderr",
     "output_type": "stream",
     "text": [
      "\n",
      " 34%|███▎      | 134/400 [42:37<1:25:10, 19.21s/it]\u001b[A"
     ]
    },
    {
     "name": "stdout",
     "output_type": "stream",
     "text": [
      "Validation set: Loss: 3.95595\n",
      "EarlyStopping counter: 8 out of 10\n",
      "\n",
      "\n",
      "loss: 3.984238  [50182/183007]\n",
      "loss: 4.053786  [101382/183007]\n",
      "loss: 3.904594  [152582/183007]\n"
     ]
    },
    {
     "name": "stderr",
     "output_type": "stream",
     "text": [
      "\n",
      " 34%|███▍      | 135/400 [42:57<1:25:10, 19.28s/it]\u001b[A"
     ]
    },
    {
     "name": "stdout",
     "output_type": "stream",
     "text": [
      "Validation set: Loss: 3.95627\n",
      "EarlyStopping counter: 9 out of 10\n",
      "\n",
      "\n",
      "loss: 4.016866  [50182/183007]\n",
      "loss: 3.977738  [101382/183007]\n",
      "loss: 3.964307  [152582/183007]\n"
     ]
    },
    {
     "name": "stderr",
     "output_type": "stream",
     "text": [
      " 34%|███▍      | 135/400 [43:16<1:24:56, 19.23s/it]"
     ]
    },
    {
     "name": "stdout",
     "output_type": "stream",
     "text": [
      "Validation set: Loss: 3.95595\n",
      "EarlyStopping counter: 10 out of 10\n",
      "Done!\n"
     ]
    },
    {
     "name": "stderr",
     "output_type": "stream",
     "text": [
      "\n",
      "100%|██████████| 5/5 [4:15:13<00:00, 3062.72s/it]\n"
     ]
    }
   ],
   "source": [
    "for i in tqdm(range(len(COMPANIES))):\n",
    "\n",
    "    report = pipeline_ziln(COMPANIES[i])\n",
    "\n",
    "    try:\n",
    "\n",
    "        report.to_csv(f'ziln_reports/{COMPANIES[i]}.csv', index=False)\n",
    "\n",
    "    except:\n",
    "\n",
    "        os.mkdir('ziln_reports')\n",
    "\n",
    "        report.to_csv(f'ziln_reports/{COMPANIES[i]}.csv', index=False)\n"
   ]
  }
 ],
 "metadata": {
  "colab": {
   "authorship_tag": "ABX9TyM02IQaWefV2SEXaZrcKuh/",
   "include_colab_link": true,
   "provenance": []
  },
  "kaggle": {
   "accelerator": "nvidiaTeslaT4",
   "dataSources": [],
   "dockerImageVersionId": 30787,
   "isGpuEnabled": true,
   "isInternetEnabled": true,
   "language": "python",
   "sourceType": "notebook"
  },
  "kernelspec": {
   "display_name": "Python 3",
   "language": "python",
   "name": "python3"
  },
  "language_info": {
   "codemirror_mode": {
    "name": "ipython",
    "version": 3
   },
   "file_extension": ".py",
   "mimetype": "text/x-python",
   "name": "python",
   "nbconvert_exporter": "python",
   "pygments_lexer": "ipython3",
   "version": "3.10.14"
  },
  "papermill": {
   "default_parameters": {},
   "duration": 15330.100015,
   "end_time": "2024-10-18T12:12:39.224467",
   "environment_variables": {},
   "exception": null,
   "input_path": "__notebook__.ipynb",
   "output_path": "__notebook__.ipynb",
   "parameters": {},
   "start_time": "2024-10-18T07:57:09.124452",
   "version": "2.6.0"
  }
 },
 "nbformat": 4,
 "nbformat_minor": 5
}
